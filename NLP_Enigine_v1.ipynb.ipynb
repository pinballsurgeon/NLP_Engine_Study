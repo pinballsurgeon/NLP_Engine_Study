{
 "cells": [
  {
   "cell_type": "code",
   "execution_count": null,
   "id": "0d033f88",
   "metadata": {},
   "outputs": [],
   "source": []
  },
  {
   "cell_type": "code",
   "execution_count": null,
   "id": "bc70a12f",
   "metadata": {},
   "outputs": [],
   "source": []
  },
  {
   "cell_type": "code",
   "execution_count": null,
   "id": "13049683",
   "metadata": {},
   "outputs": [],
   "source": [
    "\n"
   ]
  },
  {
   "cell_type": "code",
   "execution_count": null,
   "id": "8218355d",
   "metadata": {},
   "outputs": [],
   "source": [
    "!"
   ]
  },
  {
   "cell_type": "code",
   "execution_count": 465,
   "id": "05cab818",
   "metadata": {},
   "outputs": [
    {
     "name": "stderr",
     "output_type": "stream",
     "text": [
      "C:\\Users\\pinba\\anaconda3\\lib\\site-packages\\ipykernel\\ipkernel.py:287: DeprecationWarning:\n",
      "\n",
      "`should_run_async` will not call `transform_cell` automatically in the future. Please pass the result to `transformed_cell` argument and any exception that happen during thetransform in `preprocessing_exc_tuple` in IPython 7.17 and above.\n",
      "\n"
     ]
    },
    {
     "name": "stdout",
     "output_type": "stream",
     "text": [
      "Collecting xgboost\n",
      "  Downloading xgboost-1.4.2-py3-none-win_amd64.whl (97.8 MB)\n",
      "Requirement already satisfied: numpy in c:\\users\\pinba\\anaconda3\\lib\\site-packages (from xgboost) (1.20.1)\n",
      "Requirement already satisfied: scipy in c:\\users\\pinba\\anaconda3\\lib\\site-packages (from xgboost) (1.6.2)\n",
      "Installing collected packages: xgboost\n",
      "Successfully installed xgboost-1.4.2\n"
     ]
    }
   ],
   "source": [
    "!pip install xgboost"
   ]
  },
  {
   "cell_type": "code",
   "execution_count": 466,
   "id": "8451b83c",
   "metadata": {},
   "outputs": [
    {
     "name": "stderr",
     "output_type": "stream",
     "text": [
      "C:\\Users\\pinba\\anaconda3\\lib\\site-packages\\ipykernel\\ipkernel.py:287: DeprecationWarning:\n",
      "\n",
      "`should_run_async` will not call `transform_cell` automatically in the future. Please pass the result to `transformed_cell` argument and any exception that happen during thetransform in `preprocessing_exc_tuple` in IPython 7.17 and above.\n",
      "\n"
     ]
    }
   ],
   "source": [
    "import numpy as np # linear algebra\n",
    "import spacy\n",
    "nlp = spacy.load('en_core_web_sm')\n",
    "import pandas as pd # data processing, CSV file I/O (e.g. pd.read_csv)\n",
    "import seaborn as sns\n",
    "import matplotlib.pyplot as plt\n",
    "from wordcloud import WordCloud\n",
    "import string\n",
    "import re\n",
    "from collections import Counter\n",
    "from time import time\n",
    "# from sklearn.feature_extraction.stop_words import ENGLISH_STOP_WORDS as stopwords\n",
    "from nltk.corpus import stopwords\n",
    "import nltk\n",
    "import plotly.offline as py\n",
    "import plotly.graph_objs as go\n",
    "import plotly.tools as tls\n",
    "%matplotlib inline\n",
    "import heapq\n",
    "from nltk                            import FreqDist\n",
    "import gensim\n",
    "from gensim                          import corpora\n",
    "import pyLDAvis\n",
    "import pyLDAvis.gensim_models as gensim\n",
    "from gensim.models                   import LdaModel\n",
    "from sklearn.ensemble                import RandomForestClassifier\n",
    "from sklearn.tree                    import DecisionTreeClassifier\n",
    "from sklearn.feature_extraction.text import TfidfVectorizer\n",
    "from sklearn.metrics                 import classification_report\n",
    "from sklearn.pipeline                import FeatureUnion\n",
    "from sklearn.pipeline                import Pipeline\n",
    "from sklearn.base                    import BaseEstimator, TransformerMixin\n",
    "from sklearn.decomposition           import NMF, LatentDirichletAllocation\n",
    "from sklearn.model_selection         import train_test_split\n",
    "from sklearn.model_selection         import RandomizedSearchCV\n",
    "from sklearn                         import metrics\n",
    "from typing                          import List\n",
    "from sklearn                         import tree\n",
    "from xgboost                         import XGBClassifier\n",
    "\n",
    "stopwords = stopwords.words('english')\n",
    "sns.set_context('notebook')"
   ]
  },
  {
   "cell_type": "code",
   "execution_count": null,
   "id": "cbad7779",
   "metadata": {},
   "outputs": [],
   "source": []
  },
  {
   "cell_type": "code",
   "execution_count": 291,
   "id": "c573ab8d",
   "metadata": {},
   "outputs": [
    {
     "name": "stderr",
     "output_type": "stream",
     "text": [
      "C:\\Users\\pinba\\anaconda3\\lib\\site-packages\\ipykernel\\ipkernel.py:287: DeprecationWarning:\n",
      "\n",
      "`should_run_async` will not call `transform_cell` automatically in the future. Please pass the result to `transformed_cell` argument and any exception that happen during thetransform in `preprocessing_exc_tuple` in IPython 7.17 and above.\n",
      "\n"
     ]
    }
   ],
   "source": [
    "class ItemSelector(BaseEstimator\n",
    "                  ,TransformerMixin):\n",
    "    \"\"\"\n",
    "    Parameters\n",
    "    ----------\n",
    "    key : hashable, required\n",
    "        The key corresponding to the desired value in a mappable.\n",
    "    \"\"\"\n",
    "    def __init__(self, key):\n",
    "        self.key = key\n",
    "\n",
    "    def fit(self, x, y=None):\n",
    "        return self\n",
    "\n",
    "    def transform(self, data_dict):\n",
    "        return data_dict[self.key]"
   ]
  },
  {
   "cell_type": "code",
   "execution_count": 341,
   "id": "ca8e0824",
   "metadata": {},
   "outputs": [
    {
     "name": "stderr",
     "output_type": "stream",
     "text": [
      "C:\\Users\\pinba\\anaconda3\\lib\\site-packages\\ipykernel\\ipkernel.py:287: DeprecationWarning:\n",
      "\n",
      "`should_run_async` will not call `transform_cell` automatically in the future. Please pass the result to `transformed_cell` argument and any exception that happen during thetransform in `preprocessing_exc_tuple` in IPython 7.17 and above.\n",
      "\n"
     ]
    }
   ],
   "source": [
    "def print_top_words(model, feature_names, n_top_words):\n",
    "    for topic_idx, topic in enumerate(model.components_):\n",
    "        message = \"Topic #%d: \" % topic_idx\n",
    "        message += \", \".join([feature_names[i]\n",
    "                             for i in topic.argsort()[:-n_top_words - 1:-1]])\n",
    "        print(message)\n",
    "    print()\n"
   ]
  },
  {
   "cell_type": "code",
   "execution_count": 347,
   "id": "07c23c72",
   "metadata": {},
   "outputs": [
    {
     "name": "stderr",
     "output_type": "stream",
     "text": [
      "C:\\Users\\pinba\\anaconda3\\lib\\site-packages\\ipykernel\\ipkernel.py:287: DeprecationWarning:\n",
      "\n",
      "`should_run_async` will not call `transform_cell` automatically in the future. Please pass the result to `transformed_cell` argument and any exception that happen during thetransform in `preprocessing_exc_tuple` in IPython 7.17 and above.\n",
      "\n"
     ]
    }
   ],
   "source": [
    "def extract_feature_names(model, name) -> List[str]:\n",
    "\n",
    "    if hasattr(model, \"get_feature_names\"):\n",
    "        return model.get_feature_names()\n",
    "    elif hasattr(model, \"n_clusters\"):\n",
    "        return [f\"{name}_{x}\" for x in range(model.n_clusters)]\n",
    "    elif hasattr(model, \"n_components\"):\n",
    "        return [f\"{name}_{x}\" for x in range(model.n_components)]\n",
    "    elif hasattr(model, \"components_\"):\n",
    "        n_components = model.components_.shape[0]\n",
    "        return [f\"{name}_{x}\" for x in range(n_components)]\n",
    "    elif hasattr(model, \"classes_\"):\n",
    "        return classes_\n",
    "    else:\n",
    "        return [name]"
   ]
  },
  {
   "cell_type": "code",
   "execution_count": null,
   "id": "020f9afd",
   "metadata": {},
   "outputs": [],
   "source": []
  },
  {
   "cell_type": "code",
   "execution_count": 292,
   "id": "078814ae",
   "metadata": {},
   "outputs": [
    {
     "name": "stdout",
     "output_type": "stream",
     "text": [
      "(387, 6)\n"
     ]
    },
    {
     "name": "stderr",
     "output_type": "stream",
     "text": [
      "C:\\Users\\pinba\\anaconda3\\lib\\site-packages\\ipykernel\\ipkernel.py:287: DeprecationWarning:\n",
      "\n",
      "`should_run_async` will not call `transform_cell` automatically in the future. Please pass the result to `transformed_cell` argument and any exception that happen during thetransform in `preprocessing_exc_tuple` in IPython 7.17 and above.\n",
      "\n"
     ]
    },
    {
     "data": {
      "text/html": [
       "<div>\n",
       "<style scoped>\n",
       "    .dataframe tbody tr th:only-of-type {\n",
       "        vertical-align: middle;\n",
       "    }\n",
       "\n",
       "    .dataframe tbody tr th {\n",
       "        vertical-align: top;\n",
       "    }\n",
       "\n",
       "    .dataframe thead th {\n",
       "        text-align: right;\n",
       "    }\n",
       "</style>\n",
       "<table border=\"1\" class=\"dataframe\">\n",
       "  <thead>\n",
       "    <tr style=\"text-align: right;\">\n",
       "      <th></th>\n",
       "      <th>RowCount</th>\n",
       "      <th>State</th>\n",
       "      <th>Metro</th>\n",
       "      <th>School</th>\n",
       "      <th>Rating</th>\n",
       "      <th>Review</th>\n",
       "    </tr>\n",
       "  </thead>\n",
       "  <tbody>\n",
       "    <tr>\n",
       "      <th>0</th>\n",
       "      <td>1</td>\n",
       "      <td>OK</td>\n",
       "      <td>Oklahoma City</td>\n",
       "      <td>Edmond Noth</td>\n",
       "      <td>3</td>\n",
       "      <td>I have enjoyed my time at ENHS but the way COV...</td>\n",
       "    </tr>\n",
       "    <tr>\n",
       "      <th>4</th>\n",
       "      <td>5</td>\n",
       "      <td>OK</td>\n",
       "      <td>Oklahoma City</td>\n",
       "      <td>Edmond Noth</td>\n",
       "      <td>3</td>\n",
       "      <td>Even while going through my parents' gritty cu...</td>\n",
       "    </tr>\n",
       "    <tr>\n",
       "      <th>8</th>\n",
       "      <td>9</td>\n",
       "      <td>OK</td>\n",
       "      <td>Oklahoma City</td>\n",
       "      <td>Edmond Noth</td>\n",
       "      <td>3</td>\n",
       "      <td>Edmond North high school is full of a diverse ...</td>\n",
       "    </tr>\n",
       "    <tr>\n",
       "      <th>14</th>\n",
       "      <td>15</td>\n",
       "      <td>OK</td>\n",
       "      <td>Oklahoma City</td>\n",
       "      <td>Edmond Noth</td>\n",
       "      <td>3</td>\n",
       "      <td>North high school has some serious issues with...</td>\n",
       "    </tr>\n",
       "    <tr>\n",
       "      <th>18</th>\n",
       "      <td>19</td>\n",
       "      <td>OK</td>\n",
       "      <td>Oklahoma City</td>\n",
       "      <td>Edmond Noth</td>\n",
       "      <td>3</td>\n",
       "      <td>North High School in Torrance is an a decent s...</td>\n",
       "    </tr>\n",
       "    <tr>\n",
       "      <th>23</th>\n",
       "      <td>24</td>\n",
       "      <td>OK</td>\n",
       "      <td>Oklahoma City</td>\n",
       "      <td>Edmond Noth</td>\n",
       "      <td>3</td>\n",
       "      <td>Academically it's a great school, but it's not...</td>\n",
       "    </tr>\n",
       "    <tr>\n",
       "      <th>31</th>\n",
       "      <td>32</td>\n",
       "      <td>OK</td>\n",
       "      <td>Oklahoma City</td>\n",
       "      <td>Edmond Noth</td>\n",
       "      <td>3</td>\n",
       "      <td>Why I wouldn't go to this school if I could do...</td>\n",
       "    </tr>\n",
       "    <tr>\n",
       "      <th>35</th>\n",
       "      <td>36</td>\n",
       "      <td>OK</td>\n",
       "      <td>Oklahoma City</td>\n",
       "      <td>Edmond Noth</td>\n",
       "      <td>3</td>\n",
       "      <td>The overall quality of the school itself is ve...</td>\n",
       "    </tr>\n",
       "    <tr>\n",
       "      <th>39</th>\n",
       "      <td>40</td>\n",
       "      <td>OK</td>\n",
       "      <td>Oklahoma City</td>\n",
       "      <td>Edmond Noth</td>\n",
       "      <td>3</td>\n",
       "      <td>There are a lot of diverse clubs and groups to...</td>\n",
       "    </tr>\n",
       "    <tr>\n",
       "      <th>44</th>\n",
       "      <td>45</td>\n",
       "      <td>OK</td>\n",
       "      <td>Oklahoma City</td>\n",
       "      <td>Edmond Noth</td>\n",
       "      <td>3</td>\n",
       "      <td>There are many clubs, but most do not particip...</td>\n",
       "    </tr>\n",
       "    <tr>\n",
       "      <th>48</th>\n",
       "      <td>49</td>\n",
       "      <td>OK</td>\n",
       "      <td>Oklahoma City</td>\n",
       "      <td>Edmond Noth</td>\n",
       "      <td>3</td>\n",
       "      <td>Some teachers go absolutely above and beyond t...</td>\n",
       "    </tr>\n",
       "    <tr>\n",
       "      <th>52</th>\n",
       "      <td>53</td>\n",
       "      <td>OK</td>\n",
       "      <td>Oklahoma City</td>\n",
       "      <td>Edmond Noth</td>\n",
       "      <td>3</td>\n",
       "      <td>I get band aids if I get a scrape, sanitary na...</td>\n",
       "    </tr>\n",
       "    <tr>\n",
       "      <th>56</th>\n",
       "      <td>57</td>\n",
       "      <td>OK</td>\n",
       "      <td>Oklahoma City</td>\n",
       "      <td>Edmond Noth</td>\n",
       "      <td>3</td>\n",
       "      <td>Many don't really commit to clubs. GSA, or QSA...</td>\n",
       "    </tr>\n",
       "    <tr>\n",
       "      <th>60</th>\n",
       "      <td>61</td>\n",
       "      <td>OK</td>\n",
       "      <td>Oklahoma City</td>\n",
       "      <td>Edmond Noth</td>\n",
       "      <td>3</td>\n",
       "      <td>I don't think anyone wants to relive their hig...</td>\n",
       "    </tr>\n",
       "    <tr>\n",
       "      <th>65</th>\n",
       "      <td>66</td>\n",
       "      <td>OK</td>\n",
       "      <td>Oklahoma City</td>\n",
       "      <td>Edmond Noth</td>\n",
       "      <td>3</td>\n",
       "      <td>i dont even know if we have a school nurse to ...</td>\n",
       "    </tr>\n",
       "    <tr>\n",
       "      <th>69</th>\n",
       "      <td>70</td>\n",
       "      <td>OK</td>\n",
       "      <td>Oklahoma City</td>\n",
       "      <td>Edmond Noth</td>\n",
       "      <td>3</td>\n",
       "      <td>The pressure parents put on the administration...</td>\n",
       "    </tr>\n",
       "    <tr>\n",
       "      <th>75</th>\n",
       "      <td>76</td>\n",
       "      <td>OK</td>\n",
       "      <td>Oklahoma City</td>\n",
       "      <td>Edmond Noth</td>\n",
       "      <td>3</td>\n",
       "      <td>It really depends on the teacher, i have three...</td>\n",
       "    </tr>\n",
       "    <tr>\n",
       "      <th>79</th>\n",
       "      <td>80</td>\n",
       "      <td>OK</td>\n",
       "      <td>Oklahoma City</td>\n",
       "      <td>Edmond Noth</td>\n",
       "      <td>3</td>\n",
       "      <td>Honestly, most teachers are pretty good and do...</td>\n",
       "    </tr>\n",
       "    <tr>\n",
       "      <th>83</th>\n",
       "      <td>84</td>\n",
       "      <td>OK</td>\n",
       "      <td>Oklahoma City</td>\n",
       "      <td>Edmond Noth</td>\n",
       "      <td>3</td>\n",
       "      <td>The nurse only there every other day, she/he i...</td>\n",
       "    </tr>\n",
       "    <tr>\n",
       "      <th>87</th>\n",
       "      <td>88</td>\n",
       "      <td>OK</td>\n",
       "      <td>Oklahoma City</td>\n",
       "      <td>Edmond Noth</td>\n",
       "      <td>3</td>\n",
       "      <td>North is an academically competitive school, w...</td>\n",
       "    </tr>\n",
       "    <tr>\n",
       "      <th>91</th>\n",
       "      <td>92</td>\n",
       "      <td>OK</td>\n",
       "      <td>Oklahoma City</td>\n",
       "      <td>Edmond Noth</td>\n",
       "      <td>3</td>\n",
       "      <td>this school has given me a great education and...</td>\n",
       "    </tr>\n",
       "    <tr>\n",
       "      <th>95</th>\n",
       "      <td>96</td>\n",
       "      <td>OK</td>\n",
       "      <td>Oklahoma City</td>\n",
       "      <td>Edmond Noth</td>\n",
       "      <td>3</td>\n",
       "      <td>Never been through the school system in the US...</td>\n",
       "    </tr>\n",
       "    <tr>\n",
       "      <th>101</th>\n",
       "      <td>102</td>\n",
       "      <td>OK</td>\n",
       "      <td>Oklahoma City</td>\n",
       "      <td>Edmond Noth</td>\n",
       "      <td>3</td>\n",
       "      <td>Since I just know what my child does I can't r...</td>\n",
       "    </tr>\n",
       "    <tr>\n",
       "      <th>105</th>\n",
       "      <td>106</td>\n",
       "      <td>OK</td>\n",
       "      <td>Oklahoma City</td>\n",
       "      <td>Edmond Noth</td>\n",
       "      <td>3</td>\n",
       "      <td>I guess mainly pretty average teachers. There ...</td>\n",
       "    </tr>\n",
       "    <tr>\n",
       "      <th>110</th>\n",
       "      <td>111</td>\n",
       "      <td>OK</td>\n",
       "      <td>Oklahoma City</td>\n",
       "      <td>Edmond Noth</td>\n",
       "      <td>3</td>\n",
       "      <td>They have all the rules in the student hand bo...</td>\n",
       "    </tr>\n",
       "  </tbody>\n",
       "</table>\n",
       "</div>"
      ],
      "text/plain": [
       "     RowCount State          Metro       School  Rating  \\\n",
       "0           1    OK  Oklahoma City  Edmond Noth       3   \n",
       "4           5    OK  Oklahoma City  Edmond Noth       3   \n",
       "8           9    OK  Oklahoma City  Edmond Noth       3   \n",
       "14         15    OK  Oklahoma City  Edmond Noth       3   \n",
       "18         19    OK  Oklahoma City  Edmond Noth       3   \n",
       "23         24    OK  Oklahoma City  Edmond Noth       3   \n",
       "31         32    OK  Oklahoma City  Edmond Noth       3   \n",
       "35         36    OK  Oklahoma City  Edmond Noth       3   \n",
       "39         40    OK  Oklahoma City  Edmond Noth       3   \n",
       "44         45    OK  Oklahoma City  Edmond Noth       3   \n",
       "48         49    OK  Oklahoma City  Edmond Noth       3   \n",
       "52         53    OK  Oklahoma City  Edmond Noth       3   \n",
       "56         57    OK  Oklahoma City  Edmond Noth       3   \n",
       "60         61    OK  Oklahoma City  Edmond Noth       3   \n",
       "65         66    OK  Oklahoma City  Edmond Noth       3   \n",
       "69         70    OK  Oklahoma City  Edmond Noth       3   \n",
       "75         76    OK  Oklahoma City  Edmond Noth       3   \n",
       "79         80    OK  Oklahoma City  Edmond Noth       3   \n",
       "83         84    OK  Oklahoma City  Edmond Noth       3   \n",
       "87         88    OK  Oklahoma City  Edmond Noth       3   \n",
       "91         92    OK  Oklahoma City  Edmond Noth       3   \n",
       "95         96    OK  Oklahoma City  Edmond Noth       3   \n",
       "101       102    OK  Oklahoma City  Edmond Noth       3   \n",
       "105       106    OK  Oklahoma City  Edmond Noth       3   \n",
       "110       111    OK  Oklahoma City  Edmond Noth       3   \n",
       "\n",
       "                                                Review  \n",
       "0    I have enjoyed my time at ENHS but the way COV...  \n",
       "4    Even while going through my parents' gritty cu...  \n",
       "8    Edmond North high school is full of a diverse ...  \n",
       "14   North high school has some serious issues with...  \n",
       "18   North High School in Torrance is an a decent s...  \n",
       "23   Academically it's a great school, but it's not...  \n",
       "31   Why I wouldn't go to this school if I could do...  \n",
       "35   The overall quality of the school itself is ve...  \n",
       "39   There are a lot of diverse clubs and groups to...  \n",
       "44   There are many clubs, but most do not particip...  \n",
       "48   Some teachers go absolutely above and beyond t...  \n",
       "52   I get band aids if I get a scrape, sanitary na...  \n",
       "56   Many don't really commit to clubs. GSA, or QSA...  \n",
       "60   I don't think anyone wants to relive their hig...  \n",
       "65   i dont even know if we have a school nurse to ...  \n",
       "69   The pressure parents put on the administration...  \n",
       "75   It really depends on the teacher, i have three...  \n",
       "79   Honestly, most teachers are pretty good and do...  \n",
       "83   The nurse only there every other day, she/he i...  \n",
       "87   North is an academically competitive school, w...  \n",
       "91   this school has given me a great education and...  \n",
       "95   Never been through the school system in the US...  \n",
       "101  Since I just know what my child does I can't r...  \n",
       "105  I guess mainly pretty average teachers. There ...  \n",
       "110  They have all the rules in the student hand bo...  "
      ]
     },
     "execution_count": 292,
     "metadata": {},
     "output_type": "execute_result"
    }
   ],
   "source": [
    "#reviews = pd.read_csv(\"north_avg_reviews - Sheet1.csv\", encoding='latin1')\n",
    "reviews = pd.read_csv(\"SCHOOL_RATING - Sheet1.csv\", encoding='latin1')\n",
    "\n",
    "reviews = reviews.dropna()\n",
    "\n",
    "# remove formatting and short stuff\n",
    "reviews.drop(reviews[reviews.Review.str.len() < 49].index, inplace=True)\n",
    "\n",
    "print(reviews.shape)\n",
    "reviews.head(25)\n"
   ]
  },
  {
   "cell_type": "code",
   "execution_count": 293,
   "id": "4222114b",
   "metadata": {},
   "outputs": [
    {
     "name": "stderr",
     "output_type": "stream",
     "text": [
      "C:\\Users\\pinba\\anaconda3\\lib\\site-packages\\ipykernel\\ipkernel.py:287: DeprecationWarning:\n",
      "\n",
      "`should_run_async` will not call `transform_cell` automatically in the future. Please pass the result to `transformed_cell` argument and any exception that happen during thetransform in `preprocessing_exc_tuple` in IPython 7.17 and above.\n",
      "\n"
     ]
    }
   ],
   "source": [
    "\n",
    "nlp = spacy.load('en_core_web_lg')\n",
    "def normalize_text(text):\n",
    "    tm1 = re.sub('<pre>.*?</pre>', '', text, flags=re.DOTALL)\n",
    "    tm2 = re.sub('<code>.*?</code>', '', tm1, flags=re.DOTALL)\n",
    "    tm3 = re.sub('<[^>]+>©', '', tm1, flags=re.DOTALL)\n",
    "    return tm3.replace(\"\\n\", \"\")"
   ]
  },
  {
   "cell_type": "code",
   "execution_count": 294,
   "id": "63f60139",
   "metadata": {},
   "outputs": [
    {
     "name": "stderr",
     "output_type": "stream",
     "text": [
      "C:\\Users\\pinba\\anaconda3\\lib\\site-packages\\ipykernel\\ipkernel.py:287: DeprecationWarning:\n",
      "\n",
      "`should_run_async` will not call `transform_cell` automatically in the future. Please pass the result to `transformed_cell` argument and any exception that happen during thetransform in `preprocessing_exc_tuple` in IPython 7.17 and above.\n",
      "\n"
     ]
    }
   ],
   "source": [
    "# in this step we are going to remove code syntax from text \n",
    "reviews['Review_Cleaned_1'] = reviews['Review'].apply(normalize_text)"
   ]
  },
  {
   "cell_type": "code",
   "execution_count": null,
   "id": "fa1ded83",
   "metadata": {},
   "outputs": [],
   "source": []
  },
  {
   "cell_type": "code",
   "execution_count": 295,
   "id": "930098f5",
   "metadata": {},
   "outputs": [
    {
     "name": "stderr",
     "output_type": "stream",
     "text": [
      "C:\\Users\\pinba\\anaconda3\\lib\\site-packages\\ipykernel\\ipkernel.py:287: DeprecationWarning:\n",
      "\n",
      "`should_run_async` will not call `transform_cell` automatically in the future. Please pass the result to `transformed_cell` argument and any exception that happen during thetransform in `preprocessing_exc_tuple` in IPython 7.17 and above.\n",
      "\n"
     ]
    }
   ],
   "source": [
    "punctuations = '!\"#$%&\\'()*+,-/:;<=>?@[\\\\]^_`{|}~©'\n",
    "# Define function to cleanup text by removing personal pronouns, stopwords, and puncuation\n",
    "def cleanup_text(docs, logging=False):\n",
    "    texts = []\n",
    "    doc = nlp(docs, disable=['parser', 'ner'])\n",
    "    tokens = [tok.lemma_.lower().strip() for tok in doc if tok.lemma_ != '-PRON-']\n",
    "    tokens = [tok for tok in tokens if tok not in stopwords and tok not in punctuations]\n",
    "    tokens = ' '.join(tokens)\n",
    "    texts.append(tokens)\n",
    "    return pd.Series(texts)\n",
    "\n",
    "\n",
    "reviews['Review_Cleaned'] = reviews['Review_Cleaned_1'].apply(lambda x: cleanup_text(x, False))"
   ]
  },
  {
   "cell_type": "code",
   "execution_count": null,
   "id": "555f7e46",
   "metadata": {},
   "outputs": [],
   "source": []
  },
  {
   "cell_type": "code",
   "execution_count": 296,
   "id": "780b32c6",
   "metadata": {},
   "outputs": [
    {
     "name": "stderr",
     "output_type": "stream",
     "text": [
      "C:\\Users\\pinba\\anaconda3\\lib\\site-packages\\ipykernel\\ipkernel.py:287: DeprecationWarning:\n",
      "\n",
      "`should_run_async` will not call `transform_cell` automatically in the future. Please pass the result to `transformed_cell` argument and any exception that happen during thetransform in `preprocessing_exc_tuple` in IPython 7.17 and above.\n",
      "\n"
     ]
    }
   ],
   "source": [
    "def generate_summary(text_without_removing_dot, cleaned_text):\n",
    "    sample_text = text_without_removing_dot\n",
    "    doc = nlp(sample_text)\n",
    "    sentence_list=[]\n",
    "    for idx, sentence in enumerate(doc.sents): # we are using spacy for sentence tokenization\n",
    "        sentence_list.append(re.sub(r'[^\\w\\s]','',str(sentence)))\n",
    "\n",
    "    stopwords = nltk.corpus.stopwords.words('english')\n",
    "\n",
    "    word_frequencies = {}  \n",
    "    for word in nltk.word_tokenize(cleaned_text):  \n",
    "        if word not in stopwords:\n",
    "            if word not in word_frequencies.keys():\n",
    "                word_frequencies[word] = 1\n",
    "            else:\n",
    "                word_frequencies[word] += 1\n",
    "\n",
    "\n",
    "    maximum_frequncy = max(word_frequencies.values())\n",
    "\n",
    "    for word in word_frequencies.keys():  \n",
    "        word_frequencies[word] = (word_frequencies[word]/maximum_frequncy)\n",
    "\n",
    "\n",
    "    sentence_scores = {}  \n",
    "    for sent in sentence_list:  \n",
    "        for word in nltk.word_tokenize(sent.lower()):\n",
    "            if word in word_frequencies.keys():\n",
    "                if len(sent.split(' ')) < 30:\n",
    "                    if sent not in sentence_scores.keys():\n",
    "                        sentence_scores[sent] = word_frequencies[word]\n",
    "                    else:\n",
    "                        sentence_scores[sent] += word_frequencies[word]\n",
    "\n",
    "\n",
    "    summary_sentences = heapq.nlargest(7, sentence_scores, key=sentence_scores.get)\n",
    "\n",
    "    summary = ' '.join(summary_sentences)\n",
    "    print(\"Original Text:\\n\")\n",
    "    print(text_without_removing_dot)\n",
    "    print('\\n\\nSummarized text:\\n')\n",
    "    print(summary)"
   ]
  },
  {
   "cell_type": "code",
   "execution_count": 297,
   "id": "9a309ba8",
   "metadata": {},
   "outputs": [
    {
     "name": "stderr",
     "output_type": "stream",
     "text": [
      "C:\\Users\\pinba\\anaconda3\\lib\\site-packages\\ipykernel\\ipkernel.py:287: DeprecationWarning:\n",
      "\n",
      "`should_run_async` will not call `transform_cell` automatically in the future. Please pass the result to `transformed_cell` argument and any exception that happen during thetransform in `preprocessing_exc_tuple` in IPython 7.17 and above.\n",
      "\n"
     ]
    },
    {
     "data": {
      "text/html": [
       "<div>\n",
       "<style scoped>\n",
       "    .dataframe tbody tr th:only-of-type {\n",
       "        vertical-align: middle;\n",
       "    }\n",
       "\n",
       "    .dataframe tbody tr th {\n",
       "        vertical-align: top;\n",
       "    }\n",
       "\n",
       "    .dataframe thead th {\n",
       "        text-align: right;\n",
       "    }\n",
       "</style>\n",
       "<table border=\"1\" class=\"dataframe\">\n",
       "  <thead>\n",
       "    <tr style=\"text-align: right;\">\n",
       "      <th></th>\n",
       "      <th>RowCount</th>\n",
       "      <th>State</th>\n",
       "      <th>Metro</th>\n",
       "      <th>School</th>\n",
       "      <th>Rating</th>\n",
       "      <th>Review</th>\n",
       "      <th>Review_Cleaned_1</th>\n",
       "      <th>Review_Cleaned</th>\n",
       "      <th>doc</th>\n",
       "    </tr>\n",
       "  </thead>\n",
       "  <tbody>\n",
       "    <tr>\n",
       "      <th>520</th>\n",
       "      <td>521</td>\n",
       "      <td>OK</td>\n",
       "      <td>Oklahoma City</td>\n",
       "      <td>Edmond Noth</td>\n",
       "      <td>3</td>\n",
       "      <td>They really only care about sports, namely foo...</td>\n",
       "      <td>They really only care about sports, namely foo...</td>\n",
       "      <td>really care sport namely football basketball ....</td>\n",
       "      <td>(They, really, only, care, about, sports, ,, n...</td>\n",
       "    </tr>\n",
       "    <tr>\n",
       "      <th>1258</th>\n",
       "      <td>1259</td>\n",
       "      <td>OK</td>\n",
       "      <td>Oklahoma City</td>\n",
       "      <td>Edmond Noth</td>\n",
       "      <td>2</td>\n",
       "      <td>Most of the teachers at North like there jobs ...</td>\n",
       "      <td>Most of the teachers at North like there jobs ...</td>\n",
       "      <td>teacher north like job good . however run occa...</td>\n",
       "      <td>(Most, of, the, teachers, at, North, like, the...</td>\n",
       "    </tr>\n",
       "    <tr>\n",
       "      <th>401</th>\n",
       "      <td>402</td>\n",
       "      <td>OK</td>\n",
       "      <td>Oklahoma City</td>\n",
       "      <td>Edmond Noth</td>\n",
       "      <td>3</td>\n",
       "      <td>I have not participated in very many clubs. I ...</td>\n",
       "      <td>I have not participated in very many clubs. I ...</td>\n",
       "      <td>participate many club . go fca fellowship chri...</td>\n",
       "      <td>(I, have, not, participated, in, very, many, c...</td>\n",
       "    </tr>\n",
       "  </tbody>\n",
       "</table>\n",
       "</div>"
      ],
      "text/plain": [
       "      RowCount State          Metro       School  Rating  \\\n",
       "520        521    OK  Oklahoma City  Edmond Noth       3   \n",
       "1258      1259    OK  Oklahoma City  Edmond Noth       2   \n",
       "401        402    OK  Oklahoma City  Edmond Noth       3   \n",
       "\n",
       "                                                 Review  \\\n",
       "520   They really only care about sports, namely foo...   \n",
       "1258  Most of the teachers at North like there jobs ...   \n",
       "401   I have not participated in very many clubs. I ...   \n",
       "\n",
       "                                       Review_Cleaned_1  \\\n",
       "520   They really only care about sports, namely foo...   \n",
       "1258  Most of the teachers at North like there jobs ...   \n",
       "401   I have not participated in very many clubs. I ...   \n",
       "\n",
       "                                         Review_Cleaned  \\\n",
       "520   really care sport namely football basketball ....   \n",
       "1258  teacher north like job good . however run occa...   \n",
       "401   participate many club . go fca fellowship chri...   \n",
       "\n",
       "                                                    doc  \n",
       "520   (They, really, only, care, about, sports, ,, n...  \n",
       "1258  (Most, of, the, teachers, at, North, like, the...  \n",
       "401   (I, have, not, participated, in, very, many, c...  "
      ]
     },
     "execution_count": 297,
     "metadata": {},
     "output_type": "execute_result"
    }
   ],
   "source": [
    "# Load model to return language object\n",
    "nlp = spacy.load('en_core_web_sm')\n",
    "# Calling nlp on our tweet texts to return a processed Doc for each\n",
    "reviews['doc'] = [nlp(Review) for Review in reviews.Review]\n",
    "reviews.sample(3)"
   ]
  },
  {
   "cell_type": "code",
   "execution_count": 298,
   "id": "03fdd8db",
   "metadata": {},
   "outputs": [
    {
     "name": "stderr",
     "output_type": "stream",
     "text": [
      "C:\\Users\\pinba\\anaconda3\\lib\\site-packages\\ipykernel\\ipkernel.py:287: DeprecationWarning:\n",
      "\n",
      "`should_run_async` will not call `transform_cell` automatically in the future. Please pass the result to `transformed_cell` argument and any exception that happen during thetransform in `preprocessing_exc_tuple` in IPython 7.17 and above.\n",
      "\n",
      "C:\\Users\\pinba\\anaconda3\\lib\\site-packages\\seaborn\\distributions.py:2557: FutureWarning:\n",
      "\n",
      "`distplot` is a deprecated function and will be removed in a future version. Please adapt your code to use either `displot` (a figure-level function with similar flexibility) or `histplot` (an axes-level function for histograms).\n",
      "\n"
     ]
    },
    {
     "data": {
      "image/png": "[encoded data removed]",
      "text/plain": [
       "<Figure size 432x288 with 1 Axes>"
      ]
     },
     "metadata": {
      "needs_background": "light"
     },
     "output_type": "display_data"
    }
   ],
   "source": [
    "# Sum the number of tokens in each Doc\n",
    "reviews['num_tokens'] = [len(token) for token in reviews.doc]\n",
    "# Visualize histogram of tokens per tweet\n",
    "g = sns.distplot(reviews.num_tokens)"
   ]
  },
  {
   "cell_type": "code",
   "execution_count": 299,
   "id": "d206e4a0",
   "metadata": {},
   "outputs": [
    {
     "name": "stderr",
     "output_type": "stream",
     "text": [
      "C:\\Users\\pinba\\anaconda3\\lib\\site-packages\\ipykernel\\ipkernel.py:287: DeprecationWarning:\n",
      "\n",
      "`should_run_async` will not call `transform_cell` automatically in the future. Please pass the result to `transformed_cell` argument and any exception that happen during thetransform in `preprocessing_exc_tuple` in IPython 7.17 and above.\n",
      "\n"
     ]
    }
   ],
   "source": [
    "# function to plot most frequent terms\n",
    "def freq_words(x, terms = 30):\n",
    "  all_words = ' '.join([text for text in x])\n",
    "  all_words = all_words.split()\n",
    "\n",
    "  fdist = FreqDist(all_words)\n",
    "  words_df = pd.DataFrame({'word':list(fdist.keys()), 'count':list(fdist.values())})\n",
    "\n",
    "  # selecting top 20 most frequent words\n",
    "  d = words_df.nlargest(columns=\"count\", n = terms) \n",
    "  plt.figure(figsize=(20,5))\n",
    "  ax = sns.barplot(data=d, x= \"word\", y = \"count\")\n",
    "  ax.set(ylabel = 'Count')\n",
    "  plt.show()"
   ]
  },
  {
   "cell_type": "code",
   "execution_count": 300,
   "id": "ff239da6",
   "metadata": {},
   "outputs": [
    {
     "name": "stderr",
     "output_type": "stream",
     "text": [
      "C:\\Users\\pinba\\anaconda3\\lib\\site-packages\\ipykernel\\ipkernel.py:287: DeprecationWarning:\n",
      "\n",
      "`should_run_async` will not call `transform_cell` automatically in the future. Please pass the result to `transformed_cell` argument and any exception that happen during thetransform in `preprocessing_exc_tuple` in IPython 7.17 and above.\n",
      "\n"
     ]
    },
    {
     "data": {
      "image/png": "[encoded data removed]",
      "text/plain": [
       "<Figure size 1440x360 with 1 Axes>"
      ]
     },
     "metadata": {
      "needs_background": "light"
     },
     "output_type": "display_data"
    }
   ],
   "source": [
    "freq_words(reviews['Review_Cleaned'])"
   ]
  },
  {
   "cell_type": "code",
   "execution_count": 301,
   "id": "0cf2dc71",
   "metadata": {},
   "outputs": [
    {
     "name": "stderr",
     "output_type": "stream",
     "text": [
      "C:\\Users\\pinba\\anaconda3\\lib\\site-packages\\ipykernel\\ipkernel.py:287: DeprecationWarning:\n",
      "\n",
      "`should_run_async` will not call `transform_cell` automatically in the future. Please pass the result to `transformed_cell` argument and any exception that happen during thetransform in `preprocessing_exc_tuple` in IPython 7.17 and above.\n",
      "\n",
      "<ipython-input-301-f2c53fdd6a2a>:2: FutureWarning:\n",
      "\n",
      "The default value of regex will change from True to False in a future version.\n",
      "\n"
     ]
    }
   ],
   "source": [
    "# remove unwanted characters, numbers and symbols\n",
    "reviews['Review_Cleaned'] = reviews['Review_Cleaned'].str.replace(\"[^a-zA-Z#]\", \" \")"
   ]
  },
  {
   "cell_type": "code",
   "execution_count": 302,
   "id": "6ee74f60",
   "metadata": {},
   "outputs": [
    {
     "name": "stderr",
     "output_type": "stream",
     "text": [
      "C:\\Users\\pinba\\anaconda3\\lib\\site-packages\\ipykernel\\ipkernel.py:287: DeprecationWarning:\n",
      "\n",
      "`should_run_async` will not call `transform_cell` automatically in the future. Please pass the result to `transformed_cell` argument and any exception that happen during thetransform in `preprocessing_exc_tuple` in IPython 7.17 and above.\n",
      "\n"
     ]
    }
   ],
   "source": [
    "# function to remove stopwords\n",
    "def remove_stopwords(rev):\n",
    "    stop_words = nltk.corpus.stopwords.words('english')\n",
    "    rev_new = \" \".join([i for i in rev if i not in stop_words])\n",
    "    return rev_new\n",
    "\n",
    "reviews_org = reviews\n",
    "\n",
    "# remove short words (length < 3)\n",
    "reviews['Review_Cleaned'] = reviews['Review_Cleaned'].apply(lambda x: ' '.join([w for w in x.split() if len(w)>2]))\n",
    "\n",
    "# remove stopwords from the text\n",
    "reviews = [remove_stopwords(r.split()) for r in reviews['Review_Cleaned']]\n",
    "\n",
    "# make entire text lowercase\n",
    "reviews = [r.lower() for r in reviews]"
   ]
  },
  {
   "cell_type": "code",
   "execution_count": 303,
   "id": "f9ca00d7",
   "metadata": {},
   "outputs": [
    {
     "name": "stderr",
     "output_type": "stream",
     "text": [
      "C:\\Users\\pinba\\anaconda3\\lib\\site-packages\\ipykernel\\ipkernel.py:287: DeprecationWarning:\n",
      "\n",
      "`should_run_async` will not call `transform_cell` automatically in the future. Please pass the result to `transformed_cell` argument and any exception that happen during thetransform in `preprocessing_exc_tuple` in IPython 7.17 and above.\n",
      "\n"
     ]
    },
    {
     "data": {
      "image/png": "[encoded data removed]",
      "text/plain": [
       "<Figure size 1440x360 with 1 Axes>"
      ]
     },
     "metadata": {
      "needs_background": "light"
     },
     "output_type": "display_data"
    }
   ],
   "source": [
    "freq_words(reviews, 35)"
   ]
  },
  {
   "cell_type": "code",
   "execution_count": 304,
   "id": "de65c1b2",
   "metadata": {},
   "outputs": [
    {
     "name": "stderr",
     "output_type": "stream",
     "text": [
      "C:\\Users\\pinba\\anaconda3\\lib\\site-packages\\ipykernel\\ipkernel.py:287: DeprecationWarning:\n",
      "\n",
      "`should_run_async` will not call `transform_cell` automatically in the future. Please pass the result to `transformed_cell` argument and any exception that happen during thetransform in `preprocessing_exc_tuple` in IPython 7.17 and above.\n",
      "\n"
     ]
    }
   ],
   "source": [
    "nlp = spacy.load('en_core_web_sm', disable=['parser', 'ner'])\n",
    "\n",
    "def lemmatization(texts, tags=['NOUN', 'ADJ']): # filter noun and adjective\n",
    "       output = []\n",
    "       for sent in texts:\n",
    "             doc = nlp(\" \".join(sent)) \n",
    "             output.append([token.lemma_ for token in doc if token.pos_ in tags])\n",
    "       return output"
   ]
  },
  {
   "cell_type": "code",
   "execution_count": 305,
   "id": "0d5977ca",
   "metadata": {},
   "outputs": [
    {
     "name": "stdout",
     "output_type": "stream",
     "text": [
      "['even', 'parent', 'gritty', 'custody', 'battle', 'throughout', 'high', 'school', 'edmond', 'north', 'able', 'push', 'graduation', 'many', 'mentionable', 'teacher', 'devout', 'principal', 'attitude', 'personality', 'may', 'always', 'match', 'angry', 'teenager', 'high', 'school', 'authority', 'hold', 'brian', 'excellente', 'mack', 'mitchell', 'rachel', 'gonzales', 'stark', 'move', 'high', 'regard', 'make', 'sure', 'succeed', 'study', 'stay', 'track', 'balto', 'week', 'always', 'beyond', 'memorable', 'strong', 'stand', 'memory', 'much', 'institution', 'could', 'come', 'together', 'charity', 'unite', 'one']\n"
     ]
    },
    {
     "name": "stderr",
     "output_type": "stream",
     "text": [
      "C:\\Users\\pinba\\anaconda3\\lib\\site-packages\\ipykernel\\ipkernel.py:287: DeprecationWarning:\n",
      "\n",
      "`should_run_async` will not call `transform_cell` automatically in the future. Please pass the result to `transformed_cell` argument and any exception that happen during thetransform in `preprocessing_exc_tuple` in IPython 7.17 and above.\n",
      "\n"
     ]
    }
   ],
   "source": [
    "tokenized_reviews = pd.Series(reviews).apply(lambda x: x.split())\n",
    "print(tokenized_reviews[1])"
   ]
  },
  {
   "cell_type": "code",
   "execution_count": 306,
   "id": "96d7a15a",
   "metadata": {},
   "outputs": [
    {
     "name": "stderr",
     "output_type": "stream",
     "text": [
      "C:\\Users\\pinba\\anaconda3\\lib\\site-packages\\ipykernel\\ipkernel.py:287: DeprecationWarning:\n",
      "\n",
      "`should_run_async` will not call `transform_cell` automatically in the future. Please pass the result to `transformed_cell` argument and any exception that happen during thetransform in `preprocessing_exc_tuple` in IPython 7.17 and above.\n",
      "\n"
     ]
    },
    {
     "name": "stdout",
     "output_type": "stream",
     "text": [
      "[['time', 'way', 'covid', 'teacher', 'nervous', 'counselor', 'long', 'answer', 'simple', 'question'], ['parent', 'gritty', 'custody', 'battle', 'high', 'school', 'edmond', 'north', 'able', 'graduation', 'many', 'mentionable', 'teacher', 'principal', 'attitude', 'personality', 'angry', 'high', 'school', 'authority', 'high', 'regard', 'sure', 'succeed', 'study', 'track', 'balto', 'week', 'memorable', 'strong', 'stand', 'memory', 'much', 'institution', 'charity'], ['school', 'full', 'diverse', 'crowd', 'people', 'club', 'activity', 'willing', 'time', 'jrotc', 'ffa', 'robotic', 'fun', 'half', 'year', 'full', 'meetng', 'new', 'people', 'friendly', 'teacher', 'willing', 'work', 'student', 'sure', 'class'], ['north', 'high', 'school', 'serious', 'issue', 'student', 'safe', 'drug', 'alcohol', 'seat', 'culture', 'freshman', 'senior', 'die', 'car', 'accident', 'due', 'substance', 'abuse', 'serious', 'problem', 'rich', 'student', 'parent', 'fund', 'school', 'say'], ['north', 'high', 'school', 'torrance', 'decent', 'school', 'teacher', 'inspire', 'staff', 'nice'], ['great', 'school', 'diverse', 'problem', 'school'], ['school', 'college', 'college'], ['overall', 'quality', 'school', 'nice', 'welcome', 'nerve', 'bunch', 'kid', 'class', 'teaching', 'style', 'visual', 'example', 'example'], ['lot', 'diverse', 'club', 'group', 'great', 'time', 'activity', 'effort', 'attention'], ['many', 'club'], ['teacher', 'help', 'student', 'worksheet', 'day', 'straight', 'power', 'point'], ['band', 'aid', 'pain', 'medication', 'call', 'mom'], ['many', 'club', 'qsa', 'school', 'positive', 'environment', 'many', 'sexual', 'minority', 'friend', 'place', 'home', 'public', 'vacinity', 'school', 'open', 'thing', 'many', 'student', 'support', 'safe', 'secure', 'change', 'poster', 'club', 'club', 'school', 'school', 'ground', 'club', 'float', 'school', 'parade', 'donation', 'club', 'assembly', 'contribution', 'donation', 'dollar', 'dollar', 'latin', 'club', 'introduction', 'student', 'body', 'people'], ['high', 'school', 'experience', 'awkward', 'kid', 'poor', 'district', 'kid', 'friend', 'many', 'people', 'smart', 'student', 'thing', 'hand', 'common', 'place', 'kid', 'class', 'story', 'demeanor', 'talk', 'classroom', 'group', 'class', 'mate', 'recreational', 'sex', 'night', 'everyday', 'thing', 'school', 'fight', 'love', 'year', 'vicious', 'case', 'senioritus', 'graduate', 'live', 'life', 'high', 'school', 'ready', 'life'], ['school', 'nurse', 'honest', 'cop', 'time', 'drug', 'search', 'tip', 'specific', 'student', 'search', 'car'], ['pressure', 'parent', 'administration', 'teacher', 'school', 'good', 'thing', 'force', 'administrator', 'child', 'student', 'number', 'cause', 'damage', 'teacher', 'alternative', 'way', 'thinking', 'student', 'hint', 'parent', 'wrong', 'lot', 'complaint', 'parent', 'fore', 'careful', 'impact', 'care', 'parent', 'problem', 'vicious', 'cycle'], ['teacher', 'teacher', 'student', 'hand', 'worksheet', 'help', 'half'], ['teacher', 'good', 'job', 'teacher', 'easy', 'student', 'engage', 'class', 'intimidate', 'arrogance', 'problem', 'new', 'teacher', 'college', 'authority', 'overall', 'teacher', 'easy', 'enjoyable', 'math', 'teacher', 'visual', 'learner', 'teacher', 'good', 'job'], ['nurse', 'day', 'consistent'], ['competitive', 'school', 'grade'], ['school', 'great', 'education', 'opportunity', 'competitive', 'top', 'cliquey', 'snobby', 'lot', 'opportunity', 'diverse'], ['school', 'system', 'kid', 'thrill', 'education', 'system', 'general', 'expensive'], ['know', 'child', 'rate', 'school', 'activity', 'club', 'good', 'blue', 'average'], ['average', 'teacher', 'student', 'second', 'need', 'poor', 'salary', 'state', 'school', 'employee'], ['rule', 'student', 'hand', 'book', 'problem', 'good'], ['extracurricular', 'school', 'worth', 'language', 'club', 'lot', 'fun', 'thing', 'language', 'club', 'key', 'club', 'club', 'yoga', 'club', 'anime', 'club', 'robotic', 'club', 'club', 'interesting', 'french', 'club', 'freshman', 'year', 'much', 'ice', 'skating', 'ice', 'cream'], ['high', 'school', 'sophomorejan', 'club', 'activity'], ['week', 'pretty', 'fun', 'assembly', 'school', 'boring', 'stuco', 'student', 'phone', 'stay', 'oreo', 'ball', 'balto', 'week', 'amaazing', 'school', 'parent', 'attention', 'kid', 'care', 'lot', 'people', 'school', 'opinion', 'preppy', 'rich', 'kid', 'stay', 'group', 'group', 'incident', 'people', 'racial', 'remark', 'insult'], ['high', 'school', 'sophomorejan', 'overall', 'experience'], ['athletic', 'foreign', 'language'], ['lot', 'club', 'organization', 'school', 'sponsor', 'teacher', 'club', 'husky', 'equality', 'lot', 'participation', 'due', 'level', 'involvement', 'community', 'club', 'fun', 'club', 'school', 'deca', 'business', 'compete', 'competition'], ['teacher', 'student', 'class', 'grade'], ['stuco', 'lead', 'activity', 'cater', 'desire', 'popular', 'kid', 'kid', 'unpopular', 'shallow', 'school', 'activity', 'minimal', 'group', 'student', 'apparent', 'discipline', 'student', 'several', 'student', 'teacher', 'principal', 'pet', 'thing', 'dress', 'code', 'case', 'high', 'quality', 'education', 'thankful', 'safe', 'school', 'terrible', 'experience', 'teacher', 'student'], ['parent', 'good'], ['teacher', 'interested', 'student', 'interested', 'teacher'], ['sport', 'language', 'club'], ['color', 'guard', 'program', 'art', 'program', 'phenomenal', 'sport', 'art', 'dump', 'school'], ['student', 'struggle', 'student', 'fall', 'crack'], ['education', 'good', 'school', 'unwelcoming'], ['lot', 'gossip', 'hard', 'friend', 'thing'], ['high', 'school', 'characterize', 'student', 'body', 'diverse', 'high', 'school', 'experience', 'day', 'interact', 'sort', 'people', 'athlete', 'chess', 'club', 'member', 'student', 'government', 'member', 'equal', 'right', 'activist', 'many', 'student', 'school', 'meet', 'face', 'possible', 'single', 'person', 'different', 'people', 'different', 'club', 'belief', 'style', 'economic', 'class', 'social', 'status', 'career', 'edmond', 'north'], ['edmond', 'much', 'school', 'spirit', 'school', 'good', 'pride', 'ambitiousness', 'put', 'lot', 'pressure', 'student', 'freshman', 'week', 'atmosphere', 'oppressive', 'teacher', 'agree', 'method'], ['high', 'school', 'overall', 'experience'], ['food', 'variety', 'good', 'good', 'bit', 'acceptable'], ['good', 'consistent', 'punishment', 'student', 'favorite', 'strict', 'policy', 'concern', 'attendance', 'school', 'rule'], ['deca', 'time', 'host', 'several', 'activity', 'fundraiser', 'plan', 'execute', 'relate', 'interest', 'business', 'world', 'school', 'year', 'time', 'exercise', 'gym', 'club', 'school', 'time', 'organization', 'school'], ['strict', 'dress', 'code', 'principal', 'super', 'chill'], ['school', 'spirit', 'bad', 'year', 'fundraising', 'week', 'intense'], ['senior', 'love', 'lunch', 'year', 'high', 'school', 'lunch', 'food', 'awful', 'bad', 'new', 'healthy', 'food', 'program', 'lot', 'option', 'food', 'taste', 'bad'], ['high', 'school', 'clic', 'care', 'lot', 'diversity', 'sexual', 'orientation'], ['principle', 'school', 'care', 'lot', 'student', 'enforce', 'rule', 'safe', 'dress', 'code', 'principle'], ['office', 'staff', 'school', 'first', 'staff', 'meet', 'people'], ['great', 'safety', 'police', 'campus', 'good', 'program', 'nurse', 'office', 'locate', 'school', 'town'], ['meal', 'option', 'enough', 'nutrition'], ['administration', 'good', 'many', 'student', 'healthy', 'safe', 'environment', 'help', 'right'], ['good', 'variety', 'course', 'extensive', 'offering', 'student', 'encourage', 'good', 'study', 'skill', 'critical', 'thinking'], ['facility', 'modern', 'clean', 'adequate', 'waste', 'good', 'bit', 'money', 'technology', 'helpful', 'learning', 'environment'], ['emphasis', 'sport', 'rampant', 'much', 'attention'], ['different', 'community', 'school', 'club'], ['academic', 'set', 'bar', 'state', 'great', 'gifted', 'student', 'school', 'north', 'breeze'], ['variety', 'sport', 'student', 'competitive', 'many', 'coach', 'subpar'], ['teacher', 'great', 'great', 'overall', 'decent', 'passion'], ['counselor', 'helpful', 'many', 'rule', 'enforce', 'rule', 'silly', 'first', 'place'], ['principal', 'job'], ['teacher', 'different', 'way', 'class', 'engage'], ['prepared', 'college', 'focus', 'end', 'instruction', 'stuff'], ['lunch', 'eat', 'lunch', 'school'], ['principal', 'corporate', 'ceo', 'student'], ['teacher', 'work', 'lot'], ['big', 'problem', 'dress', 'code', 'force', 'girl', 'aloud', 'show', 'shoulder', 'part', 'thigh', 'shoulder', 'classmate', 'aloud', 'wear', 'niki', 'ridiculous', 'uniform', 'acceptable', 'school', 'dress', 'code', 'student', 'popular', 'sport'], ['teacher', 'top', 'line', 'student', 'problem', 'teacher', 'student', 'student', 'scared', 'approach', 'principal', 'inform', 'principal', 'remarkable'], ['variety', 'food', 'food', 'lunch', 'cafeteria', 'portion', 'small', 'lunch', 'time', 'late', 'athlete', 'lot', 'calorie', 'awake', 'class', 'small', 'snack', 'late', 'day'], ['school', 'cafeteria', 'lunch', 'home', 'upcoming', 'year', 'senior', 'campus', 'lunch'], ['home', 'many', 'sound', 'family', 'certain', 'country', 'club', 'certain', 'brand', 'group', 'small', 'core', 'group', 'friend'], ['wide', 'range', 'class', 'offer', 'school', 'teacher', 'small', 'classroom', 'workload', 'easy', 'edmond', 'north', 'easy', 'teacher', 'student', 'main', 'complain', 'teacher', 'school', 'student', 'pass', 'class', 'subject', 'semester', 'year'], ['wide', 'range', 'choice', 'student', 'extracurricular', 'activity', 'many', 'activity', 'underdeveloped', 'poor', 'quality'], ['food', 'week', 'cycle'], ['lot', 'coach', 'subject', 'clue', 'real', 'teacher'], ['administration', 'lot', 'drama', 'department', 'project'], ['counselor', 'north', 'meet', 'request'], ['case', 'student', 'north'], ['difficult', 'place', 'big', 'kid', 'move', 'friend', 'many', 'clique'], ['whole', 'problem', 'cafeteria', 'fact', 'plan', 'student', 'school', 'run', 'food', 'day', 'long', 'student', 'move', 'line', 'travesty'], ['year', 'teacher', 'annoyed', 'idea', 'class', 'much'], ['attendance', 'secretary', 'unhelpful', 'terrific'], ['dress', 'code', 'enforce', 'attendance', 'policy', 'ridiculous', 'common', 'sense'], ['curriculum', 'real', 'world', 'application', 'show', 'world', 'work'], ['school', 'community', 'edmond', 'know', 'diversity', 'family', 'wealthy', 'overwhelming', 'majority', 'citizen', 'protestant', 'school', 'diverse', 'school', 'population', 'school', 'diversity', 'racial', 'ethnic', 'diversity', 'student', 'body', 'race', 'economic', 'status', 'religion', 'politic', 'sexual', 'orientation', 'school', 'judgmental', 'diversity', 'area', 'tolerant'], ['high', 'school', 'many', 'student', 'school', 'lunch', 'different', 'period', 'period', 'floor', 'table', 'cafeteria', 'clean'], ['food', 'good', 'bad', 'many', 'option', 'wide', 'variety', 'snack', 'food'], ['school', 'healthy', 'option', 'salad', 'vegetable', 'fruit', 'pizza', 'hut', 'sandwich', 'chickfila', 'month'], ['many', 'club', 'athlete', 'time', 'night', 'church', 'wednesday', 'spanish', 'club', 'spanish', 'administrative', 'support', 'teacher', 'support', 'teacher', 'care', 'student', 'work', 'church', 'family', 'commitment', 'school', 'club'], ['school', 'food', 'picky', 'senior', 'leave', 'campus'], ['typical', 'social', 'group', 'school', 'athlete', 'sport', 'easy', 'group', 'athletic', 'woman', 'choir', 'year', 'high', 'school', 'friend', 'difficult', 'friendship', 'schedule', 'interest', 'change', 'friend', 'value', 'change'], ['kid', 'live', 'edmond', 'group', 'much', 'diversity', 'middle', 'upper', 'class'], ['food', 'school', 'good', 'school', 'part', 'unappetizing', 'wish', 'wide', 'range', 'good', 'food'], ['lunch', 'school'], ['thing', 'student', 'time', 'time', 'extracurricular', 'activity', 'work'], ['safety', 'important', 'school', 'fake', 'student', 'staff', 'day', 'tight', 'security', 'drug', 'test', 'locker', 'school'], ['lot', 'diverse', 'student', 'respect', 'individual', 'interest', 'different', 'culture', 'ethnicity'], ['facility', 'clean', 'date', 'student', 'help'], ['food', 'rice', 'krispie', 'fruit', 'snack', 'day'], ['lot', 'problem', 'regard', 'acceptance', 'new', 'principal', 'school', 'spirit', 'quality', 'kindness'], ['many', 'opportunity', 'clique'], ['major', 'problem', 'north', 'due', 'poor', 'selection', 'head', 'staffing', 'position', 'population', 'large', 'principal', 'counselor', 'north', 'many', 'opportunity', 'multiple', 'class', 'spectacular', 'educator'], ['school', 'modern', 'computer', 'classroom', 'smart', 'board', 'parent', 'involvement', 'good', 'state', 'administrator', 'counselor', 'problem'], ['majority', 'school', 'routine', 'gay', 'norm', 'different', 'talk', 'thing', 'high', 'school', 'social', 'status', 'people', 'top', 'stop', 'sad', 'high', 'school', 'competition', 'race', 'much', 'factor', 'religion', 'sexual', 'orientation'], ['special', 'sushi', 'people', 'lot', 'different', 'option', 'day', 'school', 'food'], ['main', 'focus', 'football', 'sport', 'volleyball', 'attention', 'great', 'football', 'coach', 'program', 'amazing', 'student'], ['food', 'good', 'grant', 'make', 'day', 'pizza', 'sushi', 'multiple', 'option', 'case', 'day'], ['many', 'program', 'opportunity', 'key', 'club', 'teen', 'club', 'wide', 'array', 'youth', 'government', 'popular', 'many', 'student', 'sport', 'music', 'orchestra', 'power', 'sport', 'state', 'competition', 'leadership', 'many', 'outlet'], ['majority', 'teacher', 'friendly', 'genuine', 'educator', 'willing', 'work', 'student', 'order', 'help', 'course', 'group', 'teacher', 'preach', 'rehearse', 'syllabus', 'student', 'retainment'], ['sport', 'football', 'basketball', 'much', 'class', 'clique'], ['school', 'good', 'dress', 'code', 'controversial', 'subject', 'school', 'bully', 'administration', 'helpful', 'class', 'student', 'overall', 'school', 'good'], ['athletic', 'facility', 'average', 'weight', 'room', 'gym', 'football', 'fieldhouse', 'available', 'football', 'player', 'addition', 'nice', 'baseball', 'field', 'football', 'field', 'track', 'physical', 'education', 'class', 'available', 'school', 'day', 'many', 'sport', 'team', 'student', 'supportive', 'varsity', 'team', 'school', 'spirit', 'freshman', 'junior', 'varsity', 'game'], ['principal', 'amazing', 'good', 'know', 'student', 'cool', 'fun', 'talk', 'nice', 'school', 'well', 'place', 'much', 'listening', 'change', 'dress', 'code', 'understandable', 'bullying', 'problem', 'teacher', 'aide', 'student'], ['counselor', 'helpful', 'hard', 'make', 'appointment', 'help', 'scholarship', 'bit', 'challenge', 'find', 'time', 'open', 'book', 'resource'], ['great', 'experience', 'school', 'racist', 'teacher', 'faculty', 'counselor', 'terrible', 'help', 'college', 'stuff', 'education', 'care', 'football', 'bomb', 'threat', 'threat', 'senior', 'year', 'student', 'terrible', 'diversity', 'school', 'teacher', 'sell', 'drug', 'money', 'school'], ['parent', 'lot', 'pressure', 'child', 'good', 'grade', 'stressful'], ['kind', 'private', 'school', 'teacher', 'uptight', 'little', 'thing', 'attendance', 'people', 'helpful', 'good', 'help'], ['school', 'gross', 'gross', 'school', 'fact', 'school', 'life', 'lunch', 'senior', 'lunch'], ['administration', 'authoritarian', 'puppet', 'conservative', 'religious', 'crowd', 'booster', 'student', 'harassment', 'suppress', 'student', 'organization'], ['school', 'great', 'sport', 'enthusiast', 'kid', 'test', 'real', 'education', 'different', 'way', 'administration', 'unconcerned', 'diversity', 'power', 'intolerant', 'religious', 'bigot', 'moneyed', 'booster', 'class', 'school', 'harass', 'student', 'fit', 'mold', 'academic', 'average', 'administration', 'authoritarian', 'hostile', 'method', 'practice', 'object', 'question', 'experience', 'kid', 'due', 'social', 'aspect', 'terrible', 'experience'], ['food', 'option', 'low', 'cost', 'process', 'junk', 'healthy', 'food'], ['administration', 'student', 'unacceptable', 'lip', 'service', 'substance', 'fact', 'child', 'harass', 'administration'], ['person', 'trouble'], ['home', 'open', 'lunch', 'eat'], ['school', 'real', 'life', 'college', 'couple', 'amazing', 'teacher'], ['camera', 'show', 'school', 'officer', 'rude', 'student', 'girl', 'student'], ['many', 'student', 'lunch', 'food', 'taste', 'bad', 'caf', 'low', 'quality', 'food', 'healthy'], ['lunch', 'cafeteria', 'top', 'notch', 'review', 'classmate', 'smell', 'appetizing', 'day'], ['much', 'health', 'safety', 'school'], ['high', 'school', 'student', 'involvement', 'school', 'diverse', 'time', 'possibility', 'school', 'free', 'time', 'student', 'branch', 'program', 'different', 'group'], ['bearable', 'first', 'choice', 'food'], ['teacher', 'good', 'way', 'help'], ['complete', 'favoritism', 'wardrobe', 'many', 'girl', 'short', 'short', 'tall', 'girl', 'normal', 'length', 'short', 'detention'], ['peer', 'pressure', 'many', 'school', 'prevalent', 'school', 'wealthy', 'area', 'peer', 'pressure', 'nice', 'thing', 'nice', 'car', 'many', 'kid', 'skeptical', 'group', 'associate', 'people', 'high', 'enough', 'social', 'status', 'many', 'student', 'school', 'nice', 'friendly', 'student', 'school', 'many', 'friend'], ['general', 'honor', 'class', 'general', 'course', 'workload', 'full', 'worksheet', 'quiz', 'class', 'thorough', 'extensive', 'note', 'teacher', 'unable', 'control', 'class', 'much', 'curriculum', 'option', 'student', 'extra', 'help', 'many', 'teacher', 'student', 'number', 'name'], ['food', 'quality', 'appease', 'eye', 'nutritious', 'choice', 'account', 'student', 'dietary', 'restriction', 'wise', 'decision', 'lunch'], ['rare', 'teacher', 'student', 'many', 'current', 'teacher', 'student', 'number', 'real', 'people', 'represent', 'mischievous', 'teen', 'many', 'student', 'class', 'pay', 'attention', 'many', 'kid'], ['school', 'big', 'mean', 'small', 'town', 'school', 'big', 'many', 'kid', 'teacher', 'administrator', 'track', 'school'], ['north', 'great', 'school', 'teacher', 'great', 'cafeteria', 'food', 'school', 'many', 'sport', 'extra', 'curricular', 'niche', 'offer', 'ton', 'advanced', 'course', 'challenge'], ['good', 'education', 'good', 'people', 'book', 'worm', 'event', 'little', 'bit', 'much', 'attention', 'sport', 'accurate', 'school'], ['school', 'many', 'opportunity', 'different', 'program', 'advance', 'learning', 'schedule', 'class'], ['quality', 'class', 'teacher', 'impeccable', 'social', 'atmosphere', 'difficult', 'navigate'], ['high', 'school', 'whole', 'favorite', 'experience', 'place', 'miserable', 'north', 'teacher', 'excellent', 'offer', 'course', 'many', 'school', 'education', 'oklahoma', 'free', 'nice'], ['wide', 'variety', 'class', 'school', 'spirit', 'non', 'existent', 'full', 'white', 'privilege'], ['great', 'school', 'teacher', 'awesome', 'easy', 'work', 'principal', 'counselor', 'flexible', 'sport', 'band', 'club', 'thing', 'north', 'second', 'home', 'school', 'time', 'thing', 'overwhelming', 'communication', 'issue', 'district', 'school', 'thing', 'straighten', 'upgrade', 'school', 'active', 'aware', 'faculty', 'staff', 'north', 'great', 'place', 'people', 'heart'], ['great', 'couple', 'thing', 'lot', 'school', 'ton', 'friend', 'edmond', 'friend', 'group', 'memorial', 'highschool', 'big', 'thing', 'change', 'staff', 'north', 'girlfriend', 'time', 'teacher', 'memorial', 'teacher', 'worthy'], ['many', 'school', 'claim', 'wonderful', 'teaching', 'staff', 'edmond', 'north', 'preach', 'midst', 'educational', 'crisis', 'selfless', 'act', 'entry', 'level', 'salary', 'high', 'state', 'many', 'teacher', 'believe', 'teacher', 'teacher', 'education', 'sector', 'high', 'salary', 'quality', 'life', 'next', 'generation', 'student', 'welfare', 'society', 'state', 'legislature', 'school', 'term', 'funding', 'teacher', 'money', 'paycheck', 'supply', 'student', 'impeccable', 'character', 'model', 'aspire'], ['school', 'wish', 'office', 'staff', 'student', 'lot', 'opportunity', 'school'], ['north', 'teacher', 'part', 'care', 'focus', 'environment', 'friendly', 'class', 'size', 'overcrowded'], ['diverse', 'school', 'teacher', 'hard', 'time', 'people', 'nice'], ['diversity', 'walled', 'group'], ['opportunity', 'great', 'north', 'possible', 'year'], ['large', 'school', 'variable', 'teacher', 'outstanding', 'chance', 'coach'], ['teacher', 'good'], ['musical', 'theater', 'football', 'game', 'favorite', 'activity'], ['good', 'friend', 'lot'], ['extracurricular', 'school', 'fun', 'exciting', 'lot', 'club', 'organization', 'drama', 'debate', 'band'], ['good', 'bad', 'amazing', 'experience', 'amazing', 'people', 'crazy', 'experience', 'shape', 'person', 'today'], ['teacher', 'year', 'amazing', 'kind', 'helpful'], ['parent', 'kid', 'parent', 'board'], ['lot', 'enthusiasm', 'lot', 'fine', 'art', 'teacher', 'student', 'parent', 'administration', 'lack', 'funding', 'lot', 'thing', 'funding', 'sport', 'student', 'fail', 'area', 'shortage', 'test', 'many', 'online', 'student', 'phone', 'easy', 'student', 'browser', 'answer', 'screenshot', 'send', 'student', 'feel', 'funding'], ['bad', 'teacher', 'large', 'majority', 'teacher', 'counselor', 'good', 'education'], ['school', 'sponsor', 'team', 'sport', 'large', 'number', 'club', 'group', 'available'], ['teacher', 'amazing', 'talented', 'help', 'student', 'lot', 'easy', 'way', 'student'], ['safe', 'school', 'student', 'staff', 'great', 'police', 'building'], ['wide', 'variety', 'club', 'organization', 'available', 'school'], ['calculus', 'base', 'physics', 'calculus', 'economic', 'chemistry', 'class', 'teacher', 'teach', 'student'], ['school', 'excellence', 'academic', 'important', 'main', 'focus', 'school', 'great', 'teacher', 'minute', 'talk', 'teacher', 'catch', 'work', 'negative', 'thing', 'school', 'diverse', 'course', 'diversity', 'caucasian', 'overall', 'great', 'school', 'support', 'decision', 'eager', 'help', 'way'], ['high', 'school', 'sophomorefeb', 'overall', 'experience'], ['kind', 'club', 'gsa', 'hockey', 'club'], ['high', 'school', 'sophomorefeb', 'club', 'activity'], ['high', 'school', 'sophomorefeb', 'overall', 'experience'], ['child', 'school', 'different', 'type', 'style', 'capability', 'case', 'teacher', 'make', 'sure', 'kid'], ['health', 'program', 'support', 'teen'], ['clean', 'school'], ['fun', 'teacher'], ['good', 'student'], ['workload', 'big', 'teacher', 'supportive', 'class'], ['illness', 'violence', 'strong', 'indicator'], ['lot', 'teacher', 'good', 'teacher', 'favorite', 'call', 'bad', 'attitude', 'good', 'amount', 'great', 'education', 'great', 'answer', 'question', 'side', 'school', 'late', 'school', 'willing', 'early', 'tutor', 'care', 'variety', 'teaching', 'style', 'grade'], ['armed', 'school', 'resource', 'officer', 'school', 'safety', 'drill', 'school', 'year', 'case', 'emergency'], ['school', 'great', 'learning', 'environment', 'administrator', 'teacher'], ['willing', 'wrong', 'friendly', 'want', 'student'], ['school', 'friend', 'teacher', 'fair', 'grade', 'leadership', 'fair'], ['north', 'great', 'school', 'bit'], ['school', 'good', 'decent', 'amount', 'school', 'spirit', 'judgemental', 'exclusive', 'group', 'thing'], ['overall', 'great', 'positive', 'aspect', 'negative', 'thing', 'much', 'school', 'spirit', 'football', 'team', 'friend', 'fundraiser', 'year', 'call', 'week', 'school', 'much', 'money', 'possible', 'charity', 'amazing', 'whole', 'school', 'awareness', 'charity', 'entire', 'school', 'activity', 'benefit', 'northern', 'exposure', 'talent', 'show', 'incredible', 'many', 'student', 'single', 'assembly', 'much', 'money', 'spend', 'great', 'thing', 'teacher', 'helpful', 'kind', 'much', 'respective', 'subject', 'person'], ['high', 'school', 'sophomoreoct', 'overall', 'experience'], ['principal', 'interest', 'child', 'amazing', 'student', 'body', 'large', 'education', 'safety', 'student', 'senior', 'graduate', 'year', 'thankful', 'plan', 'college'], ['school', 'amazing', 'facility', 'huge', 'minority', 'pakistani', 'male', 'student', 'much', 'discrimination', 'unease'], ['school', 'kid', 'parent', 'money', 'judge'], ['school', 'experience', 'pleasant', 'many', 'course', 'interest', 'help', 'college', 'school', 'student', 'nice', 'problem', 'peer'], ['teacher', 'school', 'great', 'time', 'genuine', 'teaching', 'engage', 'job', 'student', 'difficulty', 'face', 'relate', 'course', 'teacher', 'school', 'experience', 'stable', 'new', 'teacher'], ['wide', 'variety', 'club', 'sport', 'volunteer', 'opportunity', 'available', 'student'], ['course', 'plenty', 'class', 'challenging', 'school', 'area', 'class', 'phenomenal'], ['love', 'school', 'safe', 'teacher', 'great', 'thing', 'school', 'cafeteria', 'food', 'awful', 'office', 'staff', 'rude', 'less', 'help', 'office', 'staff', 'rude', 'parent', 'rude', 'call'], ['many', 'sport', 'club', 'available', 'student', 'club', 'enough', 'student', 'program', 'many', 'diverse', 'club', 'fun'], ['school', 'rule', 'policy', 'counselor', 'policy', 'support'], ['teacher', 'student', 'school', 'use', 'variety', 'method', 'engage', 'student'], ['school'], ['school', 'sport', 'huge', 'student', 'section', 'support', 'team', 'great', 'shape', 'new', 'facility', 'coach', 'amazing', 'sport', 'family'], ['teacher', 'year', 'great', 'help', 'student', 'good', 'lesson', 'sit', 'student', 'good', 'ability', 'sure', 'way'], ['many', 'extracurricular', 'activity', 'school', 'type', 'student', 'many', 'extracurricular', 'love'], ['kid', 'teacher', 'good', 'many', 'good', 'experienced', 'teacher', 'overall', 'teacher', 'least', 'school', 'problem'], ['north', 'high', 'school', 'offer', 'student', 'large', 'amount', 'extracurricular', 'activity', 'sport', 'tennis', 'soccer', 'football', 'cheerleading', 'swimming', 'club', 'basketball', 'volleyball', 'many', 'different', 'language', 'club', 'spanish', 'club', 'french', 'club', 'club', 'chine', 'club', 'club', 'teen', 'leadership', 'amazing', 'experience', 'lot', 'great', 'school', 'keep', 'school', 'good', 'social', 'life', 'high', 'school'], ['way', 'security', 'safe'], ['teacher', 'north', 'fantastic', 'approachable', 'extra', 'help', 'much', 'distraction'], ['computer', 'lab', 'available', 'student', 'ipad'], ['many', 'class', 'student', 'fulfil', 'credit', 'healthy', 'many', 'sport', 'student', 'top', 'health', 'physical', 'fitness'], ['wonderful', 'extracurricular', 'activity', 'kid', 'school', 'club', 'interest', 'sound'], ['athletic', 'school', 'main', 'focus', 'school', 'support', 'love', 'team'], ['renovate', 'building', 'lot', 'technology', 'large', 'library'], ['real', 'security', 'issue', 'high', 'school', 'school', 'protect', 'dangerous', 'person', 'school', 'student', 'misbehave', 'protection', 'case', 'visitor', 'student', 'extra', 'security', 'measure'], ['teacher', 'style', 'great', 'keep', 'bored', 'particular', 'class', 'teacher', 'email', 'communicate', 'student', 'parent'], ['multiple', 'type', 'club', 'available', 'school', 'key', 'club', 'national', 'honor', 'society', 'club', 'administrative', 'support'], ['teacher', 'fair', 'amount', 'homework', 'practice', 'perfect', 'homework', 'important', 'way', 'help'], ['school', 'anti', 'tolerance', 'situation', 'principal', 'issue'], ['safe', 'school', 'police', 'officer', 'well', 'drug', 'dog', 'drug', 'multiple', 'intruder', 'drill', 'well', 'weather', 'drill', 'situation'], ['thing', 'high', 'school', 'parent', 'staff', 'parent', 'great', 'facility', 'update'], ['edmond', 'north', 'state', 'title', 'athletic', 'multiple', 'academic', 'state', 'championship', 'community', 'lot', 'snobby', 'people', 'current', 'high', 'school', 'rounded', 'person', 'many', 'different', 'situation'], ['school', 'fence', 'surround', 'premice', 'make', 'safe', 'visitor', 'require', 'enter', 'office', 'require', 'sign'], ['administration', 'edmond', 'north', 'good', 'student', 'parent', 'area', 'example', 'talk', 'dress', 'code', 'student', 'edmond', 'north', 'know', 'approach', 'teacher', 'edmond', 'north', 'phone', 'policy', 'positive', 'believe', 'school', 'policy', 'student', 'phone', 'lecture', 'class', 'time', 'general', 'teacher', 'policy', 'classroom', 'last', 'prominent', 'area', 'reguard', 'counselor', 'student', 'plan', 'state', 'college', 'helpful', 'student', 'minimal', 'help'], ['people', 'friend', 'sense', 'connection'], ['big', 'part', 'school', 'school', 'spirit', 'amazing', 'intense'], ['place', 'entire', 'state', 'diverse', 'kid', 'new', 'cultural', 'experience'], ['lunch', 'friend', 'food'], ['class', 'easy', 'regular', 'chemistry', 'pre', 'calc', 'trig', 'class'], ['lot', 'thing', 'stress'], ['overall', 'safe', 'school', 'drive', 'campus', 'proper', 'pass', 'show', 'security', 'guard', 'school', 'nurse'], ['huge', 'fan', 'support', 'huge', 'amount', 'parental', 'involvement', 'sport', 'many', 'team', 'fundraiser', 'money', 'equipment'], ['school', 'huge', 'big', 'enough', 'parking', 'space', 'lunchroom', 'food', 'everyday', 'half', 'school'], ['class', 'schedule', 'rigorous', 'think', 'class', 'test', 'teacher', 'good', 'exception'], ['food', 'notch', 'cafeteria', 'staff', 'friendly', 'quality', 'food', 'kind', 'food', 'prepare'], ['executive', 'staff', 'school', 'act', 'close', 'team', 'acceptance', 'school', 'different', 'race', 'group', 'friend', 'wit', 'bullying', 'issue'], ['sport', 'north', 'athletic', 'play', 'sport', 'team', 'coach', 'teamwork'], ['school', 'access', 'good', 'teacher', 'care', 'student', 'teacher', 'edmond', 'north', 'care', 'student', 'step', 'help', 'student', 'north', 'staff', 'family', 'lead', 'community', 'student', 'good', 'experience', 'edmond', 'north', 'many', 'different', 'class', 'different', 'interest'], ['good', 'high', 'school'], ['security', 'many', 'instance'], ['band', 'choir', 'medicine', 'people'], ['school', 'fantastic', 'mission', 'school', 'relentless', 'pursuit', 'excellence', 'student', 'good', 'give', 'frustrating', 'teacher', 'slack', 'apathetic', 'attitude'], ['bountiful', 'opportunity', 'school', 'many', 'club', 'new', 'senior', 'student', 'perfect', 'outlet'], ['much', 'nurse', 'nice', 'helpful', 'treat', 'problem'], ['staff', 'helpful', 'right', 'choice', 'discipline'], ['regret', 'friend', 'teammate', 'teacher', 'part', 'generous', 'school', 'demonstrate', 'week', 'fun', 'competitive'], ['good', 'test', 'score', 'state'], ['many', 'extracurricular', 'single', 'student', 'interest', 'part', 'good', 'way'], ['clique', 'huge', 'part', 'school', 'peer', 'pressure', 'strong', 'apparent', 'racial', 'tension'], ['school', 'country', 'club', 'school', 'lot', 'money', 'public', 'school', 'group', 'school'], ['administration', 'teacher'], ['school', 'many', 'option', 'club', 'sport', 'sport', 'competitive', 'school', 'fun', 'great', 'way', 'people'], ['happy', 'class', 'offer', 'schedule', 'year', 'little', 'satisfied', 'teacher', 'government', 'teacher', 'year', 'counselor', 'work', 'great', 'senior', 'year', 'schedule', 'lot', 'help', 'concurrent', 'high', 'school', 'schedule', 'mesh'], ['issue', 'dress', 'code', 'attendance', 'bully', 'degree', 'administrative', 'intervention', 'lot', 'help', 'counselor', 'concurrent', 'class', 'local', 'college', 'help', 'senior', 'year', 'schedule'], ['lot', 'spirit', 'game', 'opportunity', 'attend', 'game', 'work', 'hour', 'week', 'help', 'gas', 'festivity', 'assembly', 'place', 'school', 'hour'], ['overall', 'high', 'school', 'experience', 'lot', 'school', 'many', 'class', 'class', 'subject', 'interested', 'wish', 'opportunity', 'different', 'teacher', 'time', 'job', 'show', 'classroom', 'teacher', 'day', 'friendship', 'quarrel', 'lot', 'last', 'year', 'start', 'college', 'journey'], ['general', 'faculty', 'ensure'], ['teacher', 'education', 'way', 'class'], ['school', 'many', 'opportunity', 'faculty', 'fantastic', 'job', 'student', 'safe', 'encouraged', 'great', 'place', 'peer'], ['love', 'school', 'important', 'see', 'need', 'change'], ['teacher', 'great', 'sub', 'program'], ['much', 'school', 'spirit', 'school', 'much', 'emphasis', 'sport', 'student', 'athletic'], ['secure', 'little', 'board', 'time'], ['school', 'experience', 'play'], ['teacher', 'student', 'ready', 'college', 'give', 'work', 'expect', 'figure'], ['extracurricular', 'activity', 'important', 'staff', 'student', 'staff', 'emphasis', 'student', 'individual', 'join', 'club', 'key', 'club', 'spanish', 'club'], ['school', 'many', 'athlete', 'good', 'supply', 'good', 'quality', 'equipment', 'wide', 'range', 'sport', 'game', 'fun', 'spirited', 'school', 'attend', 'game', 'show', 'much', 'school', 'spirit'], ['food', 'bad', 'food', 'option', 'school', 'outstanding', 'aspect', 'lunch', 'time', 'lunch', 'staff', 'smile', 'day'], ['counselor', 'helpful', 'time', 'talk', 'schedule', 'grade', 'student', 'principle', 'outstanding', 'high', 'standard', 'order', 'success', 'student', 'staff', 'success', 'good', 'student'], ['teacher', 'teacher', 'class', 'exciting', 'sarcastic', 'rude', 'part', 'academic', 'challenge', 'teacher'], ['school', 'great', 'school', 'spirit', 'little', 'order', 'overall', 'school', 'experience', 'average', 'high', 'school', 'class', 'broad', 'need', 'class', 'major'], ['police', 'officer'], ['teacher', 'job', 'occasional', 'teacher', 'stellar'], ['several', 'pre', 'class', 'offer', 'many', 'teacher', 'teach', 'test', 'student', 'ill'], ['quality', 'average', 'class', 'dull', 'unexciting', 'teacher', 'helpful', 'good', 'interest', 'instruct'], ['half', 'school', 'sport', 'athletic', 'activity', 'athletic', 'facility', 'pretty', 'date', 'unavailable', 'outside', 'school', 'sport', 'orient', 'many', 'student', 'sport', 'event', 'lot', 'school', 'spirit'], ['great', 'course', 'special', 'class'], ['problem', 'teacher', 'helpful', 'student', 'teacher', 'opportunity', 'work'], ['school', 'north', 'year', 'entire', 'school', 'different', 'charity', 'year', 'high', 'last', 'year', 'total', 'last', 'year', 'school', 'raise', 'dollar', 'small', 'town', 'great', 'academic', 'fun', 'challenge', 'time', 'lose', 'great', 'bond', 'teacher', 'student', 'high', 'school', 'small', 'flaw'], ['love', 'school', 'freshman', 'foreign', 'country', 'overwhelmed', 'size', 'opportunity', 'available', 'administrator', 'try', 'involvement', 'spirit', 'relentless', 'pursuit', 'excellence', 'many', 'friend', 'memory', 'year'], ['great', 'school', 'great', 'child', 'school'], ['school', 'focus', 'lot', 'sport', 'fitness', 'much', 'school', 'spirit'], ['fan', 'cell', 'phone', 'policy', 'policy', 'good', 'principal', 'school'], ['school', 'time', 'start', 'end', 'school', 'inoppurtunely', 'time', 'train', 'schedule', 'train', 'schedule', 'school', 'schedule', 'number', 'decrease', 'facility', 'nice', 'clean', 'school', 'tutoring', 'fantastic'], ['teacher', 'student', 'wonderful', 'environment', 'student', 'school', 'lot', 'young', 'teacher', 'nice', 'new', 'perspective', 'school'], ['school', 'extra', 'curriculum', 'activity', 'vast', 'administration', 'supportive', 'start', 'staff', 'teacher', 'help'], ['high', 'school', 'club', 'activity'], ['north', 'time'], ['occasional', 'fight', 'school', 'safe', 'fight', 'personal', 'safety', 'issue', 'address', 'clean', 'worry', 'harm', 'many', 'administrator', 'police', 'officer', 'order'], ['decent', 'experience', 'many', 'opportunity', 'high', 'school', 'future', 'hold'], ['resource', 'available', 'student', 'request', 'assistance', 'abundance', 'technology', 'available', 'counselor', 'available', 'knowledgeable', 'campus', 'large', 'variety', 'facility'], ['teacher', 'effective', 'helpful', 'care', 'interested', 'student', 'eager', 'help'], ['main', 'building', 'year', 'old', 'basketball', 'court', 'replace', 'last', 'year', 'nice', 'football', 'field', 'bad', 'shape', 'summer', 'shabby', 'edmond', 'north'], ['teacher', 'north', 'care', 'student', 'ready', 'college'], ['love', 'school', 'great', 'friend', 'good', 'memory', 'band', 'family', 'teacher', 'helpful', 'staff', 'member'], ['good', 'little', 'creative', 'teaching', 'lesson', 'tool'], ['north', 'amazing', 'counselor', 'today', 'help', 'help', 'scholarship', 'staff', 'member', 'north', 'student', 'help', 'way'], ['outstanding', 'education', 'place', 'chance', 'traditional', 'nontraditional', 'path', 'public', 'education'], ['school', 'intelligent', 'high', 'work', 'ethic', 'thing', 'event', 'host', 'week', 'peak', 'teacher', 'student', 'faculty', 'snack', 'prize', 'service', 'money', 'school', 'event', 'charity'], ['high', 'school', 'experience', 'pleasant', 'year', 'teacher', 'much', 'time', 'student', 'capable', 'example', 'move', 'calculus', 'calculus', 'teacher', 'email', 'mother', 'reassure', 'much', 'plenty', 'student', 'scared', 'class', 'regret', 'stay', 'class', 'challenge', 'amazing', 'way', 'proud', 'call', 'north', 'student', 'influence', 'amazing', 'teacher', 'student', 'kind', 'school', 'work', 'spread', 'positivity', 'light', 'imagine', 'school', 'much', 'effort', 'sure', 'student', 'successful', 'future'], ['wonderful', 'school', 'career', 'teacher', 'helpful', 'able', 'safe', 'welcome', 'environment'], ['edmond', 'challenge', 'good', 'high', 'school', 'state', 'oklahoma', 'alumnu'], ['overall', 'north', 'clean', 'friendly', 'school', 'good', 'student', 'help', 'college', 'resource', 'necessary', 'question', 'way', 'way', 'school', 'head', 'right', 'direction', 'new', 'stem', 'building', 'student', 'sport', 'game', 'play', 'announcement', 'thing', 'student', 'parent', 'school', 'activity', 'school'], ['teacher', 'great', 'ready', 'help', 'week', 'money', 'kid', 'good', 'part', 'year', 'snack', 'teacher', 'give', 'test', 'new', 'key', 'card', 'safe', 'long', 'student', 'class'], ['high', 'school', 'excellent', 'teacher', 'student'], ['fantastic', 'school', 'look', 'place', 'compassionate', 'student', 'teacher', 'faculty', 'wonderful', 'willing', 'help'], ['teacher', 'helpful', 'knowledgeable', 'subject', 'feel', 'staff', 'student', 'potential'], ['great', 'school', 'many', 'group', 'people', 'friend', 'teacher', 'awesome', 'care', 'student', 'love'], ['school', 'huge', 'man', 'lose', 'first', 'time'], ['academic', 'school', 'awesome', 'field', 'lot', 'interesting', 'course', 'different', 'level', 'enroll', 'lot', 'club', 'activity', 'sport'], ['lunch', 'menu', 'boring', 'repeat', 'evey', 'week', 'kid', 'lunch', 'home'], ['hallway', 'course', 'drama', 'friend', 'least'], ['people', 'nice', 'rich', 'neighborhood', 'kid'], ['administration', 'help', 'confused'], ['great', 'academic', 'teacher', 'care', 'student', 'building', 'facility', 'care', 'good', 'athletic', 'fun', 'large', 'student', 'section'], ['threaten', 'danger', 'north', 'rare', 'instance', 'problem', 'staff', 'orderly'], ['extracurricular', 'opportunity', 'school', 'club', 'organization', 'phenomenal', 'teacher', 'multiple', 'people', 'organization', 'help', 'commitment', 'different', 'club', 'strong', 'student', 'high', 'commitment', 'available'], ['school', 'unique', 'student', 'body', 'administration', 'parent', 'administration', 'faculty', 'student', 'education', 'need', 'edmond', 'north', 'home', 'school', 'fun', 'school', 'family'], ['safe', 'school', 'environment', 'staff', 'faculty', 'wonderful', 'job', 'teacher', 'student', 'friendly', 'relationship', 'invisible', 'social', 'wall'], ['teacher', 'school', 'approachable', 'engaging', 'help'], ['school', 'power', 'student', 'safe', 'secure', 'comfortable'], ['many', 'different', 'club', 'organization', 'different', 'sport', 'program', 'band', 'orchestra', 'art', 'deca', 'choir', 'wide', 'spread', 'option', 'diversity'], ['lot', 'school', 'pride', 'sport', 'academic', 'art', 'student'], ['extracurricular', 'activity', 'great', 'school', 'freedom', 'new', 'club', 'thing', 'wide', 'variety', 'thing', 'leave'], ['high', 'school', 'sophomorefeb', 'club', 'activity'], ['edmond', 'highschool', 'place', 'system', 'safety', 'strange', 'unwanted', 'visitor', 'intention', 'harm', 'school', 'office', 'showi', 'tag', 'name', 'picture', 'order', 'school'], ['school', 'cover', 'considerable', 'variety', 'sport', 'sport', 'course', 'hockey', 'team', 'well', 'time', 'school', 'city', 'state', 'athletic', 'facility', 'facilitate', 'success', 'athlete', 'thing', 'athlete', 'top', 'support', 'team', 'opponent', 'boost', 'player', 'school', 'sport', 'fitness', 'program', 'excellent'], ['class', 'help', 'college', 'teacher', 'care', 'week', 'good', 'week', 'year', 'friend'], ['teacher', 'great', 'whole', 'year', 'class', 'teacher', 'teacher', 'help', 'student', 'school', 'positive', 'place'], ['lot', 'support', 'principal', 'staff', 'support', 'lot', 'member'], ['community', 'sport', 'team', 'school', 'booster', 'club', 'help', 'money', 'uniform', 'public', 'bond', 'issue', 'support', 'facility', 'maintenance'], ['various', 'club', 'extracurricular', 'sport', 'available', 'student', 'base', 'interest'], ['future', 'part', 'pre', 'engineering', 'academy', 'francis', 'tuttle', 'year', 'help', 'career', 'engineering', 'possible', 'option', 'instructor', 'high', 'school', 'care', 'focus', 'good', 'possible', 'experience', 'senior', 'year', 'expectation', 'military'], ['teacher', 'good', 'state', 'intelligent', 'professional', 'great', 'explain', 'procedure', 'direction', 'respectful', 'teacher', 'student', 'grade', 'assignment', 'test', 'timely', 'manner', 'enough', 'time', 'complete', 'assignment', 'lot', 'high', 'school', 'year', 'everyday'], ['interested', 'group', 'plug'], ['club', 'type', 'person', 'gay', 'straight', 'alliance', 'creative', 'writing', 'drama', 'study', 'young', 'republican', 'many', 'many', 'embrasse', 'matter', 'matter', 'student', 'north', 'part', 'family'], ['week', 'school', 'school', 'person', 'problem', 'school'], ['single', 'teacher', 'student', 'teacher', 'friend'], ['school', 'administration', 'top', 'notch', 'student'], ['teacher', 'good', 'great', 'notice', 'kid', 'popular', 'kid', 'student'], ['building', 'clean', 'look', 'amazing', 'amount', 'time', 'thing', 'school', 'look', 'mother', 'schedule', 'thing', 'parent', 'middle', 'day', 'mother', 'home', 'mother'], ['many', 'option', 'student', 'school', 'fit', 'student', 'interest'], ['many', 'opportunity', 'sport', 'orchestra', 'viola', 'able', 'perform', 'carnegie', 'school', 'school', 'heartbeat'], ['high', 'school', 'big', 'many', 'scout', 'incredible', 'team', 'year', 'type', 'state', 'title', 'football', 'soccer', 'track', 'bad', 'thing', 'school', 'big', 'hard', 'notice', 'excellent', 'sport', 'completion', 'big', 'school'], ['volleyball', 'team', 'year', 'girl', 'golf', 'team', 'year', 'staff', 'excellent', 'facility', 'volleyball', 'girl', 'golf', 'lot', 'student', 'involvement'], ['large', 'percent', 'student', 'body', 'athletic', 'organization', 'spirit'], ['extracurricular', 'edmond', 'north', 'great', 'todo', 'school'], ['bus', 'driver', 'high', 'school', 'license', 'young', 'sister', 'next', 'fall', 'driver'], ['public', 'high', 'school', 'state', 'nation'], ['love', 'counselor', 'main', 'office', 'asst', 'principle', 'epileptic', 'type', 'diabetic', 'compassionate', 'amount', 'med', 'testing'], ['school', 'german', 'club', 'host', 'foreign', 'exchange', 'student', 'home', 'part', 'gapp', 'program', 'good', 'experience', 'life'], ['recognizable', 'public', 'school', 'academic', 'good', 'curriculum', 'workload', 'manageable'], ['bully', 'stress', 'student', 'new', 'alarm', 'door', 'student', 'exit', 'lunch', 'security', 'camera', 'hallway', 'armed', 'police', 'officer', 'drug', 'dog'], ['sport', 'school', 'spirit', 'important', 'many', 'student', 'different', 'sport', 'team', 'important', 'rev', 'student', 'support', 'school', 'spirit'], ['student', 'school', 'able', 'join', 'club', 'place', 'school', 'hour', 'many', 'club', 'key', 'club', 'young', 'club', 'club', 'teen', 'club', 'national', 'honor', 'society', 'club', 'involve', 'club', 'stress', 'teacher', 'student', 'club', 'fun', 'guitar', 'club', 'teacher', 'administration', 'school', 'club', 'teacher', 'open', 'classroom', 'use', 'meeting', 'administration', 'financial', 'aid', 'club', 'unable', 'time', 'school', 'hour', 'use', 'school', 'hour', 'meet'], ['administration', 'student', 'helpful'], ['school', 'school', 'district', 'safe', 'intruder', 'fire', 'tornado', 'drill', 'case', 'emergency', 'police', 'officer', 'school', 'ground', 'parking', 'attendant', 'monitor', 'parking', 'lot', 'entrance', 'school'], ['student', 'school', 'sport', 'sport', 'music', 'activity', 'student', 'large', 'majority', 'supportive', 'school', 'team', 'school', 'reputation', 'school', 'pride', 'student', 'section', 'full', 'matter', 'sport', 'matter', 'successful', 'season'], ['school', 'many', 'different', 'academic', 'option', 'advanced', 'placement', 'class', 'many', 'option', 'hour', 'schedule', 'sophomore', 'junior', 'senior', 'year', 'school', 'level', 'course', 'remedial', 'course', 'special', 'education', 'course', 'matter', 'student', 'learning', 'pace', 'condition', 'perfect', 'schedule', 'available'], ['thing', 'enforce', 'school', 'policy', 'tardie', 'class', 'automatic', 'credit', 'hall', 'sweep', 'announcement', 'vital', 'class', 'student', 'hall', 'disciplinary', 'action', 'doubt'], ['love', 'school', 'school', 'sprit', 'game', 'competitive', 'win', 'multiple', 'state', 'championship', 'past', 'decade', 'year'], ['school', 'good', 'community', 'teacher', 'facility', 'nation', 'challenge', 'work', 'education', 'fun', 'thankful', 'thing'], ['edmond', 'school', 'assign', 'armed', 'police', 'officer', 'campus', 'random', 'drug', 'dog', 'sweep', 'month', 'safe', 'school'], ['facility', 'nice', 'new', 'track', 'pool', 'facility', 'city', 'edmond', 'diving', 'olympic', 'size', 'pool', 'lazy', 'river'], ['school', 'good', 'teacher', 'state', 'nation', 'teacher', 'accredit', 'dozen', 'class', 'class', 'challenge', 'lot', 'class'], ['field', 'equipment', 'good', 'state', 'compete', 'athlete'], ['teacher', 'good', 'teacher', 'state', 'band', 'teacher', 'year', 'year', 'teacher', 'avaliable', 'help', 'minute', 'period', 'middle', 'day', 'use', 'tutoring', 'session', 'student', 'class', 'struggle', 'additional', 'help', 'free', 'school', 'math', 'tutoring', 'student', 'tutor', 'need', 'help'], ['principal', 'amazing', 'good', 'principal', 'hall', 'time', 'way', 'high', 'school', 'experience', 'awesome', 'good', 'administration', 'entire', 'state', 'oklahoma', 'good', 'talented', 'teacher', 'state', 'school', 'way', 'thing', 'easy', 'student', 'child', 'care', 'tolerence', 'policy', 'bully', 'harass', 'student', 'attendence', 'school', 'important', 'minute', 'class', 'difference', 'concept'], ['ton', 'different', 'organization', 'extra', 'circular', 'student'], ['safety'], ['many', 'school', 'facility', 'available', 'school'], ['many', 'social', 'scene', 'school'], ['teacher', 'school', 'helpful', 'student'], ['school', 'good', 'high', 'school'], ['academic', 'offer', 'school', 'offer'], ['lot', 'extracurricular', 'activity', 'school'], ['big', 'part', 'school'], ['food', 'good', 'school'], ['principal', 'helpful', 'involved', 'student'], ['good', 'people', 'great', 'teacher', 'experience', 'college'], ['lot', 'extracurricular', 'activity', 'many', 'bind'], ['time', 'edmond', 'north', 'single', 'situation', 'present', 'harm', 'student', 'faculty', 'figh', 'threat', 'kind', 'student', 'nice', 'individual', 'teacher', 'way', 'sure', 'good', 'health', 'student', 'important', 'administrarion', 'care', 'overall', 'school', 'great', 'job', 'student', 'safe', 'threat', 'physical', 'mental'], ['opportunity', 'edmond', 'north', 'present', 'classroom', 'astounding', 'program', 'student', 'opportunity', 'student', 'sport', 'football', 'volleyball', 'golf', 'track', 'field', 'baseball', 'softball', 'tennis', 'soccer', 'lacrosse', 'hockey', 'administrator', 'help', 'activity', 'student', 'amazing', 'school', 'sport', 'part', 'large', 'drama', 'speech', 'team', 'organization', 'trouble', 'new', 'teacher', 'strong', 'program', 'large', 'growth', 'membership'], ['influential', 'teacher', 'school'], ['teacher', 'edmond', 'north', 'interested', 'help', 'material', 'expand', 'horizon', 'high', 'school'], ['brand', 'new', 'building', 'call', 'freshman', 'huge', 'overhaul', 'rest', 'school', 'update', 'classroom', 'main', 'office', 'school', 'ready', 'next', 'century', 'student']]\n",
      "387\n"
     ]
    }
   ],
   "source": [
    "reviews_2 = lemmatization(tokenized_reviews)\n",
    "print(reviews_2) # print lemmatized review\n",
    "\n",
    "print(len(reviews_2))"
   ]
  },
  {
   "cell_type": "code",
   "execution_count": 307,
   "id": "98a69207",
   "metadata": {},
   "outputs": [
    {
     "name": "stderr",
     "output_type": "stream",
     "text": [
      "C:\\Users\\pinba\\anaconda3\\lib\\site-packages\\ipykernel\\ipkernel.py:287: DeprecationWarning:\n",
      "\n",
      "`should_run_async` will not call `transform_cell` automatically in the future. Please pass the result to `transformed_cell` argument and any exception that happen during thetransform in `preprocessing_exc_tuple` in IPython 7.17 and above.\n",
      "\n"
     ]
    },
    {
     "data": {
      "image/png": "[encoded data removed]",
      "text/plain": [
       "<Figure size 1440x360 with 1 Axes>"
      ]
     },
     "metadata": {
      "needs_background": "light"
     },
     "output_type": "display_data"
    }
   ],
   "source": [
    "reviews_3 = []\n",
    "for i in range(len(reviews_2)):\n",
    "    reviews_3.append(' '.join(reviews_2[i]))\n",
    "\n",
    "freq_words(reviews_3, 20)"
   ]
  },
  {
   "cell_type": "code",
   "execution_count": 308,
   "id": "bb874f75",
   "metadata": {
    "scrolled": true
   },
   "outputs": [
    {
     "name": "stderr",
     "output_type": "stream",
     "text": [
      "C:\\Users\\pinba\\anaconda3\\lib\\site-packages\\ipykernel\\ipkernel.py:287: DeprecationWarning:\n",
      "\n",
      "`should_run_async` will not call `transform_cell` automatically in the future. Please pass the result to `transformed_cell` argument and any exception that happen during thetransform in `preprocessing_exc_tuple` in IPython 7.17 and above.\n",
      "\n"
     ]
    }
   ],
   "source": [
    "dictionary = corpora.Dictionary(reviews_2)"
   ]
  },
  {
   "cell_type": "code",
   "execution_count": 309,
   "id": "4e9d7083",
   "metadata": {},
   "outputs": [
    {
     "name": "stderr",
     "output_type": "stream",
     "text": [
      "C:\\Users\\pinba\\anaconda3\\lib\\site-packages\\ipykernel\\ipkernel.py:287: DeprecationWarning:\n",
      "\n",
      "`should_run_async` will not call `transform_cell` automatically in the future. Please pass the result to `transformed_cell` argument and any exception that happen during thetransform in `preprocessing_exc_tuple` in IPython 7.17 and above.\n",
      "\n"
     ]
    }
   ],
   "source": [
    "doc_term_matrix = [dictionary.doc2bow(rev) for rev in reviews_2]"
   ]
  },
  {
   "cell_type": "code",
   "execution_count": 310,
   "id": "f35e0129",
   "metadata": {},
   "outputs": [
    {
     "name": "stderr",
     "output_type": "stream",
     "text": [
      "C:\\Users\\pinba\\anaconda3\\lib\\site-packages\\ipykernel\\ipkernel.py:287: DeprecationWarning:\n",
      "\n",
      "`should_run_async` will not call `transform_cell` automatically in the future. Please pass the result to `transformed_cell` argument and any exception that happen during thetransform in `preprocessing_exc_tuple` in IPython 7.17 and above.\n",
      "\n"
     ]
    }
   ],
   "source": [
    "# Creating the object for LDA model using gensim library\n",
    "# LDA = gensim.models.ldamodel.LdaModel\n",
    "LDA = LdaModel\n",
    "\n",
    "# Build LDA model\n",
    "lda_model = LDA(corpus=doc_term_matrix, id2word=dictionary, num_topics=7, random_state=100,\n",
    "                chunksize=1000, passes=50)"
   ]
  },
  {
   "cell_type": "code",
   "execution_count": 311,
   "id": "618a4dce",
   "metadata": {},
   "outputs": [
    {
     "name": "stderr",
     "output_type": "stream",
     "text": [
      "C:\\Users\\pinba\\anaconda3\\lib\\site-packages\\ipykernel\\ipkernel.py:287: DeprecationWarning:\n",
      "\n",
      "`should_run_async` will not call `transform_cell` automatically in the future. Please pass the result to `transformed_cell` argument and any exception that happen during thetransform in `preprocessing_exc_tuple` in IPython 7.17 and above.\n",
      "\n"
     ]
    },
    {
     "data": {
      "text/plain": [
       "387"
      ]
     },
     "execution_count": 311,
     "metadata": {},
     "output_type": "execute_result"
    }
   ],
   "source": [
    "#lda_model.print_topics(num_words=4)\n",
    "#lda_model.show_topics(num_words=4)\n",
    "len(reviews_3)"
   ]
  },
  {
   "cell_type": "code",
   "execution_count": 312,
   "id": "c199d2aa",
   "metadata": {},
   "outputs": [
    {
     "name": "stderr",
     "output_type": "stream",
     "text": [
      "C:\\Users\\pinba\\anaconda3\\lib\\site-packages\\ipykernel\\ipkernel.py:287: DeprecationWarning:\n",
      "\n",
      "`should_run_async` will not call `transform_cell` automatically in the future. Please pass the result to `transformed_cell` argument and any exception that happen during thetransform in `preprocessing_exc_tuple` in IPython 7.17 and above.\n",
      "\n"
     ]
    },
    {
     "data": {
      "text/html": [
       "\n",
       "<link rel=\"stylesheet\" type=\"text/css\" href=\"https://cdn.jsdelivr.net/gh/bmabey/pyLDAvis@3.3.1/pyLDAvis/js/ldavis.v1.0.0.css\">\n",
       "\n",
       "\n",
       "<div id=\"ldavis_el1446026072369642409920767072\"></div>\n",
       "<script type=\"text/javascript\">\n",
       "\n",
       "var ldavis_el1446026072369642409920767072_data = {\"mdsDat\": {\"x\": [-0.02551337092470195, 0.11065940903809934, -0.07128971683624663, -0.11228716009680004, 0.08085370886182065, 0.04748874079945717, -0.029911610841628498], \"y\": [0.029120929137330675, 0.032371130291443125, 0.12666961557144954, -0.06353846391500419, 0.02602552568848172, -0.09759537560573768, -0.053053361167963206], \"topics\": [1, 2, 3, 4, 5, 6, 7], \"cluster\": [1, 1, 1, 1, 1, 1, 1], \"Freq\": [20.942204106106466, 20.27704995559978, 16.157986258127217, 16.10172752783012, 14.329836614826228, 8.267475105301706, 3.9237204322084813]}, \"tinfo\": {\"Term\": [\"club\", \"school\", \"teacher\", \"great\", \"help\", \"good\", \"extracurricular\", \"lunch\", \"kid\", \"food\", \"people\", \"north\", \"sport\", \"year\", \"high\", \"spirit\", \"many\", \"available\", \"activity\", \"program\", \"state\", \"much\", \"college\", \"team\", \"athletic\", \"code\", \"dress\", \"different\", \"education\", \"course\", \"funding\", \"awesome\", \"salary\", \"host\", \"armed\", \"district\", \"security\", \"grade\", \"state\", \"donation\", \"ground\", \"assignment\", \"intelligent\", \"second\", \"relate\", \"pool\", \"require\", \"welcome\", \"emergency\", \"chance\", \"sophomorejan\", \"snobby\", \"request\", \"interesting\", \"compete\", \"business\", \"face\", \"ice\", \"talented\", \"police\", \"lot\", \"experience\", \"high\", \"case\", \"school\", \"officer\", \"safety\", \"public\", \"outstanding\", \"level\", \"time\", \"test\", \"student\", \"thing\", \"teacher\", \"class\", \"many\", \"safe\", \"environment\", \"friend\", \"good\", \"club\", \"place\", \"great\", \"north\", \"overall\", \"opportunity\", \"new\", \"staff\", \"year\", \"group\", \"different\", \"edmond\", \"sport\", \"people\", \"mother\", \"short\", \"notch\", \"late\", \"shape\", \"bad\", \"tutor\", \"head\", \"scared\", \"approach\", \"email\", \"memorial\", \"line\", \"taste\", \"cycle\", \"scholarship\", \"today\", \"concurrent\", \"low\", \"pleasant\", \"math\", \"food\", \"offer\", \"favorite\", \"building\", \"plan\", \"help\", \"cafeteria\", \"amazing\", \"imagine\", \"north\", \"large\", \"lunch\", \"teacher\", \"edmond\", \"student\", \"parent\", \"care\", \"college\", \"year\", \"challenge\", \"class\", \"senior\", \"problem\", \"great\", \"new\", \"good\", \"counselor\", \"school\", \"helpful\", \"way\", \"easy\", \"staff\", \"time\", \"thing\", \"lot\", \"many\", \"opportunity\", \"extracurricular\", \"spanish\", \"club\", \"harm\", \"technology\", \"commitment\", \"key\", \"language\", \"church\", \"national\", \"homework\", \"join\", \"sponsor\", \"french\", \"approachable\", \"sound\", \"certain\", \"teen\", \"drama\", \"available\", \"activity\", \"wide\", \"cheerleading\", \"chine\", \"financial\", \"guitar\", \"swimming\", \"meeting\", \"involve\", \"caucasian\", \"fight\", \"individual\", \"variety\", \"community\", \"support\", \"order\", \"organization\", \"study\", \"family\", \"interest\", \"many\", \"school\", \"sport\", \"good\", \"student\", \"different\", \"fun\", \"course\", \"teacher\", \"important\", \"way\", \"help\", \"time\", \"lot\", \"thing\", \"high\", \"great\", \"program\", \"team\", \"north\", \"work\", \"peer\", \"car\", \"race\", \"incredible\", \"wealthy\", \"serious\", \"religion\", \"train\", \"search\", \"driver\", \"engineering\", \"championship\", \"title\", \"junior\", \"acceptance\", \"athletic\", \"spirit\", \"status\", \"schedule\", \"clique\", \"huge\", \"awareness\", \"benefit\", \"exposure\", \"talent\", \"northern\", \"respective\", \"spend\", \"condition\", \"pace\", \"team\", \"special\", \"phenomenal\", \"big\", \"racial\", \"enough\", \"supportive\", \"majority\", \"matter\", \"sport\", \"nice\", \"much\", \"school\", \"many\", \"option\", \"high\", \"year\", \"opportunity\", \"different\", \"student\", \"charity\", \"available\", \"problem\", \"possible\", \"football\", \"course\", \"people\", \"friend\", \"love\", \"great\", \"thing\", \"facility\", \"diversity\", \"class\", \"terrible\", \"enforce\", \"hall\", \"code\", \"dress\", \"attend\", \"shoulder\", \"aloud\", \"authoritarian\", \"religious\", \"ridiculous\", \"chemistry\", \"discipline\", \"lesson\", \"sushi\", \"varsity\", \"rude\", \"well\", \"popular\", \"policy\", \"rule\", \"cater\", \"desire\", \"pet\", \"shallow\", \"unpopular\", \"enthusiast\", \"bigot\", \"unconcerned\", \"mold\", \"game\", \"education\", \"kid\", \"method\", \"harass\", \"show\", \"booster\", \"memory\", \"aspect\", \"administration\", \"good\", \"day\", \"teacher\", \"student\", \"school\", \"parent\", \"class\", \"principal\", \"staff\", \"helpful\", \"help\", \"way\", \"people\", \"safe\", \"real\", \"great\", \"much\", \"experience\", \"many\", \"counselor\", \"thing\", \"sport\", \"food\", \"high\", \"member\", \"gross\", \"brand\", \"century\", \"overhaul\", \"rest\", \"oreo\", \"remark\", \"insult\", \"opinion\", \"ball\", \"amaazing\", \"incident\", \"preppy\", \"invisible\", \"relationship\", \"wall\", \"capability\", \"lip\", \"unacceptable\", \"existent\", \"non\", \"privilege\", \"white\", \"sarcastic\", \"upcoming\", \"expensive\", \"thrill\", \"expect\", \"figure\", \"full\", \"choir\", \"system\", \"rich\", \"fact\", \"golf\", \"stay\", \"people\", \"interested\", \"lunch\", \"change\", \"group\", \"college\", \"teacher\", \"school\", \"job\", \"student\", \"ready\", \"kid\", \"year\", \"social\", \"friend\", \"fun\", \"single\", \"volleyball\", \"principal\", \"staff\", \"week\", \"nice\", \"class\", \"lot\", \"diverse\", \"time\", \"variety\", \"amazing\", \"child\", \"girl\", \"support\", \"miserable\", \"asst\", \"diabetic\", \"epileptic\", \"med\", \"testing\", \"discrimination\", \"male\", \"pakistani\", \"unease\", \"color\", \"dump\", \"ethnicity\", \"respect\", \"evey\", \"menu\", \"repeat\", \"floor\", \"table\", \"passion\", \"rampant\", \"sub\", \"sex\", \"awkward\", \"demeanor\", \"recreational\", \"senioritus\", \"mate\", \"story\", \"emphasis\", \"period\", \"great\", \"excellent\", \"art\", \"program\", \"school\", \"kid\", \"lunch\", \"love\", \"teacher\", \"course\", \"high\", \"student\", \"much\", \"different\", \"many\", \"north\", \"sport\", \"life\", \"place\", \"class\", \"individual\", \"experience\", \"clean\", \"main\", \"attention\", \"decent\", \"facility\", \"education\"], \"Freq\": [71.0, 282.0, 133.0, 42.0, 36.0, 65.0, 13.0, 17.0, 21.0, 27.0, 21.0, 37.0, 43.0, 35.0, 46.0, 15.0, 64.0, 13.0, 23.0, 13.0, 19.0, 21.0, 13.0, 15.0, 10.0, 8.0, 8.0, 21.0, 16.0, 13.0, 3.4815732814335987, 3.4811918026531044, 2.641155209864778, 2.6411533835151406, 2.641149045934752, 2.6400902197325182, 5.162605528863546, 5.162471748752613, 14.177410721816429, 1.800738279764481, 1.8007366817085484, 1.8007359968274343, 1.8007354260931727, 1.8007328007155692, 1.8007342846246495, 1.8007318875407505, 1.8007302894848178, 1.8007294904568514, 1.8007292621631468, 1.8004653546405547, 1.8003197032569787, 1.8002605751874705, 1.8002298696841932, 1.8000677811538814, 1.8000242912031428, 1.8000135613990236, 1.799696918030654, 1.7995721555210549, 1.7989856689937718, 5.162533388052872, 22.486553681427623, 12.028373412006102, 20.593938600220913, 4.321384320041716, 78.0825104760537, 4.322032217575554, 4.321514447453374, 3.4819011111934968, 2.6412100003538974, 2.6406579861760187, 11.290409445804023, 4.080234027105334, 36.737143493686844, 9.720201692422343, 26.30676209209491, 13.569681921901715, 15.520403229994448, 6.0023209124094095, 3.481695418565594, 6.492218656185999, 13.56087343760094, 12.949845337066415, 4.721652585604796, 8.723050404265749, 7.381713025446547, 4.955856357695647, 5.11603315652458, 4.321930855170683, 4.833224284948429, 5.160797442722603, 4.522457196536837, 4.596958564117048, 4.556908086332937, 4.6675593054593625, 4.465048178624856, 3.495148651802929, 2.6514535887470427, 2.6514445259933774, 2.6511671173141202, 2.6501823717634507, 7.713948899957665, 1.8077622834182858, 1.807761620289969, 1.8077608466402657, 1.8077606255974934, 1.8077602940333348, 1.8077608466402657, 1.8077581941269978, 1.8077578625628394, 1.8077409527907573, 1.8076970758004525, 1.8072320018074985, 1.8072226074896751, 1.807207908145316, 1.8002152200430848, 1.799370836652836, 19.998160476908684, 5.182249653968511, 2.651327594366822, 4.338968382982402, 2.651535595615572, 23.170730801017132, 4.338950699560616, 9.797293828291002, 0.9640489843336835, 21.834939266091723, 6.826051913721656, 9.350960725745248, 50.380747709764265, 10.133495464128893, 51.69437838050831, 9.02472811893883, 8.087149559196973, 6.869531027036304, 14.249036023281539, 4.032833869206085, 16.653482713590286, 5.022249169483875, 6.36153494855406, 12.506907749204407, 5.580280047822128, 14.62413588202059, 5.695693110531722, 29.459792013726247, 6.027182114463825, 5.978555799153016, 4.206290995583803, 6.199489376339952, 6.6797140829939, 6.02612729835433, 6.5055071795324855, 6.688664546930538, 5.182746558120678, 13.22300745271679, 3.393476788390551, 58.056328731544845, 2.5743550750173267, 2.574073602785201, 2.5740315052486067, 4.212255908840443, 3.39343240102979, 1.7552025370880187, 1.7552013041057755, 1.7551969005977635, 1.755137893590403, 1.7549804241438947, 1.7549198318736499, 1.7548574782002004, 1.7548285911876418, 1.7547778627753439, 3.3930899842467785, 3.39313824669459, 8.85566668502678, 14.159830179461443, 5.716799320766036, 0.9360353795121111, 0.9360353795121111, 0.9360355556524316, 0.9360355556524316, 0.9360352914419509, 0.9360354675822714, 0.9360353795121111, 0.936034234600028, 1.7551394788532872, 1.6908086303063503, 5.762281922039478, 3.393488061371061, 6.133481442539454, 2.574442088335643, 4.772699180540474, 1.7552020086670572, 3.3933866045464653, 4.104001829277264, 15.528207964360115, 37.916171118200424, 10.645441868078093, 12.816974422438891, 22.331113513125075, 6.43771664056101, 4.746795280449553, 4.653445842524665, 16.244056318012344, 3.3937307827326815, 5.032372991164694, 6.614855324376469, 5.2293577571691605, 5.764146191191428, 4.915387283634731, 4.784806713889559, 4.639379628811854, 3.7184380656422285, 3.661647255794035, 3.7666469667960443, 3.508128988954808, 4.214247932236412, 2.575371474018223, 2.575371298491186, 1.7558973496301222, 1.7558962964679021, 1.7558957698867919, 1.7558957698867919, 1.755894541197535, 1.755892083819021, 1.7558906796027276, 1.7557971236921635, 1.7554569522950283, 1.7554557236057713, 1.755246670905055, 1.751990117793058, 7.271724949229588, 10.535655111525408, 2.5754016646685365, 7.90001484971102, 2.5756310785055105, 4.214192816746886, 0.9364059358289062, 0.9364059358289062, 0.9364059358289062, 0.9364059358289062, 0.9364059358289062, 0.9364059358289062, 0.9364059358289062, 0.9364047071396492, 0.9364047071396492, 8.844881100945614, 1.7553182859360308, 1.7539439092386269, 5.7885014789859195, 1.7558645260742585, 2.5736100602048833, 2.1915445720569, 2.5760565560424844, 2.57541693552073, 18.211556338662696, 6.612771879651998, 9.131722469572715, 77.9556236112994, 19.306965810306277, 5.517888989118535, 11.987901219277216, 9.56639692116207, 5.850304197555853, 6.379489426788919, 17.851405752101467, 2.575496098214284, 4.48492150551257, 4.705896353615933, 2.5174868699616297, 3.965784497022747, 4.077308057172101, 5.000567632296394, 4.611534071845275, 3.3555419354013014, 6.043706205571295, 5.034133316471514, 3.8392024723944282, 3.3957650090245872, 4.925136643542571, 3.340777465924445, 3.340749660291288, 2.533869238934965, 6.566393996844226, 6.5663927471528485, 1.727935146374508, 1.727935771220197, 1.727935771220197, 1.727934521528819, 1.7279343653173969, 1.7279324907803302, 1.7279299913975745, 1.72792967897473, 1.7279292103404633, 1.7276214738386713, 1.727496036066621, 3.3409189934729846, 2.5336885023194453, 2.534515954222995, 5.759849430045697, 3.3410517731818796, 0.921501333474339, 0.921501333474339, 0.921501333474339, 0.921501333474339, 0.921501333474339, 0.9215012553686279, 0.9215012553686279, 0.9215012553686279, 0.9215011772629168, 4.073120045049734, 8.190098633850315, 10.598255168631857, 1.7280151266226895, 1.7271348752584263, 3.3411420633839284, 1.7280068474173114, 1.7276489670489836, 1.7274632316679528, 7.705454570920319, 21.68298519806224, 5.371943976673993, 21.672320331843785, 23.437591882668215, 32.90188709258262, 5.314246975450678, 8.889199734748008, 4.6577075510764825, 5.848126379284661, 4.6810339779123264, 6.343057901637003, 4.343104307585978, 4.592574886155043, 4.147478868990893, 2.5350950299651998, 6.021240502245096, 4.361499139822037, 4.419628534262083, 6.012836952574837, 3.6569134558898653, 3.9197138675406187, 3.7620031280805475, 3.421057640036636, 3.3964462180415316, 3.7206419749624673, 1.5506821839378802, 1.5500960120637088, 0.8269930722637512, 0.8269930722637512, 0.8269930722637512, 0.8269940636368471, 0.8269940636368471, 0.8269940636368471, 0.8269940636368471, 0.8269940636368471, 0.8269939735120202, 0.8269939735120202, 0.8269938833871933, 0.8269921710154822, 0.8269921710154822, 0.8269921710154822, 0.8269909092679055, 0.8269902783941172, 0.8269902783941172, 0.8269902783941172, 0.8269902783941172, 0.8269902783941172, 0.8269902783941172, 0.8269902783941172, 0.8269897376451558, 0.8269888363968868, 0.8269888363968868, 0.8269888363968868, 0.8269888363968868, 2.274581196333864, 1.5507768150061272, 1.5507609530365924, 1.5506722702069209, 1.5508238601657702, 1.5507276068506388, 1.5507250833554855, 6.8449056193568145, 2.2747084525894494, 5.169651998426614, 2.153337708699729, 4.69573636415096, 3.7222505228730154, 14.932825829322159, 19.97376118946792, 2.274495577748307, 13.305498788841945, 1.5508485543683412, 3.722067749724058, 4.9337286340519695, 2.098437990142675, 3.4775626993317976, 2.7850732706091104, 1.5505999900957455, 1.5507932177246235, 2.7552459183969065, 3.313044153813746, 2.2753333781391887, 2.2527376420376073, 3.2267932524712273, 2.998679925346263, 1.9187916319298022, 2.1792992465867957, 1.6110185925529754, 1.5674061073171373, 1.5511585837728845, 1.5508963205265993, 1.5508934365321385, 0.6743747335816183, 0.6743741775327564, 0.6743741775327564, 0.6743741775327564, 0.6743741775327564, 0.6743741775327564, 0.6743737498028628, 0.6743737498028628, 0.6743737498028628, 0.6743737498028628, 0.6743734503919372, 0.6743734503919372, 0.6743731082080223, 0.6743731082080223, 0.6743731082080223, 0.6743731082080223, 0.6743731082080223, 0.6743735787109053, 0.6743735359379159, 0.6743713972884476, 0.6743703707367028, 0.674368745363107, 0.6742326844839328, 0.6742324278459967, 0.6742322567540392, 0.6742321284350711, 0.6742321284350711, 0.6742317007051775, 0.6742316151591987, 1.2630483080252846, 1.2645856548090868, 4.807602907180405, 1.2643912087994278, 1.265037594214731, 1.8557514830241575, 6.700366200087107, 2.0217286464208013, 1.8555063082491101, 1.2655277726728682, 2.530632263842968, 1.2647687232035745, 1.7208858522649177, 2.076433417808723, 1.2648540980903495, 1.2648383576302629, 1.46796848177436, 1.2645515219635726, 1.2640376472693262, 0.8878709344716192, 0.9847515842942531, 0.9892485653042649, 0.7207583192992583, 0.8159641499502667, 0.6747773129575335, 0.6747523335317436, 0.6746098994771539, 0.6746026280689617, 0.6745933463302692, 0.67456156599917], \"Total\": [71.0, 282.0, 133.0, 42.0, 36.0, 65.0, 13.0, 17.0, 21.0, 27.0, 21.0, 37.0, 43.0, 35.0, 46.0, 15.0, 64.0, 13.0, 23.0, 13.0, 19.0, 21.0, 13.0, 15.0, 10.0, 8.0, 8.0, 21.0, 16.0, 13.0, 4.139074670904822, 4.138995304121284, 3.2986567341010526, 3.2986555248008242, 3.298653558722085, 3.298300890868572, 6.638899776791935, 6.663405276306463, 19.205226463636613, 2.4582399084378754, 2.4582382359307084, 2.458237582531509, 2.45823700957255, 2.4582345334170785, 2.458236570528189, 2.4582334321764576, 2.4582318878218, 2.458231116099308, 2.4582337769433047, 2.458172150165261, 2.458133152099317, 2.458153140860695, 2.4581338226968192, 2.4581193311153666, 2.458108528382078, 2.4581159439574742, 2.4580269995436805, 2.4580484909101994, 2.45791829504375, 7.445185322449859, 44.287552537700584, 23.710928318049454, 46.59795486660771, 7.315627161657311, 282.9901117014174, 7.4112131231692, 7.4611139325915765, 5.777409499050733, 4.104757816987627, 4.117905478578444, 29.633674073235596, 7.451321181053442, 167.43356522874055, 29.803577661597718, 133.17669867419156, 51.48533760153583, 64.62856146686025, 17.054847838830355, 7.090915978534989, 19.433236654923178, 65.09276282275644, 71.54835415267291, 12.805142201017292, 42.84552248774807, 37.06173367999653, 14.597125543758855, 17.422182304914493, 13.965787266857559, 23.4955919031647, 35.87913761918528, 17.49564643023452, 21.54075216031401, 20.81001195063806, 43.105234687245606, 21.226568463744435, 4.152182427857481, 3.308487076947628, 3.308479793973525, 3.3084475600073824, 3.3082674616468823, 9.913588321991522, 2.464795984398428, 2.4647951836066753, 2.4647946007539376, 2.4647944489395135, 2.464794033896621, 2.4647948102487414, 2.4647916769809592, 2.4647913650317808, 2.4647765313944796, 2.4647766920296257, 2.4646992196821516, 2.464711321139762, 2.4647103996894866, 2.4644514038893246, 2.4644681327581104, 27.5161638419292, 7.248571073547091, 3.898521510103278, 6.53840770916826, 4.148726584183654, 36.57268509182806, 7.115817603125614, 16.22510587787902, 1.6210826048902942, 37.06173367999653, 11.621609723260244, 17.733536581468396, 133.17669867419156, 20.81001195063806, 167.43356522874055, 18.94378156856175, 16.497814637823975, 13.598117372545127, 35.87913761918528, 7.362917326709628, 51.48533760153583, 10.546852687525904, 15.535978166531125, 42.84552248774807, 13.965787266857559, 65.09276282275644, 14.68610555288812, 282.9901117014174, 17.196084317839453, 17.302163604520345, 9.04145130358055, 23.4955919031647, 29.633674073235596, 29.803577661597718, 44.287552537700584, 64.62856146686025, 17.422182304914493, 13.883773830840374, 4.054036452190765, 71.54835415267291, 3.234894896354934, 3.234857968651057, 3.2348661552579854, 5.716565856843293, 4.644119531315955, 2.4157417113254107, 2.415741115076901, 2.415736259732569, 2.415721645678711, 2.4157017587126792, 2.415698043888182, 2.4156705780194754, 2.415665101496878, 2.415652125766918, 4.86029437536868, 4.897530983389396, 13.885342346995225, 23.78623385395952, 9.723389689125293, 1.5965748743197619, 1.5965749171248313, 1.5965752372933661, 1.5965752710881507, 1.5965749432015235, 1.5965752513604876, 1.5965751828167551, 1.5965734876966435, 3.0058215168931355, 2.9878090282607106, 11.301048105161227, 6.4990596997213395, 12.882953330841794, 4.915555584004984, 9.867914864522955, 3.2220342007636367, 7.3053669878421195, 9.611497804644278, 64.62856146686025, 282.9901117014174, 43.105234687245606, 65.09276282275644, 167.43356522874055, 21.54075216031401, 13.550682665490118, 13.5110230249993, 133.17669867419156, 8.192974794359685, 17.302163604520345, 36.57268509182806, 29.633674073235596, 44.287552537700584, 29.803577661597718, 46.59795486660771, 42.84552248774807, 13.370260420047146, 15.359330431257208, 37.06173367999653, 12.985681601179378, 4.874798220760387, 3.2358653224332063, 3.2358656870359725, 2.416390368353631, 2.4163899676899248, 2.416389608612797, 2.4163898616909267, 2.4163885180277274, 2.4163851599840944, 2.4163838209200192, 2.4163727351109117, 2.416316125596575, 2.4163179394256837, 2.4162962490181545, 2.4162735685015257, 10.409483963316882, 15.293254188649744, 3.9594647325320915, 12.352161578841724, 4.076067950545041, 6.91216248195089, 1.5968988617049644, 1.5968988617049644, 1.5968988617049644, 1.5968988755201377, 1.5968988893353109, 1.5968988893353109, 1.5968988893353109, 1.596897632690835, 1.596897632690835, 15.359330431257208, 3.0063503804261074, 3.006225882673764, 10.686575200982125, 3.1399954954789076, 4.799510359286536, 4.036009286089671, 4.8610260096770554, 4.874048007441675, 43.105234687245606, 14.282426994563002, 21.53517765017574, 282.9901117014174, 64.62856146686025, 13.05474368455807, 46.59795486660771, 35.87913761918528, 17.422182304914493, 21.54075216031401, 167.43356522874055, 4.882386781814935, 13.885342346995225, 15.535978166531125, 4.804643302999839, 11.520901992045472, 13.5110230249993, 21.226568463744435, 19.433236654923178, 9.198009428234037, 42.84552248774807, 29.803577661597718, 14.490309432180753, 9.789969098711095, 51.48533760153583, 4.003137297719245, 4.003127736129179, 3.1966456593892056, 8.915987380914471, 8.915987206592813, 2.390293103021447, 2.3902942030648555, 2.3902942173332127, 2.390293067275237, 2.3902931212731526, 2.390290715759063, 2.3902879370152483, 2.3902876710800345, 2.3902871998961976, 2.3902449812466853, 2.3902350476634764, 4.726756651928965, 4.015598204880616, 4.036847530626643, 9.796978445627985, 5.690330768794273, 1.5838590889064332, 1.5838590889064332, 1.5838590889064332, 1.5838591027216065, 1.5838591027216065, 1.5838594028918211, 1.583859413862261, 1.583859413862261, 1.5838593906087488, 7.317306683845489, 16.021909227514264, 21.599799919665205, 3.11390866705865, 3.113797229330859, 6.481708525524297, 3.209301886964327, 3.20956538787389, 3.209564499227922, 17.801623573715805, 65.09276282275644, 14.019200397792222, 133.17669867419156, 167.43356522874055, 282.9901117014174, 18.94378156856175, 51.48533760153583, 15.259083256770936, 23.4955919031647, 17.196084317839453, 36.57268509182806, 17.302163604520345, 21.226568463744435, 17.054847838830355, 5.604016229107798, 42.84552248774807, 21.53517765017574, 23.710928318049454, 64.62856146686025, 14.68610555288812, 29.803577661597718, 43.105234687245606, 27.5161638419292, 46.59795486660771, 4.395862943305201, 2.2248595548731736, 2.224837419921465, 1.5011703522233826, 1.5011703522233826, 1.5011703522233826, 1.5011721583875934, 1.5011721794496846, 1.5011721856278857, 1.5011722112522343, 1.5011722400495713, 1.5011721754252214, 1.5011722260395666, 1.5011721513235652, 1.5011695031739987, 1.5011695031739987, 1.5011695031739987, 1.5011682802031991, 1.5011676644392484, 1.5011676644392484, 1.5011676644392484, 1.5011676644392484, 1.5011676644392484, 1.5011676644392484, 1.5011676644392484, 1.5011671563627442, 1.5011662604610987, 1.5011662604610987, 1.5011662604610987, 1.5011662604610987, 4.611364202657814, 3.0310137589834407, 3.043858808762771, 3.044186760522793, 3.068351717257586, 3.0683765346505174, 3.0683790605552885, 21.226568463744435, 5.475942239115918, 17.733536581468396, 5.46763685393879, 17.49564643023452, 13.598117372545127, 133.17669867419156, 282.9901117014174, 7.905805304090125, 167.43356522874055, 4.5020550785736155, 21.599799919665205, 35.87913761918528, 7.874593304291853, 19.433236654923178, 13.550682665490118, 4.6823599381378145, 4.731093179958731, 15.259083256770936, 23.4955919031647, 12.641584605612062, 14.282426994563002, 51.48533760153583, 44.287552537700584, 10.231416496347808, 29.633674073235596, 11.301048105161227, 16.22510587787902, 7.001704689208225, 5.524790279746084, 12.882953330841794, 1.3676338716992829, 1.3676333269160243, 1.3676333269160243, 1.3676333269160243, 1.3676333269160243, 1.3676333269160243, 1.3676328991861308, 1.3676328991861308, 1.3676328991861308, 1.3676328991861308, 1.367632619301633, 1.367632619301633, 1.3676323103625312, 1.3676323103625312, 1.3676323103625312, 1.3676323103625312, 1.3676323103625312, 1.3676335579673538, 1.3676335737736478, 1.3676306485553038, 1.367629655248372, 1.367628100966333, 1.3676582026093116, 1.3676583279190853, 1.3676582567056235, 1.36765838851499, 1.3676584313200595, 1.3676585852948673, 1.3676586314620143, 2.777298333236085, 2.80122352928138, 42.84552248774807, 4.319683286519952, 4.444384788453398, 13.370260420047146, 282.9901117014174, 21.599799919665205, 17.733536581468396, 9.198009428234037, 133.17669867419156, 13.5110230249993, 46.59795486660771, 167.43356522874055, 21.53517765017574, 21.54075216031401, 64.62856146686025, 37.06173367999653, 43.105234687245606, 6.064506406547529, 12.805142201017292, 51.48533760153583, 2.9878090282607106, 23.710928318049454, 7.1753893327508065, 6.2599350876143225, 5.387496763716159, 3.8465583733876443, 14.490309432180753, 16.021909227514264], \"Category\": [\"Default\", \"Default\", \"Default\", \"Default\", \"Default\", \"Default\", \"Default\", \"Default\", \"Default\", \"Default\", \"Default\", \"Default\", \"Default\", \"Default\", \"Default\", \"Default\", \"Default\", \"Default\", \"Default\", \"Default\", \"Default\", \"Default\", \"Default\", \"Default\", \"Default\", \"Default\", \"Default\", \"Default\", \"Default\", \"Default\", \"Topic1\", \"Topic1\", \"Topic1\", \"Topic1\", \"Topic1\", \"Topic1\", \"Topic1\", \"Topic1\", \"Topic1\", \"Topic1\", \"Topic1\", \"Topic1\", \"Topic1\", \"Topic1\", \"Topic1\", \"Topic1\", \"Topic1\", \"Topic1\", \"Topic1\", \"Topic1\", \"Topic1\", \"Topic1\", \"Topic1\", \"Topic1\", \"Topic1\", \"Topic1\", \"Topic1\", \"Topic1\", \"Topic1\", \"Topic1\", \"Topic1\", \"Topic1\", \"Topic1\", \"Topic1\", \"Topic1\", \"Topic1\", \"Topic1\", \"Topic1\", \"Topic1\", \"Topic1\", \"Topic1\", \"Topic1\", \"Topic1\", \"Topic1\", \"Topic1\", \"Topic1\", \"Topic1\", \"Topic1\", \"Topic1\", \"Topic1\", \"Topic1\", \"Topic1\", \"Topic1\", \"Topic1\", \"Topic1\", \"Topic1\", \"Topic1\", \"Topic1\", \"Topic1\", \"Topic1\", \"Topic1\", \"Topic1\", \"Topic1\", \"Topic1\", \"Topic1\", \"Topic2\", \"Topic2\", \"Topic2\", \"Topic2\", \"Topic2\", \"Topic2\", \"Topic2\", \"Topic2\", \"Topic2\", \"Topic2\", \"Topic2\", \"Topic2\", \"Topic2\", \"Topic2\", \"Topic2\", \"Topic2\", \"Topic2\", \"Topic2\", \"Topic2\", \"Topic2\", \"Topic2\", \"Topic2\", \"Topic2\", \"Topic2\", \"Topic2\", \"Topic2\", \"Topic2\", \"Topic2\", \"Topic2\", \"Topic2\", \"Topic2\", \"Topic2\", \"Topic2\", \"Topic2\", \"Topic2\", \"Topic2\", \"Topic2\", \"Topic2\", \"Topic2\", \"Topic2\", \"Topic2\", \"Topic2\", \"Topic2\", \"Topic2\", \"Topic2\", \"Topic2\", \"Topic2\", \"Topic2\", \"Topic2\", \"Topic2\", \"Topic2\", \"Topic2\", \"Topic2\", \"Topic2\", \"Topic2\", \"Topic2\", \"Topic2\", \"Topic2\", \"Topic3\", \"Topic3\", \"Topic3\", \"Topic3\", \"Topic3\", \"Topic3\", \"Topic3\", \"Topic3\", \"Topic3\", \"Topic3\", \"Topic3\", \"Topic3\", \"Topic3\", \"Topic3\", \"Topic3\", \"Topic3\", \"Topic3\", \"Topic3\", \"Topic3\", \"Topic3\", \"Topic3\", \"Topic3\", \"Topic3\", \"Topic3\", \"Topic3\", \"Topic3\", \"Topic3\", \"Topic3\", \"Topic3\", \"Topic3\", \"Topic3\", \"Topic3\", \"Topic3\", \"Topic3\", \"Topic3\", \"Topic3\", \"Topic3\", \"Topic3\", \"Topic3\", \"Topic3\", \"Topic3\", \"Topic3\", \"Topic3\", \"Topic3\", \"Topic3\", \"Topic3\", \"Topic3\", \"Topic3\", \"Topic3\", \"Topic3\", \"Topic3\", \"Topic3\", \"Topic3\", \"Topic3\", \"Topic3\", \"Topic3\", \"Topic3\", \"Topic3\", \"Topic3\", \"Topic3\", \"Topic3\", \"Topic4\", \"Topic4\", \"Topic4\", \"Topic4\", \"Topic4\", \"Topic4\", \"Topic4\", \"Topic4\", \"Topic4\", \"Topic4\", \"Topic4\", \"Topic4\", \"Topic4\", \"Topic4\", \"Topic4\", \"Topic4\", \"Topic4\", \"Topic4\", \"Topic4\", \"Topic4\", \"Topic4\", \"Topic4\", \"Topic4\", \"Topic4\", \"Topic4\", \"Topic4\", \"Topic4\", \"Topic4\", \"Topic4\", \"Topic4\", \"Topic4\", \"Topic4\", \"Topic4\", \"Topic4\", \"Topic4\", \"Topic4\", \"Topic4\", \"Topic4\", \"Topic4\", \"Topic4\", \"Topic4\", \"Topic4\", \"Topic4\", \"Topic4\", \"Topic4\", \"Topic4\", \"Topic4\", \"Topic4\", \"Topic4\", \"Topic4\", \"Topic4\", \"Topic4\", \"Topic4\", \"Topic4\", \"Topic4\", \"Topic4\", \"Topic4\", \"Topic4\", \"Topic4\", \"Topic4\", \"Topic4\", \"Topic4\", \"Topic4\", \"Topic4\", \"Topic5\", \"Topic5\", \"Topic5\", \"Topic5\", \"Topic5\", \"Topic5\", \"Topic5\", \"Topic5\", \"Topic5\", \"Topic5\", \"Topic5\", \"Topic5\", \"Topic5\", \"Topic5\", \"Topic5\", \"Topic5\", \"Topic5\", \"Topic5\", \"Topic5\", \"Topic5\", \"Topic5\", \"Topic5\", \"Topic5\", \"Topic5\", \"Topic5\", \"Topic5\", \"Topic5\", \"Topic5\", \"Topic5\", \"Topic5\", \"Topic5\", \"Topic5\", \"Topic5\", \"Topic5\", \"Topic5\", \"Topic5\", \"Topic5\", \"Topic5\", \"Topic5\", \"Topic5\", \"Topic5\", \"Topic5\", \"Topic5\", \"Topic5\", \"Topic5\", \"Topic5\", \"Topic5\", \"Topic5\", \"Topic5\", \"Topic5\", \"Topic5\", \"Topic5\", \"Topic5\", \"Topic5\", \"Topic5\", \"Topic5\", \"Topic5\", \"Topic5\", \"Topic5\", \"Topic5\", \"Topic5\", \"Topic5\", \"Topic5\", \"Topic5\", \"Topic6\", \"Topic6\", \"Topic6\", \"Topic6\", \"Topic6\", \"Topic6\", \"Topic6\", \"Topic6\", \"Topic6\", \"Topic6\", \"Topic6\", \"Topic6\", \"Topic6\", \"Topic6\", \"Topic6\", \"Topic6\", \"Topic6\", \"Topic6\", \"Topic6\", \"Topic6\", \"Topic6\", \"Topic6\", \"Topic6\", \"Topic6\", \"Topic6\", \"Topic6\", \"Topic6\", \"Topic6\", \"Topic6\", \"Topic6\", \"Topic6\", \"Topic6\", \"Topic6\", \"Topic6\", \"Topic6\", \"Topic6\", \"Topic6\", \"Topic6\", \"Topic6\", \"Topic6\", \"Topic6\", \"Topic6\", \"Topic6\", \"Topic6\", \"Topic6\", \"Topic6\", \"Topic6\", \"Topic6\", \"Topic6\", \"Topic6\", \"Topic6\", \"Topic6\", \"Topic6\", \"Topic6\", \"Topic6\", \"Topic6\", \"Topic6\", \"Topic6\", \"Topic6\", \"Topic6\", \"Topic6\", \"Topic6\", \"Topic6\", \"Topic6\", \"Topic6\", \"Topic6\", \"Topic6\", \"Topic6\", \"Topic7\", \"Topic7\", \"Topic7\", \"Topic7\", \"Topic7\", \"Topic7\", \"Topic7\", \"Topic7\", \"Topic7\", \"Topic7\", \"Topic7\", \"Topic7\", \"Topic7\", \"Topic7\", \"Topic7\", \"Topic7\", \"Topic7\", \"Topic7\", \"Topic7\", \"Topic7\", \"Topic7\", \"Topic7\", \"Topic7\", \"Topic7\", \"Topic7\", \"Topic7\", \"Topic7\", \"Topic7\", \"Topic7\", \"Topic7\", \"Topic7\", \"Topic7\", \"Topic7\", \"Topic7\", \"Topic7\", \"Topic7\", \"Topic7\", \"Topic7\", \"Topic7\", \"Topic7\", \"Topic7\", \"Topic7\", \"Topic7\", \"Topic7\", \"Topic7\", \"Topic7\", \"Topic7\", \"Topic7\", \"Topic7\", \"Topic7\", \"Topic7\", \"Topic7\", \"Topic7\", \"Topic7\", \"Topic7\", \"Topic7\", \"Topic7\", \"Topic7\", \"Topic7\"], \"logprob\": [30.0, 29.0, 28.0, 27.0, 26.0, 25.0, 24.0, 23.0, 22.0, 21.0, 20.0, 19.0, 18.0, 17.0, 16.0, 15.0, 14.0, 13.0, 12.0, 11.0, 10.0, 9.0, 8.0, 7.0, 6.0, 5.0, 4.0, 3.0, 2.0, 1.0, -5.6406, -5.6407, -5.9169, -5.9169, -5.9169, -5.9173, -5.2466, -5.2467, -4.2364, -6.2999, -6.2999, -6.2999, -6.2999, -6.2999, -6.2999, -6.2999, -6.2999, -6.2999, -6.2999, -6.3, -6.3001, -6.3001, -6.3002, -6.3003, -6.3003, -6.3003, -6.3005, -6.3005, -6.3009, -5.2466, -3.7752, -4.4008, -3.8631, -5.4245, -2.5303, -5.4244, -5.4245, -5.6405, -5.9168, -5.917, -4.4641, -5.4819, -3.2843, -4.6139, -3.6183, -4.2802, -4.1459, -5.0959, -5.6406, -5.0175, -4.2809, -4.327, -5.3359, -4.7221, -4.8891, -5.2875, -5.2557, -5.4244, -5.3126, -5.247, -5.379, -5.3627, -5.3714, -5.3474, -5.3918, -5.6044, -5.8807, -5.8807, -5.8808, -5.8812, -4.8128, -6.2637, -6.2637, -6.2637, -6.2637, -6.2637, -6.2637, -6.2637, -6.2637, -6.2637, -6.2637, -6.264, -6.264, -6.264, -6.2679, -6.2684, -3.8602, -5.2106, -5.8807, -5.3882, -5.8807, -3.7129, -5.3882, -4.5737, -6.8924, -3.7723, -4.9351, -4.6203, -2.9362, -4.54, -2.9105, -4.6558, -4.7655, -4.9287, -4.1991, -5.4613, -4.0432, -5.2419, -5.0055, -4.3295, -5.1366, -4.1731, -5.1161, -3.4728, -5.0595, -5.0676, -5.4192, -5.0313, -4.9567, -5.0597, -4.9832, -4.9554, -5.2105, -4.0468, -5.4069, -2.5673, -5.6831, -5.6832, -5.6833, -5.1907, -5.4069, -6.0661, -6.0661, -6.0661, -6.0662, -6.0663, -6.0663, -6.0663, -6.0664, -6.0664, -5.407, -5.407, -4.4477, -3.9783, -4.8853, -6.6948, -6.6948, -6.6948, -6.6948, -6.6948, -6.6948, -6.6948, -6.6948, -6.0662, -6.1035, -4.8774, -5.4069, -4.815, -5.6831, -5.0658, -6.0661, -5.4069, -5.2168, -3.8861, -2.9933, -4.2636, -4.078, -3.5227, -4.7666, -5.0713, -5.0911, -3.841, -5.4068, -5.0128, -4.7394, -4.9744, -4.8771, -5.0364, -5.0633, -5.0941, -5.3154, -5.3308, -5.3025, -5.3736, -5.1868, -5.6792, -5.6792, -6.0623, -6.0623, -6.0623, -6.0623, -6.0623, -6.0623, -6.0623, -6.0623, -6.0625, -6.0625, -6.0626, -6.0645, -4.6412, -4.2705, -5.6792, -4.5584, -5.6791, -5.1868, -6.6909, -6.6909, -6.6909, -6.6909, -6.6909, -6.6909, -6.6909, -6.6909, -6.6909, -4.4454, -6.0626, -6.0634, -4.8694, -6.0623, -5.6799, -5.8406, -5.679, -5.6792, -3.7232, -4.7362, -4.4135, -2.2691, -3.6648, -4.9172, -4.1413, -4.367, -4.8587, -4.7721, -3.7432, -5.6792, -5.1245, -5.0764, -5.702, -5.2475, -5.2198, -5.0157, -5.0967, -5.4146, -4.8262, -5.009, -5.28, -5.4027, -5.0309, -5.3025, -5.3025, -5.5789, -4.6267, -4.6267, -5.9617, -5.9617, -5.9617, -5.9617, -5.9617, -5.9617, -5.9617, -5.9617, -5.9617, -5.9619, -5.962, -5.3024, -5.579, -5.5787, -4.7577, -5.3024, -6.5904, -6.5904, -6.5904, -6.5904, -6.5904, -6.5904, -6.5904, -6.5904, -6.5904, -5.1042, -4.4057, -4.148, -5.9617, -5.9622, -5.3023, -5.9617, -5.9619, -5.962, -4.4667, -3.4321, -4.8275, -3.4326, -3.3543, -3.0151, -4.8383, -4.3238, -4.9701, -4.7425, -4.9651, -4.6613, -5.0401, -4.9842, -5.0862, -5.5784, -4.7134, -5.0358, -5.0226, -4.7148, -5.212, -5.1426, -5.1837, -5.2787, -5.2859, -4.6447, -5.5199, -5.5203, -6.1486, -6.1486, -6.1486, -6.1486, -6.1486, -6.1486, -6.1486, -6.1486, -6.1486, -6.1486, -6.1486, -6.1486, -6.1486, -6.1486, -6.1486, -6.1486, -6.1486, -6.1486, -6.1486, -6.1486, -6.1486, -6.1486, -6.1486, -6.1486, -6.1486, -6.1486, -6.1486, -5.1368, -5.5199, -5.5199, -5.52, -5.5199, -5.5199, -5.5199, -4.0351, -5.1368, -4.3158, -5.1916, -4.412, -4.6443, -3.2551, -2.9642, -5.1369, -3.3705, -5.5198, -4.6444, -4.3625, -5.2174, -4.7123, -4.9344, -5.52, -5.5199, -4.9451, -4.7608, -5.1365, -5.1465, -4.7872, -4.8605, -5.3069, -5.1796, -5.4818, -5.5092, -5.5196, -5.5198, -5.5198, -5.6073, -5.6073, -5.6073, -5.6073, -5.6073, -5.6073, -5.6073, -5.6073, -5.6073, -5.6073, -5.6073, -5.6073, -5.6073, -5.6073, -5.6073, -5.6073, -5.6073, -5.6073, -5.6073, -5.6073, -5.6073, -5.6073, -5.6075, -5.6075, -5.6075, -5.6075, -5.6075, -5.6075, -5.6075, -4.9798, -4.9786, -3.6432, -4.9788, -4.9782, -4.5951, -3.3112, -4.5094, -4.5952, -4.9779, -4.2849, -4.9785, -4.6705, -4.4827, -4.9784, -4.9784, -4.8295, -4.9786, -4.979, -5.3323, -5.2287, -5.2242, -5.5408, -5.4167, -5.6067, -5.6068, -5.607, -5.607, -5.607, -5.607], \"loglift\": [30.0, 29.0, 28.0, 27.0, 26.0, 25.0, 24.0, 23.0, 22.0, 21.0, 20.0, 19.0, 18.0, 17.0, 16.0, 15.0, 14.0, 13.0, 12.0, 11.0, 10.0, 9.0, 8.0, 7.0, 6.0, 5.0, 4.0, 3.0, 2.0, 1.0, 1.3904, 1.3903, 1.3411, 1.3411, 1.3411, 1.3408, 1.3119, 1.3082, 1.2599, 1.2522, 1.2522, 1.2522, 1.2522, 1.2522, 1.2522, 1.2522, 1.2522, 1.2522, 1.2522, 1.252, 1.252, 1.2519, 1.2519, 1.2518, 1.2518, 1.2518, 1.2517, 1.2516, 1.2513, 1.1973, 0.8856, 0.8847, 0.7468, 1.037, 0.2758, 1.0241, 1.0173, 1.057, 1.1225, 1.1191, 0.5984, 0.9612, 0.0466, 0.443, -0.0584, 0.2299, 0.1369, 0.5191, 0.8521, 0.467, -0.0052, -0.1459, 0.5657, -0.0282, -0.0502, 0.4831, 0.338, 0.3905, -0.0179, -0.3757, 0.2105, 0.0189, 0.0446, -0.6596, 0.0044, 1.4234, 1.3743, 1.3743, 1.3742, 1.3739, 1.3448, 1.2857, 1.2857, 1.2857, 1.2857, 1.2857, 1.2857, 1.2857, 1.2857, 1.2857, 1.2856, 1.2854, 1.2854, 1.2854, 1.2816, 1.2811, 1.2765, 1.2601, 1.2101, 1.1856, 1.148, 1.1393, 1.101, 1.0912, 1.076, 1.0666, 1.0636, 0.9557, 0.6236, 0.8761, 0.4204, 0.8542, 0.8827, 0.9128, 0.6722, 0.9937, 0.467, 0.8537, 0.7028, 0.3644, 0.6783, 0.1025, 0.6485, -0.6667, 0.5473, 0.533, 0.8304, 0.2633, 0.1058, -0.0028, -0.3224, -0.6726, 0.3833, 1.774, 1.6449, 1.6138, 1.5944, 1.5943, 1.5942, 1.5174, 1.509, 1.5033, 1.5033, 1.5033, 1.5033, 1.5032, 1.5032, 1.5032, 1.5032, 1.5031, 1.4634, 1.4558, 1.373, 1.3041, 1.2916, 1.2888, 1.2888, 1.2888, 1.2888, 1.2888, 1.2888, 1.2888, 1.2888, 1.2848, 1.2534, 1.1492, 1.173, 1.0806, 1.176, 1.0964, 1.2153, 1.056, 0.9718, 0.3968, -0.1873, 0.4242, 0.1977, -0.1918, 0.615, 0.7738, 0.7569, -0.2812, 0.9414, 0.5878, 0.1128, 0.0881, -0.2163, 0.0205, -0.4534, -0.4003, 0.543, 0.3889, -0.4636, 0.514, 1.6806, 1.5979, 1.5979, 1.5069, 1.5069, 1.5069, 1.5069, 1.5069, 1.5069, 1.5069, 1.5069, 1.5067, 1.5067, 1.5066, 1.5048, 1.4675, 1.4536, 1.3961, 1.3793, 1.3672, 1.3314, 1.2925, 1.2925, 1.2925, 1.2925, 1.2925, 1.2925, 1.2925, 1.2925, 1.2925, 1.2744, 1.2882, 1.2874, 1.2131, 1.245, 1.203, 1.2156, 1.1913, 1.1883, 0.9647, 1.0562, 0.9683, 0.537, 0.6181, 0.9651, 0.4686, 0.5043, 0.735, 0.6094, -0.4123, 1.1867, 0.6961, 0.6319, 1.1799, 0.7598, 0.6282, 0.3805, 0.3878, 0.8179, -0.1323, 0.0479, 0.498, 0.7674, -0.5207, 1.762, 1.7619, 1.7105, 1.6369, 1.6369, 1.6183, 1.6183, 1.6183, 1.6183, 1.6183, 1.6183, 1.6183, 1.6183, 1.6183, 1.6182, 1.6181, 1.5958, 1.4823, 1.4774, 1.4117, 1.4103, 1.4012, 1.4012, 1.4012, 1.4012, 1.4012, 1.4012, 1.4012, 1.4012, 1.4012, 1.357, 1.2718, 1.2308, 1.3539, 1.3534, 1.2802, 1.3237, 1.3235, 1.3233, 1.1055, 0.8435, 0.9836, 0.1272, -0.0234, -0.2091, 0.6717, 0.1864, 0.7562, 0.5521, 0.6417, 0.1909, 0.5606, 0.412, 0.5289, 1.1496, -0.0195, 0.346, 0.2629, -0.4319, 0.5525, -0.0858, -0.4959, -0.142, -0.676, 2.3261, 2.1318, 2.1315, 1.8966, 1.8966, 1.8966, 1.8966, 1.8966, 1.8966, 1.8966, 1.8966, 1.8966, 1.8966, 1.8966, 1.8966, 1.8966, 1.8966, 1.8966, 1.8966, 1.8966, 1.8966, 1.8966, 1.8966, 1.8966, 1.8966, 1.8966, 1.8966, 1.8966, 1.8966, 1.8966, 1.7861, 1.8227, 1.8185, 1.8183, 1.8105, 1.8104, 1.8104, 1.3611, 1.6143, 1.2602, 1.561, 1.1775, 1.1972, 0.3047, -0.1582, 1.247, -0.0396, 1.4271, 0.7344, 0.5088, 1.1704, 0.7722, 0.9107, 1.3877, 1.3775, 0.7812, 0.5339, 0.778, 0.646, -0.277, -0.1997, 0.8191, -0.1171, 0.5448, 0.1557, 0.9857, 1.2224, 0.3758, 2.5311, 2.5311, 2.5311, 2.5311, 2.5311, 2.5311, 2.5311, 2.5311, 2.5311, 2.5311, 2.5311, 2.5311, 2.5311, 2.5311, 2.5311, 2.5311, 2.5311, 2.5311, 2.5311, 2.5311, 2.5311, 2.5311, 2.5308, 2.5308, 2.5308, 2.5308, 2.5308, 2.5308, 2.5308, 2.4502, 2.4428, 1.0507, 2.0095, 1.9816, 1.2634, -0.5051, 0.8694, 0.9808, 1.2546, -0.7251, 0.8695, -0.0606, -1.1518, 0.4034, 0.4031, -0.5466, -0.1397, -0.2912, 1.3167, 0.6729, -0.714, 1.8161, -0.1312, 0.8741, 1.0106, 1.1604, 1.4973, 0.171, 0.0705]}, \"token.table\": {\"Topic\": [4, 1, 2, 3, 4, 5, 1, 2, 3, 5, 6, 5, 6, 1, 2, 3, 4, 6, 7, 2, 3, 1, 1, 5, 7, 4, 5, 1, 7, 2, 3, 4, 7, 5, 1, 2, 5, 6, 7, 5, 3, 4, 4, 1, 7, 2, 4, 6, 6, 4, 1, 2, 4, 5, 5, 3, 5, 6, 2, 3, 6, 1, 2, 5, 6, 7, 6, 4, 1, 2, 3, 5, 6, 1, 5, 6, 5, 3, 6, 3, 1, 2, 5, 6, 4, 1, 1, 2, 4, 6, 1, 4, 5, 3, 5, 1, 2, 3, 6, 7, 3, 5, 6, 3, 1, 2, 3, 4, 5, 6, 7, 2, 3, 4, 7, 1, 4, 1, 3, 2, 5, 1, 2, 5, 6, 7, 3, 3, 4, 5, 1, 2, 4, 1, 2, 5, 7, 1, 2, 3, 4, 7, 2, 1, 2, 5, 1, 4, 7, 7, 5, 7, 1, 3, 4, 5, 6, 7, 5, 7, 1, 1, 3, 4, 6, 7, 1, 3, 4, 5, 1, 2, 3, 2, 5, 4, 7, 1, 2, 5, 6, 1, 2, 3, 4, 5, 1, 2, 4, 5, 6, 7, 2, 1, 4, 7, 5, 4, 1, 4, 6, 5, 1, 3, 6, 7, 7, 7, 7, 3, 4, 6, 7, 6, 6, 6, 1, 2, 3, 4, 5, 7, 4, 3, 1, 1, 2, 3, 4, 5, 6, 7, 2, 6, 3, 4, 5, 2, 7, 3, 7, 6, 3, 7, 2, 3, 4, 5, 2, 3, 4, 5, 3, 1, 2, 3, 4, 6, 2, 4, 6, 1, 2, 3, 4, 5, 6, 1, 2, 4, 5, 2, 5, 6, 2, 6, 1, 2, 3, 4, 5, 1, 2, 1, 2, 3, 4, 5, 7, 6, 1, 1, 2, 3, 4, 5, 6, 3, 5, 5, 6, 3, 2, 2, 3, 5, 1, 2, 3, 4, 5, 6, 1, 2, 3, 4, 5, 7, 3, 1, 4, 6, 7, 1, 2, 1, 3, 4, 6, 4, 3, 7, 6, 1, 1, 2, 3, 4, 7, 1, 2, 6, 1, 6, 3, 1, 3, 4, 6, 3, 4, 2, 3, 1, 4, 5, 6, 7, 3, 7, 2, 3, 4, 2, 5, 1, 4, 1, 3, 6, 7, 2, 6, 1, 2, 3, 4, 5, 6, 7, 2, 3, 4, 5, 6, 7, 2, 1, 2, 6, 7, 2, 3, 6, 7, 3, 4, 5, 7, 1, 2, 3, 4, 5, 7, 7, 2, 3, 4, 7, 3, 6, 2, 4, 5, 7, 5, 6, 7, 5, 2, 2, 3, 4, 5, 6, 7, 3, 1, 2, 3, 6, 1, 2, 3, 4, 6, 7, 6, 1, 2, 3, 4, 6, 7, 4, 2, 2, 3, 7, 1, 3, 5, 6, 1, 2, 4, 5, 2, 4, 5, 6, 1, 3, 6, 1, 2, 3, 5, 1, 5, 1, 2, 3, 4, 5, 7, 6, 4, 7, 1, 2, 4, 5, 6, 7, 4, 1, 4, 5, 6, 2, 7, 5, 4, 7, 1, 2, 3, 4, 5, 7, 1, 2, 2, 1, 3, 5, 2, 5, 1, 1, 5, 2, 4, 6, 6, 1, 2, 3, 5, 6, 6, 1, 2, 4, 5, 6, 1, 2, 3, 4, 7, 1, 3, 4, 4, 4, 6, 7, 2, 6, 7, 1, 2, 5, 6, 7, 1, 6, 4, 5, 6, 7, 1, 1, 7, 4, 6, 4, 6, 5, 5, 6, 2, 5, 1, 3, 4, 5, 6, 1, 2, 3, 1, 6, 2, 1, 2, 4, 2, 1, 2, 3, 4, 5, 6, 7, 4, 1, 1, 3, 2, 4, 5, 6, 7, 4, 7, 5, 2, 2, 5, 1, 3, 4, 5, 3, 4, 6, 1, 3, 4, 5, 6, 1, 3, 3, 4, 7, 4, 4, 5, 6, 3, 1, 2, 3, 4, 5, 7, 1, 2, 3, 4, 5, 6, 1, 2, 3, 4, 4, 6, 2, 6, 7, 1, 2, 3, 4, 5, 6, 7, 3, 5, 7, 1, 3, 4, 5, 6, 4, 5, 5, 3, 3, 6, 7, 4, 1, 2, 1, 2, 3, 4, 5, 6, 7, 2, 3, 4, 6, 3, 3, 5, 5, 1, 2, 5, 7, 1, 2, 3, 4, 5, 6, 1, 2, 3, 4, 5, 6, 4, 2, 4, 2, 6, 5, 7, 5, 6, 2, 3, 4, 6, 5, 2, 3, 6, 6, 1, 2, 3, 5, 4, 1, 2, 4, 5, 6, 7, 1, 3, 5, 6, 2, 3, 5, 6, 1, 2, 3, 5, 6, 1, 2, 4, 5, 6], \"Freq\": [0.8277208450532852, 0.08408224741585456, 0.12612337112378183, 0.5885757319109819, 0.12612337112378183, 0.12612337112378183, 0.05617465147822278, 0.22469860591289112, 0.16852395443466833, 0.44939721182578224, 0.11234930295644556, 0.8367170808919693, 0.6661461066028221, 0.06163287978067247, 0.6163287978067248, 0.06163287978067247, 0.12326575956134495, 0.12326575956134495, 0.06163287978067247, 0.811426689499608, 0.8279274575756644, 0.9094619809551068, 0.4500060402501693, 0.22500302012508466, 0.22500302012508466, 0.3115687502901267, 0.6231375005802534, 0.8135910109796577, 0.7311901372387383, 0.09606624147018328, 0.09606624147018328, 0.672463690291283, 0.09606624147018328, 0.8367174709544626, 0.1856149606872757, 0.1856149606872757, 0.3712299213745514, 0.1856149606872757, 0.1856149606872757, 0.8367174834673544, 0.6481655097216664, 0.2880735598762962, 0.6262137346208186, 0.7248135790376078, 0.7311767709713848, 0.8069731907520742, 0.10087164884400927, 0.10087164884400927, 0.6661460779257271, 0.6262137346208186, 0.2807260458640007, 0.09357534862133356, 0.5614520917280014, 0.09357534862133356, 0.6313691677732227, 0.3115942454843032, 0.6231884909686064, 0.898942089921608, 0.6117697424085585, 0.15294243560213963, 0.15294243560213963, 0.8136312711027273, 0.5621279553656638, 0.14053198884141596, 0.14053198884141596, 0.14053198884141596, 0.6661478351145544, 0.927109042271312, 0.18184226613396434, 0.4849127096905716, 0.1212281774226429, 0.1212281774226429, 0.06061408871132145, 0.546774720965116, 0.273387360482558, 0.136693680241279, 0.6313692973094245, 0.6263413539721792, 0.6661469156507791, 0.8279337818002428, 0.13581573113314913, 0.5432629245325965, 0.13581573113314913, 0.13581573113314913, 0.8277062669133208, 0.8136126673900937, 0.18289437040421175, 0.18289437040421175, 0.18289437040421175, 0.3657887408084235, 0.2048178574718058, 0.6144535724154174, 0.2048178574718058, 0.6263408099955606, 0.8367192793088347, 0.28564472350320824, 0.28564472350320824, 0.14282236175160412, 0.28564472350320824, 0.14282236175160412, 0.626340793203012, 0.3299226197954924, 0.6598452395909848, 0.8279030786377772, 0.27192207824975734, 0.3301910950175625, 0.058269016767805146, 0.0971150279463419, 0.17480705030341542, 0.058269016767805146, 0.01942300558926838, 0.418095780016706, 0.27873052001113735, 0.27873052001113735, 0.13936526000556868, 0.24533447727883992, 0.7360034318365198, 0.18169530458045266, 0.810640589666635, 0.22431615417953513, 0.785106539628373, 0.07353959173929621, 0.5147771421750735, 0.14707918347859242, 0.29415836695718484, 0.7311905155571964, 0.9273954024724542, 0.4616052380821538, 0.30773682538810254, 0.15386841269405127, 0.8136337256501835, 0.8114540566459261, 0.6262142165712656, 0.2723662842810886, 0.40854942642163294, 0.2723662842810886, 0.06809157107027215, 0.07401364042898238, 0.14802728085796477, 0.3700682021449119, 0.29605456171592953, 0.07401364042898238, 0.8114325881172172, 0.28532297752373453, 0.35665372190466815, 0.35665372190466815, 0.25997265683486953, 0.5199453136697391, 0.25997265683486953, 0.7311768090434899, 0.6313692973094245, 0.7311901372387383, 0.23211817130563525, 0.2785418055667623, 0.2785418055667623, 0.04642363426112705, 0.04642363426112705, 0.04642363426112705, 0.836719372399354, 0.7311903659198995, 0.9095592243586916, 0.39095270937585563, 0.19547635468792782, 0.19547635468792782, 0.19547635468792782, 0.09773817734396391, 0.20429073675659623, 0.20429073675659623, 0.30643610513489433, 0.30643610513489433, 0.813590241186398, 0.20418451733978368, 0.612553552019351, 0.22431615856527087, 0.7851065549784481, 0.8276830786089752, 0.7311905155571964, 0.33180513827597075, 0.4424068510346276, 0.1106017127586569, 0.1106017127586569, 0.24026896341338688, 0.48053792682677376, 0.14416137804803214, 0.04805379268267738, 0.09610758536535476, 0.18724360233224452, 0.12482906822149635, 0.062414534110748175, 0.4993162728859854, 0.062414534110748175, 0.062414534110748175, 0.8114268261345056, 0.8135922704987415, 0.3600621467391327, 0.3600621467391327, 0.7494140076831142, 0.827686875844591, 0.2083545872684924, 0.6250637618054773, 0.2083545872684924, 0.6313691721463365, 0.4230765121292287, 0.28205100808615247, 0.14102550404307623, 0.14102550404307623, 0.7311901372387383, 0.7311906807283023, 0.7311906807283023, 0.23149845339833366, 0.23149845339833366, 0.23149845339833366, 0.23149845339833366, 0.6661481083617289, 0.6661487313822518, 0.6661487313822518, 0.5060957478777939, 0.08434929131296565, 0.04217464565648282, 0.12652393696944847, 0.1686985826259313, 0.04217464565648282, 0.6262137346208186, 0.9363448409914871, 0.8136607125842349, 0.13802327751250826, 0.2070349162687624, 0.2070349162687624, 0.2760465550250165, 0.06901163875625413, 0.06901163875625413, 0.06901163875625413, 0.3259078789356568, 0.6518157578713136, 0.4106569875261186, 0.2737713250174124, 0.2737713250174124, 0.769522495188317, 0.25650749839610565, 0.6653755017587443, 0.33268775087937213, 0.6661487313822518, 0.6263406676000279, 0.7311900137097035, 0.7268455048782618, 0.10902682573173926, 0.03634227524391309, 0.10902682573173926, 0.34719503757273285, 0.08679875939318321, 0.34719503757273285, 0.17359751878636642, 0.8279180442522958, 0.3087493919073935, 0.15437469595369674, 0.051458231984565575, 0.25729115992282786, 0.15437469595369674, 0.21685556725787095, 0.21685556725787095, 0.4337111345157419, 0.07379702002370157, 0.07379702002370157, 0.3689851001185078, 0.07379702002370157, 0.2213910600711047, 0.2213910600711047, 0.7247996807325501, 0.2733246105996111, 0.13666230529980555, 0.5466492211992222, 0.362004691351274, 0.362004691351274, 0.362004691351274, 0.32590524295412077, 0.6518104859082415, 0.21507767365968367, 0.23044036463537537, 0.199714982683992, 0.03072538195138338, 0.3379792014652172, 0.7503670859971328, 0.15007341719942655, 0.21005695525299295, 0.30341560203210094, 0.11669830847388497, 0.14003797016866198, 0.14003797016866198, 0.11669830847388497, 0.8989331464178684, 0.8135907947273402, 0.2857853820913651, 0.05715707641827302, 0.17147122925481906, 0.17147122925481906, 0.05715707641827302, 0.2857853820913651, 0.6263406543422453, 0.938483748171582, 0.6423025819281722, 0.3211512909640861, 0.9273871628349927, 0.811426447642375, 0.6288846427942258, 0.1913996738938948, 0.16405686333762412, 0.11630554741611569, 0.34891664224834706, 0.11630554741611569, 0.11630554741611569, 0.29076386854028924, 0.058152773708057846, 0.4506635550876652, 0.08584067715955528, 0.1073008464494441, 0.2575220314786658, 0.06438050786966645, 0.04292033857977764, 0.8279049469669373, 0.9094614388936968, 0.5786901003043319, 0.28934505015216594, 0.14467252507608297, 0.8136535985339381, 0.6168717109068445, 0.2441115773207146, 0.3661673659810719, 0.3661673659810719, 0.6661460841426751, 0.8276808359249785, 0.6693868252899207, 0.33469341264496033, 0.6661461020753835, 0.8135912006091592, 0.10404205674549494, 0.10404205674549494, 0.41616822698197975, 0.20808411349098987, 0.10404205674549494, 0.18261697372495447, 0.36523394744990895, 0.36523394744990895, 0.813630149962046, 0.6661472924181109, 0.6263406889713465, 0.2529786559460661, 0.37946798391909914, 0.12648932797303306, 0.2529786559460661, 0.827909955427869, 0.8277130756680545, 0.1749301984867193, 0.6997207939468773, 0.1851869005674567, 0.04629672514186418, 0.5092639765605059, 0.1851869005674567, 0.09259345028372835, 0.6459782052917837, 0.21532606843059457, 0.6023261980644339, 0.25813979917047164, 0.08604659972349055, 0.9067696995606319, 0.8367195373371257, 0.7285257069658724, 0.24284190232195746, 0.32978776275027183, 0.16489388137513591, 0.32978776275027183, 0.16489388137513591, 0.8114276020477856, 0.6661481083617289, 0.4967535738461072, 0.15805795531467048, 0.1354782474125747, 0.06773912370628735, 0.06773912370628735, 0.06773912370628735, 0.02257970790209578, 0.10871917536096655, 0.10871917536096655, 0.32615752608289966, 0.10871917536096655, 0.10871917536096655, 0.10871917536096655, 0.8114543600140477, 0.056390331133667, 0.5075129802030031, 0.281951655668335, 0.112780662267334, 0.4792381962451479, 0.31949213083009864, 0.15974606541504932, 0.15974606541504932, 0.20571788713108233, 0.617153661393247, 0.20571788713108233, 0.7311903659198995, 0.24756856159028637, 0.10831124569575029, 0.24756856159028637, 0.29398766688846506, 0.09283821059635738, 0.015473035099392898, 0.7311766333733063, 0.8115341291760585, 0.4103365409914734, 0.61550481148721, 0.7311901372387383, 0.6263406620814592, 0.909946477310424, 0.8114265705542298, 0.3115686640247667, 0.6231373280495334, 0.7311906807283023, 0.6422795957882634, 0.3211397978941317, 0.7311898459764685, 0.6313691770427012, 0.7225116073592159, 0.1857426051912489, 0.04643565129781223, 0.41792086168031006, 0.1857426051912489, 0.04643565129781223, 0.04643565129781223, 0.8279032829792001, 0.2864142152224004, 0.4296213228336006, 0.1432071076112002, 0.0716035538056001, 0.21004833430214853, 0.07001611143404951, 0.07001611143404951, 0.4901127800383466, 0.14003222286809902, 0.07001611143404951, 0.6661481083617289, 0.18887405701094162, 0.5936041791772452, 0.10792803257768094, 0.05396401628884047, 0.026982008144420234, 0.026982008144420234, 0.6262137237857541, 0.9067608650548725, 0.6897911256257088, 0.13795822512514175, 0.13795822512514175, 0.5397227057868645, 0.13493067644671614, 0.26986135289343227, 0.6661460907045628, 0.2869904534628585, 0.2869904534628585, 0.34438854415543024, 0.05739809069257171, 0.3064020325984216, 0.4596030488976323, 0.1532010162992108, 0.0766005081496054, 0.40687160704843167, 0.6103074105726475, 0.6661461141632805, 0.20267706272886313, 0.20267706272886313, 0.5066926568221578, 0.10133853136443156, 0.7308591965120175, 0.24361973217067248, 0.3425331915527574, 0.06850663831055148, 0.20551991493165445, 0.20551991493165445, 0.13701327662110296, 0.06850663831055148, 0.6661469156507791, 0.6262142165712656, 0.7311903659198995, 0.1583633124749847, 0.4750899374249541, 0.0527877708249949, 0.2639388541249745, 0.0527877708249949, 0.7311915691976848, 0.820546783447391, 0.18844308286721476, 0.23555385358401845, 0.23555385358401845, 0.3297753950176258, 0.3569868629000621, 0.3569868629000621, 0.6313692973094245, 0.6652860024680455, 0.33264300123402274, 0.39046813549659604, 0.0780936270993192, 0.1561872541986384, 0.0780936270993192, 0.23428088129795763, 0.0780936270993192, 0.24103781719729073, 0.7231134515918721, 0.8115396379265823, 0.6715749552832805, 0.1343149910566561, 0.1343149910566561, 0.3062168623366508, 0.6124337246733016, 0.8135923846049277, 0.24771805038789, 0.74315415116367, 0.2081319958498558, 0.6243959875495674, 0.2081319958498558, 0.6661461172979476, 0.13106947293917784, 0.2621389458783557, 0.13106947293917784, 0.32767368234794464, 0.19660420940876677, 0.6661481083617289, 0.06436672279536809, 0.38620033677220855, 0.32183361397684046, 0.12873344559073618, 0.06436672279536809, 0.22437857646376505, 0.22437857646376505, 0.2991714352850201, 0.07479285882125503, 0.14958571764251005, 0.519263867394707, 0.17308795579823566, 0.17308795579823566, 0.9271089378088422, 0.6369435888935767, 0.31847179444678836, 0.731192100260792, 0.44424156637231976, 0.44424156637231976, 0.22212078318615988, 0.17844345182405147, 0.17844345182405147, 0.5353303554721545, 0.17844345182405147, 0.7311767385756357, 0.8135913459176429, 0.6661472924181109, 0.8276810094710677, 0.8367174645654885, 0.666146104816964, 0.7311906807283023, 0.8136253533201864, 0.8135928957345712, 0.7311906807283023, 0.6262137237857541, 0.6661469156507791, 0.32849495732918343, 0.6569899146583669, 0.836718306611871, 0.6346846730042079, 0.21156155766806933, 0.35147341714614966, 0.5272101257192244, 0.35180612906667175, 0.17590306453333587, 0.1172687096888906, 0.2345374193777812, 0.1172687096888906, 0.536112976713468, 0.134028244178367, 0.268056488356734, 0.9094611054816402, 0.6661481083617289, 0.8114266395212951, 0.16191498040519822, 0.16191498040519822, 0.6476599216207929, 0.8114325352342957, 0.27562800527213377, 0.10247707888322923, 0.13428031026078313, 0.27562800527213377, 0.1166118483843643, 0.07067384750567533, 0.024735846626986364, 0.8276826199400946, 0.8135920201315747, 0.7531368401551788, 0.15062736803103577, 0.4740750770050726, 0.28444504620304356, 0.09481501540101452, 0.18963003080202903, 0.7311767156912148, 0.8276810961574038, 0.7311768379644357, 0.6313692918023208, 0.9068190630834231, 0.906758869001769, 0.8367170858865753, 0.15428030990009864, 0.15428030990009864, 0.15428030990009864, 0.46284092970029594, 0.4271350401130001, 0.21356752005650004, 0.4271350401130001, 0.8136189591913392, 0.25398137055661646, 0.3809720558349247, 0.12699068527830823, 0.25398137055661646, 0.8136255752833984, 0.8279293345591202, 0.740003212940729, 0.6652584519162162, 0.3326292259581081, 0.6262137237857541, 0.719271377060084, 0.19616492101638655, 0.13077661401092439, 0.8279167710942076, 0.11599519260892571, 0.09279615408714058, 0.2551894237396366, 0.4175826933921326, 0.09279615408714058, 0.023199038521785145, 0.2128058752725669, 0.2553670503270803, 0.08512235010902676, 0.04256117505451338, 0.2553670503270803, 0.12768352516354015, 0.7289682330228052, 0.10413831900325789, 0.052069159501628944, 0.10413831900325789, 0.7576781718375073, 0.25255939061250243, 0.3259049746673179, 0.6518099493346358, 0.7311766086914608, 0.22098316994834452, 0.3105709415490247, 0.1313953983476643, 0.10750532592081626, 0.13736791645437632, 0.07764273538725618, 0.011945036213424028, 0.6207258754503571, 0.31036293772517853, 0.7311929312460195, 0.07762195315929615, 0.46573171895577686, 0.23286585947788843, 0.07762195315929615, 0.1552439063185923, 0.4955389986076371, 0.24776949930381856, 0.8367343162276427, 0.6263407829730531, 0.328530350067869, 0.657060700135738, 0.731190005259045, 0.6262137292032863, 0.8136966977433238, 0.8114277047437694, 0.19522934761738892, 0.3754410531103633, 0.12014113699531626, 0.007508821062207266, 0.16519406336855985, 0.11263231593310899, 0.022526463186621798, 0.06510700479266575, 0.260428019170663, 0.5859630431339918, 0.1302140095853315, 0.9273977494755378, 0.6172465633364921, 0.20574885444549737, 0.7494122176896669, 0.5368175525933367, 0.26840877629666837, 0.13420438814833419, 0.7311901372387383, 0.3355301874675645, 0.2013181124805387, 0.16776509373378226, 0.16776509373378226, 0.1342120749870258, 0.6661487313822518, 0.37119933130178173, 0.23621775628295202, 0.16872696877353716, 0.10123618126412229, 0.033745393754707434, 0.06749078750941487, 0.8277056455887444, 0.811458040814376, 0.8276814697134935, 0.8114261840166586, 0.6661481083617289, 0.6313691677732227, 0.7311903659198995, 0.6313692918023208, 0.6661483338224318, 0.2654621033450773, 0.5309242066901546, 0.08848736778169244, 0.1769747355633849, 0.836737793613669, 0.4227352799712657, 0.21136763998563285, 0.4227352799712657, 0.6661472924181109, 0.11559247997617374, 0.3467774399285212, 0.28898119994043436, 0.23118495995234747, 0.8276809731634523, 0.15820801445351454, 0.23731202168027182, 0.15820801445351454, 0.23731202168027182, 0.15820801445351454, 0.07910400722675727, 0.8135931511490979, 0.24902889905284487, 0.7470866971585346, 0.6661481083617289, 0.20568958603364565, 0.617068758100937, 0.10284479301682282, 0.10284479301682282, 0.23102368378780638, 0.23102368378780638, 0.30803157838374184, 0.23102368378780638, 0.07700789459593546, 0.13935674968192105, 0.39019889910937894, 0.2787134993638421, 0.05574269987276842, 0.13935674968192105], \"Term\": [\"acceptance\", \"activity\", \"activity\", \"activity\", \"activity\", \"activity\", \"administration\", \"administration\", \"administration\", \"administration\", \"administration\", \"aloud\", \"amaazing\", \"amazing\", \"amazing\", \"amazing\", \"amazing\", \"amazing\", \"amazing\", \"approach\", \"approachable\", \"armed\", \"art\", \"art\", \"art\", \"aspect\", \"aspect\", \"assignment\", \"asst\", \"athletic\", \"athletic\", \"athletic\", \"athletic\", \"attend\", \"attention\", \"attention\", \"attention\", \"attention\", \"attention\", \"authoritarian\", \"available\", \"available\", \"awareness\", \"awesome\", \"awkward\", \"bad\", \"bad\", \"bad\", \"ball\", \"benefit\", \"big\", \"big\", \"big\", \"big\", \"bigot\", \"booster\", \"booster\", \"brand\", \"building\", \"building\", \"building\", \"business\", \"cafeteria\", \"cafeteria\", \"cafeteria\", \"cafeteria\", \"capability\", \"car\", \"care\", \"care\", \"care\", \"care\", \"care\", \"case\", \"case\", \"case\", \"cater\", \"caucasian\", \"century\", \"certain\", \"challenge\", \"challenge\", \"challenge\", \"challenge\", \"championship\", \"chance\", \"change\", \"change\", \"change\", \"change\", \"charity\", \"charity\", \"charity\", \"cheerleading\", \"chemistry\", \"child\", \"child\", \"child\", \"child\", \"child\", \"chine\", \"choir\", \"choir\", \"church\", \"class\", \"class\", \"class\", \"class\", \"class\", \"class\", \"class\", \"clean\", \"clean\", \"clean\", \"clean\", \"clique\", \"clique\", \"club\", \"club\", \"code\", \"code\", \"college\", \"college\", \"college\", \"college\", \"color\", \"commitment\", \"community\", \"community\", \"community\", \"compete\", \"concurrent\", \"condition\", \"counselor\", \"counselor\", \"counselor\", \"counselor\", \"course\", \"course\", \"course\", \"course\", \"course\", \"cycle\", \"day\", \"day\", \"day\", \"decent\", \"decent\", \"decent\", \"demeanor\", \"desire\", \"diabetic\", \"different\", \"different\", \"different\", \"different\", \"different\", \"different\", \"discipline\", \"discrimination\", \"district\", \"diverse\", \"diverse\", \"diverse\", \"diverse\", \"diverse\", \"diversity\", \"diversity\", \"diversity\", \"diversity\", \"donation\", \"drama\", \"drama\", \"dress\", \"dress\", \"driver\", \"dump\", \"easy\", \"easy\", \"easy\", \"easy\", \"edmond\", \"edmond\", \"edmond\", \"edmond\", \"edmond\", \"education\", \"education\", \"education\", \"education\", \"education\", \"education\", \"email\", \"emergency\", \"emphasis\", \"emphasis\", \"enforce\", \"engineering\", \"enough\", \"enough\", \"enough\", \"enthusiast\", \"environment\", \"environment\", \"environment\", \"environment\", \"epileptic\", \"ethnicity\", \"evey\", \"excellent\", \"excellent\", \"excellent\", \"excellent\", \"existent\", \"expect\", \"expensive\", \"experience\", \"experience\", \"experience\", \"experience\", \"experience\", \"experience\", \"exposure\", \"extracurricular\", \"face\", \"facility\", \"facility\", \"facility\", \"facility\", \"facility\", \"facility\", \"facility\", \"fact\", \"fact\", \"family\", \"family\", \"family\", \"favorite\", \"favorite\", \"fight\", \"fight\", \"figure\", \"financial\", \"floor\", \"food\", \"food\", \"food\", \"food\", \"football\", \"football\", \"football\", \"football\", \"french\", \"friend\", \"friend\", \"friend\", \"friend\", \"friend\", \"full\", \"full\", \"full\", \"fun\", \"fun\", \"fun\", \"fun\", \"fun\", \"fun\", \"funding\", \"game\", \"game\", \"game\", \"girl\", \"girl\", \"girl\", \"golf\", \"golf\", \"good\", \"good\", \"good\", \"good\", \"good\", \"grade\", \"grade\", \"great\", \"great\", \"great\", \"great\", \"great\", \"great\", \"gross\", \"ground\", \"group\", \"group\", \"group\", \"group\", \"group\", \"group\", \"guitar\", \"hall\", \"harass\", \"harass\", \"harm\", \"head\", \"help\", \"help\", \"help\", \"helpful\", \"helpful\", \"helpful\", \"helpful\", \"helpful\", \"helpful\", \"high\", \"high\", \"high\", \"high\", \"high\", \"high\", \"homework\", \"host\", \"huge\", \"huge\", \"huge\", \"ice\", \"imagine\", \"important\", \"important\", \"important\", \"incident\", \"incredible\", \"individual\", \"individual\", \"insult\", \"intelligent\", \"interest\", \"interest\", \"interest\", \"interest\", \"interest\", \"interested\", \"interested\", \"interested\", \"interesting\", \"invisible\", \"involve\", \"job\", \"job\", \"job\", \"job\", \"join\", \"junior\", \"key\", \"key\", \"kid\", \"kid\", \"kid\", \"kid\", \"kid\", \"language\", \"language\", \"large\", \"large\", \"large\", \"late\", \"lesson\", \"level\", \"level\", \"life\", \"life\", \"life\", \"life\", \"line\", \"lip\", \"lot\", \"lot\", \"lot\", \"lot\", \"lot\", \"lot\", \"lot\", \"love\", \"love\", \"love\", \"love\", \"love\", \"love\", \"low\", \"lunch\", \"lunch\", \"lunch\", \"lunch\", \"main\", \"main\", \"main\", \"main\", \"majority\", \"majority\", \"majority\", \"male\", \"many\", \"many\", \"many\", \"many\", \"many\", \"many\", \"mate\", \"math\", \"matter\", \"matter\", \"med\", \"meeting\", \"member\", \"memorial\", \"memory\", \"memory\", \"menu\", \"method\", \"method\", \"miserable\", \"mold\", \"mother\", \"much\", \"much\", \"much\", \"much\", \"much\", \"much\", \"national\", \"new\", \"new\", \"new\", \"new\", \"nice\", \"nice\", \"nice\", \"nice\", \"nice\", \"nice\", \"non\", \"north\", \"north\", \"north\", \"north\", \"north\", \"north\", \"northern\", \"notch\", \"offer\", \"offer\", \"offer\", \"officer\", \"officer\", \"officer\", \"opinion\", \"opportunity\", \"opportunity\", \"opportunity\", \"opportunity\", \"option\", \"option\", \"option\", \"option\", \"order\", \"order\", \"oreo\", \"organization\", \"organization\", \"organization\", \"organization\", \"outstanding\", \"outstanding\", \"overall\", \"overall\", \"overall\", \"overall\", \"overall\", \"overall\", \"overhaul\", \"pace\", \"pakistani\", \"parent\", \"parent\", \"parent\", \"parent\", \"parent\", \"passion\", \"peer\", \"people\", \"people\", \"people\", \"people\", \"period\", \"period\", \"pet\", \"phenomenal\", \"phenomenal\", \"place\", \"place\", \"place\", \"place\", \"place\", \"place\", \"plan\", \"plan\", \"pleasant\", \"police\", \"police\", \"police\", \"policy\", \"policy\", \"pool\", \"popular\", \"popular\", \"possible\", \"possible\", \"possible\", \"preppy\", \"principal\", \"principal\", \"principal\", \"principal\", \"principal\", \"privilege\", \"problem\", \"problem\", \"problem\", \"problem\", \"problem\", \"program\", \"program\", \"program\", \"program\", \"program\", \"public\", \"public\", \"public\", \"race\", \"racial\", \"racial\", \"rampant\", \"ready\", \"ready\", \"ready\", \"real\", \"real\", \"real\", \"real\", \"recreational\", \"relate\", \"relationship\", \"religion\", \"religious\", \"remark\", \"repeat\", \"request\", \"require\", \"respect\", \"respective\", \"rest\", \"rich\", \"rich\", \"ridiculous\", \"rude\", \"rude\", \"rule\", \"rule\", \"safe\", \"safe\", \"safe\", \"safe\", \"safe\", \"safety\", \"safety\", \"safety\", \"salary\", \"sarcastic\", \"scared\", \"schedule\", \"schedule\", \"schedule\", \"scholarship\", \"school\", \"school\", \"school\", \"school\", \"school\", \"school\", \"school\", \"search\", \"second\", \"security\", \"security\", \"senior\", \"senior\", \"senior\", \"senior\", \"senioritus\", \"serious\", \"sex\", \"shallow\", \"shape\", \"short\", \"shoulder\", \"show\", \"show\", \"show\", \"show\", \"single\", \"single\", \"single\", \"snobby\", \"social\", \"social\", \"social\", \"social\", \"sophomorejan\", \"sound\", \"spanish\", \"special\", \"special\", \"spend\", \"spirit\", \"spirit\", \"spirit\", \"sponsor\", \"sport\", \"sport\", \"sport\", \"sport\", \"sport\", \"sport\", \"staff\", \"staff\", \"staff\", \"staff\", \"staff\", \"staff\", \"state\", \"state\", \"state\", \"state\", \"status\", \"status\", \"stay\", \"stay\", \"story\", \"student\", \"student\", \"student\", \"student\", \"student\", \"student\", \"student\", \"study\", \"study\", \"sub\", \"support\", \"support\", \"support\", \"support\", \"support\", \"supportive\", \"supportive\", \"sushi\", \"swimming\", \"system\", \"system\", \"table\", \"talent\", \"talented\", \"taste\", \"teacher\", \"teacher\", \"teacher\", \"teacher\", \"teacher\", \"teacher\", \"teacher\", \"team\", \"team\", \"team\", \"team\", \"technology\", \"teen\", \"teen\", \"terrible\", \"test\", \"test\", \"test\", \"testing\", \"thing\", \"thing\", \"thing\", \"thing\", \"thing\", \"thrill\", \"time\", \"time\", \"time\", \"time\", \"time\", \"time\", \"title\", \"today\", \"train\", \"tutor\", \"unacceptable\", \"unconcerned\", \"unease\", \"unpopular\", \"upcoming\", \"variety\", \"variety\", \"variety\", \"variety\", \"varsity\", \"volleyball\", \"volleyball\", \"volleyball\", \"wall\", \"way\", \"way\", \"way\", \"way\", \"wealthy\", \"week\", \"week\", \"week\", \"week\", \"week\", \"week\", \"welcome\", \"well\", \"well\", \"white\", \"wide\", \"wide\", \"wide\", \"wide\", \"work\", \"work\", \"work\", \"work\", \"work\", \"year\", \"year\", \"year\", \"year\", \"year\"]}, \"R\": 30, \"lambda.step\": 0.01, \"plot.opts\": {\"xlab\": \"PC1\", \"ylab\": \"PC2\"}, \"topic.order\": [7, 5, 6, 3, 4, 2, 1]};\n",
       "\n",
       "function LDAvis_load_lib(url, callback){\n",
       "  var s = document.createElement('script');\n",
       "  s.src = url;\n",
       "  s.async = true;\n",
       "  s.onreadystatechange = s.onload = callback;\n",
       "  s.onerror = function(){console.warn(\"failed to load library \" + url);};\n",
       "  document.getElementsByTagName(\"head\")[0].appendChild(s);\n",
       "}\n",
       "\n",
       "if(typeof(LDAvis) !== \"undefined\"){\n",
       "   // already loaded: just create the visualization\n",
       "   !function(LDAvis){\n",
       "       new LDAvis(\"#\" + \"ldavis_el1446026072369642409920767072\", ldavis_el1446026072369642409920767072_data);\n",
       "   }(LDAvis);\n",
       "}else if(typeof define === \"function\" && define.amd){\n",
       "   // require.js is available: use it to load d3/LDAvis\n",
       "   require.config({paths: {d3: \"https://d3js.org/d3.v5\"}});\n",
       "   require([\"d3\"], function(d3){\n",
       "      window.d3 = d3;\n",
       "      LDAvis_load_lib(\"https://cdn.jsdelivr.net/gh/bmabey/pyLDAvis@3.3.1/pyLDAvis/js/ldavis.v3.0.0.js\", function(){\n",
       "        new LDAvis(\"#\" + \"ldavis_el1446026072369642409920767072\", ldavis_el1446026072369642409920767072_data);\n",
       "      });\n",
       "    });\n",
       "}else{\n",
       "    // require.js not available: dynamically load d3 & LDAvis\n",
       "    LDAvis_load_lib(\"https://d3js.org/d3.v5.js\", function(){\n",
       "         LDAvis_load_lib(\"https://cdn.jsdelivr.net/gh/bmabey/pyLDAvis@3.3.1/pyLDAvis/js/ldavis.v3.0.0.js\", function(){\n",
       "                 new LDAvis(\"#\" + \"ldavis_el1446026072369642409920767072\", ldavis_el1446026072369642409920767072_data);\n",
       "            })\n",
       "         });\n",
       "}\n",
       "</script>"
      ],
      "text/plain": [
       "PreparedData(topic_coordinates=              x         y  topics  cluster       Freq\n",
       "topic                                                \n",
       "6     -0.025513  0.029121       1        1  20.942204\n",
       "4      0.110659  0.032371       2        1  20.277050\n",
       "5     -0.071290  0.126670       3        1  16.157986\n",
       "2     -0.112287 -0.063538       4        1  16.101728\n",
       "3      0.080854  0.026026       5        1  14.329837\n",
       "1      0.047489 -0.097595       6        1   8.267475\n",
       "0     -0.029912 -0.053053       7        1   3.923720, topic_info=          Term        Freq       Total Category  logprob  loglift\n",
       "43        club   71.000000   71.000000  Default  30.0000  30.0000\n",
       "33      school  282.000000  282.000000  Default  29.0000  29.0000\n",
       "7      teacher  133.000000  133.000000  Default  28.0000  28.0000\n",
       "84       great   42.000000   42.000000  Default  27.0000  27.0000\n",
       "101       help   36.000000   36.000000  Default  26.0000  26.0000\n",
       "..         ...         ...         ...      ...      ...      ...\n",
       "427       main    0.674752    6.259935   Topic7  -5.6068   1.0106\n",
       "96   attention    0.674610    5.387497   Topic7  -5.6070   1.1604\n",
       "79      decent    0.674603    3.846558   Topic7  -5.6070   1.4973\n",
       "369   facility    0.674593   14.490309   Topic7  -5.6070   0.1710\n",
       "200  education    0.674562   16.021909   Topic7  -5.6070   0.0705\n",
       "\n",
       "[469 rows x 6 columns], token_table=      Topic      Freq        Term\n",
       "term                             \n",
       "511       4  0.827721  acceptance\n",
       "41        1  0.084082    activity\n",
       "41        2  0.126123    activity\n",
       "41        3  0.588576    activity\n",
       "41        4  0.126123    activity\n",
       "...     ...       ...         ...\n",
       "59        1  0.139357        year\n",
       "59        2  0.390199        year\n",
       "59        4  0.278713        year\n",
       "59        5  0.055743        year\n",
       "59        6  0.139357        year\n",
       "\n",
       "[749 rows x 3 columns], R=30, lambda_step=0.01, plot_opts={'xlab': 'PC1', 'ylab': 'PC2'}, topic_order=[7, 5, 6, 3, 4, 2, 1])"
      ]
     },
     "execution_count": 312,
     "metadata": {},
     "output_type": "execute_result"
    }
   ],
   "source": [
    "# Visualize the topics\n",
    "pyLDAvis.enable_notebook()\n",
    "vis = gensim.prepare(lda_model, doc_term_matrix, dictionary)\n",
    "vis"
   ]
  },
  {
   "cell_type": "code",
   "execution_count": 322,
   "id": "ff0118b7",
   "metadata": {},
   "outputs": [
    {
     "name": "stdout",
     "output_type": "stream",
     "text": [
      "[1 'OK' 'Oklahoma City' 'Edmond Noth' 3\n",
      " \"I have enjoyed my time at ENHS but the way COVID has been handled by some of the teachers leaves me nervous. I also think that the Counselors take too long to answer simple questions and sometimes don't answer at all.\"\n",
      " \"I have enjoyed my time at ENHS but the way COVID has been handled by some of the teachers leaves me nervous. I also think that the Counselors take too long to answer simple questions and sometimes don't answer at all.\"\n",
      " 'enjoy time enhs way covid handle teacher leave nervous also think counselors take long answer simple question sometimes answer'\n",
      " I have enjoyed my time at ENHS but the way COVID has been handled by some of the teachers leaves me nervous. I also think that the Counselors take too long to answer simple questions and sometimes don't answer at all.\n",
      " 44 'time way covid teacher nervous counselor long answer simple question']\n"
     ]
    },
    {
     "name": "stderr",
     "output_type": "stream",
     "text": [
      "C:\\Users\\pinba\\anaconda3\\lib\\site-packages\\ipykernel\\ipkernel.py:287: DeprecationWarning:\n",
      "\n",
      "`should_run_async` will not call `transform_cell` automatically in the future. Please pass the result to `transformed_cell` argument and any exception that happen during thetransform in `preprocessing_exc_tuple` in IPython 7.17 and above.\n",
      "\n"
     ]
    },
    {
     "data": {
      "text/html": [
       "<div>\n",
       "<style scoped>\n",
       "    .dataframe tbody tr th:only-of-type {\n",
       "        vertical-align: middle;\n",
       "    }\n",
       "\n",
       "    .dataframe tbody tr th {\n",
       "        vertical-align: top;\n",
       "    }\n",
       "\n",
       "    .dataframe thead th {\n",
       "        text-align: right;\n",
       "    }\n",
       "</style>\n",
       "<table border=\"1\" class=\"dataframe\">\n",
       "  <thead>\n",
       "    <tr style=\"text-align: right;\">\n",
       "      <th></th>\n",
       "      <th>org_idx</th>\n",
       "      <th>State</th>\n",
       "      <th>City</th>\n",
       "      <th>School</th>\n",
       "      <th>Rating</th>\n",
       "      <th>Raw_Review</th>\n",
       "      <th>PreProcessed_Review</th>\n",
       "      <th>Processed_Review</th>\n",
       "      <th>Flat_Review</th>\n",
       "      <th>Tokens</th>\n",
       "      <th>Topic_Review</th>\n",
       "    </tr>\n",
       "  </thead>\n",
       "  <tbody>\n",
       "    <tr>\n",
       "      <th>0</th>\n",
       "      <td>1</td>\n",
       "      <td>OK</td>\n",
       "      <td>Oklahoma City</td>\n",
       "      <td>Edmond Noth</td>\n",
       "      <td>3</td>\n",
       "      <td>I have enjoyed my time at ENHS but the way COV...</td>\n",
       "      <td>I have enjoyed my time at ENHS but the way COV...</td>\n",
       "      <td>enjoy time enhs way covid handle teacher leave...</td>\n",
       "      <td>(I, have, enjoyed, my, time, at, ENHS, but, th...</td>\n",
       "      <td>44</td>\n",
       "      <td>time way covid teacher nervous counselor long ...</td>\n",
       "    </tr>\n",
       "    <tr>\n",
       "      <th>1</th>\n",
       "      <td>5</td>\n",
       "      <td>OK</td>\n",
       "      <td>Oklahoma City</td>\n",
       "      <td>Edmond Noth</td>\n",
       "      <td>3</td>\n",
       "      <td>Even while going through my parents' gritty cu...</td>\n",
       "      <td>Even while going through my parents' gritty cu...</td>\n",
       "      <td>even parent gritty custody battle throughout h...</td>\n",
       "      <td>(Even, while, going, through, my, parents, ', ...</td>\n",
       "      <td>121</td>\n",
       "      <td>parent gritty custody battle high school edmon...</td>\n",
       "    </tr>\n",
       "    <tr>\n",
       "      <th>2</th>\n",
       "      <td>9</td>\n",
       "      <td>OK</td>\n",
       "      <td>Oklahoma City</td>\n",
       "      <td>Edmond Noth</td>\n",
       "      <td>3</td>\n",
       "      <td>Edmond North high school is full of a diverse ...</td>\n",
       "      <td>Edmond North high school is full of a diverse ...</td>\n",
       "      <td>edmond north high school full diverse crowd pe...</td>\n",
       "      <td>(Edmond, North, high, school, is, full, of, a,...</td>\n",
       "      <td>94</td>\n",
       "      <td>school full diverse crowd people club activity...</td>\n",
       "    </tr>\n",
       "    <tr>\n",
       "      <th>3</th>\n",
       "      <td>15</td>\n",
       "      <td>OK</td>\n",
       "      <td>Oklahoma City</td>\n",
       "      <td>Edmond Noth</td>\n",
       "      <td>3</td>\n",
       "      <td>North high school has some serious issues with...</td>\n",
       "      <td>North high school has some serious issues with...</td>\n",
       "      <td>north high school serious issue keep student g...</td>\n",
       "      <td>(North, high, school, has, some, serious, issu...</td>\n",
       "      <td>67</td>\n",
       "      <td>north high school serious issue student safe d...</td>\n",
       "    </tr>\n",
       "    <tr>\n",
       "      <th>4</th>\n",
       "      <td>19</td>\n",
       "      <td>OK</td>\n",
       "      <td>Oklahoma City</td>\n",
       "      <td>Edmond Noth</td>\n",
       "      <td>3</td>\n",
       "      <td>North High School in Torrance is an a decent s...</td>\n",
       "      <td>North High School in Torrance is an a decent s...</td>\n",
       "      <td>north high school torrance decent school teach...</td>\n",
       "      <td>(North, High, School, in, Torrance, is, an, a,...</td>\n",
       "      <td>22</td>\n",
       "      <td>north high school torrance decent school teach...</td>\n",
       "    </tr>\n",
       "  </tbody>\n",
       "</table>\n",
       "</div>"
      ],
      "text/plain": [
       "  org_idx State           City       School Rating  \\\n",
       "0       1    OK  Oklahoma City  Edmond Noth      3   \n",
       "1       5    OK  Oklahoma City  Edmond Noth      3   \n",
       "2       9    OK  Oklahoma City  Edmond Noth      3   \n",
       "3      15    OK  Oklahoma City  Edmond Noth      3   \n",
       "4      19    OK  Oklahoma City  Edmond Noth      3   \n",
       "\n",
       "                                          Raw_Review  \\\n",
       "0  I have enjoyed my time at ENHS but the way COV...   \n",
       "1  Even while going through my parents' gritty cu...   \n",
       "2  Edmond North high school is full of a diverse ...   \n",
       "3  North high school has some serious issues with...   \n",
       "4  North High School in Torrance is an a decent s...   \n",
       "\n",
       "                                 PreProcessed_Review  \\\n",
       "0  I have enjoyed my time at ENHS but the way COV...   \n",
       "1  Even while going through my parents' gritty cu...   \n",
       "2  Edmond North high school is full of a diverse ...   \n",
       "3  North high school has some serious issues with...   \n",
       "4  North High School in Torrance is an a decent s...   \n",
       "\n",
       "                                    Processed_Review  \\\n",
       "0  enjoy time enhs way covid handle teacher leave...   \n",
       "1  even parent gritty custody battle throughout h...   \n",
       "2  edmond north high school full diverse crowd pe...   \n",
       "3  north high school serious issue keep student g...   \n",
       "4  north high school torrance decent school teach...   \n",
       "\n",
       "                                         Flat_Review Tokens  \\\n",
       "0  (I, have, enjoyed, my, time, at, ENHS, but, th...     44   \n",
       "1  (Even, while, going, through, my, parents, ', ...    121   \n",
       "2  (Edmond, North, high, school, is, full, of, a,...     94   \n",
       "3  (North, high, school, has, some, serious, issu...     67   \n",
       "4  (North, High, School, in, Torrance, is, an, a,...     22   \n",
       "\n",
       "                                        Topic_Review  \n",
       "0  time way covid teacher nervous counselor long ...  \n",
       "1  parent gritty custody battle high school edmon...  \n",
       "2  school full diverse crowd people club activity...  \n",
       "3  north high school serious issue student safe d...  \n",
       "4  north high school torrance decent school teach...  "
      ]
     },
     "execution_count": 322,
     "metadata": {},
     "output_type": "execute_result"
    }
   ],
   "source": [
    "type(reviews_org)\n",
    "\n",
    "reviews_4 = np.hstack((reviews_org\n",
    "           ,pd.DataFrame(reviews_3,columns=['Topic_LDA'])))\n",
    "\n",
    "reviews_4 = pd.DataFrame(reviews_4,columns=['org_idx', 'State', 'City'\n",
    "                                           , 'School', 'Rating'\n",
    "                                           , 'Raw_Review', 'PreProcessed_Review', 'Processed_Review', 'Flat_Review', 'Tokens', 'Topic_Review'])\n",
    "\n",
    "reviews_4.head()"
   ]
  },
  {
   "cell_type": "code",
   "execution_count": null,
   "id": "73b9d6b3",
   "metadata": {},
   "outputs": [],
   "source": [
    "#clf = RandomForestClassifier(max_depth=2, random_state=0)\n",
    "#X=np.array(reviews_3).reshape(-1, 1)\n",
    "#y=reviews_org['Rating']\n",
    "#clf.fit(X, y)"
   ]
  },
  {
   "cell_type": "code",
   "execution_count": 400,
   "id": "bff48862",
   "metadata": {},
   "outputs": [
    {
     "name": "stderr",
     "output_type": "stream",
     "text": [
      "C:\\Users\\pinba\\anaconda3\\lib\\site-packages\\ipykernel\\ipkernel.py:287: DeprecationWarning:\n",
      "\n",
      "`should_run_async` will not call `transform_cell` automatically in the future. Please pass the result to `transformed_cell` argument and any exception that happen during thetransform in `preprocessing_exc_tuple` in IPython 7.17 and above.\n",
      "\n"
     ]
    }
   ],
   "source": [
    "reviews_4['Rating']\n",
    "\n",
    "reviews_4['Rating_binary'] = reviews_4['Rating'].apply(lambda x: 1 if x < 2 else 0)"
   ]
  },
  {
   "cell_type": "code",
   "execution_count": null,
   "id": "7f2007cf",
   "metadata": {},
   "outputs": [],
   "source": []
  },
  {
   "cell_type": "code",
   "execution_count": null,
   "id": "a7a6473f",
   "metadata": {},
   "outputs": [],
   "source": []
  },
  {
   "cell_type": "code",
   "execution_count": 401,
   "id": "7fac3045",
   "metadata": {},
   "outputs": [
    {
     "name": "stderr",
     "output_type": "stream",
     "text": [
      "C:\\Users\\pinba\\anaconda3\\lib\\site-packages\\ipykernel\\ipkernel.py:287: DeprecationWarning:\n",
      "\n",
      "`should_run_async` will not call `transform_cell` automatically in the future. Please pass the result to `transformed_cell` argument and any exception that happen during thetransform in `preprocessing_exc_tuple` in IPython 7.17 and above.\n",
      "\n"
     ]
    }
   ],
   "source": [
    "#y=reviews_4['Rating']\n",
    "y=reviews_4['Rating_binary']\n",
    "y=y.astype('int')\n",
    "\n",
    "X=reviews_4[['Raw_Review']].fillna('BLANK')\n"
   ]
  },
  {
   "cell_type": "code",
   "execution_count": 479,
   "id": "e1401414",
   "metadata": {},
   "outputs": [
    {
     "name": "stderr",
     "output_type": "stream",
     "text": [
      "C:\\Users\\pinba\\anaconda3\\lib\\site-packages\\ipykernel\\ipkernel.py:287: DeprecationWarning:\n",
      "\n",
      "`should_run_async` will not call `transform_cell` automatically in the future. Please pass the result to `transformed_cell` argument and any exception that happen during thetransform in `preprocessing_exc_tuple` in IPython 7.17 and above.\n",
      "\n"
     ]
    }
   ],
   "source": [
    "pipeline = Pipeline([\n",
    "\n",
    "    # Use FeatureUnion to combine the features from subject and body\n",
    "    ('union', FeatureUnion(\n",
    "        transformer_list=[\n",
    "\n",
    "            # Categorical Preprocessors\n",
    "            # ('repo_preprocessor', preprocessor),\n",
    "            \n",
    "                 \n",
    "            # INCIDENT CLOSE NOTES PIPELINE\n",
    "            ('review', Pipeline([\n",
    "                ('selector', ItemSelector(key='Raw_Review')),\n",
    "                ('tfidf', TfidfVectorizer()),\n",
    "                ('lda', LatentDirichletAllocation(\n",
    "                                learning_method='online',\n",
    "                                learning_offset=50.,\n",
    "                                random_state=0))\n",
    "            ])),                  \n",
    "\n",
    "        ],\n",
    "\n",
    "    )),\n",
    "    \n",
    "    # classifier place holder\n",
    "    ('classifier', XGBClassifier())\n",
    "\n",
    "])\n"
   ]
  },
  {
   "cell_type": "code",
   "execution_count": 496,
   "id": "0b973f81",
   "metadata": {},
   "outputs": [
    {
     "name": "stderr",
     "output_type": "stream",
     "text": [
      "C:\\Users\\pinba\\anaconda3\\lib\\site-packages\\ipykernel\\ipkernel.py:287: DeprecationWarning:\n",
      "\n",
      "`should_run_async` will not call `transform_cell` automatically in the future. Please pass the result to `transformed_cell` argument and any exception that happen during thetransform in `preprocessing_exc_tuple` in IPython 7.17 and above.\n",
      "\n"
     ]
    }
   ],
   "source": [
    "def auto_paramterization(comment_term_freq):\n",
    "    parameters = {\n",
    "\n",
    "        # term frequency vectorizer stop words \n",
    "        'union__review__tfidf__stop_words':       ('english', None),     \n",
    "\n",
    "        # ngram ranges         \n",
    "        'union__review__tfidf__ngram_range': ((1, 1)        # force single term\n",
    "                                             ,(1, 4)        # full spectrum up-to 4 term combination \n",
    "                                             ,(2, 4)),      # force combination\n",
    "\n",
    "        # max term document frequecn#y\n",
    "        'union__review__tfidf__max_df' :       comment_term_freq,       \n",
    "\n",
    "        # max features in term frequency \n",
    "        'union__review__tfidf__max_features':       (100, 1000, 10000),      \n",
    "\n",
    "        # lda topicization parameters  \n",
    "        'union__review__lda__n_components' :       (5, 10, 15),       \n",
    "\n",
    "        # feature union transformer weights\n",
    "       # 'union__transformer_weights' : \n",
    "       #     [dict(repo_preprocessor=.2, defect_reason=.2, comment=.2, short_description=0, close_notes=0)                                    \n",
    "       #     ,dict(repo_preprocessor=.2, defect_reason=.3, comment=.35, short_description=0 ,close_notes=0)] ,\n",
    "\n",
    "        # classifier parameterizer\n",
    "        #'classifier' : [XGBClassifier(use_label_encoder=False)],\n",
    "        \n",
    "        'classifier__booster' : ('gbtree', 'dart')\n",
    "       ,'classifier__eta' : (0.01, .25, .5, .75, 1)\n",
    "        \n",
    "        #'classifier__criterion' : ('gini', 'entropy'), \n",
    "        #'classifier__splitter' : ('best', 'random'),         \n",
    "        #'classifier__max_depth' : (2, 3, 4), \n",
    "        #'classifier__max_features' : ('auto', 'sqrt', 'log2', 10, 100, 1000),\n",
    "\n",
    "    }\n",
    "\n",
    "    return parameters"
   ]
  },
  {
   "cell_type": "code",
   "execution_count": 395,
   "id": "b1edc8bf",
   "metadata": {},
   "outputs": [
    {
     "name": "stderr",
     "output_type": "stream",
     "text": [
      "C:\\Users\\pinba\\anaconda3\\lib\\site-packages\\ipykernel\\ipkernel.py:287: DeprecationWarning:\n",
      "\n",
      "`should_run_async` will not call `transform_cell` automatically in the future. Please pass the result to `transformed_cell` argument and any exception that happen during thetransform in `preprocessing_exc_tuple` in IPython 7.17 and above.\n",
      "\n"
     ]
    }
   ],
   "source": [
    "evolution_domain = (0.6, 0.7, 0.8)"
   ]
  },
  {
   "cell_type": "code",
   "execution_count": null,
   "id": "6c34f31f",
   "metadata": {},
   "outputs": [],
   "source": []
  },
  {
   "cell_type": "code",
   "execution_count": 516,
   "id": "1357d3d2",
   "metadata": {},
   "outputs": [
    {
     "name": "stderr",
     "output_type": "stream",
     "text": [
      "C:\\Users\\pinba\\anaconda3\\lib\\site-packages\\ipykernel\\ipkernel.py:287: DeprecationWarning:\n",
      "\n",
      "`should_run_async` will not call `transform_cell` automatically in the future. Please pass the result to `transformed_cell` argument and any exception that happen during thetransform in `preprocessing_exc_tuple` in IPython 7.17 and above.\n",
      "\n"
     ]
    }
   ],
   "source": [
    "classifier_iterator_preload = 1000"
   ]
  },
  {
   "cell_type": "code",
   "execution_count": null,
   "id": "303c71d1",
   "metadata": {},
   "outputs": [
    {
     "name": "stderr",
     "output_type": "stream",
     "text": [
      "C:\\Users\\pinba\\anaconda3\\lib\\site-packages\\ipykernel\\ipkernel.py:287: DeprecationWarning:\n",
      "\n",
      "`should_run_async` will not call `transform_cell` automatically in the future. Please pass the result to `transformed_cell` argument and any exception that happen during thetransform in `preprocessing_exc_tuple` in IPython 7.17 and above.\n",
      "\n"
     ]
    },
    {
     "name": "stdout",
     "output_type": "stream",
     "text": [
      "Fitting 5 folds for each of 600 candidates, totalling 3000 fits\n"
     ]
    },
    {
     "name": "stderr",
     "output_type": "stream",
     "text": [
      "C:\\Users\\pinba\\anaconda3\\lib\\site-packages\\xgboost\\sklearn.py:1146: UserWarning:\n",
      "\n",
      "The use of label encoder in XGBClassifier is deprecated and will be removed in a future release. To remove this warning, do the following: 1) Pass option use_label_encoder=False when constructing XGBClassifier object; and 2) Encode your labels (y) as integers starting with 0, i.e. 0, 1, 2, ..., [num_class - 1].\n",
      "\n"
     ]
    },
    {
     "name": "stdout",
     "output_type": "stream",
     "text": [
      "[16:57:46] WARNING: C:/Users/Administrator/workspace/xgboost-win64_release_1.4.0/src/learner.cc:1095: Starting in XGBoost 1.3.0, the default evaluation metric used with the objective 'binary:logistic' was changed from 'error' to 'logloss'. Explicitly set eval_metric if you'd like to restore the old behavior.\n",
      "search iteration train ratio 0.100 rows 387.0\n",
      "done in 614.088s\n",
      "Best score: 0.767\n",
      "Best parameters set:\n",
      "(0): \tclassifier__booster  'dart'\n",
      "(1): \tclassifier__eta  0.01\n",
      "(2): \tunion__review__lda__n_components  15\n",
      "(3): \tunion__review__tfidf__max_df  0.6\n",
      "Iterative Adjusted Term Freq Ranges\n",
      "(0.36, 0.48, 0.6, 0.72, 0.84)\n",
      "(4): \tunion__review__tfidf__max_features  1000\n",
      "(5): \tunion__review__tfidf__ngram_range  (1, 1)\n",
      "(6): \tunion__review__tfidf__stop_words  None\n",
      "\n",
      "confusion matrix\n",
      "[[291   6]\n",
      " [ 79  11]]\n",
      "accuracy score\n",
      "0.7803617571059431\n",
      "## iteration end #####################################\n",
      "Fitting 5 folds for each of 700 candidates, totalling 3500 fits\n"
     ]
    }
   ],
   "source": [
    "# broad search seed\n",
    "auto_max_term_frq = (0.9, .6, .3, .1, .01)\n",
    "test_train_enabled=False\n",
    "\n",
    "for evolution_state in evolution_domain:\n",
    "\n",
    "    # initialize timer\n",
    "    t0 = time()\n",
    "\n",
    "    # check if test train enabled\n",
    "    if test_train_enabled:\n",
    "        # training set evolver\n",
    "        X_train, X_test, y_train, y_test = train_test_split(X, y, random_state=0, train_size=evolution_state)\n",
    "    else:\n",
    "        X_train=X; X_test=X\n",
    "        y_train=y; y_test=y\n",
    "\n",
    "    # switch between GRID and RANDOM searches\n",
    "    #grid_search = GridSearchCV(pipeline, parameters, n_jobs=-1, verbose=1)\n",
    "    grid_search = RandomizedSearchCV(pipeline\n",
    "                                    , auto_paramterization(auto_max_term_frq)\n",
    "                                    , n_jobs=-1\n",
    "                                    , verbose=1\n",
    "                                    , n_iter=classifier_iterator_preload*evolution_state)\n",
    "\n",
    "    # fit gridsearch / pipeline\n",
    "    grid_search.fit(X_train, y_train)\n",
    "\n",
    "    # search metrics\n",
    "    print(\"search iteration train ratio %0.3f rows %0.1f\" % (0.1 ,len(y_train)))\n",
    "    print(\"done in %0.3fs\" % (time() - t0))\n",
    "    print(\"Best score: %0.3f\" % grid_search.best_score_)\n",
    "    print(\"Best parameters set:\")\n",
    "\n",
    "    # grid search parameters\n",
    "    best_parameters = grid_search.best_estimator_.get_params()\n",
    "\n",
    "    # loop through each parameter, displaying top result\n",
    "    i=0\n",
    "    for param_name in sorted(auto_paramterization(auto_max_term_frq).keys()):\n",
    "        print(\"(%r): \\t%s  %r\" % (i, param_name, best_parameters[param_name]))\n",
    "        \n",
    "        # record recent heights\n",
    "        if param_name == 'union__review__tfidf__max_df':\n",
    "            auto_max_term_frq = (round(best_parameters[param_name]*0.6,4)\n",
    "                                ,round(best_parameters[param_name]*0.8,4)\n",
    "                                ,round(best_parameters[param_name]*1.0,4)\n",
    "                                ,round(best_parameters[param_name]*1.2,4)\n",
    "                                ,round(best_parameters[param_name]*1.4,4))\n",
    "            print(\"Iterative Adjusted Term Freq Ranges\")\n",
    "            print(auto_max_term_frq)\n",
    "        i=i+1\n",
    "\n",
    "    y_pred = grid_search.predict(X_test)\n",
    "    print(\"\")\n",
    "    print(\"confusion matrix\")\n",
    "    print(metrics.confusion_matrix(y_test, y_pred))\n",
    "    print(\"accuracy score\")\n",
    "    print(metrics.accuracy_score(y_test, y_pred))\n",
    "    print(\"## iteration end #####################################\")\n",
    "    #print(classification_report(y_pred, y_test))\n"
   ]
  },
  {
   "cell_type": "code",
   "execution_count": null,
   "id": "97aef9dc",
   "metadata": {},
   "outputs": [],
   "source": []
  },
  {
   "cell_type": "code",
   "execution_count": 513,
   "id": "2867ee03",
   "metadata": {},
   "outputs": [
    {
     "name": "stderr",
     "output_type": "stream",
     "text": [
      "C:\\Users\\pinba\\anaconda3\\lib\\site-packages\\ipykernel\\ipkernel.py:287: DeprecationWarning:\n",
      "\n",
      "`should_run_async` will not call `transform_cell` automatically in the future. Please pass the result to `transformed_cell` argument and any exception that happen during thetransform in `preprocessing_exc_tuple` in IPython 7.17 and above.\n",
      "\n"
     ]
    }
   ],
   "source": [
    "# LDA Top Topics\n",
    "# lda = dict(grid_search.best_estimator_.named_steps['union'].transformer_list).get('review').named_steps['lda']\n",
    "clf = grid_search.best_estimator_.named_steps['classifier']\n",
    "feature_names = dict(grid_search.best_estimator_.named_steps['union'].transformer_list).get('review').named_steps['tfidf'].get_feature_names()"
   ]
  },
  {
   "cell_type": "code",
   "execution_count": 487,
   "id": "6f540ee8",
   "metadata": {},
   "outputs": [
    {
     "name": "stdout",
     "output_type": "stream",
     "text": [
      "XGBClassifier(base_score=0.5, booster='dart', colsample_bylevel=1,\n",
      "              colsample_bynode=1, colsample_bytree=1, gamma=0, gpu_id=-1,\n",
      "              importance_type='gain', interaction_constraints='',\n",
      "              learning_rate=0.300000012, max_delta_step=0, max_depth=6,\n",
      "              min_child_weight=1, missing=nan, monotone_constraints='()',\n",
      "              n_estimators=100, n_jobs=4, num_parallel_tree=1, random_state=0,\n",
      "              reg_alpha=0, reg_lambda=1, scale_pos_weight=1, subsample=1,\n",
      "              tree_method='exact', validate_parameters=1, verbosity=None)\n"
     ]
    },
    {
     "name": "stderr",
     "output_type": "stream",
     "text": [
      "C:\\Users\\pinba\\anaconda3\\lib\\site-packages\\ipykernel\\ipkernel.py:287: DeprecationWarning:\n",
      "\n",
      "`should_run_async` will not call `transform_cell` automatically in the future. Please pass the result to `transformed_cell` argument and any exception that happen during thetransform in `preprocessing_exc_tuple` in IPython 7.17 and above.\n",
      "\n"
     ]
    }
   ],
   "source": [
    "print(clf)\n",
    "#fig, ax = plt.subplots(figsize=(30, 30))\n",
    "#xgb.plot_tree(model, num_trees=4, ax=ax)\n",
    "#plt.show()"
   ]
  },
  {
   "cell_type": "code",
   "execution_count": null,
   "id": "c8500c64",
   "metadata": {},
   "outputs": [],
   "source": []
  },
  {
   "cell_type": "code",
   "execution_count": 507,
   "id": "eedec6d7",
   "metadata": {},
   "outputs": [
    {
     "name": "stderr",
     "output_type": "stream",
     "text": [
      "C:\\Users\\pinba\\anaconda3\\lib\\site-packages\\ipykernel\\ipkernel.py:287: DeprecationWarning:\n",
      "\n",
      "`should_run_async` will not call `transform_cell` automatically in the future. Please pass the result to `transformed_cell` argument and any exception that happen during thetransform in `preprocessing_exc_tuple` in IPython 7.17 and above.\n",
      "\n"
     ]
    },
    {
     "ename": "AttributeError",
     "evalue": "'XGBClassifier' object has no attribute 'tree_'",
     "output_type": "error",
     "traceback": [
      "\u001b[1;31m---------------------------------------------------------------------------\u001b[0m",
      "\u001b[1;31mAttributeError\u001b[0m                            Traceback (most recent call last)",
      "\u001b[1;32m<ipython-input-507-dd26d78f569e>\u001b[0m in \u001b[0;36m<module>\u001b[1;34m\u001b[0m\n\u001b[0;32m      1\u001b[0m \u001b[0mplt\u001b[0m\u001b[1;33m.\u001b[0m\u001b[0mfigure\u001b[0m\u001b[1;33m(\u001b[0m\u001b[0mfigsize\u001b[0m\u001b[1;33m=\u001b[0m\u001b[1;33m(\u001b[0m\u001b[1;36m12\u001b[0m\u001b[1;33m,\u001b[0m\u001b[1;36m12\u001b[0m\u001b[1;33m)\u001b[0m\u001b[1;33m)\u001b[0m  \u001b[1;31m# set plot size (denoted in inches)\u001b[0m\u001b[1;33m\u001b[0m\u001b[1;33m\u001b[0m\u001b[0m\n\u001b[1;32m----> 2\u001b[1;33m \u001b[0mtree\u001b[0m\u001b[1;33m.\u001b[0m\u001b[0mplot_tree\u001b[0m\u001b[1;33m(\u001b[0m\u001b[0mclf\u001b[0m\u001b[1;33m,\u001b[0m \u001b[0mfontsize\u001b[0m\u001b[1;33m=\u001b[0m\u001b[1;36m10\u001b[0m\u001b[1;33m)\u001b[0m\u001b[1;33m\u001b[0m\u001b[1;33m\u001b[0m\u001b[0m\n\u001b[0m\u001b[0;32m      3\u001b[0m \u001b[1;31m#XGBClassifier().plot_tree(clf, num_trees=4, ax=ax)\u001b[0m\u001b[1;33m\u001b[0m\u001b[1;33m\u001b[0m\u001b[1;33m\u001b[0m\u001b[0m\n\u001b[0;32m      4\u001b[0m \u001b[1;33m\u001b[0m\u001b[0m\n\u001b[0;32m      5\u001b[0m \u001b[1;31m#tree.plot_tree(clf);\u001b[0m\u001b[1;33m\u001b[0m\u001b[1;33m\u001b[0m\u001b[1;33m\u001b[0m\u001b[0m\n",
      "\u001b[1;32m~\\anaconda3\\lib\\site-packages\\sklearn\\utils\\validation.py\u001b[0m in \u001b[0;36minner_f\u001b[1;34m(*args, **kwargs)\u001b[0m\n\u001b[0;32m     61\u001b[0m             \u001b[0mextra_args\u001b[0m \u001b[1;33m=\u001b[0m \u001b[0mlen\u001b[0m\u001b[1;33m(\u001b[0m\u001b[0margs\u001b[0m\u001b[1;33m)\u001b[0m \u001b[1;33m-\u001b[0m \u001b[0mlen\u001b[0m\u001b[1;33m(\u001b[0m\u001b[0mall_args\u001b[0m\u001b[1;33m)\u001b[0m\u001b[1;33m\u001b[0m\u001b[1;33m\u001b[0m\u001b[0m\n\u001b[0;32m     62\u001b[0m             \u001b[1;32mif\u001b[0m \u001b[0mextra_args\u001b[0m \u001b[1;33m<=\u001b[0m \u001b[1;36m0\u001b[0m\u001b[1;33m:\u001b[0m\u001b[1;33m\u001b[0m\u001b[1;33m\u001b[0m\u001b[0m\n\u001b[1;32m---> 63\u001b[1;33m                 \u001b[1;32mreturn\u001b[0m \u001b[0mf\u001b[0m\u001b[1;33m(\u001b[0m\u001b[1;33m*\u001b[0m\u001b[0margs\u001b[0m\u001b[1;33m,\u001b[0m \u001b[1;33m**\u001b[0m\u001b[0mkwargs\u001b[0m\u001b[1;33m)\u001b[0m\u001b[1;33m\u001b[0m\u001b[1;33m\u001b[0m\u001b[0m\n\u001b[0m\u001b[0;32m     64\u001b[0m \u001b[1;33m\u001b[0m\u001b[0m\n\u001b[0;32m     65\u001b[0m             \u001b[1;31m# extra_args > 0\u001b[0m\u001b[1;33m\u001b[0m\u001b[1;33m\u001b[0m\u001b[1;33m\u001b[0m\u001b[0m\n",
      "\u001b[1;32m~\\anaconda3\\lib\\site-packages\\sklearn\\tree\\_export.py\u001b[0m in \u001b[0;36mplot_tree\u001b[1;34m(decision_tree, max_depth, feature_names, class_names, label, filled, impurity, node_ids, proportion, rotate, rounded, precision, ax, fontsize)\u001b[0m\n\u001b[0;32m    192\u001b[0m         \u001b[0mproportion\u001b[0m\u001b[1;33m=\u001b[0m\u001b[0mproportion\u001b[0m\u001b[1;33m,\u001b[0m \u001b[0mrotate\u001b[0m\u001b[1;33m=\u001b[0m\u001b[0mrotate\u001b[0m\u001b[1;33m,\u001b[0m \u001b[0mrounded\u001b[0m\u001b[1;33m=\u001b[0m\u001b[0mrounded\u001b[0m\u001b[1;33m,\u001b[0m\u001b[1;33m\u001b[0m\u001b[1;33m\u001b[0m\u001b[0m\n\u001b[0;32m    193\u001b[0m         precision=precision, fontsize=fontsize)\n\u001b[1;32m--> 194\u001b[1;33m     \u001b[1;32mreturn\u001b[0m \u001b[0mexporter\u001b[0m\u001b[1;33m.\u001b[0m\u001b[0mexport\u001b[0m\u001b[1;33m(\u001b[0m\u001b[0mdecision_tree\u001b[0m\u001b[1;33m,\u001b[0m \u001b[0max\u001b[0m\u001b[1;33m=\u001b[0m\u001b[0max\u001b[0m\u001b[1;33m)\u001b[0m\u001b[1;33m\u001b[0m\u001b[1;33m\u001b[0m\u001b[0m\n\u001b[0m\u001b[0;32m    195\u001b[0m \u001b[1;33m\u001b[0m\u001b[0m\n\u001b[0;32m    196\u001b[0m \u001b[1;33m\u001b[0m\u001b[0m\n",
      "\u001b[1;32m~\\anaconda3\\lib\\site-packages\\sklearn\\tree\\_export.py\u001b[0m in \u001b[0;36mexport\u001b[1;34m(self, decision_tree, ax)\u001b[0m\n\u001b[0;32m    582\u001b[0m         \u001b[0max\u001b[0m\u001b[1;33m.\u001b[0m\u001b[0mclear\u001b[0m\u001b[1;33m(\u001b[0m\u001b[1;33m)\u001b[0m\u001b[1;33m\u001b[0m\u001b[1;33m\u001b[0m\u001b[0m\n\u001b[0;32m    583\u001b[0m         \u001b[0max\u001b[0m\u001b[1;33m.\u001b[0m\u001b[0mset_axis_off\u001b[0m\u001b[1;33m(\u001b[0m\u001b[1;33m)\u001b[0m\u001b[1;33m\u001b[0m\u001b[1;33m\u001b[0m\u001b[0m\n\u001b[1;32m--> 584\u001b[1;33m         my_tree = self._make_tree(0, decision_tree.tree_,\n\u001b[0m\u001b[0;32m    585\u001b[0m                                   decision_tree.criterion)\n\u001b[0;32m    586\u001b[0m         \u001b[0mdraw_tree\u001b[0m \u001b[1;33m=\u001b[0m \u001b[0mbuchheim\u001b[0m\u001b[1;33m(\u001b[0m\u001b[0mmy_tree\u001b[0m\u001b[1;33m)\u001b[0m\u001b[1;33m\u001b[0m\u001b[1;33m\u001b[0m\u001b[0m\n",
      "\u001b[1;31mAttributeError\u001b[0m: 'XGBClassifier' object has no attribute 'tree_'"
     ]
    },
    {
     "data": {
      "image/png": "[encoded data removed]",
      "text/plain": [
       "<Figure size 864x864 with 1 Axes>"
      ]
     },
     "metadata": {
      "needs_background": "light"
     },
     "output_type": "display_data"
    }
   ],
   "source": [
    "plt.figure(figsize=(12,12))  # set plot size (denoted in inches)\n",
    "tree.plot_tree(clf, fontsize=10)\n",
    "#XGBClassifier().plot_tree(clf, num_trees=4, ax=ax)\n",
    "\n",
    "#tree.plot_tree(clf);\n",
    "plt.show()\n",
    "\n",
    "\n"
   ]
  },
  {
   "cell_type": "code",
   "execution_count": 514,
   "id": "12ae3d76",
   "metadata": {},
   "outputs": [
    {
     "name": "stdout",
     "output_type": "stream",
     "text": [
      "Topic #0: but the, pretty good, good but, are pretty good, comes to\n",
      "Topic #1: you re, if you re, is always, you can, if you\n",
      "Topic #2: next century of students, really updated, our school has really, north has just, rest of the school\n",
      "Topic #3: north is, get involved, to get, there is, one of the\n",
      "Topic #4: only the required material, my horizons beyond, north has been, not only the, only the required\n",
      "Topic #5: do not, is very, policies are, is very involved, not participate\n",
      "Topic #6: school sophomorefeb 28, sophomorefeb 28, high school sophomorefeb 28, high school sophomorefeb, school sophomorefeb\n",
      "Topic #7: through the, high school sophomorefeb 21, school sophomorefeb 21, sophomorefeb 21, high school sophomorefeb\n",
      "Topic #8: some very, some very influential, some very influential teachers, teachers at this, teachers at this school\n",
      "Topic #9: lot of, the state, in the state, most of the, most of\n",
      "\n"
     ]
    },
    {
     "name": "stderr",
     "output_type": "stream",
     "text": [
      "C:\\Users\\pinba\\anaconda3\\lib\\site-packages\\ipykernel\\ipkernel.py:287: DeprecationWarning:\n",
      "\n",
      "`should_run_async` will not call `transform_cell` automatically in the future. Please pass the result to `transformed_cell` argument and any exception that happen during thetransform in `preprocessing_exc_tuple` in IPython 7.17 and above.\n",
      "\n"
     ]
    }
   ],
   "source": [
    "# LDA Top Topics\n",
    "lda = dict(grid_search.best_estimator_.named_steps['union'].transformer_list).get('review').named_steps['lda']\n",
    "feature_names = dict(grid_search.best_estimator_.named_steps['union'].transformer_list).get('review').named_steps['tfidf'].get_feature_names()\n",
    "\n",
    "print_top_words(lda\n",
    "               ,feature_names\n",
    "               ,5)\n"
   ]
  },
  {
   "cell_type": "code",
   "execution_count": 515,
   "id": "099c891c",
   "metadata": {},
   "outputs": [
    {
     "name": "stdout",
     "output_type": "stream",
     "text": [
      "comment_nlp_topic__0    0.076038\n",
      "comment_nlp_topic__1    0.081744\n",
      "comment_nlp_topic__2    0.099851\n",
      "comment_nlp_topic__3    0.148661\n",
      "comment_nlp_topic__4    0.098348\n",
      "comment_nlp_topic__5    0.000000\n",
      "comment_nlp_topic__6    0.126224\n",
      "comment_nlp_topic__7    0.088507\n",
      "comment_nlp_topic__8    0.111175\n",
      "comment_nlp_topic__9    0.169453\n",
      "dtype: float32\n"
     ]
    },
    {
     "name": "stderr",
     "output_type": "stream",
     "text": [
      "C:\\Users\\pinba\\anaconda3\\lib\\site-packages\\ipykernel\\ipkernel.py:287: DeprecationWarning:\n",
      "\n",
      "`should_run_async` will not call `transform_cell` automatically in the future. Please pass the result to `transformed_cell` argument and any exception that happen during thetransform in `preprocessing_exc_tuple` in IPython 7.17 and above.\n",
      "\n"
     ]
    },
    {
     "data": {
      "text/plain": [
       "<AxesSubplot:>"
      ]
     },
     "execution_count": 515,
     "metadata": {},
     "output_type": "execute_result"
    },
    {
     "data": {
      "image/png": "[encoded data removed]",
      "text/plain": [
       "<Figure size 432x288 with 1 Axes>"
      ]
     },
     "metadata": {
      "needs_background": "light"
     },
     "output_type": "display_data"
    }
   ],
   "source": [
    "#print(grid_search.best_estimator_.named_steps['classifier'].feature_importances_)\n",
    "#feature_names = grid_search.best_estimator_.named_steps['classifier'].get_feature_names()\n",
    "\n",
    "clf_feature_importance = grid_search.best_estimator_.named_steps['classifier'].feature_importances_\n",
    "#print(len(clf_feature_importance))\n",
    "\n",
    "#encoded_categorical_features = dict(grid_search.best_estimator_.named_steps['union'].transformer_list).get('repo_preprocessor').transformers_[1][1].get_feature_names()\n",
    "\n",
    "# capture comment nlp topics\n",
    "comment_nlp_model = dict(grid_search.best_estimator_.named_steps['union'].transformer_list).get('review').named_steps['lda']\n",
    "comment_nlp_topics = extract_feature_names(comment_nlp_model\n",
    "                                          , 'comment_nlp_topic_')\n",
    "\n",
    "features = np.array(list(comment_nlp_topics))\n",
    "\n",
    "feature_importance = pd.Series(data=clf_feature_importance\n",
    "                               , index = features )\n",
    "\n",
    "print(feature_importance)\n",
    "type(feature_importance)\n",
    "feature_importance.plot.bar()\n",
    "#grid_search.best_estimator_.named_steps['classifier'].feature_names_)"
   ]
  }
 ],
 "metadata": {
  "kernelspec": {
   "display_name": "Python 3",
   "language": "python",
   "name": "python3"
  },
  "language_info": {
   "codemirror_mode": {
    "name": "ipython",
    "version": 3
   },
   "file_extension": ".py",
   "mimetype": "text/x-python",
   "name": "python",
   "nbconvert_exporter": "python",
   "pygments_lexer": "ipython3",
   "version": "3.8.8"
  }
 },
 "nbformat": 4,
 "nbformat_minor": 5
}
