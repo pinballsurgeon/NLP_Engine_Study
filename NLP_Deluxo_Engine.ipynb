{
 "cells": [
  {
   "cell_type": "code",
   "execution_count": null,
   "id": "149c3f0a",
   "metadata": {},
   "outputs": [],
   "source": []
  },
  {
   "cell_type": "code",
   "execution_count": null,
   "id": "56197095",
   "metadata": {},
   "outputs": [],
   "source": []
  },
  {
   "cell_type": "code",
   "execution_count": 213,
   "id": "ad017262",
   "metadata": {},
   "outputs": [
    {
     "name": "stderr",
     "output_type": "stream",
     "text": [
      "C:\\Users\\pinba\\anaconda3\\lib\\site-packages\\ipykernel\\ipkernel.py:287: DeprecationWarning:\n",
      "\n",
      "`should_run_async` will not call `transform_cell` automatically in the future. Please pass the result to `transformed_cell` argument and any exception that happen during thetransform in `preprocessing_exc_tuple` in IPython 7.17 and above.\n",
      "\n",
      "ERROR: Could not find a version that satisfies the requirement itertools\n",
      "ERROR: No matching distribution found for itertools\n"
     ]
    }
   ],
   "source": []
  },
  {
   "cell_type": "code",
   "execution_count": 129,
   "id": "d270fd3d",
   "metadata": {},
   "outputs": [
    {
     "name": "stderr",
     "output_type": "stream",
     "text": [
      "C:\\Users\\pinba\\anaconda3\\lib\\site-packages\\ipykernel\\ipkernel.py:287: DeprecationWarning:\n",
      "\n",
      "`should_run_async` will not call `transform_cell` automatically in the future. Please pass the result to `transformed_cell` argument and any exception that happen during thetransform in `preprocessing_exc_tuple` in IPython 7.17 and above.\n",
      "\n"
     ]
    },
    {
     "name": "stdout",
     "output_type": "stream",
     "text": [
      "Requirement already satisfied: graphviz in c:\\users\\pinba\\anaconda3\\lib\\site-packages (0.17)\n"
     ]
    }
   ],
   "source": [
    "!python -m pip install --upgrade graphviz"
   ]
  },
  {
   "cell_type": "code",
   "execution_count": null,
   "id": "ff040333",
   "metadata": {},
   "outputs": [],
   "source": []
  },
  {
   "cell_type": "code",
   "execution_count": 214,
   "id": "ff718dd0",
   "metadata": {},
   "outputs": [
    {
     "name": "stderr",
     "output_type": "stream",
     "text": [
      "C:\\Users\\pinba\\anaconda3\\lib\\site-packages\\ipykernel\\ipkernel.py:287: DeprecationWarning:\n",
      "\n",
      "`should_run_async` will not call `transform_cell` automatically in the future. Please pass the result to `transformed_cell` argument and any exception that happen during thetransform in `preprocessing_exc_tuple` in IPython 7.17 and above.\n",
      "\n"
     ]
    }
   ],
   "source": [
    "import numpy as np # linear algebra\n",
    "import spacy\n",
    "nlp = spacy.load('en_core_web_sm')\n",
    "import pandas as pd # data processing, CSV file I/O (e.g. pd.read_csv)\n",
    "import seaborn as sns\n",
    "import matplotlib.pyplot as plt\n",
    "from wordcloud import WordCloud\n",
    "import string\n",
    "import re\n",
    "from collections import Counter\n",
    "from time import time\n",
    "# from sklearn.feature_extraction.stop_words import ENGLISH_STOP_WORDS as stopwords\n",
    "from nltk.corpus import stopwords\n",
    "import nltk\n",
    "import plotly.offline as py\n",
    "import plotly.graph_objs as go\n",
    "import plotly.tools as tls\n",
    "%matplotlib inline\n",
    "import heapq\n",
    "from nltk                            import FreqDist\n",
    "import gensim\n",
    "from gensim                          import corpora\n",
    "import pyLDAvis\n",
    "import pyLDAvis.gensim_models as gensim\n",
    "from gensim.models                   import LdaModel\n",
    "from sklearn.ensemble                import RandomForestClassifier\n",
    "from sklearn.tree                    import DecisionTreeClassifier\n",
    "from sklearn.feature_extraction.text import TfidfVectorizer, HashingVectorizer, CountVectorizer\n",
    "from sklearn.metrics                 import classification_report\n",
    "from sklearn.pipeline                import FeatureUnion\n",
    "from sklearn.pipeline                import Pipeline\n",
    "from sklearn.base                    import BaseEstimator, TransformerMixin\n",
    "from sklearn.decomposition           import NMF, LatentDirichletAllocation\n",
    "from sklearn.model_selection         import train_test_split\n",
    "from sklearn.model_selection         import RandomizedSearchCV\n",
    "from sklearn                         import metrics\n",
    "from typing                          import List\n",
    "from sklearn                         import tree\n",
    "\n",
    "from xgboost                         import XGBClassifier\n",
    "from xgboost                         import plot_tree\n",
    "import graphviz\n",
    "import itertools\n",
    "\n",
    "stopwords = stopwords.words('english')\n",
    "sns.set_context('notebook')"
   ]
  },
  {
   "cell_type": "code",
   "execution_count": 131,
   "id": "69f20ee1",
   "metadata": {},
   "outputs": [
    {
     "name": "stderr",
     "output_type": "stream",
     "text": [
      "C:\\Users\\pinba\\anaconda3\\lib\\site-packages\\ipykernel\\ipkernel.py:287: DeprecationWarning:\n",
      "\n",
      "`should_run_async` will not call `transform_cell` automatically in the future. Please pass the result to `transformed_cell` argument and any exception that happen during thetransform in `preprocessing_exc_tuple` in IPython 7.17 and above.\n",
      "\n"
     ]
    }
   ],
   "source": [
    "# extra step to allow graphviz to be found \n",
    "import os\n",
    "os.environ[\"PATH\"] += os.pathsep + 'C:/Users/pinba/anaconda3/Library/bin/graphviz'"
   ]
  },
  {
   "cell_type": "code",
   "execution_count": 132,
   "id": "3464452b",
   "metadata": {},
   "outputs": [
    {
     "name": "stderr",
     "output_type": "stream",
     "text": [
      "C:\\Users\\pinba\\anaconda3\\lib\\site-packages\\ipykernel\\ipkernel.py:287: DeprecationWarning:\n",
      "\n",
      "`should_run_async` will not call `transform_cell` automatically in the future. Please pass the result to `transformed_cell` argument and any exception that happen during thetransform in `preprocessing_exc_tuple` in IPython 7.17 and above.\n",
      "\n"
     ]
    }
   ],
   "source": [
    "class ItemSelector(BaseEstimator\n",
    "                  ,TransformerMixin):\n",
    "    \"\"\"\n",
    "    Parameters\n",
    "    ----------\n",
    "    key : hashable, required\n",
    "        The key corresponding to the desired value in a mappable.\n",
    "    \"\"\"\n",
    "    def __init__(self, key):\n",
    "        self.key = key\n",
    "\n",
    "    def fit(self, x, y=None):\n",
    "        return self\n",
    "\n",
    "    def transform(self, data_dict):\n",
    "        return data_dict[self.key]"
   ]
  },
  {
   "cell_type": "code",
   "execution_count": 133,
   "id": "d76aabaa",
   "metadata": {},
   "outputs": [
    {
     "name": "stderr",
     "output_type": "stream",
     "text": [
      "C:\\Users\\pinba\\anaconda3\\lib\\site-packages\\ipykernel\\ipkernel.py:287: DeprecationWarning:\n",
      "\n",
      "`should_run_async` will not call `transform_cell` automatically in the future. Please pass the result to `transformed_cell` argument and any exception that happen during thetransform in `preprocessing_exc_tuple` in IPython 7.17 and above.\n",
      "\n"
     ]
    }
   ],
   "source": [
    "def print_top_words(model, feature_names, n_top_words):\n",
    "    for topic_idx, topic in enumerate(model.components_):\n",
    "        message = \"Topic #%d: \" % topic_idx\n",
    "        message += \", \".join([feature_names[i]\n",
    "                             for i in topic.argsort()[:-n_top_words - 1:-1]])\n",
    "        print(message)\n",
    "    print()\n"
   ]
  },
  {
   "cell_type": "code",
   "execution_count": 134,
   "id": "ca8b0180",
   "metadata": {},
   "outputs": [
    {
     "name": "stderr",
     "output_type": "stream",
     "text": [
      "C:\\Users\\pinba\\anaconda3\\lib\\site-packages\\ipykernel\\ipkernel.py:287: DeprecationWarning:\n",
      "\n",
      "`should_run_async` will not call `transform_cell` automatically in the future. Please pass the result to `transformed_cell` argument and any exception that happen during thetransform in `preprocessing_exc_tuple` in IPython 7.17 and above.\n",
      "\n"
     ]
    }
   ],
   "source": [
    "def extract_feature_names(model, name) -> List[str]:\n",
    "\n",
    "    if hasattr(model, \"get_feature_names\"):\n",
    "        return model.get_feature_names()\n",
    "    elif hasattr(model, \"n_clusters\"):\n",
    "        return [f\"{name}_{x}\" for x in range(model.n_clusters)]\n",
    "    elif hasattr(model, \"n_components\"):\n",
    "        return [f\"{name}_{x}\" for x in range(model.n_components)]\n",
    "    elif hasattr(model, \"components_\"):\n",
    "        n_components = model.components_.shape[0]\n",
    "        return [f\"{name}_{x}\" for x in range(n_components)]\n",
    "    elif hasattr(model, \"classes_\"):\n",
    "        return classes_\n",
    "    else:\n",
    "        return [name]"
   ]
  },
  {
   "cell_type": "code",
   "execution_count": null,
   "id": "03986ffe",
   "metadata": {},
   "outputs": [],
   "source": []
  },
  {
   "cell_type": "code",
   "execution_count": 135,
   "id": "189e5694",
   "metadata": {},
   "outputs": [
    {
     "name": "stdout",
     "output_type": "stream",
     "text": [
      "(2399, 6)\n"
     ]
    },
    {
     "name": "stderr",
     "output_type": "stream",
     "text": [
      "C:\\Users\\pinba\\anaconda3\\lib\\site-packages\\ipykernel\\ipkernel.py:287: DeprecationWarning:\n",
      "\n",
      "`should_run_async` will not call `transform_cell` automatically in the future. Please pass the result to `transformed_cell` argument and any exception that happen during thetransform in `preprocessing_exc_tuple` in IPython 7.17 and above.\n",
      "\n"
     ]
    },
    {
     "data": {
      "text/html": [
       "<div>\n",
       "<style scoped>\n",
       "    .dataframe tbody tr th:only-of-type {\n",
       "        vertical-align: middle;\n",
       "    }\n",
       "\n",
       "    .dataframe tbody tr th {\n",
       "        vertical-align: top;\n",
       "    }\n",
       "\n",
       "    .dataframe thead th {\n",
       "        text-align: right;\n",
       "    }\n",
       "</style>\n",
       "<table border=\"1\" class=\"dataframe\">\n",
       "  <thead>\n",
       "    <tr style=\"text-align: right;\">\n",
       "      <th></th>\n",
       "      <th>RowCount</th>\n",
       "      <th>State</th>\n",
       "      <th>Metro</th>\n",
       "      <th>School</th>\n",
       "      <th>Rating</th>\n",
       "      <th>Review</th>\n",
       "    </tr>\n",
       "  </thead>\n",
       "  <tbody>\n",
       "    <tr>\n",
       "      <th>0</th>\n",
       "      <td>1</td>\n",
       "      <td>OK</td>\n",
       "      <td>Oklahoma City</td>\n",
       "      <td>Edmond Noth</td>\n",
       "      <td>3</td>\n",
       "      <td>I have enjoyed my time at ENHS but the way COV...</td>\n",
       "    </tr>\n",
       "    <tr>\n",
       "      <th>4</th>\n",
       "      <td>5</td>\n",
       "      <td>OK</td>\n",
       "      <td>Oklahoma City</td>\n",
       "      <td>Edmond Noth</td>\n",
       "      <td>3</td>\n",
       "      <td>Even while going through my parents' gritty cu...</td>\n",
       "    </tr>\n",
       "    <tr>\n",
       "      <th>8</th>\n",
       "      <td>9</td>\n",
       "      <td>OK</td>\n",
       "      <td>Oklahoma City</td>\n",
       "      <td>Edmond Noth</td>\n",
       "      <td>3</td>\n",
       "      <td>Edmond North high school is full of a diverse ...</td>\n",
       "    </tr>\n",
       "    <tr>\n",
       "      <th>14</th>\n",
       "      <td>15</td>\n",
       "      <td>OK</td>\n",
       "      <td>Oklahoma City</td>\n",
       "      <td>Edmond Noth</td>\n",
       "      <td>3</td>\n",
       "      <td>North high school has some serious issues with...</td>\n",
       "    </tr>\n",
       "    <tr>\n",
       "      <th>18</th>\n",
       "      <td>19</td>\n",
       "      <td>OK</td>\n",
       "      <td>Oklahoma City</td>\n",
       "      <td>Edmond Noth</td>\n",
       "      <td>3</td>\n",
       "      <td>North High School in Torrance is an a decent s...</td>\n",
       "    </tr>\n",
       "    <tr>\n",
       "      <th>23</th>\n",
       "      <td>24</td>\n",
       "      <td>OK</td>\n",
       "      <td>Oklahoma City</td>\n",
       "      <td>Edmond Noth</td>\n",
       "      <td>3</td>\n",
       "      <td>Academically it's a great school, but it's not...</td>\n",
       "    </tr>\n",
       "    <tr>\n",
       "      <th>31</th>\n",
       "      <td>32</td>\n",
       "      <td>OK</td>\n",
       "      <td>Oklahoma City</td>\n",
       "      <td>Edmond Noth</td>\n",
       "      <td>3</td>\n",
       "      <td>Why I wouldn't go to this school if I could do...</td>\n",
       "    </tr>\n",
       "    <tr>\n",
       "      <th>35</th>\n",
       "      <td>36</td>\n",
       "      <td>OK</td>\n",
       "      <td>Oklahoma City</td>\n",
       "      <td>Edmond Noth</td>\n",
       "      <td>3</td>\n",
       "      <td>The overall quality of the school itself is ve...</td>\n",
       "    </tr>\n",
       "    <tr>\n",
       "      <th>39</th>\n",
       "      <td>40</td>\n",
       "      <td>OK</td>\n",
       "      <td>Oklahoma City</td>\n",
       "      <td>Edmond Noth</td>\n",
       "      <td>3</td>\n",
       "      <td>There are a lot of diverse clubs and groups to...</td>\n",
       "    </tr>\n",
       "    <tr>\n",
       "      <th>44</th>\n",
       "      <td>45</td>\n",
       "      <td>OK</td>\n",
       "      <td>Oklahoma City</td>\n",
       "      <td>Edmond Noth</td>\n",
       "      <td>3</td>\n",
       "      <td>There are many clubs, but most do not particip...</td>\n",
       "    </tr>\n",
       "    <tr>\n",
       "      <th>48</th>\n",
       "      <td>49</td>\n",
       "      <td>OK</td>\n",
       "      <td>Oklahoma City</td>\n",
       "      <td>Edmond Noth</td>\n",
       "      <td>3</td>\n",
       "      <td>Some teachers go absolutely above and beyond t...</td>\n",
       "    </tr>\n",
       "    <tr>\n",
       "      <th>52</th>\n",
       "      <td>53</td>\n",
       "      <td>OK</td>\n",
       "      <td>Oklahoma City</td>\n",
       "      <td>Edmond Noth</td>\n",
       "      <td>3</td>\n",
       "      <td>I get band aids if I get a scrape, sanitary na...</td>\n",
       "    </tr>\n",
       "    <tr>\n",
       "      <th>56</th>\n",
       "      <td>57</td>\n",
       "      <td>OK</td>\n",
       "      <td>Oklahoma City</td>\n",
       "      <td>Edmond Noth</td>\n",
       "      <td>3</td>\n",
       "      <td>Many don't really commit to clubs. GSA, or QSA...</td>\n",
       "    </tr>\n",
       "    <tr>\n",
       "      <th>60</th>\n",
       "      <td>61</td>\n",
       "      <td>OK</td>\n",
       "      <td>Oklahoma City</td>\n",
       "      <td>Edmond Noth</td>\n",
       "      <td>3</td>\n",
       "      <td>I don't think anyone wants to relive their hig...</td>\n",
       "    </tr>\n",
       "    <tr>\n",
       "      <th>65</th>\n",
       "      <td>66</td>\n",
       "      <td>OK</td>\n",
       "      <td>Oklahoma City</td>\n",
       "      <td>Edmond Noth</td>\n",
       "      <td>3</td>\n",
       "      <td>i dont even know if we have a school nurse to ...</td>\n",
       "    </tr>\n",
       "    <tr>\n",
       "      <th>69</th>\n",
       "      <td>70</td>\n",
       "      <td>OK</td>\n",
       "      <td>Oklahoma City</td>\n",
       "      <td>Edmond Noth</td>\n",
       "      <td>3</td>\n",
       "      <td>The pressure parents put on the administration...</td>\n",
       "    </tr>\n",
       "    <tr>\n",
       "      <th>75</th>\n",
       "      <td>76</td>\n",
       "      <td>OK</td>\n",
       "      <td>Oklahoma City</td>\n",
       "      <td>Edmond Noth</td>\n",
       "      <td>3</td>\n",
       "      <td>It really depends on the teacher, i have three...</td>\n",
       "    </tr>\n",
       "    <tr>\n",
       "      <th>79</th>\n",
       "      <td>80</td>\n",
       "      <td>OK</td>\n",
       "      <td>Oklahoma City</td>\n",
       "      <td>Edmond Noth</td>\n",
       "      <td>3</td>\n",
       "      <td>Honestly, most teachers are pretty good and do...</td>\n",
       "    </tr>\n",
       "    <tr>\n",
       "      <th>83</th>\n",
       "      <td>84</td>\n",
       "      <td>OK</td>\n",
       "      <td>Oklahoma City</td>\n",
       "      <td>Edmond Noth</td>\n",
       "      <td>3</td>\n",
       "      <td>The nurse only there every other day, she/he i...</td>\n",
       "    </tr>\n",
       "    <tr>\n",
       "      <th>87</th>\n",
       "      <td>88</td>\n",
       "      <td>OK</td>\n",
       "      <td>Oklahoma City</td>\n",
       "      <td>Edmond Noth</td>\n",
       "      <td>3</td>\n",
       "      <td>North is an academically competitive school, w...</td>\n",
       "    </tr>\n",
       "    <tr>\n",
       "      <th>91</th>\n",
       "      <td>92</td>\n",
       "      <td>OK</td>\n",
       "      <td>Oklahoma City</td>\n",
       "      <td>Edmond Noth</td>\n",
       "      <td>3</td>\n",
       "      <td>this school has given me a great education and...</td>\n",
       "    </tr>\n",
       "    <tr>\n",
       "      <th>95</th>\n",
       "      <td>96</td>\n",
       "      <td>OK</td>\n",
       "      <td>Oklahoma City</td>\n",
       "      <td>Edmond Noth</td>\n",
       "      <td>3</td>\n",
       "      <td>Never been through the school system in the US...</td>\n",
       "    </tr>\n",
       "    <tr>\n",
       "      <th>101</th>\n",
       "      <td>102</td>\n",
       "      <td>OK</td>\n",
       "      <td>Oklahoma City</td>\n",
       "      <td>Edmond Noth</td>\n",
       "      <td>3</td>\n",
       "      <td>Since I just know what my child does I can't r...</td>\n",
       "    </tr>\n",
       "    <tr>\n",
       "      <th>105</th>\n",
       "      <td>106</td>\n",
       "      <td>OK</td>\n",
       "      <td>Oklahoma City</td>\n",
       "      <td>Edmond Noth</td>\n",
       "      <td>3</td>\n",
       "      <td>I guess mainly pretty average teachers. There ...</td>\n",
       "    </tr>\n",
       "    <tr>\n",
       "      <th>110</th>\n",
       "      <td>111</td>\n",
       "      <td>OK</td>\n",
       "      <td>Oklahoma City</td>\n",
       "      <td>Edmond Noth</td>\n",
       "      <td>3</td>\n",
       "      <td>They have all the rules in the student hand bo...</td>\n",
       "    </tr>\n",
       "  </tbody>\n",
       "</table>\n",
       "</div>"
      ],
      "text/plain": [
       "     RowCount State          Metro       School  Rating  \\\n",
       "0           1    OK  Oklahoma City  Edmond Noth       3   \n",
       "4           5    OK  Oklahoma City  Edmond Noth       3   \n",
       "8           9    OK  Oklahoma City  Edmond Noth       3   \n",
       "14         15    OK  Oklahoma City  Edmond Noth       3   \n",
       "18         19    OK  Oklahoma City  Edmond Noth       3   \n",
       "23         24    OK  Oklahoma City  Edmond Noth       3   \n",
       "31         32    OK  Oklahoma City  Edmond Noth       3   \n",
       "35         36    OK  Oklahoma City  Edmond Noth       3   \n",
       "39         40    OK  Oklahoma City  Edmond Noth       3   \n",
       "44         45    OK  Oklahoma City  Edmond Noth       3   \n",
       "48         49    OK  Oklahoma City  Edmond Noth       3   \n",
       "52         53    OK  Oklahoma City  Edmond Noth       3   \n",
       "56         57    OK  Oklahoma City  Edmond Noth       3   \n",
       "60         61    OK  Oklahoma City  Edmond Noth       3   \n",
       "65         66    OK  Oklahoma City  Edmond Noth       3   \n",
       "69         70    OK  Oklahoma City  Edmond Noth       3   \n",
       "75         76    OK  Oklahoma City  Edmond Noth       3   \n",
       "79         80    OK  Oklahoma City  Edmond Noth       3   \n",
       "83         84    OK  Oklahoma City  Edmond Noth       3   \n",
       "87         88    OK  Oklahoma City  Edmond Noth       3   \n",
       "91         92    OK  Oklahoma City  Edmond Noth       3   \n",
       "95         96    OK  Oklahoma City  Edmond Noth       3   \n",
       "101       102    OK  Oklahoma City  Edmond Noth       3   \n",
       "105       106    OK  Oklahoma City  Edmond Noth       3   \n",
       "110       111    OK  Oklahoma City  Edmond Noth       3   \n",
       "\n",
       "                                                Review  \n",
       "0    I have enjoyed my time at ENHS but the way COV...  \n",
       "4    Even while going through my parents' gritty cu...  \n",
       "8    Edmond North high school is full of a diverse ...  \n",
       "14   North high school has some serious issues with...  \n",
       "18   North High School in Torrance is an a decent s...  \n",
       "23   Academically it's a great school, but it's not...  \n",
       "31   Why I wouldn't go to this school if I could do...  \n",
       "35   The overall quality of the school itself is ve...  \n",
       "39   There are a lot of diverse clubs and groups to...  \n",
       "44   There are many clubs, but most do not particip...  \n",
       "48   Some teachers go absolutely above and beyond t...  \n",
       "52   I get band aids if I get a scrape, sanitary na...  \n",
       "56   Many don't really commit to clubs. GSA, or QSA...  \n",
       "60   I don't think anyone wants to relive their hig...  \n",
       "65   i dont even know if we have a school nurse to ...  \n",
       "69   The pressure parents put on the administration...  \n",
       "75   It really depends on the teacher, i have three...  \n",
       "79   Honestly, most teachers are pretty good and do...  \n",
       "83   The nurse only there every other day, she/he i...  \n",
       "87   North is an academically competitive school, w...  \n",
       "91   this school has given me a great education and...  \n",
       "95   Never been through the school system in the US...  \n",
       "101  Since I just know what my child does I can't r...  \n",
       "105  I guess mainly pretty average teachers. There ...  \n",
       "110  They have all the rules in the student hand bo...  "
      ]
     },
     "execution_count": 135,
     "metadata": {},
     "output_type": "execute_result"
    }
   ],
   "source": [
    "#reviews = pd.read_csv(\"north_avg_reviews - Sheet1.csv\", encoding='latin1')\n",
    "reviews = pd.read_csv(\"SCHOOL_RATING - Sheet1.csv\", encoding='latin1')\n",
    "\n",
    "reviews = reviews.dropna()\n",
    "\n",
    "# remove formatting and short stuff\n",
    "reviews.drop(reviews[reviews.Review.str.len() < 49].index, inplace=True)\n",
    "\n",
    "print(reviews.shape)\n",
    "reviews.head(25)\n"
   ]
  },
  {
   "cell_type": "code",
   "execution_count": 136,
   "id": "e21daa46",
   "metadata": {},
   "outputs": [
    {
     "name": "stderr",
     "output_type": "stream",
     "text": [
      "C:\\Users\\pinba\\anaconda3\\lib\\site-packages\\ipykernel\\ipkernel.py:287: DeprecationWarning:\n",
      "\n",
      "`should_run_async` will not call `transform_cell` automatically in the future. Please pass the result to `transformed_cell` argument and any exception that happen during thetransform in `preprocessing_exc_tuple` in IPython 7.17 and above.\n",
      "\n"
     ]
    }
   ],
   "source": [
    "\n",
    "nlp = spacy.load('en_core_web_lg')\n",
    "def normalize_text(text):\n",
    "    tm1 = re.sub('<pre>.*?</pre>', '', text, flags=re.DOTALL)\n",
    "    tm2 = re.sub('<code>.*?</code>', '', tm1, flags=re.DOTALL)\n",
    "    tm3 = re.sub('<[^>]+>©', '', tm1, flags=re.DOTALL)\n",
    "    return tm3.replace(\"\\n\", \"\")"
   ]
  },
  {
   "cell_type": "code",
   "execution_count": 137,
   "id": "c8514986",
   "metadata": {},
   "outputs": [
    {
     "name": "stderr",
     "output_type": "stream",
     "text": [
      "C:\\Users\\pinba\\anaconda3\\lib\\site-packages\\ipykernel\\ipkernel.py:287: DeprecationWarning:\n",
      "\n",
      "`should_run_async` will not call `transform_cell` automatically in the future. Please pass the result to `transformed_cell` argument and any exception that happen during thetransform in `preprocessing_exc_tuple` in IPython 7.17 and above.\n",
      "\n"
     ]
    }
   ],
   "source": [
    "# in this step we are going to remove code syntax from text \n",
    "reviews['Review_Cleaned_1'] = reviews['Review'].apply(normalize_text)"
   ]
  },
  {
   "cell_type": "code",
   "execution_count": null,
   "id": "19fe7935",
   "metadata": {},
   "outputs": [],
   "source": []
  },
  {
   "cell_type": "code",
   "execution_count": 138,
   "id": "3b34adea",
   "metadata": {},
   "outputs": [
    {
     "name": "stderr",
     "output_type": "stream",
     "text": [
      "C:\\Users\\pinba\\anaconda3\\lib\\site-packages\\ipykernel\\ipkernel.py:287: DeprecationWarning:\n",
      "\n",
      "`should_run_async` will not call `transform_cell` automatically in the future. Please pass the result to `transformed_cell` argument and any exception that happen during thetransform in `preprocessing_exc_tuple` in IPython 7.17 and above.\n",
      "\n"
     ]
    }
   ],
   "source": [
    "punctuations = '!\"#$%&\\'()*+,-/:;<=>?@[\\\\]^_`{|}~©'\n",
    "# Define function to cleanup text by removing personal pronouns, stopwords, and puncuation\n",
    "def cleanup_text(docs, logging=False):\n",
    "    texts = []\n",
    "    doc = nlp(docs, disable=['parser', 'ner'])\n",
    "    tokens = [tok.lemma_.lower().strip() for tok in doc if tok.lemma_ != '-PRON-']\n",
    "    tokens = [tok for tok in tokens if tok not in stopwords and tok not in punctuations]\n",
    "    tokens = ' '.join(tokens)\n",
    "    texts.append(tokens)\n",
    "    return pd.Series(texts)\n",
    "\n",
    "\n",
    "reviews['Review_Cleaned'] = reviews['Review_Cleaned_1'].apply(lambda x: cleanup_text(x, False))"
   ]
  },
  {
   "cell_type": "code",
   "execution_count": null,
   "id": "34ccd9cf",
   "metadata": {},
   "outputs": [],
   "source": []
  },
  {
   "cell_type": "code",
   "execution_count": 139,
   "id": "cc632437",
   "metadata": {},
   "outputs": [
    {
     "name": "stderr",
     "output_type": "stream",
     "text": [
      "C:\\Users\\pinba\\anaconda3\\lib\\site-packages\\ipykernel\\ipkernel.py:287: DeprecationWarning:\n",
      "\n",
      "`should_run_async` will not call `transform_cell` automatically in the future. Please pass the result to `transformed_cell` argument and any exception that happen during thetransform in `preprocessing_exc_tuple` in IPython 7.17 and above.\n",
      "\n"
     ]
    }
   ],
   "source": [
    "def generate_summary(text_without_removing_dot, cleaned_text):\n",
    "    sample_text = text_without_removing_dot\n",
    "    doc = nlp(sample_text)\n",
    "    sentence_list=[]\n",
    "    for idx, sentence in enumerate(doc.sents): # we are using spacy for sentence tokenization\n",
    "        sentence_list.append(re.sub(r'[^\\w\\s]','',str(sentence)))\n",
    "\n",
    "    stopwords = nltk.corpus.stopwords.words('english')\n",
    "\n",
    "    word_frequencies = {}  \n",
    "    for word in nltk.word_tokenize(cleaned_text):  \n",
    "        if word not in stopwords:\n",
    "            if word not in word_frequencies.keys():\n",
    "                word_frequencies[word] = 1\n",
    "            else:\n",
    "                word_frequencies[word] += 1\n",
    "\n",
    "\n",
    "    maximum_frequncy = max(word_frequencies.values())\n",
    "\n",
    "    for word in word_frequencies.keys():  \n",
    "        word_frequencies[word] = (word_frequencies[word]/maximum_frequncy)\n",
    "\n",
    "\n",
    "    sentence_scores = {}  \n",
    "    for sent in sentence_list:  \n",
    "        for word in nltk.word_tokenize(sent.lower()):\n",
    "            if word in word_frequencies.keys():\n",
    "                if len(sent.split(' ')) < 30:\n",
    "                    if sent not in sentence_scores.keys():\n",
    "                        sentence_scores[sent] = word_frequencies[word]\n",
    "                    else:\n",
    "                        sentence_scores[sent] += word_frequencies[word]\n",
    "\n",
    "\n",
    "    summary_sentences = heapq.nlargest(7, sentence_scores, key=sentence_scores.get)\n",
    "\n",
    "    summary = ' '.join(summary_sentences)\n",
    "    print(\"Original Text:\\n\")\n",
    "    print(text_without_removing_dot)\n",
    "    print('\\n\\nSummarized text:\\n')\n",
    "    print(summary)"
   ]
  },
  {
   "cell_type": "code",
   "execution_count": 140,
   "id": "d2980cc6",
   "metadata": {},
   "outputs": [
    {
     "name": "stderr",
     "output_type": "stream",
     "text": [
      "C:\\Users\\pinba\\anaconda3\\lib\\site-packages\\ipykernel\\ipkernel.py:287: DeprecationWarning:\n",
      "\n",
      "`should_run_async` will not call `transform_cell` automatically in the future. Please pass the result to `transformed_cell` argument and any exception that happen during thetransform in `preprocessing_exc_tuple` in IPython 7.17 and above.\n",
      "\n"
     ]
    },
    {
     "data": {
      "text/html": [
       "<div>\n",
       "<style scoped>\n",
       "    .dataframe tbody tr th:only-of-type {\n",
       "        vertical-align: middle;\n",
       "    }\n",
       "\n",
       "    .dataframe tbody tr th {\n",
       "        vertical-align: top;\n",
       "    }\n",
       "\n",
       "    .dataframe thead th {\n",
       "        text-align: right;\n",
       "    }\n",
       "</style>\n",
       "<table border=\"1\" class=\"dataframe\">\n",
       "  <thead>\n",
       "    <tr style=\"text-align: right;\">\n",
       "      <th></th>\n",
       "      <th>RowCount</th>\n",
       "      <th>State</th>\n",
       "      <th>Metro</th>\n",
       "      <th>School</th>\n",
       "      <th>Rating</th>\n",
       "      <th>Review</th>\n",
       "      <th>Review_Cleaned_1</th>\n",
       "      <th>Review_Cleaned</th>\n",
       "      <th>doc</th>\n",
       "    </tr>\n",
       "  </thead>\n",
       "  <tbody>\n",
       "    <tr>\n",
       "      <th>6514</th>\n",
       "      <td>6515</td>\n",
       "      <td>IN</td>\n",
       "      <td>Floyd Knobs</td>\n",
       "      <td>Floyd Central</td>\n",
       "      <td>2</td>\n",
       "      <td>Start Your Review of Floyd Central High School...</td>\n",
       "      <td>Start Your Review of Floyd Central High School...</td>\n",
       "      <td>start review floyd central high schoolrate</td>\n",
       "      <td>(Start, Your, Review, of, Floyd, Central, High...</td>\n",
       "    </tr>\n",
       "    <tr>\n",
       "      <th>989</th>\n",
       "      <td>990</td>\n",
       "      <td>OK</td>\n",
       "      <td>Oklahoma City</td>\n",
       "      <td>Edmond Noth</td>\n",
       "      <td>2</td>\n",
       "      <td>I feel that the teachers give a fair amount of...</td>\n",
       "      <td>I feel that the teachers give a fair amount of...</td>\n",
       "      <td>feel teacher give fair amount homework . say p...</td>\n",
       "      <td>(I, feel, that, the, teachers, give, a, fair, ...</td>\n",
       "    </tr>\n",
       "    <tr>\n",
       "      <th>8095</th>\n",
       "      <td>8096</td>\n",
       "      <td>IN</td>\n",
       "      <td>Floyd Knobs</td>\n",
       "      <td>Floyd Central</td>\n",
       "      <td>1</td>\n",
       "      <td>The teachers at Floyd Central High School make...</td>\n",
       "      <td>The teachers at Floyd Central High School make...</td>\n",
       "      <td>teacher floyd central high school make sure ch...</td>\n",
       "      <td>(The, teachers, at, Floyd, Central, High, Scho...</td>\n",
       "    </tr>\n",
       "  </tbody>\n",
       "</table>\n",
       "</div>"
      ],
      "text/plain": [
       "      RowCount State          Metro         School  Rating  \\\n",
       "6514      6515    IN    Floyd Knobs  Floyd Central       2   \n",
       "989        990    OK  Oklahoma City    Edmond Noth       2   \n",
       "8095      8096    IN    Floyd Knobs  Floyd Central       1   \n",
       "\n",
       "                                                 Review  \\\n",
       "6514  Start Your Review of Floyd Central High School...   \n",
       "989   I feel that the teachers give a fair amount of...   \n",
       "8095  The teachers at Floyd Central High School make...   \n",
       "\n",
       "                                       Review_Cleaned_1  \\\n",
       "6514  Start Your Review of Floyd Central High School...   \n",
       "989   I feel that the teachers give a fair amount of...   \n",
       "8095  The teachers at Floyd Central High School make...   \n",
       "\n",
       "                                         Review_Cleaned  \\\n",
       "6514         start review floyd central high schoolrate   \n",
       "989   feel teacher give fair amount homework . say p...   \n",
       "8095  teacher floyd central high school make sure ch...   \n",
       "\n",
       "                                                    doc  \n",
       "6514  (Start, Your, Review, of, Floyd, Central, High...  \n",
       "989   (I, feel, that, the, teachers, give, a, fair, ...  \n",
       "8095  (The, teachers, at, Floyd, Central, High, Scho...  "
      ]
     },
     "execution_count": 140,
     "metadata": {},
     "output_type": "execute_result"
    }
   ],
   "source": [
    "# Load model to return language object\n",
    "nlp = spacy.load('en_core_web_sm')\n",
    "# Calling nlp on our tweet texts to return a processed Doc for each\n",
    "reviews['doc'] = [nlp(Review) for Review in reviews.Review]\n",
    "reviews.sample(3)"
   ]
  },
  {
   "cell_type": "code",
   "execution_count": 141,
   "id": "dde05faa",
   "metadata": {},
   "outputs": [
    {
     "name": "stderr",
     "output_type": "stream",
     "text": [
      "C:\\Users\\pinba\\anaconda3\\lib\\site-packages\\ipykernel\\ipkernel.py:287: DeprecationWarning:\n",
      "\n",
      "`should_run_async` will not call `transform_cell` automatically in the future. Please pass the result to `transformed_cell` argument and any exception that happen during thetransform in `preprocessing_exc_tuple` in IPython 7.17 and above.\n",
      "\n",
      "C:\\Users\\pinba\\anaconda3\\lib\\site-packages\\seaborn\\distributions.py:2557: FutureWarning:\n",
      "\n",
      "`distplot` is a deprecated function and will be removed in a future version. Please adapt your code to use either `displot` (a figure-level function with similar flexibility) or `histplot` (an axes-level function for histograms).\n",
      "\n"
     ]
    },
    {
     "data": {
      "image/png": "[encoded data removed]",
      "text/plain": [
       "<Figure size 432x288 with 1 Axes>"
      ]
     },
     "metadata": {
      "needs_background": "light"
     },
     "output_type": "display_data"
    }
   ],
   "source": [
    "# Sum the number of tokens in each Doc\n",
    "reviews['num_tokens'] = [len(token) for token in reviews.doc]\n",
    "# Visualize histogram of tokens per tweet\n",
    "g = sns.distplot(reviews.num_tokens)"
   ]
  },
  {
   "cell_type": "code",
   "execution_count": 142,
   "id": "70c7016b",
   "metadata": {},
   "outputs": [
    {
     "name": "stderr",
     "output_type": "stream",
     "text": [
      "C:\\Users\\pinba\\anaconda3\\lib\\site-packages\\ipykernel\\ipkernel.py:287: DeprecationWarning:\n",
      "\n",
      "`should_run_async` will not call `transform_cell` automatically in the future. Please pass the result to `transformed_cell` argument and any exception that happen during thetransform in `preprocessing_exc_tuple` in IPython 7.17 and above.\n",
      "\n"
     ]
    }
   ],
   "source": [
    "# function to plot most frequent terms\n",
    "def freq_words(x, terms = 30):\n",
    "  all_words = ' '.join([text for text in x])\n",
    "  all_words = all_words.split()\n",
    "\n",
    "  fdist = FreqDist(all_words)\n",
    "  words_df = pd.DataFrame({'word':list(fdist.keys()), 'count':list(fdist.values())})\n",
    "\n",
    "  # selecting top 20 most frequent words\n",
    "  d = words_df.nlargest(columns=\"count\", n = terms) \n",
    "  plt.figure(figsize=(20,5))\n",
    "  ax = sns.barplot(data=d, x= \"word\", y = \"count\")\n",
    "  ax.set(ylabel = 'Count')\n",
    "  plt.show()"
   ]
  },
  {
   "cell_type": "code",
   "execution_count": 143,
   "id": "3f1da380",
   "metadata": {},
   "outputs": [
    {
     "name": "stderr",
     "output_type": "stream",
     "text": [
      "C:\\Users\\pinba\\anaconda3\\lib\\site-packages\\ipykernel\\ipkernel.py:287: DeprecationWarning:\n",
      "\n",
      "`should_run_async` will not call `transform_cell` automatically in the future. Please pass the result to `transformed_cell` argument and any exception that happen during thetransform in `preprocessing_exc_tuple` in IPython 7.17 and above.\n",
      "\n"
     ]
    },
    {
     "data": {
      "image/png": "[encoded data removed]",
      "text/plain": [
       "<Figure size 1440x360 with 1 Axes>"
      ]
     },
     "metadata": {
      "needs_background": "light"
     },
     "output_type": "display_data"
    }
   ],
   "source": [
    "freq_words(reviews['Review_Cleaned'])"
   ]
  },
  {
   "cell_type": "code",
   "execution_count": 144,
   "id": "43c030b7",
   "metadata": {},
   "outputs": [
    {
     "name": "stderr",
     "output_type": "stream",
     "text": [
      "C:\\Users\\pinba\\anaconda3\\lib\\site-packages\\ipykernel\\ipkernel.py:287: DeprecationWarning:\n",
      "\n",
      "`should_run_async` will not call `transform_cell` automatically in the future. Please pass the result to `transformed_cell` argument and any exception that happen during thetransform in `preprocessing_exc_tuple` in IPython 7.17 and above.\n",
      "\n",
      "<ipython-input-144-f2c53fdd6a2a>:2: FutureWarning:\n",
      "\n",
      "The default value of regex will change from True to False in a future version.\n",
      "\n"
     ]
    }
   ],
   "source": [
    "# remove unwanted characters, numbers and symbols\n",
    "reviews['Review_Cleaned'] = reviews['Review_Cleaned'].str.replace(\"[^a-zA-Z#]\", \" \")"
   ]
  },
  {
   "cell_type": "code",
   "execution_count": 145,
   "id": "a70c9057",
   "metadata": {},
   "outputs": [
    {
     "name": "stderr",
     "output_type": "stream",
     "text": [
      "C:\\Users\\pinba\\anaconda3\\lib\\site-packages\\ipykernel\\ipkernel.py:287: DeprecationWarning:\n",
      "\n",
      "`should_run_async` will not call `transform_cell` automatically in the future. Please pass the result to `transformed_cell` argument and any exception that happen during thetransform in `preprocessing_exc_tuple` in IPython 7.17 and above.\n",
      "\n"
     ]
    }
   ],
   "source": [
    "# function to remove stopwords\n",
    "def remove_stopwords(rev):\n",
    "    stop_words = nltk.corpus.stopwords.words('english')\n",
    "    rev_new = \" \".join([i for i in rev if i not in stop_words])\n",
    "    return rev_new\n",
    "\n",
    "reviews_org = reviews\n",
    "\n",
    "# remove short words (length < 3)\n",
    "reviews['Review_Cleaned'] = reviews['Review_Cleaned'].apply(lambda x: ' '.join([w for w in x.split() if len(w)>2]))\n",
    "\n",
    "# remove stopwords from the text\n",
    "reviews = [remove_stopwords(r.split()) for r in reviews['Review_Cleaned']]\n",
    "\n",
    "# make entire text lowercase\n",
    "reviews = [r.lower() for r in reviews]"
   ]
  },
  {
   "cell_type": "code",
   "execution_count": 146,
   "id": "8c9f3719",
   "metadata": {},
   "outputs": [
    {
     "name": "stderr",
     "output_type": "stream",
     "text": [
      "C:\\Users\\pinba\\anaconda3\\lib\\site-packages\\ipykernel\\ipkernel.py:287: DeprecationWarning:\n",
      "\n",
      "`should_run_async` will not call `transform_cell` automatically in the future. Please pass the result to `transformed_cell` argument and any exception that happen during thetransform in `preprocessing_exc_tuple` in IPython 7.17 and above.\n",
      "\n"
     ]
    },
    {
     "data": {
      "image/png": "[encoded data removed]",
      "text/plain": [
       "<Figure size 1440x360 with 1 Axes>"
      ]
     },
     "metadata": {
      "needs_background": "light"
     },
     "output_type": "display_data"
    }
   ],
   "source": [
    "freq_words(reviews, 35)"
   ]
  },
  {
   "cell_type": "code",
   "execution_count": 147,
   "id": "670055b4",
   "metadata": {},
   "outputs": [
    {
     "name": "stderr",
     "output_type": "stream",
     "text": [
      "C:\\Users\\pinba\\anaconda3\\lib\\site-packages\\ipykernel\\ipkernel.py:287: DeprecationWarning:\n",
      "\n",
      "`should_run_async` will not call `transform_cell` automatically in the future. Please pass the result to `transformed_cell` argument and any exception that happen during thetransform in `preprocessing_exc_tuple` in IPython 7.17 and above.\n",
      "\n"
     ]
    }
   ],
   "source": [
    "nlp = spacy.load('en_core_web_sm', disable=['parser', 'ner'])\n",
    "\n",
    "def lemmatization(texts, tags=['NOUN', 'ADJ']): # filter noun and adjective\n",
    "       output = []\n",
    "       for sent in texts:\n",
    "             doc = nlp(\" \".join(sent)) \n",
    "             output.append([token.lemma_ for token in doc if token.pos_ in tags])\n",
    "       return output"
   ]
  },
  {
   "cell_type": "code",
   "execution_count": 148,
   "id": "e39d9dfb",
   "metadata": {},
   "outputs": [
    {
     "name": "stdout",
     "output_type": "stream",
     "text": [
      "['even', 'parent', 'gritty', 'custody', 'battle', 'throughout', 'high', 'school', 'edmond', 'north', 'able', 'push', 'graduation', 'many', 'mentionable', 'teacher', 'devout', 'principal', 'attitude', 'personality', 'may', 'always', 'match', 'angry', 'teenager', 'high', 'school', 'authority', 'hold', 'brian', 'excellente', 'mack', 'mitchell', 'rachel', 'gonzales', 'stark', 'move', 'high', 'regard', 'make', 'sure', 'succeed', 'study', 'stay', 'track', 'balto', 'week', 'always', 'beyond', 'memorable', 'strong', 'stand', 'memory', 'much', 'institution', 'could', 'come', 'together', 'charity', 'unite', 'one']\n"
     ]
    },
    {
     "name": "stderr",
     "output_type": "stream",
     "text": [
      "C:\\Users\\pinba\\anaconda3\\lib\\site-packages\\ipykernel\\ipkernel.py:287: DeprecationWarning:\n",
      "\n",
      "`should_run_async` will not call `transform_cell` automatically in the future. Please pass the result to `transformed_cell` argument and any exception that happen during thetransform in `preprocessing_exc_tuple` in IPython 7.17 and above.\n",
      "\n"
     ]
    }
   ],
   "source": [
    "tokenized_reviews = pd.Series(reviews).apply(lambda x: x.split())\n",
    "print(tokenized_reviews[1])"
   ]
  },
  {
   "cell_type": "code",
   "execution_count": 149,
   "id": "41c71594",
   "metadata": {},
   "outputs": [
    {
     "name": "stderr",
     "output_type": "stream",
     "text": [
      "C:\\Users\\pinba\\anaconda3\\lib\\site-packages\\ipykernel\\ipkernel.py:287: DeprecationWarning:\n",
      "\n",
      "`should_run_async` will not call `transform_cell` automatically in the future. Please pass the result to `transformed_cell` argument and any exception that happen during thetransform in `preprocessing_exc_tuple` in IPython 7.17 and above.\n",
      "\n"
     ]
    },
    {
     "name": "stdout",
     "output_type": "stream",
     "text": [
      "[['time', 'way', 'covid', 'teacher', 'nervous', 'counselor', 'long', 'answer', 'simple', 'question'], ['parent', 'gritty', 'custody', 'battle', 'high', 'school', 'edmond', 'north', 'able', 'graduation', 'many', 'mentionable', 'teacher', 'principal', 'attitude', 'personality', 'angry', 'high', 'school', 'authority', 'high', 'regard', 'sure', 'succeed', 'study', 'track', 'balto', 'week', 'memorable', 'strong', 'stand', 'memory', 'much', 'institution', 'charity'], ['school', 'full', 'diverse', 'crowd', 'people', 'club', 'activity', 'willing', 'time', 'jrotc', 'ffa', 'robotic', 'fun', 'half', 'year', 'full', 'meetng', 'new', 'people', 'friendly', 'teacher', 'willing', 'work', 'student', 'sure', 'class'], ['north', 'high', 'school', 'serious', 'issue', 'student', 'safe', 'drug', 'alcohol', 'seat', 'culture', 'freshman', 'senior', 'die', 'car', 'accident', 'due', 'substance', 'abuse', 'serious', 'problem', 'rich', 'student', 'parent', 'fund', 'school', 'say'], ['north', 'high', 'school', 'torrance', 'decent', 'school', 'teacher', 'inspire', 'staff', 'nice'], ['great', 'school', 'diverse', 'problem', 'school'], ['school', 'college', 'college'], ['overall', 'quality', 'school', 'nice', 'welcome', 'nerve', 'bunch', 'kid', 'class', 'teaching', 'style', 'visual', 'example', 'example'], ['lot', 'diverse', 'club', 'group', 'great', 'time', 'activity', 'effort', 'attention'], ['many', 'club'], ['teacher', 'help', 'student', 'worksheet', 'day', 'straight', 'power', 'point'], ['band', 'aid', 'pain', 'medication', 'call', 'mom'], ['many', 'club', 'qsa', 'school', 'positive', 'environment', 'many', 'sexual', 'minority', 'friend', 'place', 'home', 'public', 'vacinity', 'school', 'open', 'thing', 'many', 'student', 'support', 'safe', 'secure', 'change', 'poster', 'club', 'club', 'school', 'school', 'ground', 'club', 'float', 'school', 'parade', 'donation', 'club', 'assembly', 'contribution', 'donation', 'dollar', 'dollar', 'latin', 'club', 'introduction', 'student', 'body', 'people'], ['high', 'school', 'experience', 'awkward', 'kid', 'poor', 'district', 'kid', 'friend', 'many', 'people', 'smart', 'student', 'thing', 'hand', 'common', 'place', 'kid', 'class', 'story', 'demeanor', 'talk', 'classroom', 'group', 'class', 'mate', 'recreational', 'sex', 'night', 'everyday', 'thing', 'school', 'fight', 'love', 'year', 'vicious', 'case', 'senioritus', 'graduate', 'live', 'life', 'high', 'school', 'ready', 'life'], ['school', 'nurse', 'honest', 'cop', 'time', 'drug', 'search', 'tip', 'specific', 'student', 'search', 'car'], ['pressure', 'parent', 'administration', 'teacher', 'school', 'good', 'thing', 'force', 'administrator', 'child', 'student', 'number', 'cause', 'damage', 'teacher', 'alternative', 'way', 'thinking', 'student', 'hint', 'parent', 'wrong', 'lot', 'complaint', 'parent', 'fore', 'careful', 'impact', 'care', 'parent', 'problem', 'vicious', 'cycle'], ['teacher', 'teacher', 'student', 'hand', 'worksheet', 'help', 'half'], ['teacher', 'good', 'job', 'teacher', 'easy', 'student', 'engage', 'class', 'intimidate', 'arrogance', 'problem', 'new', 'teacher', 'college', 'authority', 'overall', 'teacher', 'easy', 'enjoyable', 'math', 'teacher', 'visual', 'learner', 'teacher', 'good', 'job'], ['nurse', 'day', 'consistent'], ['competitive', 'school', 'grade'], ['school', 'great', 'education', 'opportunity', 'competitive', 'top', 'cliquey', 'snobby', 'lot', 'opportunity', 'diverse'], ['school', 'system', 'kid', 'thrill', 'education', 'system', 'general', 'expensive'], ['know', 'child', 'rate', 'school', 'activity', 'club', 'good', 'blue', 'average'], ['average', 'teacher', 'student', 'second', 'need', 'poor', 'salary', 'state', 'school', 'employee'], ['rule', 'student', 'hand', 'book', 'problem', 'good'], ['extracurricular', 'school', 'worth', 'language', 'club', 'lot', 'fun', 'thing', 'language', 'club', 'key', 'club', 'club', 'yoga', 'club', 'anime', 'club', 'robotic', 'club', 'club', 'interesting', 'french', 'club', 'freshman', 'year', 'much', 'ice', 'skating', 'ice', 'cream'], ['high', 'school', 'sophomorejan', 'club', 'activity'], ['week', 'pretty', 'fun', 'assembly', 'school', 'boring', 'stuco', 'student', 'phone', 'stay', 'oreo', 'ball', 'balto', 'week', 'amaazing', 'school', 'parent', 'attention', 'kid', 'care', 'lot', 'people', 'school', 'opinion', 'preppy', 'rich', 'kid', 'stay', 'group', 'group', 'incident', 'people', 'racial', 'remark', 'insult'], ['high', 'school', 'sophomorejan', 'overall', 'experience'], ['athletic', 'foreign', 'language'], ['lot', 'club', 'organization', 'school', 'sponsor', 'teacher', 'club', 'husky', 'equality', 'lot', 'participation', 'due', 'level', 'involvement', 'community', 'club', 'fun', 'club', 'school', 'deca', 'business', 'compete', 'competition'], ['teacher', 'student', 'class', 'grade'], ['stuco', 'lead', 'activity', 'cater', 'desire', 'popular', 'kid', 'kid', 'unpopular', 'shallow', 'school', 'activity', 'minimal', 'group', 'student', 'apparent', 'discipline', 'student', 'several', 'student', 'teacher', 'principal', 'pet', 'thing', 'dress', 'code', 'case', 'high', 'quality', 'education', 'thankful', 'safe', 'school', 'terrible', 'experience', 'teacher', 'student'], ['parent', 'good'], ['teacher', 'interested', 'student', 'interested', 'teacher'], ['sport', 'language', 'club'], ['color', 'guard', 'program', 'art', 'program', 'phenomenal', 'sport', 'art', 'dump', 'school'], ['student', 'struggle', 'student', 'fall', 'crack'], ['education', 'good', 'school', 'unwelcoming'], ['lot', 'gossip', 'hard', 'friend', 'thing'], ['high', 'school', 'characterize', 'student', 'body', 'diverse', 'high', 'school', 'experience', 'day', 'interact', 'sort', 'people', 'athlete', 'chess', 'club', 'member', 'student', 'government', 'member', 'equal', 'right', 'activist', 'many', 'student', 'school', 'meet', 'face', 'possible', 'single', 'person', 'different', 'people', 'different', 'club', 'belief', 'style', 'economic', 'class', 'social', 'status', 'career', 'edmond', 'north'], ['edmond', 'much', 'school', 'spirit', 'school', 'good', 'pride', 'ambitiousness', 'put', 'lot', 'pressure', 'student', 'freshman', 'week', 'atmosphere', 'oppressive', 'teacher', 'agree', 'method'], ['high', 'school', 'overall', 'experience'], ['food', 'variety', 'good', 'good', 'bit', 'acceptable'], ['good', 'consistent', 'punishment', 'student', 'favorite', 'strict', 'policy', 'concern', 'attendance', 'school', 'rule'], ['deca', 'time', 'host', 'several', 'activity', 'fundraiser', 'plan', 'execute', 'relate', 'interest', 'business', 'world', 'school', 'year', 'time', 'exercise', 'gym', 'club', 'school', 'time', 'organization', 'school'], ['strict', 'dress', 'code', 'principal', 'super', 'chill'], ['school', 'spirit', 'bad', 'year', 'fundraising', 'week', 'intense'], ['senior', 'love', 'lunch', 'year', 'high', 'school', 'lunch', 'food', 'awful', 'bad', 'new', 'healthy', 'food', 'program', 'lot', 'option', 'food', 'taste', 'bad'], ['high', 'school', 'clic', 'care', 'lot', 'diversity', 'sexual', 'orientation'], ['principle', 'school', 'care', 'lot', 'student', 'enforce', 'rule', 'safe', 'dress', 'code', 'principle'], ['office', 'staff', 'school', 'first', 'staff', 'meet', 'people'], ['great', 'safety', 'police', 'campus', 'good', 'program', 'nurse', 'office', 'locate', 'school', 'town'], ['meal', 'option', 'enough', 'nutrition'], ['administration', 'good', 'many', 'student', 'healthy', 'safe', 'environment', 'help', 'right'], ['good', 'variety', 'course', 'extensive', 'offering', 'student', 'encourage', 'good', 'study', 'skill', 'critical', 'thinking'], ['facility', 'modern', 'clean', 'adequate', 'waste', 'good', 'bit', 'money', 'technology', 'helpful', 'learning', 'environment'], ['emphasis', 'sport', 'rampant', 'much', 'attention'], ['different', 'community', 'school', 'club'], ['academic', 'set', 'bar', 'state', 'great', 'gifted', 'student', 'school', 'north', 'breeze'], ['variety', 'sport', 'student', 'competitive', 'many', 'coach', 'subpar'], ['teacher', 'great', 'great', 'overall', 'decent', 'passion'], ['counselor', 'helpful', 'many', 'rule', 'enforce', 'rule', 'silly', 'first', 'place'], ['principal', 'job'], ['teacher', 'different', 'way', 'class', 'engage'], ['prepared', 'college', 'focus', 'end', 'instruction', 'stuff'], ['lunch', 'eat', 'lunch', 'school'], ['principal', 'corporate', 'ceo', 'student'], ['teacher', 'work', 'lot'], ['big', 'problem', 'dress', 'code', 'force', 'girl', 'aloud', 'show', 'shoulder', 'part', 'thigh', 'shoulder', 'classmate', 'aloud', 'wear', 'niki', 'ridiculous', 'uniform', 'acceptable', 'school', 'dress', 'code', 'student', 'popular', 'sport'], ['teacher', 'top', 'line', 'student', 'problem', 'teacher', 'student', 'student', 'scared', 'approach', 'principal', 'inform', 'principal', 'remarkable'], ['variety', 'food', 'food', 'lunch', 'cafeteria', 'portion', 'small', 'lunch', 'time', 'late', 'athlete', 'lot', 'calorie', 'awake', 'class', 'small', 'snack', 'late', 'day'], ['school', 'cafeteria', 'lunch', 'home', 'upcoming', 'year', 'senior', 'campus', 'lunch'], ['home', 'many', 'sound', 'family', 'certain', 'country', 'club', 'certain', 'brand', 'group', 'small', 'core', 'group', 'friend'], ['wide', 'range', 'class', 'offer', 'school', 'teacher', 'small', 'classroom', 'workload', 'easy', 'edmond', 'north', 'easy', 'teacher', 'student', 'main', 'complain', 'teacher', 'school', 'student', 'pass', 'class', 'subject', 'semester', 'year'], ['wide', 'range', 'choice', 'student', 'extracurricular', 'activity', 'many', 'activity', 'underdeveloped', 'poor', 'quality'], ['food', 'week', 'cycle'], ['lot', 'coach', 'subject', 'clue', 'real', 'teacher'], ['administration', 'lot', 'drama', 'department', 'project'], ['counselor', 'north', 'meet', 'request'], ['case', 'student', 'north'], ['difficult', 'place', 'big', 'kid', 'move', 'friend', 'many', 'clique'], ['whole', 'problem', 'cafeteria', 'fact', 'plan', 'student', 'school', 'run', 'food', 'day', 'long', 'student', 'move', 'line', 'travesty'], ['year', 'teacher', 'annoyed', 'idea', 'class', 'much'], ['attendance', 'secretary', 'unhelpful', 'terrific'], ['dress', 'code', 'enforce', 'attendance', 'policy', 'ridiculous', 'common', 'sense'], ['curriculum', 'real', 'world', 'application', 'show', 'world', 'work'], ['school', 'community', 'edmond', 'know', 'diversity', 'family', 'wealthy', 'overwhelming', 'majority', 'citizen', 'protestant', 'school', 'diverse', 'school', 'population', 'school', 'diversity', 'racial', 'ethnic', 'diversity', 'student', 'body', 'race', 'economic', 'status', 'religion', 'politic', 'sexual', 'orientation', 'school', 'judgmental', 'diversity', 'area', 'tolerant'], ['high', 'school', 'many', 'student', 'school', 'lunch', 'different', 'period', 'period', 'floor', 'table', 'cafeteria', 'clean'], ['food', 'good', 'bad', 'many', 'option', 'wide', 'variety', 'snack', 'food'], ['school', 'healthy', 'option', 'salad', 'vegetable', 'fruit', 'pizza', 'hut', 'sandwich', 'chickfila', 'month'], ['many', 'club', 'athlete', 'time', 'night', 'church', 'wednesday', 'spanish', 'club', 'spanish', 'administrative', 'support', 'teacher', 'support', 'teacher', 'care', 'student', 'work', 'church', 'family', 'commitment', 'school', 'club'], ['school', 'food', 'picky', 'senior', 'leave', 'campus'], ['typical', 'social', 'group', 'school', 'athlete', 'sport', 'easy', 'group', 'athletic', 'woman', 'choir', 'year', 'high', 'school', 'friend', 'difficult', 'friendship', 'schedule', 'interest', 'change', 'friend', 'value', 'change'], ['kid', 'live', 'edmond', 'group', 'much', 'diversity', 'middle', 'upper', 'class'], ['food', 'school', 'good', 'school', 'part', 'unappetizing', 'wish', 'wide', 'range', 'good', 'food'], ['lunch', 'school'], ['thing', 'student', 'time', 'time', 'extracurricular', 'activity', 'work'], ['safety', 'important', 'school', 'fake', 'student', 'staff', 'day', 'tight', 'security', 'drug', 'test', 'locker', 'school'], ['lot', 'diverse', 'student', 'respect', 'individual', 'interest', 'different', 'culture', 'ethnicity'], ['facility', 'clean', 'date', 'student', 'help'], ['food', 'rice', 'krispie', 'fruit', 'snack', 'day'], ['lot', 'problem', 'regard', 'acceptance', 'new', 'principal', 'school', 'spirit', 'quality', 'kindness'], ['many', 'opportunity', 'clique'], ['major', 'problem', 'north', 'due', 'poor', 'selection', 'head', 'staffing', 'position', 'population', 'large', 'principal', 'counselor', 'north', 'many', 'opportunity', 'multiple', 'class', 'spectacular', 'educator'], ['school', 'modern', 'computer', 'classroom', 'smart', 'board', 'parent', 'involvement', 'good', 'state', 'administrator', 'counselor', 'problem'], ['majority', 'school', 'routine', 'gay', 'norm', 'different', 'talk', 'thing', 'high', 'school', 'social', 'status', 'people', 'top', 'stop', 'sad', 'high', 'school', 'competition', 'race', 'much', 'factor', 'religion', 'sexual', 'orientation'], ['special', 'sushi', 'people', 'lot', 'different', 'option', 'day', 'school', 'food'], ['main', 'focus', 'football', 'sport', 'volleyball', 'attention', 'great', 'football', 'coach', 'program', 'amazing', 'student'], ['food', 'good', 'grant', 'make', 'day', 'pizza', 'sushi', 'multiple', 'option', 'case', 'day'], ['many', 'program', 'opportunity', 'key', 'club', 'teen', 'club', 'wide', 'array', 'youth', 'government', 'popular', 'many', 'student', 'sport', 'music', 'orchestra', 'power', 'sport', 'state', 'competition', 'leadership', 'many', 'outlet'], ['majority', 'teacher', 'friendly', 'genuine', 'educator', 'willing', 'work', 'student', 'order', 'help', 'course', 'group', 'teacher', 'preach', 'rehearse', 'syllabus', 'student', 'retainment'], ['sport', 'football', 'basketball', 'much', 'class', 'clique'], ['school', 'good', 'dress', 'code', 'controversial', 'subject', 'school', 'bully', 'administration', 'helpful', 'class', 'student', 'overall', 'school', 'good'], ['athletic', 'facility', 'average', 'weight', 'room', 'gym', 'football', 'fieldhouse', 'available', 'football', 'player', 'addition', 'nice', 'baseball', 'field', 'football', 'field', 'track', 'physical', 'education', 'class', 'available', 'school', 'day', 'many', 'sport', 'team', 'student', 'supportive', 'varsity', 'team', 'school', 'spirit', 'freshman', 'junior', 'varsity', 'game'], ['principal', 'amazing', 'good', 'know', 'student', 'cool', 'fun', 'talk', 'nice', 'school', 'well', 'place', 'much', 'listening', 'change', 'dress', 'code', 'understandable', 'bullying', 'problem', 'teacher', 'aide', 'student'], ['counselor', 'helpful', 'hard', 'make', 'appointment', 'help', 'scholarship', 'bit', 'challenge', 'find', 'time', 'open', 'book', 'resource'], ['great', 'experience', 'school', 'racist', 'teacher', 'faculty', 'counselor', 'terrible', 'help', 'college', 'stuff', 'education', 'care', 'football', 'bomb', 'threat', 'threat', 'senior', 'year', 'student', 'terrible', 'diversity', 'school', 'teacher', 'sell', 'drug', 'money', 'school'], ['parent', 'lot', 'pressure', 'child', 'good', 'grade', 'stressful'], ['kind', 'private', 'school', 'teacher', 'uptight', 'little', 'thing', 'attendance', 'people', 'helpful', 'good', 'help'], ['school', 'gross', 'gross', 'school', 'fact', 'school', 'life', 'lunch', 'senior', 'lunch'], ['administration', 'authoritarian', 'puppet', 'conservative', 'religious', 'crowd', 'booster', 'student', 'harassment', 'suppress', 'student', 'organization'], ['school', 'great', 'sport', 'enthusiast', 'kid', 'test', 'real', 'education', 'different', 'way', 'administration', 'unconcerned', 'diversity', 'power', 'intolerant', 'religious', 'bigot', 'moneyed', 'booster', 'class', 'school', 'harass', 'student', 'fit', 'mold', 'academic', 'average', 'administration', 'authoritarian', 'hostile', 'method', 'practice', 'object', 'question', 'experience', 'kid', 'due', 'social', 'aspect', 'terrible', 'experience'], ['food', 'option', 'low', 'cost', 'process', 'junk', 'healthy', 'food'], ['administration', 'student', 'unacceptable', 'lip', 'service', 'substance', 'fact', 'child', 'harass', 'administration'], ['person', 'trouble'], ['home', 'open', 'lunch', 'eat'], ['school', 'real', 'life', 'college', 'couple', 'amazing', 'teacher'], ['camera', 'show', 'school', 'officer', 'rude', 'student', 'girl', 'student'], ['many', 'student', 'lunch', 'food', 'taste', 'bad', 'caf', 'low', 'quality', 'food', 'healthy'], ['lunch', 'cafeteria', 'top', 'notch', 'review', 'classmate', 'smell', 'appetizing', 'day'], ['much', 'health', 'safety', 'school'], ['high', 'school', 'student', 'involvement', 'school', 'diverse', 'time', 'possibility', 'school', 'free', 'time', 'student', 'branch', 'program', 'different', 'group'], ['bearable', 'first', 'choice', 'food'], ['teacher', 'good', 'way', 'help'], ['complete', 'favoritism', 'wardrobe', 'many', 'girl', 'short', 'short', 'tall', 'girl', 'normal', 'length', 'short', 'detention'], ['peer', 'pressure', 'many', 'school', 'prevalent', 'school', 'wealthy', 'area', 'peer', 'pressure', 'nice', 'thing', 'nice', 'car', 'many', 'kid', 'skeptical', 'group', 'associate', 'people', 'high', 'enough', 'social', 'status', 'many', 'student', 'school', 'nice', 'friendly', 'student', 'school', 'many', 'friend'], ['general', 'honor', 'class', 'general', 'course', 'workload', 'full', 'worksheet', 'quiz', 'class', 'thorough', 'extensive', 'note', 'teacher', 'unable', 'control', 'class', 'much', 'curriculum', 'option', 'student', 'extra', 'help', 'many', 'teacher', 'student', 'number', 'name'], ['food', 'quality', 'appease', 'eye', 'nutritious', 'choice', 'account', 'student', 'dietary', 'restriction', 'wise', 'decision', 'lunch'], ['rare', 'teacher', 'student', 'many', 'current', 'teacher', 'student', 'number', 'real', 'people', 'represent', 'mischievous', 'teen', 'many', 'student', 'class', 'pay', 'attention', 'many', 'kid'], ['school', 'big', 'mean', 'small', 'town', 'school', 'big', 'many', 'kid', 'teacher', 'administrator', 'track', 'school'], ['north', 'great', 'school', 'teacher', 'great', 'cafeteria', 'food', 'school', 'many', 'sport', 'extra', 'curricular', 'niche', 'offer', 'ton', 'advanced', 'course', 'challenge'], ['good', 'education', 'good', 'people', 'book', 'worm', 'event', 'little', 'bit', 'much', 'attention', 'sport', 'accurate', 'school'], ['school', 'many', 'opportunity', 'different', 'program', 'advance', 'learning', 'schedule', 'class'], ['quality', 'class', 'teacher', 'impeccable', 'social', 'atmosphere', 'difficult', 'navigate'], ['high', 'school', 'whole', 'favorite', 'experience', 'place', 'miserable', 'north', 'teacher', 'excellent', 'offer', 'course', 'many', 'school', 'education', 'oklahoma', 'free', 'nice'], ['wide', 'variety', 'class', 'school', 'spirit', 'non', 'existent', 'full', 'white', 'privilege'], ['great', 'school', 'teacher', 'awesome', 'easy', 'work', 'principal', 'counselor', 'flexible', 'sport', 'band', 'club', 'thing', 'north', 'second', 'home', 'school', 'time', 'thing', 'overwhelming', 'communication', 'issue', 'district', 'school', 'thing', 'straighten', 'upgrade', 'school', 'active', 'aware', 'faculty', 'staff', 'north', 'great', 'place', 'people', 'heart'], ['great', 'couple', 'thing', 'lot', 'school', 'ton', 'friend', 'edmond', 'friend', 'group', 'memorial', 'highschool', 'big', 'thing', 'change', 'staff', 'north', 'girlfriend', 'time', 'teacher', 'memorial', 'teacher', 'worthy'], ['many', 'school', 'claim', 'wonderful', 'teaching', 'staff', 'edmond', 'north', 'preach', 'midst', 'educational', 'crisis', 'selfless', 'act', 'entry', 'level', 'salary', 'high', 'state', 'many', 'teacher', 'believe', 'teacher', 'teacher', 'education', 'sector', 'high', 'salary', 'quality', 'life', 'next', 'generation', 'student', 'welfare', 'society', 'state', 'legislature', 'school', 'term', 'funding', 'teacher', 'money', 'paycheck', 'supply', 'student', 'impeccable', 'character', 'model', 'aspire'], ['school', 'wish', 'office', 'staff', 'student', 'lot', 'opportunity', 'school'], ['north', 'teacher', 'part', 'care', 'focus', 'environment', 'friendly', 'class', 'size', 'overcrowded'], ['diverse', 'school', 'teacher', 'hard', 'time', 'people', 'nice'], ['diversity', 'walled', 'group'], ['opportunity', 'great', 'north', 'possible', 'year'], ['large', 'school', 'variable', 'teacher', 'outstanding', 'chance', 'coach'], ['teacher', 'good'], ['musical', 'theater', 'football', 'game', 'favorite', 'activity'], ['good', 'friend', 'lot'], ['extracurricular', 'school', 'fun', 'exciting', 'lot', 'club', 'organization', 'drama', 'debate', 'band'], ['good', 'bad', 'amazing', 'experience', 'amazing', 'people', 'crazy', 'experience', 'shape', 'person', 'today'], ['teacher', 'year', 'amazing', 'kind', 'helpful'], ['parent', 'kid', 'parent', 'board'], ['lot', 'enthusiasm', 'lot', 'fine', 'art', 'teacher', 'student', 'parent', 'administration', 'lack', 'funding', 'lot', 'thing', 'funding', 'sport', 'student', 'fail', 'area', 'shortage', 'test', 'many', 'online', 'student', 'phone', 'easy', 'student', 'browser', 'answer', 'screenshot', 'send', 'student', 'feel', 'funding'], ['bad', 'teacher', 'large', 'majority', 'teacher', 'counselor', 'good', 'education'], ['school', 'sponsor', 'team', 'sport', 'large', 'number', 'club', 'group', 'available'], ['teacher', 'amazing', 'talented', 'help', 'student', 'lot', 'easy', 'way', 'student'], ['safe', 'school', 'student', 'staff', 'great', 'police', 'building'], ['wide', 'variety', 'club', 'organization', 'available', 'school'], ['calculus', 'base', 'physics', 'calculus', 'economic', 'chemistry', 'class', 'teacher', 'teach', 'student'], ['school', 'excellence', 'academic', 'important', 'main', 'focus', 'school', 'great', 'teacher', 'minute', 'talk', 'teacher', 'catch', 'work', 'negative', 'thing', 'school', 'diverse', 'course', 'diversity', 'caucasian', 'overall', 'great', 'school', 'support', 'decision', 'eager', 'help', 'way'], ['high', 'school', 'sophomorefeb', 'overall', 'experience'], ['kind', 'club', 'gsa', 'hockey', 'club'], ['high', 'school', 'sophomorefeb', 'club', 'activity'], ['high', 'school', 'sophomorefeb', 'overall', 'experience'], ['child', 'school', 'different', 'type', 'style', 'capability', 'case', 'teacher', 'make', 'sure', 'kid'], ['health', 'program', 'support', 'teen'], ['clean', 'school'], ['fun', 'teacher'], ['good', 'student'], ['workload', 'big', 'teacher', 'supportive', 'class'], ['illness', 'violence', 'strong', 'indicator'], ['lot', 'teacher', 'good', 'teacher', 'favorite', 'call', 'bad', 'attitude', 'good', 'amount', 'great', 'education', 'great', 'answer', 'question', 'side', 'school', 'late', 'school', 'willing', 'early', 'tutor', 'care', 'variety', 'teaching', 'style', 'grade'], ['armed', 'school', 'resource', 'officer', 'school', 'safety', 'drill', 'school', 'year', 'case', 'emergency'], ['school', 'great', 'learning', 'environment', 'administrator', 'teacher'], ['willing', 'wrong', 'friendly', 'want', 'student'], ['school', 'friend', 'teacher', 'fair', 'grade', 'leadership', 'fair'], ['north', 'great', 'school', 'bit'], ['school', 'good', 'decent', 'amount', 'school', 'spirit', 'judgemental', 'exclusive', 'group', 'thing'], ['overall', 'great', 'positive', 'aspect', 'negative', 'thing', 'much', 'school', 'spirit', 'football', 'team', 'friend', 'fundraiser', 'year', 'call', 'week', 'school', 'much', 'money', 'possible', 'charity', 'amazing', 'whole', 'school', 'awareness', 'charity', 'entire', 'school', 'activity', 'benefit', 'northern', 'exposure', 'talent', 'show', 'incredible', 'many', 'student', 'single', 'assembly', 'much', 'money', 'spend', 'great', 'thing', 'teacher', 'helpful', 'kind', 'much', 'respective', 'subject', 'person'], ['high', 'school', 'sophomoreoct', 'overall', 'experience'], ['principal', 'interest', 'child', 'amazing', 'student', 'body', 'large', 'education', 'safety', 'student', 'senior', 'graduate', 'year', 'thankful', 'plan', 'college'], ['school', 'amazing', 'facility', 'huge', 'minority', 'pakistani', 'male', 'student', 'much', 'discrimination', 'unease'], ['school', 'kid', 'parent', 'money', 'judge'], ['school', 'experience', 'pleasant', 'many', 'course', 'interest', 'help', 'college', 'school', 'student', 'nice', 'problem', 'peer'], ['teacher', 'school', 'great', 'time', 'genuine', 'teaching', 'engage', 'job', 'student', 'difficulty', 'face', 'relate', 'course', 'teacher', 'school', 'experience', 'stable', 'new', 'teacher'], ['wide', 'variety', 'club', 'sport', 'volunteer', 'opportunity', 'available', 'student'], ['course', 'plenty', 'class', 'challenging', 'school', 'area', 'class', 'phenomenal'], ['love', 'school', 'safe', 'teacher', 'great', 'thing', 'school', 'cafeteria', 'food', 'awful', 'office', 'staff', 'rude', 'less', 'help', 'office', 'staff', 'rude', 'parent', 'rude', 'call'], ['many', 'sport', 'club', 'available', 'student', 'club', 'enough', 'student', 'program', 'many', 'diverse', 'club', 'fun'], ['school', 'rule', 'policy', 'counselor', 'policy', 'support'], ['teacher', 'student', 'school', 'use', 'variety', 'method', 'engage', 'student'], ['school'], ['school', 'sport', 'huge', 'student', 'section', 'support', 'team', 'great', 'shape', 'new', 'facility', 'coach', 'amazing', 'sport', 'family'], ['teacher', 'year', 'great', 'help', 'student', 'good', 'lesson', 'sit', 'student', 'good', 'ability', 'sure', 'way'], ['many', 'extracurricular', 'activity', 'school', 'type', 'student', 'many', 'extracurricular', 'love'], ['kid', 'teacher', 'good', 'many', 'good', 'experienced', 'teacher', 'overall', 'teacher', 'least', 'school', 'problem'], ['north', 'high', 'school', 'offer', 'student', 'large', 'amount', 'extracurricular', 'activity', 'sport', 'tennis', 'soccer', 'football', 'cheerleading', 'swimming', 'club', 'basketball', 'volleyball', 'many', 'different', 'language', 'club', 'spanish', 'club', 'french', 'club', 'club', 'chine', 'club', 'club', 'teen', 'leadership', 'amazing', 'experience', 'lot', 'great', 'school', 'keep', 'school', 'good', 'social', 'life', 'high', 'school'], ['way', 'security', 'safe'], ['teacher', 'north', 'fantastic', 'approachable', 'extra', 'help', 'much', 'distraction'], ['computer', 'lab', 'available', 'student', 'ipad'], ['many', 'class', 'student', 'fulfil', 'credit', 'healthy', 'many', 'sport', 'student', 'top', 'health', 'physical', 'fitness'], ['wonderful', 'extracurricular', 'activity', 'kid', 'school', 'club', 'interest', 'sound'], ['athletic', 'school', 'main', 'focus', 'school', 'support', 'love', 'team'], ['renovate', 'building', 'lot', 'technology', 'large', 'library'], ['real', 'security', 'issue', 'high', 'school', 'school', 'protect', 'dangerous', 'person', 'school', 'student', 'misbehave', 'protection', 'case', 'visitor', 'student', 'extra', 'security', 'measure'], ['teacher', 'style', 'great', 'keep', 'bored', 'particular', 'class', 'teacher', 'email', 'communicate', 'student', 'parent'], ['multiple', 'type', 'club', 'available', 'school', 'key', 'club', 'national', 'honor', 'society', 'club', 'administrative', 'support'], ['teacher', 'fair', 'amount', 'homework', 'practice', 'perfect', 'homework', 'important', 'way', 'help'], ['school', 'anti', 'tolerance', 'situation', 'principal', 'issue'], ['safe', 'school', 'police', 'officer', 'well', 'drug', 'dog', 'drug', 'multiple', 'intruder', 'drill', 'well', 'weather', 'drill', 'situation'], ['thing', 'high', 'school', 'parent', 'staff', 'parent', 'great', 'facility', 'update'], ['edmond', 'north', 'state', 'title', 'athletic', 'multiple', 'academic', 'state', 'championship', 'community', 'lot', 'snobby', 'people', 'current', 'high', 'school', 'rounded', 'person', 'many', 'different', 'situation'], ['school', 'fence', 'surround', 'premice', 'make', 'safe', 'visitor', 'require', 'enter', 'office', 'require', 'sign'], ['administration', 'edmond', 'north', 'good', 'student', 'parent', 'area', 'example', 'talk', 'dress', 'code', 'student', 'edmond', 'north', 'know', 'approach', 'teacher', 'edmond', 'north', 'phone', 'policy', 'positive', 'believe', 'school', 'policy', 'student', 'phone', 'lecture', 'class', 'time', 'general', 'teacher', 'policy', 'classroom', 'last', 'prominent', 'area', 'reguard', 'counselor', 'student', 'plan', 'state', 'college', 'helpful', 'student', 'minimal', 'help'], ['people', 'friend', 'sense', 'connection'], ['big', 'part', 'school', 'school', 'spirit', 'amazing', 'intense'], ['place', 'entire', 'state', 'diverse', 'kid', 'new', 'cultural', 'experience'], ['lunch', 'friend', 'food'], ['class', 'easy', 'regular', 'chemistry', 'pre', 'calc', 'trig', 'class'], ['lot', 'thing', 'stress'], ['overall', 'safe', 'school', 'drive', 'campus', 'proper', 'pass', 'show', 'security', 'guard', 'school', 'nurse'], ['huge', 'fan', 'support', 'huge', 'amount', 'parental', 'involvement', 'sport', 'many', 'team', 'fundraiser', 'money', 'equipment'], ['school', 'huge', 'big', 'enough', 'parking', 'space', 'lunchroom', 'food', 'everyday', 'half', 'school'], ['class', 'schedule', 'rigorous', 'think', 'class', 'test', 'teacher', 'good', 'exception'], ['food', 'notch', 'cafeteria', 'staff', 'friendly', 'quality', 'food', 'kind', 'food', 'prepare'], ['executive', 'staff', 'school', 'act', 'close', 'team', 'acceptance', 'school', 'different', 'race', 'group', 'friend', 'wit', 'bullying', 'issue'], ['sport', 'north', 'athletic', 'play', 'sport', 'team', 'coach', 'teamwork'], ['school', 'access', 'good', 'teacher', 'care', 'student', 'teacher', 'edmond', 'north', 'care', 'student', 'step', 'help', 'student', 'north', 'staff', 'family', 'lead', 'community', 'student', 'good', 'experience', 'edmond', 'north', 'many', 'different', 'class', 'different', 'interest'], ['good', 'high', 'school'], ['security', 'many', 'instance'], ['band', 'choir', 'medicine', 'people'], ['school', 'fantastic', 'mission', 'school', 'relentless', 'pursuit', 'excellence', 'student', 'good', 'give', 'frustrating', 'teacher', 'slack', 'apathetic', 'attitude'], ['bountiful', 'opportunity', 'school', 'many', 'club', 'new', 'senior', 'student', 'perfect', 'outlet'], ['much', 'nurse', 'nice', 'helpful', 'treat', 'problem'], ['staff', 'helpful', 'right', 'choice', 'discipline'], ['regret', 'friend', 'teammate', 'teacher', 'part', 'generous', 'school', 'demonstrate', 'week', 'fun', 'competitive'], ['good', 'test', 'score', 'state'], ['many', 'extracurricular', 'single', 'student', 'interest', 'part', 'good', 'way'], ['clique', 'huge', 'part', 'school', 'peer', 'pressure', 'strong', 'apparent', 'racial', 'tension'], ['school', 'country', 'club', 'school', 'lot', 'money', 'public', 'school', 'group', 'school'], ['administration', 'teacher'], ['school', 'many', 'option', 'club', 'sport', 'sport', 'competitive', 'school', 'fun', 'great', 'way', 'people'], ['happy', 'class', 'offer', 'schedule', 'year', 'little', 'satisfied', 'teacher', 'government', 'teacher', 'year', 'counselor', 'work', 'great', 'senior', 'year', 'schedule', 'lot', 'help', 'concurrent', 'high', 'school', 'schedule', 'mesh'], ['issue', 'dress', 'code', 'attendance', 'bully', 'degree', 'administrative', 'intervention', 'lot', 'help', 'counselor', 'concurrent', 'class', 'local', 'college', 'help', 'senior', 'year', 'schedule'], ['lot', 'spirit', 'game', 'opportunity', 'attend', 'game', 'work', 'hour', 'week', 'help', 'gas', 'festivity', 'assembly', 'place', 'school', 'hour'], ['overall', 'high', 'school', 'experience', 'lot', 'school', 'many', 'class', 'class', 'subject', 'interested', 'wish', 'opportunity', 'different', 'teacher', 'time', 'job', 'show', 'classroom', 'teacher', 'day', 'friendship', 'quarrel', 'lot', 'last', 'year', 'start', 'college', 'journey'], ['general', 'faculty', 'ensure'], ['teacher', 'education', 'way', 'class'], ['school', 'many', 'opportunity', 'faculty', 'fantastic', 'job', 'student', 'safe', 'encouraged', 'great', 'place', 'peer'], ['love', 'school', 'important', 'see', 'need', 'change'], ['teacher', 'great', 'sub', 'program'], ['much', 'school', 'spirit', 'school', 'much', 'emphasis', 'sport', 'student', 'athletic'], ['secure', 'little', 'board', 'time'], ['school', 'experience', 'play'], ['teacher', 'student', 'ready', 'college', 'give', 'work', 'expect', 'figure'], ['extracurricular', 'activity', 'important', 'staff', 'student', 'staff', 'emphasis', 'student', 'individual', 'join', 'club', 'key', 'club', 'spanish', 'club'], ['school', 'many', 'athlete', 'good', 'supply', 'good', 'quality', 'equipment', 'wide', 'range', 'sport', 'game', 'fun', 'spirited', 'school', 'attend', 'game', 'show', 'much', 'school', 'spirit'], ['food', 'bad', 'food', 'option', 'school', 'outstanding', 'aspect', 'lunch', 'time', 'lunch', 'staff', 'smile', 'day'], ['counselor', 'helpful', 'time', 'talk', 'schedule', 'grade', 'student', 'principle', 'outstanding', 'high', 'standard', 'order', 'success', 'student', 'staff', 'success', 'good', 'student'], ['teacher', 'teacher', 'class', 'exciting', 'sarcastic', 'rude', 'part', 'academic', 'challenge', 'teacher'], ['school', 'great', 'school', 'spirit', 'little', 'order', 'overall', 'school', 'experience', 'average', 'high', 'school', 'class', 'broad', 'need', 'class', 'major'], ['police', 'officer'], ['teacher', 'job', 'occasional', 'teacher', 'stellar'], ['several', 'pre', 'class', 'offer', 'many', 'teacher', 'teach', 'test', 'student', 'ill'], ['quality', 'average', 'class', 'dull', 'unexciting', 'teacher', 'helpful', 'good', 'interest', 'instruct'], ['half', 'school', 'sport', 'athletic', 'activity', 'athletic', 'facility', 'pretty', 'date', 'unavailable', 'outside', 'school', 'sport', 'orient', 'many', 'student', 'sport', 'event', 'lot', 'school', 'spirit'], ['great', 'course', 'special', 'class'], ['problem', 'teacher', 'helpful', 'student', 'teacher', 'opportunity', 'work'], ['school', 'north', 'year', 'entire', 'school', 'different', 'charity', 'year', 'high', 'last', 'year', 'total', 'last', 'year', 'school', 'raise', 'dollar', 'small', 'town', 'great', 'academic', 'fun', 'challenge', 'time', 'lose', 'great', 'bond', 'teacher', 'student', 'high', 'school', 'small', 'flaw'], ['love', 'school', 'freshman', 'foreign', 'country', 'overwhelmed', 'size', 'opportunity', 'available', 'administrator', 'try', 'involvement', 'spirit', 'relentless', 'pursuit', 'excellence', 'many', 'friend', 'memory', 'year'], ['great', 'school', 'great', 'child', 'school'], ['school', 'focus', 'lot', 'sport', 'fitness', 'much', 'school', 'spirit'], ['fan', 'cell', 'phone', 'policy', 'policy', 'good', 'principal', 'school'], ['school', 'time', 'start', 'end', 'school', 'inoppurtunely', 'time', 'train', 'schedule', 'train', 'schedule', 'school', 'schedule', 'number', 'decrease', 'facility', 'nice', 'clean', 'school', 'tutoring', 'fantastic'], ['teacher', 'student', 'wonderful', 'environment', 'student', 'school', 'lot', 'young', 'teacher', 'nice', 'new', 'perspective', 'school'], ['school', 'extra', 'curriculum', 'activity', 'vast', 'administration', 'supportive', 'start', 'staff', 'teacher', 'help'], ['high', 'school', 'club', 'activity'], ['north', 'time'], ['occasional', 'fight', 'school', 'safe', 'fight', 'personal', 'safety', 'issue', 'address', 'clean', 'worry', 'harm', 'many', 'administrator', 'police', 'officer', 'order'], ['decent', 'experience', 'many', 'opportunity', 'high', 'school', 'future', 'hold'], ['resource', 'available', 'student', 'request', 'assistance', 'abundance', 'technology', 'available', 'counselor', 'available', 'knowledgeable', 'campus', 'large', 'variety', 'facility'], ['teacher', 'effective', 'helpful', 'care', 'interested', 'student', 'eager', 'help'], ['main', 'building', 'year', 'old', 'basketball', 'court', 'replace', 'last', 'year', 'nice', 'football', 'field', 'bad', 'shape', 'summer', 'shabby', 'edmond', 'north'], ['teacher', 'north', 'care', 'student', 'ready', 'college'], ['love', 'school', 'great', 'friend', 'good', 'memory', 'band', 'family', 'teacher', 'helpful', 'staff', 'member'], ['good', 'little', 'creative', 'teaching', 'lesson', 'tool'], ['north', 'amazing', 'counselor', 'today', 'help', 'help', 'scholarship', 'staff', 'member', 'north', 'student', 'help', 'way'], ['outstanding', 'education', 'place', 'chance', 'traditional', 'nontraditional', 'path', 'public', 'education'], ['school', 'intelligent', 'high', 'work', 'ethic', 'thing', 'event', 'host', 'week', 'peak', 'teacher', 'student', 'faculty', 'snack', 'prize', 'service', 'money', 'school', 'event', 'charity'], ['high', 'school', 'experience', 'pleasant', 'year', 'teacher', 'much', 'time', 'student', 'capable', 'example', 'move', 'calculus', 'calculus', 'teacher', 'email', 'mother', 'reassure', 'much', 'plenty', 'student', 'scared', 'class', 'regret', 'stay', 'class', 'challenge', 'amazing', 'way', 'proud', 'call', 'north', 'student', 'influence', 'amazing', 'teacher', 'student', 'kind', 'school', 'work', 'spread', 'positivity', 'light', 'imagine', 'school', 'much', 'effort', 'sure', 'student', 'successful', 'future'], ['wonderful', 'school', 'career', 'teacher', 'helpful', 'able', 'safe', 'welcome', 'environment'], ['edmond', 'challenge', 'good', 'high', 'school', 'state', 'oklahoma', 'alumnu'], ['overall', 'north', 'clean', 'friendly', 'school', 'good', 'student', 'help', 'college', 'resource', 'necessary', 'question', 'way', 'way', 'school', 'head', 'right', 'direction', 'new', 'stem', 'building', 'student', 'sport', 'game', 'play', 'announcement', 'thing', 'student', 'parent', 'school', 'activity', 'school'], ['teacher', 'great', 'ready', 'help', 'week', 'money', 'kid', 'good', 'part', 'year', 'snack', 'teacher', 'give', 'test', 'new', 'key', 'card', 'safe', 'long', 'student', 'class'], ['high', 'school', 'excellent', 'teacher', 'student'], ['fantastic', 'school', 'look', 'place', 'compassionate', 'student', 'teacher', 'faculty', 'wonderful', 'willing', 'help'], ['teacher', 'helpful', 'knowledgeable', 'subject', 'feel', 'staff', 'student', 'potential'], ['great', 'school', 'many', 'group', 'people', 'friend', 'teacher', 'awesome', 'care', 'student', 'love'], ['school', 'huge', 'man', 'lose', 'first', 'time'], ['academic', 'school', 'awesome', 'field', 'lot', 'interesting', 'course', 'different', 'level', 'enroll', 'lot', 'club', 'activity', 'sport'], ['lunch', 'menu', 'boring', 'repeat', 'evey', 'week', 'kid', 'lunch', 'home'], ['hallway', 'course', 'drama', 'friend', 'least'], ['people', 'nice', 'rich', 'neighborhood', 'kid'], ['administration', 'help', 'confused'], ['great', 'academic', 'teacher', 'care', 'student', 'building', 'facility', 'care', 'good', 'athletic', 'fun', 'large', 'student', 'section'], ['threaten', 'danger', 'north', 'rare', 'instance', 'problem', 'staff', 'orderly'], ['extracurricular', 'opportunity', 'school', 'club', 'organization', 'phenomenal', 'teacher', 'multiple', 'people', 'organization', 'help', 'commitment', 'different', 'club', 'strong', 'student', 'high', 'commitment', 'available'], ['school', 'unique', 'student', 'body', 'administration', 'parent', 'administration', 'faculty', 'student', 'education', 'need', 'edmond', 'north', 'home', 'school', 'fun', 'school', 'family'], ['safe', 'school', 'environment', 'staff', 'faculty', 'wonderful', 'job', 'teacher', 'student', 'friendly', 'relationship', 'invisible', 'social', 'wall'], ['teacher', 'school', 'approachable', 'engaging', 'help'], ['school', 'power', 'student', 'safe', 'secure', 'comfortable'], ['many', 'different', 'club', 'organization', 'different', 'sport', 'program', 'band', 'orchestra', 'art', 'deca', 'choir', 'wide', 'spread', 'option', 'diversity'], ['lot', 'school', 'pride', 'sport', 'academic', 'art', 'student'], ['extracurricular', 'activity', 'great', 'school', 'freedom', 'new', 'club', 'thing', 'wide', 'variety', 'thing', 'leave'], ['high', 'school', 'sophomorefeb', 'club', 'activity'], ['edmond', 'highschool', 'place', 'system', 'safety', 'strange', 'unwanted', 'visitor', 'intention', 'harm', 'school', 'office', 'showi', 'tag', 'name', 'picture', 'order', 'school'], ['school', 'cover', 'considerable', 'variety', 'sport', 'sport', 'course', 'hockey', 'team', 'well', 'time', 'school', 'city', 'state', 'athletic', 'facility', 'facilitate', 'success', 'athlete', 'thing', 'athlete', 'top', 'support', 'team', 'opponent', 'boost', 'player', 'school', 'sport', 'fitness', 'program', 'excellent'], ['class', 'help', 'college', 'teacher', 'care', 'week', 'good', 'week', 'year', 'friend'], ['teacher', 'great', 'whole', 'year', 'class', 'teacher', 'teacher', 'help', 'student', 'school', 'positive', 'place'], ['lot', 'support', 'principal', 'staff', 'support', 'lot', 'member'], ['community', 'sport', 'team', 'school', 'booster', 'club', 'help', 'money', 'uniform', 'public', 'bond', 'issue', 'support', 'facility', 'maintenance'], ['various', 'club', 'extracurricular', 'sport', 'available', 'student', 'base', 'interest'], ['future', 'part', 'pre', 'engineering', 'academy', 'francis', 'tuttle', 'year', 'help', 'career', 'engineering', 'possible', 'option', 'instructor', 'high', 'school', 'care', 'focus', 'good', 'possible', 'experience', 'senior', 'year', 'expectation', 'military'], ['teacher', 'good', 'state', 'intelligent', 'professional', 'great', 'explain', 'procedure', 'direction', 'respectful', 'teacher', 'student', 'grade', 'assignment', 'test', 'timely', 'manner', 'enough', 'time', 'complete', 'assignment', 'lot', 'high', 'school', 'year', 'everyday'], ['interested', 'group', 'plug'], ['club', 'type', 'person', 'gay', 'straight', 'alliance', 'creative', 'writing', 'drama', 'study', 'young', 'republican', 'many', 'many', 'embrasse', 'matter', 'matter', 'student', 'north', 'part', 'family'], ['week', 'school', 'school', 'person', 'problem', 'school'], ['single', 'teacher', 'student', 'teacher', 'friend'], ['school', 'administration', 'top', 'notch', 'student'], ['teacher', 'good', 'great', 'notice', 'kid', 'popular', 'kid', 'student'], ['building', 'clean', 'look', 'amazing', 'amount', 'time', 'thing', 'school', 'look', 'mother', 'schedule', 'thing', 'parent', 'middle', 'day', 'mother', 'home', 'mother'], ['many', 'option', 'student', 'school', 'fit', 'student', 'interest'], ['many', 'opportunity', 'sport', 'orchestra', 'viola', 'able', 'perform', 'carnegie', 'school', 'school', 'heartbeat'], ['high', 'school', 'big', 'many', 'scout', 'incredible', 'team', 'year', 'type', 'state', 'title', 'football', 'soccer', 'track', 'bad', 'thing', 'school', 'big', 'hard', 'notice', 'excellent', 'sport', 'completion', 'big', 'school'], ['volleyball', 'team', 'year', 'girl', 'golf', 'team', 'year', 'staff', 'excellent', 'facility', 'volleyball', 'girl', 'golf', 'lot', 'student', 'involvement'], ['large', 'percent', 'student', 'body', 'athletic', 'organization', 'spirit'], ['extracurricular', 'edmond', 'north', 'great', 'todo', 'school'], ['bus', 'driver', 'high', 'school', 'license', 'young', 'sister', 'next', 'fall', 'driver'], ['public', 'high', 'school', 'state', 'nation'], ['love', 'counselor', 'main', 'office', 'asst', 'principle', 'epileptic', 'type', 'diabetic', 'compassionate', 'amount', 'med', 'testing'], ['school', 'german', 'club', 'host', 'foreign', 'exchange', 'student', 'home', 'part', 'gapp', 'program', 'good', 'experience', 'life'], ['recognizable', 'public', 'school', 'academic', 'good', 'curriculum', 'workload', 'manageable'], ['bully', 'stress', 'student', 'new', 'alarm', 'door', 'student', 'exit', 'lunch', 'security', 'camera', 'hallway', 'armed', 'police', 'officer', 'drug', 'dog'], ['sport', 'school', 'spirit', 'important', 'many', 'student', 'different', 'sport', 'team', 'important', 'rev', 'student', 'support', 'school', 'spirit'], ['student', 'school', 'able', 'join', 'club', 'place', 'school', 'hour', 'many', 'club', 'key', 'club', 'young', 'club', 'club', 'teen', 'club', 'national', 'honor', 'society', 'club', 'involve', 'club', 'stress', 'teacher', 'student', 'club', 'fun', 'guitar', 'club', 'teacher', 'administration', 'school', 'club', 'teacher', 'open', 'classroom', 'use', 'meeting', 'administration', 'financial', 'aid', 'club', 'unable', 'time', 'school', 'hour', 'use', 'school', 'hour', 'meet'], ['administration', 'student', 'helpful'], ['school', 'school', 'district', 'safe', 'intruder', 'fire', 'tornado', 'drill', 'case', 'emergency', 'police', 'officer', 'school', 'ground', 'parking', 'attendant', 'monitor', 'parking', 'lot', 'entrance', 'school'], ['student', 'school', 'sport', 'sport', 'music', 'activity', 'student', 'large', 'majority', 'supportive', 'school', 'team', 'school', 'reputation', 'school', 'pride', 'student', 'section', 'full', 'matter', 'sport', 'matter', 'successful', 'season'], ['school', 'many', 'different', 'academic', 'option', 'advanced', 'placement', 'class', 'many', 'option', 'hour', 'schedule', 'sophomore', 'junior', 'senior', 'year', 'school', 'level', 'course', 'remedial', 'course', 'special', 'education', 'course', 'matter', 'student', 'learning', 'pace', 'condition', 'perfect', 'schedule', 'available'], ['thing', 'enforce', 'school', 'policy', 'tardie', 'class', 'automatic', 'credit', 'hall', 'sweep', 'announcement', 'vital', 'class', 'student', 'hall', 'disciplinary', 'action', 'doubt'], ['love', 'school', 'school', 'sprit', 'game', 'competitive', 'win', 'multiple', 'state', 'championship', 'past', 'decade', 'year'], ['school', 'good', 'community', 'teacher', 'facility', 'nation', 'challenge', 'work', 'education', 'fun', 'thankful', 'thing'], ['edmond', 'school', 'assign', 'armed', 'police', 'officer', 'campus', 'random', 'drug', 'dog', 'sweep', 'month', 'safe', 'school'], ['facility', 'nice', 'new', 'track', 'pool', 'facility', 'city', 'edmond', 'diving', 'olympic', 'size', 'pool', 'lazy', 'river'], ['school', 'good', 'teacher', 'state', 'nation', 'teacher', 'accredit', 'dozen', 'class', 'class', 'challenge', 'lot', 'class'], ['field', 'equipment', 'good', 'state', 'compete', 'athlete'], ['teacher', 'good', 'teacher', 'state', 'band', 'teacher', 'year', 'year', 'teacher', 'avaliable', 'help', 'minute', 'period', 'middle', 'day', 'use', 'tutoring', 'session', 'student', 'class', 'struggle', 'additional', 'help', 'free', 'school', 'math', 'tutoring', 'student', 'tutor', 'need', 'help'], ['principal', 'amazing', 'good', 'principal', 'hall', 'time', 'way', 'high', 'school', 'experience', 'awesome', 'good', 'administration', 'entire', 'state', 'oklahoma', 'good', 'talented', 'teacher', 'state', 'school', 'way', 'thing', 'easy', 'student', 'child', 'care', 'tolerence', 'policy', 'bully', 'harass', 'student', 'attendence', 'school', 'important', 'minute', 'class', 'difference', 'concept'], ['ton', 'different', 'organization', 'extra', 'circular', 'student'], ['safety'], ['many', 'school', 'facility', 'available', 'school'], ['many', 'social', 'scene', 'school'], ['teacher', 'school', 'helpful', 'student'], ['school', 'good', 'high', 'school'], ['academic', 'offer', 'school', 'offer'], ['lot', 'extracurricular', 'activity', 'school'], ['big', 'part', 'school'], ['food', 'good', 'school'], ['principal', 'helpful', 'involved', 'student'], ['good', 'people', 'great', 'teacher', 'experience', 'college'], ['lot', 'extracurricular', 'activity', 'many', 'bind'], ['time', 'edmond', 'north', 'single', 'situation', 'present', 'harm', 'student', 'faculty', 'figh', 'threat', 'kind', 'student', 'nice', 'individual', 'teacher', 'way', 'sure', 'good', 'health', 'student', 'important', 'administrarion', 'care', 'overall', 'school', 'great', 'job', 'student', 'safe', 'threat', 'physical', 'mental'], ['opportunity', 'edmond', 'north', 'present', 'classroom', 'astounding', 'program', 'student', 'opportunity', 'student', 'sport', 'football', 'volleyball', 'golf', 'track', 'field', 'baseball', 'softball', 'tennis', 'soccer', 'lacrosse', 'hockey', 'administrator', 'help', 'activity', 'student', 'amazing', 'school', 'sport', 'part', 'large', 'drama', 'speech', 'team', 'organization', 'trouble', 'new', 'teacher', 'strong', 'program', 'large', 'growth', 'membership'], ['influential', 'teacher', 'school'], ['teacher', 'edmond', 'north', 'interested', 'help', 'material', 'expand', 'horizon', 'high', 'school'], ['brand', 'new', 'building', 'call', 'freshman', 'huge', 'overhaul', 'rest', 'school', 'update', 'classroom', 'main', 'office', 'school', 'ready', 'next', 'century', 'student'], ['teacher', 'lot', 'kid', 'fail', 'class', 'ask', 'help', 'teacher', 'pay', 'attention', 'straight', 'student', 'food', 'suck', 'staff', 'unhelpful', 'dress', 'code', 'teacher', 'rude'], ['parent', 'little', 'involvement', 'school', 'respect', 'staff', 'child', 'adult', 'impact', 'school', 'band'], ['student', 'school', 'activity', 'student', 'acceptance', 'school', 'issue', 'lot', 'student', 'face', 'change', 'flow', 'peer', 'pressure'], ['school', 'lunch', 'poor', 'overpriced', 'portion', 'small', 'day', 'food', 'unhealthy', 'unbearable', 'lunch', 'good', 'option', 'due', 'closed', 'campus', 'give', 'cafeteria', 'monopoly'], ['certain', 'teacher', 'available', 'student', 'vast', 'number', 'teacher', 'favorite', 'shun', 'tremendous', 'difference', 'honor', 'teacher', 'regular', 'teacher', 'form', 'care', 'student', 'serious', 'care', 'school', 'class', 'advise', 'honor', 'class', 'teacher', 'care', 'grade'], ['school', 'information', 'college', 'student', 'freshman', 'year', 'college', 'information', 'junior', 'senior', 'year', 'great', 'focus', 'importance', 'college'], ['food', 'greasy', 'unhealthy', 'energy', 'slow'], ['food', 'appetizing', 'right', 'temperature', 'appeal', 'eye', 'food', 'sparse', 'time', 'hungry', 'afternoon', 'lunch', 'home'], ['food', 'vegetarian', 'meat', 'salad', 'option', 'maditory', 'deadful'], ['food', 'good', 'quality', 'nutritional', 'value'], ['priority', 'monitor', 'play', 'softball', 'year', 'request', 'class', 'football', 'team', 'softball', 'girl', 'basketball', 'lazy', 'attitude', 'field', 'day', 'wish', 'school', 'parent'], ['high', 'diverse', 'school', 'poor', 'help', 'kid', 'need', 'help', 'mental', 'help', 'college', 'help', 'bully', 'school', 'thing', 'different', 'route', 'fond'], ['high', 'school', 'overall', 'good', 'school', 'administrator', 'help', 'lot', 'college', 'ready', 'plan', 'class', 'counselor', 'elective', 'program', 'great', 'amazing', 'class'], ['little', 'interaction', 'student', 'teacher', 'sense', 'teacher', 'different', 'way', 'student', 'disrespectful', 'due', 'lack', 'control', 'classroom', 'school', 'general'], ['dress', 'code', 'effective', 'female', 'male', 'able', 'sag', 'pant', 'able', 'underwear', 'guidance', 'counselor', 'tell', 'able', 'day'], ['much', 'interest', 'counselor', 'help', 'student', 'lack', 'information', 'college', 'less', 'intimidate', 'process'], ['overwhelming', 'scheduling', 'process', 'work', 'load'], ['mrs', 'collin', 'answer', 'math', 'problem', 'second', 'son', 'merit', 'scholarship', 'due', 'semeseter', 'class', 'class', 'teacher', 'math', 'straight', 'student', 'entire', 'class', 'struggle', 'bad', 'math', 'grade', 'example', 'teacher', 'money', 'math', 'sad', 'administration', 'math', 'many', 'kid', 'impact', 'life', 'skill', 'math'], ['school', 'lunch', 'healthy', 'choice'], ['food', 'awful', 'unhealthy', 'healthy', 'option', 'sub', 'sandwich', 'bread'], ['security', 'student', 'though', 'dress', 'code'], ['football', 'team', 'work', 'skill', 'rest', 'sport'], ['dress', 'code', 'enforce', 'lot', 'student', 'thing', 'school', 'public'], ['policy', 'horrible', 'violence', 'policy', 'review', 'student', 'curl', 'floor', 'student', 'faculty', 'decide', 'lazy', 'butt', 'student', 'able', 'stand', 'ground'], ['food', 'expensive', 'healthy', 'option', 'sub', 'sandwich', 'salad', 'price', 'ala', 'cart', 'convenient', 'fruit', 'beverage'], ['food', 'school', 'healthy', 'snack', 'lunch', 'available', 'wide', 'variety', 'buy', 'sub', 'sandwich', 'salad', 'everyday', 'boring', 'cafeteria', 'wide', 'variety', 'type', 'food', 'sell', 'line', 'italian', 'food', 'overall', 'food', 'cafeteria', 'horrible', 'daily', 'basis'], ['discourage', 'prejudice', 'discrimination', 'student', 'counselor', 'idea', 'talk', 'regard', 'college', 'application', 'schedule', 'change', 'dress', 'code', 'girl', 'day', 'teacher', 'dress', 'code', 'last', 'period', 'half', 'teacher', 'dramatic', 'attendance', 'tolerance', 'tardiness', 'half', 'student', 'decision'], ['variety', 'greasy', 'high', 'sodium', 'food', 'healthy', 'alternative', 'food', 'healthy'], ['school', 'focus', 'club', 'popular', 'club', 'school', 'focus', 'club'], ['different', 'high', 'school', 'much', 'small', 'population', 'stress', 'involvement', 'academic', 'doctor', 'high', 'school', 'college', 'many', 'good', 'quality', 'academic'], ['alot', 'teacher', 'care', 'care', 'job'], ['graduate', 'graduation', 'graduation', 'practice', 'policy', 'particular', 'individual', 'doctor', 'appointment', 'town', 'policy', 'remove'], ['diversity', 'year', 'acceptance', 'ethnic', 'sexual', 'orientation', 'year', 'alot', 'mormon', 'student'], ['condition', 'school', 'old', 'bathroom', 'counselor', 'great', 'bus', 'driver', 'technology'], ['dress', 'code', 'policy', 'girl', 'lot', 'administration', 'kid', 'kid', 'senior', 'year', 'adviser', 'college', 'question', 'direction', 'school', 'counselor', 'helpful', 'unapproachable', 'sarcastic', 'realize', 'deal', 'alot', 'challenge', 'student', 'day', 'assume', 'care', 'direction', 'college', 'question', 'confident', 'graduate', 'good', 'decision', 'future', 'good', 'tool', 'decision'], ['bad', 'experience', 'counselor', 'schedule', 'tooth', 'friend', 'risk', 'suicide', 'counselor', 'issue', 'wrong', 'way', 'situation', 'bad', 'principle', 'great', 'great', 'job', 'dress', 'code'], ['food', 'bad', 'expensive', 'small', 'slice', 'greasy', 'pizza', 'kid'], ['food', 'healty', 'food', 'warm', 'cook'], ['student', 'discrimination', 'teacher', 'class', 'teacher', 'nice', 'principal', 'good', 'bully'], ['second', 'gilbert', 'mission', 'high', 'school', 'experience', 'gilbert', 'enjoyable', 'involvement', 'extracurricular', 'able', 'connect', 'ton', 'people', 'school', 'event', 'complaint', 'gilbert', 'lack', 'diversity', 'complaint', 'school', 'spirit', 'change'], ['way', 'teacher', 'kid', 'horrible', 'teacher', 'need', 'balance', 'school', 'grueling', 'kid', 'school'], ['great', 'attribute', 'school', 'offer', 'complication', 'system', 'stress', 'student', 'program'], ['staff', 'student', 'counselor', 'helpful', 'teacher', 'nice', 'helpful'], ['high', 'school', 'average', 'first', 'continue', 'start', 'great', 'experience', 'meet', 'amazing', 'teacher', 'path', 'amazing', 'teacher', 'nice', 'nice', 'people', 'high', 'school'], ['student', 'gilbert', 'high', 'welcome', 'teacher', 'care', 'student', 'work', 'good', 'education', 'possible', 'school', 'school', 'activity', 'friend', 'security', 'safe', 'lot', 'different', 'kind', 'student', 'gilbert', 'high', 'friend', 'lot', 'student', 'nicety', 'witness', 'little', 'recommend', 'kid', 'school', 'connect', 'wonderful', 'people'], ['gilbert', 'high', 'school', 'basic', 'subject', 'teacher', 'staff', 'basic', 'talk', 'counselor', 'college', 'life', 'care', 'parent'], ['gh', 'high', 'school', 'extraordinary', 'good', 'bad', 'publicity', 'student', 'academic', 'life', 'standard', 'high', 'opportunity', 'college', 'dual', 'enrollment', 'credit', 'great', 'lot', 'class', 'offer'], ['time', 'gilbert', 'high', 'school', 'plenty', 'activity', 'teacher', 'charge', 'activity', 'lead'], ['difference', 'school', 'acceptance', 'diversity', 'many', 'student', 'judgmental', 'student', 'different'], ['school', 'good', 'lot', 'school', 'school', 'staff', 'member', 'teacher', 'amazing', 'great', 'role', 'model'], ['great', 'many', 'class', 'class', 'handful', 'workload'], ['part', 'student', 'fade'], ['club', 'nerdy', 'club', 'notable'], ['people', 'school', 'education'], ['academic', 'gilbert', 'high', 'school', 'base', 'path', 'student', 'basic', 'core', 'class', 'non', 'honor', 'manageable', 'workload', 'curriculum', 'interested', 'teacher', 'part', 'difficulty', 'class', 'low', 'make', 'easy', 'student', 'hand', 'class', 'difficult', 'much', 'work', 'motivated', 'student', 'hard', 'motivated', 'student', 'class', 'regular', 'course', 'good', 'part', 'academic', 'college', 'student', 'credit', 'course', 'college'], ['student', 'involvement', 'high', 'school', 'high', 'club', 'opportunity', 'much', 'peer', 'pressure', 'school', 'aware', 'diverse', 'due', 'position', 'gilbert', 'center', 'white', 'community', 'part', 'student', 'gilbert', 'high', 'school', 'easy', 'get', 'matter'], ['teacher', 'good', 'amazing', 'teacher', 'people', 'attention', 'class'], ['high', 'school', 'great', 'school', 'great', 'friend', 'live', 'time', 'experience', 'bully', 'school', 'unnecessary', 'stress', 'pain', 'band', 'program', 'people', 'self'], ['lot', 'safety', 'measure', 'school', 'nurse', 'help', 'pain', 'call', 'way', 'safe', 'enough', 'school'], ['variety', 'extracurricular', 'activity', 'quality', 'lot', 'many', 'resource'], ['school', 'fun', 'hang', 'classroom', 'lunch', 'order', 'work', 'school', 'event', 'work', 'football', 'team', 'good'], ['overall', 'experience', 'gilbert', 'part', 'lot', 'judgmental', 'student', 'life', 'teacher', 'nice', 'caring', 'staff', 'way'], ['part', 'teacher', 'good', 'teacher', 'care', 'student'], ['school', 'teacher', 'year', 'teacher', 'student', 'education', 'future', 'sit', 'math', 'class', 'wonder', 'thing', 'real', 'world', 'situation', 'teacher', 'care', 'education'], ['unsafe', 'gh'], ['love', 'ghs', 'dance', 'fun', 'teacher', 'school', 'big', 'difficult', 'know', 'lot', 'people', 'comfortable', 'ghs', 'environment', 'favorite', 'experience', 'special', 'class', 'teacher', 'extra', 'mile', 'student', 'help'], ['security', 'school', 'issue'], ['teacher', 'high', 'school', 'courteous', 'unwilling', 'help', 'student', 'standard', 'teacher', 'aim', 'low', 'student', 'class', 'much', 'time', 'basic', 'concept', 'lesson', 'plan', 'rare', 'teacher', 'lesson', 'digress', 'much', 'time', 'frivolous', 'homework', 'value', 'education', 'drive', 'minute', 'home', 'multivariate', 'calculus', 'class', 'offer', 'gilbert', 'last', 'time', 'lesson', 'class', 'learn', 'gilbert'], ['sport', 'club', 'exciting', 'high', 'likely', 'point', 'popular', 'group', 'people', 'awkward', 'group', 'people'], ['experience', 'gilbert', 'high', 'school', 'mediocre'], ['administration', 'student', 'security', 'guard', 'harass', 'student', 'daily', 'basis', 'gilbert', 'public', 'school', 'teacher'], ['average', 'school', 'interesting', 'cool', 'elective'], ['school', 'decent', 'senior', 'year', 'teacher', 'people', 'administration', 'counseling', 'area', 'nice', 'helpful', 'student', 'real', 'world', 'college', 'school', 'improvement', 'teacher', 'real', 'world', 'government', 'teacher', 'good', 'english', 'teacher', 'teacher', 'good', 'teacher', 'lenient', 'occasional', 'tardy', 'class', 'school', 'concerned', 'monitor', 'student', 'social', 'medium', 'education', 'overall', 'enjoy', 'gilbert', 'high', 'senior', 'prank', 'social', 'medium', 'famous', 'year'], ['healthy', 'food', 'care', 'health', 'exercise'], ['public', 'school', 'district', 'major', 'lack', 'funding', 'school', 'money', 'extra', 'curricular', 'activity', 'offer', 'beneficial', 'experience', 'student', 'body', 'school', 'interesting', 'activity', 'cheap', 'entrance', 'fee', 'elective', 'class', 'many', 'student'], ['school', 'great', 'importance', 'counselor', 'student', 'high', 'education', 'option', 'scholarship', 'information', 'available', 'student', 'social', 'stigma', 'high', 'education', 'smart', 'kid', 'college', 'financial', 'needy', 'reward', 'scholarship'], ['school', 'safe', 'student', 'bad', 'decision', 'regard', 'peer', 'pressure', 'drug', 'drink'], ['variety', 'food', 'cafeteria', 'beneficial', 'factor', 'student', 'value', 'bit', 'lunch', 'day', 'food', 'healthy', 'incident', 'insect', 'food'], ['student', 'involvement', 'school', 'half', 'school', 'factor', 'student', 'athletic', 'scene', 'bully', 'student', 'antisocial', 'shy', 'student', 'team'], ['principal', 'student', 'successful', 'policy', 'school', 'push', 'student', 'staff', 'helpful', 'friendly', 'student', 'help'], ['teacher', 'motivate', 'help', 'student', 'progress', 'year', 'teacher', 'dedicated', 'refer', 'tutoring', 'lesson', 'student', 'teacher', 'consistent', 'assignment', 'interest', 'student', 'technique', 'student'], ['math', 'critical', 'teacher', 'concept', 'time', 'student', 'assignnment'], ['wide', 'variety', 'option', 'teacher', 'boy', 'tennis', 'money', 'tennis', 'team', 'practice', 'interested', 'help', 'kid', 'part', 'job', 'pay', 'player', 'lead', 'team'], ['school', 'involvement', 'little', 'good', 'experience', 'place', 'friend', 'school', 'good', 'experience', 'student'], ['everyday', 'week', 'year', 'food', 'carb', 'rich', 'pizza', 'fry', 'hamburger', 'rice', 'little', 'option', 'healthy', 'food', 'option', 'healthy', 'food', 'sub', 'salad', 'bread', 'sub', 'coat', 'layer', 'butter', 'finger', 'greasy', 'salad', 'little', 'nutritional', 'value', 'lunch', 'serve', 'purpose', 'feed', 'belly', 'real', 'question', 'feed', 'nutrient', 'brain', 'ask'], ['school', 'safe', 'officer', 'school', 'day', 'sure', 'drug', 'use', 'school'], ['teacher', 'good', 'opinion', 'help', 'move', 'next', 'topic'], ['many', 'different', 'option', 'italian', 'grill', 'mexican', 'salad', 'sandwich', 'line', 'kind', 'snack', 'healthy'], ['dozen', 'club', 'sport', 'team', 'club', 'video', 'game', 'sport', 'academic', 'idea', 'club', 'talk', 'principle', 'couple', 'people', 'popular', 'club', 'sport', 'softball', 'popular'], ['student', 'gilbert', 'matter', 'race', 'sexuality', 'capability', 'student', 'church', 'group', 'young', 'life'], ['school', 'fair', 'amount', 'money', 'team', 'sport', 'volleyball', 'team', 'successful', 'team', 'season', 'multiple', 'championship', 'student', 'enthusiastic', 'game', 'rival', 'school'], ['food', 'school', 'eat', 'lunch', 'free', 'know', 'option', 'disease'], ['school', 'many', 'college', 'prep', 'resource', 'counselor', 'office', 'extensive', 'new', 'enrichment', 'program', 'reasonable', 'technology', 'janitorial', 'staff', 'excellent', 'job'], ['high', 'school', 'typical', 'school', 'area'], ['negativity', 'lose', 'crowd', 'many', 'student'], ['new', 'principal', 'school', 'board', 'quality', 'educator'], ['lot', 'opportunity', 'outgoing', 'student', 'sport', 'competitive', 'school', 'club', 'sport', 'team', 'inter', 'mural', 'non', 'competitive', 'sporting', 'opportunity', 'communication', 'activity', 'event', 'lack', 'student', 'unofficial', 'facebook', 'page', 'senior', 'announce', 'activity', 'thing', 'purchase', 'upcoming', 'class', 'photo', 'aware', 'invite', 'page'], ['wrong', 'college', 'transfer', 'community', 'college', 'wish', 'info', 'session', 'biology', 'class', 'need', 'info', 'intensity', 'college', 'biology'], ['people', 'hang', 'friend', 'mine', 'group', 'friend'], ['sport', 'school', 'sprite', 'good', 'depend', 'hand'], ['dress', 'code', 'loss', 'girl', 'revel', 'cloth', 'time', 'guy', 'low', 'office', 'staff', 'guidance', 'counselor', 'good', 'information', 'friendly', 'people', 'policy', 'strict', 'able', 'express', 'afraid'], ['food', 'healthy', 'variety', 'student', 'eat', 'content'], ['student', 'team', 'good', 'record', 'football', 'team', 'awful', 'game', 'popular', 'soccer', 'team', 'supporter', 'boy', 'girl', 'volleyball', 'team', 'state', 'great', 'support', 'student', 'volleyball', 'game'], ['college', 'hard'], ['school', 'safe', 'area', 'extreme', 'precaution', 'need', 'sign'], ['decent', 'school', 'nice', 'facility', 'super', 'fancy', 'safe', 'environment'], ['lot', 'available', 'club', 'extracurricular', 'activity', 'student', 'tricky', 'information'], ['school'], ['school', 'old', 'thing'], ['many', 'active', 'school'], ['school', 'last', 'year', 'functional', 'good', 'layout', 'facility', 'decent', 'condition', 'technology', 'boost', 'school'], ['year', 'principal', 'staff', 'helpful', 'guidance', 'counselor', 'busy', 'available', 'appointment', 'responsive', 'student'], ['different', 'experience', 'type', 'course', 'student', 'honor', 'class', 'good', 'class', 'excellent'], ['wide', 'variety', 'sport', 'fitness', 'opportunity', 'gh', 'sport', 'student', 'gifted'], ['wide', 'different', 'extracurricular', 'activity', 'student', 'photography', 'music', 'math', 'chorus', 'many', 'different', 'sport', 'group', 'charitable', 'activity'], ['people', 'white', 'mormon', 'lot', 'diversity', 'race', 'religion', 'difficult', 'different'], ['safety', 'policy', 'many', 'saftey', 'hazard', 'worry', 'work', 'nurse', 'good', 'ability'], ['food', 'healthy', 'massive', 'variety', 'choice', 'healthy', 'option'], ['technological', 'usage', 'vary', 'teacher', 'teacher', 'helpful', 'thing', 'use'], ['team', 'due', 'lack', 'win', 'football', 'team'], ['extracurricular', 'activity', 'time', 'day', 'impossible', 'part', 'many', 'different', 'activity', 'funding', 'musical', 'perspective'], ['food', 'bad', 'option', 'redundant', 'many', 'healthy', 'food', 'option', 'salad'], ['school', 'school', 'lot', 'new', 'friend', 'couple', 'great', 'teacher'], ['people', 'ofcourse', 'belief', 'opinion'], ['school', 'teacher', 'teacher', 'flat', 'suck'], ['teacher', 'willing', 'help', 'help', 'mind'], ['many', 'problem', 'year'], ['computer', 'student', 'use', 'anny', 'issue', 'resource'], ['able', 'sign', 'sport', 'activity', 'good', 'grade', 'stay', 'sport', 'activity'], ['school', 'nurse', 'good', 'job', 'comende'], ['school', 'program', 'culinary', 'club', 'friend', 'lot', 'school', 'program', 'love'], ['class', 'workload', 'extream', 'managable', 'teacher', 'great', 'steryotype', 'enough', 'bad', 'kid'], ['teacher', 'great', 'genuienly', 'care', 'help', 'help', 'bullying', 'happen', 'personal', 'opinion', 'lot', 'people', 'school', 'shame', 'knowledge', 'great', 'thing', 'person', 'much'], ['confusing', 'line', 'distribute'], ['lunch', 'room', 'high', 'school', 'variety', 'style', 'mexcian', 'american', 'sandwich', 'chinese', 'food', 'sub', 'healthy', 'healthy', 'option', 'hamburger', 'lot', 'faculty', 'awesome', 'job', 'area', 'clean'], ['time', 'gilbert', 'high', 'school', 'good', 'experience', 'far', 'teacher', 'environment', 'school', 'student', 'rude'], ['food', 'delicious', 'option', 'sub', 'sandwich', 'meal', 'healthy', 'fresh', 'fill', 'good', 'variety', 'free', 'vegetarian', 'option'], ['ethnic', 'diversity', 'school', 'people', 'little', 'clique', 'group'], ['school', 'lot', 'fatten', 'food', 'healthy', 'vegetarian', 'alternative'], ['high', 'school', 'lot', 'opportunity', 'scholarship', 'successful', 'college', 'career', 'people', 'help', 'college', 'mandate', 'student', 'scholarship', 'eligible', 'lot', 'student', 'college'], ['policy', 'follow', 'staff', 'member', 'student', 'punishment', 'lenient', 'people'], ['actual', 'school', 'college', 'feel', 'puppy', 'teacher', 'college', 'different', 'high', 'school', 'due', 'date', 'help', 'year', 'high', 'school', 'college', 'complete', 'opposite', 'due', 'date', 'date', 'bad', 'empathy', 'high', 'school', 'teacher', 'college', 'teacher'], ['school', 'peer', 'pressure', 'comfort', 'zone', 'bad', 'thing', 'school', 'bully', 'student', 'great', 'amount', 'student', 'able', 'express', 'judge'], ['overall', 'teacher', 'school', 'great', 'teacher', 'fun', 'manageable', 'teacher', 'lazy', 'bare', 'minimum', 'educate', 'student', 'teacher', 'offer', 'school', 'certain', 'question', 'class'], ['administration', 'fair', 'rule', 'dress', 'code', 'student', 'able', 'express', 'clothing', 'student', 'wear', 'shirt', 'waist', 'dress', 'code', 'standard', 'reasonable', 'restriction'], ['school', 'admin', 'aware', 'school', 'new', 'principle', 'little', 'strict', 'last', 'kid', 'respectful', 'exception', 'dress', 'code', 'strict', 'lax'], ['food', 'school', 'gourmet', 'cafeteria', 'food', 'bad', 'lunch', 'sophomore', 'year'], ['school', 'school', 'love', 'good', 'education', 'thankful'], ['school', 'safe', 'student', 'good', 'student', 'poor', 'choice', 'reflective', 'school'], ['dress', 'code', 'policy', 'strict', 'paper', 'paper', 'actual', 'use', 'dress', 'code'], ['athletic', 'facility', 'functional', 'fantastic', 'age'], ['school', 'great', 'time', 'memory', 'much', 'drama', 'sure', 'school', 'different'], ['student', 'great', 'high', 'school', 'lot', 'bad', 'language', 'lunch', 'room'], ['food', 'great', 'cookie', 'fantastic', 'alot', 'healthy', 'chice', 'sub', 'salad', 'pizza', 'fry', 'chesseburger', 'healthy', 'greasy', 'food', 'food', 'decent', 'fill', 'home'], ['academic', 'good', 'enrichment', 'schedule', 'year', 'fond'], ['choir', 'various', 'athletic', 'popular', 'good', 'quality', 'band', 'many', 'competition'], ['huge', 'encouragement', 'athletic', 'campus', 'important', 'academic'], ['school', 'female', 'dress', 'worry', 'girl', 'small', 'strap', 'short', 'understandable', 'school', 'good', 'appearance', 'female', 'gender', 'break', 'dress', 'code', 'male', 'offensive', 'shirt', 'punishment', 'offensive', 'clothing'], ['teacher', 'average', 'help', 'student', 'actual', 'student', 'school', 'cool', 'faculty', 'teaching', 'staff', 'average'], ['school', 'diverse', 'population', 'people', 'much', 'peer', 'pressure', 'sexual', 'orientation', 'frown', 'school', 'much', 'people', 'opinion', 'personality', 'trait'], ['nurse', 'security', 'good', 'good', 'job', 'handle', 'problem', 'fight', 'good', 'term', 'security', 'guard'], ['single', 'lunch', 'school', 'school', 'food', 'typical', 'cafeteria', 'food', 'healthy', 'lunch', 'chicken', 'nugget', 'nachos', 'everyday'], ['academic', 'offer', 'music', 'performance', 'core', 'class', 'ect', 'lot', 'class', 'dual', 'credit', 'test', 'available', 'teacher', 'great'], ['firsthand', 'administration', 'strict', 'realize', 'student', 'body', 'able', 'little', 'easy'], ['typical', 'cafeteria', 'high', 'school', 'unhealthy', 'pack', 'lunch', 'whole', 'high', 'school', 'career', 'mom', 'healthy', 'cost', 'effective'], ['high', 'school', 'student', 'ready', 'college', 'reason', 'student', 'college', 'area', 'parent'], ['school', 'fine', 'shape', 'age', 'counselor', 'college', 'adviser', 'last', 'name', 'student', 'counselor', 'cold', 'condescending', 'class', 'lazy', 'want', 'drop', 'class', 'need', 'need', 'credit', 'senior', 'year', 'change', 'counselor', 'school', 'college', 'question', 'question'], ['gilbert', 'high', 'school', 'safety', 'student', 'body', 'great', 'example', 'issue', 'regard', 'administration', 'end'], ['overall', 'school', 'facility', 'available', 'resource', 'student', 'average', 'many', 'building', 'use', 'technology', 'update', 'counselor', 'college', 'prep', 'resource', 'excellent'], ['personal', 'experience', 'amazing', 'teacher', 'teacher', 'knowledgeable', 'consistent', 'teacher', 'willing', 'work', 'relationship', 'class'], ['guidance', 'counselor', 'scholarship', 'counselor'], ['basic', 'cafeteria', 'food', 'healthy', 'option'], ['amazing', 'teacher', 'demonstrate', 'ideal', 'teacher', 'spirit', 'low', 'end', 'teacher', 'critical', 'area', 'perfect', 'grade', 'advanced', 'class', 'skim', 'material'], ['athletic', 'program', 'enjoyable', 'variety', 'sport', 'athletic', 'fee', 'reasonable', 'price', 'uniform', 'travel', 'game', 'school', 'budget', 'tight', 'money', 'new', 'equipment', 'alternative', 'resource', 'garage', 'sale'], ['excellent', 'teacher', 'honor', 'class', 'dedicate', 'job', 'passion', 'student', 'success', 'knowledge', 'subject', 'hard', 'work', 'assign', 'grade', 'appropriate', 'paper', 'activity', 'genuine', 'interest', 'student', 'majority', 'teacher', 'satisfactory', 'good', 'amount', 'information', 'subject', 'average', 'good', 'communication', 'student', 'good', 'good', 'teaching', 'style', 'teacher', 'possess', 'little', 'intelligence', 'high', 'school', 'lack', 'intelligence', 'effort', 'progress', 'student'], ['course', 'dual', 'enrollment', 'course', 'honor', 'course', 'year', 'high', 'school', 'homework', 'college'], ['team', 'state', 'championship', 'good', 'terrible', 'average', 'team', 'student', 'council', 'pep', 'student', 'game', 'job', 'facility', 'good', 'big', 'problem', 'athletic', 'department', 'football', 'game', 'large', 'turnout', 'social', 'reason', 'football', 'team', 'joke'], ['facility', 'good', 'condition', 'technology', 'decent', 'tutoring', 'college', 'prep', 'resource', 'obscure', 'past', 'year', 'school', 'work', 'problem', 'success', 'teacher', 'people', 'friendly', 'helpful', 'human', 'personality', 'teacher', 'listen', 'student', 'problem'], ['experience', 'fortunate', 'good', 'teacher', 'couple', 'watch', 'clock', 'day', 'job', 'teacher', 'challenge', 'use', 'mind', 'hard', 'grade', 'able', 'school', 'quality', 'help', 'say', 'lot', 'teacher', 'pay', 'stay', 'early', 'love', 'job', 'want', 'student'], ['club', 'huge', 'effective', 'make', 'sense', 'body', 'club', 'name', 'call', 'club', 'less', 'club', 'information', 'club', 'club', 'several', 'athletic', 'program', 'good', 'coaching', 'support', 'staff', 'effective', 'athletic', 'program', 'desire', 'school', 'future', 'high', 'school', 'athlete'], ['overall', 'teacher', 'high', 'school', 'good', 'teacher', 'style', 'teacher', 'good', 'much', 'interest', 'student', 'talk', 'student', 'good', 'teacher', 'student', 'good'], ['problem', 'class', 'size', 'big', 'time', 'teacher'], ['old', 'overall', 'good', 'facility'], ['love', 'counselor', 'attendance', 'new', 'principal', 'great', 'job', 'school', 'fun', 'place', 'agree', 'policy', 'student', 'cell', 'phone', 'class', 'many', 'kid', 'abuse', 'right', 'cell', 'phone', 'kid', 'cell', 'phone', 'homework', 'next', 'day', 'kid', 'use', 'time', 'school', 'work', 'family', 'problem', 'internet', 'connection', 'right', 'abuse'], ['class', 'active', 'enough', 'easy', 'financial', 'problem', 'issue', 'lot', 'student', 'sport', 'football', 'coach', 'fire', 'player', 'game'], ['top', 'notch', 'lot', 'club', 'sport', 'way', 'academic', 'wise', 'good', 'school', 'lot', 'drug', 'influence'], ['much', 'occasional', 'fight', 'nurse', 'sick'], ['college', 'preparation', 'senior', 'ready', 'tot', 'college'], ['high', 'school', 'excellent', 'school', 'overall', 'school', 'numerous', 'sport', 'club', 'organization', 'variety', 'staff', 'helpful', 'satisfied', 'student', 'nice', 'rule', 'social', 'distancing', 'vaping'], ['high', 'school', 'amazing', 'experience', 'part', 'dance', 'program', 'year', 'discipline', 'responsibility', 'hardwork', 'teacher', 'staff', 'push', 'pass', 'limit'], ['love', 'diversity', 'gilbert', 'high', 'school', 'open', 'minded', 'due', 'student', 'staff', 'large', 'special', 'education', 'program', 'student', 'disability', 'mingle', 'student', 'meaningful', 'relationship', 'kindness', 'commonality', 'hallway', 'classroom'], ['professional', 'friendly', 'teacher', 'staff', 'admin', 'diverse', 'school', 'lot', 'experience', 'drive', 'teacher', 'successful', 'student', 'friendly', 'environment', 'several', 'career', 'opportunity', 'sport', 'event', 'college', 'fair'], ['love', 'high', 'friendly', 'supportive', 'teacher', 'student', 'day', 'afraid', 'question', 'help', 'teacher', 'extra', 'support', 'high', 'school', 'many', 'unique', 'class', 'offer', 'ffa', 'fashion', 'design', 'german', 'japanese', 'avid', 'much', 'opportunity', 'ready', 'success', 'library', 'office', 'scholarship', 'news', 'post', 'announcement', 'screen', 'new', 'management', 'little', 'care', 'concern', 'safe', 'education', 'student', 'overall', 'glad', 'part', 'extra', 'help', 'care', 'teacher', 'staff'], ['great', 'experience', 'gilbert', 'high', 'school', 'majority', 'teacher', 'genuine', 'grateful', 'call', 'tiger', 'life'], ['great', 'learning', 'environment', 'amazing', 'teacher', 'school', 'district', 'new', 'family', 'move', 'town'], ['aremany', 'different', 'class', 'take', 'limit', 'core', 'class', 'many', 'different', 'teacher', 'student', 'leway', 'issue', 'specific', 'transfer', 'thing', 'school', 'german', 'asl', 'spanish', 'japanese', 'foreign', 'language', 'french', 'standard', 'school', 'offer'], ['high', 'school', 'overall', 'good', 'school', 'teacher', 'cool', 'security', 'super', 'chill', 'student', 'principle', 'friendly', 'greet', 'student', 'gilbert', 'high', 'school', 'mixed', 'student', 'trouble', 'grade', 'college', 'bullying', 'fight', 'good', 'friend', 'high', 'school', 'grateful', 'experience', 'high', 'school', 'journey', 'class', 'fun', 'topic', 'teacher', 'school', 'counselor', 'college', 'scholarship', 'student', 'good', 'college', 'choice', 'senior', 'gilbert', 'high', 'school', 'experience', 'miss', 'college'], ['lot', 'student', 'different', 'ethnic', 'group', 'gilbert', 'teacher', 'part', 'lot', 'choice', 'lunch'], ['high', 'school', 'good', 'excellence', 'staff', 'student', 'teacher', 'job', 'many', 'club', 'activity', 'student', 'counselor', 'available', 'amazing', 'experience', 'part', 'year', 'tradition'], ['student', 'opportunity', 'help', 'guidance', 'life', 'academic', 'future', 'plan', 'administration', 'personal', 'proactive', 'student', 'success'], ['time', 'gilbert', 'high', 'school', 'lot', 'teacher', 'love', 'student', 'lot', 'high', 'school', 'student', 'body', 'faculty', 'art', 'cte', 'class', 'sport', 'people', 'school', 'love', 'school', 'offer', 'student'], ['high', 'school', 'nice', 'campus', 'year', 'big', 'presence', 'tradition', 'community', 'teacher', 'care', 'class', 'student', 'variety', 'elective', 'class', 'sport', 'team', 'coach', 'offer', 'honor', 'course'], ['good', 'public', 'school', 'safe', 'school', 'parent', 'good', 'job', 'prepare', 'kid', 'college', 'next', 'step', 'sport', 'great', 'child', 'opportunity', 'play'], ['high', 'school', 'teacher', 'student', 'work', 'lot'], ['high', 'school', 'staff', 'much', 'inform', 'new', 'upcoming', 'scholarship', 'fafsa', 'way', 'help', 'future'], ['high', 'school', 'great', 'school', 'opportunity', 'average', 'student', 'example', 'teacher', 'kid', 'regular', 'class', 'honor', 'class'], ['freshman', 'year', 'love', 'teacher', 'great', 'people', 'able', 'firm', 'support', 'system', 'early', 'sophomore', 'year', 'wild', 'ride', 'new', 'people', 'new', 'drama', 'important', 'focus', 'junior', 'year', 'lucky', 'inner', 'working', 'school', 'respond', 'problem', 'school', 'avoidance', 'library', 'lack', 'information', 'scholarship', 'college', 'application', 'counselor', 'grateful', 'witness', 'change', 'gilbert', 'high', 'school', 'school', 'spirited', 'place', 'proud', 'graduate'], ['love', 'teacher', 'support', 'high', 'school', 'many', 'academic', 'opportunity', 'many', 'high', 'school'], ['high', 'good', 'school', 'teacher', 'good', 'student', 'enjoyable', 'friendship', 'unbreakable'], ['little', 'violence', 'drug', 'daughter', 'iep', 'special', 'education', 'teacher', 'caring', 'way', 'sure', 'good', 'help'], ['gilbert', 'high', 'school', 'teacher', 'favorite', 'teacher', 'lot', 'teacher', 'subject', 'many', 'second', 'chance', 'teacher', 'high', 'care', 'education', 'personal', 'life', 'important', 'student'], ['people', 'school', 'people'], ['senior', 'gilbert', 'high', 'school', 'gilbert', 'interesting', 'high', 'school', 'roller', 'coaster', 'freshman', 'year', 'health', 'issue', 'faculty', 'gilbert', 'understand', 'group', 'people', 'guidance', 'counselor', 'teacher', 'sure', 'graduate', 'color', 'matter', 'circumstance', 'avid', 'year', 'high', 'school', 'program', 'reason', 'first', 'generation', 'college', 'student', 'avid', 'teacher', 'sure', 'graduate', 'track', 'many', 'great', 'thing', 'great', 'word', 'school'], ['experience', 'gilbert', 'high', 'school', 'wonderful', 'teacher', 'supportive', 'individual', 'student', 'bad', 'egg', 'none', 'wich', 'extra', 'hard', 'homework', 'time', 'good', 'tword', 'college', 'education'], ['high', 'home', 'year', 'baseball', 'new', 'friend', 'passion', 'teacher', 'great', 'counselor', 'available', 'strong', 'push', 'help', 'student', 'college', 'facility', 'great', 'student', 'crazy', 'school', 'spirit', 'enjoyable', 'experience'], ['scared', 'high', 'school', 'freshman', 'lot', 'upperclassman', 'friendly', 'many', 'teacher', 'gilbert', 'high', 'school', 'proud', 'high', 'school', 'high', 'goal'], ['past', 'year', 'high', 'general', 'teacher', 'nice', 'helpful', 'curriculum', 'whack', 'testing', 'state', 'popular', 'lot', 'people', 'lunch', 'good', 'school', 'spirit', 'improvement', 'communication', 'school', 'event', 'student', 'council', 'student', 'body', 'good', 'variety', 'class', 'offer'], ['high', 'school', 'blast', 'love', 'school', 'event', 'dress', 'opportunity', 'amazing', 'teacher', 'year', 'gilbert'], ['high', 'school', 'locate', 'nice', 'location', 'teacher', 'employee', 'great', 'job', 'school', 'lot', 'activity'], ['overall', 'school', 'student', 'pleasant', 'work', 'teaching', 'staff', 'good', 'country', 'athletic', 'top', 'state', 'administrative', 'staff', 'second', 'none', 'placement', 'program', 'gilbert', 'good', 'good', 'school', 'occasional', 'problem', 'drastic', 'teacher', 'cheat', 'scandal', 'school', 'incoming', 'freshman', 'transfer', 'high', 'year'], ['nervous', 'high', 'school', 'gilbert', 'large', 'crazy', 'school', 'time', 'culture', 'education', 'great', 'amount', 'history', 'teacher', 'help', 'score', 'class', 'math', 'teacher', 'brilliant', 'exception', 'good', 'learn', 'gilbert', 'time'], ['high', 'school', 'school', 'aim', 'student', 'bright', 'successful', 'future', 'help', 'student', 'edge', 'college', 'emphasis', 'dual', 'enrollment', 'course', 'school', 'great', 'program', 'multitude', 'subject', 'rotc', 'meat', 'teacher', 'efficient', 'subject', 'friendly', 'helpful', 'attitude', 'parent', 'problem', 'high', 'school', 'juuling', 'vaping', 'problem', 'juul', 'vape', 'popular', 'student', 'skip', 'class', 'big', 'complaint', 'gilbert', 'high', 'school'], ['high', 'school', 'academic', 'people', 'teacher', 'nice', 'accommodate', 'change', 'teacher', 'time', 'many', 'teacher', 'actual', 'class', 'note'], ['high', 'school', 'lot', 'fun', 'lot', 'activity', 'school', 'run', 'kid', 'campus', 'smart', 'creative', 'work', 'good', 'activity', 'fun', 'possible', 'student', 'teacher', 'teacher', 'school', 'attitude', 'little', 'bit', 'kid', 'school', 'school', 'time', 'necessary', 'evil', 'strict', 'watch', 'tobacco', 'product', 'campus'], ['high', 'school', 'student', 'council', 'entire', 'high', 'school', 'experience', 'scene', 'work', 'hard', 'work', 'dedication', 'run', 'gilbert', 'high', 'school', 'struggle', 'fellow', 'classmate', 'administration', 'difficult', 'talk', 'busy', 'political', 'issue', 'decent', 'high', 'school', 'issue', 'school'], ['teacher', 'high', 'success', 'student', 'band', 'program', 'clicky', 'people', 'nice'], ['high', 'school', 'diverse', 'welcome', 'school', 'staff', 'helpful', 'teacher', 'office', 'staff', 'security'], ['high', 'school', 'nice', 'welcome', 'high', 'school', 'nice', 'feel'], ['gh', 'many', 'academic', 'music', 'program', 'teacher', 'care', 'care', 'student', 'principal', 'academic', 'success', 'professional', 'growth', 'teacher'], ['great', 'offer', 'variety', 'opportunity', 'acedemic', 'extra', 'curricular', 'maintenance', 'slow', 'short', 'staff', 'great', 'teacher', 'mellow', 'environment'], ['great', 'school', 'real', 'complaint', 'teacher', 'amazing', 'able', 'lot', 'tutoring', 'school'], ['high', 'place', 'hate', 'student', 'club'], ['experience', 'school', 'great', 'friend', 'teacher', 'polite', 'funny', 'crazy', 'junior', 'high', 'recommend', 'school', 'fun', 'time'], ['year', 'gilbert', 'high', 'school', 'love', 'marching', 'band', 'able', 'football', 'game', 'competition', 'lot', 'new', 'people', 'regard', 'dress', 'code'], ['gilbert', 'high', 'school', 'junior', 'senior', 'year', 'high', 'school', 'time', 'part', 'previous', 'school', 'mesquite', 'high', 'school', 'join', 'track', 'field', 'great', 'time', 'sport'], ['teacher', 'student', 'staff', 'faculty', 'school', 'good', 'year', 'life', 'day', 'hope', 'kid'], ['wonderful', 'experience', 'student', 'high', 'school', 'variety', 'way', 'school'], ['school', 'love', 'friend', 'perfect', 'home', 'teacher', 'wonderful', 'people', 'responsible', 'young', 'learner'], ['high', 'school', 'exception', 'school', 'much', 'offer', 'elective', 'foreign', 'language', 'club', 'school', 'world', 'bump', 'system', 'school', 'faculty', 'communicate', 'student', 'great', 'public', 'school'], ['high', 'school', 'fine', 'institution', 'term', 'public', 'school', 'fine', 'share', 'amazing', 'teacher', 'fine', 'faculty', 'school', 'short', 'fail', 'student', 'thing', 'information', 'college', 'application', 'college', 'readiness', 'many', 'student', 'idea', 'counselor', 'much', 'work', 'schedule', 'large', 'student', 'body', 'student', 'help', 'gilbert', 'high', 'school', 'fun', 'safe', 'smart', 'place', 'student'], ['high', 'academia', 'sport', 'teacher', 'fantastic', 'job', 'student', 'thing', 'music', 'program'], ['senior', 'first', 'last', 'year', 'high', 'school', 'course', 'high', 'change', 'activity', 'school', 'pep', 'rally', 'low', 'school', 'board', 'inspire', 'student', 'gilbert', 'high', 'senior', 'much', 'gilbert'], ['good', 'time', 'school', 'group', 'incorporation', 'support', 'group', 'certain', 'area', 'overall', 'experience', 'high', 'school', 'good'], ['teacher', 'school', 'student'], ['high', 'school', 'matter', 'race', 'sex', 'religion', 'student', 'welcoming', 'peer', 'gilbert', 'high', 'tolerance', 'witness', 'bully', 'peer', 'pressure', 'action', 'student', 'staff', 'person', 'safe', 'campus', 'student'], ['school', 'wide', 'variety', 'extracurricular', 'opportunity', 'many', 'diverse', 'extracurricular', 'activity', 'possible', 'student', 'interested', 'club', 'daily', 'commitment', 'require', 'week', 'commitment', 'student', 'activity', 'club', 'suit', 'good', 'sport', 'gilbert', 'good', 'reputation', 'football', 'team', 'important', 'club', 'high', 'backbone', 'school', 'spirit', 'many', 'student', 'opportunity', 'fun', 'opportunity', 'school'], ['rate', 'time', 'gilbert', 'high', 'school', 'great', 'school', 'positive', 'place', 'mature', 'high', 'fun', 'student', 'activity', 'pep', 'assembly', 'sport', 'game', 'school', 'dance', 'school', 'life', 'college', 'career'], ['teacher', 'high', 'school', 'overall', 'experience', 'teacher', 'student', 'learning', 'experience', 'available', 'student', 'help', 'part', 'struggle', 'student', 'teacher', 'helpful', 'lesson', 'project'], ['teacher', 'student', 'sure', 'student', 'class', 'sign'], ['secire', 'school', 'campus', 'police', 'officer', 'sercurity', 'officer', 'student', 'safe', 'care', 'staff'], ['gilbert', 'high', 'high', 'attendance', 'people', 'support', 'student', 'section', 'sport', 'overall', 'gilbert', 'many', 'people', 'bad', 'school', 'people', 'different', 'school', 'wish', 'new', 'school'], ['majority', 'teacher', 'nice', 'full', 'knowledge', 'wish', 'real', 'life', 'situation', 'good', 'way', 'interest', 'teacher', 'lesson', 'interesting', 'student', 'life', 'majority', 'time', 'teacher', 'personal', 'story', 'real', 'life', 'help', 'well', 'person', 'day'], ['school', 'diverse', 'district', 'part'], ['school', 'power', 'stop'], ['teacher', 'school', 'interesting', 'teacher', 'flat', 'overall', 'great', 'school'], ['doe', 'thing', 'school', 'student', 'opportunity', 'escape', 'classroom', 'hour', 'joy', 'activity', 'football', 'game', 'campus', 'community'], ['teacher', 'high', 'school', 'passion', 'knowledge', 'information', 'student', 'subject', 'strong', 'group', 'instructor', 'work', 'engaging', 'understandable', 'lesson', 'teacher', 'stress', 'importance', 'participation', 'student', 'study', 'habit', 'work', 'part', 'high', 'school', 'journey'], ['favorite', 'experience', 'play', 'field', 'school', 'exciting', 'support', 'parent', 'cheer', 'cold', 'many', 'student', 'basketball', 'time', 'game', 'blame', 'heated', 'room', 'cold', 'night', 'watch', 'girl', 'soccer'], ['high', 'extracurricular', 'opportunity', 'student', 'educational', 'club', 'national', 'honor', 'debate', 'club', 'different', 'kind', 'sport', 'language', 'club', 'fine', 'art', 'club', 'culinary', 'club', 'club', 'people', 'athletic', 'artistic', 'movie', 'club', 'video', 'game', 'club', 'club', 'help', 'member', 'leadership', 'skill', 'social', 'skill', 'order', 'club', 'list', 'member', 'volunteer', 'twice', 'year', 'club', 'opportunity'], ['high', 'unique', 'student', 'faculty', 'positive', 'people', 'love', 'faculty', 'tight', 'people', 'sure', 'day', 'safe'], ['student', 'gilbert', 'high', 'school', 'strive', 'health', 'student', 'struggle', 'school', 'multiple', 'resource'], ['wide', 'variety', 'club', 'organization', 'club', 'available', 'fun', 'club', 'different', 'educational', 'interest'], ['high', 'school', 'fun', 'safe', 'environment', 'student', 'high', 'quality', 'education', 'many', 'time', 'school', 'next', 'day'], ['teacher', 'nice', 'supportive'], ['part', 'club', 'due', 'school', 'club', 'sport', 'nhs', 'unable', 'meeting', 'kick'], ['teacher', 'fantastic', 'care', 'student', 'teacher', 'struggle', 'peace', 'class'], ['school', 'great', 'place', 'hate', 'school'], ['teacher', 'much', 'student', 'sure', 'student', 'lesson', 'different'], ['many', 'different', 'school', 'club', 'student', 'fun', 'student', 'many', 'new', 'friend'], ['extracurricular', 'good', 'nice', 'variety', 'activity', 'school', 'club', 'club', 'level', 'participation', 'club', 'high', 'participation', 'rate', 'pretty', 'average', 'rate', 'overall', 'extracurricular', 'rounded', 'well', 'support', 'school'], ['part', 'multiple', 'club', 'plenty', 'elective', 'display', 'diversity', 'educational', 'environment', 'school', 'student', 'able', 'participate', 'club', 'occasion', 'staff', 'student', 'wish', 'accomplish'], ['teacher', 'helpful', 'time', 'mutual', 'respect', 'student', 'teacher', 'teacher', 'respect', 'care', 'student', 'idea', 'life', 'development', 'turn', 'student', 'care', 'teacher', 'respect', 'authority', 'classroom', 'teacher', 'active', 'club', 'school', 'activity', 'many', 'sport', 'game', 'year', 'art', 'performance', 'annual', 'play', 'dance', 'concert', 'teacher', 'student', 'extra', 'help', 'lesson', 'wonderful', 'teacher', 'care', 'school', 'student', 'exciting', 'atmosphere'], ['safe', 'gilbert', 'teacher', 'staff', 'scared', 'safety', 'gilbert', 'high', 'school'], ['love', 'high', 'school', 'big', 'family', 'cheer', 'milestone', 'high', 'school', 'parent', 'good', 'student', 'volunteer', 'show', 'major', 'event'], ['good', 'teacher', 'year', 'gilbert', 'high', 'school', 'curriculum', 'great', 'friendship', 'teacher', 'last', 'lifetime', 'teacher', 'sure', 'student', 'track', 'important', 'motivate', 'good'], ['good', 'thing', 'good', 'thing', 'drug', 'check', 'weapon', 'security', 'guard', 'officer', 'armed', 'sign', 'requirement'], ['many', 'teacher', 'great', 'job', 'sure', 'student', 'material', 'cover', 'time', 'extra', 'lesson', 'tutor', 'time'], ['knowledgeable', 'experienced', 'teacher', 'year', 'bad', 'past', 'year', 'course', 'outline', 'class', 'bind', 'drop', 'grade', 'teacher', 'communication', 'mediocre', 'part', 'least', 'whole', 'class'], ['much', 'concern', 'safety', 'wise', 'multiple', 'security', 'guard', 'campus', 'police', 'officer', 'violence', 'uncommon', 'high', 'school', 'drug', 'prevalent', 'easy', 'drug', 'alcohol', 'simple', 'find'], ['love', 'school', 'teacher', 'great', 'teaching', 'good', 'help', 'good', 'ability', 'chemistry'], ['teacher', 'good', 'different', 'concept'], ['bully', 'school', 'security', 'officer', 'duty', 'sure', 'touch', 'student', 'approachable'], ['school', 'sport', 'club', 'sun', 'existence', 'student', 'start', 'club', 'student', 'teacher', 'opportunity', 'endless'], ['many', 'opportunity', 'school', 'student', 'fine', 'art', 'physical', 'education', 'computer', 'number', 'elective', 'give', 'student', 'chance', 'new', 'thing'], ['teacher', 'genuine', 'teacher', 'student', 'success', 'extracurricular', 'activity'], ['gh', 'great', 'variety', 'club', 'student', 'opportunity', 'new', 'club', 'student', 'club', 'party', 'club', 'interest'], ['great', 'gilbert', 'high', 'school', 'good', 'active', 'school', 'community', 'club', 'art', 'club', 'history', 'club', 'tiger', 'crew', 'club', 'volunteer', 'club', 'student', 'willing', 'talk', 'new', 'face', 'environment', 'school', 'spirit'], ['overall', 'high', 'school', 'experience', 'great', 'person', 'many', 'fun', 'thing', 'year', 'gilbert', 'high', 'fantastic', 'chance', 'pep', 'assembly', 'dance', 'concert', 'cheer', 'sideline', 'football', 'game', 'basketball', 'halftime', 'course', 'school', 'dance', 'thing', 'thing', 'chance', 'year', 'high', 'school', 'year', 'love', 'school', 'awesome', 'different', 'atmosphere', 'new', 'people'], ['teacher', 'gh', 'student', 'teacher', 'relationship', 'big', 'deal', 'willing', 'teacher', 'interest'], ['workload', 'perfect', 'little', 'good', 'grade', 'gilbert', 'assignment'], ['teacher', 'student', 'classroom', 'help', 'future'], ['extracurricular', 'gilbert', 'high', 'level', 'commitment', 'ton', 'different', 'club'], ['teacher', 'school', 'good', 'way', 'approach', 'topic', 'lesson', 'feed', 'mind', 'student', 'grapple', 'subject', 'able', 'engage', 'self', 'classroom'], ['threaten', 'gilbert', 'people'], ['alpha', 'theta', 'math', 'club', 'chess', 'technology', 'club', 'alpha', 'theta', 'importance', 'communicate', 'idea', 'peer', 'several', 'group', 'math', 'science', 'competition', 'community', 'college', 'president', 'robotic', 'division', 'technology', 'club', 'robot', 'code', 'much', 'robotic', 'lesson', 'chess', 'club', 'great', 'chess', 'team', 'many', 'state', 'competition', 'athletic', 'team', 'competitive', 'win'], ['financial', 'support', 'club', 'project', 'hard', 'thing', 'support', 'administrator', 'student', 'run', 'technology', 'club', 'buy', 'dollar', 'kit', 'salvage', 'electronic', 'old', 'device', 'motor', 'sensor', 'microcontroller', 'accomplish', 'goal'], ['high', 'school', 'many', 'program', 'offer', 'opportunity', 'gilbert', 'easy', 'school', 'mathematic', 'social', 'skill', 'gilbert', 'good', 'education', 'good', 'learning', 'experience'], ['high', 'school', 'great', 'compare', 'school', 'diverse', 'selection', 'course', 'choose', 'requirement', 'class', 'fine', 'art', 'cte', 'credit', 'school', 'choice', 'thing', 'high', 'school', 'security', 'guard', 'much', 'respect', 'favorite', 'experience', 'gilbert', 'football', 'game', 'lose', 'way', 'win', 'baseball', 'team', 'great', 'memory', 'friendship', 'angry', 'junior', 'merit', 'test', 'last', 'year', 'finish', 'day', 'week', 'test', 'complete', 'waste', 'time'], ['love', 'gilbert', 'world', 'teacher', 'work', 'student', 'sure'], ['love', 'school', 'wish', 'push', 'community', 'conservative', 'value'], ['high', 'school', 'great', 'slack', 'high', 'school', 'ready', 'college'], ['school', 'amazing', 'faculty', 'care', 'student', 'student', 'nice', 'big', 'family'], ['time', 'high', 'school', 'blast', 'student', 'full', 'light', 'spirit', 'want', 'number', 'club', 'activity', 'school', 'endless', 'student', 'bind', 'love', 'teacher', 'challenge', 'good', 'challenge', 'student', 'need', 'favorite', 'thing', 'high', 'teacher', 'care', 'student', 'material', 'student', 'gilbert', 'diverse'], ['diversity', 'kid', 'school', 'teacher'], ['sport', 'club', 'event', 'trust', 'many', 'friend', 'way', 'new', 'student', 'senior', 'year', 'club', 'friend', 'crazy', 'spirit', 'big', 'thing', 'game', 'pep', 'rally', 'lot', 'fun'], ['year', 'different', 'experience', 'freshman', 'year', 'school', 'much', 'struggle', 'academic', 'result', 'teacher', 'much', 'new', 'high', 'school', 'student', 'extracurricular', 'activity', 'sophomore', 'year', 'amazing', 'teacher', 'extracurricular', 'activity', 'open', 'horizon', 'many', 'new', 'people', 'senior', 'year', 'overall', 'positive', 'experience', 'gilbert'], ['student', 'cheat'], ['grade', 'accord', 'syllabus', 'love', 'way', 'real', 'life', 'example', 'classroom', 'subject'], ['teacher', 'real', 'world', 'ready', 'cruel', 'lonely', 'world', 'able', 'bad', 'fair', 'good', 'work', 'graduation'], ['year', 'high', 'school', 'enjoyable', 'life', 'long', 'friend', 'great', 'memory', 'different', 'activity', 'school', 'excellence', 'high', 'gilbert', 'care', 'bully', 'teacher', 'class', 'student', 'good', 'mood', 'school', 'radiate', 'school', 'spirit', 'new', 'success', 'year'], ['teacher', 'wonderful', 'lot', 'due', 'structured', 'learning', 'process', 'gilbert'], ['health', 'safety', 'resource'], ['healthy', 'option', 'available', 'bad'], ['great', 'importance', 'school', 'spirit', 'student', 'council'], ['individual', 'teacher', 'hinder', 'learning', 'experience', 'student', 'teacher', 'great', 'impact', 'student'], ['plenty', 'club', 'actual', 'student', 'involvement', 'lack'], ['available', 'student', 'guidance', 'counselor', 'college', 'prep', 'resource', 'tutoring', 'technology', 'student', 'advantage', 'offer'], ['teacher', 'unique', 'staff', 'assist', 'student', 'advantage', 'school', 'great', 'support', 'great', 'teacher', 'much', 'support', 'organization', 'possible', 'content', 'academic', 'school', 'activity'], ['much', 'student', 'school', 'club', 'unaware', 'club', 'lack', 'promotion', 'club', 'issue', 'student', 'student', 'club', 'responsibility'], ['teacher', 'school', 'helpful', 'student', 'material'], ['prepared', 'college', 'school'], ['high', 'school', 'great', 'academic', 'teacher', 'work', 'much', 'possible', 'scheduling', 'class', 'easy', 'workload', 'moderate'], ['quality', 'teacher', 'high', 'school', 'overall', 'great', 'teacher', 'knowledgeable', 'interested', 'student', 'know', 'student', 'personal', 'level', 'many', 'teacher', 'power', 'point', 'lecture', 'note', 'teacher', 'school', 'circumstance', 'teacher', 'high', 'school', 'profound', 'impact', 'life', 'treasure', 'rest', 'life'], ['security', 'officer', 'good', 'job', 'peace', 'large', 'school'], ['athletic', 'fitness', 'opportunity', 'school', 'great'], ['many', 'amazing', 'teacher', 'english', 'department', 'different', 'hard', 'way'], ['high', 'school', 'place', 'hate', 'school', 'show', 'much', 'school', 'many', 'people', 'people'], ['teacher', 'high', 'school', 'stay', 'pay', 'lot', 'care', 'love', 'senior', 'year', 'bit', 'teacher', 'taste', 'reality'], ['administration', 'active', 'role', 'sure', 'student', 'faculty', 'member', 'able', 'safe', 'friendly', 'environment'], ['student', 'gilbert', 'high', 'participate', 'sport', 'football', 'cheer', 'golf', 'tournament'], ['thing', 'gilbert', 'high', 'school', 'teacher', 'curriculum', 'teacher', 'new', 'part', 'process', 'good', 'ability', 'curriculum', 'difficult', 'easy', 'feel', 'chance', 'challenge', 'school', 'workload', 'class', 'heavy', 'understandably', 'honor', 'class'], ['lot', 'athletic', 'opportunity', 'school'], ['school', 'safe', 'healthy', 'secure'], ['counselor', 'cool', 'help', 'lot', 'college'], ['people', 'nice'], ['teaching', 'great', 'student', 'respect', 'teacher', 'teacher', 'care', 'student', 'use', 'lot', 'note', 'teaching', 'strategy'], ['high', 'great', 'school', 'teacher', 'care', 'student', 'good', 'people', 'class', 'class', 'school', 'unique', 'event', 'pep', 'assembly', 'school', 'dance', 'different', 'thing', 'lunch', 'high', 'school', 'fun', 'safe', 'learning', 'environment'], ['facility', 'nice', 'sure', 'good', 'possible', 'shape', 'student', 'clean', 'faculty', 'school', 'opinion', 'great', 'exception', 'care', 'student'], ['overall', 'good', 'experience', 'school', 'well', 'school'], ['much', 'nurse', 'office', 'school', 'safe', 'fight', 'bullying', 'school'], ['whole', 'lot', 'extracurricular', 'activity', 'choir', 'amazing', 'experience', 'great', 'voice', 'music', 'enjoyment', 'singing', 'attitude'], ['school', 'lot', 'school', 'spirit', 'much', 'school', 'good', 'normal', 'sport', 'football', 'basketball', 'volleyball', 'team', 'good', 'band', 'color', 'guard', 'excellent', 'fact', 'year', 'band', 'new', 'year', 'celebration'], ['school', 'good', 'school', 'certain', 'problem', 'drug', 'good', 'school', 'pleasure', 'good', 'art', 'performance', 'section', 'school', 'wide', 'variety', 'class', 'auto', 'animation', 'financial', 'app'], ['school', 'great', 'opportunity', 'extracurricular', 'successful'], ['diverse', 'topic', 'student'], ['diverse', 'style', 'gilbert', 'high', 'school', 'great', 'teaching', 'skill'], ['student', 'school', 'contagious', 'sickness', 'disease', 'ill'], ['graduation', 'experience', 'great', 'lot', 'opportunity', 'able', 'experience'], ['athletic', 'fitness', 'opportunity', 'vast'], ['lot', 'diversity', 'personal', 'group', 'friend', 'similar'], ['unsafe', 'school', 'health', 'system', 'mom', 'work', 'campus', 'time', 'nice'], ['wide', 'variety', 'class', 'graduate', 'plan', 'interesting', 'class', 'budget', 'cut'], ['counselor', 'school', 'help', 'college', 'store'], ['ton', 'different', 'club', 'people'], ['administrator', 'fair', 'appropriate', 'punishment', 'base', 'action'], ['many', 'extracurricular', 'activity', 'student', 'ability'], ['many', 'diverse', 'class', 'available', 'school', 'many', 'normal', 'class', 'honor', 'course', 'place', 'class', 'available', 'interest'], ['school', 'much', 'join', 'tiger', 'town', 'good', 'decision', 'advice'], ['many', 'different', 'food', 'option', 'unsure', 'special', 'dietary', 'option', 'milk', 'fruit', 'veggie'], ['teacher', 'intelligent', 'subject', 'teacher', 'life', 'matter', 'student', 'able', 'friend', 'cross', 'student', 'teacher', 'relationship', 'boundary', 'plenty', 'extra', 'help'], ['lot', 'people', 'sport', 'many', 'different', 'sport', 'option'], ['teacher', 'fantastic', 'student', 'disrespect', 'teacher', 'terrible', 'afraid', 'speak', 'evolution', 'religion', 'gay', 'right', 'fear', 'upset', 'school', 'board', 'mormon', 'community'], ['many', 'club', 'people', 'time', 'commitment', 'cost', 'money', 'sport', 'town', 'drama', 'club', 'good', 'club', 'gilbert'], ['policy', 'gilbert', 'high', 'strict', 'break', 'trouble', 'guidance', 'counselor', 'office', 'staff', 'wonderful', 'people', 'situation'], ['resource', 'available', 'student', 'fantastic'], ['memorable', 'moment', 'school', 'great', 'people'], ['many', 'course', 'teacher', 'easy', 'work'], ['teacher', 'amazing', 'put', 'effort', 'job', 'need', 'funny'], ['education', 'level', 'helpful', 'college', 'class', 'intelligent', 'enough', 'function', 'society'], ['parking', 'lot', 'big', 'attend', 'school', 'light', 'hallway', 'school', 'privileged', 'air', 'conditioning', 'technology'], ['education', 'school', 'great', 'lot', 'effort', 'school', 'discipline', 'academic', 'topic', 'lesson'], ['lot', 'school', 'focus', 'frequent', 'assembly', 'purpose', 'end', 'cruel', 'fellow', 'peer', 'complaint', 'school', 'due', 'decision', 'district', 'school', 'board', 'administration'], ['laptop', 'tablet', 'topic', 'politic', 'religion', 'unbiased'], ['engineering', 'base', 'class'], ['history', 'teacher', 'particular', 'good', 'language', 'teacher'], ['fashion', 'club', 'ffa', 'student', 'speak', 'club'], ['counselor', 'helpful', 'dress', 'code', 'constroversial', 'policy'], ['problem', 'sport', 'sport', 'facility', 'football', 'team', 'difficult', 'school', 'spirit'], ['many', 'different', 'thing', 'excellent', 'tasting', 'cost', 'food', 'little', 'expensive', 'side'], ['people', 'school', 'teacher', 'great', 'program', 'excellent', 'proud', 'part', 'ffa', 'program', 'proud', 'part', 'opportunity', 'compete', 'district', 'state', 'wide', 'competition', 'choir', 'fabulous', 'learning', 'experience'], ['teacher', 'school', 'student', 'job', 'successful', 'student', 'money', 'teacher', 'contact', 'enough', 'effort', 'class', 'student', 'easy', 'experience'], ['technology', 'school', 'top', 'notch', 'facility', 'clean', 'par'], ['school', 'environment', 'school', 'punish'], ['sport', 'gilbert', 'high', 'thing', 'pertain', 'sport', 'care'], ['year', 'teacher', 'effort', 'sure', 'student'], ['school', 'high', 'school', 'experience'], ['nurse', 'helpful', 'difficult', 'approach', 'problem'], ['high', 'school', 'experience', 'fantastic', 'love', 'people', 'activity', 'teacher', 'class', 'wish', 'school', 'little', 'strict', 'area', 'dress', 'code', 'much'], ['teacher', 'fair', 'school', 'many', 'different', 'program'], ['department', 'music', 'art', 'club', 'drama', 'sport'], ['school', 'main', 'sport', 'basketball', 'football', 'small', 'sport', 'recognition'], ['school', 'wide', 'variety', 'extracurricular', 'activity', 'type', 'people'], ['good', 'foundation', 'academic', 'teacher', 'different', 'policy', 'classroom'], ['majority', 'school', 'love', 'game', 'able', 'friend'], ['thing', 'choice', 'school'], ['fight', 'none', 'safe', 'area'], ['opinion', 'service', 'lunch', 'good', 'none', 'people', 'counter', 'mean', 'happy', 'interact', 'people', 'term', 'day', 'shame', 'lot', 'student', 'graditutde', 'worker', 'snub'], ['ton', 'club', 'activity', 'student', 'fun'], ['high', 'school', 'security', 'guard', 'campus', 'time', 'police', 'officer', 'safe', 'good', 'nurse', 'great', 'faculty', 'staff', 'work', 'gilbert', 'high', 'school'], ['high', 'school', 'variety', 'club', 'student', 'invisible', 'child', 'video', 'game', 'cooking', 'deca', 'culture', 'club', 'many'], ['new', 'enrichment', 'program', 'gilbert', 'student', 'class', 'pod', 'suditorium', 'work', 'class', 'good', 'thing', 'student', 'good', 'student', 'time', 'slack', 'pit', 'school', 'friend', 'project', 'college', 'relate', 'thing', 'need'], ['front', 'row', 'parking', 'senior', 'else', 'date', 'order'], ['athletic', 'scene', 'high', 'school', 'good', 'excellent', 'variety', 'sport', 'athletic', 'club', 'option', 'school', 'badminton', 'lacrosse', 'golf', 'win', 'game', 'student', 'athlete', 'hard', 'coach', 'motivated', 'work', 'lot', 'gilbert', 'sport', 'fun', 'student', 'different', 'area', 'interest', 'grade', 'level', 'strong', 'team'], ['teacher', 'whole', 'lot', 'teacher', 'school', 'work', 'help', 'student', 'people', 'fit', 'teacher'], ['school', 'bad', 'school', 'room', 'improvement', 'school', 'gilbert'], ['school', 'safe', 'lot', 'harmless'], ['game', 'many', 'student', 'great', 'spirit'], ['great', 'amount', 'school', 'activity', 'available', 'competitive', 'student', 'hard', 'part', 'team', 'available'], ['facility', 'resource', 'plentiful', 'gilbert', 'high', 'school', 'prep', 'course', 'help', 'lot', 'future'], ['many', 'club', 'available', 'school', 'popular', 'tiger', 'crew', 'tiger', 'town', 'tiger', 'crew', 'new', 'student', 'freshman', 'new', 'environment', 'tiger', 'town', 'trip', 'student', 'north', 'story', 'club', 'club', 'photography', 'club'], ['food', 'good', 'kosher', 'vegetarian', 'convenient', 'food', 'allergy', 'restriction'], ['academic', 'offer', 'general', 'study', 'advanced', 'placement', 'honor', 'class', 'many', 'choice', 'elective', 'metal', 'clay', 'band', 'orchestra'], ['many', 'different', 'sport', 'opportunity', 'available', 'student', 'coach', 'willing', 'work', 'student', 'schedule', 'plenty', 'fitness', 'center', 'locker', 'room', 'dance', 'room', 'excellent', 'training', 'room'], ['many', 'different', 'extracurricular', 'gilbert', 'meet', 'many', 'sport', 'cultural', 'club', 'drama', 'job', 'relate', 'club', 'great', 'club'], ['social', 'scene', 'great', 'student', 'friendly', 'much', 'violence', 'faculty', 'helpful', 'deal', 'student', 'problem'], ['school', 'health', 'program', 'nursing', 'athletic', 'training', 'department', 'prominent', 'professional', 'weapon', 'drug', 'alcohol', 'campus', 'care', 'see', 'search', 'issue'], ['sport', 'athletic', 'club', 'coach', 'push', 'fitness', 'excellent', 'job', 'conditioning', 'matter', 'sport', 'facility', 'issue', 'staff', 'athletic', 'professional', 'good', 'job'], ['vast', 'number', 'extracurricular', 'activity', 'society', 'many', 'club', 'athletic', 'extracurricular', 'activity'], ['social', 'scene', 'school', 'diverse', 'jock', 'popular', 'group', 'quiet', 'kid', 'kid', 'part', 'people'], ['student', 'high', 'school', 'spirited', 'time', 'cliquey', 'normal', 'social', 'group', 'high', 'amazing', 'school', 'thing', 'change', 'amount', 'seperation', 'school', 'event'], ['wide', 'range', 'resource', 'available', 'student', 'gilbert', 'high', 'nhs', 'everyday', 'teacher', 'available', 'private', 'tutoring', 'session', 'college', 'fair', 'informational', 'meeting', 'helpful', 'counselor', 'work', 'good', 'education'], ['high', 'school', 'sport', 'facility', 'team', 'average', 'new', 'weight', 'room', 'field', 'good', 'athlete', 'student', 'involvement', 'good', 'fan', 'game', 'school', 'function'], ['ton', 'club', 'sport', 'extracurricular', 'activity', 'student', 'softball', 'great', 'sport', 'team', 'good', 'school', 'program', 'good', 'kid', 'athletic', 'school', 'good', 'job'], ['care', 'gilbert', 'high', 'school', 'serious', 'safe', 'school'], ['school', 'good'], ['good', 'school', 'great', 'opportunity', 'ready', 'next', 'step', 'life'], ['school', 'facility', 'date', 'functional', 'good', 'good'], ['teacher', 'fantastic', 'student', 'help', 'student'], ['academic', 'value', 'variety', 'class', 'honor', 'several', 'trade', 'course', 'auto', 'welding', 'metal'], ['many', 'extra', 'curricular', 'activity', 'student', 'problem', 'force', 'fund', 'raise'], ['good', 'counselor', 'change', 'schedule'], ['school', 'junior', 'year', 'move', 'mile', 'home', 'town', 'huge', 'theater', 'program', 'favorite', 'part', 'school', 'involved', 'theater', 'senior', 'year', 'theater'], ['teacher', 'fun', 'foyu', 'understand', 'time', 'untill', 'many', 'different', 'class', 'range', 'metal', 'different', 'type', 'english', 'class', 'holocust'], ['school', 'welcome', 'peer', 'pressure', 'challenge', 'exsist', 'kid', 'different', 'country', 'ethnic', 'sexual', 'orientation', 'fun', 'memory', 'ofcourse', 'student', 'promblem', 'deal', 'ethnic', 'listen'], ['club', 'open', 'alot', 'oppruntie', 'student', 'club', 'yoy', 'new', 'skill', 'job', 'ffa'], ['school', 'rule', 'strict', 'violate', 'ress', 'code', 'warning', 'tell', 'cover', 'office', 'tolrate', 'stop', 'counselor', 'veery', 'helpful', 'need', 'time'], ['school', 'alright', 'day', 'day', 'activite', 'thing', 'love', 'school', 'friend', 'great', 'teacher', 'many', 'club', 'gaming', 'anime', 'culinary', 'school', 'gilbert', 'teacher', 'hilarious', 'fun'], ['much', 'year', 'wish', 'computer', 'take', 'field', 'trip', 'real', 'world', 'relate', 'topic'], ['lot', 'student', 'notice', 'administrator', 'senior', 'year', 'sure', 'graduate', 'life', 'plan'], ['security', 'student', 'parking', 'lot', 'feel', 'safe', 'security'], ['new', 'enrichment', 'schedule', 'year', 'uncalled', 'senior', 'campus', 'wide', 'whole', 'schedule', 'burden', 'teacher', 'schedule', 'day', 'student', 'pull', 'planner', 'figure', 'ring'], ['athletic', 'facility', 'outstanding', 'district', 'large', 'gym', 'new', 'track', 'outstanding', 'school', 'spirt', 'cheer', 'athlete', 'school', 'spirt', 'team', 'athlete', 'good'], ['love', 'school', 'wish', 'class', 'available', 'emphasis', 'support', 'variety', 'club', 'campus', 'school', 'outstanding', 'proud', 'part', 'school'], ['academic', 'offer', 'school', 'hard', 'work', 'student', 'course', 'auto', 'mechanic', 'course', 'evit', 'offer', 'avid', 'ace', 'many', 'program'], ['safe', 'school', 'security', 'officer', 'patrol', 'school', 'parking', 'lot', 'nice', 'visitor', 'school', 'lockdown', 'occasion', 'faculty', 'incident', 'threat'], ['faculty', 'educator', 'school', 'issue', 'problem', 'student', 'tolerate'], ['plenty', 'sport', 'opportunity', 'school', 'many', 'student', 'area', 'large', 'community', 'much', 'enthusiasm', 'sport', 'season', 'fan', 'base', 'spirit', 'program', 'offer', 'good'], ['many', 'diverse', 'interesting', 'club', 'organization', 'high', 'school', 'intrigue', 'buddy', 'club', 'mainstream', 'student', 'help', 'special', 'need', 'important', 'typical', 'high', 'school', 'setting', 'important', 'sure', 'people', 'worth', 'matter', 'obstacle', 'club', 'satisfy', 'emotion'], ['school', 'love', 'marching', 'band', 'program', 'wide', 'variety', 'opportunity', 'high', 'school', 'experience'], ['resource', 'available', 'student', 'hand', 'example', 'tutoring', 'minute', 'help', 'need', 'building', 'paint', 'school', 'brick', 'expose'], ['dress', 'code', 'girl', 'school', 'total', 'booty', 'short', 'sheer', 'shirt', 'bra'], ['band', 'practice', 'field', 'poor', 'condition', 'football', 'field', 'track', 'top', 'shape'], ['many', 'different', 'type', 'culture', 'high', 'school', 'class', 'student', 'world', 'part', 'unusual', 'highschool', 'size', 'high', 'reason', 'comfortable', 'school', 'glad', 'gilbert', 'tiger'], ['alot', 'club', 'chess', 'good', 'football', 'suck'], ['lockdown', 'year', 'due', 'outside', 'threat', 'community', 'overall', 'safe', 'school', 'little', 'problem'], ['love', 'year', 'gilbert', 'high', 'school', 'friend', 'several', 'club', 'softball', 'year', 'athletic', 'end', 'ghs', 'improvement', 'poor', 'coaching', 'sister', 'graduate', 'form', 'ghs', 'experience', 'different', 'student', 'personality', 'experience', 'high', 'school'], ['track', 'little', 'mess', 'facility', 'nice', 'locker', 'room'], ['safe', 'security', 'guard', 'area', 'school', 'many', 'threat', 'lockdown'], ['teacher', 'student', 'student', 'high', 'degree', 'teacher', 'respect', 'time', 'style', 'varry', 'quality', 'school', 'dedication', 'teacher', 'student', 'utmost', 'success'], ['student', 'sexual', 'orientation', 'people', 'difference', 'discriminatory', 'different', 'sexual', 'orientation'], ['school', 'diverse', 'different', 'ethnic', 'background', 'sexual', 'orientation', 'religious', 'preference', 'income', 'level', 'peer', 'pressure', 'high', 'school', 'many', 'extracurricular', 'activity', 'academic', 'club', 'student', 'many', 'way'], ['lot', 'choice', 'lunch', 'school', 'personal', 'choice'], ['lot', 'pride', 'school', 'lot', 'good', 'friend', 'benefit', 'instruction', 'amazing', 'individual', 'lot', 'opportunity', 'club', 'class', 'able', 'bond', 'share', 'interest', 'school', 'lot', 'sport', 'team', 'good', 'lot', 'witness', 'game', 'campus', 'wish', 'way', 'people', 'class', 'class', 'average', 'student', 'know', 'lot', 'people', 'many', 'student', 'glad', 'high', 'school'], ['teacher', 'little', 'bit', 'old', 'good', 'thing', 'experience', 'young', 'teacher', 'excitement', 'motivation', 'energetic', 'positive', 'attitude'], ['high', 'full', 'school', 'spirit', 'dedicated', 'athlete'], ['club', 'sport', 'school', 'club', 'sport', 'teacher', 'willing', 'run', 'problem', 'club', 'money', 'fund', 'school'], ['many', 'class', 'ready', 'college', 'life', 'transfer', 'college', 'problem', 'class', 'base', 'real', 'world', 'financial', 'application', 'class', 'prepared', 'handle', 'finance'], ['teacher', 'excellent', 'care', 'student', 'student', 'teacher', 'many', 'year', 'easy', 'ready', 'plan', 'school', 'year', 'teacher', 'unprepared', 'good', 'learning', 'environment'], [], ['consuler', 'help', 'technology', 'need', 'school', 'building', 'care', 'everytime', 'break', 'staff', 'care'], ['high', 'school', 'lot', 'diversity', 'race', 'religious', 'belief', 'student', 'need', 'help', 'student', 'sick', 'disease', 'death', 'big', 'problem', 'person', 'health', 'student', 'different', 'sexual', 'orientation'], ['lot', 'trouble', 'sexual', 'orientation', 'people', 'sort', 'people', 'mormon', 'annoying'], ['lot', 'extracurricular', 'activity', 'club', 'curriculum'], ['school', 'temptation', 'majority', 'student', 'body', 'people'], ['large', 'selection', 'good', 'food', 'meal', 'good'], ['guidance', 'counselor', 'helpful', 'initiate', 'contact', 'anti', 'defamation', 'league', 'adl', 'bully', 'dress', 'code', 'reasonable', 'problem', 'dress', 'code', 'overblown', 'issue', 'club', 'shirt', 'questionable', 'content', 'ban', 'club', 'shirt', 'showcase', 'student', 'involvement', 'difficult'], ['class', 'honor', 'dual', 'enrollment', 'teacher', 'pile', 'bit', 'much', 'name', 'college', 'preparation', 'prepared', 'result'], ['wide', 'variety', 'club', 'sport', 'extracurricular', 'participation', 'participant', 'faculty', 'sponsor', 'new', 'club'], ['high', 'dual', 'enrollment', 'class', 'take', 'college', 'credit', 'great', 'leadership', 'diveristy', 'appreciation', 'opportunity', 'cheer', 'football', 'basketball', 'volleyball', 'fun'], ['high', 'school', 'word', 'unique', 'club', 'program', 'available', 'program', 'awareness', 'different', 'high', 'way', 'student', 'proper', 'teaching', 'glad', 'ready', 'move', 'hope', 'day', 'school', 'demonstrate', 'characteristic', 'gilbert'], ['security', 'patrol', 'local', 'police', 'officer', 'hand', 'assist', 'unusual', 'amount', 'fire', 'alarm'], ['high', 'school', 'great', 'club', 'sport', 'program', 'amazing', 'motivational', 'teacher', 'willing', 'help', 'high', 'school', 'career', 'time', 'air', 'unit', 'good', 'state', 'drama', 'club', 'good', 'state', 'club', 'fill', 'people', 'second', 'family'], ['member', 'band', 'winter', 'guard', 'marvelous', 'program'], ['ton', 'security', 'campus', 'case', 'job', 'protect', 'student', 'alright', 'school', 'nurse', 'helpful', 'health', 'class', 'school'], ['orderly', 'fashion', 'safe'], ['food', 'good', 'give', 'lot', 'option', 'vegetarian', 'selection', 'lunch', 'lady', 'super'], ['high', 'great', 'policy', 'bulling', 'thing', 'health', 'school', 'budget', 'cut', 'damage', 'sanitary', 'school', 'maintenance', 'job', 'clean', 'locker', 'room', 'bathroom', 'little', 'thing', 'vacuum', 'carpet', 'least', 'week'], ['building', 'change', 'school', 'staff', 'great', 'student'], ['good', 'experience', 'freshman', 'sophomore', 'year', 'least', 'great', 'teacher', 'facility', 'believe', 'student', 'good', 'see', 'teacher', 'student'], ['safety', 'trouble', 'random', 'thing', 'thing', 'lot', 'bug', 'insect', 'school', 'school', 'safe', 'problem', 'time'], ['main', 'building', 'great', 'potable', 'outside', 'need', 'work'], ['school', 'encounter', 'pressure', 'challenge', 'school', 'mind', 'many', 'student', 'campus', 'goal', 'obstacle', 'well', 'path', 'student', 'school', 'example', 'program', 'adl', 'anti', 'defamation', 'league', 'tiger', 'town', 'use', 'student', 'feel', 'matter', 'race', 'gender', 'sexual', 'orientation'], ['gilbert', 'gilbert', 'good', 'choice', 'school', 'wise', 'good', 'positive', 'friend', 'school', 'staff', 'gilbert', 'wide', 'variety', 'opportunity', 'whole', 'student', 'body', 'multiple', 'elective', 'club', 'sport', 'opportunity', 'friend', 'share', 'interest', 'fit', 'overall', 'gilbert', 'second', 'home', 'high', 'school'], ['high', 'place', 'tradition', 'excellence', 'motto', 'teacher', 'faculty', 'staff', 'heart', 'day', 'connection', 'gilbert', 'day', 'child', 'school', 'child', 'wrong', 'gilbert', 'public', 'school', 'system'], ['high', 'school', 'rate', 'public', 'school', 'locate', 'gilbert', 'student', 'grade', 'student', 'teacher', 'ratio', 'accord', 'state', 'test', 'score', 'student', 'proficient', 'math'], ['love', 'high', 'school', 'student', 'kind', 'teacher', 'care', 'home', 'grow', 'gilbert', 'high', 'school', 'old', 'sibling', 'graduate', 'school', 'benefit', 'teacher', 'work', 'ethic', 'importance', 'good', 'grade', 'give', 'tool', 'life', 'real', 'world'], ['love', 'time', 'graduate', 'blast', 'recommend', 'good', 'friend'], ['experience', 'gilbert', 'high', 'school', 'amazing', 'student', 'able', 'creative', 'avenue', 'many', 'activity', 'want', 'overall', 'atmosphere', 'school', 'invite', 'judgemental', 'bias', 'base', 'look', 'personality', 'decision', 'time', 'high', 'school', 'worth', 'effort', 'value', 'care', 'counselor', 'interested', 'future', 'teacher', 'provide', 'help', 'certain', 'subject', 'know', 'gilbert', 'high', 'downfall', 'majority', 'student', 'time', 'positive', 'sincere', 'tone'], ['thing', 'gilbert', 'academic', 'solid', 'teacher', 'great', 'strong', 'sense', 'school', 'pride', 'diversity', 'prevalent', 'compare', 'high', 'school', 'highland', 'student', 'body', 'friendly', 'easy', 'school', 'prison', 'year', 'high', 'school'], ['decent', 'diversity', 'staff', 'admin', 'lot', 'dual', 'enrollment', 'class', 'offer', 'teacher', 'school', 'happy', 'safe', 'environment', 'student', 'senior', 'able', 'many', 'friend', 'lot', 'thing', 'cultured', 'spirit', 'week', 'fun', 'positive', 'attitude', 'willing', 'help', 'second', 'good', 'thing', 'help', 'lot', 'emotional', 'support', 'college', 'guidance', 'help', 'scholarship', 'available', 'good', 'effort', 'teacher', 'excellent', 'teacher', 'individual', 'student', 'extra', 'hour', 'school', 'help', 'student', 'school', 'great', 'atmosphere', 'fight', 'student', 'derogatory', 'term', 'nice'], ['high', 'school', 'good', 'part', 'school', 'faculty', 'help', 'assignment', 'counselor', 'amazing', 'job', 'student', 'college', 'comfortable', 'future', 'take', 'study', 'fact', 'high', 'course', 'dual', 'enrollment', 'course', 'future', 'teacher', 'willing', 'help', 'difficult', 'class'], ['excellent', 'staff', 'student', 'safety', 'huge', 'priority', 'school', 'uphold', 'tradition', 'excellence'], ['lot', 'fun', 'memory', 'school', 'lot', 'event', 'activity', 'state', 'champion', 'level', 'boy', 'girl', 'basketball', 'team', 'good', 'teacher', 'staff'], ['great', 'safe', 'place', 'proud', 'alumnu', 'school', 'future', 'generation', 'old', 'young', 'future', 'child'], ['support', 'teacher', 'administration', 'school', 'joy'], ['school', 'school', 'student', 'fun', 'club'], ['school', 'diverse', 'lot', 'opportunity', 'student', 'background', 'class', 'gilbert', 'soap', 'dispenser', 'toilet', 'paper', 'stall', 'stock', 'fix', 'stall', 'toilet', 'timely', 'manner', 'bathroom', 'big', 'sport', 'program', 'work', 'football', 'team', 'family', 'aspect', 'soccer', 'basketball', 'team', 'successful', 'win', 'championship', 'school', 'many', 'extracurricular', 'good', 'thing', 'student'], ['great', 'nice', 'good', 'sized', 'public', 'school', 'teacher', 'amazing', 'country', 'track', 'team', 'great', 'world'], ['single', 'day', 'high', 'school', 'morning', 'dread', 'idea', 'hour', 'hall', 'field', 'high', 'school', 'teacher', 'care', 'education', 'door', 'pride', 'fill', 'building', 'single', 'staff', 'member', 'passion', 'hormone', 'year', 'old', 'kid', 'rare', 'occasion', 'student', 'frown', 'great', 'experience', 'leave', 'walk', 'football', 'field', 'graduation', 'night', 'great', 'time'], ['experience', 'gilbert', 'high', 'low', 'underrated', 'school', 'term', 'student', 'food', 'many', 'outlier', 'weakness', 'weakness', 'strength', 'strength', 'school', 'egg'], ['high', 'school', 'environment', 'student', 'teacher', 'one', 'aim', 'good', 'school'], ['wonderful', 'experience', 'high', 'school', 'gilbert', 'high', 'school', 'countless', 'club', 'curricular', 'activity', 'sport', 'many', 'friend', 'staff'], ['teacher', 'willing', 'work', 'lesson', 'positive', 'outgoing', 'friendly', 'leave'], ['love', 'high', 'school', 'positive', 'inclusive', 'diverse', 'environment', 'student', 'full', 'potential', 'push', 'thrive', 'faculty', 'staff', 'intelligent', 'caring', 'adult', 'student'], ['environment', 'high', 'school', 'friendly', 'teacher', 'student', 'many', 'extracurricular', 'offer', 'help', 'high', 'school', 'enjoyable'], ['high', 'school', 'symbol', 'growth', 'teacher', 'faculty', 'student', 'success', 'work', 'life', 'graduation', 'opportunity', 'growth', 'success', 'student', 'interest', 'gilbert', 'student', 'work', 'positive', 'environment', 'rigorous', 'schedule', 'senior', 'class', 'time', 'revolution', 'performance', 'student', 'personal', 'character'], ['year', 'high', 'school', 'school', 'general', 'lot', 'good', 'school'], ['school', 'student', 'activity', 'school', 'good', 'school', 'change', 'gilbert', 'homework', 'focus', 'student', 'mental', 'health', 'capacity'], ['kind', 'helpful', 'staff', 'student', 'respectful', 'exchange', 'school'], ['high', 'school', 'love', 'school', 'teacher', 'culture', 'many', 'fond', 'memory', 'many', 'people'], ['great', 'place', 'great', 'environment', 'great', 'teacher', 'level', 'student', 'involvement', 'extra', 'curricular', 'activity'], ['teacher', 'care', 'experience', 'class', 'able', 'class', 'interest', 'challenge'], ['high', 'school', 'year', 'amazing', 'teacher', 'help', 'school', 'well', 'person', 'student', 'friendly', 'group', 'school', 'clique', 'evident', 'business', 'soccer', 'program', 'part', 'gilbert', 'life', 'long', 'friend', 'coach', 'player', 'success', 'life', 'grateful', 'chance'], ['high', 'school', 'care', 'student', 'good', 'flexible', 'small', 'change', 'several', 'wise', 'teacher', 'year', 'gilbert', 'high', 'school', 'much', 'year'], ['amazing', 'experience', 'gilbert', 'high', 'school', 'faculty', 'staff', 'way', 'help', 'future', 'plan', 'addition', 'gilbert', 'incredible', 'variety', 'club', 'sport', 'student', 'many', 'opportunity', 'niche', 'learn', 'future', 'plan'], ['high', 'school', 'high', 'school', 'experience', 'support', 'teacher', 'staff', 'class', 'activity', 'huge', 'amount', 'club', 'activity', 'event', 'school', 'impressive', 'culture', 'student', 'spirit', 'school', 'fellow', 'peer', 'promote', 'growth', 'student', 'student', 'amount', 'support', 'administration', 'student', 'prone', 'bull', 'horn', 'high', 'culture', 'glory'], ['love', 'gilbert', 'high', 'school', 'chorus', 'multifarious', 'club', 'advantage', 'great', 'honor', 'teacher', 'teacher', 'part', 'experience', 'gilbert', 'high', 'school', 'trade', 'environment', 'many', 'way', 'express', 'day', 'child', 'hope', 'gilbert', 'high', 'school', 'way', 'high', 'school'], ['school', 'diverse', 'student', 'offer', 'lot', 'great', 'class', 'interior', 'design', 'agriculture', 'class', 'gilbert', 'high', 'great', 'school', 'proud', 'student'], ['passionate', 'student', 'education', 'safe', 'easy', 'location', 'teacher', 'athletic', 'program', 'need', 'work', 'good', 'place', 'extracurricular', 'activity'], ['overall', 'great', 'school', 'student', 'resource', 'require', 'teacher', 'help', 'student', 'unique', 'way'], ['teacher', 'nice', 'friendly', 'school', 'high', 'security', 'lunch', 'food', 'cheap'], ['time', 'gilbert', 'high', 'school', 'thing', 'nice', 'faculty', 'education', 'gilbert', 'high', 'way', 'student', 'trouble'], ['nice', 'caring', 'place', 'diverse', 'student', 'teacher', 'good', 'help', 'need'], ['mesquite', 'high', 'school', 'senior', 'year', 'astonish', 'student', 'teacher', 'teacher', 'respect', 'student', 'english', 'teacher', 'nicolson', 'guidance', 'lot', 'senior', 'year', 'skill', 'patient', 'helpful', 'future'], ['ready', 'college', 'hard', 'transition', 'school'], ['high', 'home', 'tiger', 'school', 'individual', 'work', 'unison', 'day', 'basis', 'horror', 'story', 'high', 'school', 'compare', 'year', 'good', 'public', 'private', 'high', 'school', 'part', 'teacher', 'student', 'acceptable', 'personal', 'level', 'school', 'perfect', 'public', 'high', 'school', 'good', 'comfortable', 'natural', 'progression', 'high', 'school', 'endeavor'], ['school', 'diverse', 'school', 'diversity', 'acceptance', 'great', 'teacher', 'care', 'student', 'administration', 'approachable', 'willing', 'help', 'ton', 'club', 'want', 'lunch', 'eat', 'cafeteria', 'food'], ['love', 'gilbert', 'high', 'many', 'opportunity', 'plenty', 'club', 'sport', 'good', 'amount', 'elective', 'student', 'point', 'huge', 'group', 'meet', 'hallway', 'school', 'pray', 'student', 'brain', 'injury', 'coma', 'many', 'day'], ['teacher', 'incredible', 'willing', 'help', 'student', 'faculty', 'staff', 'easy', 'work', 'class', 'diverse', 'part', 'student', 'class', 'desire'], ['high', 'school', 'class', 'experience', 'excellent', 'way', 'form', 'teacher', 'staff', 'year', 'teacher', 'happy', 'help', 'homework', 'question', 'need', 'staff', 'polite', 'security', 'guard', 'tony', 'good', 'man', 'job'], ['high', 'school', 'sophomore', 'high', 'school', 'bad', 'many', 'teenager', 'switch', 'school', 'new', 'change', 'hard', 'month', 'small', 'close', 'group', 'friend', 'day', 'day', 'basis', 'faculty', 'friendly', 'helpful', 'gilbert', 'high', 'education', 'top', 'notch', 'environment', 'great'], ['high', 'school', 'good', 'staff', 'member', 'teacher', 'informative', 'respectful', 'student', 'top', 'front', 'counseling', 'office', 'student', 'center', 'amount', 'effort', 'faculty', 'team', 'everyday', 'routine', 'order', 'student', 'success', 'astounding', 'privileged', 'gilbert', 'tiger'], ['high', 'school', 'year', 'high', 'school', 'freshman', 'year', 'happy', 'end', 'stay', 'result', 'school', 'dance', 'team', 'year', 'thing', 'team', 'today', 'valuable', 'lesson', 'life', 'fit', 'end', 'education', 'lot', 'school', 'appreciative', 'gilbert'], ['great', 'school', 'second', 'chance', 'mess', 'first', 'time', 'motive', 'education'], ['high', 'school', 'staff', 'teacher', 'good', 'student', 'room', 'help', 'advice', 'future', 'school', 'plan', 'class', 'overall', 'environment', 'good', 'safe', 'place', 'opinion', 'thing', 'change', 'school', 'spirit', 'enjoyable', 'participate', 'school', 'advertise', 'high', 'school', 'amazing', 'place'], ['teacher', 'great', 'issue', 'teacher', 'year', 'experience', 'amazing', 'diversity', 'good', 'see', 'exchange', 'student', 'several', 'different', 'country', 'change', 'gilbert', 'highschool', 'school', 'easy', 'class'], ['year', 'high', 'school', 'love', 'experience', 'teacher', 'staff', 'strive', 'student'], ['high', 'school', 'teacher', 'helpful', 'student', 'new', 'people', 'school'], ['senior', 'gilbert', 'high', 'school', 'sophomore', 'year', 'great', 'experience', 'teacher', 'knowledgeable', 'subject', 'area', 'bad', 'experience', 'student', 'difference', 'facility', 'clean', 'staff', 'friendly', 'helpful', 'many', 'club', 'sport', 'activity', 'fit', 'academic', 'school', 'expectation', 'gilbert', 'high', 'school', 'round', 'school', 'glad', 'graduate', 'high', 'school'], ['school', 'year', 'love', 'school', 'year', 'school', 'friendly', 'get', 'people', 'teacher', 'friendly', 'math', 'teacher', 'hilarious', 'thing', 'change', 'sometime', 'food', 'preparation', 'college', 'food', 'alright', 'school', 'food', 'preparation', 'college', 'college', 'advanced', 'math', 'example', 'school', 'pre', 'calculus', 'credit', 'system', 'base', 'class'], ['clear', 'sense', 'need'], ['year', 'high', 'eye', 'good', 'education', 'teacher', 'student', 'success', 'school', 'safe', 'possible', 'people', 'resource', 'student', 'school', 'friendly', 'open', 'help', 'extracurricular', 'activity', 'endless', 'rigorous', 'class', 'college', 'grateful'], ['love', 'high', 'school', 'safe', 'caring', 'environment', 'people', 'past', 'couple', 'year', 'school', 'wonderful', 'experience', 'opportunity'], ['overall', 'experience', 'gilbert', 'high', 'school', 'amazing', 'time', 'life', 'year', 'high', 'school', 'great', 'memory', 'close', 'friend', 'good', 'teacher', 'student', 'counselling', 'department', 'available', 'hand', 'college', 'question', 'personal', 'advice', 'environment', 'high', 'school', 'kind', 'school', 'world'], ['overall', 'experience', 'knowledge', 'participate', 'high', 'school', 'school', 'stay', 'way', 'student'], ['student', 'high', 'school', 'year', 'high', 'school', 'good', 'school', 'great', 'good', 'student', 'safety', 'campus', 'teacher', 'exceptional', 'student', 'college', 'life', 'school', 'good', 'event', 'activity', 'student', 'club', 'sport', 'diversity', 'class', 'school', 'offer', 'good'], ['high', 'school', 'many', 'class', 'student', 'basic', 'class', 'math', 'science', 'english', 'history', 'different', 'class', 'school', 'multiple', 'foreign', 'language', 'class', 'dance', 'weight', 'child', 'development', 'rotc', 'auto', 'digital', 'photography', 'clay', 'metal', 'jewelry', 'preschool', 'campus', 'student', 'toy', 'box', 'work', 'preschooler', 'teacher', 'helpful', 'student', 'work', 'homework', 'enough', 'week', 'help', 'student', 'academically', 'student', 'help', 'teacher', 'available', 'school', 'lunch', 'time', 'popular', 'class', 'campus', 'foreign', 'language', 'class', 'metal', 'jewelry', 'photography', 'class'], ['overall', 'experience', 'gilbert', 'high', 'school', 'fantastic', 'numerous', 'friend', 'year', 'friend', 'student', 'teacher', 'good', 'district', 'good', 'relationship', 'handful', 'teacher', 'thankful', 'help', 'future', 'school', 'care', 'individual', 'success', 'high', 'school', 'student', 'sport', 'basketball', 'favorite', 'part', 'high', 'school', 'game', 'student', 'section', 'bottom', 'bleacher', 'top', 'matter', 'win', 'student', 'support', 'athlete', 'club', 'national', 'society', 'tiger', 'crew', 'student', 'council', 'important', 'role', 'campus', 'member', 'society', 'tiger', 'crew', 'second', 'help', 'tutor', 'kid', 'advisory', 'lunch', 'period', 'numerous', 'community', 'service', 'opportunity', 'tiger', 'crew', 'new', 'student', 'campus', 'tour', 'take', 'class', 'eat', 'lunch', 'new', 'friendship', 'student', 'council', 'hard', 'work', 'school', 'spirit', 'week', 'decorate', 'plan', 'school', 'dance', 'pep', 'unforgettable', 'pep', 'assembly', 'show', 'student', 'big', 'role', 'gilbert', 'high', 'school'], ['high', 'school', 'variety', 'club', 'way', 'person', 'leave', 'administration', 'large', 'role', 'organize', 'event', 'student', 'group', 'multiple', 'art', 'club', 'math', 'club', 'scientific', 'club', 'club', 'extracurricular', 'activity', 'range', 'cook', 'video', 'game'], ['track', 'team', 'soccer', 'year', 'son', 'coach', 'phenomenal', 'take', 'time', 'know', 'work', 'act', 'real', 'world', 'tolerate', 'easy', 'group', 'girl', 'soccer', 'team', 'girl', 'roster', 'day', 'bad', 'thing', 'love', 'track', 'coach', 'track', 'time', 'pay', 'miss', 'much', 'turn', 'good', 'people', 'life'], ['love', 'teacher', 'many', 'life', 'sport', 'team', 'many', 'teacher', 'different', 'way', 'topic', 'many', 'helpful', 'first', 'time', 'way', 'next', 'way', 'hear', 'concept'], ['experience', 'school', 'nurse', 'sick', 'injure', 'possible', 'way', 'sure', 'right', 'assistance', 'unable', 'help', 'safe', 'school', 'security', 'guard', 'police', 'officer', 'school', 'parking', 'lot', 'sure', 'sure', 'fire', 'drill', 'lock', 'procedure', 'student', 'case', 'fact'], ['entire', 'student', 'body', 'extracurricular', 'activity', 'gather', 'participation', 'many', 'club', 'support', 'faculty', 'member', 'help', 'student', 'student', 'able', 'interest', 'obligated'], ['school', 'favorite', 'part', 'school', 'spirit', 'school', 'spirit', 'pride', 'school', 'overwhelming', 'support', 'fellow', 'student', 'sporting', 'event', 'matter', 'team', 'game', 'game', 'section', 'section', 'student', 'school', 'color', 'many', 'student', 'support', 'school', 'event', 'many', 'faculty', 'member', 'part', 'festivity', 'opportunity', 'high', 'school', 'school', 'people', 'much', 'heart', 'kindness'], ['high', 'school', 'career', 'many', 'different', 'style', 'teaching', 'pleasure', 'encounter', 'large', 'range', 'personality', 'teacher', 'goal', 'student', 'high', 'standard', 'know', 'teacher', 'meet', 'free', 'time', 'student', 'explain', 'study', 'school', 'hour', 'lunchtime', 'hour', 'school', 'hour', 'entire', 'stressful', 'high', 'school', 'journey', 'bit', 'stressful'], ['past', 'teacher', 'high', 'student', 'lesson', 'enjoyable', 'educational', 'willing', 'help', 'class', 'lesson', 'tutoring'], ['amazing', 'friend', 'sport', 'med'], ['football', 'game', 'memory', 'high', 'school', 'love', 'night', 'season', 'dress', 'friend', 'good', 'spirit', 'love', 'student', 'section', 'cheer', 'peer'], ['social', 'scene', 'school', 'thing', 'minority', 'group', 'acceptance', 'difficult', 'race', 'group', 'jock', 'geek', 'choir', 'kid', 'band', 'kid', 'cheerleader', 'stoner'], ['many', 'different', 'club', 'organization', 'many', 'people', 'club', 'many', 'club', 'campus', 'super', 'high', 'commitment', 'level', 'club'], ['high', 'school', 'teacher', 'student', 'future', 'point', 'acknowledge', 'student', 'student', 'safe', 'academic', 'environment', 'teacher', 'sure', 'grade', 'date', 'inform', 'student', 'assignment', 'course', 'teacher', 'effort', 'course', 'interesting', 'student', 'big', 'intellectual', 'idea', 'teacher', 'sure', 'student', 'active', 'classroom'], ['music', 'high', 'school', 'love', 'choir', 'drama', 'program', 'fun', 'activity', 'free', 'fundraise', 'opportunity', 'involvement', 'realistic'], ['school', 'teacher', 'helpful', 'education', 'many', 'people', 'priority', 'student', 'friendly', 'lot', 'people'], ['party', 'link', 'leader', 'club', 'new', 'incoming', 'freshman', 'school', 'help', 'resource', 'school', 'help', 'friend', 'love', 'club', 'good', 'teacher', 'easy', 'order', 'new', 'student', 'question', 'great', 'experience'], ['spirit', 'student', 'good', 'call', 'goon', 'sport', 'event'], ['many', 'extracurricular', 'opportunity', 'gh', 'interact', 'club', 'sport', 'student', 'club', 'video', 'game', 'club', 'debate', 'club', 'asian', 'culture', 'club', 'club', 'math', 'club', 'comedic', 'skit', 'club', 'much', 'love', 'part', 'interact', 'club', 'volunteer', 'community', 'important', 'club', 'call', 'tiger', 'town', 'club', 'focus', 'difference', 'person', 'student', 'club', 'high', 'school', 'good', 'friend', 'interact', 'club', 'year', 'teacher', 'school', 'club', 'function', 'student', 'signature', 'club', 'opportunity', 'last', 'impact', 'gilbert', 'high', 'school'], ['part', 'many', 'athletic', 'fitness', 'opportunity', 'gilbert', 'high', 'school', 'offer', 'cross', 'country', 'girl', 'basketball', 'track', 'advanced', 'sport', 'training', 'class', 'year', 'year', 'boy', 'girl', 'cross', 'country', 'team', 'state', 'championship', 'girl', 'volleyball', 'team', 'course', 'game', 'fan', 'support', 'favorite', 'thing', 'night', 'football', 'game', 'high', 'awesome', 'student', 'section', 'dress', 'game', 'theme', 'example', 'red', 'blood', 'bath', 'white', 'color', 'black', 'gold', 'student', 'council', 'black', 'yellow', 'paint', 'hand', 'print', 'face', 'paint', 'student', 'section', 'entire', 'game', 'cool', 'sport', 'training', 'program', 'gh', 'great', 'sport', 'advanced', 'weight', 'training', 'class', 'specific', 'sport'], ['transfer', 'high', 'high', 'huge', 'difference', 'curriculum', 'level', 'gilbert', 'well', 'level', 'education', 'student'], ['police', 'officer', 'campus', 'extreme', 'measure', 'sure', 'safe', 'break', 'campus', 'anti', 'rule', 'school', 'part'], ['school', 'anti', 'bully', 'school', 'stress', 'much', 'video', 'month', 'remind', 'student', 'importance', 'topic', 'teacher', 'sure', 'inform', 'attendance', 'tell', 'need'], ['lot', 'popular', 'club', 'deal', 'lot', 'student', 'club', 'easy', 'way', 'fun', 'time'], ['school', 'huge', 'school', 'spirit', 'sport', 'team', 'good', 'year', 'student', 'support', 'team', 'player', 'work', 'student', 'much', 'spirit', 'game'], ['bad', 'teacher', 'teacher', 'considerate', 'life', 'student', 'ton', 'homework', 'nice'], ['high', 'school', 'girl', 'volleyball', 'team', 'notorious', 'support', 'team', 'school', 'skill', 'level', 'gilbert', 'high', 'student', 'event', 'loud', 'proud', 'people', 'black', 'gold', 'school', 'color', 'hold', 'head', 'high', 'congratulate', 'team'], ['high', 'school', 'many', 'extracurricular', 'activity', 'exciting', 'student', 'goal', 'life'], ['school', 'safe', 'follow', 'policy', 'student', 'disobey'], ['administration', 'school', 'great', 'shape'], ['love', 'school', 'school'], ['teacher', 'gilbert', 'care', 'student', 'class', 'day', 'lesson', 'plan', 'student', 'help'], ['extra', 'curricular', 'activity', 'abundant', 'school', 'many', 'student', 'sport', 'band', 'game', 'club', 'interest', 'school', 'school', 'program'], ['athletic', 'fitness', 'opportunity', 'competitive', 'student', 'coach', 'gilbert', 'high', 'coach', 'right', 'person', 'job', 'play', 'athlete', 'discipline', 'first', 'person', 'superstar', 'coach', 'instructor', 'care', 'push', 'student', 'good', 'wether', 'athlete', 'health', 'help', 'goal', 'school', 'spirit', 'great', 'athlete', 'play'], ['high', 'school', 'good', 'moment', 'entire', 'life', 'imperfection', 'environment'], ['school', 'diverse', 'student', 'seminary', 'school', 'day', 'various', 'ethnicity', 'variety', 'art', 'practice'], ['school', 'student', 'safe', 'healthy', 'student', 'rule', 'fact', 'strict', 'huge', 'consequence'], ['love', 'sport', 'team', 'high', 'school', 'memorable'], ['security', 'officer', 'school', 'top', 'situation', 'friendly', 'fun', 'hang', 'veteran'], ['last', 'year', 'rude', 'nurse', 'last', 'year', 'new', 'lady', 'work', 'office', 'sweet', 'woman', 'contact', 'sure', 'care', 'nice', 'contact'], ['extracurricular', 'school', 'time', 'school', 'worth'], ['teacher', 'student', 'eager', 'participate', 'club'], ['counceler', 'student', 'overall', 'good', 'people'], ['hardship', 'highschool', 'great', 'experience', 'dull', 'moment', 'poeple', 'thing', 'work'], ['experience', 'teacher', 'high', 'school', 'good', 'year', 'teacher', 'teaching', 'style', 'many', 'step', 'step', 'example', 'sure', 'question', 'clear', 'time', 'help', 'school', 'hour'], ['high', 'good', 'sport', 'team', 'student', 'full', 'school', 'spirit', 'student', 'support', 'sport', 'team', 'game', 'black', 'gold', 'cheer', 'matter'], ['high', 'school', 'student', 'rule', 'dress', 'code', 'ditch', 'class', 'much', 'guidance', 'councelor', 'office', 'staff', 'principal', 'great', 'job', 'helpful', 'student', 'help', 'personal', 'situation'], ['overall', 'experience', 'gilbert', 'high', 'school', 'roller', 'coaster', 'pile', 'bunch', 'homeowrk', 'cheer', 'night', 'love', 'school', 'accomplish', 'life', 'hurry', 'move', 'thing', 'step', 'time', 'live', 'moment'], ['first', 'year', 'school', 'lunch', 'past', 'year', 'horrible', 'many', 'option', 'breakfast', 'snack', 'cart', 'hour', 'feed', 'obese'], ['school', 'staff', 'amazing', 'helpful', 'care', 'problem', 'fix', 'memory', 'good', 'bad', 'worth', 'gh', 'ton', 'opportunity'], ['light', 'smile', 'handful', 'student', 'support', 'tiger', 'nice', 'update', 'school', 'school'], ['school', 'happy', 'experience'], ['club', 'school', 'room', 'good', 'category'], ['extreme', 'school', 'gilbert', 'town', 'safe', 'place', 'recent', 'thing', 'student', 'mike', 'helm', 'mother', 'news', 'guess', 'abuse', 'thing', 'thing', 'wrong', 'safety', 'student', 'school', 'home', 'life', 'school', 'program', 'help', 'many', 'amazing', 'counselor'], ['safe', 'come', 'high', 'security', 'officer', 'campus', 'situation', 'arise', 'fight', 'school', 'security', 'guard', 'time', 'high', 'experience', 'real', 'lock', 'down', 'school', 'fire', 'drill', 'occasion', 'real', 'fire', 'alarm', 'school', 'cooperative', 'thing', 'nurse', 'staff', 'helpful', 'efficient', 'safe', 'care', 'gilbert'], ['social', 'scene', 'positive', 'gilbert', 'high', 'many', 'student', 'different', 'country', 'high', 'student', 'host', 'lot', 'foreign', 'exchange', 'student', 'year', 'student', 'different', 'sexual', 'orientation', 'respect', 'kindness', 'peer', 'pressure', 'gilbert', 'wrong', 'decision', 'bad', 'choice', 'friendly', 'place', 'student', 'ethnic', 'racial', 'religious', 'sexual', 'diversity'], ['high', 'great', 'variety', 'honor', 'dual', 'enrollment', 'class', 'different', 'type', 'challenge', 'math', 'class', 'calculus', 'statistic', 'college', 'level', 'english', 'class', 'available', 'variety', 'path', 'many', 'direction', 'student', 'science', 'class', 'physics', 'history', 'program', 'wonderful', 'many', 'history', 'class', 'gilbert', 'high', 'incredible', 'teacher', 'teacher', 'gilbert', 'favorite', 'teacher', 'calculus', 'anatomy', 'financial', 'app', 'english', 'economic', 'teacher', 'counselor', 'helpful', 'scheduling', 'issue', 'need', 'class', 'workload', 'manageable', 'student', 'college'], ['love', 'high', 'school', 'move', 'freshman', 'year', 'lot', 'amazing', 'friend', 'worry', 'gilbert', 'incredible', 'kind', 'people', 'great', 'thing', 'high', 'awesome', 'teacher', 'year', 'junior', 'year', 'great', 'teacher', 'anatomy', 'favorite', 'class', 'interested', 'topic', 'year', 'wonderful', 'math', 'teacher', 'new', 'class', 'district', 'financial', 'application', 'year', 'great', 'teacher', 'financial', 'app', 'new', 'favorite', 'class', 'choir', 'student', 'director', 'high', 'mark', 'many', 'festival', 'tour', 'high', 'school', 'choir', 'usual', 'decent', 'choir', 'fantastic', 'humble', 'opinion', 'amazing', 'sound', 'badminton', 'tennis', 'sport', 'opportunity', 'coach', 'great', 'hard', 'work', 'sweaty', 'hour', 'overall', 'gilbert', 'high', 'school', 'fantastic', 'place', 'educate', 'year', 'high', 'school', 'gilbert', 'time'], ['least', 'security', 'campus', 'time', 'nurse', 'nice', 'tylenol', 'campus', 'police', 'office', 'job'], ['school', 'warm', 'environment', 'student', 'much', 'spirit', 'support', 'student', 'sick', 'harm', 'money', 'family', 'student', 'life', 'amazing', 'academic', 'great', 'prepared', 'future'], ['love', 'high', 'school', 'much', 'school', 'many', 'unforgettable', 'memory', 'old', 'teacher', 'staff', 'member', 'day'], ['unlimited', 'opportunity', 'extracurricular', 'activity', 'sport', 'huge', 'popular', 'great', 'music', 'program', 'student', 'participate', 'school', 'club'], ['athletic', 'facility', 'fantastic', 'school', 'sport', 'good', 'equipment', 'damage', 'fix', 'enough', 'field', 'level', 'baseball', 'softball', 'gym', 'indoor', 'sport', 'school', 'different', 'physical', 'education', 'program', 'weight', 'dance'], ['school', 'overall', 'regular', 'basis', 'armed', 'police', 'officer', 'security', 'guard', 'room', 'campus', 'school', 'experience', 'practice', 'fire', 'drill', 'lock', 'case', 'great', 'know', 'school', 'administration', 'care', 'safety'], ['school', 'big', 'family', 'teacher', 'school', 'spirited', 'event', 'school', 'student', 'leave', 'heart'], ['amazing', 'good', 'club'], ['many', 'club', 'organization', 'school', 'sport', 'impossible', 'find', 'class', 'teacher', 'advisor', 'club', 'organization'], ['overall', 'student', 'body'], ['phenomenal', 'teacher', 'amazing', 'experience', 'school', 'dance', 'extra', 'curricular', 'activity', 'thing'], ['amazing', 'teacher', 'difference', 'life', 'school', 'family', 'fellow', 'student'], ['verity', 'class', 'school', 'student', 'homework', 'matter', 'much', 'emphasis', 'school', 'importance', 'student', 'decide', 'want'], ['club', 'fair', 'help', 'student', 'club'], ['many', 'club', 'activity', 'gilbert', 'easy', 'student', 'friend'], ['gilbert', 'help', 'education', 'personal', 'professionalism', 'deca', 'program', 'hand', 'good', 'thing', 'part', 'deca', 'help', 'real', 'world', 'positive', 'outlook', 'work', 'goal'], ['high', 'school', 'staff', 'real', 'world', 'senior', 'year', 'teacher', 'help', 'follow', 'dream', 'community', 'college', 'fashion', 'merchandising', 'event', 'wedding', 'planning', 'company', 'passionate', 'deca', 'teacher', 'land', 'dream', 'job', 'life', 'high', 'school', 'glad', 'inspirational', 'teacher'], ['high', 'school', 'administration', 'excellent', 'school', 'strive', 'part', 'student', 'council', 'school', 'administration', 'impeccable', 'job'], ['hard', 'class', 'teacher', 'fantastic', 'teacher', 'class', 'regular', 'course', 'less', 'impact', 'information', 'teacher', 'student', 'school', 'good', 'high', 'academic'], ['lot', 'good', 'program', 'offer', 'particular', 'sport', 'play', 'season', 'coach', 'offer', 'opportunity', 'non', 'competitive', 'level', 'practice', 'skill'], ['counselor', 'available', 'talk', 'find', 'scholarship', 'help', 'college'], ['overall', 'student', 'body', 'fellow', 'student', 'clique', 'honor', 'student', 'athlete', 'member', 'group', 'associate', 'circle', 'variety', 'ethnicity', 'populate', 'student', 'body', 'mix', 'persona', 'school', 'peer', 'pressure', 'school', 'challenge', 'regard', 'race', 'ethnicity', 'non', 'existent', 'people', 'tolerant', 'difference'], ['gilbert', 'high', 'school', 'friend', 'kindergarten', 'family', 'friend', 'school', 'community'], ['principal', 'friendly', 'counselor', 'helpful'], ['teacher', 'fantastic', 'student', 'graduate', 'visit', 'year', 'important', 'role', 'model', 'life'], ['front', 'good', 'school', 'happy', 'student', 'student', 'exahste', 'deppreste', 'school', 'good', 'anyone', 'head'], ['school', 'much', 'focus', 'athletic', 'academic', 'standardized', 'test', 'score', 'high', 'little', 'focus', 'preparation', 'college', 'learning', 'material'], ['school', 'overall', 'good', 'teacher', 'course', 'material', 'diversity', 'school', 'student', 'teacher', 'important', 'worldy', 'issue'], ['review', 'central', 'high', 'schoolrate'], ['food', 'bland', 'tasteless', 'healthy', 'healthy', 'gross', 'small', 'portion'], ['school', 'cliquey', 'previous', 'high', 'school', 'school', 'difficult'], ['counselor', 'available', 'help', 'guidance', 'note', 'contact', 'need'], ['christian'], ['diversity', 'amazing', 'program', 'name', 'good', 'state', 'school', 'year', 'social', 'environment', 'terrible'], ['food', 'meal', 'variety', 'healthy', 'option', 'healthy', 'option', 'balanced', 'meal', 'cost', 'lunch', 'ridiculous'], ['review', 'central', 'high', 'schoolrate'], ['lunch', 'country', 'lunch', 'atrocious', 'friend', 'slice', 'pizza', 'grease', 'drip'], ['safety', 'good', 'police', 'officer', 'security', 'system', 'drug', 'huge', 'problem', 'drug', 'alcohol', 'athlete', 'unlikely', 'punish'], ['school', 'uncrustable', 'wheat', 'bread', 'peanut', 'butter', 'make', 'sense', 'greasy', 'fry', 'change', 'bosco', 'stix', 'healthy', 'awful', 'school', 'try', 'food', 'good', 'offer', 'bun', 'butter', 'end', 'lunch', 'line', 'fruit', 'great', 'average', 'grape', 'taste', 'coat', 'bitter', 'wash', 'green', 'bruise', 'lunch', 'time', 'taste', 'glue'], ['healthy', 'food', 'funny', 'day', 'old', 'people', 'lunch'], ['healthy', 'option', 'eat', 'lunch', 'sure', 'need', 'stay', 'shape'], ['personal', 'experience', 'good', 'central', 'work', 'ivy', 'tech', 'community', 'college', 'student', 'college', 'credit', 'class', 'high', 'school', 'administration', 'work', 'sure', 'student', 'good', 'learning', 'experience', 'find', 'teacher', 'hard', 'push', 'student', 'full', 'potential', 'certain', 'thing', 'slide', 'find', 'student', 'student', 'high', 'school', 'teacher', 'many', 'class', 'challenge', 'make', 'work', 'many', 'friend', 'challenging', 'project', 'teacher', 'close', 'expectation'], ['experience', 'central', 'high', 'school', 'term', 'education', 'excellent', 'amount', 'opportunity', 'school', 'overwhelming', 'musical', 'art', 'program', 'pltw', 'class', 'school', 'educational', 'need', 'fulfil', 'long', 'work'], ['school', 'good', 'place', 'look', 'difficult', 'class', 'smart', 'student', 'academic', 'teacher', 'help', 'school', 'home', 'life'], ['review', 'central', 'high', 'schoolrate'], ['variety', 'class', 'variety', 'different', 'people', 'closed', 'mindness', 'highschool'], ['fchs', 'mixed', 'bag', 'experience', 'many', 'rigorous', 'honor', 'student', 'many', 'class', 'good', 'job', 'student', 'real', 'world', 'student', 'prepare', 'course', 'teacher', 'student'], ['school', 'large', 'beautiful', 'great', 'shape', 'lot', 'offer', 'amount', 'resource', 'accessible', 'art', 'program', 'huge', 'band', 'lot', 'club', 'sport'], ['big', 'negative', 'fch', 'sure', 'school', 'safety', 'decent', 'overall', 'underlie', 'drug', 'nicotine', 'issue', 'student', 'stem', 'mental', 'health', 'struggle', 'address', 'school', 'many', 'way', 'persist', 'amount', 'diversity', 'school', 'apparent', 'group', 'student', 'group'], ['lot', 'stuff', 'unnoticed', 'harass', 'month', 'boyfriend', 'month', 'lot', 'kid', 'mental', 'health', 'need', 'awareness', 'mad', 'fun', 'gay', 'diverse', 'school'], ['student', 'stuck', 'teacher', 'nice', 'lunch', 'mediocre', 'good'], ['fantastic', 'interested', 'sport', 'school', 'great', 'variety', 'advanced', 'class', 'attention', 'teacher', 'student', 'class'], ['many', 'club', 'sport', 'kid', 'club'], ['stressful', 'difficult', 'alot', 'clique'], ['teacher', 'overall', 'rate'], ['nurse', 'feel', 'work', 'hard', 'student', 'great', 'education'], ['school', 'activity', 'tough', 'academic'], ['teacher', 'school', 'helpfulness', 'ask', 'question', 'time', 'teacher', 'way', 'difficult', 'student', 'work'], ['good', 'teacher', 'subject', 'bad', 'one', 'bad'], ['variety', 'extracurricular', 'certain', 'club', 'resource', 'time', 'committment', 'club', 'example', 'school', 'participation', 'marathon', 'beneficial', 'riley', 'hospital', 'child', 'several', 'community', 'service', 'club', 'able', 'usual', 'fundraiser', 'due', 'schedule', 'conflict', 'time', 'committment'], ['health', 'program', 'resource', 'great', 'safety', 'measure', 'lot', 'place', 'strange', 'able', 'building'], ['review', 'central', 'high', 'schoolrate'], ['wonderful', 'wonderful', 'teacher', 'favorite'], ['government', 'teacher', 'high', 'school', 'active', 'class', 'quiet', 'different', 'political', 'view', 'teacher', 'claim', 'attack', 'viewpoint', 'opposite', 'class', 'share', 'opinion', 'order', 'attack'], ['rule', 'policy', 'central', 'subjective', 'enforcement', 'teacher', 'certain', 'rule', 'dress', 'code', 'policy', 'time', 'certain', 'people', 'trouble', 'certain', 'act', 'many', 'athlete', 'many', 'thing', 'consequence', 'administration', 'hurt', 'team', 'chance', 'win'], ['extracurricular', 'opportunity', 'central', 'many', 'student', 'willing', 'club', 'fit'], ['prepared', 'real', 'world', 'floyd', 'central', 'incredible', 'amount', 'attention', 'sport', 'resent', 'accomplishment', 'smart', 'bad', 'courtesy', 'extend', 'gifted', 'athlete', 'praise', 'proportion', 'praise', 'possible', 'occasion'], ['food', 'good', 'free', 'impossible', 'natural', 'food'], ['previous', 'highschool', 'push', 'bored', 'class', 'due', 'lack', 'challenge'], ['review', 'central', 'high', 'schoolrate'], ['area', 'lack', 'funding', 'organization', 'club'], ['overall', 'class', 'good', 'course', 'math', 'science', 'enough', 'high', 'level', 'class', 'offer', 'school', 'top', 'student', 'advance', 'require', 'class', 'prowess', 'junior', 'senior', 'year'], ['administration', 'school', 'good', 'bully', 'past', 'dress', 'code'], ['school', 'diverse', 'student', 'judgmental'], ['intense', 'good', 'way', 'school', 'shirt', 'stuff', 'spine', 'lot', 'people', 'football', 'game'], ['teacher', 'able', 'lesson', 'enthusiastic', 'average'], ['teacher', 'high', 'school', 'good', 'teacher', 'good', 'ability', 'help', 'student', 'help', 'interested', 'subject', 'teach', 'teacher', 'care', 'overall', 'teacher', 'good'], ['healthy', 'option', 'variety', 'gross'], ['teacher', 'great', 'teacher'], ['racial', 'diversity', 'slim', 'diverse', 'school', 'race', 'acceptance', 'eveyone', 'good'], ['food', 'good', 'school', 'healthy', 'cafeteria', 'easy', 'access'], ['many', 'teacher', 'average', 'spectacular', 'teacher', 'great', 'teacher', 'least', 'effective', 'alienate', 'student', 'way', 'student', 'certain', 'belief', 'stupid', 'certain', 'political', 'party', 'good', 'open', 'free', 'discussion', 'student', 'academic', 'help', 'sort', 'friend'], ['good', 'experience', 'school', 'wonderful', 'time', 'art', 'program', 'choral', 'program', 'disappoint', 'student', 'government', 'recognition', 'academic', 'success', 'highlight', 'academic', 'achievement', 'student', 'bad', 'problem', 'athletic', 'valedictorian', 'athlete', 'year'], ['member', 'community', 'live', 'diverse', 'area', 'trouble', 'difference'], ['review', 'central', 'high', 'schoolrate'], ['principal', 'office', 'staff', 'school', 'event', 'policy', 'area', 'code'], ['wonderful', 'food', 'variety', 'choice'], ['school', 'wonderful', 'facility', 'successful', 'team', 'money', 'sport', 'proportional', 'success', 'addition', 'much', 'money', 'recognition', 'sport', 'academic'], ['several', 'club', 'school', 'guitar', 'club', 'club', 'hike', 'camping', 'trip', 'lucky', 'constitutional', 'government', 'club'], ['policy', 'drive', 'prosser', 'absurd', 'ask', 'student', 'allow', 'work', 'school', 'drive', 'tardy', 'policy', 'strict', 'increase', 'punishment', 'kid', 'drive', 'act'], ['spirit', 'football', 'team', 'student', 'section', 'reason', 'many', 'activity', 'school', 'diverse', 'group', 'student', 'sport'], ['review', 'central', 'high', 'schoolrate'], ['racial', 'diversity', 'lot', 'student', 'involvement', 'student'], ['menu', 'week', 'line', 'week', 'week', 'rotation', 'food', 'many', 'healthy', 'option', 'salad', 'cover', 'meat', 'cheese', 'top', 'lettuce', 'milk', 'people', 'intolerant'], ['school', 'white', 'school'], ['average'], ['good', 'lady', 'work', 'sure', 'different', 'variety', 'stuff', 'everyday', 'need', 'institute', 'change'], ['great', 'condition', 'computer', 'lab', 'contemporary', 'computer', 'software', 'computer', 'problem', 'slow'], ['picky', 'eater', 'good', 'person', 'question', 'good', 'variety', 'food'], ['school', 'white', 'white', 'racism', 'issue', 'school'], ['faculty', 'staff', 'good', 'help', 'student', 'college', 'application', 'process', 'complaint', 'help', 'student', 'help', 'helpful'], ['detention', 'serious'], ['team', 'good', 'school', 'spirit', 'prevalent'], ['school', 'technology', 'facility', 'excellent', 'college', 'prep', 'school', 'little', 'handout', 'booklet', 'college', 'appointment', 'counselor', 'college', 'level', 'course', 'available', 'student'], ['review', 'central', 'high', 'schoolrate'], ['much', 'experience', 'athletic', 'department', 'athlete', 'school', 'system', 'lot', 'school', 'spirit'], ['thing', 'love', 'school', 'faculty', 'approachable', 'knowledgeable', 'good', 'effort', 'help', 'student', 'strong', 'department', 'school', 'social', 'study', 'department', 'teacher', 'department', 'love', 'advanced', 'class', 'school', 'student', 'college'], ['strength', 'school', 'fine', 'art', 'program', 'fine', 'art', 'shelf', 'national', 'level', 'many', 'participant', 'fine', 'art', 'program', 'pursue', 'passion', 'professional', 'level', 'experience', 'real', 'theater', 'production', 'central', 'production'], ['main', 'criticism', 'school', 'lack', 'club', 'athletic', 'fine', 'art', 'specialized', 'club', 'shadow', 'fact', 'number', 'extracurricular', 'club', 'school', 'finger', 'dust', 'athlete', 'performer', 'real', 'place', 'school', 'change', 'hope', 'future', 'student', 'option'], ['end', 'school', 'club', 'school', 'activity', 'available', 'love', 'academic', 'faculty', 'huge', 'part', 'high', 'school', 'experience', 'school'], ['lot', 'school'], ['facility', 'resource', 'solid', 'counselor', 'willing', 'help', 'answer', 'need'], ['school', 'participation', 'low', 'average', 'student', 'part'], ['nice', 'school', 'date', 'much', 'money', 'superfluous', 'flat', 'screen', 'radio', 'useless', 'news', 'story', 'ridiculous', 'talk', 'show', 'video', 'announcement', 'fine', 'program', 'money'], ['review', 'central', 'high', 'schoolrate'], ['much', 'diversity', 'minority', 'senior', 'rally', 'club', 'several', 'religious', 'club', 'secular', 'student', 'alliance'], ['teacher', 'smart', 'teach', 'certain', 'thing', 'self', 'evident', 'simple', 'part'], ['male', 'student', 'aloud', 'wear', 'tank', 'top', 'female', 'student', 'aloud', 'wear', 'spaghetti', 'strap', 'teacher', 'necessary', 'dentition', 'wear', 'reason', 'fine'], ['correct', 'device', 'place', 'school', 'threat', 'teacher'], ['teacher', 'student', 'class', 'teacher', 'willing', 'school', 'help'], ['policy', 'standard', 'strict', 'dress', 'code', 'cheating', 'punish', 'lot'], ['athlete', 'fit', 'decent', 'gym', 'school'], ['sport', 'team', 'football', 'basketball', 'good', 'athletic', 'funding', 'sport', 'cross', 'country', 'golf', 'sport', 'little', 'funding'], ['school', 'college'], ['weight', 'room', 'small', 'many', 'time', 'close', 'wrestling', 'season', 'start', 'weight', 'room', 'clean', 'end', 'many', 'student', 'sick', 'weight', 'room'], ['strict', 'dress', 'code', 'policy', 'dress', 'coed', 'force', 'clothing', 'distraction', 'many', 'student', 'pink', 'hair', 'many', 'female', 'wear', 'inappropriate', 'clothing', 'short', 'short', 'short', 'suit', 'bottom', 'school'], ['general', 'class', 'offer', 'class', 'many', 'honor', 'class', 'offer', 'year', 'school', 'start', 'program', 'student', 'advantage', 'class', 'general', 'class', 'feel', 'school', 'forget', 'encourage', 'student'], ['majority', 'teacher', 'know', 'lot', 'subject', 'care', 'help', 'student', 'course', 'teacher', 'care', 'student'], ['athletic', 'training', 'staff', 'awesome', 'school', 'nurse', 'available', 'student', 'school', 'tolerance', 'policy', 'regard', 'tobacco', 'product', 'alcohol'], ['review', 'central', 'high', 'schoolrate'], ['food', 'opinion', 'good', 'taste', 'healthy', 'food', 'certain', 'day', 'tasty'], ['health', 'facility', 'aware'], ['sport', 'team', 'major', 'rival', 'student', 'body', 'school', 'intramural', 'sport', 'dodgeball', 'basketball', 'student', 'year', 'club', 'successful', 'student', 'hike', 'rock', 'climbing', 'camping'], ['food', 'horrible', 'great', 'concerned', 'healthy', 'food', 'quality', 'salad', 'choice', 'vegetarian', 'vegan', 'people', 'allergy', 'many', 'stride', 'take', 'healthy', 'food', 'student', 'tray', 'fry'], ['people', 'divide', 'group', 'theater', 'student', 'time', 'theater', 'student', 'mingle', 'school'], ['academic', 'high', 'school', 'assume', 'lot', 'school', 'area', 'teacher', 'part', 'nice', 'job', 'thing', 'interest', 'fun', 'particular', 'topic', 'hard', 'understand', 'class', 'different', 'average', 'class', 'average', 'class'], ['review', 'central', 'high', 'schoolrate'], ['rule', 'school', 'tank', 'top', 'indecent', 'freedom', 'dress'], ['student', 'body', 'teacher', 'friendly', 'helpful', 'admin', 'eager', 'ask', 'question', 'year', 'start', 'switch', 'system', 'grade', 'system', 'easy', 'access', 'unofficial', 'transcript'], ['big', 'school', 'lot', 'option', 'possibility', 'academic', 'extracurricular', 'curriculum', 'basic', 'vocational', 'college', 'preparation', 'class', 'extracurricular', 'activity', 'endless', 'present', 'team', 'club', 'activity'], ['high', 'school', 'overall', 'provide', 'experience', 'student'], ['review', 'central', 'high', 'schoolrate'], ['variety', 'class', 'available', 'plenty', 'easy', 'class', 'many', 'challenging', 'class', 'sport', 'team', 'competitive', 'neat', 'opportunity', 'student', 'course', 'much', 'work'], ['overall', 'atmosphere', 'teacher'], ['floyd', 'central', 'many', 'opportunity', 'student', 'excellent', 'sport', 'program', 'great', 'club', 'focus', 'success', 'student', 'art', 'program', 'clear', 'student', 'fit', 'well', 'school', 'diversity', 'opportunity', 'journalism', 'good', 'dedicated', 'student', 'guidance', 'receive', 'year', 'school', 'staff', 'member', 'feedback', 'improvement', 'polling', 'student', 'staff', 'member'], ['floyd', 'central', 'lot', 'great', 'teacher', 'want', 'able', 'shell', 'join', 'newspaper', 'staff', 'confident', 'ability', 'able', 'different', 'club', 'interest'], ['high', 'school', 'academic', 'base', 'school', 'good', 'score', 'state', 'personal', 'experience', 'high', 'school', 'experience', 'bully', 'issue', 'school', 'student', 'teacher', 'place', 'time', 'different', 'school', 'white', 'diverse', 'school', 'diversity', 'staff', 'student', 'supportive'], ['school', 'individual', 'least', 'handful', 'class', 'teacher', 'willing', 'hand', 'ready', 'student', 'athletic', 'side', 'central', 'track', 'field', 'year', 'education'], ['overall', 'good', 'experience', 'floyd', 'safe', 'respect', 'student', 'review', 'lot', 'school', 'perfect', 'know', 'staff', 'floyd', 'work', 'well', 'environment', 'day', 'lack', 'effort', 'student', 'hear', 'main', 'part', 'negative', 'attitude', 'experience', 'teacher', 'care', 'person', 'student', 'importance', 'job', 'utmost', 'respect', 'teacher', 'kind', 'student', 'single', 'day', 'respect', 'reciprocate', 'love', 'proud', 'student', 'opportunity', 'extracurricular', 'club', 'class', 'good', 'education'], ['sure', 'student', 'right', 'path', 'success', 'good', 'diversity', 'class', 'able', 'class', 'interested'], ['care', 'lot', 'student', 'sure', 'graduate', 'building', 'clean', 'teacher', 'knowledgeable'], ['teacher', 'big', 'family', 'overall', 'school', 'wish', 'recycling', 'unit'], ['privileged', 'attend', 'school', 'travel', 'school', 'high', 'school', 'fortunate', 'massive', 'diverse', 'place', 'many', 'different', 'type', 'activity', 'wide', 'range', 'student', 'friend', 'star', 'place', 'room', 'improvement', 'honor', 'able', 'central', 'high', 'school'], ['advanced', 'class', 'many', 'possibility', 'new', 'class', 'able', 'fill', 'schedule', 'subject', 'enjoy', 'major', 'varsity', 'soccer', 'team', 'sectional', 'championship', 'title', 'year', 'row', 'athletic', 'academic', 'overall', 'great', 'good', 'academic', 'environment'], ['excellent', 'school', 'diverse', 'care', 'student', 'theatre', 'excellent'], ['decent', 'school', 'lot', 'place', 'fit', 'activity', 'great', 'community', 'academic', 'teacher', 'presence'], ['review', 'central', 'high', 'schoolrate'], ['good', 'school', 'supportive', 'teacher', 'staff', 'safe', 'area', 'school', 'fine', 'art', 'program', 'good'], ['spirited', 'student', 'body', 'apart', 'matter', 'crowd', 'student', 'care', 'need', 'student', 'single', 'teacher', 'impact', 'grade', 'administration', 'floyd', 'many', 'opportunity', 'grateful', 'lead', 'several', 'college'], ['high', 'school', 'many', 'amazing', 'opportunity', 'wide', 'range', 'class', 'teacher', 'strong', 'desire', 'help'], ['high', 'school', 'school', 'rare', 'school', 'fill', 'teacher', 'student', 'passionate', 'school', 'clean', 'teacher', 'lot', 'great', 'event', 'student', 'lot', 'fundraiser', 'charity', 'college', 'prep', 'opportunity', 'classroom'], ['good', 'school', 'amazing', 'academic', 'program', 'art', 'program', 'fine', 'art', 'program', 'bad', 'thing', 'floyd', 'central', 'food', 'lunch', 'high', 'school', 'terrible', 'food', 'select', 'day', 'great', 'food'], ['floyd', 'central', 'school', 'update', 'air', 'conditioning', 'school', 'area', 'large', 'amount', 'club', 'plenty', 'sport', 'event', 'great', 'school', 'ipad', 'student', 'terrible', 'work'], ['review', 'central', 'high', 'schoolrate'], ['high', 'school', 'good', 'education', 'possible', 'floyd', 'dual', 'credit', 'course', 'school', 'indiana', 'offer', 'teacher', 'commit', 'student', 'education', 'fch', 'high', 'extracurricular', 'achievement', 'sport', 'team', 'competitive', 'preform', 'art', 'group', 'orchestra', 'choir', 'floyd', 'central', 'diverse', 'student', 'body', 'white', 'school'], ['school', 'many', 'opportunity', 'passion', 'goal', 'many', 'club', 'look', 'huge', 'assortment', 'class', 'high', 'level', 'math', 'fine', 'art', 'photography', 'theater'], ['staff', 'student', 'comfortable', 'ask', 'question', 'learn', 'coursework'], ['great', 'job', 'student', 'life', 'high', 'school', 'fantastic', 'academically'], ['class', 'safe', 'clean', 'feel', 'prepared', 'next', 'step', 'life', 'band', 'choir', 'fantastic', 'teacher', 'helpful', 'care', 'student', 'student', 'body', 'school', 'spirt', 'none'], ['academic', 'pursuit', 'school', 'rewarding', 'teacher', 'help', 'student', 'overall', 'student', 'extra', 'curricular', 'state', 'wide'], ['fine', 'school', 'fun', 'advanced', 'class', 'scale'], ['graduate', 'school', 'person', 'today', 'help', 'ready', 'college', 'life'], ['good', 'school', 'opportunity', 'advanced', 'class', 'well', 'class', 'relate', 'future', 'job', 'education', 'interest', 'information', 'guidance', 'pay', 'college'], ['awesome', 'school', 'quality', 'education', 'great', 'theater', 'program', 'incredible', 'music', 'program', 'good', 'dance', 'team', 'country', 'premier', 'facility', 'wonderful', 'high', 'school', 'experience', 'superior', 'family', 'support', 'community', 'participation', 'enough', 'good', 'thing', 'floyd'], ['academically', 'good', 'option', 'emphasis', 'academic', 'athletic'], ['class', 'challenge', 'college', 'ready', 'wish', 'musical', 'department', 'money', 'pointless', 'thing', 'football', 'basketball', 'team'], ['senior', 'floyd', 'central', 'year', 'advice', 'many', 'option', 'impossible'], ['student', 'central', 'great', 'experience', 'school', 'many', 'activity', 'sport', 'theater', 'music', 'student', 'total', 'experience', 'curriculum', 'numerous', 'pathway', 'graduation', 'central', 'high', 'school', 'education', 'college'], ['review', 'central', 'high', 'schoolrate'], ['overall', 'school', 'nice', 'many', 'opportunity', 'staff', 'good', 'subject', 'certain', 'career', 'overall', 'school', 'great', 'full', 'opportunity'], ['great', 'time', 'campus', 'beautiful', 'teacher', 'helpful', 'college'], ['overall', 'compare', 'high', 'school', 'region', 'challenging', 'course', 'student', 'college', 'level', 'difficulty', 'main', 'problem', 'weak', 'math', 'program', 'many', 'teacher', 'rotate', 'much', 'diversity', 'unfortunate', 'good', 'school', 'overall', 'majority', 'teacher', 'care', 'lot', 'student'], ['overall', 'teacher', 'course', 'fantastic', 'challenge', 'good', 'preparation', 'college', 'fan'], ['great', 'location', 'great', 'teacher', 'cafeteria', 'parking', 'lot', 'small', 'art', 'academic', 'athletic', 'great', 'school', 'spirit'], ['central', 'challenging', 'high', 'school', 'offer', 'multiple', 'course', 'variety', 'class', 'student', 'complete', 'high', 'school', 'education', 'excellent', 'math', 'science', 'program', 'school', 'safe', 'environment', 'student', 'college'], ['review', 'central', 'high', 'schoolrate'], ['phenomenal', 'school', 'broad', 'range', 'class', 'culinary', 'manufacturing', 'fantastic', 'art', 'program', 'symphony', 'accapella', 'choir', 'woman', 'advanced', 'band', 'wide', 'range', 'sport', 'team', 'successful'], ['school', 'good', 'teacher', 'math', 'science', 'science', 'class', 'college', 'level', 'science', 'course', 'college', 'expectation', 'english', 'teacher', 'good', 'course', 'advanced', 'english', 'course', 'good', 'class', 'psychology', 'much', 'course', 'college', 'credit', 'future', 'major'], ['art', 'program', 'amazing', 'great', 'opportunity', 'student', 'academic', 'good', 'teacher', 'school', 'many', 'club', 'academic', 'club', 'science', 'olympiad', 'student', 'club', 'club'], ['good', 'lot', 'problem'], ['son', 'time', 'school', 'encounter', 'staff', 'low', 'quality', 'vast', 'majority', 'teaching', 'staff', 'high', 'expectation', 'standard', 'effort', 'responsibility'], ['love', 'staff', 'son', 'semester', 'big', 'picture', 'future'], ['confident', 'child', 'safe', 'school', 'local', 'law', 'enforcement', 'staff', 'school', 'resource', 'officer', 'door', 'secure'], ['school', 'nurse', 'helpful', 'front', 'desk', 'administrative', 'staff'], ['serious', 'issue', 'school', 'certain', 'staff', 'principle', 'janitorial', 'staff', 'necessary', 'student', 'safe'], ['issue', 'cell', 'phone', 'coverage', 'school', 'emergency', 'son', 'able'], ['child', 'school', 'solid', 'education', 'year', 'appropriate', 'guidance', 'fortunate', 'child', 'behavioral', 'issue', 'academic', 'concern'], ['teacher', 'available', 'outside', 'class', 'engage', 'lesson', 'knowledgeable', 'help', 'care', 'student', 'consistent', 'practice', 'friendly'], ['overall', 'experience', 'great', 'central', 'great', 'education', 'many', 'extra', 'curricular', 'activity', 'many', 'opportunity', 'time'], ['lot', 'wonderful', 'teacher', 'require', 'teacher', 'experience', 'teacher', 'consistent', 'overall', 'majority', 'teacher', 'great'], ['fine', 'one', 'healthy'], ['club', 'home', 'club', 'grade'], ['many', 'friend', 'lot', 'popular', 'stereo', 'typo', 'kid', 'grade', 'senior', 'right'], ['reason', 'cause', 'friend', 'mixture', 'mixed', 'girl', 'class', 'senior'], ['kind', 'student', 'bad', 'kid', 'work', 'care', 'pass', 'late', 'make', 'class', 'bad', 'teacher', 'floyd', 'central', 'struggle', 'class', 'idea'], ['review', 'central', 'high', 'schoolrate'], ['lot', 'different', 'way', 'student', 'school'], ['immense', 'variety', 'program', 'class', 'available'], ['great', 'school', 'full', 'great', 'program'], ['academic', 'excellent', 'diversity', 'teacher', 'enough', 'diversity', 'bubble', 'government', 'economic', 'class', 'real', 'social', 'political', 'issue', 'people', 'skewed', 'opinion', 'poverty', 'violence'], ['high', 'overall', 'offer', 'lot', 'great', 'opportunity'], ['good', 'school', 'public', 'wealthy', 'high', 'school', 'district', 'clicky', 'active', 'part', 'able', 'outgoing', 'able', 'assert', 'school', 'diversity', 'super', 'minimum', 'school', 'spirit', 'active', 'dance', 'marathon', 'large', 'part', 'student', 'activity', 'year', 'active', 'large', 'high', 'school', 'dance', 'marathon', 'nation', 'quality', 'teacher', 'favorite', 'teacher', 'school', 'good', 'teacher', 'profession', 'student', 'assistance', 'librarian', 'rude', 'main', 'librarian', 'great', 'student', 'power', 'influence', 'large', 'school', 'many', 'student', 'lead', 'club', 'organization', 'general', 'student', 'eager', 'accomplish', 'big', 'tip', 'new', 'student', 'confident', 'assertive', 'willing', 'open', 'experience', 'people'], ['review', 'central', 'high', 'schoolrate'], ['school', 'unique', 'quality', 'education', 'offer'], ['school', 'good'], ['value', 'award', 'athletic', 'pour', 'lot', 'money', 'facility', 'uniform', 'training'], ['central', 'good', 'academic', 'experience', 'available', 'student'], ['discipline', 'problem', 'enforce', 'student', 'school', 'rule'], ['wide', 'variety', 'teacher', 'many', 'student', 'effort', 'subject', 'good'], ['many', 'club', 'available', 'type', 'person'], ['part', 'school'], ['teacher', 'incredible', 'junior', 'senior', 'year', 'teacher'], ['sport', 'wise', 'discrepancy', 'mainstream', 'sport', 'lacrosse', 'field', 'hockey', 'weight', 'room', 'door', 'track', 'deck'], ['school', 'healthy', 'last', 'year', 'need', 'option', 'people', 'meat', 'choice', 'religion'], ['much', 'date', 'weight', 'room'], ['inclusive', 'environment', 'many', 'activity'], ['review', 'central', 'high', 'schoolrate'], ['hard', 'school', 'aspect', 'academic'], ['accessibility', 'student', 'available', 'many', 'aspect'], ['lot', 'cool', 'stuff', 'stuff', 'pretty', 'fun'], ['wide', 'curriculum', 'scheduling', 'process', 'workload', 'lot', 'doable'], ['school', 'administration', 'helpful', 'nice', 'help', 'lot', 'problem', 'school', 'roll'], ['review', 'central', 'high', 'schoolrate'], ['teacher', 'high', 'school', 'knowledgeable', 'subject', 'many', 'use', 'teaching', 'style', 'difficult', 'student', 'well', 'style', 'teacher', 'concerned', 'student', 'classroom', 'fchs', 'clear', 'concise', 'scale', 'facility', 'follow'], ['school', 'variety', 'choice', 'academic', 'extra', 'activity', 'school', 'push', 'face', 'good', 'opportunity'], ['variety', 'option', 'activity', 'student', 'choir', 'lot', 'people', 'spirit', 'fine', 'people'], ['variety', 'option', 'way', 'student', 'place', 'fit'], ['administration', 'school', 'policy', 'reasonable', 'easy', 'follow'], ['staff', 'power', 'issue', 'student', 'mistake', 'certain', 'issue'], ['many', 'student', 'support', 'dance', 'team', 'successful', 'sport', 'national', 'championship', 'title', 'varsity'], ['tough', 'school', 'teacher', 'staff', 'good', 'college', 'many', 'class', 'similar', 'college', 'level', 'class'], ['large', 'high', 'school', 'run', 'procedure', 'policy', 'place', 'integrity', 'order', 'administrator', 'staff', 'knowledgeable', 'procedure', 'protocol', 'question', 'answer', 'research', 'interested', 'care', 'student', 'success', 'ready', 'willing', 'help'], ['resource', 'officer', 'duty', 'house', 'school', 'hour', 'student', 'personal', 'general', 'safety', 'watch', 'fellow', 'student', 'nutrition', 'wellness', 'many', 'athlete', 'opportunity', 'exercise', 'conditioning', 'training', 'school', 'encourage', 'healthy', 'healthy', 'food', 'policy', 'place', 'school', 'healthy', 'overall', 'environment'], ['policy', 'strict', 'mean', 'much', 'school', 'student', 'trouble', 'faculty', 'good', 'different', 'situation'], ['academic', 'grade', 'average', 'high', 'good', 'review', 'great', 'sport', 'team'], ['faculty', 'school', 'great', 'councelor', 'college', 'helpful', 'facility', 'enviroment', 'awesome'], ['academic', 'important', 'sure', 'good', 'grade', 'high', 'standard', 'study', 'long', 'time', 'everyday', 'homework', 'assignment'], ['review', 'central', 'high', 'schoolrate'], ['school', 'safe', 'student', 'drug', 'alcohol', 'school', 'hihigh', 'academic', 'show', 'great', 'community'], ['academic', 'school', 'decent'], ['facility', 'opportunity', 'amazing', 'renovate', 'school', 'wonderful', 'opportunity'], ['great', 'class', 'challenge', 'decide', 'initiative', 'enroll', 'class'], ['love', 'vegetable', 'lunch', 'ton', 'junk', 'food', 'peanut', 'butter', 'apple', 'celery', 'available', 'lunch', 'wrap', 'healthy', 'alternative', 'hamburger', 'fry'], ['school', 'safe', 'day', 'cop', 'car', 'front', 'school', 'location', 'school', 'whole', 'lot', 'traffic', 'people', 'school', 'easy', 'focus', 'class', 'make', 'safe'], ['review', 'central', 'high', 'schoolrate'], ['tutoring', 'many', 'angle', 'honor', 'society', 'student', 'tutor', 'school', 'hour', 'community', 'service', 'tutor', 'student', 'school', 'math', 'lab', 'student', 'struggle', 'trigonometry', 'calculus', 'teacher', 'school', 'dedicated', 'student', 'offer', 'morning', 'study', 'session', 'day', 'test', 'willing', 'school', 'help', 'concept'], ['challenge', 'student', 'college', 'food', 'good', 'good', 'art', 'program', 'decline', 'year', 'many', 'student', 'drop', 'multiple', 'senior', 'active', 'member', 'year'], ['care', 'break', 'experience', 'punishment', 'rule', 'regulation'], ['many', 'difficult', 'class', 'dual', 'credit', 'class', 'hard', 'school', 'area', 'teacher', 'smart', 'know', 'talk', 'educated', 'ignorant', 'popular', 'advanced', 'class', 'psych'], ['security', 'good', 'police', 'officer', 'door', 'school', 'start', 'metal', 'detector', 'security', 'guard', 'problem', 'school', 'nurse', 'compassionate', 'personal', 'encounter', 'good', 'make', 'walk', 'class', 'allof', 'book', 'backpack', 'personal', 'item', 'hospital', 'colitis', 'stomach', 'pain', 'overall', 'school', 'safe'], ['many', 'school', 'activity', 'club', 'club', 'guitar', 'club', 'many', 'way', 'thing', 'mile', 'merry', 'miracle', 'dance', 'marathon', 'many', 'art', 'opportunity', 'play', 'concert', 'many', 'sport'], ['way', 'facility', 'many', 'clean', 'weight', 'room'], ['school', 'building', 'facility', 'good', 'compare', 'school'], ['high', 'school', 'good', 'experience', 'people', 'enough', 'cultural', 'diversity', 'school', 'fchs', 'high', 'school'], ['great', 'job', 'staff', 'student', 'parent', 'date'], ['lot', 'sport', 'opportunity', 'ton', 'school', 'spirit'], ['large', 'variety', 'option', 'overall', 'quality', 'food'], ['high', 'school', 'talente', 'sport', 'team', 'athlete', 'fan', 'support', 'student', 'strong'], ['review', 'central', 'high', 'schoolrate'], ['fortunate', 'great', 'teacher', 'year', 'high', 'school', 'feel', 'student', 'good', 'education', 'care', 'lot', 'day', 'teacher', 'test', 'feel', 'way'], ['administrator', 'helpful', 'student', 'parent', 'several', 'information', 'session', 'year', 'freshman', 'information', 'session', 'senior', 'parent', 'college', 'application', 'financial', 'aid', 'guidance', 'counselor', 'little', 'accessible', 'fill', 'form', 'call', 'office', 'couple', 'day', 'tolerance', 'policy', 'little'], ['many', 'different', 'extracurricular', 'opportunity', 'central', 'student', 'part', 'language', 'club', 'committee', 'club', 'help', 'club', 'radio', 'friend', 'film', 'different', 'type', 'project', 'summer', 'last', 'year', 'instructor', 'immense', 'amount', 'support', 'school', 'camera', 'trust', 'staff', 'administrator', 'extracurricular', 'activity', 'run', 'club', 'child', 'dance', 'marathon', 'committee', 'much', 'fun', 'raise', 'last', 'year', 'charity'], ['school', 'country', 'local', 'school', 'area', 'call', 'hick', 'proud', 'reputation', 'culture', 'preppy', 'trendy', 'central', 'population', 'welcome', 'diversity', 'many', 'foreign', 'exchange', 'student', 'year', 'open', 'arm', 'hispanic', 'population', 'peer', 'hard', 'part', 'student', 'gay', 'lesbian', 'point', 'gay', 'locker', 'boyfriend', 'need', 'thing', 'uncomfortable', 'hall'], ['high', 'school', 'good', 'rounded', 'experience', 'feel', 'need', 'college'], ['review', 'central', 'high', 'schoolrate'], ['workload', 'small', 'reasonable', 'teacher', 'part', 'good', 'job', 'work', 'possible', 'class', 'class', 'offer', 'fulfill', 'state', 'standard'], ['huge', 'problem', 'high', 'school', 'actual', 'law', 'effect', 'help'], ['class', 'honor', 'class', 'offer', 'college', 'english', 'class', 'senior', 'english', 'class', 'hard', 'college', 'english', 'class'], ['student', 'sport', 'cheer', 'school', 'team', 'people', 'game', 'fun', 'thing', 'student', 'faculty', 'staff'], ['bad', 'teacher', 'teacher', 'amazing'], ['school', 'follow', 'rule', 'consistent', 'punishment', 'consequence'], ['challenge', 'teacher', 'challenge', 'student', 'teacher'], ['food', 'good', 'mysterious'], ['school', 'remodel', 'lot', 'condition', 'school', 'great', 'college', 'prep', 'helpful'], ['safe', 'student', 'space', 'safety', 'plenty', 'security', 'measure', 'emergency'], ['ton', 'different', 'learning', 'style', 'teacher', 'student', 'express', 'sincere', 'interest'], ['review', 'central', 'high', 'schoolrate'], ['administration', 'policy', 'good', 'ability', 'successful', 'student', 'rule', 'part', 'office', 'staff', 'helpful', 'efficient'], ['overall', 'staff', 'student', 'extracurricular', 'activity', 'much', 'year', 'doubt', 'good', 'school', 'area', 'rounded', 'educate', 'student'], ['food', 'good', 'good', 'variety', 'lot'], ['peer', 'pressure', 'nonexistent', 'choice', 'regard', 'sexual', 'orientation', 'ethnic', 'diversity', 'little', 'judgement', 'high', 'school', 'kid', 'tempt', 'judge', 'open', 'gay', 'lesbian', 'bisexual'], ['ready', 'move', 'college', 'start', 'college', 'education', 'opportunity', 'class', 'present', 'senior', 'year', 'chance', 'entire', 'high', 'school', 'career', 'prior', 'college', 'unaware', 'work', 'load', 'situation', 'major'], ['policy', 'central', 'high', 'school', 'structure', 'protect', 'student', 'focus', 'success', 'student', 'next', 'stage', 'life', 'policy', 'strict', 'tolerance', 'guideline', 'inappropriate', 'behavior', 'central', 'high', 'school', 'school', 'administration', 'positive', 'representation', 'strict', 'policy', 'guideline', 'result', 'high', 'school', 'rating', 'priority', 'central', 'high', 'school', 'student', 'success', 'life'], ['review', 'central', 'high', 'schoolrate'], ['high', 'school', 'clean', 'safe', 'environment', 'student', 'lunch', 'break', 'lunch', 'home', 'classmate', 'satisfied', 'lunch', 'experience', 'high', 'school'], ['high', 'school', 'high', 'percentage', 'student', 'involvement', 'various', 'club', 'activity', 'many', 'club', 'activity', 'student', 'student', 'many', 'opportunity', 'leadership', 'role', 'high', 'percentage', 'student', 'involvement', 'result', 'clique', 'student', 'willing', 'due', 'opportunity', 'work'], ['wide', 'variety', 'opportunity', 'available', 'extracurricular', 'activity', 'school'], ['policy', 'administrative', 'staff', 'fair', 'school'], ['teacher', 'school', 'great', 'teacher', 'nice', 'people'], ['variety', 'food', 'drink', 'school'], ['experience', 'high', 'school', 'great', 'favorite', 'memory', 'cross', 'country', 'track'], ['high', 'school', 'many', 'opportunity', 'sport', 'physical', 'activity', 'wide', 'range', 'sport', 'range', 'basketball', 'cross', 'country'], ['plenty', 'option', 'athletic', 'level', 'participation', 'aau', 'type', 'club', 'high', 'school', 'team'], ['good', 'size', 'school', 'staff', 'care'], ['high', 'school', 'find', 'group', 'scene'], ['fchs', 'great', 'staff', 'care', 'success', 'student', 'body'], ['review', 'central', 'high', 'schoolrate'], ['school', 'art', 'program', 'dance', 'team', 'theater', 'band', 'athletic', 'decent', 'fan', 'support', 'show', 'basketball', 'football', 'game'], ['school', 'good', 'behavior', 'good', 'grade', 'student', 'workload', 'base', 'difficulty', 'class', 'schedule'], ['full', 'qualified', 'teacher', 'great', 'amount', 'knowledge', 'subject', 'many', 'subject'], ['day', 'week', 'different', 'style', 'food', 'many', 'option', 'available', 'course', 'star', 'high', 'school', 'good'], ['wide', 'variety', 'alumnu', 'close', 'people', 'class', 'dartmouth', 'state', 'many', 'university', 'school', 'continuation', 'education', 'good', 'prepare'], ['diverse', 'white', 'school', 'student', 'different', 'race', 'religious', 'affiliation'], ['review', 'central', 'high', 'schoolrate'], ['school', 'week', 'student', 'day', 'different', 'theme', 'student', 'dress'], ['clean', 'date', 'projector', 'many', 'course', 'available'], ['several', 'honor', 'class', 'offer', 'push'], ['teacher', 'good', 'education', 'plenty', 'opportunity', 'extracurricular', 'easy', 'get', 'involve'], ['parallel', 'average', 'workplace', 'fair', 'try', 'real', 'world'], ['great', 'date', 'thing', 'chair', 'lunchroom'], ['academic', 'amazing', 'normal', 'class', 'college', 'course', 'teacher', 'teacher', 'student', 'life', 'classroom', 'school', 'offer', 'kind', 'tutoring', 'day'], ['school', 'student', 'annoying', 'teacher', 'many', 'people', 'amazing', 'memory', 'great', 'memory'], ['teacher', 'lot', 'student', 'way', 'order', 'sure', 'student', 'material'], ['brand', 'new', 'school', 'administration', 'teacher', 'student', 'school', 'work', 'administration'], ['academic', 'good', 'regular', 'trade', 'class', 'class', 'thing', 'flexible', 'option', 'many', 'people', 'track'], ['facility', 'school', 'good', 'school', 'remodel'], ['lot', 'new', 'club', 'rise', 'school', 'interesting'], ['overall', 'experience', 'good', 'much', 'bullying', 'teacher', 'education', 'student', 'willing', 'answer', 'question'], ['review', 'central', 'high', 'schoolrate'], ['great', 'academic', 'school', 'honor', 'class', 'teacher', 'work', 'improvement', 'class', 'room'], ['many', 'extracurricular', 'opportunity', 'diverse'], ['school', 'many', 'educational', 'opportunity', 'student', 'student', 'college', 'class'], ['theatre', 'thrive', 'activity', 'sport', 'program'], ['teacher', 'friendly', 'norm', 'help'], ['review', 'central', 'high', 'schoolrate'], ['policy', 'fair', 'majority', 'punishment', 'tardiness'], ['teacher', 'majority', 'good', 'helpful', 'nice'], ['facility', 'nice'], ['school', 'lunch', 'line', 'offer', 'salad', 'bar', 'sub', 'many', 'student', 'world', 'line', 'different', 'culture', 'option', 'everyday', 'grill', 'line', 'typical', 'american', 'food', 'line'], ['many', 'extracurricular', 'activity', 'first', 'year', 'find', 'many', 'school', 'student', 'club', 'spanish', 'club', 'biology', 'club', 'student', 'cross', 'country'], ['first', 'day', 'school', 'teacher', 'student', 'extra', 'circulator', 'encouragement', 'join', 'student', 'renaissance', 'leader', 'senior', 'motivate', 'student', 'active', 'school', 'student'], ['school', 'police', 'officer', 'school', 'day', 'surveillance', 'camera', 'hallway', 'conflict', 'administrative', 'able', 'conflict'], ['secure', 'door', 'day', 'exception', 'main', 'entrance', 'outer', 'door', 'visitor', 'access', 'entry', 'forayer', 'sign', 'uniformed', 'school', 'resource', 'sheriff', 'deputy', 'assign', 'school'], ['many', 'activity', 'sport', 'facility', 'good', 'building', 'new', 'class', 'challenge'], ['central', 'approachable', 'parent', 'student', 'alike', 'administrator', 'community', 'open', 'brief', 'discussion', 'extra', 'curricular', 'activity'], ['odd', 'policy', 'school', 'ban', 'requirement', 'band', 'aid', 'distraction', 'associate', 'reality', 'original'], ['central', 'athletic', 'diverse', 'competitive', 'several', 'program', 'perennial', 'conference', 'sectional', 'nice'], ['many', 'club', 'athletic', 'opportunity', 'student', 'administration', 'teaching', 'staff', 'present', 'sport', 'event', 'reminder', 'student', 'parent', 'regard', 'club', 'sport', 'activity', 'schedule', 'campus'], ['review', 'central', 'high', 'schoolrate'], ['class', 'challenge', 'athletic', 'opportunity', 'great', 'musical', 'theatre', 'program'], ['school', 'plenty', 'honor', 'class', 'student', 'flex', 'brain', 'muscle', 'lot', 'low', 'class', 'web', 'design', 'shop', 'academic', 'stress', 'people', 'work', 'hand', 'lot', 'great', 'opportunity', 'school'], ['teacher', 'kid', 'interested', 'teacher', 'fun', 'active', 'read', 'page', 'test'], ['teacher', 'teacher', 'fantastic', 'teacher', 'terrible', 'good', 'teacher', 'young', 'new', 'teacher', 'good'], ['academic', 'central', 'challenge', 'school', 'state', 'indiana', 'offer', 'variety', 'class', 'college'], ['high', 'school', 'problem', 'peer', 'pressure', 'school', 'safe', 'school', 'school', 'surround', 'area', 'majority', 'caucasian', 'open', 'minded', 'people', 'friendly', 'student'], ['review', 'central', 'high', 'schoolrate'], ['safe', 'school', 'policy', 'rule', 'level', 'safety', 'school', 'high', 'recent', 'year', 'area', 'many', 'tornado', 'school', 'review', 'policy', 'teacher', 'student', 'safe', 'new', 'tornado', 'preparedness', 'plan', 'student', 'case', 'tornado', 'school', 'day'], ['safe', 'fact', 'safe', 'school', 'secure', 'school', 'front', 'door', 'unlock', 'visitor', 'school', 'sheriff'], ['several', 'opportunity', 'join', 'type', 'sport', 'club'], ['much', 'school', 'spirit', 'cheer', 'amount', 'fan', 'infinite', 'many', 'fun', 'sport', 'player'], ['school', 'caucasin', 'student', 'minority', 'student', 'racial', 'conflict', 'school', 'peer', 'pressure', 'minimum', 'student', 'school', 'program', 'sport', 'run', 'student'], ['school', 'offier', 'lot', 'great', 'club', 'sporting', 'activity', 'academic', 'event'], ['several', 'seminar', 'meeting', 'parent', 'college', 'app', 'financial', 'aid', 'app', 'upperclassman', 'student', 'volunteer', 'tutor', 'tutor', 'lab', 'available', 'class', 'act'], ['staff', 'good', 'prevent', 'stop', 'aware'], ['student', 'extracurricular', 'activity', 'friend', 'school', 'matter', 'race', 'ethical', 'diversity', 'sexual', 'orientation'], ['school', 'wonderful', 'food', 'huge', 'variety', 'entree', 'fruit', 'vegetable', 'day', 'food', 'healthy', 'vegetarian', 'dietary', 'need'], ['student', 'involvement', 'experience', 'team', 'high', 'school', 'large', 'study', 'body', 'easy', 'friend', 'large', 'list', 'opportunity'], ['entire', 'experience', 'floyd', 'central', 'great', 'start', 'teacher', 'helpful', 'lot', 'review', 'safety', 'protocol', 'prepared', 'situation', 'love', 'school', 'hope', 'class'], ['many', 'opportunity', 'student', 'academic', 'sport', 'art', 'music', 'club', 'community', 'involvement', 'part', 'school', 'guidance', 'student', 'help', 'teacher', 'student', 'respect', 'good', 'school', 'rate', 'school', 'thing', 'different', 'interest', 'group', 'intermingle', 'last', 'year', 'difficult', 'due', 'covid'], ['review', 'central', 'high', 'schoolrate'], ['place', 'whole', 'school', 'clean', 'safe', 'make', 'lot', 'memory', 'last', 'whole', 'life', 'teacher', 'staff', 'amazing', 'central', 'much'], ['year', 'central', 'teacher', 'hard', 'help', 'question', 'counselor', 'eager', 'help', 'college', 'power', 'gain', 'answer', 'question'], ['amazing', 'time', 'pride', 'good', 'education', 'college', 'readiness', 'complete', 'freshman', 'year', 'central', 'music', 'program', 'amazing', 'highlight', 'experience'], ['central', 'year', 'thing', 'change', 'excellence', 'outstanding', 'academic', 'staff', 'incredible', 'result', 'student', 'workforce', 'education'], ['proud', 'call', 'graduate', 'fond', 'memory'], ['many', 'type', 'class', 'extra', 'curriculare', 'counselor', 'many', 'thing', 'track', 'help'], ['high', 'school', 'area', 'staff', 'student', 'success', 'environment', 'good'], ['amazing', 'school', 'staff', 'student', 'welcome', 'education', 'good', 'decision'], ['huge', 'school', 'big', 'opportunity', 'club', 'sport', 'awesome', 'opportunity', 'college', 'credit', 'take', 'class', 'school', 'staff', 'support', 'awesome'], ['experience', 'positive', 'lucky', 'resource', 'available', 'plenty', 'opportunity', 'involve', 'school', 'community', 'staff', 'student', 'involvement', 'success', 'many', 'advanced', 'course', 'available', 'encourage', 'student', 'rigorous', 'class', 'challenge', 'priority', 'teacher', 'administration', 'sport', 'fine', 'art', 'group', 'regional', 'state', 'level', 'fchs', 'student', 'time', 'graduation'], ['good', 'student', 'college', 'teacher', 'friendly', 'effective', 'facility', 'nice', 'clean', 'plenty', 'diversity', 'people', 'many', 'different', 'country'], ['good', 'year', 'life', 'many', 'thing', 'range', 'education', 'social', 'skill', 'life', 'long', 'friend', 'amazing', 'teacher', 'change', 'outlook', 'many', 'idea', 'education', 'good', 'day', 'college', 'matter', 'level', 'cognitive', 'ability', 'extracurricular', 'endless', 'range', 'band', 'basketball', 'science', 'olympiad', 'dungeon', 'dragon', 'club', 'dance', 'marathon', 'many', 'opportunity', 'year', 'school', 'staff', 'student', 'atmosphere', 'school', 'positive', 'dynamic', 'public', 'high', 'school', 'central', 'high', 'school', 'great', 'place', 'young', 'teen', 'year'], ['year', 'love', 'teacher', 'good', 'part', 'club', 'sport', 'thing', 'change', 'diversity', 'school'], ['quality', 'education', 'central', 'high', 'school', 'fantastic', 'school', 'offer', 'class', 'student', 'ability', 'passion', 'central', 'many', 'class', 'curriculum', 'multiple', 'class', 'class', 'central', 'challenge', 'class', 'teacher', 'college', 'real', 'world', 'difficulty', 'number', 'college', 'excellent', 'school', 'enjoy', 'challenge', 'large', 'school', 'setting'], ['review', 'central', 'high', 'schoolrate'], ['admin', 'supportive', 'teacher', 'class'], ['community', 'faculty', 'school', 'impeccable', 'help', 'step', 'way', 'future', 'variety', 'course', 'extra', 'circular', 'easy', 'thrive', 'floyd', 'central'], ['class', 'offer', 'world', 'art', 'school', 'art', 'program', 'amazing', 'drive', 'local', 'school', 'kid', 'love', 'pool', 'school', 'pool', 'swim', 'team', 'successful', 'safe', 'sport', 'lifetime', 'team', 'sport', 'live', 'school', 'house', 'many', 'many', 'kid', 'love', 'amount', 'counselor', 'available', 'kid'], ['student', 'handbell', 'basketball', 'team', 'manufacture', 'class', 'math', 'project', 'lead', 'way', 'graduate', 'technical', 'honor', 'degree', 'fantastic', 'academic', 'school', 'school', 'thing', 'diversity', 'fantastic', 'school', 'great', 'area'], ['many', 'opportunity', 'variety', 'program', 'welcome', 'atmosphere', 'readiness', 'help', 'area'], ['student', 'central', 'past', 'year', 'experience', 'scared', 'freshman', 'know', 'life', 'central', 'confident', 'senior', 'good', 'idea', 'life', 'central', 'sign', 'huge', 'deal', 'show', 'people', 'work', 'staff', 'limit', 'ready', 'college', 'college', 'successful', 'life'], ['review', 'central', 'high', 'schoolrate'], ['many', 'opportunity', 'school', 'student', 'many', 'different', 'elective', 'pick', 'central', 'many', 'different', 'club', 'sport', 'pick', 'school'], ['good', 'nice', 'friendly', 'teacher', 'staff', 'future', 'kid', 'school', 'people', 'kid', 'school'], ['numerous', 'educational', 'opportunity', 'intl', 'advanced', 'placement', 'dual', 'credit', 'program', 'student', 'college', 'senior', 'class', 'graduate', 'high', 'school', 'half', 'day', 'college', 'course', 'half', 'day', 'time', 'enter', 'freshman', 'year', 'college', 'general', 'education', 'class', 'shorten', 'amount', 'class', 'graduate', 'place', 'high', 'value', 'education', 'curriculum', 'advanced', 'teacher', 'student', 'equip', 'successful'], ['area', 'improvement', 'school', 'diversity', 'great', 'job', 'help', 'minority', 'student', 'people', 'experience', 'thing', 'outreach', 'community', 'increase', 'diversity', 'enrollment', 'helpful'], ['experience', 'central', 'year', 'full', 'learning', 'top', 'school', 'district', 'school', 'thrive', 'sure', 'student', 'teacher', 'excellent', 'way', 'love', 'job', 'help', 'student', 'sport', 'team', 'coach', 'experience', 'sport', 'player', 'life', 'skill', 'respect', 'manner'], ['central', 'lot', 'amazing', 'opportunity', 'many', 'dual', 'credit', 'class', 'many', 'elective', 'college', 'employment', 'overall', 'staff', 'friendly', 'musical', 'program', 'school', 'outstanding', 'group', 'country', 'trip', 'athletic', 'program', 'win', 'rate', 'high'], ['central', 'high', 'school', 'learn', 'challenge', 'high', 'school', 'year', 'student', 'athlete', 'manage', 'time', 'extended', 'day', 'willingness', 'teacher', 'student', 'late', 'task', 'easy', 'talk', 'health', 'athlete', 'strength', 'condition', 'coach', 'word', 'action', 'teacher', 'work', 'central', 'healthy', 'strong', 'athlete', 'school', 'academic', 'rating', 'blue', 'ribbon', 'school', 'focus', 'athlete', 'unique', 'combination', 'administration', 'central'], ['highschool', 'prestigious', 'school', 'focus', 'ideal', 'discipline', 'education', 'central', 'live', 'expectation', 'state', 'top', 'school', 'base', 'state', 'world', 'class', 'training', 'senior', 'play', 'demand', 'football', 'team', 'varsity', 'level', 'year', 'mediocre', 'easy', 'class', 'far', 'truth', 'able', 'year', 'state', 'team', 'football', 'amazing', 'support', 'system', 'child', 'highschool'], ['amazing', 'school', 'teacher', 'staff', 'member', 'supportive', 'excellent', 'student', 'body', 'good', 'pleasant', 'attitude', 'school', 'diverse', 'open', 'culture'], ['high', 'school', 'high', 'school', 'privilege', 'faculty', 'staff', 'education', 'time', 'confident', 'school', 'foundation', 'college', 'great', 'thing'], ['sport', 'club', 'love', 'people', 'teacher', 'staff', 'student', 'great'], ['transfer', 'year', 'love', 'transfer', 'environment', 'competitive'], ['love', 'school', 'much', 'year', 'teacher', 'friend', 'good', 'school', 'area', 'amazing', 'job', 'student', 'real', 'world'], ['diverse', 'school', 'theatre', 'wrestling', 'class', 'fit', 'well', 'place', 'home', 'make', 'role', 'model', 'individual', 'many', 'student', 'roster', 'great', 'amount', 'thing', 'class', 'major', 'peeve', 'teacher', 'perfect', 'job', 'general', 'disappointing', 'depend', 'future', 'dream', 'matter', 'people'], ['high', 'school', 'vast', 'amount', 'course', 'teacher', 'eager', 'help', 'school', 'consideration', 'student', 'ability', 'level', 'work', 'student', 'successful', 'completion', 'high', 'school'], ['review', 'central', 'high', 'schoolrate'], ['positive', 'high', 'school', 'experience', 'teacher', 'personal', 'care', 'student'], ['great', 'school', 'many', 'reason', 'academic', 'outstanding', 'major', 'focus', 'student', 'life', 'high', 'school', 'many', 'graduate', 'great', 'job', 'prepare', 'student', 'rigor', 'college', 'transition', 'high', 'school', 'college', 'difficult', 'teacher', 'staff', 'transition', 'easy', 'graduate', 'college', 'easy', 'high', 'school'], ['thing', 'many', 'team', 'club', 'interest', 'group', 'join', 'high', 'school', 'experience'], ['time', 'high', 'school', 'proud', 'call', 'central', 'home'], ['great', 'opportunity', 'student'], ['teacher', 'fantastic', 'part', 'help', 'level', 'class', 'good', 'level', 'education', 'student', 'challenge'], ['academic', 'wonderful', 'advantage', 'dual', 'credit', 'class', 'experience', 'beneficial', 'future', 'head', 'college', 'central', 'lot', 'student', 'crowd', 'teacher', 'care', 'grade', 'overall', 'school', 'experience', 'large', 'class', 'size', 'student', 'care', 'education', 'academic', 'perform', 'art', 'program', 'excellent', 'rate'], ['wonderful', 'school', 'college', 'class', 'unique', 'learning', 'good', 'fit'], ['review', 'central', 'high', 'schoolrate'], ['large', 'nice', 'school', 'wonderful', 'staff', 'facility'], ['love', 'reliable', 'councilor'], ['overall', 'amazing', 'school', 'much', 'live', 'star', 'excellent', 'student', 'resource', 'classroom', 'opportunity', 'overall', 'environment'], ['central', 'quality', 'education', 'sport', 'program', 'teacher', 'facility', 'resource', 'many', 'teacher', 'way', 'many', 'student', 'friendly', 'safe', 'environment', 'incoming', 'student'], ['child', 'nice', 'school', 'teacher', 'staff', 'easy', 'deal', 'football', 'good', 'daughter', 'color', 'band', 'lot', 'parent', 'support'], ['overall', 'great', 'amazing', 'academic', 'extracurricular', 'activity', 'school', 'example', 'program', 'start', 'program', 'school', 'indiana', 'offer', 'diploma', 'weight', 'college', 'application', 'kid', 'diploma', 'thing', 'wish', 'attitude', 'kid', 'school', 'many', 'stupid', 'stuff', 'many', 'kid', 'ungrateful', 'school', 'fault', 'parent', 'awesome', 'campus'], ['excellent', 'faculty', 'staff', 'school', 'diamond', 'rough', 'proud', 'central', 'high', 'school'], ['student', 'international', 'baccalaureate', 'central', 'program', 'experience', 'many', 'unique', 'opportunity', 'school', 'corporation', 'class', 'able', 'trip', 'spring', 'break', 'education', 'first', 'many', 'indigenous', 'culture', 'society', 'trip', 'widen', 'perspective', 'able', 'witness', 'first', 'hand', 'many', 'culture'], ['glad', 'move', 'child', 'able', 'many', 'opportunity', 'available', 'faculty', 'staff', 'student', 'great', 'school'], ['wonderful', 'experience', 'high', 'school', 'football', 'team', 'year', 'great', 'time', 'meet', 'student', 'discipline', 'respect', 'student', 'faculty', 'great', 'academic', 'school', 'good', 'counselor', 'mark', 'clark', 'help', 'way'], ['central', 'help', 'college', 'help', 'successful', 'person', 'today', 'staff', 'eager', 'willing', 'help', 'time'], ['half', 'year', 'experience', 'teacher', 'good', 'education', 'possible', 'central', 'safe', 'learning', 'environment', 'possible'], ['central', 'incredible', 'program', 'art', 'academic', 'sport', 'facet', 'school', 'life', 'multitude', 'college', 'prep', 'course', 'school', 'able', 'knowledgeable', 'teacher', 'course', 'art', 'rank', 'good', 'midwest', 'high', 'school', 'program', 'band', 'state', 'rank', 'band', 'place', 'newspaper', 'yearbook', 'first', 'state', 'many', 'consecutive', 'year', 'incredible', 'school', 'great', 'pride', 'aspect', 'curriculum', 'extra', 'curricular', 'activity'], ['kid', 'grade', 'experience', 'classroom', 'teacher', 'student', 'ton', 'club', 'state', 'win', 'music', 'program', 'site', 'officer', 'available', 'protection', 'rare', 'event'], ['review', 'central', 'high', 'schoolrate'], ['easy', 'website', 'use', 'fact', 'easy', 'scholarship', 'grateful', 'easy', 'way', 'money', 'college'], ['year', 'prepared', 'college', 'class', 'advanced', 'school', 'surround', 'school', 'numerous', 'different', 'activity', 'club', 'people'], ['excellent', 'school', 'step', 'way', 'year', 'plan', 'accessibility', 'guidance', 'counselor', 'professional', 'teaching', 'staff', 'student', 'portal', 'check', 'grade', 'dance', 'program', 'balance', 'education', 'friend', 'fun', 'future'], ['opportunity', 'niche', 'fit', 'athletic', 'band', 'orchestra', 'art', 'academic', 'second', 'none', 'great', 'school'], ['need'], ['club', 'sport', 'extra', 'curricular', 'activity', 'fantastic', 'child', 'club', 'much', 'time', 'dedication', 'staff', 'assist', 'student'], ['review', 'central', 'high', 'schoolrate'], ['student', 'love', 'teacher', 'year', 'care', 'student', 'available', 'help', 'teacher', 'personal', 'phone', 'number'], ['extracurricular', 'opportunity', 'central', 'phenomenal', 'activity', 'club', 'athletic', 'activity', 'major', 'focus', 'many', 'club', 'dance', 'marathon', 'committee', 'activity'], ['safe', 'floyd', 'central', 'danger', 'school'], ['challenge', 'wonderful', 'staff', 'building', 'student'], ['facility', 'excellent', 'high', 'school'], ['school', 'student', 'safe', 'good', 'health', 'possible'], ['athletic', 'fitness', 'opportunity', 'good', 'endless', 'option', 'opportunity', 'sport', 'activity', 'lot', 'student', 'sport', 'activity'], ['extracurricular', 'activity', 'opportunity', 'school', 'great', 'many', 'opportunity', 'fun', 'lot'], ['wide', 'variety', 'extracurricular', 'activity', 'student', 'sport', 'club', 'chess', 'club', 'many', 'teacher', 'different', 'activity', 'hard', 'student', 'sport', 'club', 'practice', 'club', 'meeting', 'overlap'], ['kid', 'school', 'district', 'area', 'drive', 'mile', 'way', 'school', 'transfer', 'kid', 'opportunity', 'excellence', 'absolute', 'good', 'choice', 'kid', 'education', 'school', 'twice', 'size', 'school', 'personal', 'feel', 'teacher', 'counselor', 'touch', 'success', 'individual', 'student', 'countless', 'opportunity', 'new', 'old', 'available', 'kid', 'school', 'day', 'extracurricular', 'involvement', 'student', 'box', 'stereotype', 'base', 'small', 'town', 'mentality', 'politic', 'opportunity', 'available', 'student', 'willing', 'get', 'school', 'open', 'door', 'child', 'great', 'chance', 'next', 'student', 'priority', 'educational', 'choice', 'grateful', 'opportunity', 'transfer'], ['high', 'school', 'state', 'art', 'facility', 'enormous', 'amount', 'hand', 'technology', 'opportunity', 'equipment', 'instruction', 'many', 'college', 'technical', 'top', 'school', 'parent', 'many', 'level', 'volunteer', 'school', 'event', 'mentor', 'student', 'technology', 'equipment', 'work', 'coach', 'staff', 'train', 'instruct', 'student', 'daily', 'course', 'college', 'level', 'course', 'well', 'diploma', 'program', 'opportunity', 'endless', 'student', 'faculty', 'staff', 'personal', 'fit', 'school', 'network', 'experience'], ['athleticism', 'high', 'floyd', 'central', 'school', 'top', 'school', 'sport', 'achievement', 'many', 'championship', 'many', 'state', 'competition', 'competitive', 'strive', 'excellence', 'performance', 'athletic', 'program', 'good', 'proud', 'highland'], ['many', 'organization', 'club', 'school', 'community', 'service', 'student', 'money', 'different', 'charity', 'club', 'organization', 'community', 'big', 'way', 'proud', 'availability', 'opportunity', 'student', 'difference'], ['school', 'hand', 'good', 'area', 'academic', 'excellence', 'wide', 'variety', 'opportunity', 'choice', 'student', 'many', 'area', 'curriculum', 'school', 'award', 'recognition', 'excellence', 'many', 'year', 'achievement', 'student', 'faculty', 'proud', 'able', 'outstanding', 'institution'], ['review', 'central', 'high', 'schoolrate'], ['great', 'variety', 'extracurricular', 'activity', 'school', 'theater', 'program', 'great', 'sport', 'top'], ['club', 'interest', 'option'], ['several', 'teacher', 'astonishing', 'earth', 'space', 'meteorology', 'astronomy', 'teacher', 'work', 'teacher', 'chemist', 'teacher', 'finite', 'teacher', 'teacher', 'able', 'communicate', 'relate', 'student', 'teacher', 'qualified', 'job', 'teacher'], ['high', 'school', 'year', 'floyd', 'central', 'high', 'school', 'amount', 'dedication', 'accomplishment', 'spirit', 'word', 'people', 'high', 'school', 'good', 'year', 'life', 'last', 'year', 'memorable', 'full', 'fun'], ['school', 'many', 'extracurricular', 'activity', 'activity', 'student', 'teacher', 'coach', 'director', 'much', 'school', 'spirit', 'much', 'success', 'academic', 'extracurricular', 'activity'], ['teacher', 'amazing', 'dedicated', 'unique', 'group', 'educator', 'teacher', 'student', 'success', 'majority', 'help', 'side', 'classroom', 'time', 'sure', 'student'], ['review', 'central', 'high', 'schoolrate'], ['academic', 'high', 'school', 'college', 'coursework', 'many', 'academic', 'skill', 'rest', 'life'], ['teacher', 'high', 'school', 'sure', 'challenge', 'student', 'good', 'work'], ['safe', 'secure', 'time', 'high', 'school', 'bully', 'prevalent', 'care'], ['high', 'school', 'college', 'career'], ['building', 'year', 'great', 'spacious', 'great', 'library', 'computer', 'lab', 'accessible', 'perform', 'art', 'department', 'non', 'visitor', 'many', 'mile', 'play', 'reputation', 'state', 'ample', 'opportunity', 'dual', 'credit', 'course', 'college', 'parent', 'involvement', 'immense', 'parent', 'help', 'theater', 'department', 'child', 'graduate', 'parent'], ['high', 'school', 'experience', 'hometown', 'private', 'school', 'area', 'parent', 'thankful', 'opportunity', 'knowledge', 'skill', 'valuable', 'technical', 'theater', 'leadership', 'work', 'ethic', 'skill', 'position', 'prop', 'floor', 'manager', 'major', 'musical', 'production', 'opportunity', 'competition', 'true', 'passion', 'radio', 'plan', 'college', 'film', 'production', 'need', 'skill', 'direction', 'production', 'camera', 'operation', 'school', 'radio', 'station', 'edit', 'county', 'student', 'talk', 'show', 'direct', 'edit', 'many', 'music', 'video', 'weekly', 'sitcom', 'call', 'classroom', 'school'], ['school', 'opportunity', 'dual', 'credit', 'class', 'school', 'offer', 'work', 'study', 'session', 'extra', 'help', 'theater', 'radio', 'program', 'scheduling', 'class', 'easy', 'online', 'home', 'parent', 'involvement'], ['school', 'sport', 'athletic', 'important', 'part', 'student', 'life', 'school', 'team', 'good', 'year', 'bad', 'year', 'great', 'school', 'spirit', 'sport', 'love', 'game', 'football', 'basketball', 'baseball', 'tennis', 'match', 'track', 'support', 'classmate', 'football', 'basketball', 'game', 'theme', 'home', 'game', 'green', 'green', 'breast', 'cancer', 'awareness', 'month', 'pink', 'alumnu', 'participate', 'facility', 'top', 'notch', 'field', 'court'], ['incredible', 'amazing', 'good', 'good'], ['push', 'help', 'good'], ['prepare', 'college'], ['sport', 'support', 'team'], ['teacher', 'responsibility', 'safe', 'rotc', 'teacher'], ['lot', 'different', 'option', 'extracurricular', 'recognize', 'award'], ['review', 'central', 'high', 'schoolrate'], ['teacher', 'flexible', 'willing', 'help', 'tough', 'upper', 'level', 'class', 'school', 'college'], ['new', 'stuff', 'school', 'nice', 'kid', 'respect', 'building'], ['lot', 'extracurricular', 'activity', 'sport', 'club', 'academic', 'group'], ['much', 'floyd', 'central', 'numerous', 'subject', 'learn', 'study', 'habit', 'strategy', 'help', 'ambitious', 'involved', 'student'], ['school', 'pride', 'sport', 'fitness', 'involvement', 'lively', 'game', 'crowd', 'parent', 'student', 'sport'], ['good', 'teacher', 'care'], ['review', 'central', 'high', 'schoolrate'], ['dress', 'code', 'basic', 'restriction', 'stomach', 'spaghetti', 'strap', 'girl', 'unnatural', 'hair', 'facial', 'short', 'short', 'muscle', 'shirt', 'guy', 'cell', 'phone', 'allow', 'classroom', 'hallway', 'phone', 'school', 'hour'], ['school', 'safe', 'gang', 'extreme', 'rarity', 'right'], ['many', 'different', 'club', 'extracurricular', 'opportunity', 'student', 'part', 'gleek', 'club', 'glee', 'fan', 'club', 'club'], ['safe', 'school', 'bully', 'school', 'teacher', 'student', 'step', 'serious'], ['many', 'extracurricular', 'activity', 'good', 'opinion', 'dance', 'marathon', 'money', 'child', 'riley', 'child', 'many', 'different', 'thing', 'last', 'year'], ['athletic', 'facility', 'amazing', 'clean', 'date', 'good', 'coach', 'coach', 'work', 'help', 'good', 'many', 'people', 'event', 'game', 'game', 'activity', 'win', 'school', 'activity', 'goof', 'field', 'basketball', 'team'], ['presidential', 'blue', 'ribbon', 'school', 'strong', 'advanced', 'placement', 'course', 'award', 'international', 'baccalaureate', 'program'], ['physical', 'plant', 'multi', 'dollar', 'expansion', 'renovation', 'classroom', 'school', 'system', 'bond', 'multi', 'medium', 'improvement', 'facility'], ['award', 'high', 'school', 'multiple', 'international', 'baccalaureate', 'course'], ['basis', 'safety', 'indiana', 'rule', 'student', 'harsh', 'punishment', 'safety', 'rule', 'bully', 'thing', 'lightly', 'case', 'deal', 'part', 'student', 'great', 'job', 'student', 'line', 'trouble', 'danger'], ['school', 'great', 'program', 'student', 'art', 'music', 'program', 'vast', 'high', 'contrast', 'local', 'school', 'sport', 'range', 'wrestle', 'way', 'dance', 'serious', 'next', 'club', 'great', 'full', 'administration', 'overall', 'name'], ['athletic', 'opportunity', 'vast', 'amazing', 'many', 'elite', 'program', 'time', 'national', 'champion', 'dance', 'team', 'state', 'recognize', 'team', 'golf', 'tennis', 'sport', 'athlete', 'coach', 'friend', 'work'], ['administration', 'example', 'school', 'new', 'athletic', 'director', 'sport', 'team', 'program', 'help', 'sport', 'program', 'communicate', 'school', 'recognition', 'program'], ['course', 'school', 'diverse', 'program', 'career', 'path', 'class', 'specific', 'career', 'choice', 'college', 'take', 'class', 'freshman', 'sophomore', 'year', 'college', 'many', 'music', 'theatre', 'engineering', 'sport'], ['review', 'central', 'high', 'schoolrate'], ['academic', 'fantastic', 'lot', 'option', 'honor', 'class', 'class', 'different', 'technical', 'honor', 'academic', 'honor', 'senior', 'year', 'new', 'freshman', 'overall', 'academic', 'rigorous'], ['public', 'school', 'high', 'quality', 'education', 'central', 'commitment', 'excellence', 'apparent', 'school', 'teacher', 'student', 'student', 'many', 'opportunity', 'school', 'top', 'rate', 'perform', 'art', 'program', 'many', 'sport', 'club', 'organization', 'student', 'willing', 'high', 'school', 'experience', 'central'], ['good', 'counselor', 'help', 'office'], ['much', 'school', 'good', 'friend', 'staff', 'member', 'game', 'everyday'], ['student', 'school', 'sort', 'club', 'organization', 'sport', 'team'], ['many', 'extracurricular', 'opportunity', 'national', 'society', 'student', 'council', 'student', 'renaissance', 'student', 'mentor', 'national', 'art', 'honor', 'society', 'outdoor', 'club', 'debate', 'math', 'team', 'chess', 'club', 'speech', 'team', 'sport'], ['high', 'school', 'bad', 'school', 'child', 'sweep', 'rug', 'child', 'good', 'reason', 'teacher', 'power', 'hungry', 'math', 'class', 'teacher', 'thing', 'whole', 'class', 'grade', 'top', 'ruin', 'diploma', 'kid', 'trouble'], ['biology', 'class', 'talk', 'evolution', 'conway', 'twitty', 'patsy', 'cline'], ['parent', 'child'], ['junior', 'senior', 'high', 'schoolrate'], ['food', 'bad', 'soup', 'plastic', 'many', 'time', 'people'], ['food', 'option', 'terrible', 'bite', 'mouth', 'student', 'flock', 'carte', 'line', 'grab', 'chick', 'fil', 'sandwich', 'burger', 'mold', 'sandwich', 'bread'], ['school', 'food', 'terrible', 'bad', 'enemy', 'low', 'grade', 'meat', 'lot', 'process', 'food'], ['high', 'school', 'offer', 'experience', 'know', 'school', 'bad', 'thing', 'much', 'drama', 'school', 'experience', 'poor'], ['school', 'offer', 'option', 'honor', 'student'], ['food', 'school', 'good', 'food', 'healthy', 'food', 'good', 'lunch', 'lady', 'work', 'lunch', 'line', 'nice', 'sweet'], ['junior', 'senior', 'high', 'schoolrate'], ['new', 'school', 'tornado', 'nice'], ['student', 'home', 'sleeveless', 'shirt', 'kid', 'gossip', 'call', 'student', 'terrible', 'name', 'front', 'teacher', 'explain', 'logic', 'hosco'], ['student', 'sport', 'sport', 'student', 'body', 'rest'], ['several', 'teacher', 'year', 'current', 'band', 'director', 'friendly', 'student', 'pal', 'authoritative', 'figure', 'student', 'respect', 'classroom', 'chaotic', 'spanish', 'teacher', 'nice', 'topic', 'talk', 'entire', 'class'], ['teacher', 'care', 'student'], ['teacher', 'excellent', 'teaching', 'lack', 'thing'], ['club', 'group', 'talk', 'thing', 'teacher', 'certain', 'club', 'sport', 'whole', 'lot', 'promise'], ['food', 'choice', 'awful', 'good', 'option', 'carte', 'line'], ['football', 'available', 'available', 'enough', 'money', 'support', 'team', 'tennis', 'team', 'team', 'player', 'scholarship', 'college', 'sport', 'high', 'school', 'basketball', 'organize', 'support', 'community', 'cheer', 'team', 'several', 'girl', 'skill', 'level', 'low'], ['condition', 'school', 'building', 'brand', 'new', 'tornado', 'air', 'conditioning', 'heating', 'sweat', 'pound', 'icicle', 'nose', 'technology', 'computer', 'lab', 'fine', 'class', 'terrible', 'slow', 'molasse', 'smart', 'board', 'projector', 'smart', 'board', 'screen', 'guidance', 'counselor', 'guidance', 'college', 'prep', 'resource', 'tutoring', 'thing', 'fifth', 'grade', 'draw', 'math', 'problem', 'parent', 'school', 'teacher', 'unfair', 'lie', 'fine', 'good', 'thing', 'many', 'great', 'teacher', 'student', 'lucky'], ['racial', 'diversity', 'stand', 'school', 'homosexuality'], ['teacher', 'standard', 'student', 'teacher', 'great'], ['food', 'school', 'reuse', 'day', 'thing', 'carte', 'line', 'waste', 'obvious', 'disgust', 'food', 'overall', 'unhealthy', 'choice'], ['school', 'overall', 'school', 'new', 'believe', 'improvment', 'staff', 'student', 'close', 'wonderful', 'small', 'town', 'effect', 'school', 'real', 'world', 'part'], ['school', 'sport', 'golf', 'swimming'], ['small', 'school', 'personal', 'teacher', 'good', 'job', 'connect', 'student', 'need', 'environment', 'dual', 'credit', 'offer', 'ivy', 'tech', 'teach', 'teacher', 'require', 'course', 'stgec', 'get', 'year', 'college', 'way'], ['school', 'lot', 'diversity', 'student', 'sport', 'class', 'enough', 'okay', 'school'], ['high', 'school', 'year', 'grade', 'grade', 'opportunity', 'dual', 'credit', 'class', 'offer', 'class', 'prepare', 'class', 'challenge', 'college', 'downfall', 'high', 'school', 'administration', 'staff', 'school', 'system', 'many', 'staff', 'teacher', 'administration', 'willing', 'thing', 'principal', 'teacher', 'impact', 'school', 'reason', 'silver', 'creek', 'issue', 'academic', 'life', 'high', 'school', 'promise', 'counselor', 'busy', 'testing', 'schedule', 'time'], ['junior', 'senior', 'high', 'schoolrate'], ['junior', 'senior', 'high', 'school', 'decent', 'school', 'teacher', 'good', 'kid', 'ready', 'future', 'many', 'course', 'option', 'interest', 'year', 'due', 'lack', 'involvement', 'class'], ['junior', 'senior', 'high', 'school', 'teacher', 'many', 'care', 'student', 'pass', 'grade', 'long', 'respectful', 'work', 'system', 'change', 'class', 'time', 'activity', 'student', 'thing', 'student', 'change', 'senior', 'immature', 'student', 'follow', 'cause', 'noisy', 'classroom', 'student', 'overall', 'enjoy', 'time', 'school', 'learning', 'friend'], ['school', 'system', 'whole', 'life', 'small', 'town', 'improvement', 'meal', 'healthy', 'frozen', 'box', 'food', 'cook', 'way'], ['teacher', 'good', 'job'], ['scheduling', 'process', 'first', 'week', 'school', 'year', 'student', 'whole', 'week', 'change', 'class', 'ivy', 'tech', 'half', 'day', 'half', 'henryville', 'miscommunication', 'academic', 'honor', 'verse', 'associate', 'degree', 'high', 'school', 'academic', 'honor', 'vital'], ['student', 'helpful', 'time', 'teacher', 'kid', 'respect', 'eld', 'henryville'], ['favorite', 'experience', 'school', 'sport', 'friend', 'moment', 'school', 'bad', 'school', 'choice', 'education', 'importance', 'inteligent', 'student', 'terrible'], ['handfull', 'teacher', 'henryville', 'sure', 'struggle', 'student', 'pass', 'help', 'student', 'right', 'education'], ['teacher', 'hard', 'student', 'teacher', 'student', 'understande', 'student', 'class'], ['school', 'extracurricular', 'activity', 'student'], ['overall', 'experience', 'teacher', 'great', 'wish', 'opportunity', 'education', 'advanced', 'class'], ['teacher', 'student', 'care', 'education', 'teacher', 'student', 'ratio', 'great'], ['different', 'type', 'club', 'many', 'people', 'much', 'money', 'club', 'organization', 'popular', 'softball', 'volleyball', 'people', 'teacher', 'henryville', 'coach', 'club', 'organization', 'lead', 'staff', 'member'], ['junior', 'senior', 'high', 'schoolrate'], ['teacher', 'nice', 'helpful', 'student', 'teacher', 'student', 'help', 'short', 'care', 'week', 'favorite', 'week', 'year', 'school', 'grade', 'compete', 'thing', 'color', 'day', 'blast', 'twin', 'day', 'good', 'week', 'big', 'rival', 'game'], ['teacher', 'high', 'school', 'love', 'job', 'teacher', 'tell', 'wish', 'different', 'major', 'depend', 'much', 'engage', 'sincere'], ['teacher', 'resonable', 'time', 'stident', 'work'], ['people', 'interesting', 'nice', 'staff', 'rude'], ['school', 'mediocre', 'faculty', 'great', 'part', 'facility', 'school', 'poor', 'tornado', 'money', 'waste', 'fountain', 'visible', 'replacement', 'weight', 'room', 'athlete'], ['administration', 'forceful', 'good', 'job', 'address', 'kid', 'break', 'dress', 'code', 'attendance', 'serious', 'serious', 'awful', 'job', 'punish'], ['junior', 'senior', 'high', 'schoolrate'], ['variety', 'sport', 'school', 'facility', 'sport', 'average', 'condition', 'basketball', 'program', 'focus', 'school', 'spirit', 'community', 'support', 'sport', 'school', 'community', 'much', 'basketball', 'program'], ['extracurricular', 'opportunity', 'school', 'wide', 'variety', 'club', 'organization', 'different', 'type', 'club', 'range', 'art', 'math', 'club', 'business', 'many', 'many', 'school', 'good', 'quality', 'club', 'club', 'full', 'people'], ['fact', 'student', 'body', 'drug', 'drink', 'part', 'whole', 'drug', 'alcohol', 'problem', 'thing', 'school', 'seminar', 'right', 'fact', 'alumnu', 'fact', 'several', 'kid', 'school', 'smell', 'weed'], ['fire', 'drill'], ['student', 'sporting', 'event'], ['teacher', 'job', 'teacher', 'minimum', 'amount', 'work'], ['push', 'student', 'possible', 'education'], ['curriculum', 'limit', 'number', 'student', 'teacher', 'advanced', 'class', 'local', 'ivy', 'tech', 'agreement', 'prosser', 'class', 'high', 'school', 'school', 'district', 'advanced', 'math', 'science', 'foreign', 'language', 'advance', 'student', 'college', 'world', 'hhs'], ['high', 'school', 'guidance', 'counselor', 'aggressive', 'help', 'student', 'college', 'scholarship', 'information', 'high', 'school', 'vocational', 'school', 'sketchy', 'act', 'accuplacer', 'testing', 'high', 'school', 'college', 'application', 'little', 'intimidate', 'support', 'counselor', 'school'], ['act', 'accuplacer', 'exam', 'wish', 'high', 'school', 'exam', 'junior', 'senior', 'year', 'part', 'senior', 'prepare', 'college', 'basic', 'math', 'language', 'class', 'score', 'high', 'enough', 'accuplacer', 'exam', 'university', 'guidance', 'opportunity', 'high', 'stake', 'college', 'entrance', 'exam'], ['door', 'school', 'electronic', 'lock', 'front', 'office'], ['extracurricular', 'available'], ['lot', 'guideline', 'rule', 'push', 'staff', 'trouble'], ['good', 'game', 'large', 'student', 'section'], ['certain', 'teacher', 'lesson', 'interesting', 'biased', 'act', 'student', 'couple', 'class', 'offer', 'block', 'scheduling', 'procrastination', 'easy', 'common'], ['junior', 'senior', 'high', 'schoolrate'], ['extra', 'curricular', 'activity', 'support', 'staff', 'key', 'club', 'good', 'club', 'school'], ['key', 'club', 'good', 'experience', 'high', 'math', 'class'], ['handful', 'great', 'teacher', 'work', 'hard', 'teacher', 'standard'], ['junior', 'senior', 'high', 'schoolrate'], ['common', 'problem', 'much', 'school', 'police', 'officer', 'time', 'elementary', 'nurse', 'elementary', 'problem', 'mint', 'teacher', 'power', 'student', 'teacher', 'teacher', 'certain', 'interest', 'help', 'student', 'school', 'safe', 'fear', 'building', 'threat', 'principle', 'act'], ['decent', 'facility', 'due', 'rural', 'setting', 'problem', 'bug', 'mouse', 'snake', 'modern', 'technology', 'school', 'key', 'accessible', 'certain', 'student', 'guidance', 'counselor', 'high', 'school', 'much', 'help', 'time', 'college', 'prep', 'resource', 'limited', 'national', 'honor', 'society', 'student', 'tutor', 'available', 'parent', 'involvement', 'student', 'access'], ['lot', 'thing', 'different', 'club', 'many', 'club', 'school', 'activity'], ['teacher', 'lot', 'know', 'class', 'challenge', 'teacher', 'personality', 'grade', 'irp', 'study', 'homework'], ['many', 'unique', 'experience', 'school', 'work', 'thing', 'many', 'memorable', 'thing'], ['adundance', 'sport', 'group', 'art', 'interest', 'group', 'weakness', 'entire', 'school', 'faculty', 'support', 'group', 'little', 'favortism'], ['little', 'racial', 'sexual', 'orientation', 'diversity', 'diverse', 'group', 'school', 'student', 'staff'], ['nurse', 'available', 'sick', 'injure', 'student', 'nurse', 'care', 'elementary', 'highschool', 'student', 'bully', 'principal', 'student', 'rough', 'time'], ['class', 'basic', 'join', 'club', 'sport', 'interesting', 'drama', 'class', 'couple', 'year'], ['much', 'diversity', 'school', 'caucasian', 'school'], ['principal', 'staff', 'impact', 'student', 'student', 'name', 'time', 'successful', 'high', 'school', 'career', 'help', 'help'], ['food', 'school', 'average', 'amazing', 'many', 'choice', 'lunch', 'food', 'option', 'lunch', 'healthy', 'run'], ['high', 'school', 'lack', 'technology', 'equipment', 'wifi', 'student', 'teacher', 'able', 'personal', 'computer', 'work', 'student', 'laptop', 'print', 'personal', 'computer', 'surf', 'censor', 'web', 'school', 'good', 'quality', 'sport', 'equipment', 'teacher', 'amazing', 'standard', 'low'], ['vast', 'range', 'extracurricular', 'opportunity', 'hhs', 'way', 'various', 'athletic', 'student', 'government', 'key', 'club'], ['junior', 'senior', 'high', 'schoolrate'], ['teacher', 'close', 'student', 'somtime', 'disadvantage', 'student', 'student', 'help', 'teacher', 'student', 'school'], ['small', 'town', 'effect', 'work', 'negativly', 'area', 'peer', 'pressure', 'eachother', 'talk', 'point', 'time', 'social', 'group'], ['love', 'school', 'different', 'hard', 'college', 'great', 'memory', 'make', 'school', 'strong', 'close', 'knit', 'help', 'pride', 'way'], ['safe', 'school', 'school', 'feel', 'teacher', 'first', 'case', 'school', 'tornado', 'regular', 'drill', 'safe'], ['teacher', 'interactive', 'student', 'small', 'school', 'helpful', 'many', 'use', 'technology', 'lot'], ['faculty', 'member', 'helpful', 'knowledgeable', 'apparent', 'care', 'student', 'education', 'small', 'school', 'good', 'able'], ['high', 'school', 'small', 'school', 'many', 'option', 'academic', 'club', 'wise', 'personal', 'connection', 'teacher', 'help'], ['year', 'high', 'school', 'love', 'band', 'important', 'school', 'wish', 'course', 'student', 'variety', 'option'], ['junior', 'senior', 'high', 'schoolrate'], ['way', 'school', 'small', 'people', 'nice', 'teacher', 'nice', 'big', 'school', 'henryville', 'small', 'comfortable', 'school', 'school', 'change', 'benefit', 'academic', 'physical', 'grade'], ['high', 'school', 'small', 'town', 'night', 'team', 'several', 'classmate', 'teacher', 'friend', 'school', 'support', 'family', 'rest', 'thing', 'whole', 'college', 'class', 'hard', 'challenge', 'know', 'class', 'think', 'help', 'student', 'college'], ['junior', 'senior', 'high', 'school', 'small', 'school', 'large', 'opportunity', 'henryville', 'individual', 'close', 'fellow', 'student', 'strong', 'sense', 'unity', 'teamwork', 'henryville', 'staff', 'student', 'ratio', 'small', 'school', 'experience', 'teacher', 'eager', 'help', 'student', 'experience', 'henryville', 'excpetional', 'building', 'help', 'reconstruction', 'school', 'rush', 'building', 'peak', 'ceiling', 'wall', 'mold', 'classroom', 'experience', 'growth', 'grass', 'carpet', 'various', 'student', 'allergic', 'mold', 'experience', 'allergic', 'reaction', 'building', 'fix', 'community', 'amazing'], ['great', 'experience', 'high', 'school', 'small', 'town', 'staff', 'friendly', 'excellent', 'job', 'small', 'school', 'sport', 'opportunity', 'student', 'sport'], ['close', 'knot', 'community', 'small', 'town', 'school', 'center', 'pride', 'community', 'thing', 'revolve', 'school', 'activity', 'close', 'time', 'comfortable', 'talk', 'henryville', 'multiple', 'college', 'course', 'opportunity', 'teacher', 'good', 'fun'], ['henryville', 'eighth', 'grade', 'small', 'class', 'size', 'people', 'due', 'small', 'size', 'resource', 'many', 'dual', 'credit', 'class', 'student', 'food', 'terrible', 'many', 'student', 'lunch', 'diversity', 'minimal', 'nepotism', 'school', 'system'], ['high', 'school', 'overall', 'good', 'school', 'plenty', 'dual', 'credit', 'class', 'student', 'wonderful', 'opportunity', 'college', 'high', 'school', 'sport', 'team', 'environment', 'spectacular', 'teacher', 'ready', 'help', 'hand', 'sure', 'student', 'successful', 'class', 'class', 'henryville', 'high', 'school'], ['school', 'campus', 'safe', 'friendly', 'environment', 'child', 'young', 'adult', 'campus', 'stay', 'touch', 'day', 'henryville', 'experience', 'high', 'school', 'freshman', 'school', 'glad', 'part', 'community', 'rally', 'school', 'personnel', 'family', 'faculty', 'staff', 'school', 'great', 'place', 'education'], ['henryville', 'teacher', 'generous', 'thing', 'change', 'strictness', 'student'], ['wide', 'variety', 'extracurricular', 'activity', 'school', 'offer', 'pricey'], ['love', 'teacher', 'school', 'many', 'realist', 'truth', 'fake', 'stick', 'student'], ['great', 'experiance', 'school', 'golden', 'band', 'color', 'guard', 'band', 'amazing', 'memory'], ['teacher', 'different', 'approach', 'great', 'learning', 'experience', 'able', 'experience', 'favorite', 'teacher', 'teacher', 'unique', 'impact', 'future', 'way', 'hard', 'work'], ['school', 'great', 'experience', 'experience', 'college', 'surpass', 'high', 'school', 'experience', 'good', 'memory', 'life'], ['junior', 'senior', 'high', 'schoolrate'], ['teacher', 'school', 'teacher', 'knowledgeable', 'school', 'job', 'personal', 'student'], ['great', 'overall', 'school', 'kindergarten', 'love', 'staff', 'office', 'teacher', 'lunch', 'lady', 'bus', 'driver', 'nice', 'people', 'good', 'great', 'education'], ['consistency', 'sporadic', 'grade', 'student', 'cause'], ['high', 'school', 'band', 'fun', 'school'], ['small', 'school', 'average', 'sport', 'big', 'enough', 'pool', 'football', 'team', 'different', 'theme', 'boy', 'girl', 'game', 'basketball'], ['junior', 'senior', 'high', 'schoolrate'], ['school', 'student', 'faculty', 'campus', 'care', 'bully', 'young', 'student', 'bully', 'principle', 'officer', 'site', 'hotline', 'report', 'situation'], ['many', 'sport', 'small', 'time', 'variety', 'sport', 'limit', 'basketball', 'baseball', 'important', 'sport', 'school', 'football', 'team'], ['school', 'basketball', 'team', 'several', 'time', 'soccer', 'team'], ['school', 'chock', 'full', 'friendly', 'teacher', 'temper', 'fun', 'educational', 'experience', 'student'], ['teacher', 'wonderful', 'possible', 'many', 'year', 'set', 'scale', 'way', 'thing', 'run', 'class', 'help', 'general', 'teacher', 'care', 'student', 'successful', 'learning', 'experience'], ['good', 'experience', 'school', 'mom', 'junior', 'year', 'old', 'brother', 'time', 'high', 'school', 'senior', 'year', 'nice', 'able', 'friend', 'join', 'last', 'year', 'high', 'school', 'teacher', 'helpful', 'favorite', 'teacher', 'economic', 'math', 'class', 'year', 'enjoyable', 'find', 'class', 'favorite'], ['high', 'school', 'small', 'school', 'district', 'southern', 'indiana', 'sense', 'family', 'type', 'friendly', 'teacher', 'excellent', 'part', 'love', 'choice', 'academic', 'change', 'college', 'readiness', 'information', 'college', 'sure', 'sign', 'school', 'talk', 'thing', 'important', 'thing', 'highschool', 'excellent', 'family', 'friendly', 'public', 'school', 'welcome'], ['school', 'staff', 'community', 'teacher', 'easy', 'sport', 'offer', 'school', 'life', 'long', 'friend'], ['junior', 'senior', 'high', 'schoolrate'], ['high', 'school', 'awesome', 'teacher', 'care', 'student', 'teacher', 'willing', 'help', 'student'], ['many', 'extracurricular', 'school', 'people', 'football', 'many', 'school'], ['good', 'good', 'school', 'love', 'community', 'hard', 'school', 'teacher', 'staff', 'student', 'love', 'school', 'concerned', 'student', 'struggle', 'way', 'help', 'good', 'school', 'many', 'fight', 'well', 'year', 'year', 'end'], ['staff', 'helpful', 'long', 'cooraperate', 'nice', 'rule', 'unfair', 'biased'], ['school', 'many', 'flaw', 'small', 'ideal', 'school', 'teacher', 'ability', 'student', 'help', 'know', 'personal', 'school', 'comfortable'], ['last', 'year', 'tornado', 'school', 'less', 'year', 'amazing', 'student', 'faculty', 'hard', 'time', 'much', 'people', 'school', 'thing'], ['bad', 'school', 'attend', 'fight', 'day', 'teacher', 'staff', 'student', 'terrible'], ['time', 'new', 'albany', 'value', 'student', 'teacher', 'immature', 'bully', 'obvious', 'favorite', 'student', 'impossible', 'grade', 'extra', 'credit'], ['chance'], ['teacher', 'student', 'grade', 'teacher', 'class', 'teacher', 'focus', 'student', 'grade', 'subject', 'try', 'activity', 'student', 'group'], ['new', 'albany', 'senior', 'high', 'schoolrate'], ['school', 'strict', 'dress', 'code', 'policy', 'attendance', 'fair', 'bully', 'care'], ['athletic', 'comparison', 'high', 'school', 'nation', 'amount', 'quality', 'club', 'organization', 'lack'], ['healthy', 'fresher', 'food', 'quality', 'school', 'life', 'student'], ['helpfulness', 'staff', 'low', 'level', 'unmatched', 'guidance', 'counselor', 'administrator', 'high', 'level', 'school', 'good', 'interest', 'heart', 'concern', 'encouragement', 'struggle', 'student', 'school', 'population', 'clear', 'decision', 'policy'], ['much', 'school', 'activity', 'valid', 'review'], ['food', 'acceptable', 'many', 'healthy', 'organic', 'option', 'variety'], ['food', 'service', 'ideal', 'people', 'week', 'healthy', 'choice', 'decent', 'amount', 'fruit', 'vegetable', 'small', 'amount', 'good', 'shape', 'many', 'machine', 'school', 'corner', 'diet', 'soda', 'machine', 'ton', 'junk', 'food', 'machine'], ['safety', 'fire', 'tornado', 'intruder', 'earthquake', 'drill', 'good', 'knowledgeable'], ['good', 'physical', 'education', 'program', 'health', 'school', 'poor'], ['school', 'good', 'job', 'bad', 'job', 'student', 'life', 'high', 'school', 'way', 'senior', 'class', 'college', 'course', 'aspect', 'fail', 'college', 'decision', 'want', 'job', 'fair', 'nature', 'student', 'right', 'work', 'force', 'college', 'information', 'student'], [], ['school', 'grade', 'teacher', 'material', 'student', 'student', 'test', 'teacher', 'teach', 'class', 'assign'], ['new', 'albany', 'high', 'school', 'friendly', 'staff', 'staff', 'student', 'safety', 'school', 'athletic', 'many', 'athletic', 'miss', 'school', 'main', 'thing', 'art', 'classroom', 'repair', 'piece', 'come', 'hole', 'paint', 'school', 'money', 'new', 'soccer', 'field', 'soccer', 'school', 'main', 'sport', 'band', 'present', 'basketball', 'game', 'little', 'attention', 'school', 'select', 'teacher', 'helpful', 'helpful', 'year', 'school', 'notice', 'process', 'counselor', 'difficult', 'counselor'], ['teacher', 'nice', 'work', 'student', 'school', 'computer', 'red', 'room', 'photography', 'class'], ['parent', 'involvement', 'athletic', 'facility', 'basketball', 'team', 'team', 'matter', 'school', 'need', 'sport', 'much', 'basketball', 'real', 'life', 'class', 'incorporate', 'curriculum'], ['new', 'albany', 'senior', 'high', 'schoolrate'], ['new', 'albany', 'high', 'school', 'diverse', 'school', 'great', 'club', 'teacher', 'councilor', 'ready', 'next', 'step', 'graduation'], ['new', 'albany', 'lot', 'pro', 'con', 'student', 'chill', 'pajama', 'stuck', 'people', 'school', 'teacher', 'care', 'joy', 'fail', 'huge', 'boy', 'basketball', 'sport', 'people', 'less', 'school', 'spirit', 'rally', 'spirit', 'week', 'school', 'dance'], ['club', 'extra', 'activity', 'sort', 'people', 'variety'], ['parent', 'high', 'school', 'year', 'much', 'middle', 'school', 'elementary', 'school', 'year', 'parent', 'kid', 'thing'], ['teacher', 'care', 'repuation', 'student', 'help'], ['majority', 'favorable', 'experience', 'curricular', 'activity', 'word', 'sport', 'athletic', 'teacher', 'administrator', 'parent', 'good', 'amount', 'student', 'wish', 'student', 'big', 'group', 'care', 'support', 'school', 'experience', 'school', 'student', 'hard', 'student', 'school', 'time', 'teacher', 'technique', 'good', 'bad', 'great', 'mix'], ['bully', 'policy', 'matter', 'catch', 'door', 'certain', 'time', 'morning', 'school', 'day', 'end', 'building', 'front', 'desk', 'sign', 'officer', 'current', 'school', 'resource', 'officer', 'school', 'nurse', 'helpful', 'kind', 'good', 'care', 'professionalism', 'least', 'safe', 'environment', 'staff', 'enforce', 'rule'], ['favorite', 'class', 'physics', 'class', 'matter', 'lab', 'regular', 'class', 'new', 'albany', 'senior', 'high', 'school', 'unique', 'way', 'faculty', 'manage', 'curriculum', 'diversity', 'student', 'amount', 'school', 'spirit', 'student', 'faculty', 'reason', 'school', 'ability', 'previous', 'class', 'curriculum'], ['kid', 'talk', 'little', 'spare', 'time', 'sit', 'want'], ['large', 'school', 'unique', 'individual', 'outstanding', 'athletic', 'academic', 'school', 'strict', 'attendance'], ['new', 'albany', 'horrible', 'school'], ['new', 'albany', 'high', 'school', 'interesting', 'majority', 'teacher', 'rule', 'ridiculous', 'whole', 'day', 'school', 'late', 'time', 'school', 'full', 'diversity', 'friend', 'good', 'crowd'], ['school', 'good', 'school', 'attendance', 'good', 'academic'], ['new', 'albany', 'senior', 'high', 'schoolrate'], ['good', 'experience', 'school', 'challenging', 'time', 'work', 'butt', 'grade', 'student', 'wonderful', 'select', 'punish', 'need', 'hall', 'care', 'fact', 'teacher', 'counselor', 'helpful', 'teacher', 'favorite', 'push', 'try', 'school', 'great', 'people', 'many', 'unforgettable', 'experience'], ['lack', 'vegetarian', 'option', 'peanut', 'butter', 'sandwich', 'day', 'lunch', 'option', 'get', 'meat', 'bean', 'meat', 'side'], ['school', 'way', 'much', 'emphasis', 'attendence', 'funding', 'good', 'attendence', 'student', 'major', 'consequence', 'late', 'school', 'school', 'emphasis', 'enough', 'friend', 'early', 'year', 'harrasser', 'class', 'disciplinary', 'charge', 'instance', 'sexual', 'harrassment', 'minimum', 'degree', 'punishment'], ['food', 'school', 'favorite', 'thing', 'lead', 'lunch', 'everyday', 'school', 'lunch'], ['school', 'certain', 'situation', 'enough', 'consistent', 'punishment', 'lot', 'confusion'], ['student', 'new', 'albany', 'lot', 'game', 'school', 'spirit', 'high', 'school', 'little', 'money', 'facility', 'many', 'people', 'senior', 'year', 'high', 'school', 'brand', 'new', 'dollar', 'turf', 'football', 'field'], ['new', 'albany', 'senior', 'high', 'schoolrate'], ['teacher', 'student', 'student', 'teacher', 'team'], ['large', 'amount', 'club', 'new', 'albany', 'grant', 'opportunity', 'start', 'club', 'suit', 'good', 'interest', 'week', 'club', 'study', 'hall', 'work', 'club', 'bad'], ['right', 'freshman', 'ball', 'new', 'albany', 'sense', 'constant', 'work', 'load', 'new', 'albany', 'sense', 'fill', 'scholarship', 'financial', 'aid', 'time', 'work', 'teacher', 'high', 'school', 'job', 'senior', 'upper', 'level', 'school', 'class', 'essential', 'college', 'skill'], ['school', 'offer', 'lot', 'different', 'subject', 'lot', 'teacher', 'school', 'study', 'session'], ['straight', 'college', 'college', 'way', 'different', 'high', 'school', 'people', 'ready', 'college'], ['school', 'safety', 'couple', 'ignorant', 'people', 'hall', 'people', 'conflict', 'hear'], ['couple', 'club', 'student', 'school', 'certain', 'day', 'amount', 'student'], ['nice', 'space', 'plenty', 'room', 'student', 'senior', 'loft', 'great', 'place', 'old', 'student', 'food', 'cafeteria', 'good', 'soup', 'potato', 'sandwich', 'good', 'food', 'international', 'line', 'good', 'general', 'trust', 'food', 'cafeteria', 'milk', 'expiration', 'date', 'good', 'check', 'expiration', 'date'], ['many', 'teacher', 'high', 'ability', 'struggle', 'regular', 'course', 'teacher', 'sure', 'student', 'material', 'test'], ['teacher', 'specific', 'style', 'consistent'], ['pharmacy', 'class', 'school', 'club', 'sport'], ['new', 'albany', 'senior', 'high', 'schoolrate'], ['student', 'prosser', 'senior', 'incentive', 'opportunity', 'student', 'dress', 'code', 'bully', 'policy', 'poor', 'stick', 'trouble', 'amazing'], ['bad', 'pump', 'lot', 'kid', 'act', 'football', 'game', 'class', 'cool'], ['curriculum', 'class', 'school', 'basic', 'general', 'education', 'class', 'several', 'advanced', 'placement', 'class', 'honor', 'class', 'variety', 'elective', 'class', 'school'], ['policy', 'school', 'strict', 'school', 'tolerance', 'tobacco', 'alcohol', 'use', 'precaution', 'faculty', 'discover', 'use', 'product', 'principle', 'assistant', 'principle'], ['new', 'albany', 'senior', 'high', 'schoolrate'], ['teacher', 'outstanding', 'play', 'computer'], ['teacher', 'knowledgeable', 'honor', 'homework'], ['police', 'officer', 'school', 'armed', 'safe', 'procedure', 'school', 'safe', 'student', 'school', 'good', 'idea', 'school', 'medal', 'detector', 'safe'], ['dress', 'code', 'many', 'rule', 'rule', 'enforce', 'rule', 'hat', 'school', 'dress', 'code', 'rule'], ['school', 'base', 'good', 'grade', 'pass', 'class', 'real', 'world'], ['healthy', 'option', 'small', 'portion', 'fan', 'school', 'lunch', 'lunch', 'home', 'day', 'tired', 'school', 'lunch', 'food', 'sixth', 'grade', 'fan', 'eat', 'thing', 'food', 'quality', 'overall', 'good', 'enough', 'time', 'lunch', 'minute', 'enough', 'time', 'walk', 'cafeteria', 'line', 'food', 'good', 'minute'], ['fun', 'school', 'time', 'love', 'friend', 'teacher', 'school', 'least', 'school', 'real', 'world', 'class', 'good', 'grade', 'time', 'new', 'albany', 'high', 'school'], ['dress', 'code', 'large', 'amount', 'student', 'bully'], ['classroom', 'sociological', 'sense', 'many', 'different', 'kind', 'people', 'overall', 'good', 'experience', 'life', 'high', 'school'], ['academic', 'middle', 'student', 'body', 'exceptional', 'student', 'underwhelme', 'staff', 'struggle', 'program', 'improve', 'year'], ['update', 'equipment', 'number', 'healthy', 'food', 'choice', 'daily', 'basis', 'many', 'complaint', 'food', 'week', 'old'], ['specific', 'class', 'able', 'class', 'offer', 'average', 'academic', 'class', 'pre', 'biology', 'school', 'call', 'student', 'bus', 'college', 'school', 'hour', 'hand', 'activity', 'great', 'opportunity', 'thing', 'real', 'world', 'career', 'goal'], ['lunch', 'school', 'food', 'bad'], ['top', 'rank', 'school', 'move', 'present', 'school', 'senior', 'year', 'present', 'school', 'bad', 'school', 'program', 'call', 'career', 'education', 'center', 'bus', 'school', 'college', 'hour', 'good', 'experience', 'high', 'school', 'career', 'hand', 'certain', 'thing', 'real', 'world'], ['new', 'albany', 'senior', 'high', 'schoolrate'], ['far', 'staff', 'concern', 'school', 'good', 'job', 'top', 'thing', 'deal', 'student', 'thing', 'dress', 'code', 'lot', 'place', 'school', 'bully', 'care', 'overall', 'administration'], ['teacher', 'difficult', 'class', 'math', 'precedence', 'high', 'technology', 'classroom', 'quality', 'computer', 'lab', 'pretty', 'average', 'bus', 'system', 'good', 'quality', 'available', 'student', 'teacher', 'willing', 'stay', 'class'], ['school', 'diverse', 'variety', 'class', 'good', 'friend', 'school', 'junior', 'college', 'live', 'friend', 'high', 'school'], ['safe', 'school', 'good', 'job', 'care', 'issue', 'report'], ['great', 'guidance', 'counselor', 'help', 'student', 'future', 'college', 'plan', 'help', 'issue', 'student', 'school', 'bullying', 'attendance'], ['guidance', 'counselor', 'help', 'graduate'], ['new', 'albany', 'senior', 'high', 'schoolrate'], ['high', 'school', 'hard', 'avoid', 'drama', 'athletic', 'program', 'girl', 'soccer', 'powderpuff'], ['silly', 'rule', 'overpay'], ['counselor', 'deal', 'financial', 'support', 'poor'], ['sport', 'likely', 'school', 'need'], ['teacher', 'school', 'great', 'teacher', 'teach', 'student', 'knowledge'], ['peer', 'pressure', 'scene', 'classmate', 'common', 'sense'], ['school', 'club', 'welcome'], ['school', 'set', 'dress', 'code', 'instance', 'student', 'policy', 'worry'], ['clean', 'lunch', 'change', 'food'], ['safe', 'school', 'resource', 'officer', 'site', 'harm', 'way', 'staff', 'school', 'student', 'line'], ['school', 'large', 'small', 'town', 'people', 'friendly', 'year', 'environment', 'fact', 'opportunity', 'wide', 'range', 'class', 'able', 'teacher', 'time', 'sure', 'successful'], ['extracurricular', 'high', 'quality'], ['many', 'great', 'memory', 'new', 'friend', 'school', 'situation', 'witness'], ['extracturricular', 'student', 'club', 'least', 'month', 'shortage', 'teacher', 'club', 'club', 'next', 'year', 'good', 'option', 'school', 'program', 'alot', 'activity', 'student', 'part'], ['new', 'albany', 'senior', 'high', 'schoolrate'], ['computer', 'lab', 'enough', 'computer', 'full', 'class', 'many', 'computer', 'lab', 'school', 'post', 'secondary', 'school', 'guidance', 'counselor', 'weekly', 'handout', 'list', 'possible', 'scholarship', 'area', 'state', 'helpful', 'question', 'scholarship', 'college', 'teacher', 'care', 'student', 'care', 'teacher', 'student', 'many', 'option', 'type', 'class', 'difficulty', 'class', 'honor', 'dual', 'credit', 'new', 'system', 'difficult', 'class', 'new', 'rigorous', 'type', 'diploma', 'offer'], ['diversity', 'high', 'school', 'peer', 'pressure', 'high', 'school', 'popular', 'crowd', 'cool', 'party', 'gay', 'misfit', 'social', 'circle', 'race', 'issue', 'experience', 'face', 'challenge', 'race', 'religion'], ['public', 'school', 'class', 'gym', 'smartboard', 'faculty', 'good', 'bad', 'teacher', 'wonder', 'graduate', 'high', 'school', 'huge', 'role', 'model', 'student', 'good', 'interest'], ['school', 'healthy', 'delicious', 'option', 'food', 'cafeteria', 'worth', 'advice', 'lunch'], ['good', 'resource', 'school', 'use'], ['class', 'good', 'teacher', 'alot'], ['new', 'albany', 'senior', 'high', 'schoolrate'], ['school', 'athletic', 'system', 'great', 'sport', 'club', 'organization'], ['teacher', 'wonderful', 'wonderful', 'school', 'year', 'hand', 'teacher', 'horrible', 'sure', 'school'], ['school', 'decent', 'great', 'people'], ['many', 'sport', 'program', 'available', 'program', 'sport', 'student', 'teacher', 'many', 'club', 'student', 'opportunity', 'many', 'teacher', 'student', 'idea', 'talk', 'correct', 'faculty', 'member', 'initiate', 'good', 'program', 'club', 'idea'], ['major', 'horrible', 'thing', 'school', 'many', 'school', 'bathroom', 'writing'], ['many', 'athletic', 'program', 'student', 'great', 'cough', 'trainer'], ['student', 'willing', 'work', 'student', 'plenty', 'distraction', 'lot', 'student', 'page', 'change', 'lot', 'school', 'freedom', 'way', 'less', 'overall', 'new', 'albany', 'elaborate', 'school', 'bend', 'help', 'student'], ['great', 'school', 'amazing', 'academic', 'extracurricular', 'amazing', 'teacher', 'staff', 'overall', 'experience', 'good'], ['nice', 'great', 'program', 'student', 'environment', 'many', 'exceptional', 'teacher', 'bad', 'teacher'], ['teacher', 'counselor', 'supportive', 'variety', 'different', 'course', 'many', 'academic', 'opportunity', 'pursue'], ['new', 'albany', 'senior', 'high', 'schoolrate'], ['school', 'funding', 'teacher', 'resource'], ['teacher', 'high', 'school', 'student', 'teacher', 'space', 'student', 'parent', 'interaction', 'family', 'student'], ['hate', 'relationship', 'school', 'school', 'lot', 'childhood', 'friend', 'people', 'separate', 'elementary', 'middle', 'school', 'year', 'new', 'people', 'people', 'people', 'different', 'school', 'rule', 'change', 'staff', 'future', 'student', 'thing', 'attendance'], ['new', 'albany', 'high', 'school', 'great', 'school', 'aspect', 'school', 'great', 'teacher', 'dedicated', 'success', 'commit', 'help', 'way', 'teacher', 'atmosphere', 'positive'], ['classroom', 'teacher', 'nice', 'new', 'senior', 'loft', 'nice', 'bathroom', 'clean', 'teacher', 'good', 'teaching', 'technique', 'help'], ['overall', 'time', 'new', 'albany', 'high', 'school', 'lot', 'person', 'many', 'people', 'life', 'different', 'way', 'class', 'offer', 'second', 'none', 'school', 'advantage', 'student', 'graduate', 'high', 'school', 'thing', 'school', 'much', 'emphasis', 'athletic', 'student', 'put', 'student', 'worth', 'sport', 'politic', 'many', 'school', 'today', 'society'], ['new', 'albany', 'art', 'student', 'happy', 'much', 'funding', 'sport', 'lack', 'funding', 'art', 'teacher', 'wonderful', 'teach'], ['good', 'overall', 'counselor', 'work', 'top', 'thing', 'good', 'experience'], ['great', 'diverse', 'environment', 'future', 'matter', 'path'], ['student', 'many', 'opportunity', 'student', 'ready', 'conquer', 'college', 'career'], ['helpful', 'caring', 'need', 'help', 'teacher', 'problem', 'help'], ['lot', 'sport', 'lot', 'volunteer', 'job', 'afterschool'], ['school', 'offer', 'english', 'second', 'language', 'class', 'student', 'english', 'school', 'variety', 'sport', 'club'], ['teacher', 'school', 'love', 'job', 'teacher', 'late', 'help', 'student', 'struggle', 'fun', 'lesson', 'student', 'ipad', 'search'], ['new', 'albany', 'senior', 'high', 'schoolrate'], ['great', 'wish', 'little', 'variety', 'school', 'club', 'photography', 'class', 'sort', 'soany', 'thing', 'inform'], ['bullying', 'many', 'know', 'incident', 'quiet', 'incident', 'safe', 'school', 'believe', 'problem', 'safety', 'student', 'school', 'nurse', 'student', 'problem'], ['many', 'teacher', 'great', 'deal', 'effort', 'student', 'goal', 'wish', 'teacher', 'teacher', 'effort', 'help', 'student', 'teacher', 'large', 'amount', 'teacher', 'teacher', 'student', 'busy', 'work', 'try', 'figure', 'thing', 'sense', 'teacher', 'chapter', 'help', 'time'], ['little', 'concerned', 'safety'], ['many', 'extracurricular', 'activity', 'suit', 'interest', 'participant', 'movie', 'club', 'movie', 'popcorn', 'soda', 'club', 'language', 'science', 'club', 'robotic', 'club', 'robotic', 'great', 'decision', 'club', 'organization', 'fun', 'school', 'help', 'program', 'team', 'robot', 'commitment', 'level', 'high', 'teacher', 'club', 'teacher', 'idea', 'teacher', 'club', 'help', 'college', 'regret'], ['teacher', 'subject', 'teaching', 'style', 'flexible', 'understanding', 'teacher', 'knowledgeable', 'respective', 'subject', 'matter', 'interest', 'individual', 'student', 'curriculum', 'class', 'communication', 'adequate', 'acceptable', 'difficult', 'communicate', 'strict', 'consistent', 'schedule', 'strategy'], ['new', 'albany', 'senior', 'high', 'schoolrate'], ['health', 'safety', 'policy', 'new', 'albany', 'high', 'school', 'great', 'safe', 'due', 'amount', 'safety', 'guideline', 'follow', 'drill', 'practice', 'school', 'cop', 'cool', 'man', 'serious', 'incident', 'school', 'threaten', 'whole', 'level', 'sure', 'health', 'policy', 'school', 'strict', 'good', 'way', 'school', 'start', 'year', 'able', 'school', 'care'], ['extracurricular', 'activity', 'school', 'busy', 'sport', 'cheerleading', 'track', 'lot', 'extracurricular', 'activity', 'student', 'opportunity'], ['overall', 'experience', 'school', 'great', 'blast', 'school', 'run', 'track', 'cheer', 'new', 'due', 'fact', 'good', 'make', 'lot', 'memory', 'play', 'sport', 'close', 'teammate', 'coach', 'favorite', 'experience', 'new', 'albany', 'high', 'school', 'prom', 'senior', 'year', 'senior', 'year', 'school', 'unique', 'first', 'high', 'school', 'indiana', 'school', 'cheer', 'bulldog', 'night'], ['teacher', 'nice', 'eager', 'help', 'student'], ['health', 'safety', 'policy', 'top', 'notch', 'new', 'albany', 'high', 'school'], ['lot', 'extracurricular', 'activity', 'student'], ['thing', 'school', 'diversity', 'acceptance', 'support', 'teacher', 'fellow', 'student', 'aspect'], ['several', 'experience', 'last', 'year', 'new', 'albany', 'senior', 'high', 'school', 'ultimate', 'favorite', 'experience', 'cadet', 'humble', 'lady', 'class', 'fantastic', 'great', 'learning', 'experience', 'teacher', 'elementary', 'time', 'week', 'help', 'kindergarten', 'class', 'prepare', 'teacher', 'day', 'cadet', 'senior', 'year'], ['teacher', 'faculty', 'resume', 'look', 'college', 'application', 'correct'], ['thing', 'school', 'rule', 'thing', 'unreasonable', 'helpful'], ['thing', 'school', 'great', 'school', 'give', 'amount', 'funding', 'small', 'city', 'provide', 'student', 'many', 'opportunity', 'good', 'teacher', 'counselor', 'strong', 'science', 'theatre', 'recent', 'addition', 'program', 'success'], ['teacher', 'student', 'subject', 'science', 'department', 'strong', 'teacher', 'arrive', 'early', 'student', 'help', 'math', 'poor', 'tell', 'occasion', 'early', 'help', 'question', 'class', 'attitude', 'fact', 'teacher', 'administration', 'offer', 'help', 'class'], ['many', 'club', 'organization', 'extra', 'curricular', 'activity', 'active', 'sport', 'popular', 'boy', 'basketball', 'many', 'student', 'game', 'strong', 'good', 'area', 'enough', 'funding', 'band', 'band', 'key', 'club', 'student', 'council', 'lack', 'strong', 'leadership', 'staffing', 'club', 'organization', 'craft', 'many', 'student'], ['regulation', 'student', 'administration', 'office', 'staff', 'guidance', 'counselor', 'least', 'name', 'different', 'circumstance', 'different', 'consequence', 'weird', 'way', 'tge', 'pay', 'love'], ['new', 'albany', 'senior', 'high', 'schoolrate'], ['baseball', 'basketball', 'swimming', 'track', 'soccer', 'football', 'wrestling', 'volleyball', 'many', 'opportunity', 'gymnasium', 'athletic', 'department', 'theme', 'game', 'enough', 'school', 'spirit', 'school', 'good', 'alumnu', 'game', 'support', 'bulldog', 'parent', 'family', 'member', 'player', 'plenty', 'support'], ['teacher', 'respect', 'student', 'certain', 'level', 'student', 'respect', 'thing', 'adult', 'need', 'treat', 'respect', 'majority', 'teacher', 'bull', 'crap', 'great', 'thing', 'student', 'real', 'world', 'phony', 'excuse', 'count', 'late', 'work', 'deadline', 'due', 'student', 'asense', 'hold', 'hand', 'fact', 'teacher', 'wrong'], ['school', 'many', 'different', 'activity', 'student', 'njrotc', 'unit', 'interested', 'military', 'great', 'idea', 'school', 'school', 'student', 'school', 'sport', 'good'], ['teacher', 'new', 'albany', 'high', 'school', 'need', 'help', 'prettye', 'good', 'explain', 'issue', 'school'], ['new', 'albany', 'high', 'school', 'plenty', 'athletic', 'opportunity', 'people', 'sport', 'good', 'quality', 'coach', 'care', 'individual'], ['new', 'albany', 'senior', 'high', 'schoolrate'], ['school', 'activity'], ['principal', 'time', 'sufficient', 'job', 'manage', 'staff', 'student', 'school', 'guidance', 'counselor', 'work', 'guidance', 'counselor', 'student', 'nah', 'plethora', 'scholarship', 'lily', 'counselor', 'life', 'help', 'decision', 'future', 'present', 'addition', 'guidance', 'counselor', 'help', 'abusive', 'relationship', 'recovery', 'big', 'role', 'model', 'life', 'office', 'staff', 'friendly', 'helpful', 'bully', 'rare', 'nah', 'care', 'dress', 'code', 'lenient', 'modesty', 'mid', 'short', 'attendance', 'important', 'school', 'tardie', 'controversial', 'policy'], ['many', 'sport', 'high', 'school', 'different', 'club', 'organization', 'available'], ['several', 'different', 'extracurricular', 'event', 'sport', 'community', 'service', 'whole', 'list', 'club', 'join', 'robotic', 'magic', 'gathering', 'card', 'game', 'club', 'fun', 'school', 'faculty', 'sponsor', 'club', 'school', 'necessary', 'material', 'need'], ['education', 'new', 'albany', 'high', 'school', 'intense', 'course', 'load', 'college', 'prepare', 'class', 'graduate', 'college', 'information', 'high', 'school'], ['faculty', 'proficient', 'comfortable', 'syllabus', 'requirement', 'student', 'success'], ['small'], ['many', 'extracurricular', 'activity'], ['many', 'club', 'student', 'club', 'day', 'several', 'time', 'month', 'club', 'class', 'period'], ['wide', 'variety', 'style', 'applicable', 'different', 'type', 'student'], ['program', 'student', 'help'], ['many', 'option', 'quality'], ['new', 'albany', 'senior', 'high', 'schoolrate'], ['big', 'proponent', 'school', 'demographic'], ['wide', 'variety', 'class', 'teacher', 'personable', 'student', 'success', 'wide', 'variety', 'class', 'student', 'control', 'work', 'load', 'class', 'enjoy', 'beneficial'], ['school', 'large', 'variety', 'people', 'different', 'ethnic', 'cultural', 'background', 'help', 'diversity', 'friend', 'many', 'different', 'people', 'great', 'student', 'real', 'world'], ['lot', 'athletic', 'people', 'school', 'football', 'game', 'bad', 'experoence', 'school', 'football', 'game', 'support', 'friend', 'average', 'amount', 'sport', 'school', 'good'], ['teacher', 'school', 'education', 'time', 'sit', 'help'], ['diversity', 'school', 'area'], ['new', 'albany', 'senior', 'high', 'schoolrate'], ['excellent', 'teacher', 'staff', 'counselor', 'call', 'duty', 'help', 'student'], ['graduate', 'university', 'happy', 'experience', 'nah'], ['huge', 'student', 'section', 'game', 'basketball', 'football', 'soccer', 'man', 'woman', 'basketball', 'team', 'championship'], ['food', 'large', 'cafeteria', 'lot', 'space'], ['academic', 'huge', 'variety', 'college'], ['overall', 'resource', 'facility', 'school', 'decent', 'condition', 'school', 'building', 'college', 'prep', 'counselor', 'fantastic', 'job', 'date', 'need', 'know', 'college', 'need'], ['academic', 'offer', 'school', 'great', 'class', 'large', 'variety', 'honor', 'dual', 'credit', 'many', 'help', 'right', 'direction', 'good', 'education', 'possible', 'workload', 'class', 'good', 'amount', 'overwhelming', 'finish', 'right', 'amount', 'time'], ['school', 'love', 'school', 'big', 'offer', 'successful', 'school', 'amazing', 'able', 'talk', 'hang', 'school', 'school'], ['principal', 'school', 'policy', 'similar', 'policy', 'enforce', 'counselor', 'student', 'sure', 'right', 'path', 'success'], ['teacher', 'school', 'willing', 'assist', 'teacher', 'school', 'assistance'], ['building', 'nice', 'detail', 'entire', 'school', 'inviting', 'thing'], ['new', 'albany', 'senior', 'high', 'school', 'diverse', 'school', 'large', 'class', 'school', 'great', 'memory', 'school', 'friend', 'graduate'], ['active', 'school', 'sport', 'nice', 'facility'], ['new', 'albany', 'senior', 'high', 'schoolrate'], ['school', 'many', 'general', 'class', 'honor', 'class', 'diverse', 'school'], ['peer', 'pressure', 'school', 'much', 'problem', 'child', 'care', 'race', 'sexual', 'orientation', 'end', 'day', 'people', 'fine'], ['athletic', 'schooling', 'facility', 'fantastic', 'sport', 'much', 'support', 'coach', 'several', 'rival', 'team', 'day', 'school', 'support'], ['school', 'counselor', 'different', 'range', 'last', 'name', 'grade', 'help', 'school', 'attendance', 'large', 'problem', 'many', 'school', 'administrator', 'good', 'end', 'attendance', 'percentage', 'student', 'school', 'day', 'administrator', 'mean', 'ready', 'real', 'world'], ['school', 'handle', 'situation', 'much'], ['new', 'albany', 'senior', 'high', 'schoolrate'], ['appearance', 'nice', 'presentable', 'good', 'school', 'area', 'opinion', 'base', 'building', 'presentation', 'staff', 'member', 'need', 'teacher', 'student'], ['serious', 'student', 'school', 'save', 'place', 'sure', 'way', 'onside', 'police', 'officer', 'metal', 'detector', 'scanner', 'school', 'school', 'nurse', 'excellent', 'attentive', 'threat', 'gun', 'school', 'miniature', 'fight', 'unsafe', 'thing'], ['school', 'update', 'new', 'thing', 'year', 'technology', 'class', 'teacher', 'actual', 'tutoring', 'class', 'take', 'offer', 'school', 'tutoring', 'complaint', 'counselor', 'college', 'opportunity'], ['high', 'school', 'bully', 'peer', 'pressure', 'last', 'year', 'school', 'administrator', 'crack', 'rule', 'regulation', 'bad', 'thing'], ['real', 'threat', 'school', 'relief', 'school', 'experience', 'threat', 'administrator', 'change', 'policy', 'routine', 'school', 'much', 'safe', 'place', 'prevent', 'incident'], ['threat', 'safe'], ['good', 'building', 'fair', 'condition', 'old', 'decent', 'technology', 'counselor', 'wonderful'], ['first', 'hand', 'experience', 'year', 'new', 'albany', 'graduation', 'rate', 'freshman', 'year', 'senior', 'year', 'sky', 'rocket', 'new', 'principle', 'main', 'priority', 'attendance', 'attendance', 'key', 'success', 'access', 'online', 'course', 'student', 'class', 'able', 'catch', 'track', 'graduate', 'student', 'graduate', 'college', 'see', 'system', 'meet', 'goal'], ['school', 'safe', 'threaten', 'endanger', 'officer', 'month', 'drug', 'dog', 'scan', 'school', 'parking', 'lot', 'school', 'nurse', 'nice', 'mom', 'quality', 'student', 'appriciate', 'bully', 'tolerate', 'faculty', 'member', 'measure', 'prevent', 'teacher', 'administration'], ['successful', 'new', 'albany', 'high', 'school'], ['different', 'type', 'social', 'class', 'school', 'many', 'different', 'racial', 'diversity'], ['hispanic', 'challenge', 'new', 'english', 'language', 'proud', 'leader', 'community'], ['acceptance', 'teacher', 'good', 'grade', 'good', 'thing'], ['new', 'albany', 'high', 'school', 'resource', 'student', 'necessity'], ['elevator', 'available', 'sign', 'language', 'personnel'], ['lack', 'technology', 'computer', 'access', 'information'], ['counselor', 'good', 'guidance', 'student', 'happy', 'help'], ['bus', 'clean', 'bus', 'driver', 'conscious', 'safety'], ['new', 'albany', 'senior', 'high', 'schoolrate'], ['many', 'activity', 'school', 'many', 'different', 'choice'], ['amazing', 'teacher', 'great', 'teacher', 'department', 'willing', 'help', 'student'], ['school', 'strict', 'dress', 'code', 'policy', 'enforce'], ['old', 'school', 'dog', 'class', 'student', 'credit', 'need', 'graduate', 'administrator', 'available'], ['school', 'athletic', 'community', 'high', 'school', 'basketball', 'weekend', 'student', 'great', 'facility', 'great', 'coach', 'help', 'good', 'team', 'student', 'supportive', 'one', 'game', 'attentitiveness', 'school', 'pride'], ['teacher', 'interested', 'student', 'counselor', 'student', 'responsive', 'administrator', 'standard', 'education', 'focus', 'excellence'], ['love', 'new', 'albany', 'high', 'school', 'great', 'teacher', 'amazing', 'counselor', 'step', 'way', 'counselor', 'open', 'eye', 'many', 'opportunity', 'high', 'school', 'associate', 'degree', 'favorite', 'thing', 'apart', 'sport', 'event', 'senior', 'year', 'student', 'section', 'basketball', 'football', 'season', 'thing', 'apart', 'basketball', 'team', 'apart', 'bulldog', 'basketball', 'team', 'family', 'thing', 'new', 'albany', 'high', 'school', 'new', 'albany', 'high', 'school', 'anchor', 'club', 'school', 'many', 'community', 'service', 'activity', 'friendship', 'people'], ['new', 'albany', 'amazing', 'school', 'great', 'program', 'sport', 'art', 'fantastic', 'job', 'feel'], ['new', 'albany', 'senior', 'high', 'schoolrate'], ['new', 'albany', 'high', 'school', 'nah', 'foreign', 'exchange', 'student', 'many', 'local', 'people', 'nah', 'opportunity', 'life', 'time', 'friend', 'teacher', 'friendly', 'helpful', 'start', 'non', 'foreigner', 'good', 'experience', 'life', 'perfect', 'nah', 'diversity', 'recognition', 'people', 'different', 'background', 'work', 'imperfection', 'perfect'], ['teacher', 'staff', 'student', 'good', 'friend', 'school', 'great', 'staff', 'amazing', 'sure', 'good', 'day', 'school', 'food', 'good', 'hungry', 'help', 'school', 'clean', 'bathroom', 'school', 'new', 'albany', 'school'], ['great', 'teacher', 'excellent', 'college', 'preparedness', 'great', 'education', 'safety', 'reasonable', 'senior', 'loft', 'nice', 'clean', 'restroom', 'lunch', 'decent', 'decent', 'fair', 'criterion', 'standard', 'class', 'option', 'great', 'club', 'option', 'club', 'work', 'class', 'work', 'diploma', 'requirement', 'track'], ['diverse', 'school', 'student', 'ready', 'highschool'], ['new', 'albany', 'high', 'school', 'atmosphere', 'community', 'sport', 'team', 'club', 'teacher'], ['new', 'albany', 'high', 'school', 'great', 'graduate', 'sport', 'school', 'teacher', 'wonderful', 'job', 'student', 'help', 'extra', 'help', 'class', 'great', 'school', 'student', 'college', 'real', 'world', 'problem'], ['student', 'new', 'albany', 'high', 'school', 'year', 'experience', 'action', 'growth', 'building', 'many', 'new', 'relationship', 'much', 'high', 'school', 'thing', 'bathroom', 'construction', 'door', 'stall', 'sink', 'soap', 'wash', 'hand', 'damper', 'satisfaction', 'high', 'school'], ['new', 'albany', 'school', 'student', 'teacher', 'staff', 'student', 'student', 'opportunity', 'available', 'award', 'academic', 'team', 'science', 'olympiad', 'math', 'bowl', 'computer', 'programming', 'academic', 'bowl', 'sport', 'team'], ['great', 'school', 'many', 'different', 'class', 'pltw', 'dual', 'credit', 'class', 'local', 'university', 'multiple', 'degree', 'path', 'academic', 'honor', 'technical', 'honor', 'plain', 'core'], ['new', 'albany', 'senior', 'high', 'school', 'great', 'school', 'many', 'opportunity', 'school', 'wide', 'range', 'class', 'vigorous', 'class', 'vigorous', 'class', 'wide', 'variety', 'club', 'community', 'service', 'activity', 'great', 'diversity', 'school', 'great', 'school', 'general', 'teacher', 'student', 'student'], ['new', 'albany', 'high', 'school', 'freshman', 'year', 'big', 'impact', 'life', 'teacher', 'administration', 'friendly', 'exciting'], ['wide', 'array', 'class', 'wish', 'way', 'vocational', 'school', 'type', 'class', 'whole', 'year', 'class', 'good', 'program', 'available'], ['new', 'albany', 'high', 'school', 'play', 'volleyball', 'school', 'freshman', 'sophomore', 'year', 'family', 'atmosphere', 'team', 'coach', 'study', 'new', 'albany', 'bond', 'counselor', 'school', 'help', 'late', 'year', 'new', 'albany'], ['new', 'albany', 'amazing', 'teacher', 'administrator', 'work', 'thing', 'new', 'albany', 'history', 'school', 'lot', 'old', 'high', 'school', 'state'], ['new', 'albany', 'senior', 'high', 'schoolrate'], ['thing', 'new', 'albany', 'highschool', 'teacher', 'good', 'bad', 'teacher', 'close', 'enjoy', 'class'], ['new', 'albany', 'high', 'school', 'great', 'experience', 'enough', 'teacher', 'administrator', 'fellow', 'classmate', 'world', 'many', 'diverse', 'people', 'new', 'albany', 'welcome', 'day', 'second', 'family', 'teacher', 'genuine', 'care', 'material', 'school', 'home'], ['ready', 'cheer', 'team', 'team', 'serious', 'good'], ['great', 'experience', 'high', 'school', 'stuff', 'glad', 'new', 'high', 'school', 'many', 'great', 'opportunity'], ['school', 'perk', 'flaw', 'teacher', 'bad', 'teacher', 'certain', 'people', 'ability'], ['teacher', 'academic', 'school', 'principal', 'good', 'rest', 'staff', 'lack', 'communication', 'empathy', 'course', 'style', 'club', 'organization', 'student'], ['new', 'albany', 'senior', 'high', 'schoolrate'], ['page', 'strict', 'tardiness', 'misconduct', 'accountable', 'action', 'school', 'safe', 'outside', 'door', 'police', 'officer', 'drill', 'contraband', 'sweep', 'school', 'visitor', 'sign', 'staff', 'visitor'], ['school', 'lot', 'huge', 'variety', 'elective', 'class', 'different', 'career', 'path', 'high', 'school', 'figure', 'life', 'class', 'challenge', 'test', 'teacher', 'push', 'honor', 'able', 'french', 'club', 'wonderful', 'food', 'experience', 'great', 'learning', 'experience', 'teacher', 'memorable', 'people', 'variety', 'people', 'diverse', 'school'], ['teacher', 'high', 'school', 'class', 'knowledge', 'teacher', 'involved', 'school', 'system', 'club', 'sport', 'teacher', 'graduation', 'party', 'finish', 'good', 'teacher', 'life', 'long', 'friend', 'mine'], ['word', 'olschool', 'prominent', 'health', 'safety', 'show', 'sign', 'buzz', 'school'], ['counselor', 'teacher', 'great', 'experience', 'many', 'teacher', 'way', 'school', 'unique', 'counselor', 'teacher', 'faculty', 'negative', 'opinion', 'year', 'office', 'rude', 'negative', 'atyidue', 'see', 'smile', 'kind'], ['school', 'counselor', 'amazing', 'counselor', 'mcgarvery', 'mcguirk', 'amazing', 'people', 'baby', 'amyyer'], ['various', 'club', 'sport'], ['teacher', 'new', 'albany', 'high', 'school', 'need', 'way', 'lot', 'teacher', 'activity', 'help', 'boring', 'lesson', 'ask', 'teacher', 'question', 'teacher', 'new', 'student', 'classroom', 'classroom', 'grade', 'reasonable', 'amount', 'time'], ['school', 'value', 'athletic', 'plenty', 'sport', 'team', 'available', 'interested', 'athletic', 'school', 'spirit', 'intense', 'senior', 'good', 'facility', 'brand', 'new', 'weight', 'room', 'brand', 'new', 'football', 'field', 'basketball', 'court', 'basketball', 'team', 'good', 'football', 'team', 'work'], ['many', 'extracurricular', 'activity', 'new', 'albany', 'high', 'school', 'range', 'german', 'club', 'key', 'club', 'debate', 'team', 'teacher', 'administration', 'activite', 'student', 'reason', 'much', 'thry', 'afraid', 'wonderful', 'opportunity', 'nah', 'good'], ['student', 'school', 'diverse', 'lot', 'friend', 'globe', 'various', 'addition', 'number', 'foreign', 'exchange', 'student', 'opportunity', 'large', 'variety', 'economic', 'diversity', 'student', 'organization', 'club', 'activity', 'trouble', 'new', 'friend', 'certain', 'group', 'people', 'general', 'student', 'kind', 'helpful'], ['school', 'incredible', 'counselor', 'college', 'bind', 'student', 'incredible', 'option', 'incredible', 'work', 'staff', 'teacher', 'college', 'credit', 'form', 'dual', 'enrollment', 'course', 'number', 'scholarship', 'college', 'nah', 'whole', 'incredible', 'student', 'people', 'student', 'experience', 'teacher', 'staff', 'college', 'work', 'future', 'help', 'teacher', 'staff', 'today', 'time', 'classmate', 'honor', 'program'], ['teacher', 'nah', 'varied', 'teacher', 'incredible', 'horrible', 'example', 'science', 'department', 'plethora', 'incredible', 'teacher', 'clark', 'mumaw', 'work', 'english', 'department', 'incredible', 'teacher', 'rittenhouse', 'corrie', 'ponder', 'teacher', 'work', 'derung'], ['new', 'albany', 'senior', 'high', 'schoolrate'], ['large', 'variety', 'extracurricular', 'opportunity', 'fit', 'student', 'many', 'club', 'organization', 'theater', 'program'], ['counselor', 'available', 'student', 'need', 'help', 'answer', 'knowledgeable', 'tremendous', 'experience', 'help', 'young', 'adult', 'great', 'advice', 'school', 'student', 'college', 'armed', 'force', 'counselor', 'check', 'sure', 'tip', 'suggestion', 'accommodate', 'help', 'student'], ['many', 'different', 'club', 'student', 'many', 'club', 'volunteer', 'service', 'hour', 'increase', 'community', 'participation'], ['great', 'athletic', 'system', 'school', 'school', 'many', 'different', 'type', 'physical', 'education', 'class', 'great', 'sport', 'team'], ['different', 'lifestyle', 'large', 'variety', 'racial', 'religious', 'group'], ['community', 'help'], ['new', 'albany', 'senior', 'high', 'schoolrate'], ['sport', 'extra', 'activity', 'extra', 'thing'], ['bad', 'kid', 'room', 'good'], ['large', 'diversity', 'welcome', 'way'], ['favorite', 'place', 'soccer', 'field', 'miss'], ['love', 'school', 'size', 'nice', 'staff', 'member', 'teacher', 'many', 'great', 'friend', 'lot', 'good', 'memory'], ['ton', 'extracurricular', 'activity', 'school', 'popular', 'one', 'athletic', 'team', 'band', 'orchestra', 'many', 'specific', 'club', 'group', 'student', 'different', 'tutoring', 'class', 'lead', 'student', 'school', 'many', 'teacher', 'certain', 'day', 'designate', 'school', 'help', 'student', 'extra', 'help', 'class'], ['school', 'open', 'aspect', 'lot', 'specific', 'social', 'group', 'part', 'afraid', 'school'], ['athletic', 'system', 'top', 'class', 'many', 'different', 'sport', 'available', 'student', 'ton', 'school', 'pride', 'event', 'lot', 'different', 'fitness', 'program', 'individual', 'program', 'sport', 'different', 'workout', 'class', 'available', 'student', 'school', 'top', 'line', 'weight', 'room', 'great', 'new', 'pool', 'opportunity', 'athletic', 'success', 'school', 'athletic'], ['teacher', 'building', 'vary', 'subject', 'type', 'student', 'classroom', 'teacher', 'expect', 'great', 'learning', 'experience', 'easy', 'talk', 'disciplinary', 'perfect', 'combination', 'teacher'], ['unbelievable', 'amount', 'club', 'school', 'club', 'day', 'month', 'topic', 'interest', 'surround', 'people', 'club', 'good', 'buddy', 'movie', 'much', 'school', 'people', 'opportunity', 'chance', 'thing', 'love'], ['major', 'class', 'help', 'onward', 'field', 'study', 'cadet', 'teacher', 'elementary', 'multiple', 'time', 'week', 'anatomy', 'psychology', 'culinary', 'woodshop', 'physics', 'many', 'class', 'chance'], ['school', 'study', 'session', 'teacher', 'stay', 'help', 'good'], ['school', 'help', 'real', 'world', 'much', 'diversity', 'ethnicity', 'religion', 'disability', 'certain', 'social', 'situation', 'love', 'school', 'pride', 'student'], ['mention', 'teacher', 'student', 'basic', 'need', 'class', 'range', 'industrial', 'drawing', 'ancient', 'technic', 'ceramic', 'honor'], ['new', 'albany', 'senior', 'high', 'schoolrate'], ['high', 'school', 'club', 'student', 'thing', 'key', 'club', 'volunteer', 'work', 'foreign', 'language', 'club', 'different', 'language', 'native'], ['wide', 'variety', 'extracurricular'], ['new', 'albany', 'high', 'diverse', 'school', 'school', 'foreign', 'exchange', 'student', 'program', 'student', 'door', 'public', 'high', 'school', 'state', 'new', 'albany', 'diverse', 'school', 'many', 'student', 'different', 'background', 'student', 'chance', 'future', 'staff', 'student', 'school', 'acceptant', 'race', 'sexual', 'orientation', 'culture', 'religion', 'student', 'staff', 'exceptant', 'look', 'student', 'staff', 'member', 'color', 'sexual', 'prefence', 'gender', 'religion', 'character', 'person'], ['several', 'different', 'option'], ['new', 'albany', 'senior', 'high', 'schoolrate'], ['new', 'albany', 'high', 'school', 'great', 'job', 'student', 'safe', 'environment', 'awful', 'event', 'think', 'administrator', 'proceedure', 'staff', 'friendly', 'willing', 'help', 'counselor', 'school', 'nurse'], ['fairview', 'college', 'lot', 'friend', 'fit', 'teacher', 'amazing', 'environment', 'incredible', 'water', 'fountain', 'hall', 'cold'], ['school', 'many', 'overwhelming', 'white', 'majority', 'person', 'colour', 'alinetate', 'white', 'peer', 'wish', 'challenge', 'school', 'teacher', 'good', 'enough', 'teacher', 'friend', 'sucky', 'environment'], ['cafeteria', 'weird', 'people', 'one'], ['sophomore', 'year', 'junior', 'year', 'exchange', 'online', 'school', 'senior', 'year'], ['wise', 'pressure', 'big', 'stressful', 'feel', 'failure', 'time', 'teacher', 'unreasonable', 'majority', 'white', 'rich', 'people', 'fit', 'minority', 'people', 'rude', 'racist', 'school', 'bad', 'couple', 'teacher', 'nice', 'help', 'part', 'time', 'ctec', 'program', 'end', 'love', 'amazing', 'people', 'close', 'majority', 'white', 'white', 'people', 'criminal', 'justice', 'teacher', 'good', 'teacher', 'problem', 'know', 'student', 'care', 'quality', 'fairview', 'work', 'fairview'], ['good', 'teacher', 'overall', 'teacher', 'rude', 'kid', 'awful', 'uptight', 'judgmental'], ['review', 'fairview', 'high', 'schoolrate'], ['little', 'ethnic', 'racial', 'economic', 'diversity'], ['pushy', 'helicopter', 'parent', 'love', 'fairview', 'event', 'full'], ['many', 'teacher', 'care', 'student', 'lazy', 'difficult', 'find', 'teacher', 'care', 'frustrating', 'love', 'teacher', 'hate', 'school'], ['hot', 'lunch', 'food', 'campus'], ['school', 'food', 'bad', 'good', 'machine', 'health', 'consciousness', 'top', 'problem', 'sale', 'turn', 'school', 'store', 'snack', 'shame', 'use', 'coffee', 'sell', 'morning', 'ice', 'cream', 'machine', 'locker', 'room', 'handful', 'goldfish'], ['plenty', 'room', 'lot', 'different', 'choice', 'choice', 'lunch', 'day', 'healthy', 'food', 'option', 'salad', 'vegetable', 'snack', 'healthy', 'option', 'snack', 'cookie', 'popcorn', 'chip', 'candy', 'soda', 'expensive', 'slice', 'pizza', 'apple', 'dollar'], ['student', 'campus', 'food', 'salad', 'bar', 'time', 'fresh', 'main', 'food', 'choice', 'flavorless', 'gross', 'general', 'vend', 'machine', 'healthy', 'choice', 'stack', 'expensive', 'candy', 'chip', 'vend', 'machine', 'freshman', 'year'], ['student', 'food', 'school', 'open', 'campus', 'student', 'campus', 'food', 'vendor', 'nearby', 'king', 'school', 'popular'], ['little', 'racial', 'diversity', 'diversity', 'sexual', 'orientation', 'common'], ['school', 'focus', 'football', 'less', 'student', 'participation', 'sport', 'event', 'football', 'class', 'amazing', 'diverse', 'array', 'class', 'fulfill', 'credit', 'downsize', 'dance', 'encompass', 'class', 'majority', 'student', 'problem'], ['school', 'part', 'school', 'food', 'project', 'revamp', 'school', 'cafeteria', 'attempt', 'food', 'healthy', 'problem', 'portion', 'size', 'small', 'order', 'use', 'salad', 'bar', 'many', 'student', 'lunch', 'school', 'attempt', 'healthy', 'option', 'expensive', 'amount', 'food', 'end', 'mean', 'school', 'food', 'project', 'effective', 'high', 'school', 'student', 'pack', 'school', 'year', 'student', 'car', 'ability', 'campus', 'lunch', 'grocery', 'store', 'effectiveness', 'program'], ['open', 'campus', 'school', 'student', 'lunch', 'period', 'school', 'student', 'period', 'freedom', 'attendance', 'school', 'fact', 'freedom', 'freedom', 'people', 'serious', 'study', 'balance', 'class', 'campus', 'topic', 'security', 'school', 'sandy', 'hook', 'tragedy', 'fact', 'min', 'school', 'lot', 'precaution', 'fellow', 'student', 'precaution', 'city', 'police', 'officer', 'school', 'security', 'guard', 'exit', 'day', 'door', 'exception', 'front', 'door', 'school', 'hour', 'annoying', 'fellow', 'student', 'park', 'school', 'positive', 'outweigh', 'negative'], ['food', 'edible', 'food', 'hot', 'sick', 'lunch', 'well', 'option', 'delicious'], ['student', 'school', 'school', 'function', 'district', 'nutritional', 'value', 'school', 'food', 'school', 'student', 'overly', 'price', 'student', 'campus', 'food', 'district', 'kid', 'healthy', 'choice', 'student'], ['high', 'school', 'academic', 'center', 'class', 'lot', 'competition', 'competition', 'foster', 'lot', 'excess', 'stress', 'teacher', 'good'], ['overall', 'alright', 'high', 'school', 'experience', 'regard', 'academic', 'strong', 'teacher', 'love', 'subject', 'power', 'help', 'handful', 'teacher', 'bit', 'bad', 'rap', 'student', 'assign', 'lot', 'busywork', 'unreasonable', 'test', 'assignment', 'student', 'many', 'nice', 'part', 'honor', 'student', 'separate', 'student'], ['class', 'rigorous', 'intense', 'school', 'job', 'care', 'student'], ['review', 'fairview', 'high', 'schoolrate'], ['lot', 'student', 'hand', 'different', 'high', 'school', 'first', 'school', 'student', 'lot', 'job', 'work', 'struggle', 'student', 'fairview', 'high', 'school', 'face', 'fairview', 'high', 'school', 'need', 'diversity', 'school'], ['fine', 'lot', 'teacher', 'building', 'hell', 'bad'], ['competitive', 'good', 'group', 'people', 'bad', 'part', 'good', 'part', 'teenager', 'complain', 'environment', 'toxic', 'end', 'high', 'school', 'great'], ['teacher', 'great', 'class', 'choice', 'good', 'separate', 'science', 'class', 'different', 'admin', 'rule', 'arbitrary', 'attendance', 'policy', 'strict', 'cause', 'harm', 'good'], ['strong', 'racial', 'bent', 'administration', 'attitude', 'teacher', 'teacher', 'amazing', 'bad', 'kid', 'cool'], ['building', 'lack', 'window', 'atmosphere', 'school', 'toxicity', 'diploma', 'program', 'overwhelming'], ['high', 'school', 'use', 'way', 'much', 'spirit', 'incoming', 'freshman', 'use', 'informal', 'admin', 'student', 'informal', 'student', 'proud', 'school', 'academic', 'good', 'teacher', 'class', 'challenging', 'overrated', 'fairview', 'bad', 'school', 'new', 'administration', 'school', 'pride', 'decrease', 'school', 'track', 'lead', 'faculty', 'member', 'student', 'school'], ['many', 'student', 'top', 'college', 'many', 'sport', 'top', 'division', 'school', 'great', 'school', 'recent', 'renovation', 'great', 'great', 'time', 'bathroom', 'available', 'student', 'good', 'toilet', 'paper', 'parking', 'mess', 'nice', 'car', 'parking', 'school', 'bad', 'administration', 'fun', 'place'], ['great', 'competitive', 'atmosphere', 'little', 'toxic'], ['great', 'experience', 'fairview', 'high', 'school', 'teacher', 'adviser', 'helpful', 'meaningful', 'connection', 'administration', 'inclusive', 'environment', 'abuse', 'exclusivity', 'matter', 'diverse', 'inclusive', 'environment'], ['school', 'fit', 'kid', 'fairview', 'gifted', 'school', 'spirit', 'teacher', 'year', 'thing', 'easy', 'school', 'teacher', 'fairview', 'college', 'academic', 'exclusive', 'athletic', 'tend', 'average', 'academic', 'fairview', 'school'], ['school', 'security', 'camera', 'instance', 'misconduct', 'camera', 'credit', 'school', 'boulder', 'police', 'department', 'substation', 'house', 'school', 'premise'], ['school', 'open', 'campus', 'student', 'school', 'school', 'day', 'difficult', 'know', 'student', 'whereabout', 'campus', 'student', 'abuse', 'freedom', 'campus', 'time', 'unhealthy', 'unsafe', 'way'], ['school', 'nurse', 'unapproachable', 'many', 'student', 'gruff', 'unwelcoming', 'student', 'reluctant', 'office'], ['bathroom', 'fixture', 'door', 'need', 'update', 'spread', 'germ', 'sink', 'example', 'old', 'fashioned', 'knob', 'hard', 'turn', 'dirty', 'hand'], ['regular', 'lockdown', 'lockout', 'fire', 'much', 'concern', 'safety', 'health', 'student', 'part', 'safe', 'friend', 'security', 'trust', 'normal'], ['family', 'kind', 'person', 'hard', 'judge', 'overall', 'parenting', 'quality', 'base', 'family'], ['review', 'fairview', 'high', 'schoolrate'], ['extracurricular', 'design', 'student', 'good', 'college', 'application', 'difficult', 'class', 'group'], ['great', 'average', 'struggle'], ['exclusive', 'pressure', 'class', 'overwhelming', 'take', 'class', 'people'], ['fairview', 'interest', 'academic', 'athletic', 'equal', 'balance'], ['parent', 'school', 'hard', 'answer', 'parent', 'school', 'high', 'pressure', 'environment'], ['school', 'bit', 'competitive', 'grade', 'success', 'school', 'chance', 'competition', 'much'], ['review', 'fairview', 'high', 'schoolrate'], ['teacher', 'school', 'overwork', 'student', 'student', 'day', 'high', 'expectation', 'challenge', 'lot', 'pressure', 'student'], ['much', 'attention', 'thing', 'safe'], ['overall', 'fairview', 'school', 'fill', 'mix', 'people', 'type', 'people', 'stoner', 'genius', 'many', 'people', 'category', 'early', 'common', 'theme', 'school', 'advanced', 'class', 'regard', 'education', 'many', 'time', 'student', 'regular', 'class', 'worry', 'much', 'end', 'genius', 'fun', 'calculus', 'freshman', 'year', 'group', 'people', 'bunch', 'future', 'frat', 'guy', 'sorority', 'girl', 'class', 'people', 'party', 'frustrating', 'good', 'way', 'description', 'fairview', 'frat', 'boy', 'class', 'mess', 'class', 'manage', 'straight'], ['outright', 'issue', 'thing', 'people', 'bad'], ['great', 'education', 'much', 'pressure', 'stress'], ['teacher', 'knowledgeable', 'help', 'student'], ['sport', 'music', 'program', 'lot', 'school', 'activity'], ['many', 'sport', 'music', 'club', 'part', 'high', 'quality', 'student', 'lot', 'opinion', 'many', 'people', 'busy', 'school', 'want', 'time', 'effort', 'require', 'advantage', 'program'], ['care', 'student', 'work'], ['bad', 'experience', 'lot'], ['love', 'school', 'music', 'theater', 'art', 'program', 'many', 'teacher', 'subject', 'care', 'student', 'bad', 'lot', 'busy', 'work', 'group', 'close', 'friend', 'school'], ['counselor', 'friendly', 'helpful', 'many', 'student', 'counselor', 'difficult', 'counselor', 'meeting'], ['attendance', 'office', 'suck', 'skip', 'class', 'hard', 'skip', 'class', 'notice'], ['review', 'fairview', 'high', 'schoolrate'], ['extracurricular', 'fairview', 'time', 'athlete', 'practice', 'school', 'singer', 'dancer', 'theatre', 'lot', 'people', 'home', 'smoke', 'pot'], ['food', 'bad', 'food', 'truck', 'bad'], ['administration', 'bad'], ['love', 'friend', 'problem', 'minority', 'school', 'people', 'afraid', 'minority'], ['school', 'lunch', 'health', 'food', 'snack', 'option', 'cafeteria', 'school', 'lunch'], ['administration', 'job', 'counseling', 'department', 'student', 'trouble', 'blame', 'student', 'trouble', 'term', 'guidance', 'counselor', 'college', 'application', 'process'], ['review', 'fairview', 'high', 'schoolrate'], ['many', 'window', 'design', 'prison', 'architect'], ['community', 'base', 'extra', 'curricular', 'activity', 'abundant', 'school', 'offer', 'time', 'way', 'personal', 'growth'], ['school', 'bland', 'school', 'heavy', 'focus', 'competition', 'academic'], ['great', 'lot', 'technology'], ['lot', 'participation', 'sport', 'game', 'football', 'non', 'player'], ['lot', 'clique', 'part', 'people', 'fairview', 'group'], ['much', 'initiative', 'several', 'people', 'school', 'good', 'safety', 'staff', 'layout', 'school', 'nervous', 'case', 'emergency'], ['actual', 'high', 'quality', 'facility', 'nice', 'renovation', 'bountiful', 'supply', 'technology', 'use', 'prominent', 'past', 'year', 'bit'], ['food', 'fairview', 'mass', 'produce', 'taste', 'many', 'student', 'food', 'service'], ['time', 'cafeteria', 'many', 'student', 'student', 'lunch', 'lunch', 'week'], ['teacher', 'overload', 'student', 'class', 'many', 'teacher', 'student', 'help'], ['helpful', 'pass', 'student', 'excuse', 'tardie'], ['restroom', 'toilet', 'paper', 'soap', 'paper', 'towel', 'counselor', 'much', 'fact', 'cry', 'cold'], ['college', 'prep', 'resource', 'good', 'many', 'good', 'computer', 'national', 'honor', 'society', 'extensive', 'tutoring', 'opportunity'], ['food', 'cafeteria', 'personal', 'opinion', 'school', 'standard', 'state', 'people', 'food', 'option', 'school'], ['review', 'fairview', 'high', 'schoolrate'], ['girl', 'short', 'short', 'butt', 'care', 'tolerance', 'great', 'part', 'community'], ['year', 'old', 'school', 'old', 'facility', 'recent', 'renovation', 'place'], ['student', 'meh', 'school', 'teacher'], ['cafeteria', 'plenty', 'food', 'close', 'campus', 'lunch'], ['nice', 'facility', 'campus', 'pool', 'swim', 'team', 'practice'], ['nice', 'counselor', 'deal', 'student', 'office', 'staff', 'helpful', 'hard', 'catch', 'policy', 'lenient', 'student'], ['review', 'fairview', 'high', 'schoolrate'], ['facility', 'good', 'lot', 'people', 'sport', 'big', 'deal', 'support', 'team'], ['cafeteria', 'friend', 'appetising', 'thing', 'wilt', 'healthy', 'food', 'option', 'main', 'course', 'healthy', 'student', 'choice'], ['food', 'typical', 'cafeteria', 'food', 'school', 'salad', 'bar', 'time', 'lunch', 'overall', 'lack', 'food', 'realistic', 'solution', 'staff', 'initive', 'big', 'portion', 'grain', 'protein'], ['high', 'school', 'beneficial', 'interesting', 'aspect', 'student', 'life', 'lack', 'clique', 'social', 'boundary', 'student', 'free', 'branch', 'new', 'friend', 'welcome', 'student', 'body', 'day', 'day', 'sexual', 'orientation', 'welcome', 'acceptance', 'abundant', 'peer', 'pressure', 'less', 'factor', 'alcohol', 'serious', 'influence', 'academic', 'school', 'competitive', 'streak', 'grade', 'high', 'hostile', 'environment', 'advanced', 'class', 'time'], ['teacher', 'good', 'evident', 'care', 'subject', 'teach', 'time', 'sure', 'student', 'information', 'problem', 'math', 'department', 'teacher', 'student', 'information', 'depth', 'enough', 'review', 'information', 'student', 'know', 'teacher', 'common', 'period', 'show', 'care', 'extra', 'mile', 'pay', 'learning'], ['variety', 'different', 'class', 'fairview', 'academic', 'class', 'regular', 'class', 'class', 'class', 'class', 'class', 'difficult', 'hear', 'compare', 'school', 'regular', 'class', 'equivalent', 'school', 'advance', 'class', 'unpopular', 'teacher', 'stuff', 'student', 'sport', 'extra', 'curricular', 'work', 'load', 'manageable', 'long', 'procrastinate', 'fairview', 'lot', 'class', 'resource', 'student', 'tutor', 'national', 'honor', 'society', 'math', 'language', 'lab', 'sac', 'student', 'achievement', 'center', 'post', 'grad', 'center', 'lot', 'helpful', 'tool', 'graduate'], ['school', 'diverse', 'majority', 'student', 'body', 'rich', 'white', 'kid', 'school', 'heart', 'boulder', 'liberal', 'open', 'minded', 'city', 'many', 'challenge', 'gay', 'hear', 'community', 'freshman', 'school', 'call', 'diversity', 'panel', 'kid', 'bully', 'diversity', 'lot', 'people', 'foundation', 'acceptance', 'school'], ['good', 'sport', 'program', 'cross', 'country', 'program', 'compare', 'experience', 'overall', 'sport', 'good', 'huge', 'theatre', 'pop', 'show', 'year', 'good', 'thing', 'much', 'spotlight', 'much', 'room', 'extracurricular', 'activity'], ['part', 'school', 'pretty', 'cliquey', 'time', 'overall', 'good', 'school', 'choir', 'music', 'academic', 'athletic', 'program', 'amazing'], ['interior', 'date', 'room', 'weird', 'new', 'wing', 'gym', 'nice', 'school', 'part', 'clean', 'resource', 'tutor', 'extra', 'help', 'guidance', 'counselor', 'helpful', 'technology', 'good', 'room', 'projector', 'screen', 'speaker', 'board'], ['great', 'school', 'excellent', 'teacher', 'huge', 'range', 'class', 'general', 'high', 'rate', 'student', 'college', 'high', 'rate', 'student', 'success', 'standard', 'exam', 'drawback', 'social', 'huge', 'focus', 'college', 'class', 'college', 'intelligence', 'lot', 'room', 'people', 'alternative', 'secondary', 'education', 'path'], ['term', 'academic', 'number', 'school', 'exceptional', 'top', 'high', 'school', 'country', 'lack', 'diversity', 'large', 'majority', 'student', 'body', 'family', 'deep', 'pocket', 'school', 'pride', 'diverse', 'reality'], ['good', 'teaching', 'academic', 'academic', 'competitive', 'negative', 'environment'], ['review', 'fairview', 'high', 'schoolrate'], ['high', 'school', 'boulder', 'large', 'school', 'student', 'flatiron', 'rocky', 'mountain', 'strong', 'class', 'size', 'large', 'student', 'class', 'many', 'club', 'join', 'student', 'interested', 'create', 'lot', 'sport', 'selective', 'many', 'student', 'difficult', 'make', 'selective', 'team', 'area', 'opportunity', 'improvement', 'parent', 'student', 'support', 'area', 'professional', 'school', 'counseling', 'fairview', 'success', 'counselor', 'resource', 'student', 'busy', 'period', 'college', 'admission', 'time', 'counselor', 'many', 'student', 'focus', 'attention', 'need'], ['great', 'academic', 'sport', 'art', 'great', 'teacher', 'lot', 'money', 'waste', 'thing', 'sense', 'renovation', 'last', 'year', 'course', 'force', 'fire', 'good', 'teacher', 'tenure', 'bad'], ['environment', 'toxic', 'lot', 'emphasis', 'advanced', 'class', 'many', 'student', 'top', 'college', 'student', 'feeling', 'leave', 'leave'], ['many', 'teacher', 'kind', 'fairview', 'college', 'many', 'hard', 'love', 'fine', 'art', 'program', 'physical', 'education', 'program', 'number', 'sport', 'offer'], ['overall', 'fairview', 'lot', 'talk', 'offer'], ['school', 'sport', 'art', 'program', 'academic', 'average', 'depend', 'teacher', 'different', 'education', 'fellow', 'peer'], ['class', 'school', 'difficult', 'teacher', 'good', 'ability', 'teacher', 'helpful'], ['academic', 'amazing', 'feel', 'learn', 'lot', 'class', 'teacher', 'helpful', 'help', 'lot', 'awesome', 'club', 'activity', 'new', 'club', 'interested'], ['experience', 'school', 'issue', 'fellow', 'classmate', 'environment', 'competitive', 'standardized', 'test'], ['good', 'competitive', 'aware', 'public', 'school', 'fairview', 'wide', 'range', 'interest', 'people', 'specific', 'interest', 'many', 'resource', 'people', 'willing', 'help', 'responsibility', 'hand', 'fairview', 'busy', 'student'], ['wide', 'variety', 'academic', 'fairview', 'fact', 'college', 'prep', 'class', 'teacher', 'passionate', 'good', 'job', 'student', 'science', 'classroom', 'caliber', 'work', 'show', 'trust', 'student', 'social', 'division', 'student', 'body', 'remedie'], ['number', 'academic', 'opportunity', 'available', 'fairview', 'benefit', 'lot', 'class', 'diploma', 'experience', 'overall', 'beneficial', 'student', 'order', 'critical', 'thinking', 'skill', 'communication', 'skill', 'bad', 'thing', 'large', 'divide', 'administration', 'student', 'bad', 'thing', 'rumor', 'opportunity', 'change', 'school', 'community'], ['crazy', 'high', 'school', 'experience', 'many', 'grade', 'social', 'life', 'senior', 'year', 'high', 'school', 'tough', 'deal', 'issue', 'school', 'sexual', 'assault', 'case', 'allegation', 'lot', 'school', 'handle', 'process', 'stand', 'victim', 'classmate', 'lot', 'grit', 'tough', 'time', 'high', 'school', 'overall', 'fun', 'experience', 'special', 'fairview', 'love', 'teacher', 'student', 'faculty', 'athletic', 'academic', 'club', 'fascinating', 'experience', 'growth'], ['high', 'level', 'advanced', 'course', 'competitive', 'environment', 'fact', 'concrete', 'bunker', 'freshman', 'year', 'daylight', 'school', 'day'], ['great', 'high', 'school', 'dedicate', 'excellence', 'experience', 'positive', 'fantastic', 'teacher', 'dedicate', 'top', 'notch', 'school', 'many', 'honor', 'course', 'available', 'student', 'opportunity', 'self', 'direct', 'project', 'scientific', 'research', 'criticism', 'competitive', 'environment', 'school', 'full', 'academic', 'gunner', 'much', 'middle', 'ground', 'normal', 'course', 'witness', 'friendship', 'end', 'test', 'grade'], ['school', 'great', 'teacher', 'staff', 'time', 'struggle', 'student'], ['review', 'fairview', 'high', 'schoolrate'], ['great', 'school', 'area', 'interest', 'branch', 'education', 'astounding', 'fine', 'art', 'award', 'sport', 'good', 'country'], ['stressful', 'time', 'many', 'resource', 'stress', 'feel', 'prepared', 'life', 'future', 'student', 'fairview', 'top', 'college'], ['competitive', 'school', 'school', 'student', 'challenge', 'academic', 'athletic', 'top', 'state', 'many', 'activity', 'student'], ['school', 'great', 'academic', 'plenty', 'extra', 'curricular', 'activity', 'safe', 'neighborhood', 'beautiful', 'view', 'spirited', 'student', 'body', 'thing', 'hope', 'change', 'lack', 'diversity', 'fairview'], ['atrocious', 'teacher', 'staff', 'helpful', 'supportive', 'prison', 'structure', 'education', 'many', 'choice', 'elective'], ['great', 'academic', 'art', 'school', 'protocol', 'student', 'parent', 'role', 'guardian', 'difficult', 'situation', 'parent'], ['review', 'fairview', 'high', 'schoolrate'], ['rich', 'array', 'option', 'available', 'student', 'want', 'extracurricular', 'activity', 'good', 'counseling', 'competitive', 'environment', 'fairview', 'graduate', 'year', 'university', 'pressure', 'intense'], ['fairview', 'high', 'school', 'grant', 'excellent', 'high', 'school', 'education', 'school', 'many', 'opportunity', 'club', 'internship', 'volunteer', 'service', 'necessary', 'resource', 'average', 'high', 'school', 'freshman', 'passion', 'fairview', 'college', 'career', 'center', 'career', 'path', 'right', 'school', 'academic', 'fairview', 'student', 'real', 'world', 'overall', 'love', 'high', 'school', 'thankful', 'provide'], ['school', 'good', 'community', 'lack', 'school', 'overall', 'staff', 'responsive', 'plan', 'struggle', 'student', 'incredible', 'concert', 'fun', 'many', 'people', 'good', 'singe', 'inclusive', 'fairview', 'cake', 'overall', 'good', 'school', 'stressful', 'competitive', 'school'], ['history', 'teacher', 'helpful', 'year', 'think', 'need', 'offer', 'minority', 'part', 'community'], ['variety', 'people', 'high', 'level', 'school', 'spirit', 'endless', 'opportunity', 'education', 'community', 'involvement', 'high', 'quality', 'teaching', 'staff'], ['notorious', 'rigorous', 'curriculum', 'class', 'teacher', 'top', 'notch', 'couple', 'month', 'graduate', 'prepared', 'college', 'grateful', 'privilege', 'fairview', 'resource', 'knowledge'], ['interesting', 'experience', 'much', 'fairview', 'live', 'movie', 'good', 'education', 'college', 'place', 'fun'], ['community', 'vigorous', 'academic', 'offer', 'class', 'know', 'experience', 'college', 'smooth', 'transition', 'experience', 'gain', 'issue', 'competitive', 'school', 'pro', 'con', 'competitive', 'nature', 'fuel', 'good', 'student'], ['amazing', 'resource', 'opportunity', 'faculty', 'library', 'gorgeous', 'school', 'hard', 'time', 'lack', 'window', 'competitive', 'culture', 'student'], ['school', 'amazing', 'prepare', 'college', 'extensive', 'amount', 'regular', 'advanced', 'course', 'lot', 'extracurricular', 'activity', 'opportunity'], ['experience', 'fairview', 'phenomenal', 'location', 'school', 'amazing', 'lake', 'great', 'view', 'mountain', 'wonderful', 'teacher', 'student', 'grade', 'much', 'diversity', 'school', 'school', 'teacher', 'help', 'school', 'offer', 'many', 'opportunity', 'range', 'academic', 'school', 'amazing', 'experience'], ['school', 'style', 'chance', 'good', 'variety', 'club', 'opportunity', 'student', 'wish', 'group', 'people', 'big', 'school', 'person', 'group', 'school', 'diverse'], ['fairview', 'lot', 'student', 'manage', 'make', 'feel', 'community', 'academic', 'sport', 'jock', 'nerd', 'treatment'], ['high', 'school', 'good', 'public', 'high', 'school', 'lot', 'resource', 'good', 'academic'], ['review', 'fairview', 'high', 'schoolrate'], ['amazing', 'academic', 'program', 'teacher', 'lot', 'amazing', 'way', 'boulder', 'community', 'community', 'service', 'extra', 'curricular', 'sport', 'music', 'art', 'department', 'incredible'], ['high', 'school', 'overall', 'good', 'high', 'school', 'teacher', 'intelligent', 'qualified', 'environment', 'part', 'friendly', 'work', 'hard', 'mentality', 'time', 'stressful'], ['love', 'fairview', 'school', 'teacher', 'passionate', 'job', 'student', 'hand', 'kind', 'way', 'diversity', 'school'], ['teacher', 'rigorous', 'academic', 'school', 'challenge', 'good', 'way', 'possible', 'great', 'learning', 'environment'], ['full', 'bright', 'student', 'teacher', 'student', 'inpedendent', 'enough', 'educate', 'teacher', 'ample', 'help', 'endless', 'opportunity', 'student', 'resource', 'student', 'academic', 'social', 'support', 'system', 'close', 'student', 'fairview', 'foster', 'sense', 'community', 'feel', 'friend', 'school', 'faculty', 'teacher', 'student', 'class', 'academic'], ['high', 'school', 'host', 'intense', 'academic', 'environment', 'strong', 'curriculum', 'teacher', 'class', 'personable', 'great', 'work', 'student', 'help', 'available', 'student', 'need', 'contrast', 'school', 'base', 'curriculum', 'humanity', 'history', 'english', 'curriculum', 'good', 'relationship', 'student', 'student', 'poke', 'fun', 'admin', 'regulation', 'separate', 'note', 'student', 'active', 'school', 'wide', 'variety', 'club', 'activity', 'rage', 'film', 'regard', 'speech', 'debate', 'team', 'student', 'transfer', 'fairview', 'high', 'school', 'career', 'happy', 'place', 'fairview', 'community'], ['review', 'fairview', 'high', 'schoolrate'], ['good', 'school', 'view', 'library', 'nice', 'counselor'], ['update', 'social', 'study', 'department', 'intense', 'high', 'pressure', 'school'], ['great', 'school', 'people', 'friendly', 'many', 'people', 'school', 'drama', 'care', 'favorite', 'school', 'event', 'boulder', 'fairview', 'game', 'competitiveness', 'amazing', 'notice', 'fairview', 'star', 'program', 'need', 'improvement', 'asap', 'peer', 'tutoring', 'thing', 'school'], ['teacher', 'culture', 'student', 'pessimistic', 'disappointing', 'class', 'rigorous', 'learn', 'lot'], ['academic', 'strong', 'student', 'body', 'competitive', 'cause', 'lack', 'motivation', 'inferior', 'much', 'student', 'body'], ['experience', 'fairview', 'high', 'school', 'good', 'teacher', 'nice', 'polite', 'honor', 'ship', 'work', 'help', 'student', 'way', 'efficient', 'school', 'wonderful', 'mountain', 'view', 'park', 'next', 'school', 'lot', 'opportunity', 'elective', 'help', 'career', 'future'], ['amazing', 'academic', 'enough', 'fine', 'art', 'program', 'fine', 'art', 'aspect', 'amazing', 'performance', 'school'], ['high', 'school', 'excellent', 'academic', 'rigor', 'student', 'challenge', 'fairview', 'lack', 'diversity', 'time', 'student', 'smart', 'student', 'stupid', 'person', 'room', 'lot', 'teacher', 'student'], ['advanced', 'course', 'dream', 'resource', 'high', 'school', 'see', 'solid', 'community', 'basis', 'education', 'foundation', 'rest', 'life', 'competitive', 'pressure', 'cooker', 'high', 'feeling', 'competitiveness', 'rest', 'drain'], ['high', 'school', 'competitive', 'school', 'lot', 'spirit', 'academic', 'high', 'academic', 'robot', 'medicine', 'student', 'white', 'teacher', 'part', 'help', 'resource', 'many', 'individualized', 'sense', 'community', 'school', 'whole', 'community'], ['good', 'experience', 'overall', 'fairview', 'school', 'prepare', 'college', 'offer', 'challenging', 'course', 'skilled', 'teacher', 'culture', 'competitiveness', 'problematic', 'student', 'motivate', 'grade', 'passion', 'sake', 'teacher'], ['teacher', 'academic', 'top', 'notch', 'sport', 'art', 'program', 'award', 'bad', 'teacher', 'people', 'good', 'admin'], ['way', 'student', 'academic', 'athletic', 'art', 'opportunity', 'area', 'candidate', 'player', 'band', 'irreplaceable', 'addition', 'area', 'potential', 'interest', 'advantage', 'youth', 'government', 'national', 'honor', 'society', 'experience', 'fairview', 'kind', 'glad', 'decide', 'fairview'], ['teacher', 'fairview', 'knowledgeable', 'field', 'people', 'secondary', 'teacher', 'friend', 'teacher', 'consistent', 'teacher', 'good', 'teacher', 'career', 'doctorate', 'field', 'teacher', 'fairview', 'classroom'], ['review', 'fairview', 'high', 'schoolrate'], ['wide', 'diversity', 'various', 'activity'], ['fantastic', 'learning', 'experience'], ['teacher', 'qualified', 'knowledgable'], ['broad', 'course', 'selection', 'available', 'class'], ['many', 'option', 'extracurricular', 'involvement', 'student', 'trouble', 'fun', 'activity', 'fun', 'group', 'student'], ['time', 'able', 'class', 'want', 'good'], ['review', 'fairview', 'high', 'schoolrate'], ['police', 'annex', 'school', 'police', 'officer'], ['part', 'teacher'], ['many', 'option', 'many', 'different', 'club', 'sport', 'group', 'senior', 'year', 'new', 'group', 'good', 'amount', 'time'], ['spirit', 'week', 'homecoming', 'game', 'people', 'fun', 'dress', 'hand', 'necklace', 'school', 'color', 'hand', 'cupcake', 'show', 'love', 'spirit', 'school'], ['high', 'school', 'teacher', 'fun', 'teacher', 'fairview', 'quality', 'teacher', 'total', 'whole', 'time'], ['variety', 'club', 'club', 'space', 'club', 'available', 'certain', 'merit', 'activity', 'nhs', 'travel', 'opportunity', 'student', 'pursue'], ['mixed', 'gender', 'people', 'age', 'lot', 'likeable', 'teacher', 'class', 'uneventful', 'teacher', 'available', 'email'], ['upper', 'class', 'white', 'neighborhood'], ['teacher', 'willing', 'good', 'meeting', 'student', 'class', 'help', 'material', 'teacher', 'consistent', 'good', 'communicate', 'thing'], ['club', 'lose', 'amount', 'information', 'available', 'passionate', 'many', 'opportunity'], ['teacher', 'fairview', 'great', 'teaching', 'variety', 'teaching', 'style', 'adaptable', 'teacher', 'reliable', 'good'], ['school', 'great', 'time'], ['teacher', 'school', 'student'], ['safety', 'policy', 'term', 'health', 'program', 'security', 'great', 'policy', 'large', 'high', 'school', 'student', 'nice', 'time', 'instance', 'actual', 'rare', 'teacher', 'student', 'student', 'safety', 'priority'], ['review', 'fairview', 'high', 'schoolrate'], ['wide', 'variety', 'extracurricular', 'fairview', 'artistic', 'community', 'academic', 'club', 'passionate', 'student', 'many', 'way', 'fairview', 'member', 'certain', 'club', 'team'], ['teacher', 'helpful', 'good', 'experience', 'math', 'department', 'teacher'], ['love', 'fact', 'ton', 'club', 'school', 'doctor', 'club'], ['teacher', 'great', 'talk', 'general'], ['type', 'club', 'school', 'club', 'zombie', 'club', 'soccer', 'club', 'many', 'club', 'depend', 'look', 'club', 'school', 'sign', 'paper', 'teacher', 'help', 'club'], ['review', 'fairview', 'high', 'schoolrate'], ['school', 'great', 'great', 'sport', 'great', 'thing', 'offer', 'school', 'relate', 'thing', 'stuff', 'school', 'great', 'activity', 'school', 'unique', 'diversity', 'school', 'little', 'bit', 'school', 'support', 'teacher', 'student', 'student', 'school', 'high', 'school'], ['teacher', 'high', 'school', 'help', 'help', 'many', 'tutor', 'helpful'], ['high', 'school', 'career', 'rough', 'patch', 'use', 'amount', 'people', 'friend', 'fairview', 'student', 'branch', 'freshamn', 'sophomore', 'year', 'difficult', 'junior', 'year', 'blast', 'open', 'minded'], ['teacher', 'thoughtful', 'passionate', 'bout', 'student', 'teaching', 'teacher', 'interest', 'life', 'student', 'teacher', 'accessible', 'meeting', 'opportunity', 'classroom', 'teacher', 'high', 'school', 'effective', 'learning', 'environment'], ['unsafe', 'friend', 'dumb', 'thing', 'high', 'drunk', 'school', 'threat', 'teacher', 'wrong', 'fix', 'school', 'sick', 'cold', 'flu', 'season', 'half', 'school'], ['single', 'sport', 'speak', 'club', 'organization', 'majority', 'friend', 'lot', 'club'], ['amazing', 'teacher', 'good', 'teacher', 'big', 'thing', 'love', 'help', 'way', 'teacher', 'material', 'end', 'need'], ['student', 'fairview', 'effort', 'workload', 'part', 'student', 'force', 'pre', 'route', 'route', 'challenging', 'course', 'much', 'student', 'program', 'sophomore', 'year', 'crash', 'regular', 'course', 'workload', 'tough', 'regular', 'class', 'unpredictable', 'depend', 'teacher', 'math', 'teacher', 'grade', 'test', 'half', 'problem'], ['school', 'part', 'safe', 'think', 'search', 'random', 'contraband', 'drug', 'dog', 'sweep', 'beneficial', 'crack', 'drug', 'use', 'student', 'poor', 'choice', 'arson', 'school', 'catch', 'expel', 'think', 'need', 'crack', 'drug', 'use', 'alcohol', 'rest', 'safe'], ['able', 'club', 'thing', 'sport', 'extracurricular', 'activity', 'fairview', 'endless', 'human', 'zombie', 'club'], ['security', 'measure', 'good', 'prevalent', 'obvious', 'bullying', 'issue', 'nurse', 'time', 'great', 'health', 'program', 'resource', 'school', 'overall', 'school', 'safe'], ['experience', 'school', 'overall', 'people', 'general', 'school', 'unique', 'teacher', 'different', 'learning', 'experience', 'make', 'arduous', 'day', 'enjoyable', 'friend', 'daily', 'experience', 'nice', 'lunch', 'friend', 'difficult', 'friend', 'activity', 'sort', 'people'], ['quality', 'teacher', 'part', 'high', 'teacher', 'want', 'good', 'communicater', 'teaching', 'style', 'way', 'grade', 'different'], ['music', 'extracurricular', 'competitive'], ['review', 'fairview', 'high', 'schoolrate'], ['teacher', 'way', 'communicate', 'student', 'teacher', 'class'], ['science', 'fair', 'project', 'mistaken', 'bomb', 'clock', 'safe', 'safe'], ['lot', 'pressure', 'competitive', 'extent', 'wish', 'lot', 'challenging', 'class', 'basic', 'class', 'way', 'great', 'school'], ['great', 'teacher', 'quick', 'learner', 'good', 'test', 'taker', 'problem', 'teacher', 'joke', 'teacher', 'hard', 'time', 'class'], ['high', 'school', 'school', 'wonderful', 'type', 'conflict', 'teaching', 'arough', 'time', 'balance', 'high', 'school'], ['high', 'school', 'able', 'lot', 'last', 'friendship', 'high', 'school'], ['review', 'fairview', 'high', 'schoolrate'], ['lot', 'student', 'athletic', 'game', 'workout'], ['club', 'area', 'athletic', 'academic', 'social', 'justice', 'music', 'pop', 'culture', 'literature'], ['safe', 'place', 'student', 'bully', 'violence', 'many', 'student', 'smoke', 'pot'], ['game', 'student', 'football', 'game', 'social', 'activity'], ['great', 'education', 'athletic', 'awesome', 'people', 'hard', 'deal', 'high', 'school'], ['front', 'office', 'counselor', 'amazing', 'time', 'help', 'college', 'work', 'problem', 'teacher', 'talk'], ['fair', 'weird', 'rule', 'principal', 'wonderful', 'helpful', 'office', 'staff', 'opinion', 'unwilling', 'help', 'joke', 'blessing', 'depend', 'counselor', 'janitorial', 'strict'], ['lot', 'sport', 'win', 'lot', 'competitive', 'count'], ['department', 'horrific', 'least', 'french', 'social', 'study', 'department', 'wonderful', 'good', 'teacher', 'science', 'wonderful', 'teacher', 'relatable', 'language', 'art', 'department', 'traditional', 'style', 'handful', 'bad', 'math', 'teacher', 'good', 'majority', 'wonderful', 'art', 'department', 'good', 'project', 'concept', 'technique', 'self', 'artist', 'frustrating', 'frustrating', 'thing', 'school', 'switch', 'teacher', 'top', 'notch', 'rampant', 'nepotism', 'elitism', 'good', 'choir', 'suck', 'choir', 'work', 'good', 'drama', 'department', 'wonderful'], ['good', 'lot', 'proper', 'organization'], ['trouble', 'administration', 'student', 'government', 'point', 'helpful', 'gracious'], ['white', 'school', 'chant', 'rich', 'white', 'rich', 'group', 'junior', 'year', 'lot', 'peer', 'pressure', 'fairview', 'lot', 'kid', 'stress', 'address', 'vyvanse'], ['armed', 'police', 'officer', 'metal', 'detector', 'random', 'drug', 'sweep', 'fairview', 'safe', 'place', 'student', 'goal', 'drive', 'head'], ['review', 'fairview', 'high', 'schoolrate'], ['challenge', 'good', 'party', 'good', 'people', 'lot', 'lot', 'boulder', 'guy', 'girl', 'good', 'college', 'fairview', 'school', 'advanced', 'class', 'hard', 'lot', 'people', 'competition', 'smart', 'people', 'intimidate', 'top', 'class', 'people', 'smart', 'high', 'school', 'colorado', 'genius', 'school'], ['facility', 'nice', 'clean', 'overall', 'great', 'football', 'field', 'hold', 'football', 'game', 'boulder', 'field', 'year', 'course', 'boulder', 'way'], ['teacher', 'great', 'course', 'handful', 'teacher', 'awful', 'class', 'friend', 'different', 'teacher', 'class', 'easy', 'class', 'hard', 'base', 'teacher'], ['school', 'staff', 'helpful', 'friendly', 'student', 'counselor', 'school', 'interventionist', 'counseling', 'office', 'help', 'college', 'career', 'planning'], ['principal', 'school', 'admin', 'life', 'school', 'available'], ['rare', 'fairview', 'bully'], ['dress', 'code', 'casual', 'student', 'inappropriate', 'home'], ['student', 'supportive', 'team', 'faculty', 'member', 'student', 'game', 'regular', 'basis', 'student', 'teacher', 'school', 'red', 'black', 'show', 'school', 'spirit', 'rally', 'school', 'head', 'boy', 'head', 'girl', 'inform', 'student', 'teacher', 'upcoming', 'game', 'school', 'radio'], ['school', 'various', 'sport', 'facility', 'golf', 'course', 'tennis', 'court', 'gym', 'weight', 'room', 'student', 'class', 'total', 'credit', 'order', 'graduate'], ['fairview', 'student', 'opportunity', 'work', 'kid', 'program', 'student', 'fairview', 'adaptive', 'adaptive', 'art', 'work', 'child', 'disability', 'school'], ['school', 'safe', 'police', 'officer', 'security', 'guard'], ['review', 'fairview', 'high', 'schoolrate'], ['plenty', 'extracurricular', 'activity', 'great'], ['opportunity', 'immense', 'many', 'sport', 'sport', 'competitive', 'amazing', 'coach', 'love', 'sport', 'school', 'build', 'community', 'life', 'long', 'friendship'], ['diverse', 'alot', 'diversity', 'town', 'difficult', 'think', 'much', 'diversity'], ['low', 'crime', 'area', 'racial', 'child', 'general', 'race'], ['teacher', 'resource', 'available', 'lot', 'teacher', 'grade', 'slow', 'change', 'grade', 'time'], ['lot', 'interesting', 'club', 'fhs', 'wish', 'club'], ['coach', 'great', 'sport', 'game', 'awesome', 'fun', 'athletic', 'facility', 'order', 'clean'], ['bad', 'sort', 'drug', 'police', 'officer', 'good', 'security', 'guard', 'school', 'bullying'], ['general', 'top', 'notch', 'student', 'care'], ['football', 'team', 'state', 'championship', 'last', 'year', 'several', 'sport', 'team', 'place', 'competition', 'school', 'good', 'boulder', 'intense', 'fairview'], ['school', 'boulder', 'rich', 'school', 'traditional', 'academic', 'talented', 'music', 'theater', 'visual', 'art', 'program'], ['security', 'team', 'school', 'nurse', 'home', 'sick'], ['college', 'class', 'challenging', 'opportunity', 'level', 'academic', 'growth', 'college', 'course', 'nearby', 'fairview', 'student', 'live', 'bubble', 'hardship', 'real', 'world', 'challenge', 'rich', 'community', 'many', 'opportunity', 'different', 'challenge', 'real', 'world', 'people'], ['review', 'fairview', 'high', 'schoolrate'], ['school', 'care', 'good', 'job', 'clean', 'erase', 'term', 'fairview', 'bit', 'window', 'whole', 'building', 'teacher', 'room', 'picture', 'poster', 'stuffy', 'school', 'improve', 'new', 'several', 'window', 'open', 'beautiful', 'view', 'boulder', 'flatiron', 'school', 'room', 'dedicate', 'college', 'scholarship', 'information', 'several', 'book', 'computer', 'available', 'room', 'help', 'student', 'library', 'tutoring', 'academic', 'help', 'adult', 'several', 'honor', 'student', 'various', 'question', 'tutoring', 'school', 'dedicate', 'lot', 'fund', 'update', 'technology', 'available', 'student', 'new', 'chrome', 'book', 'ipad', 'computer', 'computer', 'area'], ['new', 'weight', 'training', 'facility', 'good', 'coach', 'trainer', 'support', 'staff', 'athletic', 'growth', 'opportunity', 'athlete', 'skill', 'level'], ['worth', 'long', 'commute', 'open', 'enroll', 'school'], ['teacher', 'train', 'part', 'skill', 'education'], ['school', 'handle', 'student', 'responsible', 'people', 'policy', 'administer'], ['health', 'safety', 'policy', 'school', 'adequate', 'school', 'local', 'official', 'environmental', 'condition', 'school', 'closure', 'safety', 'student', 'travel', 'school', 'snow', 'storm', 'forest', 'fire', 'flooding', 'school', 'hour', 'threat', 'suspicious', 'people', 'parcel', 'notification', 'public', 'health', 'concern', 'communicable', 'disease', 'outbreak', 'timely', 'manner'], ['review', 'fairview', 'high', 'schoolrate'], ['social', 'fault', 'school', 'college'], ['extra', 'curricular', 'activity', 'numerous', 'engaging', 'fun', 'different', 'type', 'people', 'opportunity'], ['amazing', 'fairview', 'many', 'good', 'dedicated', 'athlete'], ['sport', 'art', 'amazing', 'many', 'opportunity'], ['great', 'time', 'fairview', 'sad'], ['lot', 'club', 'lot'], ['administration', 'case', 'extreme', 'bullying', 'issue', 'teacher'], ['wonderful', 'responsive', 'question', 'class', 'knowledgeable'], ['several', 'instance', 'case', 'school', 'handle', 'several', 'people', 'drug', 'smoke', 'school', 'fairview', 'open', 'campus', 'insistent', 'student', 'main', 'entrance', 'day'], ['countless', 'club', 'unlimited', 'faculty', 'support', 'available', 'new', 'many', 'club', 'community', 'issue', 'fund', 'last', 'couple', 'year', 'due', 'change', 'district', 'policy', 'ban', 'bake', 'sale', 'primary', 'source', 'income', 'club'], ['review', 'fairview', 'high', 'schoolrate'], ['bad'], ['principal', 'vice', 'principal', 'school', 'place', 'strict', 'rule', 'set', 'enforce'], ['teacher', 'student', 'office', 'hour', 'stay', 'class', 'answer', 'question', 'student'], ['school', 'new', 'wing', 'build', 'new', 'technology', 'easy', 'student', 'teacher'], ['many', 'different', 'class', 'various', 'perspective', 'difficulty', 'level', 'student'], ['much', 'outgoing', 'read', 'world', 'graduate'], ['review', 'fairview', 'high', 'schoolrate'], ['wonderful', 'school', 'provide', 'education', 'variety', 'course', 'manner', 'many', 'impressive', 'program', 'choir', 'extensive', 'variety', 'club', 'administration', 'care', 'student', 'student', 'care'], ['rigorous', 'prepared', 'college', 'future', 'class', 'workload', 'advanced', 'class', 'force', 'regular', 'class', 'lot', 'work', 'associate', 'teacher', 'willing', 'work', 'schedule', 'help'], ['love', 'fairview', 'school', 'area', 'high', 'quality', 'institution'], ['friend', 'college', 'college'], ['great', 'guidance', 'counselor', 'parent', 'involvement', 'easy', 'fairview', 'new', 'computer', 'quality', 'facility'], ['high', 'school', 'issue', 'issue', 'resolve', 'issue', 'teacher', 'principle', 'time', 'teacher', 'monitor'], ['choir', 'enough', 'school', 'funding', 'program', 'choir', 'school', 'wide', 'range', 'extracurricular', 'school', 'credit', 'dance', 'class', 'spend', 'hour', 'week', 'gym', 'credit'], ['resource', 'school', 'call', 'post', 'grad', 'center', 'center', 'great', 'resource', 'student', 'college', 'option', 'parent', 'volunteer', 'system', 'hard', 'help', 'student', 'college', 'process', 'great', 'place', 'work', 'college', 'book', 'brochure'], ['good', 'school', 'top', 'notch', 'academic', 'athletic', 'perform', 'art', 'good', 'bad', 'graduate', 'top', 'middle', 'school', 'shock', 'ton', 'homework', 'stay', 'least', 'midnight', 'night'], ['great', 'option', 'healthy', 'good', 'snack', 'food', 'little', 'lackluster', 'general', 'program', 'bit', 'enthusiasm'], ['absolute', 'good', 'job', 'adept', 'day', 'health', 'issue', 'crisis'], ['love', 'fairview', 'kid', 'teacher', 'class', 'awesome', 'knight'], ['club', 'awesome', 'gay', 'straight', 'alliance'], ['review', 'fairview', 'high', 'schoolrate'], ['great', 'program', 'many', 'class'], ['lot', 'experience', 'administration'], ['great', 'school', 'lot', 'level', 'regular', 'class', 'offer'], ['school', 'involvement', 'different', 'ethnic', 'groupd'], ['teacher', 'great', 'love', 'help', 'office', 'hour', 'school', 'workload', 'class', 'teacher', 'class', 'large', 'workload', 'regular', 'college', 'prep', 'class', 'teacher', 'student', 'achievement', 'lot', 'class', 'overwhelmed', 'workload', 'help', 'library', 'friend', 'teacher', 'teacher', 'department'], ['review', 'fairview', 'high', 'schoolrate'], ['counsellor', 'school', 'approachable', 'helpful', 'help', 'lot', 'issue', 'step', 'school', 'safe', 'big', 'hype', 'time', 'presence', 'black', 'bear', 'street', 'security', 'guard', 'friendly', 'make', 'safe', 'comfortable'], ['lot', 'club', 'organization', 'lot', 'different', 'subject', 'knowledge', 'bowl', 'doctor', 'club', 'lot', 'support', 'club', 'new', 'club', 'club', 'lot', 'friend'], ['wide', 'variety', 'class', 'great', 'advanced', 'placement', 'class', 'ready', 'top', 'tier', 'college', 'public', 'school', 'lot', 'place', 'student', 'graduating', 'opportunity', 'college', 'work', 'military', 'good'], ['lot', 'option', 'class', 'wise', 'club', 'wise', 'people', 'different', 'academic', 'level', 'interest', 'personality', 'people', 'hard', 'time', 'social', 'academic', 'scene'], ['empty', 'bomb', 'threat', 'bathroom', 'school', 'bomb', 'school', 'evacuate', 'proper', 'measure', 'power', 'outage', 'major'], ['safety', 'school', 'great', 'school', 'great', 'area', 'health', 'office', 'useless'], ['fairview', 'important', 'big', 'group', 'supporter'], ['club', 'student', 'run', 'administration', 'support', 'club', 'interested', 'advertise', 'people', 'lot', 'different', 'club', 'activity', 'area', 'diverse', 'club', 'welcome', 'people', 'new'], ['year', 'school', 'survey', 'safe', 'feel', 'school', 'people', 'school', 'look', 'safety', 'safe', 'counsellor', 'feel', 'welcome', 'share', 'trouble', 'help', 'security', 'guard', 'school', 'feel', 'threaten', 'joke', 'student'], ['nice', 'lose', 'problem', 'heavy', 'traffic', 'student', 'period', 'library', 'excellent', 'friendly', 'librarian', 'help', 'student', 'achievement', 'great', 'section', 'library', 'silent', 'multitude', 'free', 'student', 'tutor', 'homework', 'test', 'prep', 'hallway', 'clean', 'eat', 'place', 'lot', 'computer', 'least', 'computer', 'room', 'level', 'open', 'reliable', 'guidance', 'counselor', 'helpful'], ['fairview', 'lot', 'different', 'level', 'class', 'regular', 'advanced', 'placement', 'international', 'baccalaureate', 'course', 'different', 'track', 'different', 'subject', 'counsellor', 'available', 'help', 'class', 'succeed', 'workload', 'manageable', 'advanced', 'level', 'teacher', 'able', 'help', 'question', 'trouble', 'teacher', 'field'], ['teacher', 'knowledgable', 'teaching', 'subject', 'tangent', 'information', 'subject', 'relate', 'class', 'interesting', 'case', 'classroom', 'lively', 'case', 'old', 'teacher', 'class', 'great', 'job', 'prepare', 'exam', 'style', 'annoying', 'teacher', 'care', 'lot', 'student', 'open', 'question', 'suggestion'], ['fairview', 'reasonable', 'specific', 'dress', 'code', 'dress', 'tolerance', 'attendance', 'policy', 'district', 'wide', 'policy', 'bit', 'hassle', 'time', 'doctor', 'excuse', 'class', 'parent', 'sick', 'student', 'comply', 'policy', 'fair', 'reasonable'], ['empty', 'bomb', 'threat', 'student', 'hope', 'school', 'school', 'nurse', 'willing', 'help', 'home', 'feel', 'sick', 'bully', 'school', 'rare', 'unsafe', 'bully', 'school', 'interventionist', 'principal', 'sit', 'talk'], ['review', 'fairview', 'high', 'schoolrate'], ['teacher', 'good', 'teacher', 'lesson', 'easy', 'student', 'teacher', 'lackluster', 'teaching', 'style', 'work', 'lot', 'student', 'student', 'help', 'tutor', 'study', 'group'], ['extracurricular', 'student', 'drama', 'art', 'popular', 'show', 'successful', 'many', 'student', 'fairview', 'sport', 'addition', 'many', 'club', 'student', 'work', 'teacher', 'new', 'club', 'year'], ['fairview', 'special', 'education', 'program', 'dipolma', 'teacher', 'care', 'workload', 'class', 'extensive', 'addition', 'course', 'many', 'fun', 'elective', 'take'], ['variety', 'sport', 'student', 'wide', 'range', 'athletic', 'ability', 'opportunity', 'sport', 'several', 'sport', 'team', 'member', 'member', 'sport', 'club', 'fairview', 'good', 'fairview', 'student', 'body', 'cause', 'example', 'club', 'much', 'environment', 'able', 'plastic', 'bag', 'tax', 'boulder', 'fairview', 'student', 'body', 'access', 'many', 'wonderful', 'program', 'welcoming'], ['many', 'extracurricular', 'fairview', 'cool', 'extracurricular', 'special', 'program', 'popular', 'majority', 'student', 'body', 'class', 'cool', 'smart', 'music', 'art', 'program', 'phenomenal', 'sport', 'state', 'single', 'year'], ['student', 'body', 'fairview', 'open', 'enrol', 'student', 'open', 'enrol', 'student', 'fairview', 'rigorous', 'academic', 'program', 'overall', 'majority', 'teacher', 'style', 'teacher', 'subject', 'majority', 'fairview', 'student', 'class', 'student', 'hard', 'work', 'push', 'know', 'school', 'cool', 'ditzy', 'dumb', 'jock', 'fairview'], ['review', 'fairview', 'high', 'schoolrate'], ['teacher', 'great', 'eccentric', 'teacher'], ['good', 'good', 'dedicated', 'athlete'], ['teacher', 'knowledgeable', 'subject', 'student'], ['food', 'good', 'food'], ['diversity', 'board', 'presentation'], ['high', 'school', 'lot', 'opportunity', 'student'], ['acedemic', 'offer', 'excellent', 'wide', 'range', 'class', 'suit', 'many', 'different', 'student', 'possibility', 'regular', 'combo', 'class', 'type', 'learner', 'chance', 'combo', 'regular', 'class', 'workload', 'manageable', 'junior', 'year', 'manage', 'time', 'assignment', 'crucial', 'time', 'college', 'senior', 'year', 'workload', 'super', 'light', 'teacher', 'good', 'previous', 'year', 'teacher', 'good', 'science', 'catergory', 'fun', 'lot', 'end', 'spectrum', 'language', 'art', 'teacher', 'good', 'achievement', 'knowledge', 'gain', 'class', 'good', 'due', 'teacher', 'popular', 'class', 'high', 'popularity', 'psychology', 'waitliste', 'pleased', 'teacher', 'vast', 'new', 'knowledge', 'gain', 'astounding', 'many', 'entertaining', 'elective', 'art', 'exercise', 'great', 'way', 'credit', 'conclusion', 'fairview', 'excellence', 'acedemic', 'student', 'statement', 'excellent', 'school', 'prepare', 'college'], ['safe', 'school', 'bully', 'first', 'hand', 'issue', 'valuable', 'steal', 'school'], ['many', 'student', 'scad', 'school', 'activity', 'sport', 'club', 'environment', 'hostile', 'sense', 'advanced', 'class', 'embarrassed', 'stellar', 'grade', 'talk', 'grade', 'bullying', 'school', 'super', 'many', 'physical', 'fight', 'overall', 'diversity', 'acceptance', 'due', 'student', 'comfortable', 'niche', 'school', 'bind', 'group', 'people'], ['great', 'experience', 'fantastic', 'teacher', 'great', 'athletic', 'student', 'body'], ['wonderful', 'experience', 'fairview', 'high', 'school', 'many', 'opportunity', 'teacher', 'community', 'fairview', 'unique', 'support', 'dedication', 'time', 'connection', 'teacher', 'today', 'thing', 'opportunity', 'close', 'future', 'helpful', 'school', 'speaker', 'opportunity', 'help', 'student', 'figure', 'type', 'carrier', 'many', 'amazing', 'memory', 'friend', 'much', 'grateful', 'privilege', 'fairview'], ['review', 'fairview', 'high', 'schoolrate'], ['beautiful', 'view', 'flatiron', 'see', 'majority', 'school', 'window', 'teacher', 'nice', 'helpful', 'year'], ['love', 'variety', 'class', 'school', 'school', 'many', 'different', 'extracurricular'], ['fairview', 'college', 'class', 'great', 'opportunity', 'help', 'semester', 'worth', 'college', 'credit', 'fairview', 'great', 'job', 'student', 'high', 'school', 'college'], ['real', 'difference', 'school', 'student', 'teacher', 'teacher', 'subject', 'expertise', 'care', 'student', 'success', 'atmosphere', 'push', 'student', 'ask', 'question', 'academic', 'artistic', 'area'], ['year', 'stress', 'rigorous', 'standard', 'fairview'], ['football', 'game', 'worth', 'teacher', 'musical', 'program', 'incredible', 'vocal', 'instrumental', 'interest', 'school', 'intensive', 'college', 'advanced', 'class', 'hop', 'college', 'credit', 'work'], ['school', 'advanced', 'sport', 'school', 'affluent', 'neighborhood', 'many', 'student', 'wealthy', 'white', 'asian'], ['faculty', 'helpful', 'attentive', 'school', 'lunch', 'good'], ['love', 'high', 'school', 'college', 'incredible', 'staff', 'teacher', 'helpful', 'successful', 'path', 'future', 'diversity', 'school', 'hope', 'fairview', 'accept', 'culture'], ['amazing', 'breadth', 'depth', 'resource', 'staff', 'faculty', 'thing', 'experience'], ['massive', 'school', 'student', 'intimidate', 'club', 'elective', 'offer', 'easy', 'find', 'crowd', 'teacher', 'top', 'notch', 'school', 'fair', 'amount', 'homework', 'prepare', 'college', 'test'], ['choral', 'program', 'amazing', 'art', 'department', 'whole', 'love', 'fairview', 'mold', 'way'], ['academic', 'drive', 'present', 'fairview', 'community', 'endless', 'opportunity', 'available', 'school', 'community', 'strong', 'support', 'faculty', 'administration', 'type', 'environment', 'success', 'possible', 'thing', 'overall', 'fairview', 'experience', 'future', 'student', 'program', 'student', 'stress', 'education', 'regard', 'party', 'culture', 'popular', 'high', 'school', 'way', 'fun'], ['total', 'focus', 'academic', 'sport', 'music', 'drama', 'special', 'club', 'student', 'diversity', 'curriculum', 'community', 'involvement', 'national', 'arena', 'extracurricular', 'competition', 'debate'], ['review', 'fairview', 'high', 'schoolrate'], ['school', 'college', 'independence', 'option', 'class', 'good', 'many', 'different', 'level', 'offer', 'teacher', 'good', 'favorite', 'normal', 'school'], ['great', 'school', 'experience', 'wonderful', 'sad', 'leave', 'place', 'teacher', 'helpful', 'thing', 'love', 'school', 'block', 'schedule', 'student', 'min', 'talk', 'teacher', 'help', 'thing', 'school'], ['great', 'hard', 'time', 'lot', 'teacher', 'good', 'approachable', 'fairview', 'lot', 'class', 'choose', 'track', 'college', 'prep', 'class', 'great', 'sport', 'competitive', 'cut', 'sport', 'sport'], ['glad', 'student', 'high', 'school', 'many', 'school', 'horrendous', 'bathroom', 'bond', 'next', 'year', 'teacher', 'great', 'extracurricular', 'opportunity', 'able', 'ton', 'great', 'friend', 'unsafe', 'school', 'student'], ['year', 'teacher', 'good', 'approachable', 'part', 'ton', 'friend', 'girl', 'basketball', 'soccer', 'team', 'lot', 'awesome', 'people', 'fhs', 'challenging', 'time', 'glad', 'fairview', 'college', 'college', 'college', 'fairview', 'many', 'opportunity', 'fairview', 'great', 'school'], ['small', 'middle', 'school', 'fairview', 'great', 'experience', 'people', 'large', 'environment', 'school', 'sport', 'student', 'government', 'club', 'kid', 'brand', 'new', 'people', 'year', 'friend', 'many', 'contact', 'graduation', 'fairview', 'student', 'energetic', 'people', 'lot', 'school', 'lot', 'motivation', 'fairview', 'offer', 'course', 'teacher', 'work', 'time', 'extra', 'help', 'good', 'help', 'fairview', 'adult', 'responsible', 'work', 'independence', 'time', 'management', 'organization', 'knight'], ['review', 'fairview', 'high', 'schoolrate'], ['teacher', 'student', 'school', 'offer', 'opportunity', 'variety', 'different', 'field', 'student'], ['fairview', 'wide', 'array', 'club', 'activity', 'fit', 'student', 'interest', 'many', 'tutor', 'opportunity', 'order', 'student'], ['high', 'great', 'school', 'good', 'state', 'college', 'many', 'great', 'elective', 'look', 'fun', 'fairview', 'good', 'type', 'student'], ['resource', 'help', 'thing', 'college', 'restroom', 'amazing', 'recommend', 'school'], ['high', 'school', 'ultimate', 'high', 'school', 'experience', 'night', 'football', 'game', 'victory', 'excellent', 'education', 'fairview', 'state', 'student', 'dream', 'school'], ['high', 'school', 'excellent', 'qualified', 'teacher', 'staff', 'member', 'average', 'teacher', 'qualified', 'master', 'education', 'education', 'school', 'countless', 'resource', 'career', 'college', 'application', 'help', 'fairview', 'good', 'location', 'foot', 'library', 'unattainable', 'else', 'country'], ['teacher', 'academic', 'sport', 'student', 'high', 'workload', 'class', 'little', 'diversity', 'disgusting', 'bathroom'], ['high', 'school', 'student', 'resource', 'order', 'successful', 'high', 'school', 'effort', 'staff', 'fairview', 'safe', 'community', 'comfortable', 'safe', 'student', 'hall'], ['top', 'level', 'activity', 'good', 'state', 'athletic', 'girl', 'tennis', 'top', 'academic', 'team', 'speech', 'debate', 'award', 'art', 'band', 'program', 'student', 'love', 'administration', 'supportive', 'activity', 'supportive', 'vary', 'amount', 'commitment', 'hour', 'week'], ['school', 'unsafe', 'outside', 'threat', 'sanctuary', 'focus', 'good', 'experience', 'student'], ['team', 'year', 'high', 'school', 'involved', 'devoted', 'member', 'significant', 'amount', 'time', 'school', 'work', 'team', 'dynamic', 'parent', 'team', 'help', 'thrive', 'doubt', 'parent', 'team', 'flourish', 'year'], ['fairview', 'doubt', 'thing', 'fairview', 'sense', 'community', 'great', 'student', 'teacher', 'relaxed', 'environment'], ['experience', 'fairview', 'high', 'school', 'teacher', 'success', 'student', 'balance', 'respect', 'teacher', 'student', 'ideal', 'learning', 'environment', 'misdirect', 'teacher', 'understanding', 'material', 'advanced', 'class'], ['strong', 'sport', 'school', 'state', 'plenty', 'club'], ['review', 'fairview', 'high', 'schoolrate'], ['combination', 'good', 'athletic', 'academic', 'easy', 'choice', 'fairview'], ['high', 'stress', 'environment', 'ton', 'opportunity', 'part', 'people', 'supportive', 'education', 'worth', 'stress'], ['many', 'extracurricular', 'opportunity', 'school'], ['fairview', 'boulder', 'name', 'synonymous', 'prestigious', 'high', 'rank', 'elitist', 'arrogant', 'difficult', 'throw', 'studious', 'person', 'thing', 'class', 'fact', 'academic', 'orient', 'material', 'equal', 'part', 'teacher', 'least', 'humanity', 'bland', 'textbook', 'curriculum', 'bare', 'constitute', 'average', 'high', 'school', 'level', 'class', 'dozen', 'example', 'else', 'uncommon', 'student', 'walk', 'class', 'follow', 'heated', 'socratic', 'seminar', 'debate', 'significance', 'hegelian', 'philosophy', 'dostoyevsky', 'crime', 'punishment', 'atomic', 'bomb', 'environment', 'degree', 'pretentiousness', 'surprise', 'surprise', 'high', 'school', 'education', 'colorado'], ['teacher', 'rare', 'teacher', 'way', 'job', 'ridiculous', 'knowledge', 'perspective', 'accessible', 'time', 'slot', 'week', 'designate', 'meet', 'student', 'call', 'student', 'access', 'time', 'active', 'community', 'club'], ['fairview', 'national', 'merit', 'scholar', 'school', 'district', 'school', 'rank', 'good', 'school', 'country'], ['teacher', 'fairview', 'passionate', 'year', 'instance', 'teacher', 'average', 'base', 'level', 'boring', 'majority', 'study', 'class', 'teacher', 'knowledgable', 'field', 'unique', 'approach', 'huge', 'difference', 'classroom', 'engagement', 'next', 'impossible', 'fairview', 'contagious', 'passion', 'class'], ['school', 'good', 'job', 'regard', 'safety', 'security', 'guard', 'security', 'measure', 'necessary', 'school', 'student', 'enough', 'space', 'baby', 'school', 'safe', 'school', 'faculty', 'police', 'force', 'rely', 'technology', 'school'], ['review', 'fairview', 'high', 'schoolrate'], ['large', 'part', 'student', 'government', 'surround', 'people', 'love', 'school', 'work', 'many', 'athletic', 'academic', 'artistic', 'club', 'member', 'passionate', 'love', 'part', 'community', 'pot', 'many', 'way', 'student', 'many', 'faculty', 'member', 'support', 'need', 'demand', 'population', 'extracurricular'], ['great', 'fit'], ['extracurricular', 'student', 'friend', 'great', 'place', 'study'], ['safe', 'location', 'fairview', 'safe', 'school', 'school', 'sure', 'teacher', 'student', 'act', 'situation', 'friendly', 'security', 'guard', 'least', 'nurse', 'program', 'dedicate', 'student', 'difficulty'], ['sport', 'volunteer', 'art', 'club', 'fairview', 'opportunity', 'activity', 'student', 'club'], ['much', 'happy', 'teacher', 'dedicated', 'material', 'student', 'need', 'feel', 'prepared', 'college', 'next', 'year', 'friend', 'graduate', 'curve', 'boulder', 'scheduling', 'level', 'science', 'class', 'precedence', 'kid', 'need', 'test', 'spring', 'class', 'lot', 'pressure', 'successful'], ['ill', 'graduate', 'less', 'month', 'sad', 'long', 'fairview', 'knight', 'education', 'amazing', 'high', 'level', 'class', 'available', 'non', 'course', 'teacher', 'much', 'student', 'athletic', 'varsity', 'level', 'good', 'sport', 'team', 'knight'], ['academic', 'amazing', 'great', 'deal', 'many', 'class', 'course', 'year', 'teacher', 'great', 'curriculum', 'great', 'workload', 'advanced', 'class', 'strong', 'able', 'accomplish', 'need', 'class'], ['parent', 'school', 'community', 'parent', 'student'], ['great', 'school', 'wide', 'range', 'people', 'activity', 'college', 'lot', 'pressure'], ['great', 'exciting', 'school', 'spirit', 'helpful', 'teacher', 'great', 'community', 'lot', 'class', 'tailor', 'interest', 'pressure', 'high', 'achieve', 'environment'], ['good', 'thing', 'band', 'member', 'staff', 'parent', 'supportive', 'much', 'fun', 'band', 'state'], ['review', 'fairview', 'high', 'schoolrate'], ['athletic', 'amazing', 'coach', 'facility', 'supportive', 'school', 'athletic'], ['teacher', 'work', 'sure', 'good', 'education', 'thing', 'know', 'teacher', 'way'], ['competitive', 'extracurricular', 'revolve', 'sport', 'athletic', 'boulder', 'area', 'lot', 'great', 'coach', 'huge', 'number', 'national', 'caliber', 'athlete'], ['sure', 'fairview', 'room', 'part', 'excellent', 'school', 'fantastic', 'school', 'spirit', 'great', 'athletic', 'dedicated', 'academic'], ['lot', 'school', 'pride', 'fairview', 'athletic', 'department'], ['part', 'incredible', 'teacher', 'job', 'description'], ['review', 'fairview', 'high', 'schoolrate'], ['great', 'variety', 'club', 'fairview', 'art', 'club', 'microfinace', 'club', 'different', 'level', 'commitment'], ['academic', 'great', 'many', 'different', 'level', 'course', 'challenge', 'people', 'hard', 'class'], ['school', 'rigorous', 'offer', 'class', 'work', 'load', 'big', 'class', 'advanced', 'student', 'free', 'choose', 'class', 'want', 'certain', 'amount', 'credit', 'order', 'graduate'], ['teacher', 'school', 'competitive', 'faculty', 'nice', 'understanding', 'teacher', 'member', 'friend', 'teacher', 'school', 'offer', 'class', 'lot', 'student', 'course'], ['swim', 'team', 'extracurricular', 'much', 'fun', 'motivation', 'afternoon', 'fun', 'friend', 'workout', 'team', 'bonding', 'session', 'good'], ['swim', 'team', 'year', 'much', 'fun', 'supportive', 'willing', 'help', 'great', 'family', 'sooo', 'supportive', 'good'], ['teacher', 'nice', 'willing', 'help', 'available', 'request', 'alot', 'time', 'people'], ['good', 'school', 'help', 'student', 'way', 'way'], ['many', 'different', 'club'], ['faculty', 'fairview', 'unbelievable', 'helpful'], ['amazing', 'school', 'college'], ['outstanding', 'academic', 'love', 'teacher', 'knowledgeable', 'workload', 'kid', 'availability', 'fun', 'class'], ['safe', 'secure', 'school'], ['review', 'fairview', 'high', 'schoolrate'], ['teacher', 'supportive', 'helpful', 'teaching', 'style', 'good', 'subject', 'class', 'fun', 'interactive', 'lot', 'homework'], ['high', 'school', 'national', 'merit', 'finalist', 'district', 'state', 'combine', 'public', 'school', 'school', 'type', 'advanced', 'placement', 'course', 'advanced', 'placement', 'international', 'baccalaureate', 'regular', 'class', 'teacher', 'high', 'performance', 'lot', 'homework'], ['many', 'club', 'fairview', 'involve', 'right', 'group', 'friend', 'new', 'club'], ['variety', 'academic', 'track', 'suitable', 'choice', 'friend', 'personal', 'good', 'teacher', 'job', 'great', 'student'], ['deal', 'athletic', 'team', 'competitive', 'interscholastic', 'match', 'fan', 'base', 'solid', 'game', 'many', 'student', 'alum'], ['teacher', 'student', 'approachable', 'trouble', 'teacher', 'question'], ['review', 'fairview', 'high', 'schoolrate'], ['stellar', 'science', 'department', 'good', 'english', 'department', 'good'], ['first', 'year', 'college', 'school', 'experience'], ['school', 'much', 'thing', 'overall', 'experience'], ['school', 'college', 'prep', 'center', 'help', 'material', 'need', 'staff', 'helpful'], ['school', 'athletic', 'game', 'whole', 'school', 'support', 'matter', 'game'], ['school', 'top', 'education'], ['safety', 'school', 'great', 'suicide', 'threat', 'scary', 'counselor', 'deal'], ['academic', 'amazing', 'learn', 'lot', 'lot', 'pressure', 'teacher', 'jerk'], ['plenty', 'counseling', 'resource', 'personal', 'help', 'college', 'old', 'maze', 'need'], ['honor', 'huge', 'number', 'choice', 'combination', 'advanced', 'class', 'take', 'class', 'hard', 'great', 'workload', 'good', 'teacher', 'opinion', 'difficulty', 'quality'], ['term', 'student', 'involvement', 'team', 'performance', 'facility', 'variety', 'opportunity', 'athletic', 'fairview', 'phenomenal', 'school', 'sport', 'fairview', 'team', 'year', 'team', 'state', 'level', 'competition', 'due', 'talented', 'athlete', 'great', 'coach'], ['many', 'athlete', 'school', 'top', 'notch', 'football', 'team', 'undefeatable', 'senior', 'year', 'student', 'sport', 'team'], ['nation', 'amazing', 'academic', 'class', 'top', 'notch'], ['many', 'extracurricular', 'experience', 'many', 'get', 'choir', 'sport', 'club', 'national', 'honor', 'society', 'art', 'fairview', 'choir', 'national', 'football', 'team', 'state', 'past', 'season'], ['review', 'fairview', 'high', 'schoolrate'], ['love', 'main', 'factor', 'fairview', 'student', 'much', 'support', 'athlete', 'performer', 'fellow', 'student', 'general', 'event', 'parent', 'musical', 'choir', 'concert', 'night', 'student', 'participation', 'eye', 'many', 'fantastic', 'new', 'experience', 'thing', 'interest', 'school', 'participation', 'interested', 'choir', 'choir', 'freshman', 'year', 'year', 'high', 'school', 'happy', 'decision'], ['school', 'counseling', 'office', 'fantastic', 'resource', 'student', 'stress', 'college', 'help', 'counselor', 'calm', 'understanding', 'helpful', 'good', 'student', 'resource', 'need'], ['safe', 'school', 'student', 'moral', 'emergency', 'response', 'team', 'good'], ['good', 'athletic', 'football', 'second', 'state'], ['academic', 'unparalleled', 'due', 'rigorous', 'impressive', 'curriculum', 'subject', 'fairview', 'faint', 'heart', 'diploma', 'work', 'upward', 'hour', 'homework', 'night', 'regular', 'class', 'little', 'homework', 'fairview', 'make', 'hard', 'class', 'college', 'level', 'sense', 'expression', 'breeze', 'brain', 'strong', 'work', 'ethic', 'lot', 'devotion', 'school', 'academic', 'succeed', 'fairview'], ['athletic', 'good', 'colorado', 'support', 'school', 'ton', 'student', 'participate', 'year', 'soccer', 'state', 'final', 'football', 'team', 'rank', 'first', 'state', 'girl', 'volleyball', 'state', 'track', 'team', 'college', 'coach', 'week', 'season', 'taste', 'fairview', 'sure', 'good', 'sport'], ['review', 'fairview', 'high', 'schoolrate'], ['impressive', 'aspect', 'incredible', 'academic', 'social', 'scene', 'class', 'club', 'art', 'music', 'parent', 'staff', 'love', 'part', 'big', 'people', 'school', 'care', 'friendly', 'chance', 'many', 'problem', 'high', 'school', 'career', 'confident', 'fairview', 'time', 'high', 'school', 'crisis', 'social', 'problem', 'community', 'natural', 'disaster', 'source', 'summer', 'program', 'volunteering', 'job', 'friend', 'future', 'part', 'life', 'available', 'fairview'], ['class', 'part', 'many', 'peer'], ['school', 'niche', 'excel', 'many', 'different', 'type', 'extracurricular', 'place'], ['school', 'care', 'good', 'potential', 'many', 'opportunity', 'many', 'student', 'opportunity'], ['teacher', 'school', 'succeed', 'time', 'know', 'material', 'successful', 'standardized', 'test'], ['safe', 'school', 'school', 'safe', 'place', 'student', 'growth', 'place'], ['coach', 'sport', 'student', 'hope', 'find', 'push'], ['experience', 'school', 'change', 'person', 'find', 'person', 'today', 'example', 'school', 'advanced', 'class', 'push', 'important', 'hard', 'school', 'help', 'person', 'citizen', 'world'], ['school', 'people', 'safe'], ['administration', 'high', 'school', 'helpful', 'good', 'time', 'school', 'care', 'help', 'image'], ['teacher', 'incredible'], ['good', 'varsity', 'sport', 'team', 'state', 'count', 'student', 'game'], ['ton', 'opportunity'], ['teacher', 'amazing', 'willing', 'help'], ['review', 'fairview', 'high', 'schoolrate'], ['band', 'school', 'sport', 'incredible', 'set', 'theater', 'choir', 'program', 'amazing'], ['amazing', 'school', 'ton', 'club', 'sport', 'whole', 'experience', 'love', 'school', 'friend'], ['tolerance'], ['fairview', 'college', 'many', 'choice', 'great', 'school'], ['many', 'club', 'activity', 'student', 'club', 'student', 'interest', 'staff', 'helpful', 'activity', 'art', 'department', 'incredible', 'student', 'district', 'fairview'], ['safe', 'area', 'top', 'staff', 'student', 'health', 'safety', 'security', 'staff', 'school', 'safety', 'concern', 'minor', 'far', 'student', 'health', 'mental', 'physical', 'many', 'resource', 'student', 'counselor', 'available', 'talk', 'student', 'issue', 'school', 'home', 'health', 'room', 'available', 'people', 'sick', 'school', 'next', 'year', 'new', 'program', 'implement', 'allow', 'encourage', 'student', 'school', 'exercise', 'equipment', 'school', 'period'], ['review', 'fairview', 'high', 'schoolrate'], ['health', 'school', 'boulder', 'healthy', 'city', 'nation', 'handful', 'obease', 'student', 'fairview', 'school', 'friendly', 'rival', 'boulder', 'high', 'school', 'athletic', 'facility', 'nice', 'brand', 'new', 'nice', 'many', 'student', 'sport', 'associate', 'varsity', 'athlete'], ['administration', 'great', 'deal', 'attention', 'detail', 'teacher', 'fairview', 'good', 'good'], ['administration', 'student', 'difference', 'school', 'atmosphere'], ['overall', 'experience', 'wonderful', 'honeslty', 'amazing', 'people', 'much', 'year', 'large', 'school', 'niche', 'much', 'time', 'group', 'favorite', 'experience', 'football', 'game', 'pep', 'rally', 'fun', 'science', 'class', 'run', 'track', 'team', 'senior', 'lounge', 'football', 'game', 'pep', 'rally', 'fun', 'school', 'much', 'spirit', 'fun', 'part', 'cheer', 'cheer', 'track', 'year', 'high', 'school', 'support', 'interest', 'school', 'beautiful', 'view', 'boulder', 'much', 'offer', 'astounding', 'choral', 'acedemic', 'athletic', 'program', 'rest', 'high', 'school', 'experience', 'school', 'people']]\n",
      "2399\n"
     ]
    }
   ],
   "source": [
    "reviews_2 = lemmatization(tokenized_reviews)\n",
    "print(reviews_2) # print lemmatized review\n",
    "\n",
    "print(len(reviews_2))"
   ]
  },
  {
   "cell_type": "code",
   "execution_count": 150,
   "id": "62e89e76",
   "metadata": {},
   "outputs": [
    {
     "name": "stderr",
     "output_type": "stream",
     "text": [
      "C:\\Users\\pinba\\anaconda3\\lib\\site-packages\\ipykernel\\ipkernel.py:287: DeprecationWarning:\n",
      "\n",
      "`should_run_async` will not call `transform_cell` automatically in the future. Please pass the result to `transformed_cell` argument and any exception that happen during thetransform in `preprocessing_exc_tuple` in IPython 7.17 and above.\n",
      "\n"
     ]
    },
    {
     "data": {
      "image/png": "[encoded data removed]",
      "text/plain": [
       "<Figure size 1440x360 with 1 Axes>"
      ]
     },
     "metadata": {
      "needs_background": "light"
     },
     "output_type": "display_data"
    }
   ],
   "source": [
    "reviews_3 = []\n",
    "for i in range(len(reviews_2)):\n",
    "    reviews_3.append(' '.join(reviews_2[i]))\n",
    "\n",
    "freq_words(reviews_3, 20)"
   ]
  },
  {
   "cell_type": "code",
   "execution_count": 151,
   "id": "db5297c1",
   "metadata": {
    "scrolled": true
   },
   "outputs": [
    {
     "name": "stderr",
     "output_type": "stream",
     "text": [
      "C:\\Users\\pinba\\anaconda3\\lib\\site-packages\\ipykernel\\ipkernel.py:287: DeprecationWarning:\n",
      "\n",
      "`should_run_async` will not call `transform_cell` automatically in the future. Please pass the result to `transformed_cell` argument and any exception that happen during thetransform in `preprocessing_exc_tuple` in IPython 7.17 and above.\n",
      "\n"
     ]
    }
   ],
   "source": [
    "dictionary = corpora.Dictionary(reviews_2)"
   ]
  },
  {
   "cell_type": "code",
   "execution_count": 152,
   "id": "657710dd",
   "metadata": {},
   "outputs": [
    {
     "name": "stderr",
     "output_type": "stream",
     "text": [
      "C:\\Users\\pinba\\anaconda3\\lib\\site-packages\\ipykernel\\ipkernel.py:287: DeprecationWarning:\n",
      "\n",
      "`should_run_async` will not call `transform_cell` automatically in the future. Please pass the result to `transformed_cell` argument and any exception that happen during thetransform in `preprocessing_exc_tuple` in IPython 7.17 and above.\n",
      "\n"
     ]
    }
   ],
   "source": [
    "doc_term_matrix = [dictionary.doc2bow(rev) for rev in reviews_2]"
   ]
  },
  {
   "cell_type": "code",
   "execution_count": 153,
   "id": "1af8a5ce",
   "metadata": {},
   "outputs": [
    {
     "name": "stderr",
     "output_type": "stream",
     "text": [
      "C:\\Users\\pinba\\anaconda3\\lib\\site-packages\\ipykernel\\ipkernel.py:287: DeprecationWarning:\n",
      "\n",
      "`should_run_async` will not call `transform_cell` automatically in the future. Please pass the result to `transformed_cell` argument and any exception that happen during thetransform in `preprocessing_exc_tuple` in IPython 7.17 and above.\n",
      "\n"
     ]
    }
   ],
   "source": [
    "# Creating the object for LDA model using gensim library\n",
    "# LDA = gensim.models.ldamodel.LdaModel\n",
    "LDA = LdaModel\n",
    "\n",
    "# Build LDA model\n",
    "lda_model = LDA(corpus=doc_term_matrix, id2word=dictionary, num_topics=7, random_state=100,\n",
    "                chunksize=1000, passes=50)"
   ]
  },
  {
   "cell_type": "code",
   "execution_count": 154,
   "id": "4aed945e",
   "metadata": {},
   "outputs": [
    {
     "name": "stderr",
     "output_type": "stream",
     "text": [
      "C:\\Users\\pinba\\anaconda3\\lib\\site-packages\\ipykernel\\ipkernel.py:287: DeprecationWarning:\n",
      "\n",
      "`should_run_async` will not call `transform_cell` automatically in the future. Please pass the result to `transformed_cell` argument and any exception that happen during thetransform in `preprocessing_exc_tuple` in IPython 7.17 and above.\n",
      "\n"
     ]
    },
    {
     "data": {
      "text/plain": [
       "2399"
      ]
     },
     "execution_count": 154,
     "metadata": {},
     "output_type": "execute_result"
    }
   ],
   "source": [
    "#lda_model.print_topics(num_words=4)\n",
    "#lda_model.show_topics(num_words=4)\n",
    "len(reviews_3)"
   ]
  },
  {
   "cell_type": "code",
   "execution_count": 155,
   "id": "381dd8ab",
   "metadata": {},
   "outputs": [
    {
     "name": "stderr",
     "output_type": "stream",
     "text": [
      "C:\\Users\\pinba\\anaconda3\\lib\\site-packages\\ipykernel\\ipkernel.py:287: DeprecationWarning:\n",
      "\n",
      "`should_run_async` will not call `transform_cell` automatically in the future. Please pass the result to `transformed_cell` argument and any exception that happen during thetransform in `preprocessing_exc_tuple` in IPython 7.17 and above.\n",
      "\n"
     ]
    },
    {
     "data": {
      "text/html": [
       "\n",
       "<link rel=\"stylesheet\" type=\"text/css\" href=\"https://cdn.jsdelivr.net/gh/bmabey/pyLDAvis@3.3.1/pyLDAvis/js/ldavis.v1.0.0.css\">\n",
       "\n",
       "\n",
       "<div id=\"ldavis_el1930425600386276961756733218\"></div>\n",
       "<script type=\"text/javascript\">\n",
       "\n",
       "var ldavis_el1930425600386276961756733218_data = {\"mdsDat\": {\"x\": [-0.1318004565151808, -0.11699528231975308, -0.07168874547842426, -0.10856113495498987, 0.01852167213086092, 0.13962519828140801, 0.2708987488560782], \"y\": [-0.05911358902397335, 0.08077001071504578, -0.029072541738492993, -0.14106506896735563, 0.1237367750654989, 0.18842248493915525, -0.16367807098987813], \"topics\": [1, 2, 3, 4, 5, 6, 7], \"cluster\": [1, 1, 1, 1, 1, 1, 1], \"Freq\": [25.92692763083858, 20.12249137422038, 15.792529785344254, 11.986313538941486, 11.493749777223593, 9.361126348041761, 5.316861545389947]}, \"tinfo\": {\"Term\": [\"teacher\", \"club\", \"food\", \"high\", \"class\", \"school\", \"fairview\", \"safe\", \"help\", \"many\", \"schoolrate\", \"sport\", \"team\", \"staff\", \"opportunity\", \"review\", \"lunch\", \"activity\", \"student\", \"option\", \"good\", \"counselor\", \"year\", \"senior\", \"healthy\", \"game\", \"new\", \"academic\", \"policy\", \"extracurricular\", \"club\", \"activity\", \"extracurricular\", \"choir\", \"organization\", \"range\", \"music\", \"curricular\", \"society\", \"active\", \"participation\", \"opportunity\", \"art\", \"special\", \"endless\", \"funding\", \"glad\", \"approachable\", \"culture\", \"debate\", \"phenomenal\", \"bomb\", \"commitment\", \"beautiful\", \"join\", \"beneficial\", \"lab\", \"offer\", \"elective\", \"party\", \"many\", \"wide\", \"community\", \"popular\", \"sport\", \"plenty\", \"program\", \"different\", \"variety\", \"type\", \"competitive\", \"ton\", \"interest\", \"area\", \"school\", \"student\", \"great\", \"lot\", \"experience\", \"fairview\", \"academic\", \"friend\", \"fun\", \"people\", \"high\", \"available\", \"love\", \"amazing\", \"class\", \"good\", \"time\", \"teacher\", \"teaching\", \"learning\", \"knowledgeable\", \"push\", \"least\", \"lesson\", \"library\", \"respect\", \"passionate\", \"plan\", \"dedicated\", \"teacher\", \"dedicate\", \"consistent\", \"qualified\", \"subject\", \"location\", \"answer\", \"book\", \"load\", \"schedule\", \"compare\", \"assignment\", \"pay\", \"understanding\", \"gain\", \"scheduling\", \"succeed\", \"eager\", \"late\", \"question\", \"test\", \"help\", \"department\", \"style\", \"find\", \"easy\", \"math\", \"work\", \"care\", \"willing\", \"classroom\", \"information\", \"class\", \"grade\", \"good\", \"job\", \"student\", \"college\", \"workload\", \"great\", \"time\", \"way\", \"sure\", \"helpful\", \"course\", \"school\", \"lot\", \"year\", \"hard\", \"experience\", \"education\", \"high\", \"nice\", \"academic\", \"wonderful\", \"amazing\", \"thing\", \"game\", \"football\", \"albany\", \"senior\", \"basketball\", \"junior\", \"weight\", \"night\", \"cheer\", \"freshman\", \"date\", \"intense\", \"volleyball\", \"month\", \"player\", \"addition\", \"gym\", \"rally\", \"varsity\", \"pep\", \"musical\", \"championship\", \"reason\", \"training\", \"necessary\", \"heart\", \"boy\", \"secure\", \"golf\", \"exam\", \"team\", \"facility\", \"new\", \"spirit\", \"coach\", \"order\", \"athletic\", \"athlete\", \"year\", \"room\", \"white\", \"support\", \"event\", \"school\", \"high\", \"track\", \"sport\", \"gilbert\", \"big\", \"people\", \"much\", \"student\", \"good\", \"state\", \"nice\", \"experience\", \"great\", \"thing\", \"fairview\", \"schoolrate\", \"review\", \"pressure\", \"regular\", \"case\", \"sexual\", \"orientation\", \"race\", \"placement\", \"award\", \"scene\", \"ethnic\", \"manageable\", \"concern\", \"space\", \"relationship\", \"merit\", \"nation\", \"astounding\", \"international\", \"tornado\", \"manage\", \"swim\", \"balance\", \"motivation\", \"emergency\", \"path\", \"baccalaureate\", \"solid\", \"pool\", \"racial\", \"peer\", \"notch\", \"advanced\", \"curriculum\", \"top\", \"base\", \"fairview\", \"diversity\", \"career\", \"central\", \"high\", \"class\", \"academic\", \"social\", \"level\", \"world\", \"deal\", \"challenge\", \"lot\", \"different\", \"school\", \"student\", \"hard\", \"people\", \"course\", \"kid\", \"college\", \"many\", \"part\", \"safe\", \"security\", \"officer\", \"police\", \"drug\", \"guard\", \"theater\", \"cool\", \"door\", \"rate\", \"stuff\", \"depend\", \"act\", \"communicate\", \"drill\", \"theatre\", \"joke\", \"professional\", \"confident\", \"set\", \"straight\", \"responsive\", \"jock\", \"dog\", \"talented\", \"mental\", \"pretty\", \"recent\", \"perform\", \"route\", \"material\", \"young\", \"staff\", \"welcome\", \"technology\", \"old\", \"feel\", \"north\", \"nurse\", \"parent\", \"bullying\", \"school\", \"problem\", \"step\", \"building\", \"resource\", \"safety\", \"kid\", \"good\", \"college\", \"place\", \"program\", \"need\", \"student\", \"help\", \"band\", \"thing\", \"great\", \"year\", \"experience\", \"much\", \"nice\", \"lot\", \"people\", \"policy\", \"office\", \"code\", \"principal\", \"computer\", \"rule\", \"strict\", \"threat\", \"attendance\", \"sick\", \"short\", \"serious\", \"principle\", \"tolerance\", \"leave\", \"board\", \"less\", \"reasonable\", \"front\", \"enforce\", \"actual\", \"choice\", \"taste\", \"phone\", \"bully\", \"dress\", \"frustrating\", \"intimidate\", \"visitor\", \"factor\", \"low\", \"guidance\", \"counselor\", \"health\", \"fair\", \"general\", \"helpful\", \"safety\", \"administration\", \"student\", \"issue\", \"talk\", \"school\", \"thing\", \"staff\", \"available\", \"area\", \"parent\", \"great\", \"food\", \"lunch\", \"healthy\", \"cafeteria\", \"challenging\", \"line\", \"salad\", \"think\", \"snack\", \"handle\", \"eat\", \"sandwich\", \"sub\", \"horrible\", \"doubt\", \"portion\", \"outside\", \"vegetarian\", \"machine\", \"smoke\", \"standardized\", \"restroom\", \"pot\", \"stellar\", \"boring\", \"preparation\", \"selection\", \"surprise\", \"action\", \"unhealthy\", \"rigorous\", \"option\", \"normal\", \"campus\", \"boulder\", \"standard\", \"example\", \"everyday\", \"bad\", \"basic\", \"day\", \"kid\", \"variety\", \"good\", \"many\", \"small\", \"school\", \"week\", \"smart\", \"time\", \"people\"], \"Freq\": [1007.0, 419.0, 138.0, 666.0, 520.0, 2069.0, 333.0, 131.0, 268.0, 445.0, 125.0, 294.0, 171.0, 175.0, 209.0, 106.0, 73.0, 165.0, 1337.0, 77.0, 572.0, 112.0, 275.0, 98.0, 56.0, 89.0, 167.0, 200.0, 66.0, 113.0, 418.60280475646533, 164.58062446626266, 112.35346962720969, 35.02910588352323, 32.56392451497246, 31.04133509448643, 30.884311202094377, 19.896472903331585, 17.03803980273759, 15.012725691331912, 14.342329545151177, 198.2955599820435, 89.23970072314079, 13.365155648610799, 13.156733578420656, 12.318275720565344, 12.299875331832476, 12.32836606164811, 21.799894246083134, 11.723920231900376, 10.972376902917071, 11.126124854229921, 10.631749437764825, 9.878865356721777, 9.663147100904204, 9.733329888955655, 9.238744257051334, 75.30019223868729, 20.40703692024795, 8.369573320036054, 355.8860725003861, 49.325216194879026, 81.91662361253745, 21.175131949077546, 193.44434285490217, 23.143780426918546, 113.0999054250907, 94.80644694951967, 72.00903518261984, 30.257189261928886, 44.436458010064925, 24.06472119055868, 38.32602022750513, 40.31224030210808, 563.4432298734265, 405.8321987189108, 153.47780536295267, 129.17840528861078, 96.69449138492739, 128.9187037268514, 88.78824244818891, 64.2412991098357, 52.27931240755255, 91.52760107515607, 138.98609612319942, 51.41688194310168, 53.1556351956712, 54.963327042520305, 89.27356854261237, 84.76399877753894, 58.61850079734633, 62.00707711935401, 36.09400998226339, 29.31848540813152, 21.994162238027958, 19.690723194839073, 19.09546265808805, 18.534907671979987, 17.71965431868765, 17.36576980157326, 17.18725377923686, 14.649269288369721, 12.871677338735555, 945.058738742121, 11.44830089621696, 11.325294395116767, 10.149448512728512, 43.29784186302103, 9.268336736205415, 9.187510383062643, 9.166686896549507, 7.967165861435092, 22.455545125668223, 7.754047332512699, 7.514802451327078, 7.514116271584059, 7.277108695453609, 7.269744948564071, 7.192828805128677, 7.169431559101622, 7.150963253799739, 7.147691604990872, 29.475746251807017, 27.227378011975418, 209.73584858086383, 39.4428419123505, 26.501729272588374, 12.668892099071808, 38.773424002598475, 31.381430551262394, 103.17620316891139, 81.44632864046048, 33.043393798148216, 29.049034566790723, 22.06313149888777, 270.97354522850134, 43.471155721753924, 270.7862923191526, 53.18652099620866, 438.99875829117025, 126.4051064323448, 28.69029448880992, 143.07992055498525, 89.11067690201567, 57.460014087715145, 32.14237656398319, 54.30729061078206, 45.03975480792857, 195.48099603329118, 71.28906361150119, 60.42323642132916, 33.58379430347667, 51.888496868359965, 41.83911272195622, 61.785478854501804, 36.68432752682693, 38.73211582594134, 32.95619979066664, 34.767661228936056, 33.554208168936924, 88.38861012768687, 74.03089232844196, 61.12830879106432, 96.68234951365706, 34.17586626112172, 29.183279332225812, 15.785809283205769, 15.329554611247692, 15.245064003737145, 30.33749744167762, 14.642986635218824, 13.551503604427175, 12.66726725812825, 12.692347075898443, 11.707067295322432, 11.296818429403034, 11.19655062169662, 10.535014676018898, 10.534563758834052, 9.948632411361158, 9.825618404847976, 9.4568631098227, 8.964812597702931, 8.792785853706471, 8.275675128911502, 8.167557931297141, 8.130536772698367, 8.127015820169412, 8.022691595777038, 7.719021540174245, 143.84024895961682, 58.41116515683515, 115.98817273189492, 47.494288567128734, 31.72352374369346, 19.452626169547777, 83.02268582547022, 32.35284484234186, 149.49285856592064, 34.60993531745799, 20.06345843829905, 46.83809623515513, 23.24532737084184, 504.2091656238042, 209.78116255562782, 23.92543546807041, 99.9527538298712, 43.71368125880868, 26.085718434746447, 61.06159755407583, 43.10425688094161, 114.66771076881047, 71.6656062353315, 28.911952169429014, 28.57246789388797, 32.95063849760414, 33.68647897862495, 30.031765787804435, 30.41713333754045, 124.30139713146401, 105.50270670380695, 36.54685297894654, 33.56965548932104, 19.374918359843083, 17.221871893226538, 12.974555883076231, 12.05363186145611, 11.152589377496207, 9.552659415785588, 9.527935368695262, 8.30332174281516, 8.003829228061239, 8.045109133203171, 7.5951723961544335, 7.197482122957016, 6.810623093484914, 6.776878047456234, 6.789860380928395, 6.407911285878461, 6.420624849382253, 6.405196151197995, 6.3481992479057325, 6.316187256673096, 6.262708542966793, 6.227174177148691, 11.708811152036684, 5.768768861096586, 5.676768621923727, 5.639470511313193, 9.961953297617422, 23.43620928188594, 17.77990344755403, 38.62245277467747, 22.891562285983277, 42.27732258455041, 14.753862363676744, 173.5930206905293, 44.330717702894525, 20.999146428694154, 41.43303892391079, 236.32352210802662, 150.80178865273857, 72.27072301474666, 24.552361670530416, 31.632930717246467, 19.71447247988231, 15.036667890394488, 22.49441141272238, 72.27787285390522, 44.79484344827342, 201.44480621276367, 116.49878732972206, 24.602432864637734, 45.13149224865456, 28.817400688594972, 25.25188340820649, 32.59966932347485, 32.14711649673399, 20.488570908781753, 130.52391470610178, 53.20912292372439, 35.97896604474883, 30.67268469467507, 29.59991123054101, 25.39834164718354, 16.911185856721556, 14.37423999753744, 12.72811184480417, 12.284099523154216, 11.848194397259412, 11.072261477999549, 10.295857697518835, 8.726359533130568, 8.54013392028558, 7.601823438877488, 7.371760468015119, 7.06925487407761, 6.742800458007816, 6.680026096155804, 6.425254504372967, 5.924533280328559, 5.819447846405153, 5.780827416686932, 5.812280143635157, 5.779691731526422, 5.777339208987418, 5.239125660233068, 5.232961658796525, 5.170775427579265, 20.88671886772447, 8.280261331943567, 110.34947331456131, 14.821510892863484, 22.60478623224658, 16.92354774733402, 22.372209326191847, 20.493082454226837, 21.465689111451848, 40.94273509509146, 11.502159556198091, 437.97601634965343, 32.518453546134396, 9.236913998181926, 16.517815194443262, 34.19939600038404, 25.5614058819455, 32.15334704206354, 96.80427991706483, 61.23103572381538, 28.255882464764007, 45.086249630196775, 27.085547982522634, 103.30861413662687, 42.65449755652382, 19.126869704113112, 32.95093244322144, 40.42697797026279, 35.27573837854429, 30.592945060350722, 26.071534074906772, 23.353514431045916, 24.54257634820734, 22.41990186045491, 65.72002767650447, 39.32443183434769, 38.86532483994437, 33.56529243072661, 30.258862694407824, 29.832036070417068, 23.004039012555808, 22.525025160257893, 18.83541019893605, 16.18644134141867, 14.434027741592315, 12.539905610812106, 12.113799491894007, 11.763007942536705, 10.786400358642798, 10.640484281432984, 10.30010591879616, 10.200231713623575, 9.718190577915536, 9.401153093317996, 9.333019606069076, 40.39307740443341, 8.78544664558214, 8.38461195156132, 32.36109603332211, 42.14591807783107, 6.71172046755172, 6.618359134341367, 6.533777504072852, 6.512411478143001, 11.963909742050607, 27.850289773330672, 80.46950445048273, 32.91460662381811, 17.677132926232815, 23.706553247866328, 48.059681356359654, 27.29649156185809, 30.702368429778165, 158.3636448660925, 24.926294251687203, 18.705129517592294, 143.4555233340593, 32.26829614206858, 30.63477168975575, 23.34393001742675, 17.122923620132084, 16.30573286777318, 17.074253211947724, 137.92972496842268, 73.12315670770998, 55.84215366091591, 28.85042806229327, 15.836982849767622, 14.270232503257308, 12.333198545158643, 10.770342455646889, 10.236922477996803, 8.527824662372364, 7.50631154838298, 7.471000868081201, 6.531888417061572, 6.31203285785936, 5.760091645414318, 5.7265622576676005, 5.620754799984039, 5.478662685221834, 5.260706401360868, 5.137303832501183, 5.13541157012275, 5.1349289132701745, 5.129119704895839, 5.026098043558811, 4.883830192199001, 4.847345046889288, 4.782426050108939, 4.404915374075909, 4.217146182389379, 4.115704500321894, 17.488169268573, 51.45033602621546, 7.121827099621066, 21.668533698578305, 15.566328688149863, 9.815733831969006, 10.00609864495161, 6.754129208675404, 19.25809752365652, 7.121570507687474, 17.576646457558518, 15.343479831407231, 15.843007397353107, 28.018024028415343, 19.71060853678037, 8.842284264897238, 23.700497596506924, 8.87233769825096, 7.301391949868255, 8.654875622004853, 8.659042146971535], \"Total\": [1007.0, 419.0, 138.0, 666.0, 520.0, 2069.0, 333.0, 131.0, 268.0, 445.0, 125.0, 294.0, 171.0, 175.0, 209.0, 106.0, 73.0, 165.0, 1337.0, 77.0, 572.0, 112.0, 275.0, 98.0, 56.0, 89.0, 167.0, 200.0, 66.0, 113.0, 419.3938101718732, 165.37212468090664, 113.14432268752256, 35.82130438568706, 33.35478917451933, 31.834219868892916, 31.67553870217342, 20.68766550345835, 17.829972074874323, 15.805686286847559, 15.133820032859918, 209.86485293243263, 94.44734265668357, 14.157856355773955, 13.947439183017925, 13.110178878993777, 13.091397444886024, 13.127042016859695, 23.26072897447488, 12.51741512474052, 11.76364017631125, 11.934989125283156, 11.422382811263244, 10.673499096687836, 10.45456233633584, 10.532222436199612, 10.036772210341704, 81.93442421886485, 22.283044750048237, 9.164420391743947, 445.72224430178744, 57.51346654413028, 98.93221495315677, 24.65176746132037, 294.0493813106571, 27.661908479051032, 172.37622826817648, 144.32813798932267, 105.08635335286989, 38.417940207774755, 61.76871515352142, 30.22363220615249, 55.03745527217104, 60.330083868552066, 2069.7102350235054, 1337.8021585421377, 391.05634003227993, 320.7585260211008, 218.54780935569022, 333.4671672911743, 200.33539970768118, 126.7026699534141, 92.76514404566774, 236.48903171198432, 666.8254188809694, 101.88446067196816, 115.14409003430279, 133.65983211359537, 520.2756594869973, 572.1134437281801, 205.78296422692551, 1007.7256911612324, 36.88246876422735, 30.106289746845995, 22.782149714916592, 20.47895495917374, 19.888337917175864, 19.323266323870055, 18.507784230814526, 18.154158086352734, 17.97724418805555, 15.43844032999212, 13.661131969763884, 1007.7256911612324, 12.237111739570405, 12.113218204217661, 10.936742773951961, 46.766772300992564, 10.05710925319219, 9.975222560817631, 9.955003306559508, 8.755575256007047, 24.6822818376475, 8.545952796288743, 8.302474942919508, 8.30221419927508, 8.064898799523363, 8.060465826815623, 7.981123774966021, 7.959577889693495, 7.939172615453762, 7.938313025529193, 33.51043586417245, 31.44677897530728, 268.4187647168349, 47.394931711005626, 31.341426955271004, 14.429118683732288, 47.34483148055959, 38.69976206593033, 141.38781043045697, 112.94583954892003, 42.29492829251872, 36.66771732375349, 27.429502643072865, 520.2756594869973, 61.430058581864785, 572.1134437281801, 80.47839351225598, 1337.8021585421377, 272.8686806034795, 39.38037557679471, 391.05634003227993, 205.78296422692551, 108.58677041049508, 48.45463254267599, 118.90456030874019, 103.18661626659332, 2069.7102350235054, 320.7585260211008, 275.6705987652198, 60.59534692077459, 218.54780935569022, 117.69484539650273, 666.8254188809694, 95.46112051288374, 200.33539970768118, 59.925187641130904, 133.65983211359537, 178.6822114853021, 89.16920825985541, 74.81130903478522, 61.90921299779055, 98.57606746325206, 34.95630553350863, 29.964433555744996, 16.566893207982428, 16.11109985322651, 16.025118776074248, 31.949786677063177, 15.424676728341684, 14.334736059026945, 13.447530517855375, 13.475905162317122, 12.488276709943202, 12.081232991100721, 11.977653529459152, 11.315387697395666, 11.315095360830984, 10.728912162202816, 10.606700664968836, 10.237709308492219, 9.74657650626354, 9.574258274437756, 9.060103603773966, 8.95160152764104, 8.911103097278597, 8.909436062960133, 8.802952249609444, 8.503563395317002, 171.09572313311304, 76.86405204425189, 167.92838203536922, 63.747420707000856, 41.09391882194131, 23.854475010499982, 125.8107400928615, 43.19392181541547, 275.6705987652198, 48.96253558607499, 25.217103197875485, 80.0084256368154, 32.458403493295755, 2069.7102350235054, 666.8254188809694, 34.45309297994158, 294.0493813106571, 89.24758511135765, 47.70603085149573, 236.48903171198432, 133.56876867512008, 1337.8021585421377, 572.1134437281801, 72.74540678871003, 95.46112051288374, 218.54780935569022, 391.05634003227993, 178.6822114853021, 333.4671672911743, 125.10546016940087, 106.30664710179047, 37.35212624291321, 34.37596455239798, 20.181137533095463, 18.026020289285746, 13.778529663890117, 12.857969633263044, 11.956852088655452, 10.358308984585994, 10.333077535096617, 9.107161845826859, 8.808644361705753, 8.860093171631272, 8.40152039806668, 8.004533310047055, 7.617229483270704, 7.581904108459206, 7.610180533117488, 7.212586688281907, 7.227864999443305, 7.211130077112437, 7.1558504514471934, 7.121598863784214, 7.06778785739822, 7.032255038846568, 13.340087919681645, 6.572620435564468, 6.481732928610645, 6.445023782248766, 11.496616832610998, 28.468474889170395, 23.065429181519736, 56.246292117115644, 30.98178988104101, 62.90600299878013, 18.791876857063123, 333.4671672911743, 76.41371670395391, 31.165176050114333, 73.47638899511628, 666.8254188809694, 520.2756594869973, 200.33539970768118, 44.98560426818562, 73.110693792056, 35.60100913611557, 23.651636063859304, 45.381451130059745, 320.7585260211008, 144.32813798932267, 2069.7102350235054, 1337.8021585421377, 60.59534692077459, 236.48903171198432, 103.18661626659332, 76.92325232772215, 272.8686806034795, 445.72224430178744, 105.69532299951162, 131.30812044046624, 53.9930843838734, 36.76277636788637, 31.456408033585806, 30.384428979544236, 26.181997405754917, 17.696096812573078, 15.159997929594303, 13.513607891566867, 13.069260473888342, 12.633535867451059, 11.858324149278488, 11.082613124041501, 9.512350786129542, 9.324016621882421, 8.38740026742148, 8.156456689718402, 7.856250972341603, 7.528016661888729, 7.465705063627581, 7.2105283566173215, 6.710329251036883, 6.605070499586773, 6.564794347727022, 6.600930053796764, 6.564230435113789, 6.562681253060484, 6.023002859755229, 6.019287712965695, 5.957296303918828, 24.72189470607518, 9.883225358633258, 175.12669677511187, 18.941114624862415, 32.16146403898775, 22.923243465277174, 32.50116861257591, 29.597872319208463, 31.325796869152718, 69.64515964720783, 15.051595308365606, 2069.7102350235054, 63.799247381008286, 11.557547397864889, 27.08451472754558, 81.88011150784197, 53.50552254730406, 76.92325232772215, 572.1134437281801, 272.8686806034795, 71.45782573374647, 172.37622826817648, 68.82189125329185, 1337.8021585421377, 268.4187647168349, 38.16671238116974, 178.6822114853021, 391.05634003227993, 275.6705987652198, 218.54780935569022, 133.56876867512008, 95.46112051288374, 320.7585260211008, 236.48903171198432, 66.50292074045636, 40.10789624608146, 39.64819032503293, 34.348331603112285, 31.042791675204956, 30.614988371944364, 23.78723884582512, 23.308024727258243, 19.618595840999667, 16.97002639708559, 15.216907916573117, 13.323513121322192, 12.897232714683973, 12.545764535904548, 11.571351585332657, 11.423557167945505, 11.086755626587548, 10.984147128625098, 10.502233293979563, 10.183767732920792, 10.11786769191597, 43.797750108434784, 9.57199516215887, 9.16790662486231, 35.73586909260219, 46.964084438551815, 7.502632657409329, 7.403109725839904, 7.317818875584926, 7.296738182004713, 13.512983777270767, 32.0431864170206, 112.62389517151013, 43.37501361842788, 22.328505076001385, 32.07922037614182, 118.90456030874019, 53.50552254730406, 72.3076246582873, 1337.8021585421377, 56.07449953510512, 34.801779902867686, 2069.7102350235054, 178.6822114853021, 175.12669677511187, 101.88446067196816, 60.330083868552066, 69.64515964720783, 391.05634003227993, 138.71704597847494, 73.91083026145913, 56.629536919691034, 29.63769461869794, 16.626787769585743, 15.05828316264811, 13.12033587035143, 11.559573202971519, 11.024441853469446, 9.318105520936395, 8.296482647035289, 8.258124907016962, 7.319125465487355, 7.10026408481103, 6.55120149887134, 6.513608441942058, 6.409340978615322, 6.265780327805499, 6.0479684318424765, 5.92490263360682, 5.92389222030811, 5.923813106003932, 5.919916784569686, 5.816817456345169, 5.674154328654431, 5.635141878445772, 5.571901465726168, 5.19226015027365, 5.005256911983078, 4.903040044767111, 23.42825687106376, 77.16045689347838, 9.238201182539337, 42.73117003746515, 37.42678961001933, 17.950231664387616, 18.5420779828395, 9.692423241149202, 71.86712809980334, 11.021442373129602, 79.63208033655648, 76.92325232772215, 105.08635335286989, 572.1134437281801, 445.72224430178744, 35.708398167574316, 2069.7102350235054, 40.348993147563775, 17.116397501837664, 205.78296422692551, 236.48903171198432], \"Category\": [\"Default\", \"Default\", \"Default\", \"Default\", \"Default\", \"Default\", \"Default\", \"Default\", \"Default\", \"Default\", \"Default\", \"Default\", \"Default\", \"Default\", \"Default\", \"Default\", \"Default\", \"Default\", \"Default\", \"Default\", \"Default\", \"Default\", \"Default\", \"Default\", \"Default\", \"Default\", \"Default\", \"Default\", \"Default\", \"Default\", \"Topic1\", \"Topic1\", \"Topic1\", \"Topic1\", \"Topic1\", \"Topic1\", \"Topic1\", \"Topic1\", \"Topic1\", \"Topic1\", \"Topic1\", \"Topic1\", \"Topic1\", \"Topic1\", \"Topic1\", \"Topic1\", \"Topic1\", \"Topic1\", \"Topic1\", \"Topic1\", \"Topic1\", \"Topic1\", \"Topic1\", \"Topic1\", \"Topic1\", \"Topic1\", \"Topic1\", \"Topic1\", \"Topic1\", \"Topic1\", \"Topic1\", \"Topic1\", \"Topic1\", \"Topic1\", \"Topic1\", \"Topic1\", \"Topic1\", \"Topic1\", \"Topic1\", \"Topic1\", \"Topic1\", \"Topic1\", \"Topic1\", \"Topic1\", \"Topic1\", \"Topic1\", \"Topic1\", \"Topic1\", \"Topic1\", \"Topic1\", \"Topic1\", \"Topic1\", \"Topic1\", \"Topic1\", \"Topic1\", \"Topic1\", \"Topic1\", \"Topic1\", \"Topic1\", \"Topic1\", \"Topic1\", \"Topic1\", \"Topic2\", \"Topic2\", \"Topic2\", \"Topic2\", \"Topic2\", \"Topic2\", \"Topic2\", \"Topic2\", \"Topic2\", \"Topic2\", \"Topic2\", \"Topic2\", \"Topic2\", \"Topic2\", \"Topic2\", \"Topic2\", \"Topic2\", \"Topic2\", \"Topic2\", \"Topic2\", \"Topic2\", \"Topic2\", \"Topic2\", \"Topic2\", \"Topic2\", \"Topic2\", \"Topic2\", \"Topic2\", \"Topic2\", \"Topic2\", \"Topic2\", \"Topic2\", \"Topic2\", \"Topic2\", \"Topic2\", \"Topic2\", \"Topic2\", \"Topic2\", \"Topic2\", \"Topic2\", \"Topic2\", \"Topic2\", \"Topic2\", \"Topic2\", \"Topic2\", \"Topic2\", \"Topic2\", \"Topic2\", \"Topic2\", \"Topic2\", \"Topic2\", \"Topic2\", \"Topic2\", \"Topic2\", \"Topic2\", \"Topic2\", \"Topic2\", \"Topic2\", \"Topic2\", \"Topic2\", \"Topic2\", \"Topic2\", \"Topic2\", \"Topic2\", \"Topic2\", \"Topic2\", \"Topic2\", \"Topic2\", \"Topic3\", \"Topic3\", \"Topic3\", \"Topic3\", \"Topic3\", \"Topic3\", \"Topic3\", \"Topic3\", \"Topic3\", \"Topic3\", \"Topic3\", \"Topic3\", \"Topic3\", \"Topic3\", \"Topic3\", \"Topic3\", \"Topic3\", \"Topic3\", \"Topic3\", \"Topic3\", \"Topic3\", \"Topic3\", \"Topic3\", \"Topic3\", \"Topic3\", \"Topic3\", \"Topic3\", \"Topic3\", \"Topic3\", \"Topic3\", \"Topic3\", \"Topic3\", \"Topic3\", \"Topic3\", \"Topic3\", \"Topic3\", \"Topic3\", \"Topic3\", \"Topic3\", \"Topic3\", \"Topic3\", \"Topic3\", \"Topic3\", \"Topic3\", \"Topic3\", \"Topic3\", \"Topic3\", \"Topic3\", \"Topic3\", \"Topic3\", \"Topic3\", \"Topic3\", \"Topic3\", \"Topic3\", \"Topic3\", \"Topic3\", \"Topic3\", \"Topic3\", \"Topic3\", \"Topic4\", \"Topic4\", \"Topic4\", \"Topic4\", \"Topic4\", \"Topic4\", \"Topic4\", \"Topic4\", \"Topic4\", \"Topic4\", \"Topic4\", \"Topic4\", \"Topic4\", \"Topic4\", \"Topic4\", \"Topic4\", \"Topic4\", \"Topic4\", \"Topic4\", \"Topic4\", \"Topic4\", \"Topic4\", \"Topic4\", \"Topic4\", \"Topic4\", \"Topic4\", \"Topic4\", \"Topic4\", \"Topic4\", \"Topic4\", \"Topic4\", \"Topic4\", \"Topic4\", \"Topic4\", \"Topic4\", \"Topic4\", \"Topic4\", \"Topic4\", \"Topic4\", \"Topic4\", \"Topic4\", \"Topic4\", \"Topic4\", \"Topic4\", \"Topic4\", \"Topic4\", \"Topic4\", \"Topic4\", \"Topic4\", \"Topic4\", \"Topic4\", \"Topic4\", \"Topic4\", \"Topic4\", \"Topic4\", \"Topic4\", \"Topic4\", \"Topic4\", \"Topic4\", \"Topic4\", \"Topic5\", \"Topic5\", \"Topic5\", \"Topic5\", \"Topic5\", \"Topic5\", \"Topic5\", \"Topic5\", \"Topic5\", \"Topic5\", \"Topic5\", \"Topic5\", \"Topic5\", \"Topic5\", \"Topic5\", \"Topic5\", \"Topic5\", \"Topic5\", \"Topic5\", \"Topic5\", \"Topic5\", \"Topic5\", \"Topic5\", \"Topic5\", \"Topic5\", \"Topic5\", \"Topic5\", \"Topic5\", \"Topic5\", \"Topic5\", \"Topic5\", \"Topic5\", \"Topic5\", \"Topic5\", \"Topic5\", \"Topic5\", \"Topic5\", \"Topic5\", \"Topic5\", \"Topic5\", \"Topic5\", \"Topic5\", \"Topic5\", \"Topic5\", \"Topic5\", \"Topic5\", \"Topic5\", \"Topic5\", \"Topic5\", \"Topic5\", \"Topic5\", \"Topic5\", \"Topic5\", \"Topic5\", \"Topic5\", \"Topic5\", \"Topic5\", \"Topic5\", \"Topic5\", \"Topic5\", \"Topic5\", \"Topic5\", \"Topic5\", \"Topic5\", \"Topic6\", \"Topic6\", \"Topic6\", \"Topic6\", \"Topic6\", \"Topic6\", \"Topic6\", \"Topic6\", \"Topic6\", \"Topic6\", \"Topic6\", \"Topic6\", \"Topic6\", \"Topic6\", \"Topic6\", \"Topic6\", \"Topic6\", \"Topic6\", \"Topic6\", \"Topic6\", \"Topic6\", \"Topic6\", \"Topic6\", \"Topic6\", \"Topic6\", \"Topic6\", \"Topic6\", \"Topic6\", \"Topic6\", \"Topic6\", \"Topic6\", \"Topic6\", \"Topic6\", \"Topic6\", \"Topic6\", \"Topic6\", \"Topic6\", \"Topic6\", \"Topic6\", \"Topic6\", \"Topic6\", \"Topic6\", \"Topic6\", \"Topic6\", \"Topic6\", \"Topic6\", \"Topic6\", \"Topic6\", \"Topic6\", \"Topic7\", \"Topic7\", \"Topic7\", \"Topic7\", \"Topic7\", \"Topic7\", \"Topic7\", \"Topic7\", \"Topic7\", \"Topic7\", \"Topic7\", \"Topic7\", \"Topic7\", \"Topic7\", \"Topic7\", \"Topic7\", \"Topic7\", \"Topic7\", \"Topic7\", \"Topic7\", \"Topic7\", \"Topic7\", \"Topic7\", \"Topic7\", \"Topic7\", \"Topic7\", \"Topic7\", \"Topic7\", \"Topic7\", \"Topic7\", \"Topic7\", \"Topic7\", \"Topic7\", \"Topic7\", \"Topic7\", \"Topic7\", \"Topic7\", \"Topic7\", \"Topic7\", \"Topic7\", \"Topic7\", \"Topic7\", \"Topic7\", \"Topic7\", \"Topic7\", \"Topic7\", \"Topic7\", \"Topic7\", \"Topic7\", \"Topic7\", \"Topic7\"], \"logprob\": [30.0, 29.0, 28.0, 27.0, 26.0, 25.0, 24.0, 23.0, 22.0, 21.0, 20.0, 19.0, 18.0, 17.0, 16.0, 15.0, 14.0, 13.0, 12.0, 11.0, 10.0, 9.0, 8.0, 7.0, 6.0, 5.0, 4.0, 3.0, 2.0, 1.0, -3.0272, -3.9607, -4.3425, -5.508, -5.5809, -5.6288, -5.6339, -6.0736, -6.2287, -6.3552, -6.4009, -3.7744, -4.5728, -6.4715, -6.4872, -6.5531, -6.5546, -6.5522, -5.9822, -6.6025, -6.6688, -6.6548, -6.7003, -6.7737, -6.7958, -6.7886, -6.8407, -4.7427, -6.0483, -6.9395, -3.1895, -5.1657, -4.6584, -6.0113, -3.7992, -5.9224, -4.3359, -4.5123, -4.7874, -5.6544, -5.2701, -5.8834, -5.418, -5.3675, -2.7301, -3.0582, -4.0306, -4.203, -4.4926, -4.205, -4.5779, -4.9015, -5.1075, -4.5475, -4.1298, -5.1242, -5.0909, -5.0575, -4.5724, -4.6243, -4.9931, -4.9369, -5.2246, -5.4325, -5.7199, -5.8306, -5.8613, -5.891, -5.936, -5.9562, -5.9665, -6.1263, -6.2557, -1.9595, -6.3729, -6.3837, -6.4933, -5.0426, -6.5841, -6.5929, -6.5951, -6.7354, -5.6992, -6.7625, -6.7938, -6.7939, -6.826, -6.827, -6.8376, -6.8409, -6.8435, -6.8439, -5.4271, -5.5065, -3.4649, -5.1358, -5.5335, -6.2716, -5.153, -5.3645, -4.1743, -4.4108, -5.3129, -5.4417, -5.7168, -3.2087, -5.0386, -3.2094, -4.8369, -2.7262, -3.9712, -5.4541, -3.8473, -4.3208, -4.7596, -5.3405, -4.816, -5.0032, -3.5352, -4.544, -4.7093, -5.2967, -4.8616, -5.0769, -4.687, -5.2084, -5.154, -5.3155, -5.262, -5.2975, -4.0867, -4.2639, -4.4554, -3.997, -5.0369, -5.1948, -5.8093, -5.8386, -5.8441, -5.156, -5.8844, -5.9619, -6.0294, -6.0274, -6.1082, -6.1439, -6.1528, -6.2137, -6.2137, -6.271, -6.2834, -6.3217, -6.3751, -6.3945, -6.4551, -6.4682, -6.4728, -6.4732, -6.4861, -6.5247, -3.5997, -4.5009, -3.8149, -4.7078, -5.1113, -5.6004, -4.1493, -5.0917, -3.5612, -5.0243, -5.5695, -4.7217, -5.4223, -2.3454, -3.2223, -5.3935, -3.9637, -4.7907, -5.307, -4.4565, -4.8048, -3.8264, -4.2964, -5.2041, -5.216, -5.0734, -5.0513, -5.1661, -5.1534, -3.4699, -3.6339, -4.694, -4.779, -5.3286, -5.4464, -5.7296, -5.8033, -5.881, -6.0358, -6.0384, -6.176, -6.2127, -6.2076, -6.2651, -6.3189, -6.3741, -6.3791, -6.3772, -6.4351, -6.4331, -6.4355, -6.4445, -6.4495, -6.458, -6.4637, -5.8323, -6.5402, -6.5562, -6.5628, -5.9939, -5.1383, -5.4146, -4.6388, -5.1619, -4.5484, -5.6011, -3.1359, -4.501, -5.2481, -4.5685, -2.8274, -3.2767, -4.0122, -5.0918, -4.8384, -5.3113, -5.5821, -5.1794, -4.0121, -4.4905, -2.9871, -3.5347, -5.0898, -4.483, -4.9316, -5.0637, -4.8083, -4.8223, -5.2728, -3.3791, -4.2764, -4.6677, -4.8273, -4.8629, -5.016, -5.4227, -5.5852, -5.7069, -5.7424, -5.7785, -5.8462, -5.9189, -6.0843, -6.1059, -6.2223, -6.253, -6.2949, -6.3422, -6.3515, -6.3904, -6.4716, -6.4895, -6.4961, -6.4907, -6.4963, -6.4967, -6.5945, -6.5957, -6.6076, -5.2116, -6.1368, -3.547, -5.5546, -5.1325, -5.422, -5.1428, -5.2306, -5.1842, -4.5385, -5.8081, -2.1685, -4.7689, -6.0275, -5.4462, -4.7185, -5.0096, -4.7801, -3.678, -4.136, -4.9094, -4.4421, -4.9517, -3.6129, -4.4975, -5.2996, -4.7556, -4.5512, -4.6875, -4.8299, -4.9898, -5.0999, -5.0503, -5.1407, -3.86, -4.3736, -4.3853, -4.5319, -4.6356, -4.6498, -4.9098, -4.9308, -5.1097, -5.2613, -5.3758, -5.5165, -5.5511, -5.5805, -5.6671, -5.6808, -5.7133, -5.723, -5.7714, -5.8046, -5.8119, -4.3468, -5.8723, -5.919, -4.5685, -4.3043, -6.1416, -6.1556, -6.1684, -6.1717, -5.5635, -4.7186, -3.6576, -4.5515, -5.1732, -4.8797, -4.173, -4.7387, -4.6211, -2.9805, -4.8295, -5.1166, -3.0794, -4.5713, -4.6233, -4.8951, -5.205, -5.2539, -5.2079, -2.553, -3.1876, -3.4572, -4.1176, -4.7174, -4.8216, -4.9675, -5.1029, -5.1537, -5.3364, -5.464, -5.4687, -5.6031, -5.6373, -5.7288, -5.7346, -5.7533, -5.7789, -5.8195, -5.8432, -5.8436, -5.8437, -5.8448, -5.8651, -5.8938, -5.9013, -5.9148, -5.997, -6.0406, -6.0649, -4.6182, -3.5391, -5.5166, -4.4039, -4.7346, -5.1958, -5.1766, -5.5696, -4.5218, -5.5166, -4.6132, -4.7491, -4.717, -4.1469, -4.4986, -5.3002, -4.3143, -5.2968, -5.4917, -5.3216, -5.3211], \"loglift\": [30.0, 29.0, 28.0, 27.0, 26.0, 25.0, 24.0, 23.0, 22.0, 21.0, 20.0, 19.0, 18.0, 17.0, 16.0, 15.0, 14.0, 13.0, 12.0, 11.0, 10.0, 9.0, 8.0, 7.0, 6.0, 5.0, 4.0, 3.0, 2.0, 1.0, 1.348, 1.3451, 1.3429, 1.3275, 1.3259, 1.3247, 1.3246, 1.3109, 1.3045, 1.2984, 1.2962, 1.2932, 1.2932, 1.2923, 1.2915, 1.2876, 1.2875, 1.2871, 1.285, 1.2844, 1.2803, 1.2797, 1.2782, 1.2725, 1.2712, 1.271, 1.267, 1.2655, 1.2619, 1.2592, 1.1248, 1.1963, 1.1612, 1.1979, 0.9311, 1.1716, 0.9285, 0.9296, 0.9719, 1.1111, 1.0206, 1.122, 0.988, 0.9467, 0.0488, 0.157, 0.4146, 0.4404, 0.5344, 0.3995, 0.5361, 0.6707, 0.7764, 0.4006, -0.2183, 0.666, 0.5769, 0.4613, -0.4128, -0.5596, 0.0941, -1.4383, 1.5817, 1.5768, 1.5681, 1.5641, 1.5626, 1.5617, 1.5598, 1.5589, 1.5584, 1.5509, 1.5438, 1.5391, 1.5367, 1.5361, 1.5286, 1.5263, 1.5217, 1.5211, 1.5208, 1.509, 1.5088, 1.5061, 1.5037, 1.5036, 1.5005, 1.5001, 1.4993, 1.4988, 1.4988, 1.4984, 1.475, 1.4593, 1.3566, 1.4197, 1.4356, 1.4732, 1.4036, 1.3937, 1.2883, 1.2764, 1.3565, 1.3704, 1.3856, 0.951, 1.2575, 0.8553, 1.1891, 0.489, 0.8338, 1.2866, 0.5979, 0.7664, 0.9669, 1.1929, 0.8197, 0.7743, -0.7564, 0.0994, 0.0855, 1.0132, 0.1654, 0.5691, -0.7755, 0.647, -0.04, 1.0054, 0.2567, -0.0691, 1.8368, 1.8351, 1.8329, 1.8262, 1.8231, 1.8192, 1.7973, 1.7959, 1.7957, 1.7939, 1.7936, 1.7894, 1.7859, 1.7857, 1.781, 1.7785, 1.7782, 1.7742, 1.7742, 1.7701, 1.7691, 1.7663, 1.762, 1.7605, 1.7551, 1.754, 1.754, 1.7537, 1.7528, 1.7488, 1.6721, 1.5711, 1.4756, 1.5513, 1.5868, 1.6416, 1.43, 1.5566, 1.2337, 1.4987, 1.617, 1.3102, 1.5118, 0.4335, 0.6892, 1.481, 0.7666, 1.1319, 1.242, 0.4916, 0.7146, -0.6111, -0.2317, 0.9229, 0.6394, -0.0464, -0.6061, 0.0623, -0.5489, 2.115, 2.1138, 2.0996, 2.0977, 2.0806, 2.0758, 2.0613, 2.0568, 2.0518, 2.0404, 2.0403, 2.029, 2.0256, 2.0249, 2.0205, 2.0151, 2.0095, 2.0092, 2.0073, 2.0031, 2.003, 2.0029, 2.0016, 2.0014, 2.0005, 1.9998, 1.991, 1.991, 1.9888, 1.9879, 1.9781, 1.9269, 1.8611, 1.7455, 1.8188, 1.724, 1.8795, 1.4686, 1.5769, 1.7266, 1.5485, 1.0841, 0.883, 1.1018, 1.5159, 1.2836, 1.5304, 1.6685, 1.4196, 0.6312, 0.9514, -0.2082, -0.3195, 1.22, 0.4651, 0.8458, 1.0075, -0.0033, -0.508, 0.4807, 2.1574, 2.1487, 2.1418, 2.1381, 2.1372, 2.133, 2.118, 2.1101, 2.1035, 2.1014, 2.0992, 2.0948, 2.0897, 2.0771, 2.0755, 2.065, 2.0622, 2.0578, 2.0532, 2.0522, 2.0481, 2.0388, 2.0367, 2.0362, 2.0361, 2.0361, 2.0359, 2.0239, 2.0234, 2.0218, 1.9948, 1.9864, 1.7015, 1.9181, 1.8108, 1.8599, 1.7899, 1.7958, 1.7854, 1.6321, 1.8944, 0.6104, 1.4894, 1.9392, 1.6688, 1.2903, 1.4247, 1.2911, 0.3867, 0.669, 1.2356, 0.8223, 1.2308, -0.3977, 0.324, 1.4725, 0.4728, -0.106, 0.1074, 0.1971, 0.5296, 0.7554, -0.4069, -0.1926, 2.3568, 2.3489, 2.3487, 2.3455, 2.343, 2.3427, 2.3351, 2.3344, 2.3279, 2.3213, 2.3158, 2.308, 2.3059, 2.3042, 2.2984, 2.2976, 2.295, 2.2946, 2.291, 2.2886, 2.2879, 2.2877, 2.2829, 2.2793, 2.2694, 2.2604, 2.2572, 2.2566, 2.2553, 2.2549, 2.2468, 2.2284, 2.0324, 2.0926, 2.135, 2.0661, 1.4627, 1.6956, 1.512, 0.2347, 1.5578, 1.7477, -0.3005, 0.6571, 0.6252, 0.8951, 1.1092, 0.9167, -0.7627, 2.9286, 2.9236, 2.9203, 2.9074, 2.8856, 2.8805, 2.8724, 2.8636, 2.8602, 2.8457, 2.8342, 2.8341, 2.8205, 2.8166, 2.8056, 2.8055, 2.803, 2.8, 2.7948, 2.7917, 2.7915, 2.7914, 2.7909, 2.7882, 2.7843, 2.7837, 2.7815, 2.7698, 2.763, 2.7592, 2.6419, 2.529, 2.6741, 2.2552, 2.057, 2.3307, 2.3174, 2.5731, 1.6174, 2.4976, 1.4234, 1.3222, 1.0422, -0.0822, -0.1843, 1.5384, -1.5354, 1.4197, 2.0823, -0.2344, -0.373]}, \"token.table\": {\"Topic\": [1, 2, 4, 5, 7, 1, 1, 6, 3, 1, 2, 6, 1, 3, 4, 3, 1, 2, 3, 4, 5, 2, 1, 1, 4, 6, 1, 5, 2, 4, 1, 2, 3, 1, 3, 6, 1, 2, 3, 6, 7, 4, 4, 2, 3, 5, 6, 7, 4, 1, 5, 1, 4, 3, 4, 7, 3, 1, 1, 1, 2, 3, 4, 7, 6, 1, 2, 7, 1, 7, 3, 2, 5, 4, 6, 1, 5, 7, 5, 6, 7, 2, 3, 5, 6, 1, 3, 4, 4, 1, 4, 5, 2, 4, 7, 3, 3, 4, 6, 1, 1, 2, 3, 4, 2, 4, 6, 1, 1, 3, 6, 1, 2, 3, 4, 5, 1, 5, 1, 4, 5, 2, 1, 3, 4, 6, 4, 5, 2, 5, 3, 5, 6, 1, 2, 3, 4, 7, 1, 6, 1, 1, 4, 3, 1, 2, 3, 5, 6, 7, 4, 5, 6, 1, 2, 2, 2, 3, 5, 1, 4, 7, 1, 4, 5, 5, 7, 3, 6, 5, 5, 2, 2, 4, 6, 7, 1, 2, 3, 4, 5, 1, 4, 4, 1, 6, 4, 1, 3, 6, 7, 3, 1, 3, 4, 7, 1, 2, 3, 5, 6, 1, 3, 5, 6, 5, 6, 1, 3, 4, 2, 5, 1, 2, 7, 3, 3, 4, 1, 2, 3, 5, 7, 6, 6, 1, 3, 4, 5, 1, 2, 3, 5, 6, 1, 2, 3, 4, 1, 3, 1, 2, 3, 4, 5, 6, 7, 1, 2, 7, 1, 2, 3, 4, 5, 6, 5, 5, 6, 3, 7, 2, 3, 4, 5, 6, 7, 3, 1, 2, 5, 2, 5, 6, 1, 2, 3, 4, 5, 7, 2, 6, 3, 1, 2, 4, 6, 3, 4, 5, 6, 2, 5, 6, 5, 1, 5, 3, 4, 5, 6, 7, 2, 1, 2, 2, 2, 6, 6, 2, 1, 3, 4, 2, 7, 2, 2, 1, 2, 3, 4, 5, 7, 1, 2, 3, 7, 4, 6, 7, 7, 4, 4, 1, 3, 4, 5, 7, 5, 7, 1, 2, 5, 4, 3, 4, 1, 2, 3, 4, 5, 1, 3, 4, 3, 2, 3, 5, 1, 2, 3, 6, 2, 3, 5, 6, 3, 3, 7, 1, 5, 3, 4, 5, 6, 1, 3, 7, 6, 5, 2, 5, 7, 1, 3, 1, 2, 7, 1, 3, 1, 4, 7, 3, 5, 6, 1, 2, 3, 4, 1, 1, 2, 3, 4, 2, 3, 4, 1, 3, 4, 5, 6, 7, 3, 5, 1, 6, 1, 3, 4, 5, 6, 4, 2, 3, 1, 7, 5, 6, 4, 1, 3, 4, 7, 7, 7, 4, 5, 6, 6, 2, 5, 6, 5, 1, 3, 5, 2, 2, 2, 6, 4, 4, 5, 3, 1, 5, 3, 6, 5, 4, 4, 1, 2, 4, 5, 6, 2, 5, 7, 4, 1, 7, 2, 3, 7, 5, 6, 5, 5, 6, 7, 7, 4, 1, 2, 2, 1, 2, 3, 4, 5, 6, 7, 4, 3, 5, 7, 3, 6, 6, 5, 4, 6, 6, 1, 3, 5, 6, 7, 1, 6, 7, 7, 7, 1, 3, 4, 5, 1, 4, 4, 1, 1, 3, 1, 3, 1, 5, 6, 6, 7, 7, 1, 3, 4, 5, 7, 3, 5, 5, 6, 1, 2, 3, 4, 5, 6, 5, 1, 2, 7, 1, 2, 2, 1, 3, 2, 3, 5, 7, 4, 5, 1, 2, 6, 7, 6, 1, 2, 2, 1, 3, 5, 6, 2, 7, 5, 5, 1, 2, 3, 5, 6, 7, 7, 6, 1, 2, 3, 5, 6, 7, 6, 1, 2, 6, 1, 3, 4, 6, 7, 4, 2, 3, 3, 1, 4, 2, 7, 1, 2, 4, 7, 3, 7, 6, 3, 1, 2, 3, 5, 2, 3, 7, 3, 3, 5, 1, 3, 1, 2, 4, 6, 1, 2, 1, 2, 5, 1, 2, 3, 2, 4, 2, 4, 7, 1, 2, 3, 4, 5, 6, 3, 5], \"Freq\": [0.44425498503940936, 0.19467353277007826, 0.3593972912678368, 0.9023142726427047, 0.7991597774778766, 0.9490255423127057, 0.9977497738411194, 0.8895154862709729, 0.9105030925322622, 0.3457450043220955, 0.22127680276614112, 0.4287238053593984, 0.07111579891650861, 0.23112634647865302, 0.693379039435959, 0.9853137690859841, 0.4114923618432827, 0.2618587757184526, 0.17207862404355456, 0.02244503791872451, 0.13467022751234706, 0.9022355085441125, 0.9141434897966975, 0.6630191346518347, 0.03315095673259173, 0.2817831322270297, 0.9423240241233183, 0.052939551917040355, 0.9635680992717162, 0.9198204917134168, 0.23151405521207158, 0.023151405521207157, 0.740844976678629, 0.3338347741138762, 0.659721101225041, 0.9684689033805924, 0.5005670115308547, 0.19630078883562932, 0.05889023665068879, 0.2257459071609737, 0.01963007888356293, 0.9654085444719609, 0.9128779090199676, 0.3617787531998395, 0.1530602417383936, 0.0974019720153414, 0.1252311068768675, 0.2643767811844981, 0.8425074361478108, 0.47161515564229306, 0.49781599762242046, 0.15964344715639292, 0.7982172357819647, 0.09073222597779135, 0.1814644519555827, 0.6351255818445394, 0.9726428317033694, 0.9368998778575964, 0.9494672240902978, 0.1886553930260124, 0.1676936826897888, 0.5450044687418135, 0.0419234206724472, 0.0628851310086708, 0.9629224801243166, 0.9216598259564, 0.9040680070964676, 0.8811885807811117, 0.561095413708105, 0.42750126758712764, 0.8977564183319973, 0.3692146638252214, 0.6276649285028764, 0.08394926655417598, 0.8954588432445438, 0.19931442073336997, 0.7972576829334799, 0.9784836632233997, 0.35103181089702296, 0.1404127243588092, 0.5148466559823004, 0.7171578902197332, 0.03541520445529547, 0.11509941447971027, 0.12395321559353414, 0.06417419227101279, 0.22460967294854475, 0.6738290188456343, 0.9414731934134788, 0.1905373983597715, 0.5580023809107594, 0.2449766550339919, 0.4847795619613329, 0.4847795619613329, 0.962302533822421, 0.87910290562113, 0.9360305037111634, 0.06849666917986834, 0.9132889223982446, 0.9770721809333325, 0.17106316310810288, 0.520877721374111, 0.017298522112055348, 0.2902307598800397, 0.7908864286246061, 0.08181583744392477, 0.13635972907320795, 0.9990610014684961, 0.2190105071019565, 0.7787040252514008, 0.9836514524441314, 0.1099429950467443, 0.46176057919632607, 0.08062486303427915, 0.12093729455141873, 0.22355075659504675, 0.9630214799974357, 0.946138362887476, 0.8288503399911346, 0.08086344780401312, 0.09097137877951478, 0.936115631655977, 0.7123347133033505, 0.14570482772113988, 0.129515402418791, 0.9664079285743533, 0.9029250420994257, 0.9298597910174852, 0.9080988895395236, 0.9234829757245656, 0.15982398737486897, 0.11542843532629425, 0.7103288327771954, 0.09691179303877902, 0.4361030686745056, 0.14536768955816853, 0.28104419981245915, 0.038764717215511606, 0.9458001090224499, 0.042990914046474996, 0.9667596373624954, 0.22593917352346315, 0.7423715701485218, 0.9724677064018222, 0.08790427137424073, 0.21348180190887034, 0.1632507896950185, 0.1632507896950185, 0.15069303664155553, 0.2260395549623333, 0.6342055982723593, 0.08456074643631457, 0.25368223930894374, 0.958664379220127, 0.8989049241439847, 0.95160489107146, 0.8228727965641054, 0.14769511733201893, 0.9276184274882795, 0.6582223073301761, 0.3117895139985044, 0.02771462346653373, 0.40568632618803047, 0.5758128500733336, 0.913966178099307, 0.96199328146206, 0.9158625331603215, 0.08517146768257843, 0.8943004106670734, 0.9652492445024186, 0.9873478293831671, 0.8817039682919044, 0.8237435593368605, 0.0633648891797585, 0.10560814863293083, 0.9642640550641982, 0.3483585016988204, 0.35685505052074284, 0.08496548821922449, 0.15293787879460408, 0.05947584175345714, 0.8975434113399923, 0.044877170566999615, 0.8532113762734239, 0.9320707428377601, 0.8837593546940335, 0.8784295409953443, 0.27727796291209883, 0.7085992385531414, 0.2063467463439892, 0.7222136122039622, 0.9407820731254477, 0.10786277578224938, 0.05393138789112469, 0.21572555156449877, 0.5393138789112469, 0.44383881168138767, 0.23793420832404286, 0.15099670912871951, 0.14184539342394864, 0.02745394711431264, 0.9898861678576405, 0.7545790061472227, 0.2341796915629312, 0.9593327628588166, 0.17914320669408312, 0.806144430123374, 0.38684468113576165, 0.08996387933389806, 0.5217905001366087, 0.2769131198721749, 0.6768987374653164, 0.06930430207961505, 0.9009559270349957, 0.9948308733550583, 0.9891552621488284, 0.9389734054636761, 0.03129911351545587, 0.5051195844849319, 0.25255979224246594, 0.18941984418184948, 0.00789249350757706, 0.03946246753788531, 0.9521784291092191, 0.9330058287056148, 0.5605553738417169, 0.2694977758854408, 0.043119644141670535, 0.11857902138959396, 0.9153193187338887, 0.8684361611846729, 0.9868877577509927, 0.2493826192219377, 0.748147857665813, 0.21289091437368268, 0.20168612940664676, 0.493010538549581, 0.08963827973628745, 0.9166324718594222, 0.908786026909885, 0.14857193259801252, 0.4736822792242517, 0.12584916643596356, 0.012235335625718678, 0.1695467936706731, 0.022722766162048973, 0.04894134250287471, 0.2604588107087281, 0.6999830537797068, 0.016278675669295507, 0.3912479720629783, 0.36567620918304505, 0.08694399379177295, 0.007671528863979967, 0.10228705151973289, 0.043471996895886475, 0.9548545747890453, 0.12483153042093506, 0.8738207129465454, 0.9183768734790496, 0.9658615670082659, 0.5610991887620235, 0.033005834633060206, 0.4125729329132526, 0.23054747804739592, 0.7608066775564065, 0.9888832409033503, 0.8936948293886122, 0.055882829264280634, 0.7823596096999289, 0.16019744389093782, 0.45414574394612756, 0.13456170190996372, 0.40368510572989114, 0.20845036206517492, 0.09297785933842334, 0.3149250074365952, 0.3539157226430308, 0.029992857851104303, 0.8450389912729122, 0.8020561031045873, 0.1822854779783153, 0.9766486067376069, 0.6904388986024613, 0.2907111152010364, 0.8318790829575797, 0.9455485950136757, 0.10700050913951956, 0.2140010182790391, 0.24966785465887895, 0.44583545474799813, 0.6585618535231904, 0.2112368209414007, 0.12425695349494159, 0.9083930293212422, 0.956520194560803, 0.858215799616006, 0.967814056823374, 0.32499925891706377, 0.41599905141384164, 0.051999881426730205, 0.19499955535023825, 0.9656683094131157, 0.8967026262413893, 0.8817994424619402, 0.9632538663465865, 0.9553337276913079, 0.9506236085629896, 0.9019771280985611, 0.9832706169623754, 0.3829809094636495, 0.177812565108123, 0.43769246795845657, 0.9725637480704421, 0.929720861852753, 0.9137035278762912, 0.8948893537318732, 0.4021716947019324, 0.2213503125878853, 0.056116980656083594, 0.22446792262433438, 0.07794025091122721, 0.015588050182245444, 0.4602928381666021, 0.2865974275376957, 0.23448880434902372, 0.017369541062890646, 0.07400290094938389, 0.8880348113926068, 0.987676633339971, 0.8267238918898888, 0.8320471182517607, 0.9081987728757434, 0.7987036872204234, 0.060575841446492786, 0.07179358986250997, 0.024679046515237803, 0.044870993664068735, 0.8494494556211925, 0.12134992223159892, 0.1808796650499955, 0.80103851664998, 0.9140446940900228, 0.9189692939373442, 0.9646847349706865, 0.8489219146156869, 0.30695798431536403, 0.05989424084202225, 0.32193154452586964, 0.11230170157879173, 0.19465628273657232, 0.978673174005812, 0.9428002463600571, 0.9232509274537026, 0.8829921102301322, 0.33419598882208684, 0.2615446869042419, 0.39231703035636284, 0.18460250509333648, 0.053594275672258974, 0.6907706642202268, 0.06550411471053874, 0.3875923496519859, 0.30378859837588085, 0.24093578491880208, 0.0628528134570788, 0.9310351333336194, 0.10824618129014663, 0.7577232690310264, 0.2702896989932668, 0.6757242474831671, 0.21677463534934144, 0.7803886872576292, 0.6703740079691066, 0.2873031462724743, 0.9153661689213624, 0.01220488225228483, 0.061024411261424154, 0.9723771040175238, 0.979251393848679, 0.17449537654036493, 0.7416053502965508, 0.04362384413509123, 0.9434643163605266, 0.05241468424225148, 0.2592001240688662, 0.06480003101721656, 0.6609603163756088, 0.16768342200946895, 0.7964962545449775, 0.9893631714275573, 0.9434968982263443, 0.9361336867579548, 0.17230199572786958, 0.5886984854035544, 0.22973599430382613, 0.3216793235038139, 0.2838346972092476, 0.19868428804647328, 0.1892231314728317, 0.925080380868937, 0.8729411853702225, 0.9456399335830988, 0.0749620246898541, 0.8995442962782493, 0.9635983615911201, 0.14050629742451107, 0.8079112101909386, 0.38902438448834753, 0.2579400810194478, 0.19028366632582216, 0.09302757020373528, 0.03382820734681283, 0.038056733265164434, 0.9320609441868002, 0.8306630681949089, 0.9350847046606362, 0.8726092364755241, 0.2658911015679996, 0.08396561102147355, 0.08396561102147355, 0.39183951810020995, 0.1679312220429471, 0.9199745818079238, 0.971600736821817, 0.9609011938729357, 0.8314682993553537, 0.14460318249658324, 0.9854907771701555, 0.992437614245258, 0.9309507928466494, 0.85186589695647, 0.04056504271221286, 0.08113008542442572, 0.9211484008410976, 0.8446064669409784, 0.8872891060870768, 0.9905727925467157, 0.9142604628560804, 0.9898588494155354, 0.9304321528088393, 0.3605058201179756, 0.5172474810388346, 0.12539332873668718, 0.8910102318069922, 0.6555428270782142, 0.08121769539022124, 0.26105687803999683, 0.9766123339726772, 0.914349016584444, 0.8654020531856237, 0.08952435032954728, 0.9332733193704618, 0.8698211087312456, 0.08698211087312456, 0.9721275394330275, 0.9737948700383238, 0.9181850820079174, 0.9234011546737708, 0.9104029546308267, 0.830150693337575, 0.989063156269407, 0.874504450023814, 0.10991680194692988, 0.2808984938643764, 0.061064889970516595, 0.4152412517995129, 0.1343427579351365, 0.9364245876419703, 0.8941439049466727, 0.8440509365382199, 0.9971154475270314, 0.21341749953986122, 0.7256194984355281, 0.20423778875626722, 0.7148322606469352, 0.08169511550250688, 0.8393069179236393, 0.9799121801232517, 0.9976534547944738, 0.4859311480794059, 0.5046208076209215, 0.9146107324216372, 0.8476500511698573, 0.9677658922073014, 0.04051489269013676, 0.8913276391830086, 0.8770694700859719, 0.2720187543516719, 0.0942160872088384, 0.24351234847822847, 0.09711504373834111, 0.21162382665369855, 0.06909179728648149, 0.011595826118010879, 0.9911637736042536, 0.8979243965012557, 0.9816071929358047, 0.8973597309205764, 0.9840116622237989, 0.010144450126018546, 0.9757186322874213, 0.9376207525399757, 0.9430811530875959, 0.9200292251721027, 0.9428388398233617, 0.30805078257441293, 0.28004616597673904, 0.14002308298836952, 0.0280046165976739, 0.2520415493790651, 0.17527052638722088, 0.35054105277444175, 0.4089645615701821, 0.8438957244021781, 0.9070753996360325, 0.244522668505741, 0.06668800050156573, 0.5557333375130478, 0.13337600100313146, 0.9534507361318919, 0.9256783742995248, 0.9522086028429955, 0.9182181026083267, 0.25099054710840796, 0.7372847321309484, 0.6563523417044687, 0.3400789335256314, 0.19414515676990665, 0.6281166836673451, 0.17701470176079726, 0.38996711189458677, 0.557095874135124, 0.8440396641348655, 0.2886780200569195, 0.39865059912622214, 0.1237191514529655, 0.19245201337127965, 0.8595765704398788, 0.17304709478149963, 0.7787119265167484, 0.8321165528034595, 0.9669049925917196, 0.30348284117169927, 0.3281501657004334, 0.08596188850922516, 0.08670938319191407, 0.07699195231695818, 0.11810415986484848, 0.9498528460996184, 0.1276266076113449, 0.861479601376578, 0.9563984157680913, 0.06414810884727935, 0.919456226811004, 0.8794436208814528, 0.41245655988530344, 0.5874381307457353, 0.6604115710054407, 0.12382716956352013, 0.2063786159392002, 0.7703774241337246, 0.8384747614151948, 0.9089628205572157, 0.28734162528210216, 0.11493665011284086, 0.5459490880359941, 0.05746832505642043, 0.9402428488033353, 0.06152467932871251, 0.9377551929940858, 0.9760734898233476, 0.15780639928090961, 0.8416341294981846, 0.7151415735340355, 0.2798380070350574, 0.8585934992324973, 0.12719903692333293, 0.9606638220876763, 0.9538116394747216, 0.24624723207894322, 0.19028195206100157, 0.1678958400538249, 0.1846854240592074, 0.17908889605741324, 0.033579168010764986, 0.9515922263611191, 0.9867846061233145, 0.2867098363639967, 0.4324944989219611, 0.07775182003091435, 0.09718977503864294, 0.06317335377511792, 0.04373539876738933, 0.9564981046517627, 0.794080600117759, 0.03308669167157329, 0.13234676668629317, 0.06358693621143864, 0.14307060647573694, 0.6676628302201058, 0.09538040431715795, 0.01589673405285966, 0.8301206511829045, 0.29024970285895524, 0.6965992868614925, 0.9400205991966015, 0.7808851759816319, 0.18220654106238077, 0.8679588143640069, 0.8158203815343295, 0.6851508088612697, 0.09515983456406522, 0.06661188419484566, 0.15225573530250436, 0.9721526552995976, 0.7979852051007316, 0.9565691798350882, 0.9667202452330447, 0.3131136497703025, 0.5249258246149189, 0.07367379994595352, 0.08288302493919772, 0.27262142477188844, 0.4956753177670699, 0.22305389299518147, 0.9657815620064912, 0.15838561032000467, 0.7919280516000233, 0.19827812737908948, 0.7931125095163579, 0.8519743799898086, 0.06954892897875989, 0.034774464489379944, 0.034774464489379944, 0.21279147082965863, 0.7802353930420816, 0.28368705496270646, 0.5506866361040772, 0.16687473821335674, 0.1485276555034358, 0.7284927865168518, 0.12023667350278136, 0.7364074002658457, 0.2539335862985675, 0.3932472797743716, 0.5617818282491023, 0.028089091412455115, 0.09794298021239137, 0.21765106713864749, 0.5405001500609745, 0.0036275177856441247, 0.12696312249754435, 0.007255035571288249, 0.101181543849597, 0.809452350796776], \"Term\": [\"academic\", \"academic\", \"academic\", \"act\", \"action\", \"active\", \"activity\", \"actual\", \"addition\", \"administration\", \"administration\", \"administration\", \"advanced\", \"advanced\", \"advanced\", \"albany\", \"amazing\", \"amazing\", \"amazing\", \"amazing\", \"amazing\", \"answer\", \"approachable\", \"area\", \"area\", \"area\", \"art\", \"art\", \"assignment\", \"astounding\", \"athlete\", \"athlete\", \"athlete\", \"athletic\", \"athletic\", \"attendance\", \"available\", \"available\", \"available\", \"available\", \"available\", \"award\", \"baccalaureate\", \"bad\", \"bad\", \"bad\", \"bad\", \"bad\", \"balance\", \"band\", \"band\", \"base\", \"base\", \"basic\", \"basic\", \"basic\", \"basketball\", \"beautiful\", \"beneficial\", \"big\", \"big\", \"big\", \"big\", \"big\", \"board\", \"bomb\", \"book\", \"boring\", \"boulder\", \"boulder\", \"boy\", \"building\", \"building\", \"bully\", \"bully\", \"bullying\", \"bullying\", \"cafeteria\", \"campus\", \"campus\", \"campus\", \"care\", \"care\", \"care\", \"care\", \"career\", \"career\", \"career\", \"case\", \"central\", \"central\", \"central\", \"challenge\", \"challenge\", \"challenging\", \"championship\", \"cheer\", \"choice\", \"choice\", \"choir\", \"class\", \"class\", \"class\", \"class\", \"classroom\", \"classroom\", \"classroom\", \"club\", \"coach\", \"coach\", \"code\", \"college\", \"college\", \"college\", \"college\", \"college\", \"commitment\", \"communicate\", \"community\", \"community\", \"community\", \"compare\", \"competitive\", \"competitive\", \"competitive\", \"computer\", \"concern\", \"confident\", \"consistent\", \"cool\", \"counselor\", \"counselor\", \"counselor\", \"course\", \"course\", \"course\", \"course\", \"course\", \"culture\", \"culture\", \"curricular\", \"curriculum\", \"curriculum\", \"date\", \"day\", \"day\", \"day\", \"day\", \"day\", \"day\", \"deal\", \"deal\", \"deal\", \"debate\", \"dedicate\", \"dedicated\", \"department\", \"department\", \"depend\", \"different\", \"different\", \"different\", \"diversity\", \"diversity\", \"dog\", \"door\", \"doubt\", \"dress\", \"dress\", \"drill\", \"drug\", \"eager\", \"easy\", \"easy\", \"easy\", \"eat\", \"education\", \"education\", \"education\", \"education\", \"education\", \"elective\", \"elective\", \"emergency\", \"endless\", \"enforce\", \"ethnic\", \"event\", \"event\", \"everyday\", \"everyday\", \"exam\", \"example\", \"example\", \"example\", \"example\", \"experience\", \"experience\", \"experience\", \"experience\", \"experience\", \"extracurricular\", \"facility\", \"facility\", \"factor\", \"fair\", \"fair\", \"fairview\", \"fairview\", \"fairview\", \"feel\", \"feel\", \"find\", \"find\", \"food\", \"football\", \"freshman\", \"freshman\", \"friend\", \"friend\", \"friend\", \"friend\", \"friend\", \"front\", \"frustrating\", \"fun\", \"fun\", \"fun\", \"fun\", \"funding\", \"gain\", \"game\", \"general\", \"general\", \"gilbert\", \"gilbert\", \"gilbert\", \"gilbert\", \"glad\", \"golf\", \"good\", \"good\", \"good\", \"good\", \"good\", \"good\", \"good\", \"grade\", \"grade\", \"grade\", \"great\", \"great\", \"great\", \"great\", \"great\", \"great\", \"guard\", \"guidance\", \"guidance\", \"gym\", \"handle\", \"hard\", \"hard\", \"hard\", \"health\", \"health\", \"healthy\", \"heart\", \"help\", \"help\", \"help\", \"helpful\", \"helpful\", \"helpful\", \"high\", \"high\", \"high\", \"high\", \"high\", \"horrible\", \"information\", \"information\", \"intense\", \"interest\", \"interest\", \"international\", \"intimidate\", \"issue\", \"issue\", \"issue\", \"issue\", \"job\", \"job\", \"job\", \"jock\", \"join\", \"joke\", \"junior\", \"kid\", \"kid\", \"kid\", \"kid\", \"knowledgeable\", \"lab\", \"late\", \"learning\", \"least\", \"leave\", \"less\", \"lesson\", \"level\", \"level\", \"level\", \"library\", \"line\", \"load\", \"location\", \"lot\", \"lot\", \"lot\", \"lot\", \"lot\", \"lot\", \"love\", \"love\", \"love\", \"love\", \"low\", \"low\", \"lunch\", \"machine\", \"manage\", \"manageable\", \"many\", \"many\", \"many\", \"many\", \"many\", \"material\", \"material\", \"math\", \"math\", \"mental\", \"merit\", \"month\", \"motivation\", \"much\", \"much\", \"much\", \"much\", \"much\", \"music\", \"musical\", \"nation\", \"necessary\", \"need\", \"need\", \"need\", \"new\", \"new\", \"new\", \"new\", \"nice\", \"nice\", \"nice\", \"nice\", \"night\", \"normal\", \"normal\", \"north\", \"north\", \"notch\", \"notch\", \"nurse\", \"nurse\", \"offer\", \"offer\", \"offer\", \"office\", \"officer\", \"old\", \"old\", \"old\", \"opportunity\", \"opportunity\", \"option\", \"option\", \"option\", \"order\", \"order\", \"organization\", \"orientation\", \"outside\", \"parent\", \"parent\", \"parent\", \"part\", \"part\", \"part\", \"part\", \"participation\", \"party\", \"passionate\", \"path\", \"path\", \"pay\", \"peer\", \"peer\", \"people\", \"people\", \"people\", \"people\", \"people\", \"people\", \"pep\", \"perform\", \"phenomenal\", \"phone\", \"place\", \"place\", \"place\", \"place\", \"place\", \"placement\", \"plan\", \"player\", \"plenty\", \"plenty\", \"police\", \"policy\", \"pool\", \"popular\", \"popular\", \"popular\", \"portion\", \"pot\", \"preparation\", \"pressure\", \"pretty\", \"principal\", \"principle\", \"problem\", \"problem\", \"problem\", \"professional\", \"program\", \"program\", \"program\", \"push\", \"qualified\", \"question\", \"question\", \"race\", \"racial\", \"racial\", \"rally\", \"range\", \"rate\", \"reason\", \"reasonable\", \"recent\", \"regular\", \"relationship\", \"resource\", \"resource\", \"resource\", \"resource\", \"resource\", \"respect\", \"responsive\", \"restroom\", \"review\", \"rigorous\", \"rigorous\", \"room\", \"room\", \"room\", \"route\", \"rule\", \"safe\", \"safety\", \"safety\", \"salad\", \"sandwich\", \"scene\", \"schedule\", \"schedule\", \"scheduling\", \"school\", \"school\", \"school\", \"school\", \"school\", \"school\", \"school\", \"schoolrate\", \"secure\", \"security\", \"selection\", \"senior\", \"senior\", \"serious\", \"set\", \"sexual\", \"short\", \"sick\", \"small\", \"small\", \"small\", \"small\", \"small\", \"smart\", \"smart\", \"smart\", \"smoke\", \"snack\", \"social\", \"social\", \"social\", \"social\", \"society\", \"solid\", \"space\", \"special\", \"spirit\", \"spirit\", \"sport\", \"sport\", \"staff\", \"staff\", \"staff\", \"standard\", \"standard\", \"standardized\", \"state\", \"state\", \"state\", \"state\", \"stellar\", \"step\", \"step\", \"straight\", \"strict\", \"student\", \"student\", \"student\", \"student\", \"student\", \"student\", \"stuff\", \"style\", \"style\", \"sub\", \"subject\", \"subject\", \"succeed\", \"support\", \"support\", \"sure\", \"sure\", \"sure\", \"surprise\", \"swim\", \"talented\", \"talk\", \"talk\", \"talk\", \"talk\", \"taste\", \"teacher\", \"teacher\", \"teaching\", \"team\", \"team\", \"technology\", \"technology\", \"test\", \"test\", \"theater\", \"theatre\", \"thing\", \"thing\", \"thing\", \"thing\", \"thing\", \"thing\", \"think\", \"threat\", \"time\", \"time\", \"time\", \"time\", \"time\", \"time\", \"tolerance\", \"ton\", \"ton\", \"ton\", \"top\", \"top\", \"top\", \"top\", \"top\", \"tornado\", \"track\", \"track\", \"training\", \"type\", \"type\", \"understanding\", \"unhealthy\", \"variety\", \"variety\", \"variety\", \"variety\", \"varsity\", \"vegetarian\", \"visitor\", \"volleyball\", \"way\", \"way\", \"way\", \"way\", \"week\", \"week\", \"week\", \"weight\", \"welcome\", \"welcome\", \"white\", \"white\", \"wide\", \"wide\", \"wide\", \"wide\", \"willing\", \"willing\", \"wonderful\", \"wonderful\", \"wonderful\", \"work\", \"work\", \"work\", \"workload\", \"workload\", \"world\", \"world\", \"world\", \"year\", \"year\", \"year\", \"year\", \"year\", \"year\", \"young\", \"young\"]}, \"R\": 30, \"lambda.step\": 0.01, \"plot.opts\": {\"xlab\": \"PC1\", \"ylab\": \"PC2\"}, \"topic.order\": [7, 4, 6, 3, 5, 2, 1]};\n",
       "\n",
       "function LDAvis_load_lib(url, callback){\n",
       "  var s = document.createElement('script');\n",
       "  s.src = url;\n",
       "  s.async = true;\n",
       "  s.onreadystatechange = s.onload = callback;\n",
       "  s.onerror = function(){console.warn(\"failed to load library \" + url);};\n",
       "  document.getElementsByTagName(\"head\")[0].appendChild(s);\n",
       "}\n",
       "\n",
       "if(typeof(LDAvis) !== \"undefined\"){\n",
       "   // already loaded: just create the visualization\n",
       "   !function(LDAvis){\n",
       "       new LDAvis(\"#\" + \"ldavis_el1930425600386276961756733218\", ldavis_el1930425600386276961756733218_data);\n",
       "   }(LDAvis);\n",
       "}else if(typeof define === \"function\" && define.amd){\n",
       "   // require.js is available: use it to load d3/LDAvis\n",
       "   require.config({paths: {d3: \"https://d3js.org/d3.v5\"}});\n",
       "   require([\"d3\"], function(d3){\n",
       "      window.d3 = d3;\n",
       "      LDAvis_load_lib(\"https://cdn.jsdelivr.net/gh/bmabey/pyLDAvis@3.3.1/pyLDAvis/js/ldavis.v3.0.0.js\", function(){\n",
       "        new LDAvis(\"#\" + \"ldavis_el1930425600386276961756733218\", ldavis_el1930425600386276961756733218_data);\n",
       "      });\n",
       "    });\n",
       "}else{\n",
       "    // require.js not available: dynamically load d3 & LDAvis\n",
       "    LDAvis_load_lib(\"https://d3js.org/d3.v5.js\", function(){\n",
       "         LDAvis_load_lib(\"https://cdn.jsdelivr.net/gh/bmabey/pyLDAvis@3.3.1/pyLDAvis/js/ldavis.v3.0.0.js\", function(){\n",
       "                 new LDAvis(\"#\" + \"ldavis_el1930425600386276961756733218\", ldavis_el1930425600386276961756733218_data);\n",
       "            })\n",
       "         });\n",
       "}\n",
       "</script>"
      ],
      "text/plain": [
       "PreparedData(topic_coordinates=              x         y  topics  cluster       Freq\n",
       "topic                                                \n",
       "6     -0.131800 -0.059114       1        1  25.926928\n",
       "3     -0.116995  0.080770       2        1  20.122491\n",
       "5     -0.071689 -0.029073       3        1  15.792530\n",
       "2     -0.108561 -0.141065       4        1  11.986314\n",
       "4      0.018522  0.123737       5        1  11.493750\n",
       "1      0.139625  0.188422       6        1   9.361126\n",
       "0      0.270899 -0.163678       7        1   5.316862, topic_info=        Term         Freq        Total Category  logprob  loglift\n",
       "7    teacher  1007.000000  1007.000000  Default  30.0000  30.0000\n",
       "43      club   419.000000   419.000000  Default  29.0000  29.0000\n",
       "319     food   138.000000   138.000000  Default  28.0000  28.0000\n",
       "21      high   666.000000   666.000000  Default  27.0000  27.0000\n",
       "42     class   520.000000   520.000000  Default  26.0000  26.0000\n",
       "..       ...          ...          ...      ...      ...      ...\n",
       "33    school    23.700498  2069.710235   Topic7  -4.3143  -1.5354\n",
       "40      week     8.872338    40.348993   Topic7  -5.2968   1.4197\n",
       "159    smart     7.301392    17.116398   Topic7  -5.4917   2.0823\n",
       "8       time     8.654876   205.782964   Topic7  -5.3216  -0.2344\n",
       "54    people     8.659042   236.489032   Topic7  -5.3211  -0.3730\n",
       "\n",
       "[443 rows x 6 columns], token_table=      Topic      Freq      Term\n",
       "term                           \n",
       "378       1  0.444255  academic\n",
       "378       2  0.194674  academic\n",
       "378       4  0.359397  academic\n",
       "693       5  0.902314       act\n",
       "1083      7  0.799160    action\n",
       "...     ...       ...       ...\n",
       "59        4  0.003628      year\n",
       "59        5  0.126963      year\n",
       "59        6  0.007255      year\n",
       "941       3  0.101182     young\n",
       "941       5  0.809452     young\n",
       "\n",
       "[656 rows x 3 columns], R=30, lambda_step=0.01, plot_opts={'xlab': 'PC1', 'ylab': 'PC2'}, topic_order=[7, 4, 6, 3, 5, 2, 1])"
      ]
     },
     "execution_count": 155,
     "metadata": {},
     "output_type": "execute_result"
    }
   ],
   "source": [
    "# Visualize the topics\n",
    "pyLDAvis.enable_notebook()\n",
    "vis = gensim.prepare(lda_model, doc_term_matrix, dictionary)\n",
    "vis"
   ]
  },
  {
   "cell_type": "code",
   "execution_count": 156,
   "id": "78acf42e",
   "metadata": {},
   "outputs": [
    {
     "name": "stderr",
     "output_type": "stream",
     "text": [
      "C:\\Users\\pinba\\anaconda3\\lib\\site-packages\\ipykernel\\ipkernel.py:287: DeprecationWarning:\n",
      "\n",
      "`should_run_async` will not call `transform_cell` automatically in the future. Please pass the result to `transformed_cell` argument and any exception that happen during thetransform in `preprocessing_exc_tuple` in IPython 7.17 and above.\n",
      "\n"
     ]
    },
    {
     "data": {
      "text/html": [
       "<div>\n",
       "<style scoped>\n",
       "    .dataframe tbody tr th:only-of-type {\n",
       "        vertical-align: middle;\n",
       "    }\n",
       "\n",
       "    .dataframe tbody tr th {\n",
       "        vertical-align: top;\n",
       "    }\n",
       "\n",
       "    .dataframe thead th {\n",
       "        text-align: right;\n",
       "    }\n",
       "</style>\n",
       "<table border=\"1\" class=\"dataframe\">\n",
       "  <thead>\n",
       "    <tr style=\"text-align: right;\">\n",
       "      <th></th>\n",
       "      <th>org_idx</th>\n",
       "      <th>State</th>\n",
       "      <th>City</th>\n",
       "      <th>School</th>\n",
       "      <th>Rating</th>\n",
       "      <th>Raw_Review</th>\n",
       "      <th>PreProcessed_Review</th>\n",
       "      <th>Processed_Review</th>\n",
       "      <th>Flat_Review</th>\n",
       "      <th>Tokens</th>\n",
       "      <th>Topic_Review</th>\n",
       "    </tr>\n",
       "  </thead>\n",
       "  <tbody>\n",
       "    <tr>\n",
       "      <th>0</th>\n",
       "      <td>1</td>\n",
       "      <td>OK</td>\n",
       "      <td>Oklahoma City</td>\n",
       "      <td>Edmond Noth</td>\n",
       "      <td>3</td>\n",
       "      <td>I have enjoyed my time at ENHS but the way COV...</td>\n",
       "      <td>I have enjoyed my time at ENHS but the way COV...</td>\n",
       "      <td>enjoy time enhs way covid handle teacher leave...</td>\n",
       "      <td>(I, have, enjoyed, my, time, at, ENHS, but, th...</td>\n",
       "      <td>44</td>\n",
       "      <td>time way covid teacher nervous counselor long ...</td>\n",
       "    </tr>\n",
       "    <tr>\n",
       "      <th>1</th>\n",
       "      <td>5</td>\n",
       "      <td>OK</td>\n",
       "      <td>Oklahoma City</td>\n",
       "      <td>Edmond Noth</td>\n",
       "      <td>3</td>\n",
       "      <td>Even while going through my parents' gritty cu...</td>\n",
       "      <td>Even while going through my parents' gritty cu...</td>\n",
       "      <td>even parent gritty custody battle throughout h...</td>\n",
       "      <td>(Even, while, going, through, my, parents, ', ...</td>\n",
       "      <td>121</td>\n",
       "      <td>parent gritty custody battle high school edmon...</td>\n",
       "    </tr>\n",
       "    <tr>\n",
       "      <th>2</th>\n",
       "      <td>9</td>\n",
       "      <td>OK</td>\n",
       "      <td>Oklahoma City</td>\n",
       "      <td>Edmond Noth</td>\n",
       "      <td>3</td>\n",
       "      <td>Edmond North high school is full of a diverse ...</td>\n",
       "      <td>Edmond North high school is full of a diverse ...</td>\n",
       "      <td>edmond north high school full diverse crowd pe...</td>\n",
       "      <td>(Edmond, North, high, school, is, full, of, a,...</td>\n",
       "      <td>94</td>\n",
       "      <td>school full diverse crowd people club activity...</td>\n",
       "    </tr>\n",
       "    <tr>\n",
       "      <th>3</th>\n",
       "      <td>15</td>\n",
       "      <td>OK</td>\n",
       "      <td>Oklahoma City</td>\n",
       "      <td>Edmond Noth</td>\n",
       "      <td>3</td>\n",
       "      <td>North high school has some serious issues with...</td>\n",
       "      <td>North high school has some serious issues with...</td>\n",
       "      <td>north high school serious issue keep student g...</td>\n",
       "      <td>(North, high, school, has, some, serious, issu...</td>\n",
       "      <td>67</td>\n",
       "      <td>north high school serious issue student safe d...</td>\n",
       "    </tr>\n",
       "    <tr>\n",
       "      <th>4</th>\n",
       "      <td>19</td>\n",
       "      <td>OK</td>\n",
       "      <td>Oklahoma City</td>\n",
       "      <td>Edmond Noth</td>\n",
       "      <td>3</td>\n",
       "      <td>North High School in Torrance is an a decent s...</td>\n",
       "      <td>North High School in Torrance is an a decent s...</td>\n",
       "      <td>north high school torrance decent school teach...</td>\n",
       "      <td>(North, High, School, in, Torrance, is, an, a,...</td>\n",
       "      <td>22</td>\n",
       "      <td>north high school torrance decent school teach...</td>\n",
       "    </tr>\n",
       "  </tbody>\n",
       "</table>\n",
       "</div>"
      ],
      "text/plain": [
       "  org_idx State           City       School Rating  \\\n",
       "0       1    OK  Oklahoma City  Edmond Noth      3   \n",
       "1       5    OK  Oklahoma City  Edmond Noth      3   \n",
       "2       9    OK  Oklahoma City  Edmond Noth      3   \n",
       "3      15    OK  Oklahoma City  Edmond Noth      3   \n",
       "4      19    OK  Oklahoma City  Edmond Noth      3   \n",
       "\n",
       "                                          Raw_Review  \\\n",
       "0  I have enjoyed my time at ENHS but the way COV...   \n",
       "1  Even while going through my parents' gritty cu...   \n",
       "2  Edmond North high school is full of a diverse ...   \n",
       "3  North high school has some serious issues with...   \n",
       "4  North High School in Torrance is an a decent s...   \n",
       "\n",
       "                                 PreProcessed_Review  \\\n",
       "0  I have enjoyed my time at ENHS but the way COV...   \n",
       "1  Even while going through my parents' gritty cu...   \n",
       "2  Edmond North high school is full of a diverse ...   \n",
       "3  North high school has some serious issues with...   \n",
       "4  North High School in Torrance is an a decent s...   \n",
       "\n",
       "                                    Processed_Review  \\\n",
       "0  enjoy time enhs way covid handle teacher leave...   \n",
       "1  even parent gritty custody battle throughout h...   \n",
       "2  edmond north high school full diverse crowd pe...   \n",
       "3  north high school serious issue keep student g...   \n",
       "4  north high school torrance decent school teach...   \n",
       "\n",
       "                                         Flat_Review Tokens  \\\n",
       "0  (I, have, enjoyed, my, time, at, ENHS, but, th...     44   \n",
       "1  (Even, while, going, through, my, parents, ', ...    121   \n",
       "2  (Edmond, North, high, school, is, full, of, a,...     94   \n",
       "3  (North, high, school, has, some, serious, issu...     67   \n",
       "4  (North, High, School, in, Torrance, is, an, a,...     22   \n",
       "\n",
       "                                        Topic_Review  \n",
       "0  time way covid teacher nervous counselor long ...  \n",
       "1  parent gritty custody battle high school edmon...  \n",
       "2  school full diverse crowd people club activity...  \n",
       "3  north high school serious issue student safe d...  \n",
       "4  north high school torrance decent school teach...  "
      ]
     },
     "execution_count": 156,
     "metadata": {},
     "output_type": "execute_result"
    }
   ],
   "source": [
    "type(reviews_org)\n",
    "\n",
    "reviews_4 = np.hstack((reviews_org\n",
    "           ,pd.DataFrame(reviews_3,columns=['Topic_LDA'])))\n",
    "\n",
    "reviews_4 = pd.DataFrame(reviews_4,columns=['org_idx', 'State', 'City'\n",
    "                                           , 'School', 'Rating'\n",
    "                                           , 'Raw_Review', 'PreProcessed_Review', 'Processed_Review', 'Flat_Review', 'Tokens', 'Topic_Review'])\n",
    "\n",
    "reviews_4.head()"
   ]
  },
  {
   "cell_type": "code",
   "execution_count": 157,
   "id": "ef4a2a56",
   "metadata": {},
   "outputs": [
    {
     "name": "stderr",
     "output_type": "stream",
     "text": [
      "C:\\Users\\pinba\\anaconda3\\lib\\site-packages\\ipykernel\\ipkernel.py:287: DeprecationWarning:\n",
      "\n",
      "`should_run_async` will not call `transform_cell` automatically in the future. Please pass the result to `transformed_cell` argument and any exception that happen during thetransform in `preprocessing_exc_tuple` in IPython 7.17 and above.\n",
      "\n"
     ]
    }
   ],
   "source": [
    "#clf = RandomForestClassifier(max_depth=2, random_state=0)\n",
    "#X=np.array(reviews_3).reshape(-1, 1)\n",
    "#y=reviews_org['Rating']\n",
    "#clf.fit(X, y)"
   ]
  },
  {
   "cell_type": "code",
   "execution_count": null,
   "id": "7a1a3f42",
   "metadata": {},
   "outputs": [],
   "source": []
  },
  {
   "cell_type": "code",
   "execution_count": null,
   "id": "08ad8b5e",
   "metadata": {},
   "outputs": [],
   "source": []
  },
  {
   "cell_type": "code",
   "execution_count": 158,
   "id": "736bc645",
   "metadata": {},
   "outputs": [
    {
     "name": "stderr",
     "output_type": "stream",
     "text": [
      "C:\\Users\\pinba\\anaconda3\\lib\\site-packages\\ipykernel\\ipkernel.py:287: DeprecationWarning:\n",
      "\n",
      "`should_run_async` will not call `transform_cell` automatically in the future. Please pass the result to `transformed_cell` argument and any exception that happen during thetransform in `preprocessing_exc_tuple` in IPython 7.17 and above.\n",
      "\n"
     ]
    }
   ],
   "source": [
    "reviews_4['Rating']\n",
    "\n",
    "# low rating\n",
    "#reviews_4['Rating_binary'] = reviews_4['Rating'].apply(lambda x: 1 if x > 3 else 0)\n",
    "\n",
    "reviews_4['Rating_binary'] = reviews_4['Rating'].apply(lambda x: 1 if x > 3 else 0)\n",
    "\n",
    "# high rating\n",
    "# reviews_4['Rating_binary'] = reviews_4['Rating'].apply(lambda x: 1 if x < 2 else 0)"
   ]
  },
  {
   "cell_type": "code",
   "execution_count": null,
   "id": "30c833d2",
   "metadata": {},
   "outputs": [],
   "source": []
  },
  {
   "cell_type": "code",
   "execution_count": 159,
   "id": "1c27e262",
   "metadata": {},
   "outputs": [
    {
     "name": "stderr",
     "output_type": "stream",
     "text": [
      "C:\\Users\\pinba\\anaconda3\\lib\\site-packages\\ipykernel\\ipkernel.py:287: DeprecationWarning:\n",
      "\n",
      "`should_run_async` will not call `transform_cell` automatically in the future. Please pass the result to `transformed_cell` argument and any exception that happen during thetransform in `preprocessing_exc_tuple` in IPython 7.17 and above.\n",
      "\n"
     ]
    }
   ],
   "source": [
    "\n",
    "## wrapper to support numerical quant hyper-parameters\n",
    "def parameter_type_conv(parameter\n",
    "                       ,parameter_type):\n",
    "    if parameter_type == 'int':\n",
    "        return round(parameter, 0)\n",
    "    else:\n",
    "        return parameter\n",
    "\n",
    "    \n",
    "## generate array to support hierarchial hyper-parameterization    \n",
    "def auto_term_frequency_max(parameter_array_seed\n",
    "                           ,parameter_max\n",
    "                           ,parameter_min\n",
    "                           ,parameter_seed_rate\n",
    "                           ,parameter_type\n",
    "                           ,print_result): \n",
    "    \n",
    "    \n",
    "    hyper_parameter_array = (\n",
    "                                 parameter_type_conv(parameter_array_seed*(1-(parameter_seed_rate*2))\n",
    "                                                    ,parameter_type)\n",
    "                                ,parameter_type_conv(parameter_array_seed*(1-(parameter_seed_rate*1))\n",
    "                                                    ,parameter_type)\n",
    "                                ,parameter_type_conv(parameter_array_seed\n",
    "                                                    ,parameter_type)\n",
    "                                ,parameter_type_conv(parameter_array_seed*(1+(parameter_seed_rate*1))\n",
    "                                                    ,parameter_type)        \n",
    "                                ,parameter_type_conv(parameter_array_seed*(1+(parameter_seed_rate*2))\n",
    "                                                    ,parameter_type) )\n",
    "    \n",
    "    \n",
    "    \n",
    "    if print_result:\n",
    "        print(hyper_parameter_array)\n",
    "    \n",
    "    return hyper_parameter_array\n",
    "    "
   ]
  },
  {
   "cell_type": "code",
   "execution_count": 160,
   "id": "272fdb8a",
   "metadata": {},
   "outputs": [
    {
     "name": "stdout",
     "output_type": "stream",
     "text": [
      "(0.3, 0.4, 0.5, 0.6, 0.7)\n"
     ]
    },
    {
     "name": "stderr",
     "output_type": "stream",
     "text": [
      "C:\\Users\\pinba\\anaconda3\\lib\\site-packages\\ipykernel\\ipkernel.py:287: DeprecationWarning:\n",
      "\n",
      "`should_run_async` will not call `transform_cell` automatically in the future. Please pass the result to `transformed_cell` argument and any exception that happen during thetransform in `preprocessing_exc_tuple` in IPython 7.17 and above.\n",
      "\n"
     ]
    },
    {
     "data": {
      "text/plain": [
       "(0.3, 0.4, 0.5, 0.6, 0.7)"
      ]
     },
     "execution_count": 160,
     "metadata": {},
     "output_type": "execute_result"
    }
   ],
   "source": [
    "\n",
    "auto_term_frequency_max(.5        # seed value, previous nominal hyper-parameter\n",
    "                       ,2         # hyper-parameter(s) max value\n",
    "                       ,0         # hyper-parameter(s) min value\n",
    "                       ,0.2       # hyper-parameter(s) range growth rate\n",
    "                       ,'float'   # output numerical type (float/int)\n",
    "                       ,True)     # print array for all the people to see"
   ]
  },
  {
   "cell_type": "code",
   "execution_count": null,
   "id": "2c9be650",
   "metadata": {},
   "outputs": [],
   "source": []
  },
  {
   "cell_type": "code",
   "execution_count": 161,
   "id": "3f6d61c7",
   "metadata": {},
   "outputs": [
    {
     "name": "stderr",
     "output_type": "stream",
     "text": [
      "C:\\Users\\pinba\\anaconda3\\lib\\site-packages\\ipykernel\\ipkernel.py:287: DeprecationWarning:\n",
      "\n",
      "`should_run_async` will not call `transform_cell` automatically in the future. Please pass the result to `transformed_cell` argument and any exception that happen during thetransform in `preprocessing_exc_tuple` in IPython 7.17 and above.\n",
      "\n"
     ]
    }
   ],
   "source": [
    "#y=reviews_4['Rating']\n",
    "y=reviews_4['Rating_binary']\n",
    "y=y.astype('int')\n",
    "\n",
    "X=reviews_4[['Raw_Review']].fillna('BLANK')\n"
   ]
  },
  {
   "cell_type": "code",
   "execution_count": 230,
   "id": "e083fddd",
   "metadata": {},
   "outputs": [
    {
     "name": "stderr",
     "output_type": "stream",
     "text": [
      "C:\\Users\\pinba\\anaconda3\\lib\\site-packages\\ipykernel\\ipkernel.py:287: DeprecationWarning:\n",
      "\n",
      "`should_run_async` will not call `transform_cell` automatically in the future. Please pass the result to `transformed_cell` argument and any exception that happen during thetransform in `preprocessing_exc_tuple` in IPython 7.17 and above.\n",
      "\n"
     ]
    }
   ],
   "source": [
    "pipeline = Pipeline([\n",
    "\n",
    "    # Use FeatureUnion to combine the features from subject and body\n",
    "    ('union', FeatureUnion(\n",
    "        transformer_list=[\n",
    "\n",
    "            # Categorical Preprocessors\n",
    "            # ('repo_preprocessor', preprocessor),\n",
    "            \n",
    "                 \n",
    "            # INCIDENT CLOSE NOTES PIPELINE\n",
    "            ('review', Pipeline([\n",
    "                ('selector', ItemSelector(key='Raw_Review')),\n",
    "                ('vectorizer', 'passthrough'),\n",
    "                ('lda', LatentDirichletAllocation(\n",
    "                                learning_method='online',\n",
    "                                learning_offset=50.,\n",
    "                                random_state=0))\n",
    "            ])),                  \n",
    "\n",
    "        ],\n",
    "\n",
    "    )),\n",
    "    \n",
    "    # classifier place holder\n",
    "    ('classifier', XGBClassifier())\n",
    "\n",
    "])\n",
    "\n",
    "#pipeline = Pipeline('contestants': ['hash', 'count', 'tfidf']])"
   ]
  },
  {
   "cell_type": "code",
   "execution_count": null,
   "id": "9514bba9",
   "metadata": {},
   "outputs": [],
   "source": []
  },
  {
   "cell_type": "code",
   "execution_count": 231,
   "id": "9924cb37",
   "metadata": {},
   "outputs": [
    {
     "name": "stderr",
     "output_type": "stream",
     "text": [
      "C:\\Users\\pinba\\anaconda3\\lib\\site-packages\\ipykernel\\ipkernel.py:287: DeprecationWarning:\n",
      "\n",
      "`should_run_async` will not call `transform_cell` automatically in the future. Please pass the result to `transformed_cell` argument and any exception that happen during thetransform in `preprocessing_exc_tuple` in IPython 7.17 and above.\n",
      "\n"
     ]
    }
   ],
   "source": [
    "def auto_paramterization(comment_term_freq):\n",
    "    \n",
    "    parameters = [\n",
    "        {'union__review__vectorizer':                      [HashingVectorizer()],\n",
    "            'union__review__vectorizer__stop_words':       ('english', None),\n",
    "\n",
    "            # ngram ranges         \n",
    "            'union__review__vectorizer__ngram_range':      ((1, 1)        # force single term\n",
    "                                                           ,(1, 4)        # full spectrum up-to 4 term combination \n",
    "                                                           ,(2, 4)),      # force combination\n",
    "\n",
    "            'classifier':                                  [XGBClassifier()],\n",
    "        },\n",
    "                  \n",
    "                   \n",
    "                  \n",
    "        {\n",
    "            #'union__review__vectorizer':                   [CountVectorizer()],\n",
    "            'union__review__vectorizer':                   [TfidfVectorizer()],\n",
    "            'union__review__vectorizer__stop_words':       ('english', None),   \n",
    "            #'union__review__vectorizer__analyzer':         ('word', 'char', 'char_wb'),\n",
    "\n",
    "            # max term document frequecn#y\n",
    "            'union__review__vectorizer__max_df':           comment_term_freq,  \n",
    "            \n",
    "            # max features in term frequency \n",
    "            'union__review__vectorizer__max_features':     (100, 1000, 10000),            \n",
    "                       \n",
    "            # ngram ranges         \n",
    "            'union__review__vectorizer__ngram_range':      ((1, 1)        # force single term\n",
    "                                                           ,(1, 4)        # full spectrum up-to 4 term combination \n",
    "                                                           ,(2, 4)),      # force combination        \n",
    "\n",
    "            'classifier':                                  [XGBClassifier()],\n",
    "        },\n",
    "              \n",
    "        {\n",
    "            'union__review__vectorizer':                   [TfidfVectorizer()],\n",
    "            'union__review__vectorizer__stop_words':       ('english', None),    \n",
    "            \n",
    "            # max term document frequecn#y\n",
    "            'union__review__vectorizer__max_df':           comment_term_freq,  \n",
    "            \n",
    "            # max features in term frequency \n",
    "            'union__review__vectorizer__max_features':     (100, 1000, 10000),                  \n",
    "\n",
    "            # ngram ranges         \n",
    "            'union__review__vectorizer__ngram_range':      ((1, 1)        # force single term\n",
    "                                                           ,(1, 4)        # full spectrum up-to 4 term combination \n",
    "                                                           ,(2, 4)),      # force combination        \n",
    "\n",
    "            'classifier':                                  [XGBClassifier()],\n",
    "        }]\n",
    "    \n",
    "\n",
    "\n",
    "\n",
    "    return parameters"
   ]
  },
  {
   "cell_type": "code",
   "execution_count": null,
   "id": "643584be",
   "metadata": {},
   "outputs": [],
   "source": []
  },
  {
   "cell_type": "code",
   "execution_count": null,
   "id": "7be09f58",
   "metadata": {},
   "outputs": [],
   "source": []
  },
  {
   "cell_type": "code",
   "execution_count": null,
   "id": "2d6bc67b",
   "metadata": {},
   "outputs": [],
   "source": []
  },
  {
   "cell_type": "code",
   "execution_count": 165,
   "id": "db585eda",
   "metadata": {},
   "outputs": [
    {
     "name": "stderr",
     "output_type": "stream",
     "text": [
      "C:\\Users\\pinba\\anaconda3\\lib\\site-packages\\ipykernel\\ipkernel.py:287: DeprecationWarning:\n",
      "\n",
      "`should_run_async` will not call `transform_cell` automatically in the future. Please pass the result to `transformed_cell` argument and any exception that happen during thetransform in `preprocessing_exc_tuple` in IPython 7.17 and above.\n",
      "\n"
     ]
    }
   ],
   "source": []
  },
  {
   "cell_type": "code",
   "execution_count": null,
   "id": "56cdccc6",
   "metadata": {},
   "outputs": [],
   "source": []
  },
  {
   "cell_type": "code",
   "execution_count": null,
   "id": "2d7930c2",
   "metadata": {},
   "outputs": [],
   "source": []
  },
  {
   "cell_type": "code",
   "execution_count": null,
   "id": "71a2d712",
   "metadata": {},
   "outputs": [],
   "source": []
  },
  {
   "cell_type": "code",
   "execution_count": 166,
   "id": "f54492f2",
   "metadata": {},
   "outputs": [
    {
     "name": "stderr",
     "output_type": "stream",
     "text": [
      "C:\\Users\\pinba\\anaconda3\\lib\\site-packages\\ipykernel\\ipkernel.py:287: DeprecationWarning:\n",
      "\n",
      "`should_run_async` will not call `transform_cell` automatically in the future. Please pass the result to `transformed_cell` argument and any exception that happen during thetransform in `preprocessing_exc_tuple` in IPython 7.17 and above.\n",
      "\n"
     ]
    }
   ],
   "source": [
    "evolution_domain = (0.6, 0.7, 0.8)"
   ]
  },
  {
   "cell_type": "code",
   "execution_count": 186,
   "id": "7b7cf884",
   "metadata": {},
   "outputs": [
    {
     "name": "stderr",
     "output_type": "stream",
     "text": [
      "C:\\Users\\pinba\\anaconda3\\lib\\site-packages\\ipykernel\\ipkernel.py:287: DeprecationWarning:\n",
      "\n",
      "`should_run_async` will not call `transform_cell` automatically in the future. Please pass the result to `transformed_cell` argument and any exception that happen during thetransform in `preprocessing_exc_tuple` in IPython 7.17 and above.\n",
      "\n"
     ]
    },
    {
     "data": {
      "text/plain": [
       "tuple"
      ]
     },
     "execution_count": 186,
     "metadata": {},
     "output_type": "execute_result"
    }
   ],
   "source": [
    "#param_name\n",
    "type(auto_paramterization(auto_max_term_frq))"
   ]
  },
  {
   "cell_type": "code",
   "execution_count": 177,
   "id": "49257003",
   "metadata": {},
   "outputs": [
    {
     "name": "stderr",
     "output_type": "stream",
     "text": [
      "C:\\Users\\pinba\\anaconda3\\lib\\site-packages\\ipykernel\\ipkernel.py:287: DeprecationWarning:\n",
      "\n",
      "`should_run_async` will not call `transform_cell` automatically in the future. Please pass the result to `transformed_cell` argument and any exception that happen during thetransform in `preprocessing_exc_tuple` in IPython 7.17 and above.\n",
      "\n"
     ]
    }
   ],
   "source": [
    "classifier_iterator_preload = 2"
   ]
  },
  {
   "cell_type": "code",
   "execution_count": 232,
   "id": "f3b93ade",
   "metadata": {},
   "outputs": [
    {
     "name": "stderr",
     "output_type": "stream",
     "text": [
      "C:\\Users\\pinba\\anaconda3\\lib\\site-packages\\ipykernel\\ipkernel.py:287: DeprecationWarning:\n",
      "\n",
      "`should_run_async` will not call `transform_cell` automatically in the future. Please pass the result to `transformed_cell` argument and any exception that happen during thetransform in `preprocessing_exc_tuple` in IPython 7.17 and above.\n",
      "\n"
     ]
    },
    {
     "name": "stdout",
     "output_type": "stream",
     "text": [
      "Fitting 5 folds for each of 1 candidates, totalling 5 fits\n"
     ]
    },
    {
     "name": "stderr",
     "output_type": "stream",
     "text": [
      "C:\\Users\\pinba\\anaconda3\\lib\\site-packages\\xgboost\\sklearn.py:1146: UserWarning:\n",
      "\n",
      "The use of label encoder in XGBClassifier is deprecated and will be removed in a future release. To remove this warning, do the following: 1) Pass option use_label_encoder=False when constructing XGBClassifier object; and 2) Encode your labels (y) as integers starting with 0, i.e. 0, 1, 2, ..., [num_class - 1].\n",
      "\n"
     ]
    },
    {
     "name": "stdout",
     "output_type": "stream",
     "text": [
      "[08:45:33] WARNING: C:/Users/Administrator/workspace/xgboost-win64_release_1.4.0/src/learner.cc:1095: Starting in XGBoost 1.3.0, the default evaluation metric used with the objective 'binary:logistic' was changed from 'error' to 'logloss'. Explicitly set eval_metric if you'd like to restore the old behavior.\n",
      "search iteration train ratio 0.100 rows 2399.0\n",
      "done in 7.227s\n",
      "Best score: 0.937\n",
      "Best parameters set:\n",
      "(0): \tclassifier  XGBClassifier(base_score=0.5, booster='gbtree', colsample_bylevel=1,\n",
      "              colsample_bynode=1, colsample_bytree=1, gamma=0, gpu_id=-1,\n",
      "              importance_type='gain', interaction_constraints='',\n",
      "              learning_rate=0.300000012, max_delta_step=0, max_depth=6,\n",
      "              min_child_weight=1, missing=nan, monotone_constraints='()',\n",
      "              n_estimators=100, n_jobs=4, num_parallel_tree=1, random_state=0,\n",
      "              reg_alpha=0, reg_lambda=1, scale_pos_weight=1, subsample=1,\n",
      "              tree_method='exact', validate_parameters=1, verbosity=None)\n",
      "(1): \tunion__review__vectorizer  TfidfVectorizer(max_df=0.01, max_features=100, ngram_range=(1, 4),\n",
      "                stop_words='english')\n",
      "(2): \tunion__review__vectorizer__max_df  0.01\n",
      "Iterative Adjusted Term Freq Ranges\n",
      "(0.006, 0.008, 0.01, 0.012, 0.013999999999999999)\n",
      "(3): \tunion__review__vectorizer__max_features  100\n",
      "(4): \tunion__review__vectorizer__ngram_range  (1, 4)\n",
      "(5): \tunion__review__vectorizer__stop_words  'english'\n",
      "\n",
      "confusion matrix\n",
      "[[2258    0]\n",
      " [ 118   23]]\n",
      "accuracy score\n",
      "0.9508128386827845\n",
      "## iteration end #####################################\n",
      "Fitting 5 folds for each of 1 candidates, totalling 5 fits\n"
     ]
    },
    {
     "name": "stderr",
     "output_type": "stream",
     "text": [
      "C:\\Users\\pinba\\anaconda3\\lib\\site-packages\\xgboost\\sklearn.py:1146: UserWarning:\n",
      "\n",
      "The use of label encoder in XGBClassifier is deprecated and will be removed in a future release. To remove this warning, do the following: 1) Pass option use_label_encoder=False when constructing XGBClassifier object; and 2) Encode your labels (y) as integers starting with 0, i.e. 0, 1, 2, ..., [num_class - 1].\n",
      "\n"
     ]
    },
    {
     "name": "stdout",
     "output_type": "stream",
     "text": [
      "[08:45:41] WARNING: C:/Users/Administrator/workspace/xgboost-win64_release_1.4.0/src/learner.cc:1095: Starting in XGBoost 1.3.0, the default evaluation metric used with the objective 'binary:logistic' was changed from 'error' to 'logloss'. Explicitly set eval_metric if you'd like to restore the old behavior.\n",
      "search iteration train ratio 0.100 rows 2399.0\n",
      "done in 7.430s\n",
      "Best score: 0.927\n",
      "Best parameters set:\n",
      "(0): \tclassifier  XGBClassifier(base_score=0.5, booster='gbtree', colsample_bylevel=1,\n",
      "              colsample_bynode=1, colsample_bytree=1, gamma=0, gpu_id=-1,\n",
      "              importance_type='gain', interaction_constraints='',\n",
      "              learning_rate=0.300000012, max_delta_step=0, max_depth=6,\n",
      "              min_child_weight=1, missing=nan, monotone_constraints='()',\n",
      "              n_estimators=100, n_jobs=4, num_parallel_tree=1, random_state=0,\n",
      "              reg_alpha=0, reg_lambda=1, scale_pos_weight=1, subsample=1,\n",
      "              tree_method='exact', validate_parameters=1, verbosity=None)\n",
      "(1): \tunion__review__vectorizer  TfidfVectorizer(max_df=0.013999999999999999, max_features=10000,\n",
      "                stop_words='english')\n",
      "(2): \tunion__review__vectorizer__max_df  0.013999999999999999\n",
      "Iterative Adjusted Term Freq Ranges\n",
      "(0.0084, 0.0112, 0.013999999999999999, 0.0168, 0.019599999999999996)\n",
      "(3): \tunion__review__vectorizer__max_features  10000\n",
      "(4): \tunion__review__vectorizer__ngram_range  (1, 1)\n",
      "(5): \tunion__review__vectorizer__stop_words  'english'\n",
      "\n",
      "confusion matrix\n",
      "[[2258    0]\n",
      " [  67   74]]\n",
      "accuracy score\n",
      "0.9720716965402251\n",
      "## iteration end #####################################\n",
      "Fitting 5 folds for each of 1 candidates, totalling 5 fits\n"
     ]
    },
    {
     "name": "stderr",
     "output_type": "stream",
     "text": [
      "C:\\Users\\pinba\\anaconda3\\lib\\site-packages\\xgboost\\sklearn.py:1146: UserWarning:\n",
      "\n",
      "The use of label encoder in XGBClassifier is deprecated and will be removed in a future release. To remove this warning, do the following: 1) Pass option use_label_encoder=False when constructing XGBClassifier object; and 2) Encode your labels (y) as integers starting with 0, i.e. 0, 1, 2, ..., [num_class - 1].\n",
      "\n"
     ]
    },
    {
     "name": "stdout",
     "output_type": "stream",
     "text": [
      "[08:45:45] WARNING: C:/Users/Administrator/workspace/xgboost-win64_release_1.4.0/src/learner.cc:1095: Starting in XGBoost 1.3.0, the default evaluation metric used with the objective 'binary:logistic' was changed from 'error' to 'logloss'. Explicitly set eval_metric if you'd like to restore the old behavior.\n",
      "search iteration train ratio 0.100 rows 2399.0\n",
      "done in 4.120s\n",
      "Best score: 0.940\n",
      "Best parameters set:\n",
      "(0): \tclassifier  XGBClassifier(base_score=0.5, booster='gbtree', colsample_bylevel=1,\n",
      "              colsample_bynode=1, colsample_bytree=1, gamma=0, gpu_id=-1,\n",
      "              importance_type='gain', interaction_constraints='',\n",
      "              learning_rate=0.300000012, max_delta_step=0, max_depth=6,\n",
      "              min_child_weight=1, missing=nan, monotone_constraints='()',\n",
      "              n_estimators=100, n_jobs=4, num_parallel_tree=1, random_state=0,\n",
      "              reg_alpha=0, reg_lambda=1, scale_pos_weight=1, subsample=1,\n",
      "              tree_method='exact', validate_parameters=1, verbosity=None)\n",
      "(1): \tunion__review__vectorizer  TfidfVectorizer(max_df=0.0112, max_features=100, stop_words='english')\n",
      "(2): \tunion__review__vectorizer__max_df  0.0112\n",
      "Iterative Adjusted Term Freq Ranges\n",
      "(0.006719999999999999, 0.008960000000000001, 0.0112, 0.013439999999999999, 0.01568)\n",
      "(3): \tunion__review__vectorizer__max_features  100\n",
      "(4): \tunion__review__vectorizer__ngram_range  (1, 1)\n",
      "(5): \tunion__review__vectorizer__stop_words  'english'\n",
      "\n",
      "confusion matrix\n",
      "[[2258    0]\n",
      " [ 112   29]]\n",
      "accuracy score\n",
      "0.9533138807836599\n",
      "## iteration end #####################################\n",
      "\n",
      "\n",
      "Total runtime 19.34967041015625\n"
     ]
    }
   ],
   "source": [
    "# initialize timer\n",
    "t0_total = time()\n",
    "\n",
    "# broad search seed\n",
    "auto_max_term_frq = (0.9, .6, .3, .1, .01)\n",
    "test_train_enabled=False\n",
    "\n",
    "for evolution_state in evolution_domain:\n",
    "\n",
    "    # initialize timer\n",
    "    t0 = time()\n",
    "\n",
    "    # check if test train enabled\n",
    "    if test_train_enabled:\n",
    "        # training set evolver\n",
    "        X_train, X_test, y_train, y_test = train_test_split(X, y, random_state=0, train_size=evolution_state)\n",
    "    else:\n",
    "        X_train=X; X_test=X\n",
    "        y_train=y; y_test=y\n",
    "\n",
    "    # switch between GRID and RANDOM searches\n",
    "    #grid_search = GridSearchCV(pipeline, parameters, n_jobs=-1, verbose=1)\n",
    "    grid_search = RandomizedSearchCV(pipeline\n",
    "                                    , auto_paramterization(auto_max_term_frq)[1]\n",
    "                                    #, parameters \n",
    "                                    , n_jobs=-1\n",
    "                                    , verbose=1\n",
    "                                    , n_iter=classifier_iterator_preload*evolution_state\n",
    "                                    , scoring='accuracy')\n",
    "\n",
    "    # fit gridsearch / pipeline\n",
    "    grid_search.fit(X_train, y_train)\n",
    "\n",
    "    # search metrics\n",
    "    print(\"search iteration train ratio %0.3f rows %0.1f\" % (0.1 ,len(y_train)))\n",
    "    print(\"done in %0.3fs\" % (time() - t0))\n",
    "    print(\"Best score: %0.3f\" % grid_search.best_score_)\n",
    "    print(\"Best parameters set:\")\n",
    "\n",
    "    # grid search parameters\n",
    "    best_parameters = grid_search.best_estimator_.get_params()\n",
    "\n",
    "    # loop through each parameter, displaying top result\n",
    "    i=0\n",
    "    #for param_name in sorted(parameters[0]):\n",
    "    for param_name in sorted(auto_paramterization(auto_max_term_frq)[1]):\n",
    "        print(\"(%r): \\t%s  %r\" % (i, param_name, best_parameters[param_name]))\n",
    "        \n",
    "        # record recent heights\n",
    "        # if param_name = 'union__review__vectorizer__max_df':\n",
    "        if 'union__review__vectorizer__max_df' in param_name:\n",
    "            auto_max_term_frq = (\n",
    "                                 auto_term_frequency_max(best_parameters[param_name]  # seed value, previous nominal hyper-parameter\n",
    "                                                         ,2                           # hyper-parameter(s) max value\n",
    "                                                         ,0                           # hyper-parameter(s) min value\n",
    "                                                         ,0.2                         # hyper-parameter(s) range growth rate\n",
    "                                                         ,'float'                     # output numerical type (float/int)\n",
    "                                                         ,False)                      # print hyper parameter array?\n",
    "                                )\n",
    "            print(\"Iterative Adjusted Term Freq Ranges\")\n",
    "            print(auto_max_term_frq)\n",
    "        i=i+1\n",
    "\n",
    "    y_pred = grid_search.predict(X_test)\n",
    "    print(\"\")\n",
    "    print(\"confusion matrix\")\n",
    "    print(metrics.confusion_matrix(y_test, y_pred))\n",
    "    print(\"accuracy score\")\n",
    "    print(metrics.accuracy_score(y_test, y_pred))\n",
    "    print(\"## iteration end #####################################\")\n",
    "    #print(classification_report(y_pred, y_test))\n",
    "\n",
    "   \n",
    "print(\"\")\n",
    "print(\"\")\n",
    "print(\"Total runtime %s\" % (time() - t0_total))\n"
   ]
  },
  {
   "cell_type": "code",
   "execution_count": null,
   "id": "2313c0e2",
   "metadata": {},
   "outputs": [],
   "source": []
  },
  {
   "cell_type": "code",
   "execution_count": null,
   "id": "1ea6eeaf",
   "metadata": {},
   "outputs": [],
   "source": []
  },
  {
   "cell_type": "code",
   "execution_count": 169,
   "id": "3d324a1d",
   "metadata": {},
   "outputs": [
    {
     "name": "stderr",
     "output_type": "stream",
     "text": [
      "C:\\Users\\pinba\\anaconda3\\lib\\site-packages\\ipykernel\\ipkernel.py:287: DeprecationWarning:\n",
      "\n",
      "`should_run_async` will not call `transform_cell` automatically in the future. Please pass the result to `transformed_cell` argument and any exception that happen during thetransform in `preprocessing_exc_tuple` in IPython 7.17 and above.\n",
      "\n"
     ]
    }
   ],
   "source": [
    "# LDA Top Topics\n",
    "# lda = dict(grid_search.best_estimator_.named_steps['union'].transformer_list).get('review').named_steps['lda']\n",
    "clf = grid_search.best_estimator_.named_steps['classifier']\n",
    "feature_names = dict(grid_search.best_estimator_.named_steps['union'].transformer_list).get('review').named_steps['vectorizer'].get_feature_names()"
   ]
  },
  {
   "cell_type": "code",
   "execution_count": 170,
   "id": "be315764",
   "metadata": {},
   "outputs": [
    {
     "name": "stdout",
     "output_type": "stream",
     "text": [
      "XGBClassifier(base_score=0.5, booster='gbtree', colsample_bylevel=1,\n",
      "              colsample_bynode=1, colsample_bytree=1, gamma=0, gpu_id=-1,\n",
      "              importance_type='gain', interaction_constraints='',\n",
      "              learning_rate=0.300000012, max_delta_step=0, max_depth=6,\n",
      "              min_child_weight=1, missing=nan, monotone_constraints='()',\n",
      "              n_estimators=100, n_jobs=4, num_parallel_tree=1, random_state=0,\n",
      "              reg_alpha=0, reg_lambda=1, scale_pos_weight=1, subsample=1,\n",
      "              tree_method='exact', validate_parameters=1, verbosity=None)\n"
     ]
    },
    {
     "name": "stderr",
     "output_type": "stream",
     "text": [
      "C:\\Users\\pinba\\anaconda3\\lib\\site-packages\\ipykernel\\ipkernel.py:287: DeprecationWarning:\n",
      "\n",
      "`should_run_async` will not call `transform_cell` automatically in the future. Please pass the result to `transformed_cell` argument and any exception that happen during thetransform in `preprocessing_exc_tuple` in IPython 7.17 and above.\n",
      "\n"
     ]
    }
   ],
   "source": [
    "print(clf)\n",
    "#fig, ax = plt.subplots(figsize=(30, 30))\n",
    "#xgb.plot_tree(model, num_trees=4, ax=ax)\n",
    "#plt.show()"
   ]
  },
  {
   "cell_type": "code",
   "execution_count": null,
   "id": "d655979f",
   "metadata": {},
   "outputs": [],
   "source": []
  },
  {
   "cell_type": "code",
   "execution_count": 196,
   "id": "0ad5194e",
   "metadata": {},
   "outputs": [
    {
     "name": "stderr",
     "output_type": "stream",
     "text": [
      "C:\\Users\\pinba\\anaconda3\\lib\\site-packages\\ipykernel\\ipkernel.py:287: DeprecationWarning:\n",
      "\n",
      "`should_run_async` will not call `transform_cell` automatically in the future. Please pass the result to `transformed_cell` argument and any exception that happen during thetransform in `preprocessing_exc_tuple` in IPython 7.17 and above.\n",
      "\n"
     ]
    }
   ],
   "source": []
  },
  {
   "cell_type": "code",
   "execution_count": null,
   "id": "582f72a3",
   "metadata": {},
   "outputs": [],
   "source": []
  },
  {
   "cell_type": "code",
   "execution_count": 171,
   "id": "3b61d569",
   "metadata": {},
   "outputs": [
    {
     "name": "stderr",
     "output_type": "stream",
     "text": [
      "C:\\Users\\pinba\\anaconda3\\lib\\site-packages\\ipykernel\\ipkernel.py:287: DeprecationWarning:\n",
      "\n",
      "`should_run_async` will not call `transform_cell` automatically in the future. Please pass the result to `transformed_cell` argument and any exception that happen during thetransform in `preprocessing_exc_tuple` in IPython 7.17 and above.\n",
      "\n"
     ]
    }
   ],
   "source": [
    "#plt.figure(figsize=(12,12))  # set plot size (denoted in inches)\n",
    "#tree.plot_tree(clf, fontsize=10)\n",
    "#XGBClassifier().plot_tree(clf, num_trees=4, ax=ax)\n",
    "\n",
    "#tree.plot_tree(clf);\n",
    "#plt.show()\n",
    "\n",
    "\n"
   ]
  },
  {
   "cell_type": "code",
   "execution_count": 233,
   "id": "d6c424f2",
   "metadata": {},
   "outputs": [
    {
     "name": "stdout",
     "output_type": "stream",
     "text": [
      "TfidfVectorizer(max_df=0.0112, max_features=100, stop_words='english')\n",
      "Unknown Vectorizer\n",
      "Topic #0: absolutely, administrators, attended, trouble, science, town\n",
      "Topic #1: types, workload, homework, provide, children, taking\n",
      "Topic #2: liked, gets, memories, honestly, girls, range\n",
      "Topic #3: issue, nurse, eat, supportive, guards, peer\n",
      "Topic #4: wouldn, caring, knowledgeable, ask, white, theatre\n",
      "Topic #5: generally, dedicated, questions, working, possible, interested\n",
      "Topic #6: career, awesome, subject, regular, welcoming, strong\n",
      "Topic #7: fine, unique, decent, policy, preparing, set\n",
      "Topic #8: provides, choir, interests, cares, create, play\n",
      "Topic #9: incredible, provided, fact, fit, bit, fair\n",
      "\n"
     ]
    },
    {
     "name": "stderr",
     "output_type": "stream",
     "text": [
      "C:\\Users\\pinba\\anaconda3\\lib\\site-packages\\ipykernel\\ipkernel.py:287: DeprecationWarning:\n",
      "\n",
      "`should_run_async` will not call `transform_cell` automatically in the future. Please pass the result to `transformed_cell` argument and any exception that happen during thetransform in `preprocessing_exc_tuple` in IPython 7.17 and above.\n",
      "\n"
     ]
    }
   ],
   "source": [
    "# Topic Importance (output)\n",
    "\n",
    "# latent d. hyper parameter\n",
    "lda = dict(grid_search.best_estimator_.named_steps['union'].transformer_list).get('review').named_steps['lda']\n",
    "\n",
    "# vectorizer hyper parameter\n",
    "vectorizer = dict(grid_search.best_estimator_.named_steps['union'].transformer_list).get('review').named_steps['vectorizer']\n",
    "vectorizer_type = str(print(vectorizer))\n",
    "\n",
    "# get feature names based on vectorizer type\n",
    "if 'CountVectorizer' in vectorizer_type:\n",
    "    \n",
    "    print('CountVectorizer')\n",
    "    #feature_names = sorted(vectorizer.vocabulary_.keys())\n",
    "    feature_names = vectorizer.get_feature_names()\n",
    "    \n",
    "elif 'TfidfVectorizer' in vectorizer_type:\n",
    "    print('TfidfVectorizer')\n",
    "    feature_names = vectorizer.get_feature_names()\n",
    "else:\n",
    "    print('Unknown Vectorizer')\n",
    "    feature_names = sorted(vectorizer.vocabulary_.keys())\n",
    "    \n",
    "# print top topics / features\n",
    "print_top_words(lda\n",
    "               ,feature_names\n",
    "               ,6)\n"
   ]
  },
  {
   "cell_type": "code",
   "execution_count": 173,
   "id": "4c06c548",
   "metadata": {},
   "outputs": [
    {
     "name": "stdout",
     "output_type": "stream",
     "text": [
      "TfidfVectorizer(max_df=0.9, max_features=1000, ngram_range=(1, 4))\n"
     ]
    },
    {
     "name": "stderr",
     "output_type": "stream",
     "text": [
      "C:\\Users\\pinba\\anaconda3\\lib\\site-packages\\ipykernel\\ipkernel.py:287: DeprecationWarning:\n",
      "\n",
      "`should_run_async` will not call `transform_cell` automatically in the future. Please pass the result to `transformed_cell` argument and any exception that happen during thetransform in `preprocessing_exc_tuple` in IPython 7.17 and above.\n",
      "\n"
     ]
    }
   ],
   "source": [
    "vectorizer_type = str(print(vectorizer))\n"
   ]
  },
  {
   "cell_type": "code",
   "execution_count": null,
   "id": "2abb9d12",
   "metadata": {},
   "outputs": [],
   "source": []
  },
  {
   "cell_type": "code",
   "execution_count": null,
   "id": "e14a0d47",
   "metadata": {},
   "outputs": [],
   "source": []
  },
  {
   "cell_type": "code",
   "execution_count": null,
   "id": "c20ad2bf",
   "metadata": {},
   "outputs": [],
   "source": []
  },
  {
   "cell_type": "code",
   "execution_count": null,
   "id": "f0a163e5",
   "metadata": {},
   "outputs": [],
   "source": []
  },
  {
   "cell_type": "code",
   "execution_count": 234,
   "id": "6f6ac438",
   "metadata": {},
   "outputs": [
    {
     "name": "stderr",
     "output_type": "stream",
     "text": [
      "C:\\Users\\pinba\\anaconda3\\lib\\site-packages\\ipykernel\\ipkernel.py:287: DeprecationWarning:\n",
      "\n",
      "`should_run_async` will not call `transform_cell` automatically in the future. Please pass the result to `transformed_cell` argument and any exception that happen during thetransform in `preprocessing_exc_tuple` in IPython 7.17 and above.\n",
      "\n"
     ]
    },
    {
     "name": "stdout",
     "output_type": "stream",
     "text": [
      "comment_nlp_topic__0    0.104398\n",
      "comment_nlp_topic__1    0.121753\n",
      "comment_nlp_topic__2    0.118407\n",
      "comment_nlp_topic__3    0.093147\n",
      "comment_nlp_topic__4    0.078350\n",
      "comment_nlp_topic__5    0.079184\n",
      "comment_nlp_topic__6    0.098100\n",
      "comment_nlp_topic__7    0.109300\n",
      "comment_nlp_topic__8    0.090877\n",
      "comment_nlp_topic__9    0.106486\n",
      "dtype: float32\n"
     ]
    },
    {
     "data": {
      "image/png": "[encoded data removed]",
      "text/plain": [
       "<Figure size 432x288 with 1 Axes>"
      ]
     },
     "metadata": {
      "needs_background": "light"
     },
     "output_type": "display_data"
    },
    {
     "data": {
      "image/png": "[encoded data removed]",
      "text/plain": [
       "<Figure size 1080x1080 with 1 Axes>"
      ]
     },
     "metadata": {
      "needs_background": "light"
     },
     "output_type": "display_data"
    }
   ],
   "source": [
    "#print(grid_search.best_estimator_.named_steps['classifier'].feature_importances_)\n",
    "#feature_names = grid_search.best_estimator_.named_steps['classifier'].get_feature_names()\n",
    "\n",
    "clf_feature_importance = grid_search.best_estimator_.named_steps['classifier'].feature_importances_\n",
    "#print(len(clf_feature_importance))\n",
    "\n",
    "#encoded_categorical_features = dict(grid_search.best_estimator_.named_steps['union'].transformer_list).get('repo_preprocessor').transformers_[1][1].get_feature_names()\n",
    "\n",
    "# capture comment nlp topics\n",
    "comment_nlp_model = dict(grid_search.best_estimator_.named_steps['union'].transformer_list).get('review').named_steps['lda']\n",
    "comment_nlp_topics = extract_feature_names(comment_nlp_model\n",
    "                                          , 'comment_nlp_topic_')\n",
    "\n",
    "features = np.array(list(comment_nlp_topics))\n",
    "\n",
    "feature_importance = pd.Series(data=clf_feature_importance\n",
    "                               , index = features )\n",
    "\n",
    "print(feature_importance)\n",
    "type(feature_importance)\n",
    "feature_importance.plot.bar()\n",
    "\n",
    "#plot_tree(clf)\n",
    "#plt.show()\n",
    "\n",
    "fig, ax = plt.subplots(figsize=(15, 15))\n",
    "#xgb.plot_tree(clf, num_trees=4, ax=ax)\n",
    "plot_tree(clf, ax=ax)\n",
    "plt.show()\n"
   ]
  },
  {
   "cell_type": "code",
   "execution_count": null,
   "id": "dc3ef62d",
   "metadata": {},
   "outputs": [],
   "source": []
  },
  {
   "cell_type": "code",
   "execution_count": null,
   "id": "3c24f819",
   "metadata": {},
   "outputs": [],
   "source": []
  },
  {
   "cell_type": "code",
   "execution_count": null,
   "id": "7c71c74d",
   "metadata": {},
   "outputs": [],
   "source": []
  },
  {
   "cell_type": "code",
   "execution_count": null,
   "id": "61c98eaa",
   "metadata": {},
   "outputs": [],
   "source": []
  },
  {
   "cell_type": "code",
   "execution_count": null,
   "id": "8c35d324",
   "metadata": {},
   "outputs": [],
   "source": []
  },
  {
   "cell_type": "code",
   "execution_count": null,
   "id": "9ff74966",
   "metadata": {},
   "outputs": [],
   "source": []
  },
  {
   "cell_type": "code",
   "execution_count": 235,
   "id": "e7704d95",
   "metadata": {},
   "outputs": [
    {
     "name": "stderr",
     "output_type": "stream",
     "text": [
      "C:\\Users\\pinba\\anaconda3\\lib\\site-packages\\ipykernel\\ipkernel.py:287: DeprecationWarning:\n",
      "\n",
      "`should_run_async` will not call `transform_cell` automatically in the future. Please pass the result to `transformed_cell` argument and any exception that happen during thetransform in `preprocessing_exc_tuple` in IPython 7.17 and above.\n",
      "\n"
     ]
    }
   ],
   "source": [
    "  # parrallel hyper-parameterization\n",
    "def make_param_grids(steps, param_grids):\n",
    "\n",
    "    final_params=[]\n",
    "\n",
    "    # Itertools.product will do a permutation such that \n",
    "    # (pca OR svd) AND (svm OR rf) will become ->\n",
    "    # (pca, svm) , (pca, rf) , (svd, svm) , (svd, rf)\n",
    "    for estimator_names in itertools.product(*steps.values()):\n",
    "        current_grid = {}\n",
    "\n",
    "        # Step_name and estimator_name should correspond\n",
    "        # i.e preprocessor must be from pca and select.\n",
    "        for step_name, estimator_name in zip(steps.keys(), estimator_names):\n",
    "            for param, value in param_grids.get(estimator_name).items():\n",
    "                \n",
    "                # detect object\n",
    "                if param == 'object':\n",
    "                    # Set actual estimator in pipeline\n",
    "                    current_grid[step_name]=[value]\n",
    "                else:\n",
    "                    # Set parameters corresponding to above estimator\n",
    "                    current_grid[step_name+'__'+param]=value\n",
    "        #Append this dictionary to final params            \n",
    "        final_params.append(current_grid)\n",
    "\n",
    "    return final_params"
   ]
  },
  {
   "cell_type": "code",
   "execution_count": 304,
   "id": "11fbea98",
   "metadata": {},
   "outputs": [
    {
     "name": "stderr",
     "output_type": "stream",
     "text": [
      "C:\\Users\\pinba\\anaconda3\\lib\\site-packages\\ipykernel\\ipkernel.py:287: DeprecationWarning:\n",
      "\n",
      "`should_run_async` will not call `transform_cell` automatically in the future. Please pass the result to `transformed_cell` argument and any exception that happen during thetransform in `preprocessing_exc_tuple` in IPython 7.17 and above.\n",
      "\n"
     ]
    }
   ],
   "source": [
    "# add all the estimators you want to \"OR\" in single key\n",
    "# use OR between `pca` and `select`, \n",
    "# use OR between `svm` and `rf`\n",
    "# different keys will be evaluated as serial estimator in pipeline\n",
    "\n",
    "('selector', ItemSelector(key='Raw_Review')),\n",
    "\n",
    "\n",
    "pipeline_steps = {'selector_switch':['switch'],                 \n",
    "                  'preprocessor':   ['tfidf', 'count'],\n",
    "                  'topicizer':      ['lda', 'passthrough'],                   \n",
    "                  'classifier':     ['xgb', 'rf']}\n",
    "\n",
    "# fill parameters to be searched in this dict\n",
    "all_param_grids = {'xgb':{'object':           XGBClassifier(),\n",
    "                          'n_estimators':     (10, 20)\n",
    "                         }, \n",
    "                   \n",
    "                   \n",
    "                   'rf':{'object':            RandomForestClassifier(),\n",
    "                         'n_estimators':      (10, 200)\n",
    "                        },\n",
    "\n",
    "                   \n",
    "                   'tfidf':{'object':         TfidfVectorizer(),\n",
    "                          'max_features':     (100, 1000, 10000),\n",
    "                          'stop_words':       ('english', None), \n",
    "                          'ngram_range':      ((1, 1)        # force single term\n",
    "                                              ,(1, 4)        # full spectrum up-to 4 term combination \n",
    "                                              ,(2, 4)),      # force combination    \n",
    "                         },\n",
    "                   \n",
    "                   ## passthrough mech.\n",
    "                   'passthrough':{'object': 'passthrough'},                   \n",
    "\n",
    "                   \n",
    "                   'count':{'object':CountVectorizer(),\n",
    "                             'max_features':  (100, 1000, 10000)\n",
    "                            },\n",
    "                   \n",
    "                   'lda':{'object': LatentDirichletAllocation(\n",
    "                                    learning_method='online',\n",
    "                                    learning_offset=50.,\n",
    "                                    random_state=0)},\n",
    "                   \n",
    "                   'switch':{'object': ItemSelector(key='Raw_Review')}                   \n",
    "                  }  \n",
    "\n",
    "\n",
    "# Call the method on the above declared variables\n",
    "param_grids_list = make_param_grids(pipeline_steps, all_param_grids)"
   ]
  },
  {
   "cell_type": "code",
   "execution_count": 305,
   "id": "f5fb5748",
   "metadata": {},
   "outputs": [
    {
     "name": "stderr",
     "output_type": "stream",
     "text": [
      "C:\\Users\\pinba\\anaconda3\\lib\\site-packages\\ipykernel\\ipkernel.py:287: DeprecationWarning:\n",
      "\n",
      "`should_run_async` will not call `transform_cell` automatically in the future. Please pass the result to `transformed_cell` argument and any exception that happen during thetransform in `preprocessing_exc_tuple` in IPython 7.17 and above.\n",
      "\n"
     ]
    }
   ],
   "source": [
    "# The PCA() and SVC() used here are just to initialize the pipeline,\n",
    "# actual estimators will be used from our `param_grids_list`\n",
    "pipe = Pipeline(steps=[('selector_switch','passthrough')\n",
    "                       , ('preprocessor', 'passthrough')\n",
    "                       , ('topicizer',    'passthrough')\n",
    "                       , ('classifier',   'passthrough')])  "
   ]
  },
  {
   "cell_type": "code",
   "execution_count": 308,
   "id": "903d4851",
   "metadata": {},
   "outputs": [
    {
     "name": "stdout",
     "output_type": "stream",
     "text": [
      "[{'selector_switch': [ItemSelector(key='Raw_Review')], 'preprocessor': [TfidfVectorizer()], 'preprocessor__max_features': (100, 1000, 10000), 'preprocessor__stop_words': ('english', None), 'preprocessor__ngram_range': ((1, 1), (1, 4), (2, 4)), 'topicizer': [LatentDirichletAllocation(learning_method='online', learning_offset=50.0,\n",
      "                          random_state=0)], 'classifier': [XGBClassifier(base_score=None, booster=None, colsample_bylevel=None,\n",
      "              colsample_bynode=None, colsample_bytree=None, gamma=None,\n",
      "              gpu_id=None, importance_type='gain', interaction_constraints=None,\n",
      "              learning_rate=None, max_delta_step=None, max_depth=None,\n",
      "              min_child_weight=None, missing=nan, monotone_constraints=None,\n",
      "              n_estimators=100, n_jobs=None, num_parallel_tree=None,\n",
      "              random_state=None, reg_alpha=None, reg_lambda=None,\n",
      "              scale_pos_weight=None, subsample=None, tree_method=None,\n",
      "              validate_parameters=None, verbosity=None)], 'classifier__n_estimators': (10, 20)}, {'selector_switch': [ItemSelector(key='Raw_Review')], 'preprocessor': [TfidfVectorizer()], 'preprocessor__max_features': (100, 1000, 10000), 'preprocessor__stop_words': ('english', None), 'preprocessor__ngram_range': ((1, 1), (1, 4), (2, 4)), 'topicizer': [LatentDirichletAllocation(learning_method='online', learning_offset=50.0,\n",
      "                          random_state=0)], 'classifier': [RandomForestClassifier()], 'classifier__n_estimators': (10, 200)}, {'selector_switch': [ItemSelector(key='Raw_Review')], 'preprocessor': [TfidfVectorizer()], 'preprocessor__max_features': (100, 1000, 10000), 'preprocessor__stop_words': ('english', None), 'preprocessor__ngram_range': ((1, 1), (1, 4), (2, 4)), 'topicizer': ['passthrough'], 'classifier': [XGBClassifier(base_score=None, booster=None, colsample_bylevel=None,\n",
      "              colsample_bynode=None, colsample_bytree=None, gamma=None,\n",
      "              gpu_id=None, importance_type='gain', interaction_constraints=None,\n",
      "              learning_rate=None, max_delta_step=None, max_depth=None,\n",
      "              min_child_weight=None, missing=nan, monotone_constraints=None,\n",
      "              n_estimators=100, n_jobs=None, num_parallel_tree=None,\n",
      "              random_state=None, reg_alpha=None, reg_lambda=None,\n",
      "              scale_pos_weight=None, subsample=None, tree_method=None,\n",
      "              validate_parameters=None, verbosity=None)], 'classifier__n_estimators': (10, 20)}, {'selector_switch': [ItemSelector(key='Raw_Review')], 'preprocessor': [TfidfVectorizer()], 'preprocessor__max_features': (100, 1000, 10000), 'preprocessor__stop_words': ('english', None), 'preprocessor__ngram_range': ((1, 1), (1, 4), (2, 4)), 'topicizer': ['passthrough'], 'classifier': [RandomForestClassifier()], 'classifier__n_estimators': (10, 200)}, {'selector_switch': [ItemSelector(key='Raw_Review')], 'preprocessor': [CountVectorizer()], 'preprocessor__max_features': (100, 1000, 10000), 'topicizer': [LatentDirichletAllocation(learning_method='online', learning_offset=50.0,\n",
      "                          random_state=0)], 'classifier': [XGBClassifier(base_score=None, booster=None, colsample_bylevel=None,\n",
      "              colsample_bynode=None, colsample_bytree=None, gamma=None,\n",
      "              gpu_id=None, importance_type='gain', interaction_constraints=None,\n",
      "              learning_rate=None, max_delta_step=None, max_depth=None,\n",
      "              min_child_weight=None, missing=nan, monotone_constraints=None,\n",
      "              n_estimators=100, n_jobs=None, num_parallel_tree=None,\n",
      "              random_state=None, reg_alpha=None, reg_lambda=None,\n",
      "              scale_pos_weight=None, subsample=None, tree_method=None,\n",
      "              validate_parameters=None, verbosity=None)], 'classifier__n_estimators': (10, 20)}, {'selector_switch': [ItemSelector(key='Raw_Review')], 'preprocessor': [CountVectorizer()], 'preprocessor__max_features': (100, 1000, 10000), 'topicizer': [LatentDirichletAllocation(learning_method='online', learning_offset=50.0,\n",
      "                          random_state=0)], 'classifier': [RandomForestClassifier()], 'classifier__n_estimators': (10, 200)}, {'selector_switch': [ItemSelector(key='Raw_Review')], 'preprocessor': [CountVectorizer()], 'preprocessor__max_features': (100, 1000, 10000), 'topicizer': ['passthrough'], 'classifier': [XGBClassifier(base_score=None, booster=None, colsample_bylevel=None,\n",
      "              colsample_bynode=None, colsample_bytree=None, gamma=None,\n",
      "              gpu_id=None, importance_type='gain', interaction_constraints=None,\n",
      "              learning_rate=None, max_delta_step=None, max_depth=None,\n",
      "              min_child_weight=None, missing=nan, monotone_constraints=None,\n",
      "              n_estimators=100, n_jobs=None, num_parallel_tree=None,\n",
      "              random_state=None, reg_alpha=None, reg_lambda=None,\n",
      "              scale_pos_weight=None, subsample=None, tree_method=None,\n",
      "              validate_parameters=None, verbosity=None)], 'classifier__n_estimators': (10, 20)}, {'selector_switch': [ItemSelector(key='Raw_Review')], 'preprocessor': [CountVectorizer()], 'preprocessor__max_features': (100, 1000, 10000), 'topicizer': ['passthrough'], 'classifier': [RandomForestClassifier()], 'classifier__n_estimators': (10, 200)}]\n"
     ]
    },
    {
     "name": "stderr",
     "output_type": "stream",
     "text": [
      "C:\\Users\\pinba\\anaconda3\\lib\\site-packages\\ipykernel\\ipkernel.py:287: DeprecationWarning:\n",
      "\n",
      "`should_run_async` will not call `transform_cell` automatically in the future. Please pass the result to `transformed_cell` argument and any exception that happen during thetransform in `preprocessing_exc_tuple` in IPython 7.17 and above.\n",
      "\n"
     ]
    },
    {
     "data": {
      "text/plain": [
       "[{'selector_switch': [ItemSelector(key='Raw_Review')],\n",
       "  'preprocessor': [TfidfVectorizer()],\n",
       "  'preprocessor__max_features': (100, 1000, 10000),\n",
       "  'preprocessor__stop_words': ('english', None),\n",
       "  'preprocessor__ngram_range': ((1, 1), (1, 4), (2, 4)),\n",
       "  'topicizer': [LatentDirichletAllocation(learning_method='online', learning_offset=50.0,\n",
       "                             random_state=0)],\n",
       "  'classifier': [XGBClassifier(base_score=None, booster=None, colsample_bylevel=None,\n",
       "                 colsample_bynode=None, colsample_bytree=None, gamma=None,\n",
       "                 gpu_id=None, importance_type='gain', interaction_constraints=None,\n",
       "                 learning_rate=None, max_delta_step=None, max_depth=None,\n",
       "                 min_child_weight=None, missing=nan, monotone_constraints=None,\n",
       "                 n_estimators=100, n_jobs=None, num_parallel_tree=None,\n",
       "                 random_state=None, reg_alpha=None, reg_lambda=None,\n",
       "                 scale_pos_weight=None, subsample=None, tree_method=None,\n",
       "                 validate_parameters=None, verbosity=None)],\n",
       "  'classifier__n_estimators': (10, 20)},\n",
       " {'selector_switch': [ItemSelector(key='Raw_Review')],\n",
       "  'preprocessor': [TfidfVectorizer()],\n",
       "  'preprocessor__max_features': (100, 1000, 10000),\n",
       "  'preprocessor__stop_words': ('english', None),\n",
       "  'preprocessor__ngram_range': ((1, 1), (1, 4), (2, 4)),\n",
       "  'topicizer': [LatentDirichletAllocation(learning_method='online', learning_offset=50.0,\n",
       "                             random_state=0)],\n",
       "  'classifier': [RandomForestClassifier()],\n",
       "  'classifier__n_estimators': (10, 200)},\n",
       " {'selector_switch': [ItemSelector(key='Raw_Review')],\n",
       "  'preprocessor': [TfidfVectorizer()],\n",
       "  'preprocessor__max_features': (100, 1000, 10000),\n",
       "  'preprocessor__stop_words': ('english', None),\n",
       "  'preprocessor__ngram_range': ((1, 1), (1, 4), (2, 4)),\n",
       "  'topicizer': ['passthrough'],\n",
       "  'classifier': [XGBClassifier(base_score=None, booster=None, colsample_bylevel=None,\n",
       "                 colsample_bynode=None, colsample_bytree=None, gamma=None,\n",
       "                 gpu_id=None, importance_type='gain', interaction_constraints=None,\n",
       "                 learning_rate=None, max_delta_step=None, max_depth=None,\n",
       "                 min_child_weight=None, missing=nan, monotone_constraints=None,\n",
       "                 n_estimators=100, n_jobs=None, num_parallel_tree=None,\n",
       "                 random_state=None, reg_alpha=None, reg_lambda=None,\n",
       "                 scale_pos_weight=None, subsample=None, tree_method=None,\n",
       "                 validate_parameters=None, verbosity=None)],\n",
       "  'classifier__n_estimators': (10, 20)},\n",
       " {'selector_switch': [ItemSelector(key='Raw_Review')],\n",
       "  'preprocessor': [TfidfVectorizer()],\n",
       "  'preprocessor__max_features': (100, 1000, 10000),\n",
       "  'preprocessor__stop_words': ('english', None),\n",
       "  'preprocessor__ngram_range': ((1, 1), (1, 4), (2, 4)),\n",
       "  'topicizer': ['passthrough'],\n",
       "  'classifier': [RandomForestClassifier()],\n",
       "  'classifier__n_estimators': (10, 200)},\n",
       " {'selector_switch': [ItemSelector(key='Raw_Review')],\n",
       "  'preprocessor': [CountVectorizer()],\n",
       "  'preprocessor__max_features': (100, 1000, 10000),\n",
       "  'topicizer': [LatentDirichletAllocation(learning_method='online', learning_offset=50.0,\n",
       "                             random_state=0)],\n",
       "  'classifier': [XGBClassifier(base_score=None, booster=None, colsample_bylevel=None,\n",
       "                 colsample_bynode=None, colsample_bytree=None, gamma=None,\n",
       "                 gpu_id=None, importance_type='gain', interaction_constraints=None,\n",
       "                 learning_rate=None, max_delta_step=None, max_depth=None,\n",
       "                 min_child_weight=None, missing=nan, monotone_constraints=None,\n",
       "                 n_estimators=100, n_jobs=None, num_parallel_tree=None,\n",
       "                 random_state=None, reg_alpha=None, reg_lambda=None,\n",
       "                 scale_pos_weight=None, subsample=None, tree_method=None,\n",
       "                 validate_parameters=None, verbosity=None)],\n",
       "  'classifier__n_estimators': (10, 20)},\n",
       " {'selector_switch': [ItemSelector(key='Raw_Review')],\n",
       "  'preprocessor': [CountVectorizer()],\n",
       "  'preprocessor__max_features': (100, 1000, 10000),\n",
       "  'topicizer': [LatentDirichletAllocation(learning_method='online', learning_offset=50.0,\n",
       "                             random_state=0)],\n",
       "  'classifier': [RandomForestClassifier()],\n",
       "  'classifier__n_estimators': (10, 200)},\n",
       " {'selector_switch': [ItemSelector(key='Raw_Review')],\n",
       "  'preprocessor': [CountVectorizer()],\n",
       "  'preprocessor__max_features': (100, 1000, 10000),\n",
       "  'topicizer': ['passthrough'],\n",
       "  'classifier': [XGBClassifier(base_score=None, booster=None, colsample_bylevel=None,\n",
       "                 colsample_bynode=None, colsample_bytree=None, gamma=None,\n",
       "                 gpu_id=None, importance_type='gain', interaction_constraints=None,\n",
       "                 learning_rate=None, max_delta_step=None, max_depth=None,\n",
       "                 min_child_weight=None, missing=nan, monotone_constraints=None,\n",
       "                 n_estimators=100, n_jobs=None, num_parallel_tree=None,\n",
       "                 random_state=None, reg_alpha=None, reg_lambda=None,\n",
       "                 scale_pos_weight=None, subsample=None, tree_method=None,\n",
       "                 validate_parameters=None, verbosity=None)],\n",
       "  'classifier__n_estimators': (10, 20)},\n",
       " {'selector_switch': [ItemSelector(key='Raw_Review')],\n",
       "  'preprocessor': [CountVectorizer()],\n",
       "  'preprocessor__max_features': (100, 1000, 10000),\n",
       "  'topicizer': ['passthrough'],\n",
       "  'classifier': [RandomForestClassifier()],\n",
       "  'classifier__n_estimators': (10, 200)}]"
      ]
     },
     "execution_count": 308,
     "metadata": {},
     "output_type": "execute_result"
    }
   ],
   "source": [
    "grid_search = RandomizedSearchCV(pipe\n",
    "                                 , param_grids_list\n",
    "                                 , n_iter=5\n",
    "                                 , scoring='accuracy')\n",
    "print(param_grids_list)\n",
    "param_grids_list\n"
   ]
  },
  {
   "cell_type": "code",
   "execution_count": 309,
   "id": "ab0ecd2a",
   "metadata": {},
   "outputs": [
    {
     "name": "stderr",
     "output_type": "stream",
     "text": [
      "C:\\Users\\pinba\\anaconda3\\lib\\site-packages\\ipykernel\\ipkernel.py:287: DeprecationWarning:\n",
      "\n",
      "`should_run_async` will not call `transform_cell` automatically in the future. Please pass the result to `transformed_cell` argument and any exception that happen during thetransform in `preprocessing_exc_tuple` in IPython 7.17 and above.\n",
      "\n",
      "C:\\Users\\pinba\\anaconda3\\lib\\site-packages\\xgboost\\sklearn.py:1146: UserWarning:\n",
      "\n",
      "The use of label encoder in XGBClassifier is deprecated and will be removed in a future release. To remove this warning, do the following: 1) Pass option use_label_encoder=False when constructing XGBClassifier object; and 2) Encode your labels (y) as integers starting with 0, i.e. 0, 1, 2, ..., [num_class - 1].\n",
      "\n"
     ]
    },
    {
     "name": "stdout",
     "output_type": "stream",
     "text": [
      "[10:23:47] WARNING: C:/Users/Administrator/workspace/xgboost-win64_release_1.4.0/src/learner.cc:1095: Starting in XGBoost 1.3.0, the default evaluation metric used with the objective 'binary:logistic' was changed from 'error' to 'logloss'. Explicitly set eval_metric if you'd like to restore the old behavior.\n"
     ]
    },
    {
     "name": "stderr",
     "output_type": "stream",
     "text": [
      "C:\\Users\\pinba\\anaconda3\\lib\\site-packages\\xgboost\\sklearn.py:1146: UserWarning:\n",
      "\n",
      "The use of label encoder in XGBClassifier is deprecated and will be removed in a future release. To remove this warning, do the following: 1) Pass option use_label_encoder=False when constructing XGBClassifier object; and 2) Encode your labels (y) as integers starting with 0, i.e. 0, 1, 2, ..., [num_class - 1].\n",
      "\n"
     ]
    },
    {
     "name": "stdout",
     "output_type": "stream",
     "text": [
      "[10:23:52] WARNING: C:/Users/Administrator/workspace/xgboost-win64_release_1.4.0/src/learner.cc:1095: Starting in XGBoost 1.3.0, the default evaluation metric used with the objective 'binary:logistic' was changed from 'error' to 'logloss'. Explicitly set eval_metric if you'd like to restore the old behavior.\n"
     ]
    },
    {
     "name": "stderr",
     "output_type": "stream",
     "text": [
      "C:\\Users\\pinba\\anaconda3\\lib\\site-packages\\xgboost\\sklearn.py:1146: UserWarning:\n",
      "\n",
      "The use of label encoder in XGBClassifier is deprecated and will be removed in a future release. To remove this warning, do the following: 1) Pass option use_label_encoder=False when constructing XGBClassifier object; and 2) Encode your labels (y) as integers starting with 0, i.e. 0, 1, 2, ..., [num_class - 1].\n",
      "\n"
     ]
    },
    {
     "name": "stdout",
     "output_type": "stream",
     "text": [
      "[10:23:54] WARNING: C:/Users/Administrator/workspace/xgboost-win64_release_1.4.0/src/learner.cc:1095: Starting in XGBoost 1.3.0, the default evaluation metric used with the objective 'binary:logistic' was changed from 'error' to 'logloss'. Explicitly set eval_metric if you'd like to restore the old behavior.\n"
     ]
    },
    {
     "name": "stderr",
     "output_type": "stream",
     "text": [
      "C:\\Users\\pinba\\anaconda3\\lib\\site-packages\\xgboost\\sklearn.py:1146: UserWarning:\n",
      "\n",
      "The use of label encoder in XGBClassifier is deprecated and will be removed in a future release. To remove this warning, do the following: 1) Pass option use_label_encoder=False when constructing XGBClassifier object; and 2) Encode your labels (y) as integers starting with 0, i.e. 0, 1, 2, ..., [num_class - 1].\n",
      "\n"
     ]
    },
    {
     "name": "stdout",
     "output_type": "stream",
     "text": [
      "[10:23:57] WARNING: C:/Users/Administrator/workspace/xgboost-win64_release_1.4.0/src/learner.cc:1095: Starting in XGBoost 1.3.0, the default evaluation metric used with the objective 'binary:logistic' was changed from 'error' to 'logloss'. Explicitly set eval_metric if you'd like to restore the old behavior.\n"
     ]
    },
    {
     "name": "stderr",
     "output_type": "stream",
     "text": [
      "C:\\Users\\pinba\\anaconda3\\lib\\site-packages\\xgboost\\sklearn.py:1146: UserWarning:\n",
      "\n",
      "The use of label encoder in XGBClassifier is deprecated and will be removed in a future release. To remove this warning, do the following: 1) Pass option use_label_encoder=False when constructing XGBClassifier object; and 2) Encode your labels (y) as integers starting with 0, i.e. 0, 1, 2, ..., [num_class - 1].\n",
      "\n"
     ]
    },
    {
     "name": "stdout",
     "output_type": "stream",
     "text": [
      "[10:24:00] WARNING: C:/Users/Administrator/workspace/xgboost-win64_release_1.4.0/src/learner.cc:1095: Starting in XGBoost 1.3.0, the default evaluation metric used with the objective 'binary:logistic' was changed from 'error' to 'logloss'. Explicitly set eval_metric if you'd like to restore the old behavior.\n"
     ]
    },
    {
     "name": "stderr",
     "output_type": "stream",
     "text": [
      "C:\\Users\\pinba\\anaconda3\\lib\\site-packages\\xgboost\\sklearn.py:1146: UserWarning:\n",
      "\n",
      "The use of label encoder in XGBClassifier is deprecated and will be removed in a future release. To remove this warning, do the following: 1) Pass option use_label_encoder=False when constructing XGBClassifier object; and 2) Encode your labels (y) as integers starting with 0, i.e. 0, 1, 2, ..., [num_class - 1].\n",
      "\n"
     ]
    },
    {
     "name": "stdout",
     "output_type": "stream",
     "text": [
      "[10:24:01] WARNING: C:/Users/Administrator/workspace/xgboost-win64_release_1.4.0/src/learner.cc:1095: Starting in XGBoost 1.3.0, the default evaluation metric used with the objective 'binary:logistic' was changed from 'error' to 'logloss'. Explicitly set eval_metric if you'd like to restore the old behavior.\n"
     ]
    },
    {
     "name": "stderr",
     "output_type": "stream",
     "text": [
      "C:\\Users\\pinba\\anaconda3\\lib\\site-packages\\xgboost\\sklearn.py:1146: UserWarning:\n",
      "\n",
      "The use of label encoder in XGBClassifier is deprecated and will be removed in a future release. To remove this warning, do the following: 1) Pass option use_label_encoder=False when constructing XGBClassifier object; and 2) Encode your labels (y) as integers starting with 0, i.e. 0, 1, 2, ..., [num_class - 1].\n",
      "\n"
     ]
    },
    {
     "name": "stdout",
     "output_type": "stream",
     "text": [
      "[10:24:02] WARNING: C:/Users/Administrator/workspace/xgboost-win64_release_1.4.0/src/learner.cc:1095: Starting in XGBoost 1.3.0, the default evaluation metric used with the objective 'binary:logistic' was changed from 'error' to 'logloss'. Explicitly set eval_metric if you'd like to restore the old behavior.\n"
     ]
    },
    {
     "name": "stderr",
     "output_type": "stream",
     "text": [
      "C:\\Users\\pinba\\anaconda3\\lib\\site-packages\\xgboost\\sklearn.py:1146: UserWarning:\n",
      "\n",
      "The use of label encoder in XGBClassifier is deprecated and will be removed in a future release. To remove this warning, do the following: 1) Pass option use_label_encoder=False when constructing XGBClassifier object; and 2) Encode your labels (y) as integers starting with 0, i.e. 0, 1, 2, ..., [num_class - 1].\n",
      "\n"
     ]
    },
    {
     "name": "stdout",
     "output_type": "stream",
     "text": [
      "[10:24:02] WARNING: C:/Users/Administrator/workspace/xgboost-win64_release_1.4.0/src/learner.cc:1095: Starting in XGBoost 1.3.0, the default evaluation metric used with the objective 'binary:logistic' was changed from 'error' to 'logloss'. Explicitly set eval_metric if you'd like to restore the old behavior.\n"
     ]
    },
    {
     "name": "stderr",
     "output_type": "stream",
     "text": [
      "C:\\Users\\pinba\\anaconda3\\lib\\site-packages\\xgboost\\sklearn.py:1146: UserWarning:\n",
      "\n",
      "The use of label encoder in XGBClassifier is deprecated and will be removed in a future release. To remove this warning, do the following: 1) Pass option use_label_encoder=False when constructing XGBClassifier object; and 2) Encode your labels (y) as integers starting with 0, i.e. 0, 1, 2, ..., [num_class - 1].\n",
      "\n"
     ]
    },
    {
     "name": "stdout",
     "output_type": "stream",
     "text": [
      "[10:24:03] WARNING: C:/Users/Administrator/workspace/xgboost-win64_release_1.4.0/src/learner.cc:1095: Starting in XGBoost 1.3.0, the default evaluation metric used with the objective 'binary:logistic' was changed from 'error' to 'logloss'. Explicitly set eval_metric if you'd like to restore the old behavior.\n"
     ]
    },
    {
     "name": "stderr",
     "output_type": "stream",
     "text": [
      "C:\\Users\\pinba\\anaconda3\\lib\\site-packages\\xgboost\\sklearn.py:1146: UserWarning:\n",
      "\n",
      "The use of label encoder in XGBClassifier is deprecated and will be removed in a future release. To remove this warning, do the following: 1) Pass option use_label_encoder=False when constructing XGBClassifier object; and 2) Encode your labels (y) as integers starting with 0, i.e. 0, 1, 2, ..., [num_class - 1].\n",
      "\n"
     ]
    },
    {
     "name": "stdout",
     "output_type": "stream",
     "text": [
      "[10:24:04] WARNING: C:/Users/Administrator/workspace/xgboost-win64_release_1.4.0/src/learner.cc:1095: Starting in XGBoost 1.3.0, the default evaluation metric used with the objective 'binary:logistic' was changed from 'error' to 'logloss'. Explicitly set eval_metric if you'd like to restore the old behavior.\n"
     ]
    },
    {
     "name": "stderr",
     "output_type": "stream",
     "text": [
      "C:\\Users\\pinba\\anaconda3\\lib\\site-packages\\xgboost\\sklearn.py:1146: UserWarning:\n",
      "\n",
      "The use of label encoder in XGBClassifier is deprecated and will be removed in a future release. To remove this warning, do the following: 1) Pass option use_label_encoder=False when constructing XGBClassifier object; and 2) Encode your labels (y) as integers starting with 0, i.e. 0, 1, 2, ..., [num_class - 1].\n",
      "\n"
     ]
    },
    {
     "name": "stdout",
     "output_type": "stream",
     "text": [
      "[10:24:21] WARNING: C:/Users/Administrator/workspace/xgboost-win64_release_1.4.0/src/learner.cc:1095: Starting in XGBoost 1.3.0, the default evaluation metric used with the objective 'binary:logistic' was changed from 'error' to 'logloss'. Explicitly set eval_metric if you'd like to restore the old behavior.\n",
      "search iteration train ratio 0.100 rows 2399.0\n",
      "done in 5920.085s\n",
      "Best score: 0.943\n",
      "Best parameters set:\n",
      "(0): \tclassifier  XGBClassifier(base_score=0.5, booster='gbtree', colsample_bylevel=1,\n",
      "              colsample_bynode=1, colsample_bytree=1, gamma=0, gpu_id=-1,\n",
      "              importance_type='gain', interaction_constraints='',\n",
      "              learning_rate=0.300000012, max_delta_step=0, max_depth=6,\n",
      "              min_child_weight=1, missing=nan, monotone_constraints='()',\n",
      "              n_estimators=20, n_jobs=4, num_parallel_tree=1, random_state=0,\n",
      "              reg_alpha=0, reg_lambda=1, scale_pos_weight=1, subsample=1,\n",
      "              tree_method='exact', validate_parameters=1, verbosity=None)\n",
      "(1): \tclassifier__n_estimators  20\n",
      "(2): \tpreprocessor  TfidfVectorizer(max_features=1000, ngram_range=(2, 4))\n",
      "(3): \tpreprocessor__max_features  1000\n",
      "(4): \tpreprocessor__ngram_range  (2, 4)\n",
      "(5): \tpreprocessor__stop_words  None\n",
      "(6): \tselector_switch  ItemSelector(key='Raw_Review')\n",
      "(7): \ttopicizer  'passthrough'\n",
      "\n",
      "confusion matrix\n",
      "[[2257    1]\n",
      " [ 114   27]]\n",
      "accuracy score\n",
      "0.9520633597332222\n",
      "## iteration end #####################################\n"
     ]
    }
   ],
   "source": [
    "# fit gridsearch / pipeline\n",
    "grid_search.fit(X, y)\n",
    "\n",
    "# search metrics\n",
    "print(\"search iteration train ratio %0.3f rows %0.1f\" % (0.1 ,len(y_train)))\n",
    "print(\"done in %0.3fs\" % (time() - t0))\n",
    "print(\"Best score: %0.3f\" % grid_search.best_score_)\n",
    "print(\"Best parameters set:\")\n",
    "\n",
    "# grid search parameters\n",
    "best_parameters = grid_search.best_estimator_.get_params()\n",
    "\n",
    "# loop through each parameter, displaying top result\n",
    "i=0\n",
    "#for param_name in sorted(parameters[0]):\n",
    "for param_name in sorted(param_grids_list[0]):\n",
    "    print(\"(%r): \\t%s  %r\" % (i, param_name, best_parameters[param_name]))\n",
    "\n",
    "    # record recent heights\n",
    "    # if param_name = 'union__review__vectorizer__max_df':\n",
    "    if 'union__review__vectorizer__max_df' in param_name:\n",
    "        auto_max_term_frq = (\n",
    "                             auto_term_frequency_max(best_parameters[param_name]  # seed value, previous nominal hyper-parameter\n",
    "                                                     ,2                           # hyper-parameter(s) max value\n",
    "                                                     ,0                           # hyper-parameter(s) min value\n",
    "                                                     ,0.2                         # hyper-parameter(s) range growth rate\n",
    "                                                     ,'float'                     # output numerical type (float/int)\n",
    "                                                     ,False)                      # print hyper parameter array?\n",
    "                            )\n",
    "        print(\"Iterative Adjusted Term Freq Ranges\")\n",
    "        print(auto_max_term_frq)\n",
    "    i=i+1\n",
    "\n",
    "y_pred = grid_search.predict(X_test)\n",
    "print(\"\")\n",
    "print(\"confusion matrix\")\n",
    "print(metrics.confusion_matrix(y_test, y_pred))\n",
    "print(\"accuracy score\")\n",
    "print(metrics.accuracy_score(y_test, y_pred))\n",
    "print(\"## iteration end #####################################\")\n",
    "#print(classification_report(y_pred, y_test))"
   ]
  },
  {
   "cell_type": "code",
   "execution_count": 380,
   "id": "42d2c715",
   "metadata": {},
   "outputs": [
    {
     "name": "stderr",
     "output_type": "stream",
     "text": [
      "C:\\Users\\pinba\\anaconda3\\lib\\site-packages\\ipykernel\\ipkernel.py:287: DeprecationWarning:\n",
      "\n",
      "`should_run_async` will not call `transform_cell` automatically in the future. Please pass the result to `transformed_cell` argument and any exception that happen during thetransform in `preprocessing_exc_tuple` in IPython 7.17 and above.\n",
      "\n"
     ]
    },
    {
     "data": {
      "text/plain": [
       "it is very           0.031312\n",
       "the food             0.026597\n",
       "trying to            0.025608\n",
       "needs to             0.025026\n",
       "by the               0.023918\n",
       "should be            0.022854\n",
       "this school          0.022486\n",
       "the cafeteria        0.022292\n",
       "and even             0.022036\n",
       "to go                0.021960\n",
       "do not               0.021886\n",
       "did not              0.021599\n",
       "focus on             0.021471\n",
       "administration is    0.021408\n",
       "not really           0.021400\n",
       "like they            0.021070\n",
       "could be             0.019951\n",
       "of the school        0.019942\n",
       "to know              0.019788\n",
       "know how             0.019765\n",
       "dtype: float32"
      ]
     },
     "execution_count": 380,
     "metadata": {},
     "output_type": "execute_result"
    }
   ],
   "source": []
  },
  {
   "cell_type": "code",
   "execution_count": 318,
   "id": "d5d4fd0b",
   "metadata": {},
   "outputs": [
    {
     "name": "stderr",
     "output_type": "stream",
     "text": [
      "C:\\Users\\pinba\\anaconda3\\lib\\site-packages\\ipykernel\\ipkernel.py:287: DeprecationWarning:\n",
      "\n",
      "`should_run_async` will not call `transform_cell` automatically in the future. Please pass the result to `transformed_cell` argument and any exception that happen during thetransform in `preprocessing_exc_tuple` in IPython 7.17 and above.\n",
      "\n"
     ]
    },
    {
     "data": {
      "text/plain": [
       "TfidfVectorizer(max_features=1000, ngram_range=(2, 4))"
      ]
     },
     "execution_count": 318,
     "metadata": {},
     "output_type": "execute_result"
    }
   ],
   "source": [
    "# determine nlp factors (ex. if topicizer and/or vectorizer is used)\n",
    "\n",
    "best_topicizer = grid_search.best_estimator_.named_steps['topicizer']\n",
    "\n",
    "best_preprocessor = grid_search.best_estimator_.named_steps['preprocessor']\n",
    "\n",
    "# check if topicizer is used\n",
    "if best_topicizer == 'passthrough':\n",
    "    best_factors = best_preprocessor\n",
    "else:\n",
    "    best_factors = best_topicizer\n",
    "\n",
    "best_factors"
   ]
  },
  {
   "cell_type": "code",
   "execution_count": 373,
   "id": "6b3839a7",
   "metadata": {},
   "outputs": [
    {
     "name": "stderr",
     "output_type": "stream",
     "text": [
      "C:\\Users\\pinba\\anaconda3\\lib\\site-packages\\ipykernel\\ipkernel.py:287: DeprecationWarning:\n",
      "\n",
      "`should_run_async` will not call `transform_cell` automatically in the future. Please pass the result to `transformed_cell` argument and any exception that happen during thetransform in `preprocessing_exc_tuple` in IPython 7.17 and above.\n",
      "\n"
     ]
    },
    {
     "data": {
      "text/plain": [
       "['able to',\n",
       " 'about the',\n",
       " 'about the students',\n",
       " 'about their',\n",
       " 'about their students',\n",
       " 'about their students and',\n",
       " 'above and',\n",
       " 'above and beyond',\n",
       " 'academics and',\n",
       " 'academics are',\n",
       " 'activities and',\n",
       " 'activities are',\n",
       " 'activities to',\n",
       " 'administration is',\n",
       " 'advanced classes',\n",
       " 'after school',\n",
       " 'albany high',\n",
       " 'albany high school',\n",
       " 'albany senior',\n",
       " 'albany senior high',\n",
       " 'albany senior high schoolrate',\n",
       " 'all of',\n",
       " 'all of the',\n",
       " 'all students',\n",
       " 'all the',\n",
       " 'all the teachers',\n",
       " 'all very',\n",
       " 'almost all',\n",
       " 'almost every',\n",
       " 'along with',\n",
       " 'also have',\n",
       " 'always available',\n",
       " 'amazing teachers',\n",
       " 'amount of',\n",
       " 'an amazing',\n",
       " 'and activities',\n",
       " 'and all',\n",
       " 'and always',\n",
       " 'and am',\n",
       " 'and are',\n",
       " 'and beyond',\n",
       " 'and can',\n",
       " 'and do',\n",
       " 'and don',\n",
       " 'and even',\n",
       " 'and every',\n",
       " 'and everyone',\n",
       " 'and faculty',\n",
       " 'and feel',\n",
       " 'and get',\n",
       " 'and great',\n",
       " 'and has',\n",
       " 'and have',\n",
       " 'and help',\n",
       " 'and helpful',\n",
       " 'and how',\n",
       " 'and if',\n",
       " 'and in',\n",
       " 'and is',\n",
       " 'and it',\n",
       " 'and it is',\n",
       " 'and make',\n",
       " 'and many',\n",
       " 'and most',\n",
       " 'and my',\n",
       " 'and not',\n",
       " 'and organizations',\n",
       " 'and our',\n",
       " 'and really',\n",
       " 'and some',\n",
       " 'and sports',\n",
       " 'and staff',\n",
       " 'and students',\n",
       " 'and teachers',\n",
       " 'and that',\n",
       " 'and the',\n",
       " 'and the school',\n",
       " 'and the teachers',\n",
       " 'and their',\n",
       " 'and there',\n",
       " 'and there are',\n",
       " 'and there is',\n",
       " 'and they',\n",
       " 'and they are',\n",
       " 'and to',\n",
       " 'and very',\n",
       " 'and want',\n",
       " 'and we',\n",
       " 'and will',\n",
       " 'and you',\n",
       " 'any of',\n",
       " 'any other',\n",
       " 'any other school',\n",
       " 'ap and',\n",
       " 'ap classes',\n",
       " 'are all',\n",
       " 'are all very',\n",
       " 'are also',\n",
       " 'are always',\n",
       " 'are amazing',\n",
       " 'are available',\n",
       " 'are excellent',\n",
       " 'are few',\n",
       " 'are good',\n",
       " 'are great',\n",
       " 'are in',\n",
       " 'are involved',\n",
       " 'are lot',\n",
       " 'are lot of',\n",
       " 'are many',\n",
       " 'are more',\n",
       " 'are not',\n",
       " 'are pretty',\n",
       " 'are pretty good',\n",
       " 'are really',\n",
       " 'are so',\n",
       " 'are so many',\n",
       " 'are some',\n",
       " 'are the',\n",
       " 'are very',\n",
       " 'are very good',\n",
       " 'are very helpful',\n",
       " 'are willing',\n",
       " 'are willing to',\n",
       " 'as much',\n",
       " 'as student',\n",
       " 'as the',\n",
       " 'as they',\n",
       " 'as well',\n",
       " 'as well as',\n",
       " 'at all',\n",
       " 'at fairview',\n",
       " 'at fairview are',\n",
       " 'at fc',\n",
       " 'at floyd',\n",
       " 'at floyd central',\n",
       " 'at floyd central high',\n",
       " 'at gilbert',\n",
       " 'at gilbert high',\n",
       " 'at gilbert high school',\n",
       " 'at least',\n",
       " 'at my',\n",
       " 'at my school',\n",
       " 'at new',\n",
       " 'at new albany',\n",
       " 'at north',\n",
       " 'at our',\n",
       " 'at our school',\n",
       " 'at school',\n",
       " 'at the',\n",
       " 'at the school',\n",
       " 'at this',\n",
       " 'at this school',\n",
       " 'at this school are',\n",
       " 'at times',\n",
       " 'available for',\n",
       " 'available to',\n",
       " 'be involved',\n",
       " 'be more',\n",
       " 'be the',\n",
       " 'be very',\n",
       " 'because it',\n",
       " 'because of',\n",
       " 'because the',\n",
       " 'because they',\n",
       " 'been great',\n",
       " 'believe that',\n",
       " 'best in',\n",
       " 'building is',\n",
       " 'bullying and',\n",
       " 'bullying is',\n",
       " 'but have',\n",
       " 'but it',\n",
       " 'but most',\n",
       " 'but some',\n",
       " 'but that',\n",
       " 'but the',\n",
       " 'but there',\n",
       " 'but there are',\n",
       " 'but there is',\n",
       " 'but they',\n",
       " 'but we',\n",
       " 'by the',\n",
       " 'can be',\n",
       " 'can find',\n",
       " 'can get',\n",
       " 'care about',\n",
       " 'care about the',\n",
       " 'care about the students',\n",
       " 'care about their',\n",
       " 'care about their students',\n",
       " 'care of',\n",
       " 'cares about',\n",
       " 'central high',\n",
       " 'central high school',\n",
       " 'central high schoolrate',\n",
       " 'central high schoolrate it',\n",
       " 'central is',\n",
       " 'choose from',\n",
       " 'choose to',\n",
       " 'class and',\n",
       " 'classes and',\n",
       " 'classes are',\n",
       " 'classes that',\n",
       " 'classes there',\n",
       " 'classes to',\n",
       " 'club and',\n",
       " 'clubs and',\n",
       " 'clubs and organizations',\n",
       " 'clubs are',\n",
       " 'clubs to',\n",
       " 'code is',\n",
       " 'college and',\n",
       " 'college prep',\n",
       " 'comes to',\n",
       " 'could be',\n",
       " 'counselors are',\n",
       " 'curricular activities',\n",
       " 'department is',\n",
       " 'did not',\n",
       " 'difficult to',\n",
       " 'do have',\n",
       " 'do it',\n",
       " 'do not',\n",
       " 'does not',\n",
       " 'don have',\n",
       " 'don know',\n",
       " 'dress code',\n",
       " 'dress code is',\n",
       " 'dual credit',\n",
       " 'due to',\n",
       " 'during the',\n",
       " 'each other',\n",
       " 'easy to',\n",
       " 'edmond north',\n",
       " 'education and',\n",
       " 'enjoyed my',\n",
       " 'even though',\n",
       " 'every day',\n",
       " 'every student',\n",
       " 'everyone is',\n",
       " 'everything is',\n",
       " 'experience at',\n",
       " 'experience for',\n",
       " 'experience with',\n",
       " 'extra curricular',\n",
       " 'extracurricular activities',\n",
       " 'extracurricular opportunities',\n",
       " 'facilities are',\n",
       " 'fact that',\n",
       " 'faculty and',\n",
       " 'fairview are',\n",
       " 'fairview has',\n",
       " 'fairview high',\n",
       " 'fairview high school',\n",
       " 'fairview high schoolrate',\n",
       " 'fairview high schoolrate it',\n",
       " 'fairview is',\n",
       " 'feel like',\n",
       " 'feel safe',\n",
       " 'feel that',\n",
       " 'felt like',\n",
       " 'few that',\n",
       " 'floyd central',\n",
       " 'floyd central high',\n",
       " 'floyd central high school',\n",
       " 'floyd central high schoolrate',\n",
       " 'floyd central is',\n",
       " 'focus on',\n",
       " 'food is',\n",
       " 'football games',\n",
       " 'football team',\n",
       " 'for all',\n",
       " 'for college',\n",
       " 'for college and',\n",
       " 'for everyone',\n",
       " 'for me',\n",
       " 'for my',\n",
       " 'for students',\n",
       " 'for students to',\n",
       " 'for the',\n",
       " 'for the most',\n",
       " 'for the most part',\n",
       " 'for the real',\n",
       " 'for the real world',\n",
       " 'for the students',\n",
       " 'for their',\n",
       " 'for those',\n",
       " 'for you',\n",
       " 'four years',\n",
       " 'freshman year',\n",
       " 'friendly and',\n",
       " 'friends and',\n",
       " 'from the',\n",
       " 'full of',\n",
       " 'fun and',\n",
       " 'get involved',\n",
       " 'get involved in',\n",
       " 'get the',\n",
       " 'get to',\n",
       " 'gilbert high',\n",
       " 'gilbert high is',\n",
       " 'gilbert high school',\n",
       " 'gilbert high school has',\n",
       " 'gilbert high school is',\n",
       " 'go above',\n",
       " 'go above and',\n",
       " 'go above and beyond',\n",
       " 'go out',\n",
       " 'go to',\n",
       " 'going on',\n",
       " 'going to',\n",
       " 'good and',\n",
       " 'good at',\n",
       " 'good but',\n",
       " 'good job',\n",
       " 'good school',\n",
       " 'good teachers',\n",
       " 'great and',\n",
       " 'great experience',\n",
       " 'great school',\n",
       " 'great teachers',\n",
       " 'group of',\n",
       " 'guidance counselors',\n",
       " 'had an',\n",
       " 'had great',\n",
       " 'had some',\n",
       " 'had the',\n",
       " 'had to',\n",
       " 'hard to',\n",
       " 'has been',\n",
       " 'has lot',\n",
       " 'has many',\n",
       " 'have an',\n",
       " 'have been',\n",
       " 'have great',\n",
       " 'have had',\n",
       " 'have learned',\n",
       " 'have lot',\n",
       " 'have made',\n",
       " 'have many',\n",
       " 'have never',\n",
       " 'have the',\n",
       " 'have to',\n",
       " 'have very',\n",
       " 'help and',\n",
       " 'help students',\n",
       " 'help the',\n",
       " 'help with',\n",
       " 'help you',\n",
       " 'helped me',\n",
       " 'helpful and',\n",
       " 'henryville junior',\n",
       " 'henryville junior senior',\n",
       " 'henryville junior senior high',\n",
       " 'here are',\n",
       " 'high is',\n",
       " 'high school',\n",
       " 'high school and',\n",
       " 'high school experience',\n",
       " 'high school has',\n",
       " 'high school has been',\n",
       " 'high school is',\n",
       " 'high school the',\n",
       " 'high school was',\n",
       " 'high schoolrate',\n",
       " 'high schoolrate it',\n",
       " 'high schools',\n",
       " 'how to',\n",
       " 'however it',\n",
       " 'however the',\n",
       " 'if the',\n",
       " 'if there',\n",
       " 'if they',\n",
       " 'if you',\n",
       " 'if you are',\n",
       " 'in all',\n",
       " 'in and',\n",
       " 'in any',\n",
       " 'in class',\n",
       " 'in general',\n",
       " 'in high',\n",
       " 'in high school',\n",
       " 'in my',\n",
       " 'in order',\n",
       " 'in order to',\n",
       " 'in our',\n",
       " 'in school',\n",
       " 'in sports',\n",
       " 'in that',\n",
       " 'in the',\n",
       " 'in the area',\n",
       " 'in the school',\n",
       " 'in the state',\n",
       " 'in their',\n",
       " 'in this',\n",
       " 'interested in',\n",
       " 'into the',\n",
       " 'involved in',\n",
       " 'involved with',\n",
       " 'is also',\n",
       " 'is always',\n",
       " 'is amazing',\n",
       " 'is an',\n",
       " 'is good',\n",
       " 'is great',\n",
       " 'is great school',\n",
       " 'is in',\n",
       " 'is lot',\n",
       " 'is lot of',\n",
       " 'is no',\n",
       " 'is not',\n",
       " 'is one',\n",
       " 'is one of',\n",
       " 'is one of the',\n",
       " 'is pretty',\n",
       " 'is pretty good',\n",
       " 'is really',\n",
       " 'is safe',\n",
       " 'is so',\n",
       " 'is that',\n",
       " 'is the',\n",
       " 'is very',\n",
       " 'is very good',\n",
       " 'is wide',\n",
       " 'it all',\n",
       " 'it can',\n",
       " 'it comes',\n",
       " 'it comes to',\n",
       " 'it has',\n",
       " 'it is',\n",
       " 'it is very',\n",
       " 'it the',\n",
       " 'it very',\n",
       " 'it was',\n",
       " 'it would',\n",
       " 'it would be',\n",
       " 'junior senior',\n",
       " 'junior senior high',\n",
       " 'kind and',\n",
       " 'kind of',\n",
       " 'know how',\n",
       " 'know that',\n",
       " 'know what',\n",
       " 'lack of',\n",
       " 'learn and',\n",
       " 'learning environment',\n",
       " 'like that',\n",
       " 'like the',\n",
       " 'like they',\n",
       " 'like to',\n",
       " 'like to see',\n",
       " 'lot of',\n",
       " 'lots of',\n",
       " 'love my',\n",
       " 'love the',\n",
       " 'majority of',\n",
       " 'majority of the',\n",
       " 'make it',\n",
       " 'make sure',\n",
       " 'make the',\n",
       " 'many clubs',\n",
       " 'many different',\n",
       " 'many extracurricular',\n",
       " 'many of',\n",
       " 'many of the',\n",
       " 'many opportunities',\n",
       " 'many people',\n",
       " 'many students',\n",
       " 'marching band',\n",
       " 'me and',\n",
       " 'me for',\n",
       " 'me to',\n",
       " 'more than',\n",
       " 'most of',\n",
       " 'most of my',\n",
       " 'most of the',\n",
       " 'most of the teachers',\n",
       " 'most part',\n",
       " 'most people',\n",
       " 'most students',\n",
       " 'most teachers',\n",
       " 'most teachers are',\n",
       " 'much more',\n",
       " 'my experience',\n",
       " 'my experience at',\n",
       " 'my favorite',\n",
       " 'my friends',\n",
       " 'my future',\n",
       " 'my high',\n",
       " 'my high school',\n",
       " 'my life',\n",
       " 'my own',\n",
       " 'my school',\n",
       " 'my school is',\n",
       " 'my senior',\n",
       " 'my senior year',\n",
       " 'my teachers',\n",
       " 'my time',\n",
       " 'need to',\n",
       " 'need to be',\n",
       " 'needs to',\n",
       " 'never had',\n",
       " 'new albany',\n",
       " 'new albany high',\n",
       " 'new albany high school',\n",
       " 'new albany senior',\n",
       " 'new albany senior high',\n",
       " 'nice and',\n",
       " 'no matter',\n",
       " 'no one',\n",
       " 'north is',\n",
       " 'not have',\n",
       " 'not only',\n",
       " 'not really',\n",
       " 'not the',\n",
       " 'not very',\n",
       " 'number of',\n",
       " 'of all',\n",
       " 'of classes',\n",
       " 'of clubs',\n",
       " 'of clubs and',\n",
       " 'of different',\n",
       " 'of diversity',\n",
       " 'of extracurricular',\n",
       " 'of extracurricular activities',\n",
       " 'of fairview',\n",
       " 'of fairview high',\n",
       " 'of fairview high schoolrate',\n",
       " 'of floyd',\n",
       " 'of floyd central',\n",
       " 'of floyd central high',\n",
       " 'of high',\n",
       " 'of high school',\n",
       " 'of it',\n",
       " 'of my',\n",
       " 'of my teachers',\n",
       " 'of new',\n",
       " 'of new albany',\n",
       " 'of new albany senior',\n",
       " 'of opportunities',\n",
       " 'of our',\n",
       " 'of people',\n",
       " 'of school',\n",
       " 'of school spirit',\n",
       " 'of sports',\n",
       " 'of student',\n",
       " 'of students',\n",
       " 'of teachers',\n",
       " 'of that',\n",
       " 'of the',\n",
       " 'of the best',\n",
       " 'of the school',\n",
       " 'of the student',\n",
       " 'of the students',\n",
       " 'of the teachers',\n",
       " 'of the teachers are',\n",
       " 'of their',\n",
       " 'of them',\n",
       " 'of these',\n",
       " 'of this',\n",
       " 'on campus',\n",
       " 'on the',\n",
       " 'one of',\n",
       " 'one of the',\n",
       " 'one of the best',\n",
       " 'one thing',\n",
       " 'opportunities at',\n",
       " 'opportunities for',\n",
       " 'opportunities to',\n",
       " 'opportunity to',\n",
       " 'options for',\n",
       " 'order to',\n",
       " 'other school',\n",
       " 'other schools',\n",
       " 'other students',\n",
       " 'other than',\n",
       " 'our school',\n",
       " 'our school has',\n",
       " 'our school is',\n",
       " 'out of',\n",
       " 'outside of',\n",
       " 'over the',\n",
       " 'overall the',\n",
       " 'part of',\n",
       " 'part of the',\n",
       " 'participate in',\n",
       " 'peer pressure',\n",
       " 'people and',\n",
       " 'people are',\n",
       " 'people that',\n",
       " 'people who',\n",
       " 'place to',\n",
       " 'plenty of',\n",
       " 'police officer',\n",
       " 'prepared for',\n",
       " 'prepared for college',\n",
       " 'prepared me',\n",
       " 'pretty good',\n",
       " 'pretty much',\n",
       " 'problem with',\n",
       " 'program is',\n",
       " 'programs are',\n",
       " 'proud to',\n",
       " 'range of',\n",
       " 'rather than',\n",
       " 'ready for',\n",
       " 'real world',\n",
       " 'really care',\n",
       " 'really care about',\n",
       " 'really good',\n",
       " 'really like',\n",
       " 'review of',\n",
       " 'review of fairview',\n",
       " 'review of fairview high',\n",
       " 'review of floyd',\n",
       " 'review of floyd central',\n",
       " 'review of new',\n",
       " 'review of new albany',\n",
       " 'safe and',\n",
       " 'say that',\n",
       " 'school activities',\n",
       " 'school again',\n",
       " 'school also',\n",
       " 'school and',\n",
       " 'school are',\n",
       " 'school are very',\n",
       " 'school because',\n",
       " 'school but',\n",
       " 'school does',\n",
       " 'school experience',\n",
       " 'school for',\n",
       " 'school has',\n",
       " 'school has been',\n",
       " 'school have',\n",
       " 'school in',\n",
       " 'school in the',\n",
       " 'school is',\n",
       " 'school is very',\n",
       " 'school it',\n",
       " 'school offers',\n",
       " 'school so',\n",
       " 'school spirit',\n",
       " 'school spirit is',\n",
       " 'school that',\n",
       " 'school the',\n",
       " 'school the teachers',\n",
       " 'school there',\n",
       " 'school they',\n",
       " 'school to',\n",
       " 'school was',\n",
       " 'school we',\n",
       " 'school with',\n",
       " 'schoolrate it',\n",
       " 'schools in',\n",
       " 'security guards',\n",
       " 'seem to',\n",
       " 'seems to',\n",
       " 'senior high',\n",
       " 'senior high schoolrate',\n",
       " 'senior high schoolrate it',\n",
       " 'senior year',\n",
       " 'sexual orientation',\n",
       " 'should be',\n",
       " 'so many',\n",
       " 'so much',\n",
       " 'so that',\n",
       " 'some of',\n",
       " 'some of the',\n",
       " 'some of the best',\n",
       " 'some of the teachers',\n",
       " 'some students',\n",
       " 'some teachers',\n",
       " 'spirit is',\n",
       " 'sports and',\n",
       " 'sports are',\n",
       " 'sports teams',\n",
       " 'sports to',\n",
       " 'staff and',\n",
       " 'staff are',\n",
       " 'staff is',\n",
       " 'staff members',\n",
       " 'start your',\n",
       " 'start your review',\n",
       " 'start your review of',\n",
       " 'student body',\n",
       " 'students and',\n",
       " 'students are',\n",
       " 'students at',\n",
       " 'students but',\n",
       " 'students can',\n",
       " 'students for',\n",
       " 'students have',\n",
       " 'students in',\n",
       " 'students that',\n",
       " 'students the',\n",
       " 'students there',\n",
       " 'students they',\n",
       " 'students to',\n",
       " 'students who',\n",
       " 'students with',\n",
       " 'such as',\n",
       " 'sure that',\n",
       " 'taken care',\n",
       " 'teachers and',\n",
       " 'teachers and staff',\n",
       " 'teachers are',\n",
       " 'teachers are great',\n",
       " 'teachers are very',\n",
       " 'teachers at',\n",
       " 'teachers at gilbert',\n",
       " 'teachers care',\n",
       " 'teachers do',\n",
       " 'teachers have',\n",
       " 'teachers in',\n",
       " 'teachers really',\n",
       " 'teachers that',\n",
       " 'teachers were',\n",
       " 'teachers who',\n",
       " 'tend to',\n",
       " 'than the',\n",
       " 'that are',\n",
       " 'that can',\n",
       " 'that have',\n",
       " 'that is',\n",
       " 'that it',\n",
       " 'that students',\n",
       " 'that the',\n",
       " 'that there',\n",
       " 'that they',\n",
       " 'that was',\n",
       " 'that we',\n",
       " 'that will',\n",
       " 'that you',\n",
       " 'the academics',\n",
       " 'the administration',\n",
       " 'the amount',\n",
       " 'the amount of',\n",
       " 'the area',\n",
       " 'the athletic',\n",
       " 'the best',\n",
       " 'the building',\n",
       " 'the cafeteria',\n",
       " 'the class',\n",
       " 'the classes',\n",
       " 'the classroom',\n",
       " 'the clubs',\n",
       " 'the coaches',\n",
       " 'the community',\n",
       " 'the counselors',\n",
       " 'the day',\n",
       " 'the diversity',\n",
       " 'the dress',\n",
       " 'the dress code',\n",
       " 'the education',\n",
       " 'the environment',\n",
       " 'the facilities',\n",
       " 'the fact',\n",
       " 'the fact that',\n",
       " 'the faculty',\n",
       " 'the food',\n",
       " 'the food is',\n",
       " 'the football',\n",
       " 'the health',\n",
       " 'the high',\n",
       " 'the ib',\n",
       " 'the kids',\n",
       " 'the majority',\n",
       " 'the majority of',\n",
       " 'the most',\n",
       " 'the most part',\n",
       " 'the new',\n",
       " 'the office',\n",
       " 'the only',\n",
       " 'the opportunity',\n",
       " 'the opportunity to',\n",
       " 'the other',\n",
       " 'the past',\n",
       " 'the people',\n",
       " 'the policies',\n",
       " 'the principal',\n",
       " 'the real',\n",
       " 'the real world',\n",
       " 'the rules',\n",
       " 'the same',\n",
       " 'the school',\n",
       " 'the school and',\n",
       " 'the school has',\n",
       " 'the school is',\n",
       " 'the school spirit',\n",
       " 'the school was',\n",
       " 'the security',\n",
       " 'the sports',\n",
       " 'the staff',\n",
       " 'the state',\n",
       " 'the student',\n",
       " 'the student body',\n",
       " 'the students',\n",
       " 'the students and',\n",
       " 'the students are',\n",
       " 'the teacher',\n",
       " 'the teachers',\n",
       " 'the teachers and',\n",
       " 'the teachers are',\n",
       " 'the teachers are great',\n",
       " 'the teachers are very',\n",
       " 'the teachers at',\n",
       " 'the teachers were',\n",
       " 'the time',\n",
       " 'the way',\n",
       " 'the workload',\n",
       " 'the year',\n",
       " 'their best',\n",
       " 'their job',\n",
       " 'their own',\n",
       " 'their students',\n",
       " 'their students and',\n",
       " 'them and',\n",
       " 'them to',\n",
       " 'there are',\n",
       " 'there are also',\n",
       " 'there are few',\n",
       " 'there are lot',\n",
       " 'there are lot of',\n",
       " 'there are many',\n",
       " 'there are so',\n",
       " 'there are so many',\n",
       " 'there are some',\n",
       " 'there is',\n",
       " 'there is lot',\n",
       " 'there isn',\n",
       " 'there to',\n",
       " 'there was',\n",
       " 'there were',\n",
       " 'they also',\n",
       " 'they are',\n",
       " 'they are always',\n",
       " 'they can',\n",
       " 'they could',\n",
       " 'they do',\n",
       " 'they don',\n",
       " 'they have',\n",
       " 'they need',\n",
       " 'they need to',\n",
       " 'they re',\n",
       " 'they teach',\n",
       " 'they want',\n",
       " 'they were',\n",
       " 'they will',\n",
       " 'thing that',\n",
       " 'things that',\n",
       " 'think that',\n",
       " 'think the',\n",
       " 'this high',\n",
       " 'this high school',\n",
       " 'this is',\n",
       " 'this school',\n",
       " 'this school are',\n",
       " 'this school has',\n",
       " 'this school is',\n",
       " 'this year',\n",
       " 'those who',\n",
       " 'throughout the',\n",
       " 'time and',\n",
       " 'time at',\n",
       " 'time to',\n",
       " 'to attend',\n",
       " 'to be',\n",
       " 'to choose',\n",
       " 'to choose from',\n",
       " 'to college',\n",
       " 'to come',\n",
       " 'to do',\n",
       " 'to find',\n",
       " 'to get',\n",
       " 'to get involved',\n",
       " 'to get involved in',\n",
       " 'to go',\n",
       " 'to go to',\n",
       " 'to have',\n",
       " 'to help',\n",
       " 'to help students',\n",
       " 'to help you',\n",
       " 'to join',\n",
       " 'to keep',\n",
       " 'to know',\n",
       " 'to learn',\n",
       " 'to make',\n",
       " 'to make sure',\n",
       " 'to me',\n",
       " 'to my',\n",
       " 'to offer',\n",
       " 'to our',\n",
       " 'to participate',\n",
       " 'to participate in',\n",
       " 'to say',\n",
       " 'to school',\n",
       " 'to see',\n",
       " 'to stay',\n",
       " 'to students',\n",
       " 'to succeed',\n",
       " 'to take',\n",
       " 'to teach',\n",
       " 'to the',\n",
       " 'to their',\n",
       " 'to them',\n",
       " 'to this',\n",
       " 'to work',\n",
       " 'to work with',\n",
       " 'ton of',\n",
       " 'tons of',\n",
       " 'too much',\n",
       " 'top notch',\n",
       " 'top of',\n",
       " 'try to',\n",
       " 'trying to',\n",
       " 'types of',\n",
       " 'up for',\n",
       " 'up to',\n",
       " 'variety of',\n",
       " 'variety of clubs',\n",
       " 've had',\n",
       " 've never',\n",
       " 'very diverse',\n",
       " 'very few',\n",
       " 'very friendly',\n",
       " 'very good',\n",
       " 'very hard',\n",
       " 'very helpful',\n",
       " 'very involved',\n",
       " 'very much',\n",
       " 'very nice',\n",
       " 'very nice and',\n",
       " 'very safe',\n",
       " 'very well',\n",
       " 'want to',\n",
       " 'was able',\n",
       " 'was able to',\n",
       " 'was great',\n",
       " 'was not',\n",
       " 'was the',\n",
       " 'was very',\n",
       " 'way to',\n",
       " 'we all',\n",
       " 'we also',\n",
       " 'we are',\n",
       " 'we do',\n",
       " 'we had',\n",
       " 'we have',\n",
       " 'well and',\n",
       " 'well as',\n",
       " 'went to',\n",
       " 'were always',\n",
       " 'were very',\n",
       " 'what they',\n",
       " 'what you',\n",
       " 'when it',\n",
       " 'when it comes',\n",
       " 'when it comes to',\n",
       " 'when you',\n",
       " 'which is',\n",
       " 'who are',\n",
       " 'who have',\n",
       " 'wide range',\n",
       " 'wide range of',\n",
       " 'wide variety',\n",
       " 'wide variety of',\n",
       " 'will be',\n",
       " 'willing to',\n",
       " 'willing to help',\n",
       " 'with my',\n",
       " 'with students',\n",
       " 'with the',\n",
       " 'with their',\n",
       " 'work with',\n",
       " 'would be',\n",
       " 'would have',\n",
       " 'would like',\n",
       " 'would like to',\n",
       " 'would not',\n",
       " 'would say',\n",
       " 'year and',\n",
       " 'years and',\n",
       " 'years of',\n",
       " 'you are',\n",
       " 'you can',\n",
       " 'you get',\n",
       " 'you have',\n",
       " 'you need',\n",
       " 'you re',\n",
       " 'you to',\n",
       " 'you want',\n",
       " 'you want to',\n",
       " 'you will',\n",
       " 'your own',\n",
       " 'your review',\n",
       " 'your review of',\n",
       " 'your review of fairview',\n",
       " 'your review of floyd',\n",
       " 'your review of new']"
      ]
     },
     "execution_count": 373,
     "metadata": {},
     "output_type": "execute_result"
    }
   ],
   "source": [
    "best_preprocessor.get_feature_names()"
   ]
  },
  {
   "cell_type": "code",
   "execution_count": 381,
   "id": "bf377aa6",
   "metadata": {},
   "outputs": [
    {
     "name": "stderr",
     "output_type": "stream",
     "text": [
      "C:\\Users\\pinba\\anaconda3\\lib\\site-packages\\ipykernel\\ipkernel.py:287: DeprecationWarning:\n",
      "\n",
      "`should_run_async` will not call `transform_cell` automatically in the future. Please pass the result to `transformed_cell` argument and any exception that happen during thetransform in `preprocessing_exc_tuple` in IPython 7.17 and above.\n",
      "\n"
     ]
    },
    {
     "data": {
      "text/plain": [
       "it is very           0.031312\n",
       "the food             0.026597\n",
       "trying to            0.025608\n",
       "needs to             0.025026\n",
       "by the               0.023918\n",
       "should be            0.022854\n",
       "this school          0.022486\n",
       "the cafeteria        0.022292\n",
       "and even             0.022036\n",
       "to go                0.021960\n",
       "do not               0.021886\n",
       "did not              0.021599\n",
       "focus on             0.021471\n",
       "administration is    0.021408\n",
       "not really           0.021400\n",
       "like they            0.021070\n",
       "could be             0.019951\n",
       "of the school        0.019942\n",
       "to know              0.019788\n",
       "know how             0.019765\n",
       "dtype: float32"
      ]
     },
     "execution_count": 381,
     "metadata": {},
     "output_type": "execute_result"
    }
   ],
   "source": [
    "clf_feature_importance = grid_search.best_estimator_.named_steps['classifier'].feature_importances_\n",
    "clf_feature_importance \n",
    "\n",
    "\n",
    "\n",
    "features = np.array(list(best_preprocessor.get_feature_names()))\n",
    "\n",
    "feature_importance = pd.Series(data=clf_feature_importance\n",
    "                               , index = features )\n",
    "\n",
    "\n",
    "feature_importance.sort_values(ascending=False).head(20)"
   ]
  },
  {
   "cell_type": "code",
   "execution_count": 369,
   "id": "d30f9304",
   "metadata": {},
   "outputs": [
    {
     "name": "stdout",
     "output_type": "stream",
     "text": [
      "TfidfVectorizer\n",
      "TfidfVectorizer\n",
      "str\n",
      "passthrough topic\n"
     ]
    },
    {
     "name": "stderr",
     "output_type": "stream",
     "text": [
      "C:\\Users\\pinba\\anaconda3\\lib\\site-packages\\ipykernel\\ipkernel.py:287: DeprecationWarning:\n",
      "\n",
      "`should_run_async` will not call `transform_cell` automatically in the future. Please pass the result to `transformed_cell` argument and any exception that happen during thetransform in `preprocessing_exc_tuple` in IPython 7.17 and above.\n",
      "\n"
     ]
    }
   ],
   "source": [
    "# Topic Importance (output)\n",
    "\n",
    "# latent d. hyper parameter\n",
    "#lda = dict(grid_search.best_estimator_.named_steps['union'].transformer_list).get('review').named_steps['lda']\n",
    "topicizer = grid_search.best_estimator_.named_steps['topicizer']\n",
    "topicizer_type = type(topicizer).__name__\n",
    "\n",
    "\n",
    "# vectorizer hyper parameter\n",
    "#vectorizer = dict(grid_search.best_estimator_.named_steps['union'].transformer_list).get('review').named_steps['vectorizer']\n",
    "vectorizer = grid_search.best_estimator_.named_steps['preprocessor']\n",
    "vectorizer_type = type(vectorizer).__name__\n",
    "print(type(vectorizer).__name__)\n",
    "\n",
    "# get feature names based on vectorizer type\n",
    "if 'CountVectorizer' in vectorizer_type:\n",
    "    \n",
    "    print('CountVectorizer')\n",
    "    feature_names = vectorizer.get_feature_names()\n",
    "    \n",
    "elif 'TfidfVectorizer' in vectorizer_type:\n",
    "    print('TfidfVectorizer')\n",
    "    feature_names = vectorizer.get_feature_names()\n",
    "else:\n",
    "    print('Unknown Vectorizer')\n",
    "    feature_names = sorted(vectorizer.vocabulary_.keys())\n",
    "\n",
    "print(topicizer_type)\n",
    "    \n",
    "if \"str\" in topicizer_type:\n",
    "    print('passthrough topic')\n",
    "    \n",
    "else:\n",
    "    # print top topics / features\n",
    "    print_top_words(lda\n",
    "                   ,feature_names\n",
    "                   ,6)\n"
   ]
  },
  {
   "cell_type": "code",
   "execution_count": 301,
   "id": "3786295f",
   "metadata": {},
   "outputs": [
    {
     "name": "stderr",
     "output_type": "stream",
     "text": [
      "C:\\Users\\pinba\\anaconda3\\lib\\site-packages\\ipykernel\\ipkernel.py:287: DeprecationWarning:\n",
      "\n",
      "`should_run_async` will not call `transform_cell` automatically in the future. Please pass the result to `transformed_cell` argument and any exception that happen during thetransform in `preprocessing_exc_tuple` in IPython 7.17 and above.\n",
      "\n"
     ]
    },
    {
     "data": {
      "text/plain": [
       "{'memory': None,\n",
       " 'steps': [('selector_switch', ItemSelector(key='Raw_Review')),\n",
       "  ('preprocessor', TfidfVectorizer(max_features=1000, ngram_range=(2, 4))),\n",
       "  ('topicizer', 'passthrough'),\n",
       "  ('classifier',\n",
       "   XGBClassifier(base_score=0.5, booster='gbtree', colsample_bylevel=1,\n",
       "                 colsample_bynode=1, colsample_bytree=1, gamma=0, gpu_id=-1,\n",
       "                 importance_type='gain', interaction_constraints='',\n",
       "                 learning_rate=0.300000012, max_delta_step=0, max_depth=6,\n",
       "                 min_child_weight=1, missing=nan, monotone_constraints='()',\n",
       "                 n_estimators=10, n_jobs=4, num_parallel_tree=1, random_state=0,\n",
       "                 reg_alpha=0, reg_lambda=1, scale_pos_weight=1, subsample=1,\n",
       "                 tree_method='exact', validate_parameters=1, verbosity=None))],\n",
       " 'verbose': False,\n",
       " 'selector_switch': ItemSelector(key='Raw_Review'),\n",
       " 'preprocessor': TfidfVectorizer(max_features=1000, ngram_range=(2, 4)),\n",
       " 'topicizer': 'passthrough',\n",
       " 'classifier': XGBClassifier(base_score=0.5, booster='gbtree', colsample_bylevel=1,\n",
       "               colsample_bynode=1, colsample_bytree=1, gamma=0, gpu_id=-1,\n",
       "               importance_type='gain', interaction_constraints='',\n",
       "               learning_rate=0.300000012, max_delta_step=0, max_depth=6,\n",
       "               min_child_weight=1, missing=nan, monotone_constraints='()',\n",
       "               n_estimators=10, n_jobs=4, num_parallel_tree=1, random_state=0,\n",
       "               reg_alpha=0, reg_lambda=1, scale_pos_weight=1, subsample=1,\n",
       "               tree_method='exact', validate_parameters=1, verbosity=None),\n",
       " 'selector_switch__key': 'Raw_Review',\n",
       " 'preprocessor__analyzer': 'word',\n",
       " 'preprocessor__binary': False,\n",
       " 'preprocessor__decode_error': 'strict',\n",
       " 'preprocessor__dtype': numpy.float64,\n",
       " 'preprocessor__encoding': 'utf-8',\n",
       " 'preprocessor__input': 'content',\n",
       " 'preprocessor__lowercase': True,\n",
       " 'preprocessor__max_df': 1.0,\n",
       " 'preprocessor__max_features': 1000,\n",
       " 'preprocessor__min_df': 1,\n",
       " 'preprocessor__ngram_range': (2, 4),\n",
       " 'preprocessor__norm': 'l2',\n",
       " 'preprocessor__preprocessor': None,\n",
       " 'preprocessor__smooth_idf': True,\n",
       " 'preprocessor__stop_words': None,\n",
       " 'preprocessor__strip_accents': None,\n",
       " 'preprocessor__sublinear_tf': False,\n",
       " 'preprocessor__token_pattern': '(?u)\\\\b\\\\w\\\\w+\\\\b',\n",
       " 'preprocessor__tokenizer': None,\n",
       " 'preprocessor__use_idf': True,\n",
       " 'preprocessor__vocabulary': None,\n",
       " 'classifier__objective': 'binary:logistic',\n",
       " 'classifier__use_label_encoder': True,\n",
       " 'classifier__base_score': 0.5,\n",
       " 'classifier__booster': 'gbtree',\n",
       " 'classifier__colsample_bylevel': 1,\n",
       " 'classifier__colsample_bynode': 1,\n",
       " 'classifier__colsample_bytree': 1,\n",
       " 'classifier__gamma': 0,\n",
       " 'classifier__gpu_id': -1,\n",
       " 'classifier__importance_type': 'gain',\n",
       " 'classifier__interaction_constraints': '',\n",
       " 'classifier__learning_rate': 0.300000012,\n",
       " 'classifier__max_delta_step': 0,\n",
       " 'classifier__max_depth': 6,\n",
       " 'classifier__min_child_weight': 1,\n",
       " 'classifier__missing': nan,\n",
       " 'classifier__monotone_constraints': '()',\n",
       " 'classifier__n_estimators': 10,\n",
       " 'classifier__n_jobs': 4,\n",
       " 'classifier__num_parallel_tree': 1,\n",
       " 'classifier__random_state': 0,\n",
       " 'classifier__reg_alpha': 0,\n",
       " 'classifier__reg_lambda': 1,\n",
       " 'classifier__scale_pos_weight': 1,\n",
       " 'classifier__subsample': 1,\n",
       " 'classifier__tree_method': 'exact',\n",
       " 'classifier__validate_parameters': 1,\n",
       " 'classifier__verbosity': None}"
      ]
     },
     "execution_count": 301,
     "metadata": {},
     "output_type": "execute_result"
    }
   ],
   "source": [
    "#print(best_parameters)\n",
    "best_parameters"
   ]
  }
 ],
 "metadata": {
  "kernelspec": {
   "display_name": "Python 3",
   "language": "python",
   "name": "python3"
  },
  "language_info": {
   "codemirror_mode": {
    "name": "ipython",
    "version": 3
   },
   "file_extension": ".py",
   "mimetype": "text/x-python",
   "name": "python",
   "nbconvert_exporter": "python",
   "pygments_lexer": "ipython3",
   "version": "3.8.8"
  }
 },
 "nbformat": 4,
 "nbformat_minor": 5
}
